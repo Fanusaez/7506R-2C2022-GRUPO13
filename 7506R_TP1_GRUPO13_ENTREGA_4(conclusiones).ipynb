{
 "cells": [
  {
   "cell_type": "markdown",
   "metadata": {},
   "source": [
    "# Conslusiones"
   ]
  },
  {
   "cell_type": "markdown",
   "metadata": {},
   "source": [
    "Tras revisar el analisis realizado durante el Trabajo Practico a las viviendas de la Ciudad Autonoma de Buenos Aires, logramos identificar patrones que se corresponden a la realidad segun nuestro criterio."
   ]
  },
  {
   "cell_type": "markdown",
   "metadata": {},
   "source": [
    "En la exploracion inicial, notamos fallas en la carga de los datos, como pueden ser viviendas que al ser buscadas con su latitud y longitud figuraban en otra provincia. \n",
    "En cuanto a los datos faltantes, encontramos que la mayoria de los registros no poseian barrio por lo que concluimos que el dataset estaba incompleto, tambien nos encontramos con mucha numerosidad de outliers.\n",
    "Nuestra conclusion respecto a esto fue que el dataset utilizado no fue fiable en su totalidad."
   ]
  },
  {
   "cell_type": "markdown",
   "metadata": {},
   "source": [
    "Viendo el resultado de las clasificaciones, notamos que las variables de mayor importancia en el precio por metro cuadrado de las viviendas es la latitud y longitud, lo que nos da a entender que el factor mas importante del precio por metro cuadrado es la ubicacion. Cosa que coincide con la realidad\n",
    "\n",
    "Tambien al generar el target precio por metro cuadrado y viendo la posicion de las viviendas, se ve como las partes este y norte de la ciudad son las que contienen las viviendas de mayor costo sobre dimension, cuyas zonas recaen en Puerto Madero, Belgrano y Palermo, entre otras."
   ]
  },
  {
   "cell_type": "markdown",
   "metadata": {},
   "source": [
    "Comparando los resultados entre la clasificacion y la regresion, KNN nos resulto muy util para una prediccion del costo/dimension, pero en cuanto al costo total, el modelo no fue optimo. Esto se debe a que mirar los \"n\" vecinos para predecir un costo total es muy dificil ya que podrian ser distintas en tamaño, cantidad de baños, etc. En cambio observar al vecino cuando el factor principal es la ubicacion es mas consistente. "
   ]
  }
 ],
 "metadata": {
  "kernelspec": {
   "display_name": "Python 3.8.10 64-bit",
   "language": "python",
   "name": "python3"
  },
  "language_info": {
   "name": "python",
   "version": "3.8.10"
  },
  "orig_nbformat": 4,
  "vscode": {
   "interpreter": {
    "hash": "916dbcbb3f70747c44a77c7bcd40155683ae19c65e1c03b4aa3499c5328201f1"
   }
  }
 },
 "nbformat": 4,
 "nbformat_minor": 2
}
