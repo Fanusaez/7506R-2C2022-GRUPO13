{
 "cells": [
  {
   "cell_type": "markdown",
   "metadata": {},
   "source": [
    "# Importe de Librerias"
   ]
  },
  {
   "cell_type": "code",
   "execution_count": 1,
   "metadata": {},
   "outputs": [],
   "source": [
    "import numpy as np \n",
    "import pandas as pd\n",
    "from collections import defaultdict\n",
    "\n",
    "import matplotlib.pyplot as plt\n",
    "import seaborn as sns\n",
    "import xgboost as xgb\n",
    "import plotly.graph_objects as go\n",
    "%matplotlib inline\n",
    "\n",
    "from sklearn.ensemble import RandomForestClassifier \n",
    "from sklearn.linear_model import LogisticRegression \n",
    "from sklearn.neighbors import KNeighborsClassifier\n",
    "from sklearn.tree import DecisionTreeClassifier\n",
    "from sklearn.svm import SVC\n",
    "from sklearn.neural_network import MLPClassifier\n",
    "from sklearn.linear_model import LogisticRegressionCV\n",
    "from sklearn.neighbors import KNeighborsRegressor\n",
    "\n",
    "from sklearn.model_selection import cross_val_score, RepeatedStratifiedKFold\n",
    "from sklearn.datasets import make_classification\n",
    "from sklearn.model_selection import train_test_split, StratifiedKFold, KFold,RandomizedSearchCV,GridSearchCV\n",
    "from sklearn.metrics import accuracy_score, confusion_matrix, classification_report , f1_score, recall_score, precision_score, mean_squared_error, r2_score\n",
    "\n",
    "from sklearn.preprocessing import StandardScaler\n",
    "from sklearn.metrics import make_scorer,f1_score\n",
    "from sklearn.ensemble import VotingClassifier, StackingRegressor\n",
    "from sklearn import metrics\n",
    "from sklearn.ensemble import GradientBoostingRegressor, RandomForestRegressor\n"
   ]
  },
  {
   "cell_type": "markdown",
   "metadata": {},
   "source": [
    "# Ensambles de modelos"
   ]
  },
  {
   "cell_type": "markdown",
   "metadata": {},
   "source": [
    "## Preparamos los datasets para trabajar"
   ]
  },
  {
   "cell_type": "code",
   "execution_count": 2,
   "metadata": {},
   "outputs": [],
   "source": [
    "ds_train = pd.read_csv('properati_argentina_train.csv')\n",
    "ds_test = pd.read_csv('properati_argentina_test.csv')"
   ]
  },
  {
   "cell_type": "code",
   "execution_count": 3,
   "metadata": {},
   "outputs": [
    {
     "data": {
      "text/html": [
       "<div>\n",
       "<style scoped>\n",
       "    .dataframe tbody tr th:only-of-type {\n",
       "        vertical-align: middle;\n",
       "    }\n",
       "\n",
       "    .dataframe tbody tr th {\n",
       "        vertical-align: top;\n",
       "    }\n",
       "\n",
       "    .dataframe thead th {\n",
       "        text-align: right;\n",
       "    }\n",
       "</style>\n",
       "<table border=\"1\" class=\"dataframe\">\n",
       "  <thead>\n",
       "    <tr style=\"text-align: right;\">\n",
       "      <th></th>\n",
       "      <th>Unnamed: 0</th>\n",
       "      <th>id</th>\n",
       "      <th>latitud</th>\n",
       "      <th>longitud</th>\n",
       "      <th>property_type</th>\n",
       "      <th>property_rooms</th>\n",
       "      <th>property_bedrooms</th>\n",
       "      <th>property_surface_total</th>\n",
       "      <th>property_surface_covered</th>\n",
       "      <th>property_price</th>\n",
       "      <th>precioxm2_relativo_q</th>\n",
       "    </tr>\n",
       "  </thead>\n",
       "  <tbody>\n",
       "    <tr>\n",
       "      <th>0</th>\n",
       "      <td>0</td>\n",
       "      <td>CLj2GNCsBreAzTKFXCaLIQ==</td>\n",
       "      <td>-34.601807</td>\n",
       "      <td>-58.469965</td>\n",
       "      <td>Departamento</td>\n",
       "      <td>2.0</td>\n",
       "      <td>1.0</td>\n",
       "      <td>53.0</td>\n",
       "      <td>49.0</td>\n",
       "      <td>80000.0</td>\n",
       "      <td>bajo</td>\n",
       "    </tr>\n",
       "    <tr>\n",
       "      <th>1</th>\n",
       "      <td>1</td>\n",
       "      <td>TvqKIPzzT1urYfVhh8tC7w==</td>\n",
       "      <td>-34.580088</td>\n",
       "      <td>-58.424965</td>\n",
       "      <td>Departamento</td>\n",
       "      <td>2.0</td>\n",
       "      <td>1.0</td>\n",
       "      <td>35.0</td>\n",
       "      <td>35.0</td>\n",
       "      <td>79900.0</td>\n",
       "      <td>medio</td>\n",
       "    </tr>\n",
       "    <tr>\n",
       "      <th>2</th>\n",
       "      <td>2</td>\n",
       "      <td>QRs3RUjw1RS5/WRne8ApbA==</td>\n",
       "      <td>-34.551481</td>\n",
       "      <td>-58.452358</td>\n",
       "      <td>Departamento</td>\n",
       "      <td>1.0</td>\n",
       "      <td>1.0</td>\n",
       "      <td>25.0</td>\n",
       "      <td>20.0</td>\n",
       "      <td>69000.0</td>\n",
       "      <td>medio</td>\n",
       "    </tr>\n",
       "    <tr>\n",
       "      <th>3</th>\n",
       "      <td>3</td>\n",
       "      <td>ju90QBsV36i7DCOOWCJpaA==</td>\n",
       "      <td>-34.632290</td>\n",
       "      <td>-58.464844</td>\n",
       "      <td>Departamento</td>\n",
       "      <td>5.0</td>\n",
       "      <td>3.0</td>\n",
       "      <td>75.0</td>\n",
       "      <td>75.0</td>\n",
       "      <td>150000.0</td>\n",
       "      <td>medio</td>\n",
       "    </tr>\n",
       "    <tr>\n",
       "      <th>4</th>\n",
       "      <td>4</td>\n",
       "      <td>uxD4SK3jtGbmxfIlN03UMQ==</td>\n",
       "      <td>-34.549279</td>\n",
       "      <td>-58.463074</td>\n",
       "      <td>Departamento</td>\n",
       "      <td>2.0</td>\n",
       "      <td>1.0</td>\n",
       "      <td>46.0</td>\n",
       "      <td>34.0</td>\n",
       "      <td>85000.0</td>\n",
       "      <td>bajo</td>\n",
       "    </tr>\n",
       "  </tbody>\n",
       "</table>\n",
       "</div>"
      ],
      "text/plain": [
       "   Unnamed: 0                        id    latitud   longitud property_type  \\\n",
       "0           0  CLj2GNCsBreAzTKFXCaLIQ== -34.601807 -58.469965  Departamento   \n",
       "1           1  TvqKIPzzT1urYfVhh8tC7w== -34.580088 -58.424965  Departamento   \n",
       "2           2  QRs3RUjw1RS5/WRne8ApbA== -34.551481 -58.452358  Departamento   \n",
       "3           3  ju90QBsV36i7DCOOWCJpaA== -34.632290 -58.464844  Departamento   \n",
       "4           4  uxD4SK3jtGbmxfIlN03UMQ== -34.549279 -58.463074  Departamento   \n",
       "\n",
       "   property_rooms  property_bedrooms  property_surface_total  \\\n",
       "0             2.0                1.0                    53.0   \n",
       "1             2.0                1.0                    35.0   \n",
       "2             1.0                1.0                    25.0   \n",
       "3             5.0                3.0                    75.0   \n",
       "4             2.0                1.0                    46.0   \n",
       "\n",
       "   property_surface_covered  property_price precioxm2_relativo_q  \n",
       "0                      49.0         80000.0                 bajo  \n",
       "1                      35.0         79900.0                medio  \n",
       "2                      20.0         69000.0                medio  \n",
       "3                      75.0        150000.0                medio  \n",
       "4                      34.0         85000.0                 bajo  "
      ]
     },
     "execution_count": 3,
     "metadata": {},
     "output_type": "execute_result"
    }
   ],
   "source": [
    "ds_train.head()"
   ]
  },
  {
   "cell_type": "code",
   "execution_count": 4,
   "metadata": {},
   "outputs": [
    {
     "data": {
      "text/html": [
       "<div>\n",
       "<style scoped>\n",
       "    .dataframe tbody tr th:only-of-type {\n",
       "        vertical-align: middle;\n",
       "    }\n",
       "\n",
       "    .dataframe tbody tr th {\n",
       "        vertical-align: top;\n",
       "    }\n",
       "\n",
       "    .dataframe thead th {\n",
       "        text-align: right;\n",
       "    }\n",
       "</style>\n",
       "<table border=\"1\" class=\"dataframe\">\n",
       "  <thead>\n",
       "    <tr style=\"text-align: right;\">\n",
       "      <th></th>\n",
       "      <th>Unnamed: 0</th>\n",
       "      <th>id</th>\n",
       "      <th>latitud</th>\n",
       "      <th>longitud</th>\n",
       "      <th>property_type</th>\n",
       "      <th>property_rooms</th>\n",
       "      <th>property_bedrooms</th>\n",
       "      <th>property_surface_total</th>\n",
       "      <th>property_surface_covered</th>\n",
       "      <th>property_price</th>\n",
       "      <th>precioxm2_relativo_q</th>\n",
       "    </tr>\n",
       "  </thead>\n",
       "  <tbody>\n",
       "    <tr>\n",
       "      <th>0</th>\n",
       "      <td>0</td>\n",
       "      <td>1MIZ1gFNRkTXELdcBl+opQ==</td>\n",
       "      <td>-34.598679</td>\n",
       "      <td>-58.499717</td>\n",
       "      <td>Departamento</td>\n",
       "      <td>1.0</td>\n",
       "      <td>1.0</td>\n",
       "      <td>38.0</td>\n",
       "      <td>28.0</td>\n",
       "      <td>85000.0</td>\n",
       "      <td>medio</td>\n",
       "    </tr>\n",
       "    <tr>\n",
       "      <th>1</th>\n",
       "      <td>1</td>\n",
       "      <td>hi5vMb1IpzsBoUGGVGPCXA==</td>\n",
       "      <td>-34.574987</td>\n",
       "      <td>-58.420611</td>\n",
       "      <td>Departamento</td>\n",
       "      <td>2.0</td>\n",
       "      <td>1.0</td>\n",
       "      <td>150.0</td>\n",
       "      <td>70.0</td>\n",
       "      <td>520000.0</td>\n",
       "      <td>alto</td>\n",
       "    </tr>\n",
       "    <tr>\n",
       "      <th>2</th>\n",
       "      <td>2</td>\n",
       "      <td>f57uQb0jzaTRg98/B71HOg==</td>\n",
       "      <td>-34.586527</td>\n",
       "      <td>-58.398279</td>\n",
       "      <td>Departamento</td>\n",
       "      <td>2.0</td>\n",
       "      <td>1.0</td>\n",
       "      <td>43.0</td>\n",
       "      <td>41.0</td>\n",
       "      <td>87000.0</td>\n",
       "      <td>medio</td>\n",
       "    </tr>\n",
       "    <tr>\n",
       "      <th>3</th>\n",
       "      <td>3</td>\n",
       "      <td>gsO2peJbSoSQ0hI1E5TH8g==</td>\n",
       "      <td>-34.577647</td>\n",
       "      <td>-58.406064</td>\n",
       "      <td>Departamento</td>\n",
       "      <td>4.0</td>\n",
       "      <td>3.0</td>\n",
       "      <td>130.0</td>\n",
       "      <td>118.0</td>\n",
       "      <td>690000.0</td>\n",
       "      <td>alto</td>\n",
       "    </tr>\n",
       "    <tr>\n",
       "      <th>4</th>\n",
       "      <td>4</td>\n",
       "      <td>4cnMe44uQLFiAnBC1SXjUg==</td>\n",
       "      <td>-34.560998</td>\n",
       "      <td>-58.464248</td>\n",
       "      <td>Departamento</td>\n",
       "      <td>1.0</td>\n",
       "      <td>1.0</td>\n",
       "      <td>33.0</td>\n",
       "      <td>29.0</td>\n",
       "      <td>95000.0</td>\n",
       "      <td>alto</td>\n",
       "    </tr>\n",
       "  </tbody>\n",
       "</table>\n",
       "</div>"
      ],
      "text/plain": [
       "   Unnamed: 0                        id    latitud   longitud property_type  \\\n",
       "0           0  1MIZ1gFNRkTXELdcBl+opQ== -34.598679 -58.499717  Departamento   \n",
       "1           1  hi5vMb1IpzsBoUGGVGPCXA== -34.574987 -58.420611  Departamento   \n",
       "2           2  f57uQb0jzaTRg98/B71HOg== -34.586527 -58.398279  Departamento   \n",
       "3           3  gsO2peJbSoSQ0hI1E5TH8g== -34.577647 -58.406064  Departamento   \n",
       "4           4  4cnMe44uQLFiAnBC1SXjUg== -34.560998 -58.464248  Departamento   \n",
       "\n",
       "   property_rooms  property_bedrooms  property_surface_total  \\\n",
       "0             1.0                1.0                    38.0   \n",
       "1             2.0                1.0                   150.0   \n",
       "2             2.0                1.0                    43.0   \n",
       "3             4.0                3.0                   130.0   \n",
       "4             1.0                1.0                    33.0   \n",
       "\n",
       "   property_surface_covered  property_price precioxm2_relativo_q  \n",
       "0                      28.0         85000.0                medio  \n",
       "1                      70.0        520000.0                 alto  \n",
       "2                      41.0         87000.0                medio  \n",
       "3                     118.0        690000.0                 alto  \n",
       "4                      29.0         95000.0                 alto  "
      ]
     },
     "execution_count": 4,
     "metadata": {},
     "output_type": "execute_result"
    }
   ],
   "source": [
    "ds_test.head()"
   ]
  },
  {
   "cell_type": "markdown",
   "metadata": {},
   "source": [
    "Elimino columnas \n",
    "\n",
    "- id no aporta nada en esta seccion del TP\n",
    "- Unnamed: 0 "
   ]
  },
  {
   "cell_type": "code",
   "execution_count": 5,
   "metadata": {},
   "outputs": [],
   "source": [
    "columnas_a_eliminar = [\"id\", \"Unnamed: 0\"]\n",
    "\n",
    "ds_train.drop(columns = columnas_a_eliminar, inplace=True)\n",
    "ds_test.drop(columns = columnas_a_eliminar, inplace=True)\n",
    "\n",
    "#cambio nombre a precioxm2_relativo_q\n",
    "ds_train.rename(columns={\"precioxm2_relativo_q\":\"tipo_precio\"}, inplace=True)\n",
    "ds_test.rename(columns={\"precioxm2_relativo_q\":\"tipo_precio\"}, inplace=True)"
   ]
  },
  {
   "cell_type": "markdown",
   "metadata": {},
   "source": [
    "#### Ingenieria de caracteristicas"
   ]
  },
  {
   "cell_type": "markdown",
   "metadata": {},
   "source": [
    "Realizo dummies a la variable prperty_type"
   ]
  },
  {
   "cell_type": "code",
   "execution_count": 6,
   "metadata": {},
   "outputs": [],
   "source": [
    "ds_train = pd.get_dummies(ds_train, columns=[\"property_type\"], drop_first=True)\n",
    "ds_test =  pd.get_dummies(ds_test, columns=[\"property_type\"], drop_first=True)"
   ]
  },
  {
   "cell_type": "markdown",
   "metadata": {},
   "source": [
    "Normalizo valores variables cantitativas"
   ]
  },
  {
   "cell_type": "code",
   "execution_count": 7,
   "metadata": {},
   "outputs": [],
   "source": [
    "columnas_elegidas = ['property_rooms', 'property_bedrooms', 'property_surface_total', \"property_surface_covered\", \"latitud\", \"longitud\"]\n",
    "sc = StandardScaler()\n",
    "\n",
    "#estandarizo variables cuantitativas en train\n",
    "x = ds_train.loc[:, columnas_elegidas].values\n",
    "x = sc.fit_transform(x)\n",
    "ds_train[columnas_elegidas] = x \n",
    "\n",
    "#estandarizo variables cuantitativas en test\n",
    "y = ds_test.loc[:, columnas_elegidas].values\n",
    "y = sc.transform(y)\n",
    "ds_test[columnas_elegidas] = y\n"
   ]
  },
  {
   "cell_type": "code",
   "execution_count": 8,
   "metadata": {},
   "outputs": [
    {
     "data": {
      "text/html": [
       "<div>\n",
       "<style scoped>\n",
       "    .dataframe tbody tr th:only-of-type {\n",
       "        vertical-align: middle;\n",
       "    }\n",
       "\n",
       "    .dataframe tbody tr th {\n",
       "        vertical-align: top;\n",
       "    }\n",
       "\n",
       "    .dataframe thead th {\n",
       "        text-align: right;\n",
       "    }\n",
       "</style>\n",
       "<table border=\"1\" class=\"dataframe\">\n",
       "  <thead>\n",
       "    <tr style=\"text-align: right;\">\n",
       "      <th></th>\n",
       "      <th>latitud</th>\n",
       "      <th>longitud</th>\n",
       "      <th>property_rooms</th>\n",
       "      <th>property_bedrooms</th>\n",
       "      <th>property_surface_total</th>\n",
       "      <th>property_surface_covered</th>\n",
       "      <th>property_price</th>\n",
       "      <th>tipo_precio</th>\n",
       "      <th>property_type_Departamento</th>\n",
       "      <th>property_type_PH</th>\n",
       "    </tr>\n",
       "  </thead>\n",
       "  <tbody>\n",
       "    <tr>\n",
       "      <th>0</th>\n",
       "      <td>-0.226971</td>\n",
       "      <td>-0.843338</td>\n",
       "      <td>-0.572024</td>\n",
       "      <td>-0.901181</td>\n",
       "      <td>-0.360814</td>\n",
       "      <td>-0.422360</td>\n",
       "      <td>80000.0</td>\n",
       "      <td>bajo</td>\n",
       "      <td>1</td>\n",
       "      <td>0</td>\n",
       "    </tr>\n",
       "    <tr>\n",
       "      <th>1</th>\n",
       "      <td>0.613885</td>\n",
       "      <td>0.359192</td>\n",
       "      <td>-0.572024</td>\n",
       "      <td>-0.901181</td>\n",
       "      <td>-0.611332</td>\n",
       "      <td>-0.761908</td>\n",
       "      <td>79900.0</td>\n",
       "      <td>medio</td>\n",
       "      <td>1</td>\n",
       "      <td>0</td>\n",
       "    </tr>\n",
       "    <tr>\n",
       "      <th>2</th>\n",
       "      <td>1.721401</td>\n",
       "      <td>-0.372818</td>\n",
       "      <td>-1.448310</td>\n",
       "      <td>-0.901181</td>\n",
       "      <td>-0.750509</td>\n",
       "      <td>-1.125710</td>\n",
       "      <td>69000.0</td>\n",
       "      <td>medio</td>\n",
       "      <td>1</td>\n",
       "      <td>0</td>\n",
       "    </tr>\n",
       "    <tr>\n",
       "      <th>3</th>\n",
       "      <td>-1.407153</td>\n",
       "      <td>-0.706479</td>\n",
       "      <td>2.056835</td>\n",
       "      <td>1.409468</td>\n",
       "      <td>-0.054625</td>\n",
       "      <td>0.208230</td>\n",
       "      <td>150000.0</td>\n",
       "      <td>medio</td>\n",
       "      <td>1</td>\n",
       "      <td>0</td>\n",
       "    </tr>\n",
       "    <tr>\n",
       "      <th>4</th>\n",
       "      <td>1.806656</td>\n",
       "      <td>-0.659172</td>\n",
       "      <td>-0.572024</td>\n",
       "      <td>-0.901181</td>\n",
       "      <td>-0.458238</td>\n",
       "      <td>-0.786162</td>\n",
       "      <td>85000.0</td>\n",
       "      <td>bajo</td>\n",
       "      <td>1</td>\n",
       "      <td>0</td>\n",
       "    </tr>\n",
       "  </tbody>\n",
       "</table>\n",
       "</div>"
      ],
      "text/plain": [
       "    latitud  longitud  property_rooms  property_bedrooms  \\\n",
       "0 -0.226971 -0.843338       -0.572024          -0.901181   \n",
       "1  0.613885  0.359192       -0.572024          -0.901181   \n",
       "2  1.721401 -0.372818       -1.448310          -0.901181   \n",
       "3 -1.407153 -0.706479        2.056835           1.409468   \n",
       "4  1.806656 -0.659172       -0.572024          -0.901181   \n",
       "\n",
       "   property_surface_total  property_surface_covered  property_price  \\\n",
       "0               -0.360814                 -0.422360         80000.0   \n",
       "1               -0.611332                 -0.761908         79900.0   \n",
       "2               -0.750509                 -1.125710         69000.0   \n",
       "3               -0.054625                  0.208230        150000.0   \n",
       "4               -0.458238                 -0.786162         85000.0   \n",
       "\n",
       "  tipo_precio  property_type_Departamento  property_type_PH  \n",
       "0        bajo                           1                 0  \n",
       "1       medio                           1                 0  \n",
       "2       medio                           1                 0  \n",
       "3       medio                           1                 0  \n",
       "4        bajo                           1                 0  "
      ]
     },
     "execution_count": 8,
     "metadata": {},
     "output_type": "execute_result"
    }
   ],
   "source": [
    "ds_train.head()"
   ]
  },
  {
   "cell_type": "code",
   "execution_count": 9,
   "metadata": {},
   "outputs": [
    {
     "data": {
      "text/html": [
       "<div>\n",
       "<style scoped>\n",
       "    .dataframe tbody tr th:only-of-type {\n",
       "        vertical-align: middle;\n",
       "    }\n",
       "\n",
       "    .dataframe tbody tr th {\n",
       "        vertical-align: top;\n",
       "    }\n",
       "\n",
       "    .dataframe thead th {\n",
       "        text-align: right;\n",
       "    }\n",
       "</style>\n",
       "<table border=\"1\" class=\"dataframe\">\n",
       "  <thead>\n",
       "    <tr style=\"text-align: right;\">\n",
       "      <th></th>\n",
       "      <th>latitud</th>\n",
       "      <th>longitud</th>\n",
       "      <th>property_rooms</th>\n",
       "      <th>property_bedrooms</th>\n",
       "      <th>property_surface_total</th>\n",
       "      <th>property_surface_covered</th>\n",
       "      <th>property_price</th>\n",
       "      <th>tipo_precio</th>\n",
       "      <th>property_type_Departamento</th>\n",
       "      <th>property_type_PH</th>\n",
       "    </tr>\n",
       "  </thead>\n",
       "  <tbody>\n",
       "    <tr>\n",
       "      <th>0</th>\n",
       "      <td>-0.105881</td>\n",
       "      <td>-1.638376</td>\n",
       "      <td>-1.448310</td>\n",
       "      <td>-0.901181</td>\n",
       "      <td>-0.569579</td>\n",
       "      <td>-0.931682</td>\n",
       "      <td>85000.0</td>\n",
       "      <td>medio</td>\n",
       "      <td>1</td>\n",
       "      <td>0</td>\n",
       "    </tr>\n",
       "    <tr>\n",
       "      <th>1</th>\n",
       "      <td>0.811376</td>\n",
       "      <td>0.475542</td>\n",
       "      <td>-0.572024</td>\n",
       "      <td>-0.901181</td>\n",
       "      <td>0.989200</td>\n",
       "      <td>0.086963</td>\n",
       "      <td>520000.0</td>\n",
       "      <td>alto</td>\n",
       "      <td>1</td>\n",
       "      <td>0</td>\n",
       "    </tr>\n",
       "    <tr>\n",
       "      <th>2</th>\n",
       "      <td>0.364577</td>\n",
       "      <td>1.072312</td>\n",
       "      <td>-0.572024</td>\n",
       "      <td>-0.901181</td>\n",
       "      <td>-0.499991</td>\n",
       "      <td>-0.616388</td>\n",
       "      <td>87000.0</td>\n",
       "      <td>medio</td>\n",
       "      <td>1</td>\n",
       "      <td>0</td>\n",
       "    </tr>\n",
       "    <tr>\n",
       "      <th>3</th>\n",
       "      <td>0.708381</td>\n",
       "      <td>0.864258</td>\n",
       "      <td>1.180548</td>\n",
       "      <td>1.409468</td>\n",
       "      <td>0.710847</td>\n",
       "      <td>1.251129</td>\n",
       "      <td>690000.0</td>\n",
       "      <td>alto</td>\n",
       "      <td>1</td>\n",
       "      <td>0</td>\n",
       "    </tr>\n",
       "    <tr>\n",
       "      <th>4</th>\n",
       "      <td>1.352950</td>\n",
       "      <td>-0.690547</td>\n",
       "      <td>-1.448310</td>\n",
       "      <td>-0.901181</td>\n",
       "      <td>-0.639168</td>\n",
       "      <td>-0.907429</td>\n",
       "      <td>95000.0</td>\n",
       "      <td>alto</td>\n",
       "      <td>1</td>\n",
       "      <td>0</td>\n",
       "    </tr>\n",
       "  </tbody>\n",
       "</table>\n",
       "</div>"
      ],
      "text/plain": [
       "    latitud  longitud  property_rooms  property_bedrooms  \\\n",
       "0 -0.105881 -1.638376       -1.448310          -0.901181   \n",
       "1  0.811376  0.475542       -0.572024          -0.901181   \n",
       "2  0.364577  1.072312       -0.572024          -0.901181   \n",
       "3  0.708381  0.864258        1.180548           1.409468   \n",
       "4  1.352950 -0.690547       -1.448310          -0.901181   \n",
       "\n",
       "   property_surface_total  property_surface_covered  property_price  \\\n",
       "0               -0.569579                 -0.931682         85000.0   \n",
       "1                0.989200                  0.086963        520000.0   \n",
       "2               -0.499991                 -0.616388         87000.0   \n",
       "3                0.710847                  1.251129        690000.0   \n",
       "4               -0.639168                 -0.907429         95000.0   \n",
       "\n",
       "  tipo_precio  property_type_Departamento  property_type_PH  \n",
       "0       medio                           1                 0  \n",
       "1        alto                           1                 0  \n",
       "2       medio                           1                 0  \n",
       "3        alto                           1                 0  \n",
       "4        alto                           1                 0  "
      ]
     },
     "execution_count": 9,
     "metadata": {},
     "output_type": "execute_result"
    }
   ],
   "source": [
    "ds_test.head()"
   ]
  },
  {
   "cell_type": "markdown",
   "metadata": {},
   "source": [
    "## Voting"
   ]
  },
  {
   "cell_type": "markdown",
   "metadata": {},
   "source": [
    "Para voting voy a utilizar 3 modelos de clasificacion.\n",
    "- Arbol de decisicion\n",
    "- Random forest\n",
    "- KNN"
   ]
  },
  {
   "cell_type": "markdown",
   "metadata": {},
   "source": [
    "### Arbol de decision"
   ]
  },
  {
   "cell_type": "markdown",
   "metadata": {},
   "source": [
    "Elegimos las columnas que vamos a utilizar "
   ]
  },
  {
   "cell_type": "code",
   "execution_count": 10,
   "metadata": {},
   "outputs": [],
   "source": [
    "features = [\"latitud\", \"longitud\", 'property_rooms', 'property_bedrooms', 'property_surface_total', \"property_surface_covered\", \"property_type_Departamento\", \"property_type_PH\"]\n",
    "\n",
    "target = [\"tipo_precio\"]"
   ]
  },
  {
   "cell_type": "code",
   "execution_count": 11,
   "metadata": {},
   "outputs": [],
   "source": [
    "#train\n",
    "x_train = ds_train[features]\n",
    "y_train = ds_train[target]\n",
    "\n",
    "#test\n",
    "x_test= ds_test[features]\n",
    "y_test= ds_test[target]"
   ]
  },
  {
   "cell_type": "markdown",
   "metadata": {},
   "source": [
    "#### Optimizacion de Hiperparametros"
   ]
  },
  {
   "cell_type": "code",
   "execution_count": 12,
   "metadata": {},
   "outputs": [],
   "source": [
    "def optimizar_parametros(ds_train_x, ds_train_y):\n",
    "    #Cantidad de combinaciones que quiero porbar\n",
    "    n=20 \n",
    "\n",
    "    #Conjunto de parámetros que quiero usar\n",
    "    params_grid = {'criterion':['gini','entropy'],\n",
    "                'min_samples_leaf':list(range(1,10)),\n",
    "                'min_samples_split': list(range(12,20)),\n",
    "                'ccp_alpha':np.linspace(0.001,0.005,n), \n",
    "                'max_depth':list(range(2,10))}\n",
    "                    \n",
    "    #Cantidad de splits para el Cross Validation\n",
    "    folds=10\n",
    "\n",
    "    #Kfold estratificado\n",
    "    kfoldcv = StratifiedKFold(n_splits=folds)\n",
    "\n",
    "    #Clasificador\n",
    "    base_tree = DecisionTreeClassifier() \n",
    "\n",
    "    #Metrica que quiero optimizar F1 Score\n",
    "    scorer_fn = make_scorer(f1_score, average='micro')\n",
    "\n",
    "    #Random Search Cross Validation\n",
    "    randomcv = RandomizedSearchCV(estimator=base_tree,\n",
    "                                param_distributions = params_grid,\n",
    "                                scoring=scorer_fn,\n",
    "                                cv=kfoldcv,\n",
    "                                n_iter=n,\n",
    "                                random_state=1) \n",
    "\n",
    "\n",
    "    return randomcv.fit(ds_train_x,ds_train_y)\n",
    "\n",
    "randomcv_tree = optimizar_parametros(x_train, y_train)"
   ]
  },
  {
   "cell_type": "markdown",
   "metadata": {},
   "source": [
    "- Utilizamos Random Serch dado que si bien Grid search es capaz de encontrar todas las combinaciones, el tiempo de ejecucion es demasiado alto y ademas las metricas no mejoran radicalmente. Utilizo una cantidad de 10 combinaciones\n",
    "\n",
    "- Para buscar los parametros consideramos utilizar f1-score dado que combina las medidas de precision y recall en un sólo valor. Esto es práctico porque hace más fácil el poder comparar el rendimiento combinado de la precisión y la exhaustividad entre varias soluciones\n"
   ]
  },
  {
   "cell_type": "code",
   "execution_count": 13,
   "metadata": {},
   "outputs": [
    {
     "name": "stdout",
     "output_type": "stream",
     "text": [
      "Para el dataset completo, obtuvimos que los mejores hiperparametros del arbol son: {'min_samples_split': 17, 'min_samples_leaf': 5, 'max_depth': 6, 'criterion': 'entropy', 'ccp_alpha': 0.002263157894736842}\n",
      "Y el f1-score que obtuvimos en el dataset completo para los datos de entrenamiento fue de: 0.5750308871072931\n"
     ]
    }
   ],
   "source": [
    "#Mejores hiperparametros del arbol\n",
    "print(\"Para el dataset completo, obtuvimos que los mejores hiperparametros del arbol son: \" + str(randomcv_tree.best_params_))\n",
    "#Mejor métrica\n",
    "print(\"Y el f1-score que obtuvimos en el dataset completo para los datos de entrenamiento fue de: \" + str(randomcv_tree.best_score_))"
   ]
  },
  {
   "cell_type": "markdown",
   "metadata": {},
   "source": [
    "Seleccionamos el mejor modelo"
   ]
  },
  {
   "cell_type": "code",
   "execution_count": 14,
   "metadata": {},
   "outputs": [],
   "source": [
    "best_tree = DecisionTreeClassifier().set_params(**randomcv_tree.best_params_)"
   ]
  },
  {
   "cell_type": "markdown",
   "metadata": {},
   "source": [
    "### Random Forest"
   ]
  },
  {
   "cell_type": "markdown",
   "metadata": {},
   "source": [
    "#### Optimizacon de parametros"
   ]
  },
  {
   "cell_type": "code",
   "execution_count": 15,
   "metadata": {},
   "outputs": [
    {
     "name": "stderr",
     "output_type": "stream",
     "text": [
      "c:\\Users\\Equipo de fabrica\\anaconda3\\lib\\site-packages\\sklearn\\model_selection\\_search.py:880: DataConversionWarning: A column-vector y was passed when a 1d array was expected. Please change the shape of y to (n_samples,), for example using ravel().\n",
      "  self.best_estimator_.fit(X, y, **fit_params)\n"
     ]
    }
   ],
   "source": [
    "def optimizar_parametros_rf(ds_train_x, ds_train_y):\n",
    "    \n",
    "    #Cantidad de combinaciones que quiero porbar\n",
    "    n=20\n",
    "\n",
    "\n",
    "    param_grid_rf = {'criterion':['gini','entropy'],\n",
    "                'min_samples_leaf':list(range(1,10)),\n",
    "                'min_samples_split': list(range(12,20)),\n",
    "                'ccp_alpha':np.linspace(0.001,0.005,n), \n",
    "                'max_depth':list(range(2,10))}\n",
    "\n",
    "    #Cantidad de splits para el Cross Validation\n",
    "    folds=10\n",
    "\n",
    "    #Kfold estratificado\n",
    "    kfoldcv = StratifiedKFold(n_splits=folds)\n",
    "\n",
    "    #Clasificador\n",
    "    base_tree_rf = RandomForestClassifier()#n_estimators=648\n",
    "\n",
    "\n",
    "    #Metrica que quiero optimizar F1 Score\n",
    "    scorer_fn = make_scorer(f1_score, average='micro')\n",
    "\n",
    "    randomcv_rf = RandomizedSearchCV(   estimator=base_tree_rf,\n",
    "                                        param_distributions = param_grid_rf,\n",
    "                                        cv=kfoldcv,\n",
    "                                        scoring = scorer_fn,\n",
    "                                        n_jobs=-1,\n",
    "                                        random_state=1)\n",
    "\n",
    "    return randomcv_rf.fit(ds_train_x, ds_train_y)\n",
    "\n",
    "\n",
    "\n",
    "randomcv_rf = optimizar_parametros_rf(x_train, y_train)"
   ]
  },
  {
   "cell_type": "markdown",
   "metadata": {},
   "source": [
    "- Utilizamos Random Serch dado que si bien Grid search es capaz de encontrar todas las combinaciones, el tiempo de ejecucion es demasiado alto y ademas las metricas no mejoran radicalmente. Utilizo una cantidad de 10 combinaciones\n",
    "\n",
    "- Para buscar los parametros consideramos utilizar f1-score dado que combina las medidas de precision y recall en un sólo valor. Esto es práctico porque hace más fácil el poder comparar el rendimiento combinado de la precisión y la exhaustividad entre varias soluciones\n"
   ]
  },
  {
   "cell_type": "code",
   "execution_count": 16,
   "metadata": {},
   "outputs": [
    {
     "name": "stdout",
     "output_type": "stream",
     "text": [
      "Para el dataset completo, obtuvimos que los mejores hiperparametros del arbol son: {'min_samples_split': 17, 'min_samples_leaf': 5, 'max_depth': 6, 'criterion': 'entropy', 'ccp_alpha': 0.002263157894736842}\n",
      "Y el f1-score que obtuvimos en el dataset completo para los datos de entrenamiento fue de: 0.5663117799970696\n"
     ]
    }
   ],
   "source": [
    "#Mejores hiperparametros del arbol\n",
    "print(\"Para el dataset completo, obtuvimos que los mejores hiperparametros del arbol son: \" + str(randomcv_rf.best_params_))\n",
    "#Mejor métrica\n",
    "print(\"Y el f1-score que obtuvimos en el dataset completo para los datos de entrenamiento fue de: \" + str(randomcv_rf.best_score_))"
   ]
  },
  {
   "cell_type": "markdown",
   "metadata": {},
   "source": [
    "Obtenemos el mejor modelo"
   ]
  },
  {
   "cell_type": "code",
   "execution_count": 17,
   "metadata": {},
   "outputs": [],
   "source": [
    "best_rand_forest = RandomForestClassifier().set_params(**randomcv_rf.best_params_)"
   ]
  },
  {
   "cell_type": "markdown",
   "metadata": {},
   "source": [
    "### Knn"
   ]
  },
  {
   "cell_type": "markdown",
   "metadata": {},
   "source": [
    "#### Optimizacion de parametros"
   ]
  },
  {
   "cell_type": "code",
   "execution_count": 18,
   "metadata": {},
   "outputs": [
    {
     "name": "stderr",
     "output_type": "stream",
     "text": [
      "c:\\Users\\Equipo de fabrica\\anaconda3\\lib\\site-packages\\sklearn\\neighbors\\_classification.py:179: DataConversionWarning: A column-vector y was passed when a 1d array was expected. Please change the shape of y to (n_samples,), for example using ravel().\n",
      "  return self._fit(X, y)\n",
      "c:\\Users\\Equipo de fabrica\\anaconda3\\lib\\site-packages\\sklearn\\neighbors\\_classification.py:179: DataConversionWarning: A column-vector y was passed when a 1d array was expected. Please change the shape of y to (n_samples,), for example using ravel().\n",
      "  return self._fit(X, y)\n",
      "c:\\Users\\Equipo de fabrica\\anaconda3\\lib\\site-packages\\sklearn\\neighbors\\_classification.py:179: DataConversionWarning: A column-vector y was passed when a 1d array was expected. Please change the shape of y to (n_samples,), for example using ravel().\n",
      "  return self._fit(X, y)\n",
      "c:\\Users\\Equipo de fabrica\\anaconda3\\lib\\site-packages\\sklearn\\neighbors\\_classification.py:179: DataConversionWarning: A column-vector y was passed when a 1d array was expected. Please change the shape of y to (n_samples,), for example using ravel().\n",
      "  return self._fit(X, y)\n",
      "c:\\Users\\Equipo de fabrica\\anaconda3\\lib\\site-packages\\sklearn\\neighbors\\_classification.py:179: DataConversionWarning: A column-vector y was passed when a 1d array was expected. Please change the shape of y to (n_samples,), for example using ravel().\n",
      "  return self._fit(X, y)\n",
      "c:\\Users\\Equipo de fabrica\\anaconda3\\lib\\site-packages\\sklearn\\neighbors\\_classification.py:179: DataConversionWarning: A column-vector y was passed when a 1d array was expected. Please change the shape of y to (n_samples,), for example using ravel().\n",
      "  return self._fit(X, y)\n",
      "c:\\Users\\Equipo de fabrica\\anaconda3\\lib\\site-packages\\sklearn\\neighbors\\_classification.py:179: DataConversionWarning: A column-vector y was passed when a 1d array was expected. Please change the shape of y to (n_samples,), for example using ravel().\n",
      "  return self._fit(X, y)\n",
      "c:\\Users\\Equipo de fabrica\\anaconda3\\lib\\site-packages\\sklearn\\neighbors\\_classification.py:179: DataConversionWarning: A column-vector y was passed when a 1d array was expected. Please change the shape of y to (n_samples,), for example using ravel().\n",
      "  return self._fit(X, y)\n",
      "c:\\Users\\Equipo de fabrica\\anaconda3\\lib\\site-packages\\sklearn\\neighbors\\_classification.py:179: DataConversionWarning: A column-vector y was passed when a 1d array was expected. Please change the shape of y to (n_samples,), for example using ravel().\n",
      "  return self._fit(X, y)\n",
      "c:\\Users\\Equipo de fabrica\\anaconda3\\lib\\site-packages\\sklearn\\neighbors\\_classification.py:179: DataConversionWarning: A column-vector y was passed when a 1d array was expected. Please change the shape of y to (n_samples,), for example using ravel().\n",
      "  return self._fit(X, y)\n",
      "c:\\Users\\Equipo de fabrica\\anaconda3\\lib\\site-packages\\sklearn\\neighbors\\_classification.py:179: DataConversionWarning: A column-vector y was passed when a 1d array was expected. Please change the shape of y to (n_samples,), for example using ravel().\n",
      "  return self._fit(X, y)\n",
      "c:\\Users\\Equipo de fabrica\\anaconda3\\lib\\site-packages\\sklearn\\neighbors\\_classification.py:179: DataConversionWarning: A column-vector y was passed when a 1d array was expected. Please change the shape of y to (n_samples,), for example using ravel().\n",
      "  return self._fit(X, y)\n",
      "c:\\Users\\Equipo de fabrica\\anaconda3\\lib\\site-packages\\sklearn\\neighbors\\_classification.py:179: DataConversionWarning: A column-vector y was passed when a 1d array was expected. Please change the shape of y to (n_samples,), for example using ravel().\n",
      "  return self._fit(X, y)\n",
      "c:\\Users\\Equipo de fabrica\\anaconda3\\lib\\site-packages\\sklearn\\neighbors\\_classification.py:179: DataConversionWarning: A column-vector y was passed when a 1d array was expected. Please change the shape of y to (n_samples,), for example using ravel().\n",
      "  return self._fit(X, y)\n",
      "c:\\Users\\Equipo de fabrica\\anaconda3\\lib\\site-packages\\sklearn\\neighbors\\_classification.py:179: DataConversionWarning: A column-vector y was passed when a 1d array was expected. Please change the shape of y to (n_samples,), for example using ravel().\n",
      "  return self._fit(X, y)\n",
      "c:\\Users\\Equipo de fabrica\\anaconda3\\lib\\site-packages\\sklearn\\neighbors\\_classification.py:179: DataConversionWarning: A column-vector y was passed when a 1d array was expected. Please change the shape of y to (n_samples,), for example using ravel().\n",
      "  return self._fit(X, y)\n",
      "c:\\Users\\Equipo de fabrica\\anaconda3\\lib\\site-packages\\sklearn\\neighbors\\_classification.py:179: DataConversionWarning: A column-vector y was passed when a 1d array was expected. Please change the shape of y to (n_samples,), for example using ravel().\n",
      "  return self._fit(X, y)\n",
      "c:\\Users\\Equipo de fabrica\\anaconda3\\lib\\site-packages\\sklearn\\neighbors\\_classification.py:179: DataConversionWarning: A column-vector y was passed when a 1d array was expected. Please change the shape of y to (n_samples,), for example using ravel().\n",
      "  return self._fit(X, y)\n",
      "c:\\Users\\Equipo de fabrica\\anaconda3\\lib\\site-packages\\sklearn\\neighbors\\_classification.py:179: DataConversionWarning: A column-vector y was passed when a 1d array was expected. Please change the shape of y to (n_samples,), for example using ravel().\n",
      "  return self._fit(X, y)\n",
      "c:\\Users\\Equipo de fabrica\\anaconda3\\lib\\site-packages\\sklearn\\neighbors\\_classification.py:179: DataConversionWarning: A column-vector y was passed when a 1d array was expected. Please change the shape of y to (n_samples,), for example using ravel().\n",
      "  return self._fit(X, y)\n",
      "c:\\Users\\Equipo de fabrica\\anaconda3\\lib\\site-packages\\sklearn\\neighbors\\_classification.py:179: DataConversionWarning: A column-vector y was passed when a 1d array was expected. Please change the shape of y to (n_samples,), for example using ravel().\n",
      "  return self._fit(X, y)\n",
      "c:\\Users\\Equipo de fabrica\\anaconda3\\lib\\site-packages\\sklearn\\neighbors\\_classification.py:179: DataConversionWarning: A column-vector y was passed when a 1d array was expected. Please change the shape of y to (n_samples,), for example using ravel().\n",
      "  return self._fit(X, y)\n",
      "c:\\Users\\Equipo de fabrica\\anaconda3\\lib\\site-packages\\sklearn\\neighbors\\_classification.py:179: DataConversionWarning: A column-vector y was passed when a 1d array was expected. Please change the shape of y to (n_samples,), for example using ravel().\n",
      "  return self._fit(X, y)\n",
      "c:\\Users\\Equipo de fabrica\\anaconda3\\lib\\site-packages\\sklearn\\neighbors\\_classification.py:179: DataConversionWarning: A column-vector y was passed when a 1d array was expected. Please change the shape of y to (n_samples,), for example using ravel().\n",
      "  return self._fit(X, y)\n",
      "c:\\Users\\Equipo de fabrica\\anaconda3\\lib\\site-packages\\sklearn\\neighbors\\_classification.py:179: DataConversionWarning: A column-vector y was passed when a 1d array was expected. Please change the shape of y to (n_samples,), for example using ravel().\n",
      "  return self._fit(X, y)\n",
      "c:\\Users\\Equipo de fabrica\\anaconda3\\lib\\site-packages\\sklearn\\neighbors\\_classification.py:179: DataConversionWarning: A column-vector y was passed when a 1d array was expected. Please change the shape of y to (n_samples,), for example using ravel().\n",
      "  return self._fit(X, y)\n",
      "c:\\Users\\Equipo de fabrica\\anaconda3\\lib\\site-packages\\sklearn\\neighbors\\_classification.py:179: DataConversionWarning: A column-vector y was passed when a 1d array was expected. Please change the shape of y to (n_samples,), for example using ravel().\n",
      "  return self._fit(X, y)\n",
      "c:\\Users\\Equipo de fabrica\\anaconda3\\lib\\site-packages\\sklearn\\neighbors\\_classification.py:179: DataConversionWarning: A column-vector y was passed when a 1d array was expected. Please change the shape of y to (n_samples,), for example using ravel().\n",
      "  return self._fit(X, y)\n",
      "c:\\Users\\Equipo de fabrica\\anaconda3\\lib\\site-packages\\sklearn\\neighbors\\_classification.py:179: DataConversionWarning: A column-vector y was passed when a 1d array was expected. Please change the shape of y to (n_samples,), for example using ravel().\n",
      "  return self._fit(X, y)\n",
      "c:\\Users\\Equipo de fabrica\\anaconda3\\lib\\site-packages\\sklearn\\neighbors\\_classification.py:179: DataConversionWarning: A column-vector y was passed when a 1d array was expected. Please change the shape of y to (n_samples,), for example using ravel().\n",
      "  return self._fit(X, y)\n",
      "c:\\Users\\Equipo de fabrica\\anaconda3\\lib\\site-packages\\sklearn\\neighbors\\_classification.py:179: DataConversionWarning: A column-vector y was passed when a 1d array was expected. Please change the shape of y to (n_samples,), for example using ravel().\n",
      "  return self._fit(X, y)\n",
      "c:\\Users\\Equipo de fabrica\\anaconda3\\lib\\site-packages\\sklearn\\neighbors\\_classification.py:179: DataConversionWarning: A column-vector y was passed when a 1d array was expected. Please change the shape of y to (n_samples,), for example using ravel().\n",
      "  return self._fit(X, y)\n",
      "c:\\Users\\Equipo de fabrica\\anaconda3\\lib\\site-packages\\sklearn\\neighbors\\_classification.py:179: DataConversionWarning: A column-vector y was passed when a 1d array was expected. Please change the shape of y to (n_samples,), for example using ravel().\n",
      "  return self._fit(X, y)\n",
      "c:\\Users\\Equipo de fabrica\\anaconda3\\lib\\site-packages\\sklearn\\neighbors\\_classification.py:179: DataConversionWarning: A column-vector y was passed when a 1d array was expected. Please change the shape of y to (n_samples,), for example using ravel().\n",
      "  return self._fit(X, y)\n",
      "c:\\Users\\Equipo de fabrica\\anaconda3\\lib\\site-packages\\sklearn\\neighbors\\_classification.py:179: DataConversionWarning: A column-vector y was passed when a 1d array was expected. Please change the shape of y to (n_samples,), for example using ravel().\n",
      "  return self._fit(X, y)\n",
      "c:\\Users\\Equipo de fabrica\\anaconda3\\lib\\site-packages\\sklearn\\neighbors\\_classification.py:179: DataConversionWarning: A column-vector y was passed when a 1d array was expected. Please change the shape of y to (n_samples,), for example using ravel().\n",
      "  return self._fit(X, y)\n",
      "c:\\Users\\Equipo de fabrica\\anaconda3\\lib\\site-packages\\sklearn\\neighbors\\_classification.py:179: DataConversionWarning: A column-vector y was passed when a 1d array was expected. Please change the shape of y to (n_samples,), for example using ravel().\n",
      "  return self._fit(X, y)\n",
      "c:\\Users\\Equipo de fabrica\\anaconda3\\lib\\site-packages\\sklearn\\neighbors\\_classification.py:179: DataConversionWarning: A column-vector y was passed when a 1d array was expected. Please change the shape of y to (n_samples,), for example using ravel().\n",
      "  return self._fit(X, y)\n",
      "c:\\Users\\Equipo de fabrica\\anaconda3\\lib\\site-packages\\sklearn\\neighbors\\_classification.py:179: DataConversionWarning: A column-vector y was passed when a 1d array was expected. Please change the shape of y to (n_samples,), for example using ravel().\n",
      "  return self._fit(X, y)\n",
      "c:\\Users\\Equipo de fabrica\\anaconda3\\lib\\site-packages\\sklearn\\neighbors\\_classification.py:179: DataConversionWarning: A column-vector y was passed when a 1d array was expected. Please change the shape of y to (n_samples,), for example using ravel().\n",
      "  return self._fit(X, y)\n",
      "c:\\Users\\Equipo de fabrica\\anaconda3\\lib\\site-packages\\sklearn\\neighbors\\_classification.py:179: DataConversionWarning: A column-vector y was passed when a 1d array was expected. Please change the shape of y to (n_samples,), for example using ravel().\n",
      "  return self._fit(X, y)\n",
      "c:\\Users\\Equipo de fabrica\\anaconda3\\lib\\site-packages\\sklearn\\neighbors\\_classification.py:179: DataConversionWarning: A column-vector y was passed when a 1d array was expected. Please change the shape of y to (n_samples,), for example using ravel().\n",
      "  return self._fit(X, y)\n",
      "c:\\Users\\Equipo de fabrica\\anaconda3\\lib\\site-packages\\sklearn\\neighbors\\_classification.py:179: DataConversionWarning: A column-vector y was passed when a 1d array was expected. Please change the shape of y to (n_samples,), for example using ravel().\n",
      "  return self._fit(X, y)\n",
      "c:\\Users\\Equipo de fabrica\\anaconda3\\lib\\site-packages\\sklearn\\neighbors\\_classification.py:179: DataConversionWarning: A column-vector y was passed when a 1d array was expected. Please change the shape of y to (n_samples,), for example using ravel().\n",
      "  return self._fit(X, y)\n",
      "c:\\Users\\Equipo de fabrica\\anaconda3\\lib\\site-packages\\sklearn\\neighbors\\_classification.py:179: DataConversionWarning: A column-vector y was passed when a 1d array was expected. Please change the shape of y to (n_samples,), for example using ravel().\n",
      "  return self._fit(X, y)\n",
      "c:\\Users\\Equipo de fabrica\\anaconda3\\lib\\site-packages\\sklearn\\neighbors\\_classification.py:179: DataConversionWarning: A column-vector y was passed when a 1d array was expected. Please change the shape of y to (n_samples,), for example using ravel().\n",
      "  return self._fit(X, y)\n",
      "c:\\Users\\Equipo de fabrica\\anaconda3\\lib\\site-packages\\sklearn\\neighbors\\_classification.py:179: DataConversionWarning: A column-vector y was passed when a 1d array was expected. Please change the shape of y to (n_samples,), for example using ravel().\n",
      "  return self._fit(X, y)\n",
      "c:\\Users\\Equipo de fabrica\\anaconda3\\lib\\site-packages\\sklearn\\neighbors\\_classification.py:179: DataConversionWarning: A column-vector y was passed when a 1d array was expected. Please change the shape of y to (n_samples,), for example using ravel().\n",
      "  return self._fit(X, y)\n",
      "c:\\Users\\Equipo de fabrica\\anaconda3\\lib\\site-packages\\sklearn\\neighbors\\_classification.py:179: DataConversionWarning: A column-vector y was passed when a 1d array was expected. Please change the shape of y to (n_samples,), for example using ravel().\n",
      "  return self._fit(X, y)\n",
      "c:\\Users\\Equipo de fabrica\\anaconda3\\lib\\site-packages\\sklearn\\neighbors\\_classification.py:179: DataConversionWarning: A column-vector y was passed when a 1d array was expected. Please change the shape of y to (n_samples,), for example using ravel().\n",
      "  return self._fit(X, y)\n",
      "c:\\Users\\Equipo de fabrica\\anaconda3\\lib\\site-packages\\sklearn\\neighbors\\_classification.py:179: DataConversionWarning: A column-vector y was passed when a 1d array was expected. Please change the shape of y to (n_samples,), for example using ravel().\n",
      "  return self._fit(X, y)\n",
      "c:\\Users\\Equipo de fabrica\\anaconda3\\lib\\site-packages\\sklearn\\neighbors\\_classification.py:179: DataConversionWarning: A column-vector y was passed when a 1d array was expected. Please change the shape of y to (n_samples,), for example using ravel().\n",
      "  return self._fit(X, y)\n",
      "c:\\Users\\Equipo de fabrica\\anaconda3\\lib\\site-packages\\sklearn\\neighbors\\_classification.py:179: DataConversionWarning: A column-vector y was passed when a 1d array was expected. Please change the shape of y to (n_samples,), for example using ravel().\n",
      "  return self._fit(X, y)\n",
      "c:\\Users\\Equipo de fabrica\\anaconda3\\lib\\site-packages\\sklearn\\neighbors\\_classification.py:179: DataConversionWarning: A column-vector y was passed when a 1d array was expected. Please change the shape of y to (n_samples,), for example using ravel().\n",
      "  return self._fit(X, y)\n",
      "c:\\Users\\Equipo de fabrica\\anaconda3\\lib\\site-packages\\sklearn\\neighbors\\_classification.py:179: DataConversionWarning: A column-vector y was passed when a 1d array was expected. Please change the shape of y to (n_samples,), for example using ravel().\n",
      "  return self._fit(X, y)\n",
      "c:\\Users\\Equipo de fabrica\\anaconda3\\lib\\site-packages\\sklearn\\neighbors\\_classification.py:179: DataConversionWarning: A column-vector y was passed when a 1d array was expected. Please change the shape of y to (n_samples,), for example using ravel().\n",
      "  return self._fit(X, y)\n",
      "c:\\Users\\Equipo de fabrica\\anaconda3\\lib\\site-packages\\sklearn\\neighbors\\_classification.py:179: DataConversionWarning: A column-vector y was passed when a 1d array was expected. Please change the shape of y to (n_samples,), for example using ravel().\n",
      "  return self._fit(X, y)\n",
      "c:\\Users\\Equipo de fabrica\\anaconda3\\lib\\site-packages\\sklearn\\neighbors\\_classification.py:179: DataConversionWarning: A column-vector y was passed when a 1d array was expected. Please change the shape of y to (n_samples,), for example using ravel().\n",
      "  return self._fit(X, y)\n",
      "c:\\Users\\Equipo de fabrica\\anaconda3\\lib\\site-packages\\sklearn\\neighbors\\_classification.py:179: DataConversionWarning: A column-vector y was passed when a 1d array was expected. Please change the shape of y to (n_samples,), for example using ravel().\n",
      "  return self._fit(X, y)\n",
      "c:\\Users\\Equipo de fabrica\\anaconda3\\lib\\site-packages\\sklearn\\neighbors\\_classification.py:179: DataConversionWarning: A column-vector y was passed when a 1d array was expected. Please change the shape of y to (n_samples,), for example using ravel().\n",
      "  return self._fit(X, y)\n",
      "c:\\Users\\Equipo de fabrica\\anaconda3\\lib\\site-packages\\sklearn\\neighbors\\_classification.py:179: DataConversionWarning: A column-vector y was passed when a 1d array was expected. Please change the shape of y to (n_samples,), for example using ravel().\n",
      "  return self._fit(X, y)\n",
      "c:\\Users\\Equipo de fabrica\\anaconda3\\lib\\site-packages\\sklearn\\neighbors\\_classification.py:179: DataConversionWarning: A column-vector y was passed when a 1d array was expected. Please change the shape of y to (n_samples,), for example using ravel().\n",
      "  return self._fit(X, y)\n",
      "c:\\Users\\Equipo de fabrica\\anaconda3\\lib\\site-packages\\sklearn\\neighbors\\_classification.py:179: DataConversionWarning: A column-vector y was passed when a 1d array was expected. Please change the shape of y to (n_samples,), for example using ravel().\n",
      "  return self._fit(X, y)\n",
      "c:\\Users\\Equipo de fabrica\\anaconda3\\lib\\site-packages\\sklearn\\neighbors\\_classification.py:179: DataConversionWarning: A column-vector y was passed when a 1d array was expected. Please change the shape of y to (n_samples,), for example using ravel().\n",
      "  return self._fit(X, y)\n",
      "c:\\Users\\Equipo de fabrica\\anaconda3\\lib\\site-packages\\sklearn\\neighbors\\_classification.py:179: DataConversionWarning: A column-vector y was passed when a 1d array was expected. Please change the shape of y to (n_samples,), for example using ravel().\n",
      "  return self._fit(X, y)\n",
      "c:\\Users\\Equipo de fabrica\\anaconda3\\lib\\site-packages\\sklearn\\neighbors\\_classification.py:179: DataConversionWarning: A column-vector y was passed when a 1d array was expected. Please change the shape of y to (n_samples,), for example using ravel().\n",
      "  return self._fit(X, y)\n",
      "c:\\Users\\Equipo de fabrica\\anaconda3\\lib\\site-packages\\sklearn\\neighbors\\_classification.py:179: DataConversionWarning: A column-vector y was passed when a 1d array was expected. Please change the shape of y to (n_samples,), for example using ravel().\n",
      "  return self._fit(X, y)\n",
      "c:\\Users\\Equipo de fabrica\\anaconda3\\lib\\site-packages\\sklearn\\neighbors\\_classification.py:179: DataConversionWarning: A column-vector y was passed when a 1d array was expected. Please change the shape of y to (n_samples,), for example using ravel().\n",
      "  return self._fit(X, y)\n",
      "c:\\Users\\Equipo de fabrica\\anaconda3\\lib\\site-packages\\sklearn\\neighbors\\_classification.py:179: DataConversionWarning: A column-vector y was passed when a 1d array was expected. Please change the shape of y to (n_samples,), for example using ravel().\n",
      "  return self._fit(X, y)\n",
      "c:\\Users\\Equipo de fabrica\\anaconda3\\lib\\site-packages\\sklearn\\neighbors\\_classification.py:179: DataConversionWarning: A column-vector y was passed when a 1d array was expected. Please change the shape of y to (n_samples,), for example using ravel().\n",
      "  return self._fit(X, y)\n",
      "c:\\Users\\Equipo de fabrica\\anaconda3\\lib\\site-packages\\sklearn\\neighbors\\_classification.py:179: DataConversionWarning: A column-vector y was passed when a 1d array was expected. Please change the shape of y to (n_samples,), for example using ravel().\n",
      "  return self._fit(X, y)\n",
      "c:\\Users\\Equipo de fabrica\\anaconda3\\lib\\site-packages\\sklearn\\neighbors\\_classification.py:179: DataConversionWarning: A column-vector y was passed when a 1d array was expected. Please change the shape of y to (n_samples,), for example using ravel().\n",
      "  return self._fit(X, y)\n",
      "c:\\Users\\Equipo de fabrica\\anaconda3\\lib\\site-packages\\sklearn\\neighbors\\_classification.py:179: DataConversionWarning: A column-vector y was passed when a 1d array was expected. Please change the shape of y to (n_samples,), for example using ravel().\n",
      "  return self._fit(X, y)\n",
      "c:\\Users\\Equipo de fabrica\\anaconda3\\lib\\site-packages\\sklearn\\neighbors\\_classification.py:179: DataConversionWarning: A column-vector y was passed when a 1d array was expected. Please change the shape of y to (n_samples,), for example using ravel().\n",
      "  return self._fit(X, y)\n",
      "c:\\Users\\Equipo de fabrica\\anaconda3\\lib\\site-packages\\sklearn\\neighbors\\_classification.py:179: DataConversionWarning: A column-vector y was passed when a 1d array was expected. Please change the shape of y to (n_samples,), for example using ravel().\n",
      "  return self._fit(X, y)\n",
      "c:\\Users\\Equipo de fabrica\\anaconda3\\lib\\site-packages\\sklearn\\neighbors\\_classification.py:179: DataConversionWarning: A column-vector y was passed when a 1d array was expected. Please change the shape of y to (n_samples,), for example using ravel().\n",
      "  return self._fit(X, y)\n",
      "c:\\Users\\Equipo de fabrica\\anaconda3\\lib\\site-packages\\sklearn\\neighbors\\_classification.py:179: DataConversionWarning: A column-vector y was passed when a 1d array was expected. Please change the shape of y to (n_samples,), for example using ravel().\n",
      "  return self._fit(X, y)\n",
      "c:\\Users\\Equipo de fabrica\\anaconda3\\lib\\site-packages\\sklearn\\neighbors\\_classification.py:179: DataConversionWarning: A column-vector y was passed when a 1d array was expected. Please change the shape of y to (n_samples,), for example using ravel().\n",
      "  return self._fit(X, y)\n",
      "c:\\Users\\Equipo de fabrica\\anaconda3\\lib\\site-packages\\sklearn\\neighbors\\_classification.py:179: DataConversionWarning: A column-vector y was passed when a 1d array was expected. Please change the shape of y to (n_samples,), for example using ravel().\n",
      "  return self._fit(X, y)\n",
      "c:\\Users\\Equipo de fabrica\\anaconda3\\lib\\site-packages\\sklearn\\neighbors\\_classification.py:179: DataConversionWarning: A column-vector y was passed when a 1d array was expected. Please change the shape of y to (n_samples,), for example using ravel().\n",
      "  return self._fit(X, y)\n",
      "c:\\Users\\Equipo de fabrica\\anaconda3\\lib\\site-packages\\sklearn\\neighbors\\_classification.py:179: DataConversionWarning: A column-vector y was passed when a 1d array was expected. Please change the shape of y to (n_samples,), for example using ravel().\n",
      "  return self._fit(X, y)\n",
      "c:\\Users\\Equipo de fabrica\\anaconda3\\lib\\site-packages\\sklearn\\neighbors\\_classification.py:179: DataConversionWarning: A column-vector y was passed when a 1d array was expected. Please change the shape of y to (n_samples,), for example using ravel().\n",
      "  return self._fit(X, y)\n",
      "c:\\Users\\Equipo de fabrica\\anaconda3\\lib\\site-packages\\sklearn\\neighbors\\_classification.py:179: DataConversionWarning: A column-vector y was passed when a 1d array was expected. Please change the shape of y to (n_samples,), for example using ravel().\n",
      "  return self._fit(X, y)\n",
      "c:\\Users\\Equipo de fabrica\\anaconda3\\lib\\site-packages\\sklearn\\neighbors\\_classification.py:179: DataConversionWarning: A column-vector y was passed when a 1d array was expected. Please change the shape of y to (n_samples,), for example using ravel().\n",
      "  return self._fit(X, y)\n",
      "c:\\Users\\Equipo de fabrica\\anaconda3\\lib\\site-packages\\sklearn\\neighbors\\_classification.py:179: DataConversionWarning: A column-vector y was passed when a 1d array was expected. Please change the shape of y to (n_samples,), for example using ravel().\n",
      "  return self._fit(X, y)\n",
      "c:\\Users\\Equipo de fabrica\\anaconda3\\lib\\site-packages\\sklearn\\neighbors\\_classification.py:179: DataConversionWarning: A column-vector y was passed when a 1d array was expected. Please change the shape of y to (n_samples,), for example using ravel().\n",
      "  return self._fit(X, y)\n",
      "c:\\Users\\Equipo de fabrica\\anaconda3\\lib\\site-packages\\sklearn\\neighbors\\_classification.py:179: DataConversionWarning: A column-vector y was passed when a 1d array was expected. Please change the shape of y to (n_samples,), for example using ravel().\n",
      "  return self._fit(X, y)\n",
      "c:\\Users\\Equipo de fabrica\\anaconda3\\lib\\site-packages\\sklearn\\neighbors\\_classification.py:179: DataConversionWarning: A column-vector y was passed when a 1d array was expected. Please change the shape of y to (n_samples,), for example using ravel().\n",
      "  return self._fit(X, y)\n",
      "c:\\Users\\Equipo de fabrica\\anaconda3\\lib\\site-packages\\sklearn\\neighbors\\_classification.py:179: DataConversionWarning: A column-vector y was passed when a 1d array was expected. Please change the shape of y to (n_samples,), for example using ravel().\n",
      "  return self._fit(X, y)\n",
      "c:\\Users\\Equipo de fabrica\\anaconda3\\lib\\site-packages\\sklearn\\neighbors\\_classification.py:179: DataConversionWarning: A column-vector y was passed when a 1d array was expected. Please change the shape of y to (n_samples,), for example using ravel().\n",
      "  return self._fit(X, y)\n",
      "c:\\Users\\Equipo de fabrica\\anaconda3\\lib\\site-packages\\sklearn\\neighbors\\_classification.py:179: DataConversionWarning: A column-vector y was passed when a 1d array was expected. Please change the shape of y to (n_samples,), for example using ravel().\n",
      "  return self._fit(X, y)\n",
      "c:\\Users\\Equipo de fabrica\\anaconda3\\lib\\site-packages\\sklearn\\neighbors\\_classification.py:179: DataConversionWarning: A column-vector y was passed when a 1d array was expected. Please change the shape of y to (n_samples,), for example using ravel().\n",
      "  return self._fit(X, y)\n",
      "c:\\Users\\Equipo de fabrica\\anaconda3\\lib\\site-packages\\sklearn\\neighbors\\_classification.py:179: DataConversionWarning: A column-vector y was passed when a 1d array was expected. Please change the shape of y to (n_samples,), for example using ravel().\n",
      "  return self._fit(X, y)\n",
      "c:\\Users\\Equipo de fabrica\\anaconda3\\lib\\site-packages\\sklearn\\neighbors\\_classification.py:179: DataConversionWarning: A column-vector y was passed when a 1d array was expected. Please change the shape of y to (n_samples,), for example using ravel().\n",
      "  return self._fit(X, y)\n",
      "c:\\Users\\Equipo de fabrica\\anaconda3\\lib\\site-packages\\sklearn\\neighbors\\_classification.py:179: DataConversionWarning: A column-vector y was passed when a 1d array was expected. Please change the shape of y to (n_samples,), for example using ravel().\n",
      "  return self._fit(X, y)\n",
      "c:\\Users\\Equipo de fabrica\\anaconda3\\lib\\site-packages\\sklearn\\neighbors\\_classification.py:179: DataConversionWarning: A column-vector y was passed when a 1d array was expected. Please change the shape of y to (n_samples,), for example using ravel().\n",
      "  return self._fit(X, y)\n",
      "c:\\Users\\Equipo de fabrica\\anaconda3\\lib\\site-packages\\sklearn\\neighbors\\_classification.py:179: DataConversionWarning: A column-vector y was passed when a 1d array was expected. Please change the shape of y to (n_samples,), for example using ravel().\n",
      "  return self._fit(X, y)\n",
      "c:\\Users\\Equipo de fabrica\\anaconda3\\lib\\site-packages\\sklearn\\neighbors\\_classification.py:179: DataConversionWarning: A column-vector y was passed when a 1d array was expected. Please change the shape of y to (n_samples,), for example using ravel().\n",
      "  return self._fit(X, y)\n",
      "c:\\Users\\Equipo de fabrica\\anaconda3\\lib\\site-packages\\sklearn\\neighbors\\_classification.py:179: DataConversionWarning: A column-vector y was passed when a 1d array was expected. Please change the shape of y to (n_samples,), for example using ravel().\n",
      "  return self._fit(X, y)\n",
      "c:\\Users\\Equipo de fabrica\\anaconda3\\lib\\site-packages\\sklearn\\neighbors\\_classification.py:179: DataConversionWarning: A column-vector y was passed when a 1d array was expected. Please change the shape of y to (n_samples,), for example using ravel().\n",
      "  return self._fit(X, y)\n",
      "c:\\Users\\Equipo de fabrica\\anaconda3\\lib\\site-packages\\sklearn\\neighbors\\_classification.py:179: DataConversionWarning: A column-vector y was passed when a 1d array was expected. Please change the shape of y to (n_samples,), for example using ravel().\n",
      "  return self._fit(X, y)\n"
     ]
    }
   ],
   "source": [
    "def optimizar_parametros_knn(ds_train_x, ds_train_y): \n",
    "\n",
    "    #Grilla de Parámetros\n",
    "    params_grid={ 'n_neighbors':range(10,30), \n",
    "                'weights':['distance','uniform'],\n",
    "                'algorithm':['ball_tree', 'kd_tree', 'brute'],\n",
    "                'metric':['euclidean','manhattan','chebyshev']\n",
    "                }\n",
    "\n",
    "    scorer_fn = make_scorer(f1_score, average='micro')\n",
    "\n",
    "    #Clasificador KNN\n",
    "    knn = KNeighborsClassifier()\n",
    "\n",
    "    #Random Search con 10 Folds y 10 iteraciones\n",
    "    rand = RandomizedSearchCV(knn, params_grid, scoring=scorer_fn, cv=10, n_iter=10, random_state=1)\n",
    "\n",
    "    return rand.fit(ds_train_x, ds_train_y)\n",
    "\n",
    "randomcv_knn = optimizar_parametros_knn(x_train, y_train)\n"
   ]
  },
  {
   "cell_type": "markdown",
   "metadata": {},
   "source": [
    "- Utilizamos Random Serch dado que si bien Grid search es capaz de encontrar todas las combinaciones, el tiempo de ejecucion es demasiado alto y ademas las metricas no mejoran radicalmente. Utilizo una cantidad de 10 combinaciones\n",
    "\n",
    "- Para buscar los parametros consideramos utilizar f1-score dado que combina las medidas de precision y recall en un sólo valor. Esto es práctico porque hace más fácil el poder comparar el rendimiento combinado de la precisión y la exhaustividad entre varias soluciones\n"
   ]
  },
  {
   "cell_type": "code",
   "execution_count": 19,
   "metadata": {},
   "outputs": [
    {
     "name": "stdout",
     "output_type": "stream",
     "text": [
      "Para el dataset completo, obtuvimos que los mejores hiperparametros del arbol son: {'weights': 'distance', 'n_neighbors': 29, 'metric': 'manhattan', 'algorithm': 'brute'}\n",
      "Y el f1-score que obtuvimos en el dataset completo para los datos de entrenamiento fue de: 0.7258278970424856\n"
     ]
    }
   ],
   "source": [
    "#Mejores hiperparametros del arbol\n",
    "print(\"Para el dataset completo, obtuvimos que los mejores hiperparametros del arbol son: \" + str(randomcv_knn.best_params_))\n",
    "#Mejor métrica\n",
    "print(\"Y el f1-score que obtuvimos en el dataset completo para los datos de entrenamiento fue de: \" + str(randomcv_knn.best_score_))"
   ]
  },
  {
   "cell_type": "code",
   "execution_count": 20,
   "metadata": {},
   "outputs": [],
   "source": [
    "best_knn = KNeighborsClassifier().set_params(**randomcv_knn.best_params_)"
   ]
  },
  {
   "cell_type": "markdown",
   "metadata": {},
   "source": [
    "### Ensamblamos los modelos"
   ]
  },
  {
   "cell_type": "code",
   "execution_count": 21,
   "metadata": {},
   "outputs": [
    {
     "name": "stderr",
     "output_type": "stream",
     "text": [
      "c:\\Users\\Equipo de fabrica\\anaconda3\\lib\\site-packages\\sklearn\\utils\\validation.py:63: DataConversionWarning: A column-vector y was passed when a 1d array was expected. Please change the shape of y to (n_samples, ), for example using ravel().\n",
      "  return f(*args, **kwargs)\n"
     ]
    }
   ],
   "source": [
    "#Creo ensemble de Votación\n",
    "vot_clf = VotingClassifier(estimators = [('arbol', best_tree), ('rand_forest', best_rand_forest), ('knn', best_knn)], voting = 'soft')\n",
    "# soft da una mejora significativas en las metricas\n",
    "\n",
    "#Entreno el ensemble\n",
    "vot_clf.fit(x_train, y_train)\n",
    "\n",
    "#Evaluo en conjunto de test\n",
    "pred = vot_clf.predict(x_test)"
   ]
  },
  {
   "cell_type": "markdown",
   "metadata": {},
   "source": [
    "#### Evaluo"
   ]
  },
  {
   "cell_type": "code",
   "execution_count": 22,
   "metadata": {},
   "outputs": [],
   "source": [
    "def evaluar_modelo(ds_test_x, ds_test_y, knn):\n",
    "\n",
    "    y_pred=knn.predict(ds_test_x)\n",
    "\n",
    "    print('F1-Score: {}'.format(f1_score(ds_test_y, y_pred, average='micro'))) #binary considera la clase positiva por defecto 1\n",
    "    #Reporte de Clasificación\n",
    "    print(classification_report(ds_test_y,y_pred))\n",
    "\n",
    "    #Matriz de Confusión\n",
    "    cm = confusion_matrix(ds_test_y, y_pred)\n",
    "    sns.heatmap(cm, cmap='Blues',annot=True,fmt='g')\n",
    "    plt.xlabel('Predicted')\n",
    "    plt.ylabel('True')"
   ]
  },
  {
   "cell_type": "code",
   "execution_count": 23,
   "metadata": {},
   "outputs": [
    {
     "name": "stdout",
     "output_type": "stream",
     "text": [
      "F1-Score: 0.7266153213004881\n",
      "              precision    recall  f1-score   support\n",
      "\n",
      "        alto       0.79      0.59      0.67      4252\n",
      "        bajo       0.79      0.61      0.69      4265\n",
      "       medio       0.69      0.86      0.76      8492\n",
      "\n",
      "    accuracy                           0.73     17009\n",
      "   macro avg       0.76      0.68      0.71     17009\n",
      "weighted avg       0.74      0.73      0.72     17009\n",
      "\n"
     ]
    },
    {
     "data": {
      "image/png": "[encoded data removed]",
      "text/plain": [
       "<Figure size 432x288 with 2 Axes>"
      ]
     },
     "metadata": {
      "needs_background": "light"
     },
     "output_type": "display_data"
    }
   ],
   "source": [
    "evaluar_modelo( x_test, y_test, vot_clf)"
   ]
  },
  {
   "cell_type": "code",
   "execution_count": 24,
   "metadata": {},
   "outputs": [
    {
     "name": "stdout",
     "output_type": "stream",
     "text": [
      "La metrica Accuracy con datos de testeo fue de: 0.726615321300488\n",
      "La metrica Precision con datos de testeo fue de: 0.7563455037258756\n",
      "La metrica Recall con datos de testeo fue de: 0.6838519048606471\n",
      "La metrica F1 con datos de testeo fue de: 0.7080806576080295\n"
     ]
    }
   ],
   "source": [
    "acc = accuracy_score(y_test, pred)\n",
    "pre = precision_score(y_test, pred, average=\"macro\")\n",
    "rec = recall_score(y_test, pred, average=\"macro\")\n",
    "f1 = f1_score(y_test, pred, average='macro')\n",
    "\n",
    "print(\"La metrica Accuracy con datos de testeo fue de: \" + str(acc))\n",
    "print(\"La metrica Precision con datos de testeo fue de: \" + str(pre))\n",
    "print(\"La metrica Recall con datos de testeo fue de: \" + str(rec))\n",
    "print(\"La metrica F1 con datos de testeo fue de: \" + str(f1))"
   ]
  },
  {
   "cell_type": "markdown",
   "metadata": {},
   "source": [
    "### Comparacion con Redes Neuronales"
   ]
  },
  {
   "cell_type": "markdown",
   "metadata": {},
   "source": [
    "ver despues"
   ]
  },
  {
   "cell_type": "markdown",
   "metadata": {},
   "source": [
    "## Stacking"
   ]
  },
  {
   "cell_type": "markdown",
   "metadata": {},
   "source": [
    "#### Preparamos los datasets a utilizar"
   ]
  },
  {
   "cell_type": "code",
   "execution_count": 25,
   "metadata": {},
   "outputs": [],
   "source": [
    "features = [\"latitud\", \"longitud\", 'property_rooms', 'property_bedrooms', 'property_surface_total', \"property_surface_covered\", \"property_type_Departamento\", \"property_type_PH\"]\n",
    "\n",
    "target = [\"property_price\"]"
   ]
  },
  {
   "cell_type": "code",
   "execution_count": 26,
   "metadata": {},
   "outputs": [],
   "source": [
    "#train\n",
    "x_train = ds_train[features]\n",
    "y_train = ds_train[target]\n",
    "\n",
    "#test\n",
    "x_test= ds_test[features]\n",
    "y_test= ds_test[target]"
   ]
  },
  {
   "cell_type": "markdown",
   "metadata": {},
   "source": [
    "### Knn"
   ]
  },
  {
   "cell_type": "code",
   "execution_count": 27,
   "metadata": {},
   "outputs": [
    {
     "data": {
      "text/plain": [
       "RandomizedSearchCV(cv=10, estimator=KNeighborsRegressor(),\n",
       "                   param_distributions={'algorithm': ['ball_tree', 'kd_tree',\n",
       "                                                      'brute'],\n",
       "                                        'leaf_size': [0, 1, 2, 3, 4, 5, 6, 7, 8,\n",
       "                                                      9, 10, 11, 12, 13, 14, 15,\n",
       "                                                      16, 17, 18, 19, 20, 21,\n",
       "                                                      22, 23, 24, 25, 26, 27,\n",
       "                                                      28, 29, ...],\n",
       "                                        'metric': ['euclidean', 'manhattan',\n",
       "                                                   'chebyshev', 'minkowski'],\n",
       "                                        'n_neighbors': range(1, 30),\n",
       "                                        'weights': ['distance', 'uniform']},\n",
       "                   random_state=5, refit='r2',\n",
       "                   scoring={'mean_squared_error': make_scorer(mean_squared_error),\n",
       "                            'r2': make_scorer(r2_score)})"
      ]
     },
     "execution_count": 27,
     "metadata": {},
     "output_type": "execute_result"
    }
   ],
   "source": [
    "#Grilla de Parámetros\n",
    "params_grid={ 'n_neighbors':range(1,30), \n",
    "              'weights':['distance','uniform'],\n",
    "              'algorithm':['ball_tree', 'kd_tree', 'brute'],\n",
    "              'metric':['euclidean','manhattan','chebyshev', 'minkowski'],\n",
    "              'leaf_size': list(range(0, 50)),\n",
    "             }\n",
    "\n",
    "#Metrica que quiero optimizar \n",
    "scorer_fn = make_scorer(mean_squared_error)\n",
    "scorer_fn2 = make_scorer(r2_score)\n",
    "#Clasificador KNN\n",
    "knn=KNeighborsRegressor()\n",
    "\n",
    "#Random Search con 5 Folds y 10 iteraciones\n",
    "randomcv_knn_regr = RandomizedSearchCV(knn, params_grid, cv=10, scoring = {\"mean_squared_error\":scorer_fn, \"r2\" :scorer_fn2}, n_iter=10, random_state=5, refit='r2')\n",
    "randomcv_knn_regr.fit(x_train, y_train)"
   ]
  },
  {
   "cell_type": "markdown",
   "metadata": {},
   "source": [
    "- Utilizamos Random Serch dado que si bien Grid search es capaz de encontrar todas las combinaciones, el tiempo de ejecucion es demasiado alto y ademas las metricas no mejoran radicalmente. Utilizo una cantidad de 10 combinaciones\n",
    "\n",
    "- Para buscar los parametros consideramos utilizar r2 score y mean squared error"
   ]
  },
  {
   "cell_type": "code",
   "execution_count": 28,
   "metadata": {},
   "outputs": [
    {
     "name": "stdout",
     "output_type": "stream",
     "text": [
      "{'weights': 'distance', 'n_neighbors': 22, 'metric': 'manhattan', 'leaf_size': 44, 'algorithm': 'brute'}\n",
      "El R2 score en datos de entrnamiento: 0.8933312441545171\n"
     ]
    }
   ],
   "source": [
    "#Mejores hiperparametros\n",
    "print(randomcv_knn_regr.best_params_)\n",
    "\n",
    "#Mejor métrica\n",
    "r2 = randomcv_knn_regr.best_score_\n",
    "\n",
    "print(\"El R2 score en datos de entrnamiento: \" + str((r2)))\n"
   ]
  },
  {
   "cell_type": "code",
   "execution_count": 29,
   "metadata": {},
   "outputs": [],
   "source": [
    "#Mejor estimador\n",
    "best_knn_regr = KNeighborsRegressor().set_params(**randomcv_knn_regr.best_params_)"
   ]
  },
  {
   "cell_type": "markdown",
   "metadata": {},
   "source": [
    "### XGboost"
   ]
  },
  {
   "cell_type": "code",
   "execution_count": 30,
   "metadata": {},
   "outputs": [
    {
     "data": {
      "text/plain": [
       "RandomizedSearchCV(cv=10,\n",
       "                   estimator=XGBRegressor(base_score=None, booster=None,\n",
       "                                          callbacks=None,\n",
       "                                          colsample_bylevel=None,\n",
       "                                          colsample_bynode=None,\n",
       "                                          colsample_bytree=None,\n",
       "                                          early_stopping_rounds=None,\n",
       "                                          enable_categorical=False,\n",
       "                                          eval_metric=None, feature_types=None,\n",
       "                                          gamma=None, gpu_id=None,\n",
       "                                          grow_policy=None,\n",
       "                                          importance_type=None,\n",
       "                                          interaction_constraints=None,\n",
       "                                          learning_rate...\n",
       "       0.76785714, 0.77142857, 0.775     , 0.77857143, 0.78214286,\n",
       "       0.78571429, 0.78928571, 0.79285714, 0.79642857, 0.8       ]),\n",
       "                                        'gamma': [10, 11, 12, 13, 14, 15, 16,\n",
       "                                                  17, 18, 19, 20, 21, 22, 23,\n",
       "                                                  24, 25, 26, 27, 28, 29, 30,\n",
       "                                                  31],\n",
       "                                        'max_depth': [3, 4, 5, 6, 7, 8, 9],\n",
       "                                        'min_child_weight': [10, 11, 12, 13, 14,\n",
       "                                                             15, 16, 17],\n",
       "                                        'random_state': [0, 1, 2, 3, 4, 5]},\n",
       "                   random_state=5, refit='r2',\n",
       "                   scoring={'mean_squared_error': make_scorer(mean_squared_error),\n",
       "                            'r2': make_scorer(r2_score)})"
      ]
     },
     "execution_count": 30,
     "metadata": {},
     "output_type": "execute_result"
    }
   ],
   "source": [
    "#Cantidad de combinaciones que quiero porbar\n",
    "n=10\n",
    "\n",
    "#Conjunto de parámetros que quiero usar\n",
    "params_grid = {'max_depth':list(range(3,10)),                    \n",
    "               'random_state':list(range(0,6)),                \n",
    "               'gamma':list(range(10,32)),\n",
    "               'min_child_weight':list(range(10,18)),\n",
    "               'colsample_bytree':np.linspace(0.75,0.8,15)}\n",
    "                \n",
    "#Cantidad de splits para el Cross Validation\n",
    "folds=10\n",
    "\n",
    "#Regresor\n",
    "xgb_model_rd_search = xgb.XGBRegressor()\n",
    "\n",
    "#Metrica que quiero optimizar \n",
    "scorer_fn = make_scorer(mean_squared_error)\n",
    "scorer_fn2 = make_scorer(r2_score)\n",
    "\n",
    "#Random Search Cross Validation\n",
    "randomcv_xgb_regr = RandomizedSearchCV(estimator=xgb_model_rd_search,\n",
    "                              param_distributions = params_grid,\n",
    "                              scoring = {\"mean_squared_error\":scorer_fn, \"r2\" :scorer_fn2},\n",
    "                              n_iter=n, cv=folds, random_state=5, refit='r2') \n",
    "\n",
    "\n",
    "#Busco los hiperparamtros que optimizan MSE y R2\n",
    "randomcv_xgb_regr.fit(x_train,y_train)"
   ]
  },
  {
   "cell_type": "markdown",
   "metadata": {},
   "source": [
    "- Utilizamos Random Serch dado que si bien Grid search es capaz de encontrar todas las combinaciones, el tiempo de ejecucion es demasiado alto y ademas las metricas no mejoran radicalmente. Utilizo una cantidad de 10 combinaciones\n",
    "\n",
    "- Para buscar los parametros consideramos utilizar r2 score y mean squared error"
   ]
  },
  {
   "cell_type": "code",
   "execution_count": 31,
   "metadata": {},
   "outputs": [
    {
     "name": "stdout",
     "output_type": "stream",
     "text": [
      "{'random_state': 3, 'min_child_weight': 12, 'max_depth': 9, 'gamma': 26, 'colsample_bytree': 0.7571428571428571}\n",
      "El R2 score en datos de entrnamiento: 0.8916299853904448\n"
     ]
    }
   ],
   "source": [
    "#Mejores hiperparametros\n",
    "print(randomcv_xgb_regr.best_params_)\n",
    "\n",
    "#Mejor métrica\n",
    "r2 = randomcv_xgb_regr.best_score_\n",
    "\n",
    "print(\"El R2 score en datos de entrnamiento: \" + str((r2)))"
   ]
  },
  {
   "cell_type": "code",
   "execution_count": 32,
   "metadata": {},
   "outputs": [],
   "source": [
    "#Mejor estimador\n",
    "best_xgboost_regr = xgb.XGBRegressor().set_params(**randomcv_xgb_regr.best_params_)"
   ]
  },
  {
   "cell_type": "markdown",
   "metadata": {},
   "source": [
    "Igual que lo mencionado anterioirmente, las metricas en los datos de testeo son buenas y muy similares a las metricas en los datos de entrenamiento, por lo que podemos asegurar que el modelo no esta overfiteado"
   ]
  },
  {
   "cell_type": "markdown",
   "metadata": {},
   "source": [
    "### Gradient boost"
   ]
  },
  {
   "cell_type": "code",
   "execution_count": 33,
   "metadata": {},
   "outputs": [
    {
     "name": "stderr",
     "output_type": "stream",
     "text": [
      "c:\\Users\\Equipo de fabrica\\anaconda3\\lib\\site-packages\\sklearn\\utils\\validation.py:63: DataConversionWarning: A column-vector y was passed when a 1d array was expected. Please change the shape of y to (n_samples, ), for example using ravel().\n",
      "  return f(*args, **kwargs)\n",
      "c:\\Users\\Equipo de fabrica\\anaconda3\\lib\\site-packages\\sklearn\\utils\\validation.py:63: DataConversionWarning: A column-vector y was passed when a 1d array was expected. Please change the shape of y to (n_samples, ), for example using ravel().\n",
      "  return f(*args, **kwargs)\n",
      "c:\\Users\\Equipo de fabrica\\anaconda3\\lib\\site-packages\\sklearn\\utils\\validation.py:63: DataConversionWarning: A column-vector y was passed when a 1d array was expected. Please change the shape of y to (n_samples, ), for example using ravel().\n",
      "  return f(*args, **kwargs)\n",
      "c:\\Users\\Equipo de fabrica\\anaconda3\\lib\\site-packages\\sklearn\\utils\\validation.py:63: DataConversionWarning: A column-vector y was passed when a 1d array was expected. Please change the shape of y to (n_samples, ), for example using ravel().\n",
      "  return f(*args, **kwargs)\n",
      "c:\\Users\\Equipo de fabrica\\anaconda3\\lib\\site-packages\\sklearn\\utils\\validation.py:63: DataConversionWarning: A column-vector y was passed when a 1d array was expected. Please change the shape of y to (n_samples, ), for example using ravel().\n",
      "  return f(*args, **kwargs)\n",
      "c:\\Users\\Equipo de fabrica\\anaconda3\\lib\\site-packages\\sklearn\\utils\\validation.py:63: DataConversionWarning: A column-vector y was passed when a 1d array was expected. Please change the shape of y to (n_samples, ), for example using ravel().\n",
      "  return f(*args, **kwargs)\n",
      "c:\\Users\\Equipo de fabrica\\anaconda3\\lib\\site-packages\\sklearn\\utils\\validation.py:63: DataConversionWarning: A column-vector y was passed when a 1d array was expected. Please change the shape of y to (n_samples, ), for example using ravel().\n",
      "  return f(*args, **kwargs)\n",
      "c:\\Users\\Equipo de fabrica\\anaconda3\\lib\\site-packages\\sklearn\\utils\\validation.py:63: DataConversionWarning: A column-vector y was passed when a 1d array was expected. Please change the shape of y to (n_samples, ), for example using ravel().\n",
      "  return f(*args, **kwargs)\n",
      "c:\\Users\\Equipo de fabrica\\anaconda3\\lib\\site-packages\\sklearn\\utils\\validation.py:63: DataConversionWarning: A column-vector y was passed when a 1d array was expected. Please change the shape of y to (n_samples, ), for example using ravel().\n",
      "  return f(*args, **kwargs)\n",
      "c:\\Users\\Equipo de fabrica\\anaconda3\\lib\\site-packages\\sklearn\\utils\\validation.py:63: DataConversionWarning: A column-vector y was passed when a 1d array was expected. Please change the shape of y to (n_samples, ), for example using ravel().\n",
      "  return f(*args, **kwargs)\n",
      "c:\\Users\\Equipo de fabrica\\anaconda3\\lib\\site-packages\\sklearn\\utils\\validation.py:63: DataConversionWarning: A column-vector y was passed when a 1d array was expected. Please change the shape of y to (n_samples, ), for example using ravel().\n",
      "  return f(*args, **kwargs)\n",
      "c:\\Users\\Equipo de fabrica\\anaconda3\\lib\\site-packages\\sklearn\\utils\\validation.py:63: DataConversionWarning: A column-vector y was passed when a 1d array was expected. Please change the shape of y to (n_samples, ), for example using ravel().\n",
      "  return f(*args, **kwargs)\n",
      "c:\\Users\\Equipo de fabrica\\anaconda3\\lib\\site-packages\\sklearn\\utils\\validation.py:63: DataConversionWarning: A column-vector y was passed when a 1d array was expected. Please change the shape of y to (n_samples, ), for example using ravel().\n",
      "  return f(*args, **kwargs)\n",
      "c:\\Users\\Equipo de fabrica\\anaconda3\\lib\\site-packages\\sklearn\\utils\\validation.py:63: DataConversionWarning: A column-vector y was passed when a 1d array was expected. Please change the shape of y to (n_samples, ), for example using ravel().\n",
      "  return f(*args, **kwargs)\n",
      "c:\\Users\\Equipo de fabrica\\anaconda3\\lib\\site-packages\\sklearn\\utils\\validation.py:63: DataConversionWarning: A column-vector y was passed when a 1d array was expected. Please change the shape of y to (n_samples, ), for example using ravel().\n",
      "  return f(*args, **kwargs)\n",
      "c:\\Users\\Equipo de fabrica\\anaconda3\\lib\\site-packages\\sklearn\\utils\\validation.py:63: DataConversionWarning: A column-vector y was passed when a 1d array was expected. Please change the shape of y to (n_samples, ), for example using ravel().\n",
      "  return f(*args, **kwargs)\n",
      "c:\\Users\\Equipo de fabrica\\anaconda3\\lib\\site-packages\\sklearn\\utils\\validation.py:63: DataConversionWarning: A column-vector y was passed when a 1d array was expected. Please change the shape of y to (n_samples, ), for example using ravel().\n",
      "  return f(*args, **kwargs)\n",
      "c:\\Users\\Equipo de fabrica\\anaconda3\\lib\\site-packages\\sklearn\\utils\\validation.py:63: DataConversionWarning: A column-vector y was passed when a 1d array was expected. Please change the shape of y to (n_samples, ), for example using ravel().\n",
      "  return f(*args, **kwargs)\n",
      "c:\\Users\\Equipo de fabrica\\anaconda3\\lib\\site-packages\\sklearn\\utils\\validation.py:63: DataConversionWarning: A column-vector y was passed when a 1d array was expected. Please change the shape of y to (n_samples, ), for example using ravel().\n",
      "  return f(*args, **kwargs)\n",
      "c:\\Users\\Equipo de fabrica\\anaconda3\\lib\\site-packages\\sklearn\\utils\\validation.py:63: DataConversionWarning: A column-vector y was passed when a 1d array was expected. Please change the shape of y to (n_samples, ), for example using ravel().\n",
      "  return f(*args, **kwargs)\n",
      "c:\\Users\\Equipo de fabrica\\anaconda3\\lib\\site-packages\\sklearn\\utils\\validation.py:63: DataConversionWarning: A column-vector y was passed when a 1d array was expected. Please change the shape of y to (n_samples, ), for example using ravel().\n",
      "  return f(*args, **kwargs)\n",
      "c:\\Users\\Equipo de fabrica\\anaconda3\\lib\\site-packages\\sklearn\\utils\\validation.py:63: DataConversionWarning: A column-vector y was passed when a 1d array was expected. Please change the shape of y to (n_samples, ), for example using ravel().\n",
      "  return f(*args, **kwargs)\n",
      "c:\\Users\\Equipo de fabrica\\anaconda3\\lib\\site-packages\\sklearn\\utils\\validation.py:63: DataConversionWarning: A column-vector y was passed when a 1d array was expected. Please change the shape of y to (n_samples, ), for example using ravel().\n",
      "  return f(*args, **kwargs)\n",
      "c:\\Users\\Equipo de fabrica\\anaconda3\\lib\\site-packages\\sklearn\\utils\\validation.py:63: DataConversionWarning: A column-vector y was passed when a 1d array was expected. Please change the shape of y to (n_samples, ), for example using ravel().\n",
      "  return f(*args, **kwargs)\n",
      "c:\\Users\\Equipo de fabrica\\anaconda3\\lib\\site-packages\\sklearn\\utils\\validation.py:63: DataConversionWarning: A column-vector y was passed when a 1d array was expected. Please change the shape of y to (n_samples, ), for example using ravel().\n",
      "  return f(*args, **kwargs)\n",
      "c:\\Users\\Equipo de fabrica\\anaconda3\\lib\\site-packages\\sklearn\\utils\\validation.py:63: DataConversionWarning: A column-vector y was passed when a 1d array was expected. Please change the shape of y to (n_samples, ), for example using ravel().\n",
      "  return f(*args, **kwargs)\n",
      "c:\\Users\\Equipo de fabrica\\anaconda3\\lib\\site-packages\\sklearn\\utils\\validation.py:63: DataConversionWarning: A column-vector y was passed when a 1d array was expected. Please change the shape of y to (n_samples, ), for example using ravel().\n",
      "  return f(*args, **kwargs)\n",
      "c:\\Users\\Equipo de fabrica\\anaconda3\\lib\\site-packages\\sklearn\\utils\\validation.py:63: DataConversionWarning: A column-vector y was passed when a 1d array was expected. Please change the shape of y to (n_samples, ), for example using ravel().\n",
      "  return f(*args, **kwargs)\n",
      "c:\\Users\\Equipo de fabrica\\anaconda3\\lib\\site-packages\\sklearn\\utils\\validation.py:63: DataConversionWarning: A column-vector y was passed when a 1d array was expected. Please change the shape of y to (n_samples, ), for example using ravel().\n",
      "  return f(*args, **kwargs)\n",
      "c:\\Users\\Equipo de fabrica\\anaconda3\\lib\\site-packages\\sklearn\\utils\\validation.py:63: DataConversionWarning: A column-vector y was passed when a 1d array was expected. Please change the shape of y to (n_samples, ), for example using ravel().\n",
      "  return f(*args, **kwargs)\n",
      "c:\\Users\\Equipo de fabrica\\anaconda3\\lib\\site-packages\\sklearn\\utils\\validation.py:63: DataConversionWarning: A column-vector y was passed when a 1d array was expected. Please change the shape of y to (n_samples, ), for example using ravel().\n",
      "  return f(*args, **kwargs)\n",
      "c:\\Users\\Equipo de fabrica\\anaconda3\\lib\\site-packages\\sklearn\\utils\\validation.py:63: DataConversionWarning: A column-vector y was passed when a 1d array was expected. Please change the shape of y to (n_samples, ), for example using ravel().\n",
      "  return f(*args, **kwargs)\n",
      "c:\\Users\\Equipo de fabrica\\anaconda3\\lib\\site-packages\\sklearn\\utils\\validation.py:63: DataConversionWarning: A column-vector y was passed when a 1d array was expected. Please change the shape of y to (n_samples, ), for example using ravel().\n",
      "  return f(*args, **kwargs)\n",
      "c:\\Users\\Equipo de fabrica\\anaconda3\\lib\\site-packages\\sklearn\\utils\\validation.py:63: DataConversionWarning: A column-vector y was passed when a 1d array was expected. Please change the shape of y to (n_samples, ), for example using ravel().\n",
      "  return f(*args, **kwargs)\n",
      "c:\\Users\\Equipo de fabrica\\anaconda3\\lib\\site-packages\\sklearn\\utils\\validation.py:63: DataConversionWarning: A column-vector y was passed when a 1d array was expected. Please change the shape of y to (n_samples, ), for example using ravel().\n",
      "  return f(*args, **kwargs)\n",
      "c:\\Users\\Equipo de fabrica\\anaconda3\\lib\\site-packages\\sklearn\\utils\\validation.py:63: DataConversionWarning: A column-vector y was passed when a 1d array was expected. Please change the shape of y to (n_samples, ), for example using ravel().\n",
      "  return f(*args, **kwargs)\n",
      "c:\\Users\\Equipo de fabrica\\anaconda3\\lib\\site-packages\\sklearn\\utils\\validation.py:63: DataConversionWarning: A column-vector y was passed when a 1d array was expected. Please change the shape of y to (n_samples, ), for example using ravel().\n",
      "  return f(*args, **kwargs)\n",
      "c:\\Users\\Equipo de fabrica\\anaconda3\\lib\\site-packages\\sklearn\\utils\\validation.py:63: DataConversionWarning: A column-vector y was passed when a 1d array was expected. Please change the shape of y to (n_samples, ), for example using ravel().\n",
      "  return f(*args, **kwargs)\n",
      "c:\\Users\\Equipo de fabrica\\anaconda3\\lib\\site-packages\\sklearn\\utils\\validation.py:63: DataConversionWarning: A column-vector y was passed when a 1d array was expected. Please change the shape of y to (n_samples, ), for example using ravel().\n",
      "  return f(*args, **kwargs)\n",
      "c:\\Users\\Equipo de fabrica\\anaconda3\\lib\\site-packages\\sklearn\\utils\\validation.py:63: DataConversionWarning: A column-vector y was passed when a 1d array was expected. Please change the shape of y to (n_samples, ), for example using ravel().\n",
      "  return f(*args, **kwargs)\n",
      "c:\\Users\\Equipo de fabrica\\anaconda3\\lib\\site-packages\\sklearn\\utils\\validation.py:63: DataConversionWarning: A column-vector y was passed when a 1d array was expected. Please change the shape of y to (n_samples, ), for example using ravel().\n",
      "  return f(*args, **kwargs)\n",
      "c:\\Users\\Equipo de fabrica\\anaconda3\\lib\\site-packages\\sklearn\\utils\\validation.py:63: DataConversionWarning: A column-vector y was passed when a 1d array was expected. Please change the shape of y to (n_samples, ), for example using ravel().\n",
      "  return f(*args, **kwargs)\n",
      "c:\\Users\\Equipo de fabrica\\anaconda3\\lib\\site-packages\\sklearn\\utils\\validation.py:63: DataConversionWarning: A column-vector y was passed when a 1d array was expected. Please change the shape of y to (n_samples, ), for example using ravel().\n",
      "  return f(*args, **kwargs)\n",
      "c:\\Users\\Equipo de fabrica\\anaconda3\\lib\\site-packages\\sklearn\\utils\\validation.py:63: DataConversionWarning: A column-vector y was passed when a 1d array was expected. Please change the shape of y to (n_samples, ), for example using ravel().\n",
      "  return f(*args, **kwargs)\n",
      "c:\\Users\\Equipo de fabrica\\anaconda3\\lib\\site-packages\\sklearn\\utils\\validation.py:63: DataConversionWarning: A column-vector y was passed when a 1d array was expected. Please change the shape of y to (n_samples, ), for example using ravel().\n",
      "  return f(*args, **kwargs)\n",
      "c:\\Users\\Equipo de fabrica\\anaconda3\\lib\\site-packages\\sklearn\\utils\\validation.py:63: DataConversionWarning: A column-vector y was passed when a 1d array was expected. Please change the shape of y to (n_samples, ), for example using ravel().\n",
      "  return f(*args, **kwargs)\n",
      "c:\\Users\\Equipo de fabrica\\anaconda3\\lib\\site-packages\\sklearn\\utils\\validation.py:63: DataConversionWarning: A column-vector y was passed when a 1d array was expected. Please change the shape of y to (n_samples, ), for example using ravel().\n",
      "  return f(*args, **kwargs)\n",
      "c:\\Users\\Equipo de fabrica\\anaconda3\\lib\\site-packages\\sklearn\\utils\\validation.py:63: DataConversionWarning: A column-vector y was passed when a 1d array was expected. Please change the shape of y to (n_samples, ), for example using ravel().\n",
      "  return f(*args, **kwargs)\n",
      "c:\\Users\\Equipo de fabrica\\anaconda3\\lib\\site-packages\\sklearn\\utils\\validation.py:63: DataConversionWarning: A column-vector y was passed when a 1d array was expected. Please change the shape of y to (n_samples, ), for example using ravel().\n",
      "  return f(*args, **kwargs)\n",
      "c:\\Users\\Equipo de fabrica\\anaconda3\\lib\\site-packages\\sklearn\\utils\\validation.py:63: DataConversionWarning: A column-vector y was passed when a 1d array was expected. Please change the shape of y to (n_samples, ), for example using ravel().\n",
      "  return f(*args, **kwargs)\n",
      "c:\\Users\\Equipo de fabrica\\anaconda3\\lib\\site-packages\\sklearn\\utils\\validation.py:63: DataConversionWarning: A column-vector y was passed when a 1d array was expected. Please change the shape of y to (n_samples, ), for example using ravel().\n",
      "  return f(*args, **kwargs)\n",
      "c:\\Users\\Equipo de fabrica\\anaconda3\\lib\\site-packages\\sklearn\\utils\\validation.py:63: DataConversionWarning: A column-vector y was passed when a 1d array was expected. Please change the shape of y to (n_samples, ), for example using ravel().\n",
      "  return f(*args, **kwargs)\n",
      "c:\\Users\\Equipo de fabrica\\anaconda3\\lib\\site-packages\\sklearn\\utils\\validation.py:63: DataConversionWarning: A column-vector y was passed when a 1d array was expected. Please change the shape of y to (n_samples, ), for example using ravel().\n",
      "  return f(*args, **kwargs)\n",
      "c:\\Users\\Equipo de fabrica\\anaconda3\\lib\\site-packages\\sklearn\\utils\\validation.py:63: DataConversionWarning: A column-vector y was passed when a 1d array was expected. Please change the shape of y to (n_samples, ), for example using ravel().\n",
      "  return f(*args, **kwargs)\n",
      "c:\\Users\\Equipo de fabrica\\anaconda3\\lib\\site-packages\\sklearn\\utils\\validation.py:63: DataConversionWarning: A column-vector y was passed when a 1d array was expected. Please change the shape of y to (n_samples, ), for example using ravel().\n",
      "  return f(*args, **kwargs)\n",
      "c:\\Users\\Equipo de fabrica\\anaconda3\\lib\\site-packages\\sklearn\\utils\\validation.py:63: DataConversionWarning: A column-vector y was passed when a 1d array was expected. Please change the shape of y to (n_samples, ), for example using ravel().\n",
      "  return f(*args, **kwargs)\n",
      "c:\\Users\\Equipo de fabrica\\anaconda3\\lib\\site-packages\\sklearn\\utils\\validation.py:63: DataConversionWarning: A column-vector y was passed when a 1d array was expected. Please change the shape of y to (n_samples, ), for example using ravel().\n",
      "  return f(*args, **kwargs)\n",
      "c:\\Users\\Equipo de fabrica\\anaconda3\\lib\\site-packages\\sklearn\\utils\\validation.py:63: DataConversionWarning: A column-vector y was passed when a 1d array was expected. Please change the shape of y to (n_samples, ), for example using ravel().\n",
      "  return f(*args, **kwargs)\n",
      "c:\\Users\\Equipo de fabrica\\anaconda3\\lib\\site-packages\\sklearn\\utils\\validation.py:63: DataConversionWarning: A column-vector y was passed when a 1d array was expected. Please change the shape of y to (n_samples, ), for example using ravel().\n",
      "  return f(*args, **kwargs)\n",
      "c:\\Users\\Equipo de fabrica\\anaconda3\\lib\\site-packages\\sklearn\\utils\\validation.py:63: DataConversionWarning: A column-vector y was passed when a 1d array was expected. Please change the shape of y to (n_samples, ), for example using ravel().\n",
      "  return f(*args, **kwargs)\n",
      "c:\\Users\\Equipo de fabrica\\anaconda3\\lib\\site-packages\\sklearn\\utils\\validation.py:63: DataConversionWarning: A column-vector y was passed when a 1d array was expected. Please change the shape of y to (n_samples, ), for example using ravel().\n",
      "  return f(*args, **kwargs)\n",
      "c:\\Users\\Equipo de fabrica\\anaconda3\\lib\\site-packages\\sklearn\\utils\\validation.py:63: DataConversionWarning: A column-vector y was passed when a 1d array was expected. Please change the shape of y to (n_samples, ), for example using ravel().\n",
      "  return f(*args, **kwargs)\n",
      "c:\\Users\\Equipo de fabrica\\anaconda3\\lib\\site-packages\\sklearn\\utils\\validation.py:63: DataConversionWarning: A column-vector y was passed when a 1d array was expected. Please change the shape of y to (n_samples, ), for example using ravel().\n",
      "  return f(*args, **kwargs)\n",
      "c:\\Users\\Equipo de fabrica\\anaconda3\\lib\\site-packages\\sklearn\\utils\\validation.py:63: DataConversionWarning: A column-vector y was passed when a 1d array was expected. Please change the shape of y to (n_samples, ), for example using ravel().\n",
      "  return f(*args, **kwargs)\n",
      "c:\\Users\\Equipo de fabrica\\anaconda3\\lib\\site-packages\\sklearn\\utils\\validation.py:63: DataConversionWarning: A column-vector y was passed when a 1d array was expected. Please change the shape of y to (n_samples, ), for example using ravel().\n",
      "  return f(*args, **kwargs)\n",
      "c:\\Users\\Equipo de fabrica\\anaconda3\\lib\\site-packages\\sklearn\\utils\\validation.py:63: DataConversionWarning: A column-vector y was passed when a 1d array was expected. Please change the shape of y to (n_samples, ), for example using ravel().\n",
      "  return f(*args, **kwargs)\n",
      "c:\\Users\\Equipo de fabrica\\anaconda3\\lib\\site-packages\\sklearn\\utils\\validation.py:63: DataConversionWarning: A column-vector y was passed when a 1d array was expected. Please change the shape of y to (n_samples, ), for example using ravel().\n",
      "  return f(*args, **kwargs)\n",
      "c:\\Users\\Equipo de fabrica\\anaconda3\\lib\\site-packages\\sklearn\\utils\\validation.py:63: DataConversionWarning: A column-vector y was passed when a 1d array was expected. Please change the shape of y to (n_samples, ), for example using ravel().\n",
      "  return f(*args, **kwargs)\n",
      "c:\\Users\\Equipo de fabrica\\anaconda3\\lib\\site-packages\\sklearn\\utils\\validation.py:63: DataConversionWarning: A column-vector y was passed when a 1d array was expected. Please change the shape of y to (n_samples, ), for example using ravel().\n",
      "  return f(*args, **kwargs)\n",
      "c:\\Users\\Equipo de fabrica\\anaconda3\\lib\\site-packages\\sklearn\\utils\\validation.py:63: DataConversionWarning: A column-vector y was passed when a 1d array was expected. Please change the shape of y to (n_samples, ), for example using ravel().\n",
      "  return f(*args, **kwargs)\n",
      "c:\\Users\\Equipo de fabrica\\anaconda3\\lib\\site-packages\\sklearn\\utils\\validation.py:63: DataConversionWarning: A column-vector y was passed when a 1d array was expected. Please change the shape of y to (n_samples, ), for example using ravel().\n",
      "  return f(*args, **kwargs)\n",
      "c:\\Users\\Equipo de fabrica\\anaconda3\\lib\\site-packages\\sklearn\\utils\\validation.py:63: DataConversionWarning: A column-vector y was passed when a 1d array was expected. Please change the shape of y to (n_samples, ), for example using ravel().\n",
      "  return f(*args, **kwargs)\n",
      "c:\\Users\\Equipo de fabrica\\anaconda3\\lib\\site-packages\\sklearn\\utils\\validation.py:63: DataConversionWarning: A column-vector y was passed when a 1d array was expected. Please change the shape of y to (n_samples, ), for example using ravel().\n",
      "  return f(*args, **kwargs)\n",
      "c:\\Users\\Equipo de fabrica\\anaconda3\\lib\\site-packages\\sklearn\\utils\\validation.py:63: DataConversionWarning: A column-vector y was passed when a 1d array was expected. Please change the shape of y to (n_samples, ), for example using ravel().\n",
      "  return f(*args, **kwargs)\n",
      "c:\\Users\\Equipo de fabrica\\anaconda3\\lib\\site-packages\\sklearn\\utils\\validation.py:63: DataConversionWarning: A column-vector y was passed when a 1d array was expected. Please change the shape of y to (n_samples, ), for example using ravel().\n",
      "  return f(*args, **kwargs)\n",
      "c:\\Users\\Equipo de fabrica\\anaconda3\\lib\\site-packages\\sklearn\\utils\\validation.py:63: DataConversionWarning: A column-vector y was passed when a 1d array was expected. Please change the shape of y to (n_samples, ), for example using ravel().\n",
      "  return f(*args, **kwargs)\n",
      "c:\\Users\\Equipo de fabrica\\anaconda3\\lib\\site-packages\\sklearn\\utils\\validation.py:63: DataConversionWarning: A column-vector y was passed when a 1d array was expected. Please change the shape of y to (n_samples, ), for example using ravel().\n",
      "  return f(*args, **kwargs)\n",
      "c:\\Users\\Equipo de fabrica\\anaconda3\\lib\\site-packages\\sklearn\\utils\\validation.py:63: DataConversionWarning: A column-vector y was passed when a 1d array was expected. Please change the shape of y to (n_samples, ), for example using ravel().\n",
      "  return f(*args, **kwargs)\n",
      "c:\\Users\\Equipo de fabrica\\anaconda3\\lib\\site-packages\\sklearn\\utils\\validation.py:63: DataConversionWarning: A column-vector y was passed when a 1d array was expected. Please change the shape of y to (n_samples, ), for example using ravel().\n",
      "  return f(*args, **kwargs)\n",
      "c:\\Users\\Equipo de fabrica\\anaconda3\\lib\\site-packages\\sklearn\\utils\\validation.py:63: DataConversionWarning: A column-vector y was passed when a 1d array was expected. Please change the shape of y to (n_samples, ), for example using ravel().\n",
      "  return f(*args, **kwargs)\n",
      "c:\\Users\\Equipo de fabrica\\anaconda3\\lib\\site-packages\\sklearn\\utils\\validation.py:63: DataConversionWarning: A column-vector y was passed when a 1d array was expected. Please change the shape of y to (n_samples, ), for example using ravel().\n",
      "  return f(*args, **kwargs)\n",
      "c:\\Users\\Equipo de fabrica\\anaconda3\\lib\\site-packages\\sklearn\\utils\\validation.py:63: DataConversionWarning: A column-vector y was passed when a 1d array was expected. Please change the shape of y to (n_samples, ), for example using ravel().\n",
      "  return f(*args, **kwargs)\n",
      "c:\\Users\\Equipo de fabrica\\anaconda3\\lib\\site-packages\\sklearn\\utils\\validation.py:63: DataConversionWarning: A column-vector y was passed when a 1d array was expected. Please change the shape of y to (n_samples, ), for example using ravel().\n",
      "  return f(*args, **kwargs)\n",
      "c:\\Users\\Equipo de fabrica\\anaconda3\\lib\\site-packages\\sklearn\\utils\\validation.py:63: DataConversionWarning: A column-vector y was passed when a 1d array was expected. Please change the shape of y to (n_samples, ), for example using ravel().\n",
      "  return f(*args, **kwargs)\n",
      "c:\\Users\\Equipo de fabrica\\anaconda3\\lib\\site-packages\\sklearn\\utils\\validation.py:63: DataConversionWarning: A column-vector y was passed when a 1d array was expected. Please change the shape of y to (n_samples, ), for example using ravel().\n",
      "  return f(*args, **kwargs)\n",
      "c:\\Users\\Equipo de fabrica\\anaconda3\\lib\\site-packages\\sklearn\\utils\\validation.py:63: DataConversionWarning: A column-vector y was passed when a 1d array was expected. Please change the shape of y to (n_samples, ), for example using ravel().\n",
      "  return f(*args, **kwargs)\n",
      "c:\\Users\\Equipo de fabrica\\anaconda3\\lib\\site-packages\\sklearn\\utils\\validation.py:63: DataConversionWarning: A column-vector y was passed when a 1d array was expected. Please change the shape of y to (n_samples, ), for example using ravel().\n",
      "  return f(*args, **kwargs)\n",
      "c:\\Users\\Equipo de fabrica\\anaconda3\\lib\\site-packages\\sklearn\\utils\\validation.py:63: DataConversionWarning: A column-vector y was passed when a 1d array was expected. Please change the shape of y to (n_samples, ), for example using ravel().\n",
      "  return f(*args, **kwargs)\n",
      "c:\\Users\\Equipo de fabrica\\anaconda3\\lib\\site-packages\\sklearn\\utils\\validation.py:63: DataConversionWarning: A column-vector y was passed when a 1d array was expected. Please change the shape of y to (n_samples, ), for example using ravel().\n",
      "  return f(*args, **kwargs)\n",
      "c:\\Users\\Equipo de fabrica\\anaconda3\\lib\\site-packages\\sklearn\\utils\\validation.py:63: DataConversionWarning: A column-vector y was passed when a 1d array was expected. Please change the shape of y to (n_samples, ), for example using ravel().\n",
      "  return f(*args, **kwargs)\n",
      "c:\\Users\\Equipo de fabrica\\anaconda3\\lib\\site-packages\\sklearn\\utils\\validation.py:63: DataConversionWarning: A column-vector y was passed when a 1d array was expected. Please change the shape of y to (n_samples, ), for example using ravel().\n",
      "  return f(*args, **kwargs)\n",
      "c:\\Users\\Equipo de fabrica\\anaconda3\\lib\\site-packages\\sklearn\\utils\\validation.py:63: DataConversionWarning: A column-vector y was passed when a 1d array was expected. Please change the shape of y to (n_samples, ), for example using ravel().\n",
      "  return f(*args, **kwargs)\n",
      "c:\\Users\\Equipo de fabrica\\anaconda3\\lib\\site-packages\\sklearn\\utils\\validation.py:63: DataConversionWarning: A column-vector y was passed when a 1d array was expected. Please change the shape of y to (n_samples, ), for example using ravel().\n",
      "  return f(*args, **kwargs)\n",
      "c:\\Users\\Equipo de fabrica\\anaconda3\\lib\\site-packages\\sklearn\\utils\\validation.py:63: DataConversionWarning: A column-vector y was passed when a 1d array was expected. Please change the shape of y to (n_samples, ), for example using ravel().\n",
      "  return f(*args, **kwargs)\n",
      "c:\\Users\\Equipo de fabrica\\anaconda3\\lib\\site-packages\\sklearn\\utils\\validation.py:63: DataConversionWarning: A column-vector y was passed when a 1d array was expected. Please change the shape of y to (n_samples, ), for example using ravel().\n",
      "  return f(*args, **kwargs)\n",
      "c:\\Users\\Equipo de fabrica\\anaconda3\\lib\\site-packages\\sklearn\\utils\\validation.py:63: DataConversionWarning: A column-vector y was passed when a 1d array was expected. Please change the shape of y to (n_samples, ), for example using ravel().\n",
      "  return f(*args, **kwargs)\n",
      "c:\\Users\\Equipo de fabrica\\anaconda3\\lib\\site-packages\\sklearn\\utils\\validation.py:63: DataConversionWarning: A column-vector y was passed when a 1d array was expected. Please change the shape of y to (n_samples, ), for example using ravel().\n",
      "  return f(*args, **kwargs)\n",
      "c:\\Users\\Equipo de fabrica\\anaconda3\\lib\\site-packages\\sklearn\\utils\\validation.py:63: DataConversionWarning: A column-vector y was passed when a 1d array was expected. Please change the shape of y to (n_samples, ), for example using ravel().\n",
      "  return f(*args, **kwargs)\n",
      "c:\\Users\\Equipo de fabrica\\anaconda3\\lib\\site-packages\\sklearn\\utils\\validation.py:63: DataConversionWarning: A column-vector y was passed when a 1d array was expected. Please change the shape of y to (n_samples, ), for example using ravel().\n",
      "  return f(*args, **kwargs)\n",
      "c:\\Users\\Equipo de fabrica\\anaconda3\\lib\\site-packages\\sklearn\\utils\\validation.py:63: DataConversionWarning: A column-vector y was passed when a 1d array was expected. Please change the shape of y to (n_samples, ), for example using ravel().\n",
      "  return f(*args, **kwargs)\n",
      "c:\\Users\\Equipo de fabrica\\anaconda3\\lib\\site-packages\\sklearn\\utils\\validation.py:63: DataConversionWarning: A column-vector y was passed when a 1d array was expected. Please change the shape of y to (n_samples, ), for example using ravel().\n",
      "  return f(*args, **kwargs)\n"
     ]
    },
    {
     "data": {
      "text/plain": [
       "RandomizedSearchCV(cv=10, estimator=GradientBoostingRegressor(),\n",
       "                   param_distributions={'learning_rate': [0.01, 0.05, 0.1],\n",
       "                                        'max_features': [4, 7],\n",
       "                                        'min_samples_split': [5, 10],\n",
       "                                        'n_estimators': [50, 100]},\n",
       "                   random_state=5, refit='r2',\n",
       "                   scoring={'mean_squared_error': make_scorer(mean_squared_error),\n",
       "                            'r2': make_scorer(r2_score)})"
      ]
     },
     "execution_count": 33,
     "metadata": {},
     "output_type": "execute_result"
    }
   ],
   "source": [
    "#Cantidad de combinaciones que quiero porbar\n",
    "n=10\n",
    "\n",
    "#Conjunto de parámetros que quiero usar\n",
    "params_grid = {         'n_estimators': [50, 100], #nº de etapas de boosting\n",
    "                        'learning_rate': [0.01, 0.05, 0.1], #reduce la contribucion de cada arbol por este valor \n",
    "                        'max_features': [4, 7], #nº de variables a tener en cuenta para las divisiones\n",
    "                        'min_samples_split': [5, 10]} #nº mínimo de observaciones necesarias para dividir un nodo interno (n.minobsinnode en R)\n",
    "\n",
    "                \n",
    "#Cantidad de splits para el Cross Validation\n",
    "folds=10\n",
    "\n",
    "#Regresor\n",
    "gb_model_rd_search = GradientBoostingRegressor()\n",
    "\n",
    "#Metrica que quiero optimizar \n",
    "scorer_fn = make_scorer(mean_squared_error)\n",
    "scorer_fn2 = make_scorer(r2_score)\n",
    "\n",
    "#Random Search Cross Validation\n",
    "randomcv_gb_regr = RandomizedSearchCV(estimator=gb_model_rd_search,\n",
    "                              param_distributions = params_grid,\n",
    "                              scoring = {\"mean_squared_error\":scorer_fn, \"r2\" :scorer_fn2},\n",
    "                              n_iter=n, cv=folds, random_state=5, refit=\"r2\") \n",
    "\n",
    "\n",
    "#Busco los hiperparamtros que optimizan MSE y R2\n",
    "randomcv_gb_regr.fit(x_train,y_train)"
   ]
  },
  {
   "cell_type": "markdown",
   "metadata": {},
   "source": [
    "- Utilizamos Random Serch dado que si bien Grid search es capaz de encontrar todas las combinaciones, el tiempo de ejecucion es demasiado alto y ademas las metricas no mejoran radicalmente. Utilizo una cantidad de 10 combinaciones\n",
    "\n",
    "- Para buscar los parametros consideramos utilizar r2 score y mean squared error"
   ]
  },
  {
   "cell_type": "code",
   "execution_count": 34,
   "metadata": {},
   "outputs": [
    {
     "name": "stdout",
     "output_type": "stream",
     "text": [
      "{'n_estimators': 100, 'min_samples_split': 10, 'max_features': 7, 'learning_rate': 0.1}\n",
      "El R2 score en datos de entrnamiento: 0.8342605109738948\n"
     ]
    }
   ],
   "source": [
    "#Mejores hiperparametros\n",
    "print(randomcv_gb_regr.best_params_)\n",
    "\n",
    "#Mejor métrica\n",
    "r2 = randomcv_gb_regr.best_score_\n",
    "\n",
    "print(\"El R2 score en datos de entrnamiento: \" + str((r2)))"
   ]
  },
  {
   "cell_type": "code",
   "execution_count": 35,
   "metadata": {},
   "outputs": [],
   "source": [
    "#Mejor estimador\n",
    "best_gradient_boost_regr = GradientBoostingRegressor().set_params(**randomcv_gb_regr.best_params_)\n"
   ]
  },
  {
   "cell_type": "markdown",
   "metadata": {},
   "source": [
    "Obtuvimos buenas metricas en ambos, entrenamiento y testeo. Por lo que el modelo no esta overfiteado"
   ]
  },
  {
   "cell_type": "markdown",
   "metadata": {},
   "source": [
    "### Random Forest"
   ]
  },
  {
   "cell_type": "code",
   "execution_count": 42,
   "metadata": {},
   "outputs": [
    {
     "name": "stderr",
     "output_type": "stream",
     "text": [
      "c:\\Users\\Equipo de fabrica\\anaconda3\\lib\\site-packages\\sklearn\\model_selection\\_split.py:666: UserWarning: The least populated class in y has only 1 members, which is less than n_splits=10.\n",
      "  warnings.warn((\"The least populated class in y has only %d\"\n",
      "c:\\Users\\Equipo de fabrica\\anaconda3\\lib\\site-packages\\sklearn\\model_selection\\_search.py:880: DataConversionWarning: A column-vector y was passed when a 1d array was expected. Please change the shape of y to (n_samples,), for example using ravel().\n",
      "  self.best_estimator_.fit(X, y, **fit_params)\n"
     ]
    },
    {
     "data": {
      "text/plain": [
       "RandomizedSearchCV(cv=StratifiedKFold(n_splits=10, random_state=None, shuffle=False),\n",
       "                   estimator=RandomForestRegressor(), n_jobs=-1,\n",
       "                   param_distributions={'ccp_alpha': array([0.001     , 0.00144444, 0.00188889, 0.00233333, 0.00277778,\n",
       "       0.00322222, 0.00366667, 0.00411111, 0.00455556, 0.005     ]),\n",
       "                                        'max_depth': [2, 3, 4, 5, 6, 7, 8, 9],\n",
       "                                        'max_features': [4, 7],\n",
       "                                        'min_samples_leaf': [1, 2, 3, 4, 5, 6,\n",
       "                                                             7, 8, 9],\n",
       "                                        'min_samples_split': [12, 13, 14, 15,\n",
       "                                                              16, 17, 18, 19]},\n",
       "                   random_state=1, refit='r2',\n",
       "                   scoring={'mean_squared_error': make_scorer(mean_squared_error),\n",
       "                            'r2': make_scorer(r2_score)})"
      ]
     },
     "execution_count": 42,
     "metadata": {},
     "output_type": "execute_result"
    }
   ],
   "source": [
    "#Cantidad de combinaciones que quiero porbar\n",
    "n=10\n",
    "\n",
    "\n",
    "param_grid_rf = {\n",
    "            'min_samples_leaf':list(range(1,10)),\n",
    "            'min_samples_split': list(range(12,20)),\n",
    "            'max_features': [4, 7],\n",
    "            'ccp_alpha':np.linspace(0.001,0.005,n), \n",
    "            'max_depth':list(range(2,10)),\n",
    "           }\n",
    "\n",
    "#Cantidad de splits para el Cross Validation\n",
    "folds=10\n",
    "\n",
    "#Kfold estratificado\n",
    "kfoldcv = StratifiedKFold(n_splits=folds)\n",
    "\n",
    "#Clasificador\n",
    "base_tree_rf = RandomForestRegressor()\n",
    "\n",
    "\n",
    "#Metrica que quiero optimizar F1 Score\n",
    "scorer_fn = make_scorer(mean_squared_error)\n",
    "scorer_fn2 = make_scorer(r2_score)\n",
    "\n",
    "\n",
    "randomcv_rf_regr = RandomizedSearchCV(   estimator=base_tree_rf,\n",
    "                                    param_distributions = param_grid_rf,\n",
    "                                    cv=kfoldcv,\n",
    "                                    scoring = {\"mean_squared_error\":scorer_fn, \"r2\":scorer_fn2},\n",
    "                                    n_jobs=-1,\n",
    "                                    random_state=1,\n",
    "                                    refit=\"r2\")\n",
    "\n",
    "randomcv_rf_regr.fit(x_train, y_train)"
   ]
  },
  {
   "cell_type": "markdown",
   "metadata": {},
   "source": [
    "- Utilizamos Random Serch dado que si bien Grid search es capaz de encontrar todas las combinaciones, el tiempo de ejecucion es demasiado alto y ademas las metricas no mejoran radicalmente. Utilizo una cantidad de 10 combinaciones\n",
    "\n",
    "- Para buscar los parametros consideramos utilizar r2 score y mean squared error"
   ]
  },
  {
   "cell_type": "code",
   "execution_count": 43,
   "metadata": {},
   "outputs": [
    {
     "name": "stdout",
     "output_type": "stream",
     "text": [
      "{'min_samples_split': 13, 'min_samples_leaf': 6, 'max_features': 4, 'max_depth': 8, 'ccp_alpha': 0.001}\n",
      "El R2 score en datos de entrnamiento: 0.8374605347930626\n"
     ]
    }
   ],
   "source": [
    "#Mejores hiperparametros\n",
    "print(randomcv_rf_regr.best_params_)\n",
    "\n",
    "#Mejor métrica\n",
    "r2 = randomcv_rf_regr.best_score_\n",
    "\n",
    "print(\"El R2 score en datos de entrnamiento: \" + str((r2)))"
   ]
  },
  {
   "cell_type": "code",
   "execution_count": 38,
   "metadata": {},
   "outputs": [],
   "source": [
    "#Mejor estimador\n",
    "best_rand_forest_regr = RandomForestRegressor().set_params(**randomcv_rf_regr.best_params_)\n"
   ]
  },
  {
   "cell_type": "markdown",
   "metadata": {},
   "source": [
    "### Ensamblamos los modelos"
   ]
  },
  {
   "cell_type": "code",
   "execution_count": 39,
   "metadata": {},
   "outputs": [
    {
     "name": "stderr",
     "output_type": "stream",
     "text": [
      "c:\\Users\\Equipo de fabrica\\anaconda3\\lib\\site-packages\\sklearn\\utils\\validation.py:63: DataConversionWarning: A column-vector y was passed when a 1d array was expected. Please change the shape of y to (n_samples, ), for example using ravel().\n",
      "  return f(*args, **kwargs)\n",
      "[Parallel(n_jobs=1)]: Using backend SequentialBackend with 1 concurrent workers.\n",
      "[Parallel(n_jobs=1)]: Done   1 out of   1 | elapsed:    3.1s remaining:    0.0s\n",
      "[Parallel(n_jobs=1)]: Done  10 out of  10 | elapsed:   31.9s finished\n",
      "[Parallel(n_jobs=1)]: Using backend SequentialBackend with 1 concurrent workers.\n",
      "[Parallel(n_jobs=1)]: Done   1 out of   1 | elapsed:    3.9s remaining:    0.0s\n",
      "[Parallel(n_jobs=1)]: Done  10 out of  10 | elapsed:   40.6s finished\n",
      "[Parallel(n_jobs=1)]: Using backend SequentialBackend with 1 concurrent workers.\n",
      "[Parallel(n_jobs=1)]: Done   1 out of   1 | elapsed:    5.1s remaining:    0.0s\n",
      "[Parallel(n_jobs=1)]: Done  10 out of  10 | elapsed:   50.1s finished\n"
     ]
    }
   ],
   "source": [
    "#Modelos Base\n",
    "base_models = [('random_forest',best_rand_forest_regr),\n",
    "               ('xg_boost', best_xgboost_regr),\n",
    "               ('gradient_boost', best_gradient_boost_regr)]\n",
    "\n",
    "#Meta Modelo\n",
    "meta_model = best_knn_regr\n",
    "\n",
    "#Ensemble Stacking\n",
    "stacking_model = StackingRegressor(estimators=base_models, \n",
    "                                    final_estimator=meta_model, \n",
    "                                    passthrough=True, \n",
    "                                    cv=10,\n",
    "                                    verbose=2)\n",
    "#Entreno el ensemble\n",
    "stacking_model.fit(x_train, y_train)\n",
    "\n",
    "#Evaluo en conjunto de test\n",
    "y_pred = stacking_model.predict(x_test)          "
   ]
  },
  {
   "cell_type": "code",
   "execution_count": 40,
   "metadata": {},
   "outputs": [
    {
     "name": "stdout",
     "output_type": "stream",
     "text": [
      "El error (mse) de test es: 2229871538.684725\n",
      "El error (rmse) de test es: 47221.51563307477\n",
      "El R2 score en datos de test: 0.8913355087455946\n"
     ]
    }
   ],
   "source": [
    "#Mean Square Error\n",
    "mse = metrics.mean_squared_error(\n",
    "        y_true  = y_test,\n",
    "        y_pred  = y_pred,\n",
    "        squared = True\n",
    "       )\n",
    "\n",
    "#Root Mean Square Error\n",
    "rmse = metrics.mean_squared_error(\n",
    "        y_true  = y_test,\n",
    "        y_pred  = y_pred,\n",
    "        squared = False\n",
    "       )\n",
    "\n",
    "r2 = metrics.r2_score(\n",
    "        y_true  = y_test,\n",
    "        y_pred  = y_pred,\n",
    "\n",
    ")\n",
    "\n",
    "print(f\"El error (mse) de test es: {mse}\")\n",
    "print(f\"El error (rmse) de test es: {rmse}\")\n",
    "print(\"El R2 score en datos de test: \" + str((r2)))"
   ]
  },
  {
   "cell_type": "markdown",
   "metadata": {},
   "source": [
    "### Comparacion con lo obtenido en redes"
   ]
  },
  {
   "cell_type": "markdown",
   "metadata": {},
   "source": [
    "a completar !!!!!!!!!!!!!!!!!!!!!!!!!!!!!!!!!!!!!!!!!!!!!!!!!!!!!!!!!!!!!!!!!!!!!!!!!!!!!!!!!!!!!!!!!!!!!!!!!!!!!!!!!!!!!"
   ]
  }
 ],
 "metadata": {
  "kernelspec": {
   "display_name": "Python 3.9.7 ('base')",
   "language": "python",
   "name": "python3"
  },
  "language_info": {
   "codemirror_mode": {
    "name": "ipython",
    "version": 3
   },
   "file_extension": ".py",
   "mimetype": "text/x-python",
   "name": "python",
   "nbconvert_exporter": "python",
   "pygments_lexer": "ipython3",
   "version": "3.9.7"
  },
  "orig_nbformat": 4,
  "vscode": {
   "interpreter": {
    "hash": "58a64575c8cfdef51510e9edeb704e817dc2041b90101eeff0eafbccde98456f"
   }
  }
 },
 "nbformat": 4,
 "nbformat_minor": 2
}
