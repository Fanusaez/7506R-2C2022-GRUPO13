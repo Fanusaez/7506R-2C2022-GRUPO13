{
 "cells": [
  {
   "cell_type": "markdown",
   "metadata": {},
   "source": [
    "# Importe de librerias"
   ]
  },
  {
   "cell_type": "code",
   "execution_count": 35,
   "metadata": {},
   "outputs": [
    {
     "name": "stderr",
     "output_type": "stream",
     "text": [
      "[nltk_data] Downloading package stopwords to /home/fanu/nltk_data...\n",
      "[nltk_data]   Package stopwords is already up-to-date!\n"
     ]
    }
   ],
   "source": [
    "import pandas as pd\n",
    "import numpy as np\n",
    "import matplotlib as plt\n",
    "import seaborn as sns\n",
    "import nltk \n",
    "import string\n",
    "from nltk.corpus import stopwords\n",
    "nltk.download('stopwords')\n",
    "import collections"
   ]
  },
  {
   "cell_type": "code",
   "execution_count": 36,
   "metadata": {},
   "outputs": [],
   "source": [
    "ds_descrip = pd.read_csv('properati_argentina_2021_decrip.csv')"
   ]
  },
  {
   "cell_type": "code",
   "execution_count": 37,
   "metadata": {},
   "outputs": [
    {
     "data": {
      "text/html": [
       "<div>\n",
       "<style scoped>\n",
       "    .dataframe tbody tr th:only-of-type {\n",
       "        vertical-align: middle;\n",
       "    }\n",
       "\n",
       "    .dataframe tbody tr th {\n",
       "        vertical-align: top;\n",
       "    }\n",
       "\n",
       "    .dataframe thead th {\n",
       "        text-align: right;\n",
       "    }\n",
       "</style>\n",
       "<table border=\"1\" class=\"dataframe\">\n",
       "  <thead>\n",
       "    <tr style=\"text-align: right;\">\n",
       "      <th></th>\n",
       "      <th>id</th>\n",
       "      <th>property_description</th>\n",
       "    </tr>\n",
       "  </thead>\n",
       "  <tbody>\n",
       "    <tr>\n",
       "      <th>0</th>\n",
       "      <td>BZCeiGkJr1WBUi6pKJQwJQ==</td>\n",
       "      <td>Corredor Responsable: MARIA ALEJANDRA GENOVEVA...</td>\n",
       "    </tr>\n",
       "    <tr>\n",
       "      <th>1</th>\n",
       "      <td>zuHOGgUE0UB71W7m/YCLoA==</td>\n",
       "      <td>¡HERMOSO PH TIPO CASA DE 2 AMBIENTES!&lt;br&gt;APTO ...</td>\n",
       "    </tr>\n",
       "    <tr>\n",
       "      <th>2</th>\n",
       "      <td>TUL813tXchVBlHUsfaA6DA==</td>\n",
       "      <td>Excelente PH en Núñez 4 amb!!!! Oportunidad !!...</td>\n",
       "    </tr>\n",
       "    <tr>\n",
       "      <th>3</th>\n",
       "      <td>gn55JPmcjftBV/at1a7fPg==</td>\n",
       "      <td>UNICO PH DE 4 DORMITORIOS EN IMPECABLE ESTADO,...</td>\n",
       "    </tr>\n",
       "    <tr>\n",
       "      <th>4</th>\n",
       "      <td>qg4m3QHcuo1+wMmyp7kx3Q==</td>\n",
       "      <td>Ph 2 Amb. Villa Crespo exclusivo uso profesion...</td>\n",
       "    </tr>\n",
       "  </tbody>\n",
       "</table>\n",
       "</div>"
      ],
      "text/plain": [
       "                         id                               property_description\n",
       "0  BZCeiGkJr1WBUi6pKJQwJQ==  Corredor Responsable: MARIA ALEJANDRA GENOVEVA...\n",
       "1  zuHOGgUE0UB71W7m/YCLoA==  ¡HERMOSO PH TIPO CASA DE 2 AMBIENTES!<br>APTO ...\n",
       "2  TUL813tXchVBlHUsfaA6DA==  Excelente PH en Núñez 4 amb!!!! Oportunidad !!...\n",
       "3  gn55JPmcjftBV/at1a7fPg==  UNICO PH DE 4 DORMITORIOS EN IMPECABLE ESTADO,...\n",
       "4  qg4m3QHcuo1+wMmyp7kx3Q==  Ph 2 Amb. Villa Crespo exclusivo uso profesion..."
      ]
     },
     "execution_count": 37,
     "metadata": {},
     "output_type": "execute_result"
    }
   ],
   "source": [
    "ds_descrip.head()"
   ]
  },
  {
   "cell_type": "code",
   "execution_count": 38,
   "metadata": {},
   "outputs": [
    {
     "data": {
      "text/plain": [
       "id                      object\n",
       "property_description    object\n",
       "dtype: object"
      ]
     },
     "execution_count": 38,
     "metadata": {},
     "output_type": "execute_result"
    }
   ],
   "source": [
    "ds_descrip.dtypes"
   ]
  },
  {
   "cell_type": "markdown",
   "metadata": {},
   "source": [
    "Realizo transformaciones sobre el dataset\n"
   ]
  },
  {
   "cell_type": "code",
   "execution_count": 39,
   "metadata": {},
   "outputs": [
    {
     "name": "stderr",
     "output_type": "stream",
     "text": [
      "<ipython-input-39-50195bd27dea>:5: FutureWarning: The default value of regex will change from True to False in a future version.\n",
      "  ds_descrip['property_description'] = ds_descrip['property_description'].str.replace('[{}]'.format(string.punctuation), '')\n"
     ]
    }
   ],
   "source": [
    "#convierto columna a STR\n",
    "ds_descrip['property_description'] = ds_descrip['property_description'].astype(str)\n",
    "\n",
    "#saco signos de puntuacion\n",
    "ds_descrip['property_description'] = ds_descrip['property_description'].str.replace('[{}]'.format(string.punctuation), '')\n"
   ]
  },
  {
   "cell_type": "markdown",
   "metadata": {},
   "source": [
    "Elimino Stop_words"
   ]
  },
  {
   "cell_type": "code",
   "execution_count": 40,
   "metadata": {},
   "outputs": [],
   "source": [
    "def eliminar_stopwords(texto, stopwords):\n",
    "    return ' '.join([word for word in texto.split(' ') if word not in stopwords])\n",
    "\n",
    "\n",
    "stop_words =  set(stopwords.words('spanish'))\n",
    "\n",
    "\n",
    "for index, row in ds_descrip.iterrows():\n",
    "    ds_descrip['property_description'][index] = eliminar_stopwords(ds_descrip[\"property_description\"][index], stop_words)"
   ]
  },
  {
   "cell_type": "code",
   "execution_count": 41,
   "metadata": {},
   "outputs": [],
   "source": [
    "texto = \"\"\n",
    "for index, row in ds_descrip.iterrows():\n",
    "    texto += ds_descrip['property_description'][index]"
   ]
  },
  {
   "cell_type": "markdown",
   "metadata": {},
   "source": [
    "Tokenizo todo"
   ]
  },
  {
   "cell_type": "code",
   "execution_count": null,
   "metadata": {},
   "outputs": [],
   "source": [
    "\n",
    "bag_of_words = nltk.word_tokenize(texto)\n"
   ]
  },
  {
   "cell_type": "code",
   "execution_count": null,
   "metadata": {},
   "outputs": [
    {
     "data": {
      "text/plain": [
       "[('cocina', 354241),\n",
       " ('baño', 348543),\n",
       " ('de', 312898),\n",
       " ('comedor', 298446),\n",
       " ('2', 292969),\n",
       " ('propiedad', 243381),\n",
       " ('living', 226179),\n",
       " ('dormitorios', 216964),\n",
       " ('dos', 212398),\n",
       " ('piso', 210605),\n",
       " ('casa', 210532),\n",
       " ('en', 210340),\n",
       " ('ambientes', 204186),\n",
       " ('3', 199490),\n",
       " ('cuenta', 189446),\n",
       " ('completo', 188352),\n",
       " ('la', 184856),\n",
       " ('dormitorio', 184102),\n",
       " ('con', 180469),\n",
       " ('frente', 180409),\n",
       " ('responsable', 173944),\n",
       " ('y', 165074),\n",
       " ('planta', 161631),\n",
       " ('1', 158351),\n",
       " ('balcón', 156901),\n",
       " ('x', 155375),\n",
       " ('a', 154961),\n",
       " ('el', 154710),\n",
       " ('departamento', 154329),\n",
       " ('m2', 152405)]"
      ]
     },
     "execution_count": 33,
     "metadata": {},
     "output_type": "execute_result"
    }
   ],
   "source": [
    "lower_tokens = [token.lower() for token in bag_of_words]\n",
    "counter_var = collections.Counter(lower_tokens)\n",
    "counter_var.most_common(30)"
   ]
  },
  {
   "cell_type": "code",
   "execution_count": 27,
   "metadata": {},
   "outputs": [
    {
     "data": {
      "text/html": [
       "<div>\n",
       "<style scoped>\n",
       "    .dataframe tbody tr th:only-of-type {\n",
       "        vertical-align: middle;\n",
       "    }\n",
       "\n",
       "    .dataframe tbody tr th {\n",
       "        vertical-align: top;\n",
       "    }\n",
       "\n",
       "    .dataframe thead th {\n",
       "        text-align: right;\n",
       "    }\n",
       "</style>\n",
       "<table border=\"1\" class=\"dataframe\">\n",
       "  <thead>\n",
       "    <tr style=\"text-align: right;\">\n",
       "      <th></th>\n",
       "      <th>id</th>\n",
       "      <th>property_description</th>\n",
       "      <th>tok</th>\n",
       "    </tr>\n",
       "  </thead>\n",
       "  <tbody>\n",
       "    <tr>\n",
       "      <th>0</th>\n",
       "      <td>BZCeiGkJr1WBUi6pKJQwJQ==</td>\n",
       "      <td>Corredor Responsable MARIA ALEJANDRA GENOVEVA ...</td>\n",
       "      <td>[Corredor, Responsable, MARIA, ALEJANDRA, GENO...</td>\n",
       "    </tr>\n",
       "    <tr>\n",
       "      <th>1</th>\n",
       "      <td>zuHOGgUE0UB71W7m/YCLoA==</td>\n",
       "      <td>¡HERMOSO PH TIPO CASA DE 2 AMBIENTESbrAPTO CRÉ...</td>\n",
       "      <td>[¡HERMOSO, PH, TIPO, CASA, DE, 2, AMBIENTESbrA...</td>\n",
       "    </tr>\n",
       "    <tr>\n",
       "      <th>2</th>\n",
       "      <td>TUL813tXchVBlHUsfaA6DA==</td>\n",
       "      <td>Excelente PH Núñez 4 amb Oportunidad  Total 15...</td>\n",
       "      <td>[Excelente, PH, Núñez, 4, amb, Oportunidad, To...</td>\n",
       "    </tr>\n",
       "    <tr>\n",
       "      <th>3</th>\n",
       "      <td>gn55JPmcjftBV/at1a7fPg==</td>\n",
       "      <td>UNICO PH DE 4 DORMITORIOS EN IMPECABLE ESTADO ...</td>\n",
       "      <td>[UNICO, PH, DE, 4, DORMITORIOS, EN, IMPECABLE,...</td>\n",
       "    </tr>\n",
       "    <tr>\n",
       "      <th>4</th>\n",
       "      <td>qg4m3QHcuo1+wMmyp7kx3Q==</td>\n",
       "      <td>Ph 2 Amb Villa Crespo exclusivo uso profesiona...</td>\n",
       "      <td>[Ph, 2, Amb, Villa, Crespo, exclusivo, uso, pr...</td>\n",
       "    </tr>\n",
       "  </tbody>\n",
       "</table>\n",
       "</div>"
      ],
      "text/plain": [
       "                         id  \\\n",
       "0  BZCeiGkJr1WBUi6pKJQwJQ==   \n",
       "1  zuHOGgUE0UB71W7m/YCLoA==   \n",
       "2  TUL813tXchVBlHUsfaA6DA==   \n",
       "3  gn55JPmcjftBV/at1a7fPg==   \n",
       "4  qg4m3QHcuo1+wMmyp7kx3Q==   \n",
       "\n",
       "                                property_description  \\\n",
       "0  Corredor Responsable MARIA ALEJANDRA GENOVEVA ...   \n",
       "1  ¡HERMOSO PH TIPO CASA DE 2 AMBIENTESbrAPTO CRÉ...   \n",
       "2  Excelente PH Núñez 4 amb Oportunidad  Total 15...   \n",
       "3  UNICO PH DE 4 DORMITORIOS EN IMPECABLE ESTADO ...   \n",
       "4  Ph 2 Amb Villa Crespo exclusivo uso profesiona...   \n",
       "\n",
       "                                                 tok  \n",
       "0  [Corredor, Responsable, MARIA, ALEJANDRA, GENO...  \n",
       "1  [¡HERMOSO, PH, TIPO, CASA, DE, 2, AMBIENTESbrA...  \n",
       "2  [Excelente, PH, Núñez, 4, amb, Oportunidad, To...  \n",
       "3  [UNICO, PH, DE, 4, DORMITORIOS, EN, IMPECABLE,...  \n",
       "4  [Ph, 2, Amb, Villa, Crespo, exclusivo, uso, pr...  "
      ]
     },
     "execution_count": 27,
     "metadata": {},
     "output_type": "execute_result"
    }
   ],
   "source": [
    "ds_descrip.head()"
   ]
  }
 ],
 "metadata": {
  "kernelspec": {
   "display_name": "Python 3 (ipykernel)",
   "language": "python",
   "name": "python3"
  },
  "language_info": {
   "codemirror_mode": {
    "name": "ipython",
    "version": 3
   },
   "file_extension": ".py",
   "mimetype": "text/x-python",
   "name": "python",
   "nbconvert_exporter": "python",
   "pygments_lexer": "ipython3",
   "version": "3.8.10"
  },
  "vscode": {
   "interpreter": {
    "hash": "916dbcbb3f70747c44a77c7bcd40155683ae19c65e1c03b4aa3499c5328201f1"
   }
  }
 },
 "nbformat": 4,
 "nbformat_minor": 2
}
