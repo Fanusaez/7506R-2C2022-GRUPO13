{
 "cells": [
  {
   "cell_type": "markdown",
   "metadata": {},
   "source": [
    "# Importe de librerias"
   ]
  },
  {
   "cell_type": "code",
   "execution_count": 104,
   "metadata": {},
   "outputs": [],
   "source": [
    "import pandas as pd\n",
    "import numpy as np\n",
    "import sklearn \n",
    "import matplotlib.pyplot as plt\n",
    "import seaborn as sns\n",
    "import string\n",
    "import re\n",
    "from nltk.corpus import stopwords\n",
    "import collections\n",
    "from sklearn.preprocessing import StandardScaler\n",
    "\n",
    "import xgboost as xgb\n",
    "from sklearn.metrics import mean_squared_error, r2_score\n",
    "from sklearn.model_selection import StratifiedKFold, KFold,RandomizedSearchCV\n",
    "from sklearn.metrics import make_scorer\n",
    "\n",
    "\n",
    "#descargas\n",
    "#nltk.download('stopwords')\n",
    "#nltk.download('punkt')"
   ]
  },
  {
   "cell_type": "markdown",
   "metadata": {},
   "source": [
    "# Ampliacion del dataset"
   ]
  },
  {
   "cell_type": "code",
   "execution_count": 105,
   "metadata": {},
   "outputs": [],
   "source": [
    "ds_descrip = pd.read_csv('properati_argentina_2021_decrip.csv')"
   ]
  },
  {
   "cell_type": "code",
   "execution_count": 106,
   "metadata": {},
   "outputs": [
    {
     "data": {
      "text/html": [
       "<div>\n",
       "<style scoped>\n",
       "    .dataframe tbody tr th:only-of-type {\n",
       "        vertical-align: middle;\n",
       "    }\n",
       "\n",
       "    .dataframe tbody tr th {\n",
       "        vertical-align: top;\n",
       "    }\n",
       "\n",
       "    .dataframe thead th {\n",
       "        text-align: right;\n",
       "    }\n",
       "</style>\n",
       "<table border=\"1\" class=\"dataframe\">\n",
       "  <thead>\n",
       "    <tr style=\"text-align: right;\">\n",
       "      <th></th>\n",
       "      <th>id</th>\n",
       "      <th>property_description</th>\n",
       "    </tr>\n",
       "  </thead>\n",
       "  <tbody>\n",
       "    <tr>\n",
       "      <th>0</th>\n",
       "      <td>BZCeiGkJr1WBUi6pKJQwJQ==</td>\n",
       "      <td>Corredor Responsable: MARIA ALEJANDRA GENOVEVA...</td>\n",
       "    </tr>\n",
       "    <tr>\n",
       "      <th>1</th>\n",
       "      <td>zuHOGgUE0UB71W7m/YCLoA==</td>\n",
       "      <td>¡HERMOSO PH TIPO CASA DE 2 AMBIENTES!&lt;br&gt;APTO ...</td>\n",
       "    </tr>\n",
       "    <tr>\n",
       "      <th>2</th>\n",
       "      <td>TUL813tXchVBlHUsfaA6DA==</td>\n",
       "      <td>Excelente PH en Núñez 4 amb!!!! Oportunidad !!...</td>\n",
       "    </tr>\n",
       "    <tr>\n",
       "      <th>3</th>\n",
       "      <td>gn55JPmcjftBV/at1a7fPg==</td>\n",
       "      <td>UNICO PH DE 4 DORMITORIOS EN IMPECABLE ESTADO,...</td>\n",
       "    </tr>\n",
       "    <tr>\n",
       "      <th>4</th>\n",
       "      <td>qg4m3QHcuo1+wMmyp7kx3Q==</td>\n",
       "      <td>Ph 2 Amb. Villa Crespo exclusivo uso profesion...</td>\n",
       "    </tr>\n",
       "  </tbody>\n",
       "</table>\n",
       "</div>"
      ],
      "text/plain": [
       "                         id                               property_description\n",
       "0  BZCeiGkJr1WBUi6pKJQwJQ==  Corredor Responsable: MARIA ALEJANDRA GENOVEVA...\n",
       "1  zuHOGgUE0UB71W7m/YCLoA==  ¡HERMOSO PH TIPO CASA DE 2 AMBIENTES!<br>APTO ...\n",
       "2  TUL813tXchVBlHUsfaA6DA==  Excelente PH en Núñez 4 amb!!!! Oportunidad !!...\n",
       "3  gn55JPmcjftBV/at1a7fPg==  UNICO PH DE 4 DORMITORIOS EN IMPECABLE ESTADO,...\n",
       "4  qg4m3QHcuo1+wMmyp7kx3Q==  Ph 2 Amb. Villa Crespo exclusivo uso profesion..."
      ]
     },
     "execution_count": 106,
     "metadata": {},
     "output_type": "execute_result"
    }
   ],
   "source": [
    "ds_descrip.head()"
   ]
  },
  {
   "cell_type": "code",
   "execution_count": 107,
   "metadata": {},
   "outputs": [
    {
     "data": {
      "text/plain": [
       "id                      object\n",
       "property_description    object\n",
       "dtype: object"
      ]
     },
     "execution_count": 107,
     "metadata": {},
     "output_type": "execute_result"
    }
   ],
   "source": [
    "ds_descrip.dtypes"
   ]
  },
  {
   "cell_type": "markdown",
   "metadata": {},
   "source": [
    "Realizo transformaciones sobre el dataset\n"
   ]
  },
  {
   "cell_type": "markdown",
   "metadata": {},
   "source": [
    "### Combino dataset de descripciones con dataset popiedades obtenidos TP1"
   ]
  },
  {
   "cell_type": "markdown",
   "metadata": {},
   "source": [
    "A traves del ID de cada descripcion puedo saber de que propiedad es la descipcion de cada fila"
   ]
  },
  {
   "cell_type": "code",
   "execution_count": 108,
   "metadata": {},
   "outputs": [],
   "source": [
    "ds_train= pd.read_csv('properati_argentina_train.csv')\n",
    "ds_test = pd.read_csv('properati_argentina_test.csv')"
   ]
  },
  {
   "cell_type": "code",
   "execution_count": 109,
   "metadata": {},
   "outputs": [
    {
     "data": {
      "text/html": [
       "<div>\n",
       "<style scoped>\n",
       "    .dataframe tbody tr th:only-of-type {\n",
       "        vertical-align: middle;\n",
       "    }\n",
       "\n",
       "    .dataframe tbody tr th {\n",
       "        vertical-align: top;\n",
       "    }\n",
       "\n",
       "    .dataframe thead th {\n",
       "        text-align: right;\n",
       "    }\n",
       "</style>\n",
       "<table border=\"1\" class=\"dataframe\">\n",
       "  <thead>\n",
       "    <tr style=\"text-align: right;\">\n",
       "      <th></th>\n",
       "      <th>Unnamed: 0</th>\n",
       "      <th>id</th>\n",
       "      <th>latitud</th>\n",
       "      <th>longitud</th>\n",
       "      <th>property_type</th>\n",
       "      <th>property_rooms</th>\n",
       "      <th>property_bedrooms</th>\n",
       "      <th>property_surface_total</th>\n",
       "      <th>property_surface_covered</th>\n",
       "      <th>property_price</th>\n",
       "      <th>precioxm2_relativo_q</th>\n",
       "    </tr>\n",
       "  </thead>\n",
       "  <tbody>\n",
       "    <tr>\n",
       "      <th>0</th>\n",
       "      <td>0</td>\n",
       "      <td>CLj2GNCsBreAzTKFXCaLIQ==</td>\n",
       "      <td>-34.601807</td>\n",
       "      <td>-58.469965</td>\n",
       "      <td>Departamento</td>\n",
       "      <td>2.0</td>\n",
       "      <td>1.0</td>\n",
       "      <td>53.0</td>\n",
       "      <td>49.0</td>\n",
       "      <td>80000.0</td>\n",
       "      <td>bajo</td>\n",
       "    </tr>\n",
       "    <tr>\n",
       "      <th>1</th>\n",
       "      <td>1</td>\n",
       "      <td>TvqKIPzzT1urYfVhh8tC7w==</td>\n",
       "      <td>-34.580088</td>\n",
       "      <td>-58.424965</td>\n",
       "      <td>Departamento</td>\n",
       "      <td>2.0</td>\n",
       "      <td>1.0</td>\n",
       "      <td>35.0</td>\n",
       "      <td>35.0</td>\n",
       "      <td>79900.0</td>\n",
       "      <td>medio</td>\n",
       "    </tr>\n",
       "    <tr>\n",
       "      <th>2</th>\n",
       "      <td>2</td>\n",
       "      <td>QRs3RUjw1RS5/WRne8ApbA==</td>\n",
       "      <td>-34.551481</td>\n",
       "      <td>-58.452358</td>\n",
       "      <td>Departamento</td>\n",
       "      <td>1.0</td>\n",
       "      <td>1.0</td>\n",
       "      <td>25.0</td>\n",
       "      <td>20.0</td>\n",
       "      <td>69000.0</td>\n",
       "      <td>medio</td>\n",
       "    </tr>\n",
       "    <tr>\n",
       "      <th>3</th>\n",
       "      <td>3</td>\n",
       "      <td>ju90QBsV36i7DCOOWCJpaA==</td>\n",
       "      <td>-34.632290</td>\n",
       "      <td>-58.464844</td>\n",
       "      <td>Departamento</td>\n",
       "      <td>5.0</td>\n",
       "      <td>3.0</td>\n",
       "      <td>75.0</td>\n",
       "      <td>75.0</td>\n",
       "      <td>150000.0</td>\n",
       "      <td>medio</td>\n",
       "    </tr>\n",
       "    <tr>\n",
       "      <th>4</th>\n",
       "      <td>4</td>\n",
       "      <td>uxD4SK3jtGbmxfIlN03UMQ==</td>\n",
       "      <td>-34.549279</td>\n",
       "      <td>-58.463074</td>\n",
       "      <td>Departamento</td>\n",
       "      <td>2.0</td>\n",
       "      <td>1.0</td>\n",
       "      <td>46.0</td>\n",
       "      <td>34.0</td>\n",
       "      <td>85000.0</td>\n",
       "      <td>bajo</td>\n",
       "    </tr>\n",
       "  </tbody>\n",
       "</table>\n",
       "</div>"
      ],
      "text/plain": [
       "   Unnamed: 0                        id    latitud   longitud property_type  \\\n",
       "0           0  CLj2GNCsBreAzTKFXCaLIQ== -34.601807 -58.469965  Departamento   \n",
       "1           1  TvqKIPzzT1urYfVhh8tC7w== -34.580088 -58.424965  Departamento   \n",
       "2           2  QRs3RUjw1RS5/WRne8ApbA== -34.551481 -58.452358  Departamento   \n",
       "3           3  ju90QBsV36i7DCOOWCJpaA== -34.632290 -58.464844  Departamento   \n",
       "4           4  uxD4SK3jtGbmxfIlN03UMQ== -34.549279 -58.463074  Departamento   \n",
       "\n",
       "   property_rooms  property_bedrooms  property_surface_total  \\\n",
       "0             2.0                1.0                    53.0   \n",
       "1             2.0                1.0                    35.0   \n",
       "2             1.0                1.0                    25.0   \n",
       "3             5.0                3.0                    75.0   \n",
       "4             2.0                1.0                    46.0   \n",
       "\n",
       "   property_surface_covered  property_price precioxm2_relativo_q  \n",
       "0                      49.0         80000.0                 bajo  \n",
       "1                      35.0         79900.0                medio  \n",
       "2                      20.0         69000.0                medio  \n",
       "3                      75.0        150000.0                medio  \n",
       "4                      34.0         85000.0                 bajo  "
      ]
     },
     "execution_count": 109,
     "metadata": {},
     "output_type": "execute_result"
    }
   ],
   "source": [
    "ds_train.head()"
   ]
  },
  {
   "cell_type": "code",
   "execution_count": 110,
   "metadata": {},
   "outputs": [
    {
     "data": {
      "text/html": [
       "<div>\n",
       "<style scoped>\n",
       "    .dataframe tbody tr th:only-of-type {\n",
       "        vertical-align: middle;\n",
       "    }\n",
       "\n",
       "    .dataframe tbody tr th {\n",
       "        vertical-align: top;\n",
       "    }\n",
       "\n",
       "    .dataframe thead th {\n",
       "        text-align: right;\n",
       "    }\n",
       "</style>\n",
       "<table border=\"1\" class=\"dataframe\">\n",
       "  <thead>\n",
       "    <tr style=\"text-align: right;\">\n",
       "      <th></th>\n",
       "      <th>Unnamed: 0</th>\n",
       "      <th>id</th>\n",
       "      <th>latitud</th>\n",
       "      <th>longitud</th>\n",
       "      <th>property_type</th>\n",
       "      <th>property_rooms</th>\n",
       "      <th>property_bedrooms</th>\n",
       "      <th>property_surface_total</th>\n",
       "      <th>property_surface_covered</th>\n",
       "      <th>property_price</th>\n",
       "      <th>precioxm2_relativo_q</th>\n",
       "    </tr>\n",
       "  </thead>\n",
       "  <tbody>\n",
       "    <tr>\n",
       "      <th>0</th>\n",
       "      <td>0</td>\n",
       "      <td>1MIZ1gFNRkTXELdcBl+opQ==</td>\n",
       "      <td>-34.598679</td>\n",
       "      <td>-58.499717</td>\n",
       "      <td>Departamento</td>\n",
       "      <td>1.0</td>\n",
       "      <td>1.0</td>\n",
       "      <td>38.0</td>\n",
       "      <td>28.0</td>\n",
       "      <td>85000.0</td>\n",
       "      <td>medio</td>\n",
       "    </tr>\n",
       "    <tr>\n",
       "      <th>1</th>\n",
       "      <td>1</td>\n",
       "      <td>hi5vMb1IpzsBoUGGVGPCXA==</td>\n",
       "      <td>-34.574987</td>\n",
       "      <td>-58.420611</td>\n",
       "      <td>Departamento</td>\n",
       "      <td>2.0</td>\n",
       "      <td>1.0</td>\n",
       "      <td>150.0</td>\n",
       "      <td>70.0</td>\n",
       "      <td>520000.0</td>\n",
       "      <td>alto</td>\n",
       "    </tr>\n",
       "    <tr>\n",
       "      <th>2</th>\n",
       "      <td>2</td>\n",
       "      <td>f57uQb0jzaTRg98/B71HOg==</td>\n",
       "      <td>-34.586527</td>\n",
       "      <td>-58.398279</td>\n",
       "      <td>Departamento</td>\n",
       "      <td>2.0</td>\n",
       "      <td>1.0</td>\n",
       "      <td>43.0</td>\n",
       "      <td>41.0</td>\n",
       "      <td>87000.0</td>\n",
       "      <td>medio</td>\n",
       "    </tr>\n",
       "    <tr>\n",
       "      <th>3</th>\n",
       "      <td>3</td>\n",
       "      <td>gsO2peJbSoSQ0hI1E5TH8g==</td>\n",
       "      <td>-34.577647</td>\n",
       "      <td>-58.406064</td>\n",
       "      <td>Departamento</td>\n",
       "      <td>4.0</td>\n",
       "      <td>3.0</td>\n",
       "      <td>130.0</td>\n",
       "      <td>118.0</td>\n",
       "      <td>690000.0</td>\n",
       "      <td>alto</td>\n",
       "    </tr>\n",
       "    <tr>\n",
       "      <th>4</th>\n",
       "      <td>4</td>\n",
       "      <td>4cnMe44uQLFiAnBC1SXjUg==</td>\n",
       "      <td>-34.560998</td>\n",
       "      <td>-58.464248</td>\n",
       "      <td>Departamento</td>\n",
       "      <td>1.0</td>\n",
       "      <td>1.0</td>\n",
       "      <td>33.0</td>\n",
       "      <td>29.0</td>\n",
       "      <td>95000.0</td>\n",
       "      <td>alto</td>\n",
       "    </tr>\n",
       "  </tbody>\n",
       "</table>\n",
       "</div>"
      ],
      "text/plain": [
       "   Unnamed: 0                        id    latitud   longitud property_type  \\\n",
       "0           0  1MIZ1gFNRkTXELdcBl+opQ== -34.598679 -58.499717  Departamento   \n",
       "1           1  hi5vMb1IpzsBoUGGVGPCXA== -34.574987 -58.420611  Departamento   \n",
       "2           2  f57uQb0jzaTRg98/B71HOg== -34.586527 -58.398279  Departamento   \n",
       "3           3  gsO2peJbSoSQ0hI1E5TH8g== -34.577647 -58.406064  Departamento   \n",
       "4           4  4cnMe44uQLFiAnBC1SXjUg== -34.560998 -58.464248  Departamento   \n",
       "\n",
       "   property_rooms  property_bedrooms  property_surface_total  \\\n",
       "0             1.0                1.0                    38.0   \n",
       "1             2.0                1.0                   150.0   \n",
       "2             2.0                1.0                    43.0   \n",
       "3             4.0                3.0                   130.0   \n",
       "4             1.0                1.0                    33.0   \n",
       "\n",
       "   property_surface_covered  property_price precioxm2_relativo_q  \n",
       "0                      28.0         85000.0                medio  \n",
       "1                      70.0        520000.0                 alto  \n",
       "2                      41.0         87000.0                medio  \n",
       "3                     118.0        690000.0                 alto  \n",
       "4                      29.0         95000.0                 alto  "
      ]
     },
     "execution_count": 110,
     "metadata": {},
     "output_type": "execute_result"
    }
   ],
   "source": [
    "ds_test.head()"
   ]
  },
  {
   "cell_type": "code",
   "execution_count": 111,
   "metadata": {},
   "outputs": [],
   "source": [
    "#Eliminamos columna Unnamed\n",
    "\n",
    "ds_train.drop(columns=\"Unnamed: 0\", inplace=True)\n",
    "ds_test.drop(columns=\"Unnamed: 0\", inplace=True)"
   ]
  },
  {
   "cell_type": "code",
   "execution_count": 112,
   "metadata": {},
   "outputs": [],
   "source": [
    "#Dataset train\n",
    "ds_train = ds_train.join(ds_descrip.set_index('id'), on='id')\n",
    "ds_train.head()\n",
    "\n",
    "#Dataset test\n",
    "ds_test = ds_test.join(ds_descrip.set_index('id'), on='id')"
   ]
  },
  {
   "cell_type": "markdown",
   "metadata": {},
   "source": [
    "## Seleccion de atributos de propiedades"
   ]
  },
  {
   "cell_type": "markdown",
   "metadata": {},
   "source": [
    "- Seleccionamos atributos que podrian llegar a aportar informacion importante al dataset\n",
    "- A traves de regex buscamos palabras claves en las descripciones de las propiedades\n",
    "- Colocamos un \"1\" si la propiedad posee esa palabra, de lo contrario \"0\""
   ]
  },
  {
   "cell_type": "markdown",
   "metadata": {},
   "source": [
    "### Pileta"
   ]
  },
  {
   "cell_type": "code",
   "execution_count": 113,
   "metadata": {},
   "outputs": [],
   "source": [
    "regexp = re.compile(r'piscina|pileta/gi', re.IGNORECASE)\n",
    "\n",
    "ds_train['piscina'] = ds_train['property_description'].apply(lambda x: 1 if regexp.search(x) else 0)\n",
    "ds_test['piscina'] = ds_test['property_description'].apply(lambda x: 1 if regexp.search(x) else 0)"
   ]
  },
  {
   "cell_type": "markdown",
   "metadata": {},
   "source": [
    "Verifico cuantas propiedades tienen pileta"
   ]
  },
  {
   "cell_type": "code",
   "execution_count": 114,
   "metadata": {},
   "outputs": [
    {
     "data": {
      "text/plain": [
       "0    60313\n",
       "1     7699\n",
       "Name: piscina, dtype: int64"
      ]
     },
     "execution_count": 114,
     "metadata": {},
     "output_type": "execute_result"
    }
   ],
   "source": [
    "ds_train[\"piscina\"].value_counts()"
   ]
  },
  {
   "cell_type": "markdown",
   "metadata": {},
   "source": [
    "### Balcon "
   ]
  },
  {
   "cell_type": "code",
   "execution_count": 115,
   "metadata": {},
   "outputs": [],
   "source": [
    "regexp = re.compile(r'balcon', re.IGNORECASE)\n",
    "\n",
    "ds_train['balcon'] = ds_train['property_description'].apply(lambda x: 1 if regexp.search(x) else 0)\n",
    "ds_test['balcon'] = ds_test['property_description'].apply(lambda x: 1 if regexp.search(x) else 0)"
   ]
  },
  {
   "cell_type": "markdown",
   "metadata": {},
   "source": [
    "Verifico cuantas propiedades tienen balcon"
   ]
  },
  {
   "cell_type": "code",
   "execution_count": 116,
   "metadata": {},
   "outputs": [
    {
     "data": {
      "text/plain": [
       "0    55956\n",
       "1    12056\n",
       "Name: balcon, dtype: int64"
      ]
     },
     "execution_count": 116,
     "metadata": {},
     "output_type": "execute_result"
    }
   ],
   "source": [
    "ds_train[\"balcon\"].value_counts()"
   ]
  },
  {
   "cell_type": "markdown",
   "metadata": {},
   "source": [
    "### Patio"
   ]
  },
  {
   "cell_type": "code",
   "execution_count": 117,
   "metadata": {},
   "outputs": [],
   "source": [
    "regexp = re.compile(r'patio', re.IGNORECASE)\n",
    "\n",
    "ds_train['patio'] = ds_train['property_description'].apply(lambda x: 1 if regexp.search(x) else 0)\n",
    "ds_test['patio'] = ds_test['property_description'].apply(lambda x: 1 if regexp.search(x) else 0)"
   ]
  },
  {
   "cell_type": "markdown",
   "metadata": {},
   "source": [
    "Verifico cuantas propiedades tienen patio"
   ]
  },
  {
   "cell_type": "code",
   "execution_count": 118,
   "metadata": {},
   "outputs": [
    {
     "data": {
      "text/plain": [
       "0    57091\n",
       "1    10921\n",
       "Name: patio, dtype: int64"
      ]
     },
     "execution_count": 118,
     "metadata": {},
     "output_type": "execute_result"
    }
   ],
   "source": [
    "ds_train[\"patio\"].value_counts()"
   ]
  },
  {
   "cell_type": "markdown",
   "metadata": {},
   "source": [
    "### Terraza"
   ]
  },
  {
   "cell_type": "code",
   "execution_count": 119,
   "metadata": {},
   "outputs": [],
   "source": [
    "regexp = re.compile(r'terraza', re.IGNORECASE)\n",
    "\n",
    "ds_train['terraza'] = ds_train['property_description'].apply(lambda x: 1 if regexp.search(x) else 0)\n",
    "ds_test['terraza'] = ds_test['property_description'].apply(lambda x: 1 if regexp.search(x) else 0)"
   ]
  },
  {
   "cell_type": "markdown",
   "metadata": {},
   "source": [
    "Verifico cuantas propiedades tienen terraza"
   ]
  },
  {
   "cell_type": "code",
   "execution_count": 120,
   "metadata": {},
   "outputs": [
    {
     "data": {
      "text/plain": [
       "0    47376\n",
       "1    20636\n",
       "Name: terraza, dtype: int64"
      ]
     },
     "execution_count": 120,
     "metadata": {},
     "output_type": "execute_result"
    }
   ],
   "source": [
    "ds_train[\"terraza\"].value_counts()"
   ]
  },
  {
   "cell_type": "markdown",
   "metadata": {},
   "source": [
    "### Gimnasio"
   ]
  },
  {
   "cell_type": "code",
   "execution_count": 121,
   "metadata": {},
   "outputs": [],
   "source": [
    "regexp = re.compile(r'gimnasio', re.IGNORECASE)\n",
    "\n",
    "ds_train['gimnasio'] = ds_train['property_description'].apply(lambda x: 1 if regexp.search(x) else 0)\n",
    "ds_test['gimnasio'] = ds_test['property_description'].apply(lambda x: 1 if regexp.search(x) else 0)"
   ]
  },
  {
   "cell_type": "markdown",
   "metadata": {},
   "source": [
    "Verifico cuantas propiedades tienen gimnasio"
   ]
  },
  {
   "cell_type": "code",
   "execution_count": 122,
   "metadata": {},
   "outputs": [
    {
     "data": {
      "text/plain": [
       "0    62685\n",
       "1     5327\n",
       "Name: gimnasio, dtype: int64"
      ]
     },
     "execution_count": 122,
     "metadata": {},
     "output_type": "execute_result"
    }
   ],
   "source": [
    "ds_train[\"gimnasio\"].value_counts()"
   ]
  },
  {
   "cell_type": "markdown",
   "metadata": {},
   "source": [
    "### Garaje "
   ]
  },
  {
   "cell_type": "code",
   "execution_count": 123,
   "metadata": {},
   "outputs": [],
   "source": [
    "regexp = re.compile(r'garage|cochera/gi', re.IGNORECASE)\n",
    "\n",
    "ds_train['garaje'] = ds_train['property_description'].apply(lambda x: 1 if regexp.search(x) else 0)\n",
    "ds_test['garaje'] = ds_test['property_description'].apply(lambda x: 1 if regexp.search(x) else 0)"
   ]
  },
  {
   "cell_type": "code",
   "execution_count": 124,
   "metadata": {},
   "outputs": [
    {
     "data": {
      "text/plain": [
       "0    67398\n",
       "1      614\n",
       "Name: garaje, dtype: int64"
      ]
     },
     "execution_count": 124,
     "metadata": {},
     "output_type": "execute_result"
    }
   ],
   "source": [
    "ds_train[\"garaje\"].value_counts()"
   ]
  },
  {
   "cell_type": "markdown",
   "metadata": {},
   "source": [
    "# Modelos - XGboost"
   ]
  },
  {
   "cell_type": "markdown",
   "metadata": {},
   "source": [
    "### Ingenieria de caracteristicas"
   ]
  },
  {
   "cell_type": "code",
   "execution_count": 125,
   "metadata": {},
   "outputs": [
    {
     "data": {
      "text/html": [
       "<div>\n",
       "<style scoped>\n",
       "    .dataframe tbody tr th:only-of-type {\n",
       "        vertical-align: middle;\n",
       "    }\n",
       "\n",
       "    .dataframe tbody tr th {\n",
       "        vertical-align: top;\n",
       "    }\n",
       "\n",
       "    .dataframe thead th {\n",
       "        text-align: right;\n",
       "    }\n",
       "</style>\n",
       "<table border=\"1\" class=\"dataframe\">\n",
       "  <thead>\n",
       "    <tr style=\"text-align: right;\">\n",
       "      <th></th>\n",
       "      <th>id</th>\n",
       "      <th>latitud</th>\n",
       "      <th>longitud</th>\n",
       "      <th>property_type</th>\n",
       "      <th>property_rooms</th>\n",
       "      <th>property_bedrooms</th>\n",
       "      <th>property_surface_total</th>\n",
       "      <th>property_surface_covered</th>\n",
       "      <th>property_price</th>\n",
       "      <th>precioxm2_relativo_q</th>\n",
       "      <th>property_description</th>\n",
       "      <th>piscina</th>\n",
       "      <th>balcon</th>\n",
       "      <th>patio</th>\n",
       "      <th>terraza</th>\n",
       "      <th>gimnasio</th>\n",
       "      <th>garaje</th>\n",
       "    </tr>\n",
       "  </thead>\n",
       "  <tbody>\n",
       "    <tr>\n",
       "      <th>0</th>\n",
       "      <td>CLj2GNCsBreAzTKFXCaLIQ==</td>\n",
       "      <td>-34.601807</td>\n",
       "      <td>-58.469965</td>\n",
       "      <td>Departamento</td>\n",
       "      <td>2.0</td>\n",
       "      <td>1.0</td>\n",
       "      <td>53.0</td>\n",
       "      <td>49.0</td>\n",
       "      <td>80000.0</td>\n",
       "      <td>bajo</td>\n",
       "      <td>Corredor Responsable: MARIA ALEJANDRA GENOVEVA...</td>\n",
       "      <td>0</td>\n",
       "      <td>1</td>\n",
       "      <td>0</td>\n",
       "      <td>0</td>\n",
       "      <td>0</td>\n",
       "      <td>0</td>\n",
       "    </tr>\n",
       "    <tr>\n",
       "      <th>1</th>\n",
       "      <td>TvqKIPzzT1urYfVhh8tC7w==</td>\n",
       "      <td>-34.580088</td>\n",
       "      <td>-58.424965</td>\n",
       "      <td>Departamento</td>\n",
       "      <td>2.0</td>\n",
       "      <td>1.0</td>\n",
       "      <td>35.0</td>\n",
       "      <td>35.0</td>\n",
       "      <td>79900.0</td>\n",
       "      <td>medio</td>\n",
       "      <td>Ubicado en Palermo, en una zona de muchos medi...</td>\n",
       "      <td>0</td>\n",
       "      <td>0</td>\n",
       "      <td>0</td>\n",
       "      <td>0</td>\n",
       "      <td>0</td>\n",
       "      <td>0</td>\n",
       "    </tr>\n",
       "    <tr>\n",
       "      <th>2</th>\n",
       "      <td>QRs3RUjw1RS5/WRne8ApbA==</td>\n",
       "      <td>-34.551481</td>\n",
       "      <td>-58.452358</td>\n",
       "      <td>Departamento</td>\n",
       "      <td>1.0</td>\n",
       "      <td>1.0</td>\n",
       "      <td>25.0</td>\n",
       "      <td>20.0</td>\n",
       "      <td>69000.0</td>\n",
       "      <td>medio</td>\n",
       "      <td>Corredor Responsable: Diego Enrique Mastrangel...</td>\n",
       "      <td>0</td>\n",
       "      <td>1</td>\n",
       "      <td>0</td>\n",
       "      <td>0</td>\n",
       "      <td>0</td>\n",
       "      <td>0</td>\n",
       "    </tr>\n",
       "    <tr>\n",
       "      <th>3</th>\n",
       "      <td>ju90QBsV36i7DCOOWCJpaA==</td>\n",
       "      <td>-34.632290</td>\n",
       "      <td>-58.464844</td>\n",
       "      <td>Departamento</td>\n",
       "      <td>5.0</td>\n",
       "      <td>3.0</td>\n",
       "      <td>75.0</td>\n",
       "      <td>75.0</td>\n",
       "      <td>150000.0</td>\n",
       "      <td>medio</td>\n",
       "      <td>EXCELENTE DEPARTAMENTO DE 5 AMBIENTES DE 75 M2...</td>\n",
       "      <td>0</td>\n",
       "      <td>0</td>\n",
       "      <td>0</td>\n",
       "      <td>1</td>\n",
       "      <td>0</td>\n",
       "      <td>0</td>\n",
       "    </tr>\n",
       "    <tr>\n",
       "      <th>4</th>\n",
       "      <td>uxD4SK3jtGbmxfIlN03UMQ==</td>\n",
       "      <td>-34.549279</td>\n",
       "      <td>-58.463074</td>\n",
       "      <td>Departamento</td>\n",
       "      <td>2.0</td>\n",
       "      <td>1.0</td>\n",
       "      <td>46.0</td>\n",
       "      <td>34.0</td>\n",
       "      <td>85000.0</td>\n",
       "      <td>bajo</td>\n",
       "      <td>Muy buen departamento de 2 ambientes en O'Higg...</td>\n",
       "      <td>0</td>\n",
       "      <td>0</td>\n",
       "      <td>1</td>\n",
       "      <td>0</td>\n",
       "      <td>0</td>\n",
       "      <td>0</td>\n",
       "    </tr>\n",
       "  </tbody>\n",
       "</table>\n",
       "</div>"
      ],
      "text/plain": [
       "                         id    latitud   longitud property_type  \\\n",
       "0  CLj2GNCsBreAzTKFXCaLIQ== -34.601807 -58.469965  Departamento   \n",
       "1  TvqKIPzzT1urYfVhh8tC7w== -34.580088 -58.424965  Departamento   \n",
       "2  QRs3RUjw1RS5/WRne8ApbA== -34.551481 -58.452358  Departamento   \n",
       "3  ju90QBsV36i7DCOOWCJpaA== -34.632290 -58.464844  Departamento   \n",
       "4  uxD4SK3jtGbmxfIlN03UMQ== -34.549279 -58.463074  Departamento   \n",
       "\n",
       "   property_rooms  property_bedrooms  property_surface_total  \\\n",
       "0             2.0                1.0                    53.0   \n",
       "1             2.0                1.0                    35.0   \n",
       "2             1.0                1.0                    25.0   \n",
       "3             5.0                3.0                    75.0   \n",
       "4             2.0                1.0                    46.0   \n",
       "\n",
       "   property_surface_covered  property_price precioxm2_relativo_q  \\\n",
       "0                      49.0         80000.0                 bajo   \n",
       "1                      35.0         79900.0                medio   \n",
       "2                      20.0         69000.0                medio   \n",
       "3                      75.0        150000.0                medio   \n",
       "4                      34.0         85000.0                 bajo   \n",
       "\n",
       "                                property_description  piscina  balcon  patio  \\\n",
       "0  Corredor Responsable: MARIA ALEJANDRA GENOVEVA...        0       1      0   \n",
       "1  Ubicado en Palermo, en una zona de muchos medi...        0       0      0   \n",
       "2  Corredor Responsable: Diego Enrique Mastrangel...        0       1      0   \n",
       "3  EXCELENTE DEPARTAMENTO DE 5 AMBIENTES DE 75 M2...        0       0      0   \n",
       "4  Muy buen departamento de 2 ambientes en O'Higg...        0       0      1   \n",
       "\n",
       "   terraza  gimnasio  garaje  \n",
       "0        0         0       0  \n",
       "1        0         0       0  \n",
       "2        0         0       0  \n",
       "3        1         0       0  \n",
       "4        0         0       0  "
      ]
     },
     "execution_count": 125,
     "metadata": {},
     "output_type": "execute_result"
    }
   ],
   "source": [
    "ds_train.head()"
   ]
  },
  {
   "cell_type": "code",
   "execution_count": 126,
   "metadata": {},
   "outputs": [
    {
     "data": {
      "text/html": [
       "<div>\n",
       "<style scoped>\n",
       "    .dataframe tbody tr th:only-of-type {\n",
       "        vertical-align: middle;\n",
       "    }\n",
       "\n",
       "    .dataframe tbody tr th {\n",
       "        vertical-align: top;\n",
       "    }\n",
       "\n",
       "    .dataframe thead th {\n",
       "        text-align: right;\n",
       "    }\n",
       "</style>\n",
       "<table border=\"1\" class=\"dataframe\">\n",
       "  <thead>\n",
       "    <tr style=\"text-align: right;\">\n",
       "      <th></th>\n",
       "      <th>id</th>\n",
       "      <th>latitud</th>\n",
       "      <th>longitud</th>\n",
       "      <th>property_type</th>\n",
       "      <th>property_rooms</th>\n",
       "      <th>property_bedrooms</th>\n",
       "      <th>property_surface_total</th>\n",
       "      <th>property_surface_covered</th>\n",
       "      <th>property_price</th>\n",
       "      <th>precioxm2_relativo_q</th>\n",
       "      <th>property_description</th>\n",
       "      <th>piscina</th>\n",
       "      <th>balcon</th>\n",
       "      <th>patio</th>\n",
       "      <th>terraza</th>\n",
       "      <th>gimnasio</th>\n",
       "      <th>garaje</th>\n",
       "    </tr>\n",
       "  </thead>\n",
       "  <tbody>\n",
       "    <tr>\n",
       "      <th>0</th>\n",
       "      <td>1MIZ1gFNRkTXELdcBl+opQ==</td>\n",
       "      <td>-34.598679</td>\n",
       "      <td>-58.499717</td>\n",
       "      <td>Departamento</td>\n",
       "      <td>1.0</td>\n",
       "      <td>1.0</td>\n",
       "      <td>38.0</td>\n",
       "      <td>28.0</td>\n",
       "      <td>85000.0</td>\n",
       "      <td>medio</td>\n",
       "      <td>Departamento 38m² 1 ambiente con Gas Natural e...</td>\n",
       "      <td>0</td>\n",
       "      <td>0</td>\n",
       "      <td>0</td>\n",
       "      <td>0</td>\n",
       "      <td>0</td>\n",
       "      <td>0</td>\n",
       "    </tr>\n",
       "    <tr>\n",
       "      <th>1</th>\n",
       "      <td>hi5vMb1IpzsBoUGGVGPCXA==</td>\n",
       "      <td>-34.574987</td>\n",
       "      <td>-58.420611</td>\n",
       "      <td>Departamento</td>\n",
       "      <td>2.0</td>\n",
       "      <td>1.0</td>\n",
       "      <td>150.0</td>\n",
       "      <td>70.0</td>\n",
       "      <td>520000.0</td>\n",
       "      <td>alto</td>\n",
       "      <td>Depto muy exclusivo!!!! con excelente terraza ...</td>\n",
       "      <td>0</td>\n",
       "      <td>0</td>\n",
       "      <td>1</td>\n",
       "      <td>1</td>\n",
       "      <td>0</td>\n",
       "      <td>0</td>\n",
       "    </tr>\n",
       "    <tr>\n",
       "      <th>2</th>\n",
       "      <td>f57uQb0jzaTRg98/B71HOg==</td>\n",
       "      <td>-34.586527</td>\n",
       "      <td>-58.398279</td>\n",
       "      <td>Departamento</td>\n",
       "      <td>2.0</td>\n",
       "      <td>1.0</td>\n",
       "      <td>43.0</td>\n",
       "      <td>41.0</td>\n",
       "      <td>87000.0</td>\n",
       "      <td>medio</td>\n",
       "      <td>Gran Oportunidad ! Re retasado!&lt;br&gt;Depto. 2 am...</td>\n",
       "      <td>0</td>\n",
       "      <td>0</td>\n",
       "      <td>0</td>\n",
       "      <td>0</td>\n",
       "      <td>0</td>\n",
       "      <td>0</td>\n",
       "    </tr>\n",
       "    <tr>\n",
       "      <th>3</th>\n",
       "      <td>gsO2peJbSoSQ0hI1E5TH8g==</td>\n",
       "      <td>-34.577647</td>\n",
       "      <td>-58.406064</td>\n",
       "      <td>Departamento</td>\n",
       "      <td>4.0</td>\n",
       "      <td>3.0</td>\n",
       "      <td>130.0</td>\n",
       "      <td>118.0</td>\n",
       "      <td>690000.0</td>\n",
       "      <td>alto</td>\n",
       "      <td>&lt;br&gt;IMPECABLE UNIDAD  DE 4 AMBIENTES CON DEPEN...</td>\n",
       "      <td>0</td>\n",
       "      <td>0</td>\n",
       "      <td>0</td>\n",
       "      <td>0</td>\n",
       "      <td>0</td>\n",
       "      <td>0</td>\n",
       "    </tr>\n",
       "    <tr>\n",
       "      <th>4</th>\n",
       "      <td>4cnMe44uQLFiAnBC1SXjUg==</td>\n",
       "      <td>-34.560998</td>\n",
       "      <td>-58.464248</td>\n",
       "      <td>Departamento</td>\n",
       "      <td>1.0</td>\n",
       "      <td>1.0</td>\n",
       "      <td>33.0</td>\n",
       "      <td>29.0</td>\n",
       "      <td>95000.0</td>\n",
       "      <td>alto</td>\n",
       "      <td>DEPARTAMENTO  EN ESQUINA CON AMENITIES &lt;br&gt;&lt;br...</td>\n",
       "      <td>0</td>\n",
       "      <td>0</td>\n",
       "      <td>0</td>\n",
       "      <td>0</td>\n",
       "      <td>0</td>\n",
       "      <td>0</td>\n",
       "    </tr>\n",
       "  </tbody>\n",
       "</table>\n",
       "</div>"
      ],
      "text/plain": [
       "                         id    latitud   longitud property_type  \\\n",
       "0  1MIZ1gFNRkTXELdcBl+opQ== -34.598679 -58.499717  Departamento   \n",
       "1  hi5vMb1IpzsBoUGGVGPCXA== -34.574987 -58.420611  Departamento   \n",
       "2  f57uQb0jzaTRg98/B71HOg== -34.586527 -58.398279  Departamento   \n",
       "3  gsO2peJbSoSQ0hI1E5TH8g== -34.577647 -58.406064  Departamento   \n",
       "4  4cnMe44uQLFiAnBC1SXjUg== -34.560998 -58.464248  Departamento   \n",
       "\n",
       "   property_rooms  property_bedrooms  property_surface_total  \\\n",
       "0             1.0                1.0                    38.0   \n",
       "1             2.0                1.0                   150.0   \n",
       "2             2.0                1.0                    43.0   \n",
       "3             4.0                3.0                   130.0   \n",
       "4             1.0                1.0                    33.0   \n",
       "\n",
       "   property_surface_covered  property_price precioxm2_relativo_q  \\\n",
       "0                      28.0         85000.0                medio   \n",
       "1                      70.0        520000.0                 alto   \n",
       "2                      41.0         87000.0                medio   \n",
       "3                     118.0        690000.0                 alto   \n",
       "4                      29.0         95000.0                 alto   \n",
       "\n",
       "                                property_description  piscina  balcon  patio  \\\n",
       "0  Departamento 38m² 1 ambiente con Gas Natural e...        0       0      0   \n",
       "1  Depto muy exclusivo!!!! con excelente terraza ...        0       0      1   \n",
       "2  Gran Oportunidad ! Re retasado!<br>Depto. 2 am...        0       0      0   \n",
       "3  <br>IMPECABLE UNIDAD  DE 4 AMBIENTES CON DEPEN...        0       0      0   \n",
       "4  DEPARTAMENTO  EN ESQUINA CON AMENITIES <br><br...        0       0      0   \n",
       "\n",
       "   terraza  gimnasio  garaje  \n",
       "0        0         0       0  \n",
       "1        1         0       0  \n",
       "2        0         0       0  \n",
       "3        0         0       0  \n",
       "4        0         0       0  "
      ]
     },
     "execution_count": 126,
     "metadata": {},
     "output_type": "execute_result"
    }
   ],
   "source": [
    "ds_test.head()"
   ]
  },
  {
   "cell_type": "markdown",
   "metadata": {},
   "source": [
    "Eliminos columnas que no voy a utilizar en el modelo\n",
    "- id, cumplio su funcion en el punto anterioir, no aporta nada en el modelo.\n",
    "- precioxm2_relativo_q, esta relacionado con el precio\n",
    "- property_description por la misma razon de id"
   ]
  },
  {
   "cell_type": "code",
   "execution_count": 127,
   "metadata": {},
   "outputs": [],
   "source": [
    "columnas_a_eliminar = [\"id\", \"precioxm2_relativo_q\", \"property_description\"]\n",
    "\n",
    "ds_train.drop(columns=columnas_a_eliminar, inplace=True)\n",
    "ds_test.drop(columns=columnas_a_eliminar, inplace=True)"
   ]
  },
  {
   "cell_type": "markdown",
   "metadata": {},
   "source": [
    "Normalizo variables numericas"
   ]
  },
  {
   "cell_type": "code",
   "execution_count": 128,
   "metadata": {},
   "outputs": [],
   "source": [
    "variables_a_normalzar = [\"latitud\", \"longitud\", \"property_rooms\", \"property_bedrooms\", \"property_surface_covered\", \"property_surface_total\"]\n",
    "train_cuantitativas = ds_train.loc[:, variables_a_normalzar]\n",
    "test_cuantitativas =  ds_test.loc[:, variables_a_normalzar]"
   ]
  },
  {
   "cell_type": "markdown",
   "metadata": {},
   "source": [
    "Entreno el scaler"
   ]
  },
  {
   "cell_type": "code",
   "execution_count": 129,
   "metadata": {},
   "outputs": [
    {
     "data": {
      "text/plain": [
       "StandardScaler()"
      ]
     },
     "execution_count": 129,
     "metadata": {},
     "output_type": "execute_result"
    }
   ],
   "source": [
    "scaler = StandardScaler()\n",
    "scaler.fit(train_cuantitativas)"
   ]
  },
  {
   "cell_type": "code",
   "execution_count": 130,
   "metadata": {},
   "outputs": [],
   "source": [
    "ds_train[variables_a_normalzar] = scaler.transform(train_cuantitativas)\n",
    "ds_test[variables_a_normalzar] = scaler.transform(test_cuantitativas)"
   ]
  },
  {
   "cell_type": "code",
   "execution_count": 131,
   "metadata": {},
   "outputs": [
    {
     "data": {
      "text/html": [
       "<div>\n",
       "<style scoped>\n",
       "    .dataframe tbody tr th:only-of-type {\n",
       "        vertical-align: middle;\n",
       "    }\n",
       "\n",
       "    .dataframe tbody tr th {\n",
       "        vertical-align: top;\n",
       "    }\n",
       "\n",
       "    .dataframe thead th {\n",
       "        text-align: right;\n",
       "    }\n",
       "</style>\n",
       "<table border=\"1\" class=\"dataframe\">\n",
       "  <thead>\n",
       "    <tr style=\"text-align: right;\">\n",
       "      <th></th>\n",
       "      <th>latitud</th>\n",
       "      <th>longitud</th>\n",
       "      <th>property_type</th>\n",
       "      <th>property_rooms</th>\n",
       "      <th>property_bedrooms</th>\n",
       "      <th>property_surface_total</th>\n",
       "      <th>property_surface_covered</th>\n",
       "      <th>property_price</th>\n",
       "      <th>piscina</th>\n",
       "      <th>balcon</th>\n",
       "      <th>patio</th>\n",
       "      <th>terraza</th>\n",
       "      <th>gimnasio</th>\n",
       "      <th>garaje</th>\n",
       "    </tr>\n",
       "  </thead>\n",
       "  <tbody>\n",
       "    <tr>\n",
       "      <th>0</th>\n",
       "      <td>-0.226971</td>\n",
       "      <td>-0.843338</td>\n",
       "      <td>Departamento</td>\n",
       "      <td>-0.572024</td>\n",
       "      <td>-0.901181</td>\n",
       "      <td>-0.360814</td>\n",
       "      <td>-0.422360</td>\n",
       "      <td>80000.0</td>\n",
       "      <td>0</td>\n",
       "      <td>1</td>\n",
       "      <td>0</td>\n",
       "      <td>0</td>\n",
       "      <td>0</td>\n",
       "      <td>0</td>\n",
       "    </tr>\n",
       "    <tr>\n",
       "      <th>1</th>\n",
       "      <td>0.613885</td>\n",
       "      <td>0.359192</td>\n",
       "      <td>Departamento</td>\n",
       "      <td>-0.572024</td>\n",
       "      <td>-0.901181</td>\n",
       "      <td>-0.611332</td>\n",
       "      <td>-0.761908</td>\n",
       "      <td>79900.0</td>\n",
       "      <td>0</td>\n",
       "      <td>0</td>\n",
       "      <td>0</td>\n",
       "      <td>0</td>\n",
       "      <td>0</td>\n",
       "      <td>0</td>\n",
       "    </tr>\n",
       "    <tr>\n",
       "      <th>2</th>\n",
       "      <td>1.721401</td>\n",
       "      <td>-0.372818</td>\n",
       "      <td>Departamento</td>\n",
       "      <td>-1.448310</td>\n",
       "      <td>-0.901181</td>\n",
       "      <td>-0.750509</td>\n",
       "      <td>-1.125710</td>\n",
       "      <td>69000.0</td>\n",
       "      <td>0</td>\n",
       "      <td>1</td>\n",
       "      <td>0</td>\n",
       "      <td>0</td>\n",
       "      <td>0</td>\n",
       "      <td>0</td>\n",
       "    </tr>\n",
       "    <tr>\n",
       "      <th>3</th>\n",
       "      <td>-1.407153</td>\n",
       "      <td>-0.706479</td>\n",
       "      <td>Departamento</td>\n",
       "      <td>2.056835</td>\n",
       "      <td>1.409468</td>\n",
       "      <td>-0.054625</td>\n",
       "      <td>0.208230</td>\n",
       "      <td>150000.0</td>\n",
       "      <td>0</td>\n",
       "      <td>0</td>\n",
       "      <td>0</td>\n",
       "      <td>1</td>\n",
       "      <td>0</td>\n",
       "      <td>0</td>\n",
       "    </tr>\n",
       "    <tr>\n",
       "      <th>4</th>\n",
       "      <td>1.806656</td>\n",
       "      <td>-0.659172</td>\n",
       "      <td>Departamento</td>\n",
       "      <td>-0.572024</td>\n",
       "      <td>-0.901181</td>\n",
       "      <td>-0.458238</td>\n",
       "      <td>-0.786162</td>\n",
       "      <td>85000.0</td>\n",
       "      <td>0</td>\n",
       "      <td>0</td>\n",
       "      <td>1</td>\n",
       "      <td>0</td>\n",
       "      <td>0</td>\n",
       "      <td>0</td>\n",
       "    </tr>\n",
       "  </tbody>\n",
       "</table>\n",
       "</div>"
      ],
      "text/plain": [
       "    latitud  longitud property_type  property_rooms  property_bedrooms  \\\n",
       "0 -0.226971 -0.843338  Departamento       -0.572024          -0.901181   \n",
       "1  0.613885  0.359192  Departamento       -0.572024          -0.901181   \n",
       "2  1.721401 -0.372818  Departamento       -1.448310          -0.901181   \n",
       "3 -1.407153 -0.706479  Departamento        2.056835           1.409468   \n",
       "4  1.806656 -0.659172  Departamento       -0.572024          -0.901181   \n",
       "\n",
       "   property_surface_total  property_surface_covered  property_price  piscina  \\\n",
       "0               -0.360814                 -0.422360         80000.0        0   \n",
       "1               -0.611332                 -0.761908         79900.0        0   \n",
       "2               -0.750509                 -1.125710         69000.0        0   \n",
       "3               -0.054625                  0.208230        150000.0        0   \n",
       "4               -0.458238                 -0.786162         85000.0        0   \n",
       "\n",
       "   balcon  patio  terraza  gimnasio  garaje  \n",
       "0       1      0        0         0       0  \n",
       "1       0      0        0         0       0  \n",
       "2       1      0        0         0       0  \n",
       "3       0      0        1         0       0  \n",
       "4       0      1        0         0       0  "
      ]
     },
     "execution_count": 131,
     "metadata": {},
     "output_type": "execute_result"
    }
   ],
   "source": [
    "ds_train.head()"
   ]
  },
  {
   "cell_type": "code",
   "execution_count": 132,
   "metadata": {},
   "outputs": [
    {
     "data": {
      "text/html": [
       "<div>\n",
       "<style scoped>\n",
       "    .dataframe tbody tr th:only-of-type {\n",
       "        vertical-align: middle;\n",
       "    }\n",
       "\n",
       "    .dataframe tbody tr th {\n",
       "        vertical-align: top;\n",
       "    }\n",
       "\n",
       "    .dataframe thead th {\n",
       "        text-align: right;\n",
       "    }\n",
       "</style>\n",
       "<table border=\"1\" class=\"dataframe\">\n",
       "  <thead>\n",
       "    <tr style=\"text-align: right;\">\n",
       "      <th></th>\n",
       "      <th>latitud</th>\n",
       "      <th>longitud</th>\n",
       "      <th>property_type</th>\n",
       "      <th>property_rooms</th>\n",
       "      <th>property_bedrooms</th>\n",
       "      <th>property_surface_total</th>\n",
       "      <th>property_surface_covered</th>\n",
       "      <th>property_price</th>\n",
       "      <th>piscina</th>\n",
       "      <th>balcon</th>\n",
       "      <th>patio</th>\n",
       "      <th>terraza</th>\n",
       "      <th>gimnasio</th>\n",
       "      <th>garaje</th>\n",
       "    </tr>\n",
       "  </thead>\n",
       "  <tbody>\n",
       "    <tr>\n",
       "      <th>0</th>\n",
       "      <td>-0.105881</td>\n",
       "      <td>-1.638376</td>\n",
       "      <td>Departamento</td>\n",
       "      <td>-1.448310</td>\n",
       "      <td>-0.901181</td>\n",
       "      <td>-0.569579</td>\n",
       "      <td>-0.931682</td>\n",
       "      <td>85000.0</td>\n",
       "      <td>0</td>\n",
       "      <td>0</td>\n",
       "      <td>0</td>\n",
       "      <td>0</td>\n",
       "      <td>0</td>\n",
       "      <td>0</td>\n",
       "    </tr>\n",
       "    <tr>\n",
       "      <th>1</th>\n",
       "      <td>0.811376</td>\n",
       "      <td>0.475542</td>\n",
       "      <td>Departamento</td>\n",
       "      <td>-0.572024</td>\n",
       "      <td>-0.901181</td>\n",
       "      <td>0.989200</td>\n",
       "      <td>0.086963</td>\n",
       "      <td>520000.0</td>\n",
       "      <td>0</td>\n",
       "      <td>0</td>\n",
       "      <td>1</td>\n",
       "      <td>1</td>\n",
       "      <td>0</td>\n",
       "      <td>0</td>\n",
       "    </tr>\n",
       "    <tr>\n",
       "      <th>2</th>\n",
       "      <td>0.364577</td>\n",
       "      <td>1.072312</td>\n",
       "      <td>Departamento</td>\n",
       "      <td>-0.572024</td>\n",
       "      <td>-0.901181</td>\n",
       "      <td>-0.499991</td>\n",
       "      <td>-0.616388</td>\n",
       "      <td>87000.0</td>\n",
       "      <td>0</td>\n",
       "      <td>0</td>\n",
       "      <td>0</td>\n",
       "      <td>0</td>\n",
       "      <td>0</td>\n",
       "      <td>0</td>\n",
       "    </tr>\n",
       "    <tr>\n",
       "      <th>3</th>\n",
       "      <td>0.708381</td>\n",
       "      <td>0.864258</td>\n",
       "      <td>Departamento</td>\n",
       "      <td>1.180548</td>\n",
       "      <td>1.409468</td>\n",
       "      <td>0.710847</td>\n",
       "      <td>1.251129</td>\n",
       "      <td>690000.0</td>\n",
       "      <td>0</td>\n",
       "      <td>0</td>\n",
       "      <td>0</td>\n",
       "      <td>0</td>\n",
       "      <td>0</td>\n",
       "      <td>0</td>\n",
       "    </tr>\n",
       "    <tr>\n",
       "      <th>4</th>\n",
       "      <td>1.352950</td>\n",
       "      <td>-0.690547</td>\n",
       "      <td>Departamento</td>\n",
       "      <td>-1.448310</td>\n",
       "      <td>-0.901181</td>\n",
       "      <td>-0.639168</td>\n",
       "      <td>-0.907429</td>\n",
       "      <td>95000.0</td>\n",
       "      <td>0</td>\n",
       "      <td>0</td>\n",
       "      <td>0</td>\n",
       "      <td>0</td>\n",
       "      <td>0</td>\n",
       "      <td>0</td>\n",
       "    </tr>\n",
       "  </tbody>\n",
       "</table>\n",
       "</div>"
      ],
      "text/plain": [
       "    latitud  longitud property_type  property_rooms  property_bedrooms  \\\n",
       "0 -0.105881 -1.638376  Departamento       -1.448310          -0.901181   \n",
       "1  0.811376  0.475542  Departamento       -0.572024          -0.901181   \n",
       "2  0.364577  1.072312  Departamento       -0.572024          -0.901181   \n",
       "3  0.708381  0.864258  Departamento        1.180548           1.409468   \n",
       "4  1.352950 -0.690547  Departamento       -1.448310          -0.901181   \n",
       "\n",
       "   property_surface_total  property_surface_covered  property_price  piscina  \\\n",
       "0               -0.569579                 -0.931682         85000.0        0   \n",
       "1                0.989200                  0.086963        520000.0        0   \n",
       "2               -0.499991                 -0.616388         87000.0        0   \n",
       "3                0.710847                  1.251129        690000.0        0   \n",
       "4               -0.639168                 -0.907429         95000.0        0   \n",
       "\n",
       "   balcon  patio  terraza  gimnasio  garaje  \n",
       "0       0      0        0         0       0  \n",
       "1       0      1        1         0       0  \n",
       "2       0      0        0         0       0  \n",
       "3       0      0        0         0       0  \n",
       "4       0      0        0         0       0  "
      ]
     },
     "execution_count": 132,
     "metadata": {},
     "output_type": "execute_result"
    }
   ],
   "source": [
    "ds_test.head()"
   ]
  },
  {
   "cell_type": "markdown",
   "metadata": {},
   "source": [
    "Aplico dummies a la variable property_type"
   ]
  },
  {
   "cell_type": "code",
   "execution_count": 133,
   "metadata": {},
   "outputs": [],
   "source": [
    "ds_train = pd.get_dummies(ds_train, columns=[\"property_type\"], drop_first=True)\n",
    "ds_test = pd.get_dummies(ds_test, columns=[\"property_type\"], drop_first=True)"
   ]
  },
  {
   "cell_type": "markdown",
   "metadata": {},
   "source": [
    "### Creamos modelo con mismos hiperparametros TP1"
   ]
  },
  {
   "cell_type": "code",
   "execution_count": 134,
   "metadata": {},
   "outputs": [],
   "source": [
    "features = list(ds_train.columns.values)\n",
    "features.pop(features.index(\"property_price\"))\n",
    "\n",
    "target = [\"property_price\"]\n",
    "\n",
    "#train\n",
    "x_train = ds_train[features]\n",
    "y_train = ds_train[target]\n",
    "\n",
    "#test\n",
    "x_test = ds_test[features]\n",
    "y_test = ds_test[target]"
   ]
  },
  {
   "cell_type": "code",
   "execution_count": 135,
   "metadata": {},
   "outputs": [],
   "source": [
    "#mejores parametros obtenidos en TP1\n",
    "mejores_param_tp1 = {'random_state': 4, 'min_child_weight': 17, 'max_depth': 3, 'gamma': 31, 'criterion': 'entropy', 'colsample_bytree': 0.775, 'ccp_alpha': 0.42857142857142855}\n",
    "\n",
    "#creo el modelo\n",
    "xgb_model = xgb.XGBRegressor(random_state = 4, min_child_weight = 17,  max_depth= 3, gamma= 31, criterion= \"entropy\" , colsample_bytree= 0.775, ccp_alpha = 0.42857142857142855)"
   ]
  },
  {
   "cell_type": "markdown",
   "metadata": {},
   "source": [
    "Enterno el modelo con dataset extendido"
   ]
  },
  {
   "cell_type": "code",
   "execution_count": 136,
   "metadata": {},
   "outputs": [
    {
     "name": "stdout",
     "output_type": "stream",
     "text": [
      "[14:55:00] WARNING: C:/buildkite-agent/builds/buildkite-windows-cpu-autoscaling-group-i-03de431ba26204c4d-1/xgboost/xgboost-ci-windows/src/learner.cc:767: \n",
      "Parameters: { \"ccp_alpha\", \"criterion\" } are not used.\n",
      "\n"
     ]
    },
    {
     "data": {
      "text/plain": [
       "XGBRegressor(base_score=0.5, booster='gbtree', callbacks=None,\n",
       "             ccp_alpha=0.42857142857142855, colsample_bylevel=1,\n",
       "             colsample_bynode=1, colsample_bytree=0.775, criterion='entropy',\n",
       "             early_stopping_rounds=None, enable_categorical=False,\n",
       "             eval_metric=None, feature_types=None, gamma=31, gpu_id=-1,\n",
       "             grow_policy='depthwise', importance_type=None,\n",
       "             interaction_constraints='', learning_rate=0.300000012, max_bin=256,\n",
       "             max_cat_threshold=64, max_cat_to_onehot=4, max_delta_step=0,\n",
       "             max_depth=3, max_leaves=0, min_child_weight=17, missing=nan,\n",
       "             monotone_constraints='()', n_estimators=100, n_jobs=0,\n",
       "             num_parallel_tree=1, ...)"
      ]
     },
     "execution_count": 136,
     "metadata": {},
     "output_type": "execute_result"
    }
   ],
   "source": [
    "xgb_model.fit(x_train, y_train)"
   ]
  },
  {
   "cell_type": "markdown",
   "metadata": {},
   "source": [
    "Obtenemos metricas con datos de entrenamiento"
   ]
  },
  {
   "cell_type": "code",
   "execution_count": 139,
   "metadata": {},
   "outputs": [
    {
     "data": {
      "text/plain": [
       "['./xgb_param_tp1.joblib']"
      ]
     },
     "execution_count": 139,
     "metadata": {},
     "output_type": "execute_result"
    }
   ],
   "source": [
    "from joblib import dump\n",
    "dump(xgb_model, './xgb_param_tp1.joblib')"
   ]
  },
  {
   "cell_type": "code",
   "execution_count": 140,
   "metadata": {},
   "outputs": [
    {
     "name": "stdout",
     "output_type": "stream",
     "text": [
      "MSE en datos de entrenamiento: 2716551797.1426744\n",
      "RMSE en datos de entrenamiento: 52120.5506220212\n",
      "R2 score en datos de entrenamiento: 0.8767571982287823\n"
     ]
    }
   ],
   "source": [
    "y_pred = xgb_model.predict(x_train)\n",
    "\n",
    "mse = mean_squared_error(y_train, y_pred, squared=True)\n",
    "rmse = mean_squared_error(y_train, y_pred, squared=False)\n",
    "r2 = r2_score(y_train, y_pred)\n",
    "\n",
    "print(\"MSE en datos de entrenamiento: \" + str(mse))\n",
    "print(\"RMSE en datos de entrenamiento: \" + str(rmse))\n",
    "print(\"R2 score en datos de entrenamiento: \" + str(r2))"
   ]
  },
  {
   "cell_type": "markdown",
   "metadata": {},
   "source": [
    "Obtenemos las metricas con los datos de testeo"
   ]
  },
  {
   "cell_type": "code",
   "execution_count": 141,
   "metadata": {},
   "outputs": [
    {
     "name": "stdout",
     "output_type": "stream",
     "text": [
      "MSE en datos de test: 2660288157.2254663\n",
      "RMSE en datos de test: 51577.98132173715\n",
      "R2 score en datos de test: 0.8703607565817284\n"
     ]
    }
   ],
   "source": [
    "y_pred = xgb_model.predict(x_test)\n",
    "\n",
    "mse = mean_squared_error(y_test, y_pred, squared=True)\n",
    "rmse = mean_squared_error(y_test, y_pred, squared=False)\n",
    "r2 = r2_score(y_test, y_pred)\n",
    "\n",
    "print(\"MSE en datos de test: \" + str(mse))\n",
    "print(\"RMSE en datos de test: \" + str(rmse))\n",
    "print(\"R2 score en datos de test: \" + str(r2))"
   ]
  },
  {
   "cell_type": "code",
   "execution_count": 142,
   "metadata": {},
   "outputs": [
    {
     "data": {
      "text/plain": [
       "[('property_surface_covered', 0.26647028),\n",
       " ('property_type_Departamento', 0.23178777),\n",
       " ('property_surface_total', 0.17632608),\n",
       " ('gimnasio', 0.101832695),\n",
       " ('piscina', 0.072683245),\n",
       " ('latitud', 0.04312337),\n",
       " ('longitud', 0.037380293),\n",
       " ('patio', 0.027023321),\n",
       " ('property_type_PH', 0.024509726),\n",
       " ('property_rooms', 0.0072693448),\n",
       " ('property_bedrooms', 0.0055933073),\n",
       " ('terraza', 0.0039474834),\n",
       " ('balcon', 0.0020530827),\n",
       " ('garaje', 0.0)]"
      ]
     },
     "execution_count": 142,
     "metadata": {},
     "output_type": "execute_result"
    }
   ],
   "source": [
    "#Atributos considerados y su importancia\n",
    "sorted(list(zip(x_train.columns.to_list(), xgb_model.feature_importances_)), key=lambda x: -x[1])"
   ]
  },
  {
   "cell_type": "markdown",
   "metadata": {},
   "source": [
    "### Creamos modelo con nuevos parametros"
   ]
  },
  {
   "cell_type": "markdown",
   "metadata": {},
   "source": [
    "#### Optimizacion de parametros con Random Search"
   ]
  },
  {
   "cell_type": "markdown",
   "metadata": {},
   "source": [
    "Decidimos usar Random Search para la búsqueda de hiperparametros. Si bien Grid Search permite buscar más combinaciones, su tiempo de ejecución puede ser demasiado alto, y no nos parece que se justifique su utilización. Random Search es capaz de darnos hiperparametros que generan buenas métricas con menos timepo de ejecución. Usamos 8 folds. Conluimos que usar más folds no mejora la performance, pero aumenta el tiempo de ejecución"
   ]
  },
  {
   "cell_type": "code",
   "execution_count": 143,
   "metadata": {},
   "outputs": [
    {
     "data": {
      "text/plain": [
       "RandomizedSearchCV(cv=8,\n",
       "                   estimator=XGBRegressor(base_score=None, booster=None,\n",
       "                                          callbacks=None,\n",
       "                                          colsample_bylevel=None,\n",
       "                                          colsample_bynode=None,\n",
       "                                          colsample_bytree=None,\n",
       "                                          early_stopping_rounds=None,\n",
       "                                          enable_categorical=False,\n",
       "                                          eval_metric=None, feature_types=None,\n",
       "                                          gamma=None, gpu_id=None,\n",
       "                                          grow_policy=None,\n",
       "                                          importance_type=None,\n",
       "                                          interaction_constraints=None,\n",
       "                                          learning_rate=...\n",
       "       0.76785714, 0.77142857, 0.775     , 0.77857143, 0.78214286,\n",
       "       0.78571429, 0.78928571, 0.79285714, 0.79642857, 0.8       ]),\n",
       "                                        'gamma': [31],\n",
       "                                        'max_depth': [2, 3, 4, 5, 6, 7, 8, 9,\n",
       "                                                      10, 11, 12, 13, 14, 15,\n",
       "                                                      16, 17, 18, 19],\n",
       "                                        'min_child_weight': [5, 6, 7, 8, 9, 10,\n",
       "                                                             11, 12, 13, 14, 15,\n",
       "                                                             16, 17, 18, 19],\n",
       "                                        'random_state': [0, 1, 2, 3, 4, 5]},\n",
       "                   random_state=5, refit='r2',\n",
       "                   scoring={'mean_squared_error': make_scorer(mean_squared_error),\n",
       "                            'r2': make_scorer(r2_score)})"
      ]
     },
     "execution_count": 143,
     "metadata": {},
     "output_type": "execute_result"
    }
   ],
   "source": [
    "#KFOLD CV Random Search para buscar el mejor arbol (los mejores atributos, hiperparametros,etc)\n",
    "\n",
    "#Cantidad de combinaciones que quiero porbar\n",
    "n=10\n",
    "\n",
    "#Conjunto de parámetros que quiero usar\n",
    "params_grid = {                                                   #Luego de probar con varias combinaciones de parametros se\n",
    "                                                               #llegó a la conclusión de que Random Search encuentra los\n",
    "               'max_depth':list(range(2,20)),                    #hiperparametros más adecuados con esta grilla \n",
    "               'random_state':list(range(0,6)),                 #de parametros\n",
    "               'gamma':list(range(31,32)),\n",
    "               'min_child_weight':list(range(5,20)),\n",
    "               'colsample_bytree':np.linspace(0.75,0.8,15)}\n",
    "                \n",
    "#Cantidad de splits para el Cross Validation\n",
    "folds=8\n",
    "\n",
    "#Regresor\n",
    "xgb_model_rd_search = xgb.XGBRegressor()\n",
    "\n",
    "#Metrica que quiero optimizar MSE\n",
    "scorer_fn = make_scorer(sklearn.metrics.mean_squared_error)\n",
    "scorer_fn2 = make_scorer(sklearn.metrics.r2_score)\n",
    "\n",
    "#Random Search Cross Validation\n",
    "randomcv = RandomizedSearchCV(estimator=xgb_model_rd_search,\n",
    "                              param_distributions = params_grid,\n",
    "                              scoring={\"mean_squared_error\":scorer_fn, \"r2\" :scorer_fn2},\n",
    "                              n_iter=n, cv=folds, random_state=5, refit=\"r2\") \n",
    "\n",
    "\n",
    "#Busco los hiperparamtros que optimizan MSE\n",
    "randomcv.fit(x_train,y_train)"
   ]
  },
  {
   "cell_type": "code",
   "execution_count": 144,
   "metadata": {},
   "outputs": [
    {
     "name": "stdout",
     "output_type": "stream",
     "text": [
      "{'random_state': 2, 'min_child_weight': 6, 'max_depth': 11, 'gamma': 31, 'colsample_bytree': 0.7892857142857144}\n",
      "R2 en datos de entrnamiento: 0.9114548317996896\n"
     ]
    }
   ],
   "source": [
    "#Mejores hiperparametros\n",
    "print(randomcv.best_params_)\n",
    "\n",
    "#Mejor métrica\n",
    "r2 = randomcv.best_score_\n",
    "\n",
    "print(\"R2 en datos de entrnamiento: \" + str((r2)))\n"
   ]
  },
  {
   "cell_type": "markdown",
   "metadata": {},
   "source": [
    "Obtenemos el mejor modelo y lo entrenamos"
   ]
  },
  {
   "cell_type": "code",
   "execution_count": 145,
   "metadata": {},
   "outputs": [
    {
     "data": {
      "text/plain": [
       "XGBRegressor(base_score=0.5, booster='gbtree', callbacks=None,\n",
       "             colsample_bylevel=1, colsample_bynode=1,\n",
       "             colsample_bytree=0.7892857142857144, early_stopping_rounds=None,\n",
       "             enable_categorical=False, eval_metric=None, feature_types=None,\n",
       "             gamma=31, gpu_id=-1, grow_policy='depthwise', importance_type=None,\n",
       "             interaction_constraints='', learning_rate=0.300000012, max_bin=256,\n",
       "             max_cat_threshold=64, max_cat_to_onehot=4, max_delta_step=0,\n",
       "             max_depth=11, max_leaves=0, min_child_weight=6, missing=nan,\n",
       "             monotone_constraints='()', n_estimators=100, n_jobs=0,\n",
       "             num_parallel_tree=1, predictor='auto', random_state=2, ...)"
      ]
     },
     "execution_count": 145,
     "metadata": {},
     "output_type": "execute_result"
    }
   ],
   "source": [
    "xgb_model = xgb.XGBRegressor().set_params(**randomcv.best_params_)\n",
    "xgb_model.fit(x_train, y_train)"
   ]
  },
  {
   "cell_type": "markdown",
   "metadata": {},
   "source": [
    "Verificamos su performance en los datos de test"
   ]
  },
  {
   "cell_type": "code",
   "execution_count": 147,
   "metadata": {},
   "outputs": [
    {
     "name": "stdout",
     "output_type": "stream",
     "text": [
      "MSE en datos de test: 1790645880.462629\n",
      "RMSE en datos de test: 42316.0239207635\n",
      "R2 score en datos de testeo: 0.9127395366766106\n"
     ]
    }
   ],
   "source": [
    "y_pred = xgb_model.predict(x_test)\n",
    "\n",
    "mse = mean_squared_error(y_test, y_pred, squared=True)\n",
    "rmse = mean_squared_error(y_test, y_pred, squared=False)\n",
    "r2 = r2_score(y_test, y_pred)\n",
    "\n",
    "print(\"MSE en datos de test: \" + str(mse))\n",
    "print(\"RMSE en datos de test: \" + str(rmse))\n",
    "print(\"R2 score en datos de testeo: \" + str(r2))"
   ]
  },
  {
   "cell_type": "markdown",
   "metadata": {},
   "source": [
    "La performance del modelo en el conjunto de entrenamiento fue muy similar a la de testeo. Esto significa que no hay overfitting, de haberlo la performance en el conjunto de entrenamiento sería mucho mejor que en el de testeo."
   ]
  },
  {
   "cell_type": "markdown",
   "metadata": {},
   "source": [
    "### Conslusiones"
   ]
  },
  {
   "attachments": {},
   "cell_type": "markdown",
   "metadata": {},
   "source": [
    "Metricas TP2 con dataset ampliado\n",
    "\n",
    "- Con Hiperparametros TP1\n",
    "\n",
    "\n",
    "MSE en datos de test: 2653244989.092\n",
    "\n",
    "\n",
    "RMSE en datos de test: 51509.659\n",
    "\n",
    "\n",
    "R2 score en datos de test: 0.871\n",
    "\n",
    "- Con Hiperparametros optimizados con random search\n",
    "\n",
    "\n",
    "MSE en datos de test: 1790645880.462\n",
    "\n",
    "\n",
    "RMSE en datos de test: 42316.023\n",
    "\n",
    "\n",
    "R2 score en datos de testeo: 0.912"
   ]
  },
  {
   "cell_type": "markdown",
   "metadata": {},
   "source": [
    " - Metricas obtenidas TP1\n",
    "\n",
    "MSE en datos de test: 3527173265.411\n",
    "\n",
    "\n",
    "RMSE en datos de test: 59390.009"
   ]
  },
  {
   "attachments": {},
   "cell_type": "markdown",
   "metadata": {},
   "source": [
    "Analizando los modelos con el dataset ampliado podemos ver que:\n",
    "- hay una diferencia notable en las metricas halladas en el modelo utilizando los hiperparametos del TP1 y el modelo en donde se utilizo Random Search para la busqueda de hiperparametros\n",
    "- Son sumamente mejores las metricas obtenidas utilizando Random Search para la busqueda de hiperparametros"
   ]
  },
  {
   "cell_type": "markdown",
   "metadata": {},
   "source": [
    "Analizando la comparacion entre los modelos entrenados con el dataset del TP1 vs el dataset ampliado notamos que:\n",
    "- Hay una mejora significtiva en las metricas MSE y RMSE en el modelo entrenado con el dataset ampliado, con esto podemos asegurar que la informacion que aportan las variables agregadas son una gran mejora para el modelo\n",
    "- Tambien podemos asegurar que una propiedad con facilidades extras, impactan significativamente en el precio."
   ]
  }
 ],
 "metadata": {
  "kernelspec": {
   "display_name": "Python 3",
   "language": "python",
   "name": "python3"
  },
  "language_info": {
   "codemirror_mode": {
    "name": "ipython",
    "version": 3
   },
   "file_extension": ".py",
   "mimetype": "text/x-python",
   "name": "python",
   "nbconvert_exporter": "python",
   "pygments_lexer": "ipython3",
   "version": "3.10.8 (tags/v3.10.8:aaaf517, Oct 11 2022, 16:50:30) [MSC v.1933 64 bit (AMD64)]"
  },
  "vscode": {
   "interpreter": {
    "hash": "bded0a91a6bc524f7b4e8375cb305a9c472b5738066b47c7f65137a84e59bd8a"
   }
  }
 },
 "nbformat": 4,
 "nbformat_minor": 2
}
