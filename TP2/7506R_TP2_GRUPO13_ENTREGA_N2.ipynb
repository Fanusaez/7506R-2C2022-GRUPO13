{
 "cells": [
  {
   "cell_type": "markdown",
   "metadata": {},
   "source": [
    "### Importe de librerias"
   ]
  },
  {
   "cell_type": "code",
   "execution_count": 216,
   "metadata": {},
   "outputs": [],
   "source": [
    "import pandas as pd\n",
    "import numpy as np\n",
    "\n",
    "import matplotlib.pyplot as plt\n",
    "import seaborn as sns\n",
    "\n",
    "from sklearn.preprocessing import StandardScaler\n",
    "from sklearn.metrics import mean_absolute_error, mean_squared_error, r2_score\n",
    "from sklearn.metrics import f1_score,  recall_score, precision_score, accuracy_score\n",
    "from sklearn.metrics import confusion_matrix, classification_report, ConfusionMatrixDisplay\n",
    "\n",
    "import tensorflow as tf\n",
    "from tensorflow import keras\n",
    "import keras_tuner as kt\n",
    "from keras.utils.vis_utils import plot_model\n",
    "from matplotlib import pyplot as plt\n",
    "from joblib import dump\n",
    "\n",
    "np.random.seed(1)\n",
    "tf.random.set_seed(1)"
   ]
  },
  {
   "cell_type": "markdown",
   "metadata": {},
   "source": [
    "# Redes Neuronales"
   ]
  },
  {
   "cell_type": "markdown",
   "metadata": {},
   "source": [
    "Datasets a utilizar"
   ]
  },
  {
   "cell_type": "code",
   "execution_count": 217,
   "metadata": {},
   "outputs": [],
   "source": [
    "#datasets normales\n",
    "ds_train = pd.read_csv('properati_argentina_train.csv')\n",
    "ds_test = pd.read_csv('properati_argentina_test.csv')"
   ]
  },
  {
   "cell_type": "markdown",
   "metadata": {},
   "source": [
    "### Ingenieria de caracteristicas para datasets compelto"
   ]
  },
  {
   "cell_type": "code",
   "execution_count": 218,
   "metadata": {},
   "outputs": [
    {
     "data": {
      "text/html": [
       "<div>\n",
       "<style scoped>\n",
       "    .dataframe tbody tr th:only-of-type {\n",
       "        vertical-align: middle;\n",
       "    }\n",
       "\n",
       "    .dataframe tbody tr th {\n",
       "        vertical-align: top;\n",
       "    }\n",
       "\n",
       "    .dataframe thead th {\n",
       "        text-align: right;\n",
       "    }\n",
       "</style>\n",
       "<table border=\"1\" class=\"dataframe\">\n",
       "  <thead>\n",
       "    <tr style=\"text-align: right;\">\n",
       "      <th></th>\n",
       "      <th>Unnamed: 0</th>\n",
       "      <th>id</th>\n",
       "      <th>latitud</th>\n",
       "      <th>longitud</th>\n",
       "      <th>property_type</th>\n",
       "      <th>property_rooms</th>\n",
       "      <th>property_bedrooms</th>\n",
       "      <th>property_surface_total</th>\n",
       "      <th>property_surface_covered</th>\n",
       "      <th>property_price</th>\n",
       "      <th>precioxm2_relativo_q</th>\n",
       "    </tr>\n",
       "  </thead>\n",
       "  <tbody>\n",
       "    <tr>\n",
       "      <th>0</th>\n",
       "      <td>0</td>\n",
       "      <td>CLj2GNCsBreAzTKFXCaLIQ==</td>\n",
       "      <td>-34.601807</td>\n",
       "      <td>-58.469965</td>\n",
       "      <td>Departamento</td>\n",
       "      <td>2.0</td>\n",
       "      <td>1.0</td>\n",
       "      <td>53.0</td>\n",
       "      <td>49.0</td>\n",
       "      <td>80000.0</td>\n",
       "      <td>bajo</td>\n",
       "    </tr>\n",
       "    <tr>\n",
       "      <th>1</th>\n",
       "      <td>1</td>\n",
       "      <td>TvqKIPzzT1urYfVhh8tC7w==</td>\n",
       "      <td>-34.580088</td>\n",
       "      <td>-58.424965</td>\n",
       "      <td>Departamento</td>\n",
       "      <td>2.0</td>\n",
       "      <td>1.0</td>\n",
       "      <td>35.0</td>\n",
       "      <td>35.0</td>\n",
       "      <td>79900.0</td>\n",
       "      <td>medio</td>\n",
       "    </tr>\n",
       "    <tr>\n",
       "      <th>2</th>\n",
       "      <td>2</td>\n",
       "      <td>QRs3RUjw1RS5/WRne8ApbA==</td>\n",
       "      <td>-34.551481</td>\n",
       "      <td>-58.452358</td>\n",
       "      <td>Departamento</td>\n",
       "      <td>1.0</td>\n",
       "      <td>1.0</td>\n",
       "      <td>25.0</td>\n",
       "      <td>20.0</td>\n",
       "      <td>69000.0</td>\n",
       "      <td>medio</td>\n",
       "    </tr>\n",
       "    <tr>\n",
       "      <th>3</th>\n",
       "      <td>3</td>\n",
       "      <td>ju90QBsV36i7DCOOWCJpaA==</td>\n",
       "      <td>-34.632290</td>\n",
       "      <td>-58.464844</td>\n",
       "      <td>Departamento</td>\n",
       "      <td>5.0</td>\n",
       "      <td>3.0</td>\n",
       "      <td>75.0</td>\n",
       "      <td>75.0</td>\n",
       "      <td>150000.0</td>\n",
       "      <td>medio</td>\n",
       "    </tr>\n",
       "    <tr>\n",
       "      <th>4</th>\n",
       "      <td>4</td>\n",
       "      <td>uxD4SK3jtGbmxfIlN03UMQ==</td>\n",
       "      <td>-34.549279</td>\n",
       "      <td>-58.463074</td>\n",
       "      <td>Departamento</td>\n",
       "      <td>2.0</td>\n",
       "      <td>1.0</td>\n",
       "      <td>46.0</td>\n",
       "      <td>34.0</td>\n",
       "      <td>85000.0</td>\n",
       "      <td>bajo</td>\n",
       "    </tr>\n",
       "  </tbody>\n",
       "</table>\n",
       "</div>"
      ],
      "text/plain": [
       "   Unnamed: 0                        id    latitud   longitud property_type  \\\n",
       "0           0  CLj2GNCsBreAzTKFXCaLIQ== -34.601807 -58.469965  Departamento   \n",
       "1           1  TvqKIPzzT1urYfVhh8tC7w== -34.580088 -58.424965  Departamento   \n",
       "2           2  QRs3RUjw1RS5/WRne8ApbA== -34.551481 -58.452358  Departamento   \n",
       "3           3  ju90QBsV36i7DCOOWCJpaA== -34.632290 -58.464844  Departamento   \n",
       "4           4  uxD4SK3jtGbmxfIlN03UMQ== -34.549279 -58.463074  Departamento   \n",
       "\n",
       "   property_rooms  property_bedrooms  property_surface_total  \\\n",
       "0             2.0                1.0                    53.0   \n",
       "1             2.0                1.0                    35.0   \n",
       "2             1.0                1.0                    25.0   \n",
       "3             5.0                3.0                    75.0   \n",
       "4             2.0                1.0                    46.0   \n",
       "\n",
       "   property_surface_covered  property_price precioxm2_relativo_q  \n",
       "0                      49.0         80000.0                 bajo  \n",
       "1                      35.0         79900.0                medio  \n",
       "2                      20.0         69000.0                medio  \n",
       "3                      75.0        150000.0                medio  \n",
       "4                      34.0         85000.0                 bajo  "
      ]
     },
     "execution_count": 218,
     "metadata": {},
     "output_type": "execute_result"
    }
   ],
   "source": [
    "ds_train.head()"
   ]
  },
  {
   "cell_type": "code",
   "execution_count": 219,
   "metadata": {},
   "outputs": [],
   "source": [
    "#dropeamos Unamed:0\n",
    "ds_train.drop(columns=[\"Unnamed: 0\"], inplace=True)\n",
    "ds_test.drop(columns=[\"Unnamed: 0\"], inplace=True)\n",
    "\n",
    "#cambio nombre de columna precioxm2_relativo_q\n",
    "ds_train.rename(columns={'precioxm2_relativo_q':'tipo_precio'}, inplace=True)\n",
    "ds_test.rename(columns={'precioxm2_relativo_q':'tipo_precio'}, inplace=True)"
   ]
  },
  {
   "cell_type": "markdown",
   "metadata": {},
   "source": [
    "Aplicamos dummies a la variable property_type"
   ]
  },
  {
   "cell_type": "code",
   "execution_count": 220,
   "metadata": {},
   "outputs": [],
   "source": [
    "ds_train = pd.get_dummies(ds_train, columns=[\"property_type\"], drop_first=True)\n",
    "\n",
    "ds_test =  pd.get_dummies(ds_test, columns=[\"property_type\"], drop_first=True)"
   ]
  },
  {
   "cell_type": "code",
   "execution_count": 221,
   "metadata": {},
   "outputs": [
    {
     "data": {
      "text/plain": [
       "array(['bajo', 'medio', 'alto'], dtype=object)"
      ]
     },
     "execution_count": 221,
     "metadata": {},
     "output_type": "execute_result"
    }
   ],
   "source": [
    "ds_train['tipo_precio'].unique()"
   ]
  },
  {
   "cell_type": "markdown",
   "metadata": {},
   "source": [
    "Tengo que pasar estas clases a numeros para que funcionen con clasificacion. Hago un label encoder"
   ]
  },
  {
   "cell_type": "code",
   "execution_count": 222,
   "metadata": {},
   "outputs": [],
   "source": [
    "tipo_precio_replace = {'bajo':0, 'medio':1, 'alto':2}\n",
    "\n",
    "ds_train.loc[:, 'tipo_precio'].replace(tipo_precio_replace, inplace=True)\n",
    "ds_test.loc[:, 'tipo_precio'].replace(tipo_precio_replace, inplace=True)"
   ]
  },
  {
   "cell_type": "code",
   "execution_count": 223,
   "metadata": {},
   "outputs": [
    {
     "data": {
      "text/html": [
       "<div>\n",
       "<style scoped>\n",
       "    .dataframe tbody tr th:only-of-type {\n",
       "        vertical-align: middle;\n",
       "    }\n",
       "\n",
       "    .dataframe tbody tr th {\n",
       "        vertical-align: top;\n",
       "    }\n",
       "\n",
       "    .dataframe thead th {\n",
       "        text-align: right;\n",
       "    }\n",
       "</style>\n",
       "<table border=\"1\" class=\"dataframe\">\n",
       "  <thead>\n",
       "    <tr style=\"text-align: right;\">\n",
       "      <th></th>\n",
       "      <th>id</th>\n",
       "      <th>latitud</th>\n",
       "      <th>longitud</th>\n",
       "      <th>property_rooms</th>\n",
       "      <th>property_bedrooms</th>\n",
       "      <th>property_surface_total</th>\n",
       "      <th>property_surface_covered</th>\n",
       "      <th>property_price</th>\n",
       "      <th>tipo_precio</th>\n",
       "      <th>property_type_Departamento</th>\n",
       "      <th>property_type_PH</th>\n",
       "    </tr>\n",
       "  </thead>\n",
       "  <tbody>\n",
       "    <tr>\n",
       "      <th>0</th>\n",
       "      <td>CLj2GNCsBreAzTKFXCaLIQ==</td>\n",
       "      <td>-34.601807</td>\n",
       "      <td>-58.469965</td>\n",
       "      <td>2.0</td>\n",
       "      <td>1.0</td>\n",
       "      <td>53.0</td>\n",
       "      <td>49.0</td>\n",
       "      <td>80000.0</td>\n",
       "      <td>0</td>\n",
       "      <td>1</td>\n",
       "      <td>0</td>\n",
       "    </tr>\n",
       "    <tr>\n",
       "      <th>1</th>\n",
       "      <td>TvqKIPzzT1urYfVhh8tC7w==</td>\n",
       "      <td>-34.580088</td>\n",
       "      <td>-58.424965</td>\n",
       "      <td>2.0</td>\n",
       "      <td>1.0</td>\n",
       "      <td>35.0</td>\n",
       "      <td>35.0</td>\n",
       "      <td>79900.0</td>\n",
       "      <td>1</td>\n",
       "      <td>1</td>\n",
       "      <td>0</td>\n",
       "    </tr>\n",
       "    <tr>\n",
       "      <th>2</th>\n",
       "      <td>QRs3RUjw1RS5/WRne8ApbA==</td>\n",
       "      <td>-34.551481</td>\n",
       "      <td>-58.452358</td>\n",
       "      <td>1.0</td>\n",
       "      <td>1.0</td>\n",
       "      <td>25.0</td>\n",
       "      <td>20.0</td>\n",
       "      <td>69000.0</td>\n",
       "      <td>1</td>\n",
       "      <td>1</td>\n",
       "      <td>0</td>\n",
       "    </tr>\n",
       "    <tr>\n",
       "      <th>3</th>\n",
       "      <td>ju90QBsV36i7DCOOWCJpaA==</td>\n",
       "      <td>-34.632290</td>\n",
       "      <td>-58.464844</td>\n",
       "      <td>5.0</td>\n",
       "      <td>3.0</td>\n",
       "      <td>75.0</td>\n",
       "      <td>75.0</td>\n",
       "      <td>150000.0</td>\n",
       "      <td>1</td>\n",
       "      <td>1</td>\n",
       "      <td>0</td>\n",
       "    </tr>\n",
       "    <tr>\n",
       "      <th>4</th>\n",
       "      <td>uxD4SK3jtGbmxfIlN03UMQ==</td>\n",
       "      <td>-34.549279</td>\n",
       "      <td>-58.463074</td>\n",
       "      <td>2.0</td>\n",
       "      <td>1.0</td>\n",
       "      <td>46.0</td>\n",
       "      <td>34.0</td>\n",
       "      <td>85000.0</td>\n",
       "      <td>0</td>\n",
       "      <td>1</td>\n",
       "      <td>0</td>\n",
       "    </tr>\n",
       "  </tbody>\n",
       "</table>\n",
       "</div>"
      ],
      "text/plain": [
       "                         id    latitud   longitud  property_rooms  \\\n",
       "0  CLj2GNCsBreAzTKFXCaLIQ== -34.601807 -58.469965             2.0   \n",
       "1  TvqKIPzzT1urYfVhh8tC7w== -34.580088 -58.424965             2.0   \n",
       "2  QRs3RUjw1RS5/WRne8ApbA== -34.551481 -58.452358             1.0   \n",
       "3  ju90QBsV36i7DCOOWCJpaA== -34.632290 -58.464844             5.0   \n",
       "4  uxD4SK3jtGbmxfIlN03UMQ== -34.549279 -58.463074             2.0   \n",
       "\n",
       "   property_bedrooms  property_surface_total  property_surface_covered  \\\n",
       "0                1.0                    53.0                      49.0   \n",
       "1                1.0                    35.0                      35.0   \n",
       "2                1.0                    25.0                      20.0   \n",
       "3                3.0                    75.0                      75.0   \n",
       "4                1.0                    46.0                      34.0   \n",
       "\n",
       "   property_price  tipo_precio  property_type_Departamento  property_type_PH  \n",
       "0         80000.0            0                           1                 0  \n",
       "1         79900.0            1                           1                 0  \n",
       "2         69000.0            1                           1                 0  \n",
       "3        150000.0            1                           1                 0  \n",
       "4         85000.0            0                           1                 0  "
      ]
     },
     "execution_count": 223,
     "metadata": {},
     "output_type": "execute_result"
    }
   ],
   "source": [
    "ds_train.head()"
   ]
  },
  {
   "cell_type": "code",
   "execution_count": 224,
   "metadata": {},
   "outputs": [
    {
     "name": "stdout",
     "output_type": "stream",
     "text": [
      "<class 'pandas.core.frame.DataFrame'>\n",
      "RangeIndex: 68012 entries, 0 to 68011\n",
      "Data columns (total 11 columns):\n",
      " #   Column                      Non-Null Count  Dtype  \n",
      "---  ------                      --------------  -----  \n",
      " 0   id                          68012 non-null  object \n",
      " 1   latitud                     68012 non-null  float64\n",
      " 2   longitud                    68012 non-null  float64\n",
      " 3   property_rooms              68012 non-null  float64\n",
      " 4   property_bedrooms           68012 non-null  float64\n",
      " 5   property_surface_total      68012 non-null  float64\n",
      " 6   property_surface_covered    68012 non-null  float64\n",
      " 7   property_price              68012 non-null  float64\n",
      " 8   tipo_precio                 68012 non-null  int64  \n",
      " 9   property_type_Departamento  68012 non-null  uint8  \n",
      " 10  property_type_PH            68012 non-null  uint8  \n",
      "dtypes: float64(7), int64(1), object(1), uint8(2)\n",
      "memory usage: 4.8+ MB\n"
     ]
    }
   ],
   "source": [
    "ds_train.info()"
   ]
  },
  {
   "cell_type": "markdown",
   "metadata": {},
   "source": [
    "## Regresion"
   ]
  },
  {
   "cell_type": "markdown",
   "metadata": {},
   "source": [
    "Funcion para graficar"
   ]
  },
  {
   "cell_type": "code",
   "execution_count": 225,
   "metadata": {},
   "outputs": [],
   "source": [
    "features_regression = ['longitud', 'latitud', 'property_surface_total', \"property_type_PH\", \"property_type_Departamento\", \"property_bedrooms\"]\n",
    "target_regression = ['property_price']\n",
    "\n",
    "x_train_regress = ds_train.loc[:, features_regression]\n",
    "x_test_regress = ds_test.loc[:, features_regression]\n",
    "y_train_regress = ds_train.loc[:, target_regression]\n",
    "y_test_regress = ds_test.loc[:, target_regression]"
   ]
  },
  {
   "cell_type": "code",
   "execution_count": 226,
   "metadata": {},
   "outputs": [
    {
     "data": {
      "text/plain": [
       "StandardScaler()"
      ]
     },
     "execution_count": 226,
     "metadata": {},
     "output_type": "execute_result"
    }
   ],
   "source": [
    "sscaler = StandardScaler()\n",
    "sscaler.fit(x_train_regress)"
   ]
  },
  {
   "cell_type": "code",
   "execution_count": 227,
   "metadata": {},
   "outputs": [],
   "source": [
    "x_train_regress = sscaler.transform(x_train_regress)\n",
    "x_test_regress = sscaler.transform(x_test_regress)"
   ]
  },
  {
   "cell_type": "markdown",
   "metadata": {},
   "source": [
    "#### Modelo de regresion"
   ]
  },
  {
   "cell_type": "code",
   "execution_count": 228,
   "metadata": {},
   "outputs": [],
   "source": [
    "in_regress = len(features_regression)\n",
    "out_regress = len(target_regression)"
   ]
  },
  {
   "cell_type": "code",
   "execution_count": 229,
   "metadata": {},
   "outputs": [],
   "source": [
    "def regression_model_builder(hp):\n",
    "    max_neurons = 50\n",
    "    model = keras.Sequential()\n",
    "    model.add(keras.Input(shape=(in_regress,)))\n",
    "    \n",
    "    hp_units_1 = hp.Int('units_1', min_value=1, max_value=max_neurons, step=1)\n",
    "    hp_activation_1 = hp.Choice('activation_1', values=['tanh', 'sigmoid'])\n",
    "    model.add(keras.layers.Dense(units=hp_units_1, activation=hp_activation_1, name=\"layer1\"))\n",
    "    \n",
    "    hp_units_2 = hp.Int('units_2', min_value=1, max_value=max_neurons, step=1)\n",
    "    hp_activation_2 = hp.Choice('activation_2', values=['relu', 'tanh', 'sigmoid'])\n",
    "    model.add(keras.layers.Dense(units=hp_units_2, activation=hp_activation_2, name=\"layer2\"))\n",
    "    \n",
    "    model.add(keras.layers.Dense(units=out_regress, name=\"output\"))\n",
    "    \n",
    "    hp_learning_rate = hp.Choice('learning_rate', values=[1e-1, 1e-2, 1e-3, 1e-4, 1e-5, 1e-6])\n",
    "    model.compile(\n",
    "        optimizer=keras.optimizers.SGD(learning_rate=hp_learning_rate),\n",
    "        loss=keras.losses.MeanSquaredError(),\n",
    "        metrics=[keras.metrics.RootMeanSquaredError()]\n",
    "    )\n",
    "    \n",
    "    return model"
   ]
  },
  {
   "attachments": {},
   "cell_type": "markdown",
   "metadata": {},
   "source": [
    "Algunas notas sobre la funcion para construir el modelo:\n",
    "\n",
    "* Decidimos usar 2 ocultas con un maximo de 50 neuronas por capa. Estos números fueron arbitrarios pero prombamos algunos otros y no conseguimos mejores métricas.\n",
    "\n",
    "* La función de activación \"relu\" en la primera capa causaba problemas (hacia que la funcion de perdida diera nan), por lo que solo usamos la tangencial o la sigmoidea. Estas 3 funciones son las que se ven comunmente en problemas de regresión."
   ]
  },
  {
   "cell_type": "code",
   "execution_count": 206,
   "metadata": {},
   "outputs": [],
   "source": [
    "regress_tuner = kt.RandomSearch(\n",
    "    regression_model_builder,\n",
    "    objective='val_loss',\n",
    "    max_trials=20,\n",
    "   \n",
    ")"
   ]
  },
  {
   "cell_type": "code",
   "execution_count": 207,
   "metadata": {
    "scrolled": true
   },
   "outputs": [
    {
     "name": "stdout",
     "output_type": "stream",
     "text": [
      "Trial 20 Complete [00h 00m 14s]\n",
      "val_loss: nan\n",
      "\n",
      "Best val_loss So Far: 15591652352.0\n",
      "Total elapsed time: 00h 05m 12s\n",
      "INFO:tensorflow:Oracle triggered exit\n"
     ]
    }
   ],
   "source": [
    "regress_history = regress_tuner.search(x_train_regress, y_train_regress.to_numpy(), epochs=100, batch_size=700, validation_split=0.2)"
   ]
  },
  {
   "cell_type": "code",
   "execution_count": 208,
   "metadata": {},
   "outputs": [
    {
     "name": "stdout",
     "output_type": "stream",
     "text": [
      "Hiperparametros Optimos Encontrados\n",
      "  · Neuronas primera capa:  6\n",
      "  · Activavion primera capa:  tanh\n",
      "  · Neuronas segunda capa:  46\n",
      "  · Activavion segunda capa:  sigmoid\n",
      "  · Learning rate:  0.01\n"
     ]
    }
   ],
   "source": [
    "best_regress_hps = regress_tuner.get_best_hyperparameters()[0]\n",
    "print(\"Hiperparametros Optimos Encontrados\")\n",
    "print(\"  · Neuronas primera capa: \", best_regress_hps.get('units_1'))\n",
    "print(\"  · Activavion primera capa: \", best_regress_hps.get('activation_1'))\n",
    "print(\"  · Neuronas segunda capa: \", best_regress_hps.get('units_2'))\n",
    "print(\"  · Activavion segunda capa: \", best_regress_hps.get('activation_2'))\n",
    "print(\"  · Learning rate: \", best_regress_hps.get('learning_rate'))\n"
   ]
  },
  {
   "attachments": {},
   "cell_type": "markdown",
   "metadata": {},
   "source": [
    "Una vez que obtenemos lo hiperparametros optimos, creamos una red con esos parametros."
   ]
  },
  {
   "cell_type": "code",
   "execution_count": 230,
   "metadata": {},
   "outputs": [],
   "source": [
    "regress_model = keras.Sequential(\n",
    "    [\n",
    "        keras.Input(shape=(in_regress,)),\n",
    "        keras.layers.Dense(units=15, activation='tanh', name=\"layer1\"),\n",
    "        keras.layers.Dense(units=8, activation='relu', name=\"layer2\"),\n",
    "        keras.layers.Dense(units=out_regress, name=\"output\")\n",
    "    ]\n",
    ")"
   ]
  },
  {
   "cell_type": "code",
   "execution_count": 231,
   "metadata": {},
   "outputs": [
    {
     "name": "stdout",
     "output_type": "stream",
     "text": [
      "Model: \"sequential_2\"\n",
      "_________________________________________________________________\n",
      " Layer (type)                Output Shape              Param #   \n",
      "=================================================================\n",
      " layer1 (Dense)              (None, 15)                105       \n",
      "                                                                 \n",
      " layer2 (Dense)              (None, 8)                 128       \n",
      "                                                                 \n",
      " output (Dense)              (None, 1)                 9         \n",
      "                                                                 \n",
      "=================================================================\n",
      "Total params: 242\n",
      "Trainable params: 242\n",
      "Non-trainable params: 0\n",
      "_________________________________________________________________\n"
     ]
    }
   ],
   "source": [
    "regress_model.summary()"
   ]
  },
  {
   "cell_type": "code",
   "execution_count": 232,
   "metadata": {},
   "outputs": [],
   "source": [
    "regress_model.compile(\n",
    "    optimizer=keras.optimizers.SGD(learning_rate=1e-6),\n",
    "    loss=keras.losses.MeanSquaredError(),\n",
    "    metrics=[keras.metrics.RootMeanSquaredError()]\n",
    ")"
   ]
  },
  {
   "cell_type": "code",
   "execution_count": 233,
   "metadata": {},
   "outputs": [
    {
     "name": "stdout",
     "output_type": "stream",
     "text": [
      "Epoch 1/100\n",
      "78/78 [==============================] - 2s 10ms/step - loss: 22610257920.0000 - root_mean_squared_error: 150367.0781 - val_loss: 15250327552.0000 - val_root_mean_squared_error: 123492.2188\n",
      "Epoch 2/100\n",
      "78/78 [==============================] - 0s 5ms/step - loss: 13808149504.0000 - root_mean_squared_error: 117508.0859 - val_loss: 28600829952.0000 - val_root_mean_squared_error: 169117.7969\n",
      "Epoch 3/100\n",
      "78/78 [==============================] - 0s 5ms/step - loss: 12728035328.0000 - root_mean_squared_error: 112818.5938 - val_loss: 25648355328.0000 - val_root_mean_squared_error: 160151.0469\n",
      "Epoch 4/100\n",
      "78/78 [==============================] - 0s 5ms/step - loss: 13074033664.0000 - root_mean_squared_error: 114341.7422 - val_loss: 20450422784.0000 - val_root_mean_squared_error: 143004.9688\n",
      "Epoch 5/100\n",
      "78/78 [==============================] - 0s 5ms/step - loss: 10656921600.0000 - root_mean_squared_error: 103232.3672 - val_loss: 10764926976.0000 - val_root_mean_squared_error: 103754.1797\n",
      "Epoch 6/100\n",
      "78/78 [==============================] - 0s 5ms/step - loss: 9284733952.0000 - root_mean_squared_error: 96357.3281 - val_loss: 8295810560.0000 - val_root_mean_squared_error: 91081.3438\n",
      "Epoch 7/100\n",
      "78/78 [==============================] - 0s 5ms/step - loss: 8814429184.0000 - root_mean_squared_error: 93885.1953 - val_loss: 8868798464.0000 - val_root_mean_squared_error: 94174.2969\n",
      "Epoch 8/100\n",
      "78/78 [==============================] - 0s 5ms/step - loss: 8931557376.0000 - root_mean_squared_error: 94506.9141 - val_loss: 11729643520.0000 - val_root_mean_squared_error: 108303.4766\n",
      "Epoch 9/100\n",
      "78/78 [==============================] - 0s 5ms/step - loss: 8616521728.0000 - root_mean_squared_error: 92825.2344 - val_loss: 7772354048.0000 - val_root_mean_squared_error: 88160.9531\n",
      "Epoch 10/100\n",
      "78/78 [==============================] - 0s 5ms/step - loss: 8478657024.0000 - root_mean_squared_error: 92079.6250 - val_loss: 8104592896.0000 - val_root_mean_squared_error: 90025.5156\n",
      "Epoch 11/100\n",
      "78/78 [==============================] - 1s 6ms/step - loss: 7701026304.0000 - root_mean_squared_error: 87755.4922 - val_loss: 8397681664.0000 - val_root_mean_squared_error: 91638.8672\n",
      "Epoch 12/100\n",
      "78/78 [==============================] - 0s 5ms/step - loss: 8287534592.0000 - root_mean_squared_error: 91035.8984 - val_loss: 10858224640.0000 - val_root_mean_squared_error: 104202.8047\n",
      "Epoch 13/100\n",
      "78/78 [==============================] - 0s 5ms/step - loss: 9081525248.0000 - root_mean_squared_error: 95297.0469 - val_loss: 8098542080.0000 - val_root_mean_squared_error: 89991.8984\n",
      "Epoch 14/100\n",
      "78/78 [==============================] - 0s 5ms/step - loss: 7802410496.0000 - root_mean_squared_error: 88331.2578 - val_loss: 8791834624.0000 - val_root_mean_squared_error: 93764.7812\n",
      "Epoch 15/100\n",
      "78/78 [==============================] - 0s 5ms/step - loss: 8324807168.0000 - root_mean_squared_error: 91240.3828 - val_loss: 7592977408.0000 - val_root_mean_squared_error: 87137.6953\n",
      "Epoch 16/100\n",
      "78/78 [==============================] - 0s 5ms/step - loss: 8194315776.0000 - root_mean_squared_error: 90522.4609 - val_loss: 7797584896.0000 - val_root_mean_squared_error: 88303.9375\n",
      "Epoch 17/100\n",
      "78/78 [==============================] - 0s 5ms/step - loss: 8165789184.0000 - root_mean_squared_error: 90364.7578 - val_loss: 7689615872.0000 - val_root_mean_squared_error: 87690.4531\n",
      "Epoch 18/100\n",
      "78/78 [==============================] - 0s 5ms/step - loss: 7978934784.0000 - root_mean_squared_error: 89324.8828 - val_loss: 10471949312.0000 - val_root_mean_squared_error: 102332.5391\n",
      "Epoch 19/100\n",
      "78/78 [==============================] - 0s 5ms/step - loss: 7760229888.0000 - root_mean_squared_error: 88092.1641 - val_loss: 8112416768.0000 - val_root_mean_squared_error: 90068.9531\n",
      "Epoch 20/100\n",
      "78/78 [==============================] - 0s 4ms/step - loss: 7409770496.0000 - root_mean_squared_error: 86080.0234 - val_loss: 7345364992.0000 - val_root_mean_squared_error: 85705.1016\n",
      "Epoch 21/100\n",
      "78/78 [==============================] - 0s 5ms/step - loss: 7250944000.0000 - root_mean_squared_error: 85152.4766 - val_loss: 7793810432.0000 - val_root_mean_squared_error: 88282.5625\n",
      "Epoch 22/100\n",
      "78/78 [==============================] - 0s 5ms/step - loss: 7641161216.0000 - root_mean_squared_error: 87413.7344 - val_loss: 7417267712.0000 - val_root_mean_squared_error: 86123.5625\n",
      "Epoch 23/100\n",
      "78/78 [==============================] - 0s 4ms/step - loss: 7285273088.0000 - root_mean_squared_error: 85353.8125 - val_loss: 9881242624.0000 - val_root_mean_squared_error: 99404.4375\n",
      "Epoch 24/100\n",
      "78/78 [==============================] - 0s 5ms/step - loss: 7014253568.0000 - root_mean_squared_error: 83751.1406 - val_loss: 8636919808.0000 - val_root_mean_squared_error: 92935.0312\n",
      "Epoch 25/100\n",
      "78/78 [==============================] - 0s 5ms/step - loss: 7306472960.0000 - root_mean_squared_error: 85477.9062 - val_loss: 7606918144.0000 - val_root_mean_squared_error: 87217.6484\n",
      "Epoch 26/100\n",
      "78/78 [==============================] - 0s 5ms/step - loss: 7082005504.0000 - root_mean_squared_error: 84154.6484 - val_loss: 7533756416.0000 - val_root_mean_squared_error: 86797.2109\n",
      "Epoch 27/100\n",
      "78/78 [==============================] - 0s 5ms/step - loss: 7612133376.0000 - root_mean_squared_error: 87247.5391 - val_loss: 7328346624.0000 - val_root_mean_squared_error: 85605.7656\n",
      "Epoch 28/100\n",
      "78/78 [==============================] - 0s 5ms/step - loss: 8208293376.0000 - root_mean_squared_error: 90599.6328 - val_loss: 8153981440.0000 - val_root_mean_squared_error: 90299.3984\n",
      "Epoch 29/100\n",
      "78/78 [==============================] - 0s 4ms/step - loss: 8334011904.0000 - root_mean_squared_error: 91290.8125 - val_loss: 8011279360.0000 - val_root_mean_squared_error: 89505.7500\n",
      "Epoch 30/100\n",
      "78/78 [==============================] - 0s 5ms/step - loss: 7374750208.0000 - root_mean_squared_error: 85876.3672 - val_loss: 7418798592.0000 - val_root_mean_squared_error: 86132.4453\n",
      "Epoch 31/100\n",
      "78/78 [==============================] - 0s 4ms/step - loss: 7417588224.0000 - root_mean_squared_error: 86125.4219 - val_loss: 7072732672.0000 - val_root_mean_squared_error: 84099.5391\n",
      "Epoch 32/100\n",
      "78/78 [==============================] - 0s 4ms/step - loss: 7327897600.0000 - root_mean_squared_error: 85603.1406 - val_loss: 7897754112.0000 - val_root_mean_squared_error: 88869.3125\n",
      "Epoch 33/100\n",
      "78/78 [==============================] - 0s 5ms/step - loss: 7686041600.0000 - root_mean_squared_error: 87670.0703 - val_loss: 7243066368.0000 - val_root_mean_squared_error: 85106.2031\n",
      "Epoch 34/100\n",
      "78/78 [==============================] - 0s 5ms/step - loss: 7118310912.0000 - root_mean_squared_error: 84370.0859 - val_loss: 7776033792.0000 - val_root_mean_squared_error: 88181.8203\n",
      "Epoch 35/100\n",
      "78/78 [==============================] - 0s 5ms/step - loss: 7200434688.0000 - root_mean_squared_error: 84855.3750 - val_loss: 7610523648.0000 - val_root_mean_squared_error: 87238.3125\n",
      "Epoch 36/100\n",
      "78/78 [==============================] - 0s 5ms/step - loss: 7816416768.0000 - root_mean_squared_error: 88410.5078 - val_loss: 7147763712.0000 - val_root_mean_squared_error: 84544.4453\n",
      "Epoch 37/100\n",
      "78/78 [==============================] - 0s 5ms/step - loss: 7875909120.0000 - root_mean_squared_error: 88746.3203 - val_loss: 7541441024.0000 - val_root_mean_squared_error: 86841.4688\n",
      "Epoch 38/100\n",
      "78/78 [==============================] - 0s 5ms/step - loss: 7787007488.0000 - root_mean_squared_error: 88244.0234 - val_loss: 7698765824.0000 - val_root_mean_squared_error: 87742.6094\n",
      "Epoch 39/100\n",
      "78/78 [==============================] - 0s 5ms/step - loss: 8954925056.0000 - root_mean_squared_error: 94630.4688 - val_loss: 14886307840.0000 - val_root_mean_squared_error: 122009.4609\n",
      "Epoch 40/100\n",
      "78/78 [==============================] - 0s 5ms/step - loss: 7977709056.0000 - root_mean_squared_error: 89318.0234 - val_loss: 7865332224.0000 - val_root_mean_squared_error: 88686.7109\n",
      "Epoch 41/100\n",
      "78/78 [==============================] - 0s 5ms/step - loss: 7621340160.0000 - root_mean_squared_error: 87300.2891 - val_loss: 8192322560.0000 - val_root_mean_squared_error: 90511.4531\n",
      "Epoch 42/100\n",
      "78/78 [==============================] - 0s 6ms/step - loss: 7679309312.0000 - root_mean_squared_error: 87631.6719 - val_loss: 10050138112.0000 - val_root_mean_squared_error: 100250.3750\n",
      "Epoch 43/100\n",
      "78/78 [==============================] - 0s 5ms/step - loss: 8396864512.0000 - root_mean_squared_error: 91634.4062 - val_loss: 7654630912.0000 - val_root_mean_squared_error: 87490.7500\n",
      "Epoch 44/100\n",
      "78/78 [==============================] - 0s 5ms/step - loss: 8261397504.0000 - root_mean_squared_error: 90892.2266 - val_loss: 7779204608.0000 - val_root_mean_squared_error: 88199.7969\n",
      "Epoch 45/100\n",
      "78/78 [==============================] - 0s 5ms/step - loss: 8906560512.0000 - root_mean_squared_error: 94374.5781 - val_loss: 9573213184.0000 - val_root_mean_squared_error: 97842.7969\n",
      "Epoch 46/100\n",
      "78/78 [==============================] - 0s 5ms/step - loss: 8120314368.0000 - root_mean_squared_error: 90112.7891 - val_loss: 7762132992.0000 - val_root_mean_squared_error: 88102.9688\n",
      "Epoch 47/100\n",
      "78/78 [==============================] - 0s 5ms/step - loss: 7665413120.0000 - root_mean_squared_error: 87552.3516 - val_loss: 9333946368.0000 - val_root_mean_squared_error: 96612.3516\n",
      "Epoch 48/100\n",
      "78/78 [==============================] - 0s 5ms/step - loss: 8455775232.0000 - root_mean_squared_error: 91955.2891 - val_loss: 8392293376.0000 - val_root_mean_squared_error: 91609.4609\n",
      "Epoch 49/100\n",
      "78/78 [==============================] - 0s 5ms/step - loss: 8370080768.0000 - root_mean_squared_error: 91488.1484 - val_loss: 7983852032.0000 - val_root_mean_squared_error: 89352.4062\n",
      "Epoch 50/100\n",
      "78/78 [==============================] - 0s 5ms/step - loss: 7991858176.0000 - root_mean_squared_error: 89397.1953 - val_loss: 7949556736.0000 - val_root_mean_squared_error: 89160.2891\n",
      "Epoch 51/100\n",
      "78/78 [==============================] - 0s 4ms/step - loss: 7879686656.0000 - root_mean_squared_error: 88767.6016 - val_loss: 7680493056.0000 - val_root_mean_squared_error: 87638.4219\n",
      "Epoch 52/100\n",
      "78/78 [==============================] - 0s 5ms/step - loss: 7455334912.0000 - root_mean_squared_error: 86344.2812 - val_loss: 9778168832.0000 - val_root_mean_squared_error: 98884.6250\n",
      "Epoch 53/100\n",
      "78/78 [==============================] - 0s 4ms/step - loss: 7854343168.0000 - root_mean_squared_error: 88624.7344 - val_loss: 8202266624.0000 - val_root_mean_squared_error: 90566.3672\n",
      "Epoch 54/100\n",
      "78/78 [==============================] - 0s 5ms/step - loss: 7735392768.0000 - root_mean_squared_error: 87951.0781 - val_loss: 7406340608.0000 - val_root_mean_squared_error: 86060.1016\n",
      "Epoch 55/100\n",
      "78/78 [==============================] - 0s 5ms/step - loss: 7019609600.0000 - root_mean_squared_error: 83783.1094 - val_loss: 7206821376.0000 - val_root_mean_squared_error: 84893.0000\n",
      "Epoch 56/100\n",
      "78/78 [==============================] - 0s 5ms/step - loss: 6984697856.0000 - root_mean_squared_error: 83574.5078 - val_loss: 9498627072.0000 - val_root_mean_squared_error: 97460.8984\n",
      "Epoch 57/100\n",
      "78/78 [==============================] - 0s 4ms/step - loss: 7244103168.0000 - root_mean_squared_error: 85112.2969 - val_loss: 7127581696.0000 - val_root_mean_squared_error: 84425.0078\n",
      "Epoch 58/100\n",
      "78/78 [==============================] - 0s 5ms/step - loss: 7054594560.0000 - root_mean_squared_error: 83991.6328 - val_loss: 7350145536.0000 - val_root_mean_squared_error: 85732.9922\n",
      "Epoch 59/100\n",
      "78/78 [==============================] - 0s 5ms/step - loss: 7479844864.0000 - root_mean_squared_error: 86486.0938 - val_loss: 7800261632.0000 - val_root_mean_squared_error: 88319.0938\n",
      "Epoch 60/100\n",
      "78/78 [==============================] - 0s 5ms/step - loss: 7342434304.0000 - root_mean_squared_error: 85688.0078 - val_loss: 7434306048.0000 - val_root_mean_squared_error: 86222.4219\n",
      "Epoch 61/100\n",
      "78/78 [==============================] - 0s 5ms/step - loss: 7198934016.0000 - root_mean_squared_error: 84846.5312 - val_loss: 8757294080.0000 - val_root_mean_squared_error: 93580.4141\n",
      "Epoch 62/100\n",
      "78/78 [==============================] - 0s 5ms/step - loss: 7051943424.0000 - root_mean_squared_error: 83975.8516 - val_loss: 7051849216.0000 - val_root_mean_squared_error: 83975.2891\n",
      "Epoch 63/100\n",
      "78/78 [==============================] - 0s 5ms/step - loss: 6742255104.0000 - root_mean_squared_error: 82111.2344 - val_loss: 7535728128.0000 - val_root_mean_squared_error: 86808.5703\n",
      "Epoch 64/100\n",
      "78/78 [==============================] - 0s 5ms/step - loss: 6951303168.0000 - root_mean_squared_error: 83374.4766 - val_loss: 6988197888.0000 - val_root_mean_squared_error: 83595.4453\n",
      "Epoch 65/100\n",
      "78/78 [==============================] - 0s 5ms/step - loss: 6973947904.0000 - root_mean_squared_error: 83510.1641 - val_loss: 6742268416.0000 - val_root_mean_squared_error: 82111.3203\n",
      "Epoch 66/100\n",
      "78/78 [==============================] - 0s 5ms/step - loss: 6791260672.0000 - root_mean_squared_error: 82409.1094 - val_loss: 6919036416.0000 - val_root_mean_squared_error: 83180.7422\n",
      "Epoch 67/100\n",
      "78/78 [==============================] - 0s 5ms/step - loss: 6952359424.0000 - root_mean_squared_error: 83380.8125 - val_loss: 7408130560.0000 - val_root_mean_squared_error: 86070.5000\n",
      "Epoch 68/100\n",
      "78/78 [==============================] - 0s 5ms/step - loss: 6996560896.0000 - root_mean_squared_error: 83645.4453 - val_loss: 7065275392.0000 - val_root_mean_squared_error: 84055.1953\n",
      "Epoch 69/100\n",
      "78/78 [==============================] - 0s 5ms/step - loss: 6907254272.0000 - root_mean_squared_error: 83109.8906 - val_loss: 6750971392.0000 - val_root_mean_squared_error: 82164.2969\n",
      "Epoch 70/100\n",
      "78/78 [==============================] - 0s 4ms/step - loss: 6480767488.0000 - root_mean_squared_error: 80503.2109 - val_loss: 7069880832.0000 - val_root_mean_squared_error: 84082.5859\n",
      "Epoch 71/100\n",
      "78/78 [==============================] - 0s 4ms/step - loss: 6402394624.0000 - root_mean_squared_error: 80014.9688 - val_loss: 7260956160.0000 - val_root_mean_squared_error: 85211.2422\n",
      "Epoch 72/100\n",
      "78/78 [==============================] - 0s 5ms/step - loss: 6635397120.0000 - root_mean_squared_error: 81457.9453 - val_loss: 6654447616.0000 - val_root_mean_squared_error: 81574.7969\n",
      "Epoch 73/100\n",
      "78/78 [==============================] - 0s 5ms/step - loss: 6575801344.0000 - root_mean_squared_error: 81091.3125 - val_loss: 6753688576.0000 - val_root_mean_squared_error: 82180.8281\n",
      "Epoch 74/100\n",
      "78/78 [==============================] - 0s 4ms/step - loss: 6809429504.0000 - root_mean_squared_error: 82519.2656 - val_loss: 7017867264.0000 - val_root_mean_squared_error: 83772.7109\n",
      "Epoch 75/100\n",
      "78/78 [==============================] - 0s 5ms/step - loss: 6635132416.0000 - root_mean_squared_error: 81456.3203 - val_loss: 6793243648.0000 - val_root_mean_squared_error: 82421.1328\n",
      "Epoch 76/100\n",
      "78/78 [==============================] - 0s 5ms/step - loss: 6461483520.0000 - root_mean_squared_error: 80383.3516 - val_loss: 6550374912.0000 - val_root_mean_squared_error: 80934.3828\n",
      "Epoch 77/100\n",
      "78/78 [==============================] - 0s 5ms/step - loss: 6320478720.0000 - root_mean_squared_error: 79501.4375 - val_loss: 6549725696.0000 - val_root_mean_squared_error: 80930.3750\n",
      "Epoch 78/100\n",
      "78/78 [==============================] - 0s 5ms/step - loss: 6496948736.0000 - root_mean_squared_error: 80603.6484 - val_loss: 7054109696.0000 - val_root_mean_squared_error: 83988.7500\n",
      "Epoch 79/100\n",
      "78/78 [==============================] - 0s 4ms/step - loss: 7009058816.0000 - root_mean_squared_error: 83720.1250 - val_loss: 7751873024.0000 - val_root_mean_squared_error: 88044.7188\n",
      "Epoch 80/100\n",
      "78/78 [==============================] - 0s 5ms/step - loss: 6767741952.0000 - root_mean_squared_error: 82266.2891 - val_loss: 6703520768.0000 - val_root_mean_squared_error: 81875.0312\n",
      "Epoch 81/100\n",
      "78/78 [==============================] - 0s 5ms/step - loss: 6841504768.0000 - root_mean_squared_error: 82713.3906 - val_loss: 7252212224.0000 - val_root_mean_squared_error: 85159.9219\n",
      "Epoch 82/100\n",
      "78/78 [==============================] - 0s 5ms/step - loss: 6902071296.0000 - root_mean_squared_error: 83078.7031 - val_loss: 7148867584.0000 - val_root_mean_squared_error: 84550.9766\n",
      "Epoch 83/100\n",
      "78/78 [==============================] - 0s 5ms/step - loss: 7141659648.0000 - root_mean_squared_error: 84508.3438 - val_loss: 7659347968.0000 - val_root_mean_squared_error: 87517.7031\n",
      "Epoch 84/100\n",
      "78/78 [==============================] - 0s 5ms/step - loss: 7409938432.0000 - root_mean_squared_error: 86081.0000 - val_loss: 7735105024.0000 - val_root_mean_squared_error: 87949.4453\n",
      "Epoch 85/100\n",
      "78/78 [==============================] - 0s 5ms/step - loss: 7400907264.0000 - root_mean_squared_error: 86028.5234 - val_loss: 7828060160.0000 - val_root_mean_squared_error: 88476.3281\n",
      "Epoch 86/100\n",
      "78/78 [==============================] - 0s 5ms/step - loss: 7181674496.0000 - root_mean_squared_error: 84744.7578 - val_loss: 7249097216.0000 - val_root_mean_squared_error: 85141.6328\n",
      "Epoch 87/100\n",
      "78/78 [==============================] - 0s 5ms/step - loss: 6934576640.0000 - root_mean_squared_error: 83274.1016 - val_loss: 7233147904.0000 - val_root_mean_squared_error: 85047.9141\n",
      "Epoch 88/100\n",
      "78/78 [==============================] - 0s 5ms/step - loss: 6983599104.0000 - root_mean_squared_error: 83567.9297 - val_loss: 7740935168.0000 - val_root_mean_squared_error: 87982.5859\n",
      "Epoch 89/100\n",
      "78/78 [==============================] - 0s 5ms/step - loss: 7006263296.0000 - root_mean_squared_error: 83703.4219 - val_loss: 7447567360.0000 - val_root_mean_squared_error: 86299.2891\n",
      "Epoch 90/100\n",
      "78/78 [==============================] - 0s 5ms/step - loss: 7664860672.0000 - root_mean_squared_error: 87549.1875 - val_loss: 7893935616.0000 - val_root_mean_squared_error: 88847.8203\n",
      "Epoch 91/100\n",
      "78/78 [==============================] - 0s 5ms/step - loss: 7352727040.0000 - root_mean_squared_error: 85748.0469 - val_loss: 7446228480.0000 - val_root_mean_squared_error: 86291.5312\n",
      "Epoch 92/100\n",
      "78/78 [==============================] - 0s 5ms/step - loss: 7085690368.0000 - root_mean_squared_error: 84176.5391 - val_loss: 7813744640.0000 - val_root_mean_squared_error: 88395.3906\n",
      "Epoch 93/100\n",
      "78/78 [==============================] - 0s 5ms/step - loss: 7142938624.0000 - root_mean_squared_error: 84515.9062 - val_loss: 7694886400.0000 - val_root_mean_squared_error: 87720.5000\n",
      "Epoch 94/100\n",
      "78/78 [==============================] - 0s 5ms/step - loss: 7022491136.0000 - root_mean_squared_error: 83800.3047 - val_loss: 7303599104.0000 - val_root_mean_squared_error: 85461.0938\n",
      "Epoch 95/100\n",
      "78/78 [==============================] - 0s 5ms/step - loss: 6889858560.0000 - root_mean_squared_error: 83005.1719 - val_loss: 7447457792.0000 - val_root_mean_squared_error: 86298.6562\n",
      "Epoch 96/100\n",
      "78/78 [==============================] - 0s 4ms/step - loss: 6837548032.0000 - root_mean_squared_error: 82689.4609 - val_loss: 7151381504.0000 - val_root_mean_squared_error: 84565.8438\n",
      "Epoch 97/100\n",
      "78/78 [==============================] - 0s 5ms/step - loss: 7006910976.0000 - root_mean_squared_error: 83707.2969 - val_loss: 7316532224.0000 - val_root_mean_squared_error: 85536.7344\n",
      "Epoch 98/100\n",
      "78/78 [==============================] - 0s 5ms/step - loss: 6713662976.0000 - root_mean_squared_error: 81936.9453 - val_loss: 6948258816.0000 - val_root_mean_squared_error: 83356.2188\n",
      "Epoch 99/100\n",
      "78/78 [==============================] - 0s 5ms/step - loss: 6613593600.0000 - root_mean_squared_error: 81324.0000 - val_loss: 7153979904.0000 - val_root_mean_squared_error: 84581.2031\n",
      "Epoch 100/100\n",
      "78/78 [==============================] - 0s 5ms/step - loss: 7345132544.0000 - root_mean_squared_error: 85703.7500 - val_loss: 7384283136.0000 - val_root_mean_squared_error: 85931.8516\n"
     ]
    },
    {
     "data": {
      "text/plain": [
       "<keras.callbacks.History at 0x22e7003b280>"
      ]
     },
     "execution_count": 233,
     "metadata": {},
     "output_type": "execute_result"
    }
   ],
   "source": [
    "regress_model.fit(x_train_regress, y_train_regress.to_numpy(), epochs=100, batch_size=700, validation_split=0.2)"
   ]
  },
  {
   "cell_type": "code",
   "execution_count": 213,
   "metadata": {},
   "outputs": [
    {
     "name": "stdout",
     "output_type": "stream",
     "text": [
      "532/532 [==============================] - 0s 746us/step\n"
     ]
    }
   ],
   "source": [
    "y_pred_regress = regress_model.predict(x_test_regress)"
   ]
  },
  {
   "cell_type": "code",
   "execution_count": 214,
   "metadata": {},
   "outputs": [
    {
     "name": "stdout",
     "output_type": "stream",
     "text": [
      "La raiz del error cuadratico medio del test es: 76,997.36\n",
      "El error cuadratico medio del test es: 5,928,594,048.88\n",
      "El R2 score en datos del test es: 0.7110920315365297\n"
     ]
    }
   ],
   "source": [
    "regress_rmse = mean_squared_error(\n",
    "        y_true  = y_test_regress,\n",
    "        y_pred  = y_pred_regress,\n",
    "        squared = False\n",
    "       )\n",
    "\n",
    "print(f\"La raiz del error cuadratico medio del test es: {regress_rmse:,.2f}\")\n",
    "\n",
    "regress_mse = mean_squared_error(\n",
    "        y_true  = y_test_regress,\n",
    "        y_pred  = y_pred_regress,\n",
    "        squared = True\n",
    "       )\n",
    "\n",
    "print(f\"El error cuadratico medio del test es: {regress_mse:,.2f}\")\n",
    "\n",
    "\n",
    "r2 = r2_score(\n",
    "        y_true  = y_test_regress,\n",
    "        y_pred  = y_pred_regress,\n",
    "\n",
    ")\n",
    "\n",
    "print(\"El R2 score en datos del test es: \" + str((r2)))"
   ]
  },
  {
   "cell_type": "code",
   "execution_count": 215,
   "metadata": {},
   "outputs": [
    {
     "data": {
      "image/png": "[encoded data removed]",
      "text/plain": [
       "<Figure size 432x288 with 1 Axes>"
      ]
     },
     "metadata": {
      "needs_background": "light"
     },
     "output_type": "display_data"
    }
   ],
   "source": [
    "fig, ax = plt.subplots()\n",
    "sns.kdeplot(data=y_test_regress.squeeze(), ax=ax, color='red', fill=True, label='Real data')\n",
    "sns.kdeplot(data=y_pred_regress.squeeze(), ax=ax, color='green', fill=True, label='Predictions')\n",
    "ax.legend(bbox_to_anchor=(1.02, 1.02), loc='upper left')\n",
    "plt.title(\"Distribucion del precio de las propiedades\")\n",
    "plt.tight_layout()\n",
    "plt.show()"
   ]
  },
  {
   "attachments": {},
   "cell_type": "markdown",
   "metadata": {},
   "source": [
    "#### Conclusiones"
   ]
  },
  {
   "attachments": {},
   "cell_type": "markdown",
   "metadata": {},
   "source": [
    "Al final probando diferentes valores de epocas y batch size logramos que el modelo prediga el precio, aunque con unas metricas inferiores a las que se lograron en el TP1 con knn y xgboost.\n",
    "\n",
    "Luego probamos usar mas variables regresoras pero las metricas resultaban peores asi que decidimos hacer la regresion solamente con 6 variables: 'longitud', 'latitud', 'property_surface_total', \"property_type_PH\", \"property_type_Departamento\" y \"property_bedrooms\"."
   ]
  },
  {
   "cell_type": "markdown",
   "metadata": {},
   "source": [
    "## Clasificacion"
   ]
  },
  {
   "cell_type": "code",
   "execution_count": 10,
   "metadata": {},
   "outputs": [
    {
     "data": {
      "text/plain": [
       "Index(['id', 'latitud', 'longitud', 'property_rooms', 'property_bedrooms',\n",
       "       'property_surface_total', 'property_surface_covered', 'property_price',\n",
       "       'tipo_precio', 'property_type_Departamento', 'property_type_PH'],\n",
       "      dtype='object')"
      ]
     },
     "execution_count": 10,
     "metadata": {},
     "output_type": "execute_result"
    }
   ],
   "source": [
    "ds_train.columns"
   ]
  },
  {
   "cell_type": "code",
   "execution_count": 235,
   "metadata": {},
   "outputs": [],
   "source": [
    "features_classification = ['longitud', 'latitud', 'property_rooms', 'property_bedrooms',\n",
    "                           'property_surface_total', 'property_surface_covered',\n",
    "                           'property_type_Departamento', 'property_type_PH']\n",
    "target_classification = 'tipo_precio'\n",
    "\n",
    "x_train_class = ds_train.loc[:, features_classification]\n",
    "x_test_class = ds_test.loc[:, features_classification]\n",
    "y_train_class = ds_train.loc[:, target_classification]\n",
    "y_test_class = ds_test.loc[:, target_classification]"
   ]
  },
  {
   "cell_type": "code",
   "execution_count": 236,
   "metadata": {},
   "outputs": [
    {
     "data": {
      "text/plain": [
       "StandardScaler()"
      ]
     },
     "execution_count": 236,
     "metadata": {},
     "output_type": "execute_result"
    }
   ],
   "source": [
    "numeric_features = ['longitud', 'latitud', 'property_rooms', 'property_bedrooms',\n",
    "                    'property_surface_total', 'property_surface_covered']\n",
    "\n",
    "sscaler = StandardScaler()\n",
    "sscaler.fit(x_train_class.loc[:, numeric_features])"
   ]
  },
  {
   "cell_type": "code",
   "execution_count": 237,
   "metadata": {},
   "outputs": [],
   "source": [
    "x_train_class.loc[:, numeric_features] = sscaler.transform(x_train_class.loc[:, numeric_features])\n",
    "x_test_class.loc[:, numeric_features] = sscaler.transform(x_test_class.loc[:, numeric_features])"
   ]
  },
  {
   "cell_type": "markdown",
   "metadata": {},
   "source": [
    "#### Modelo de clasificacion"
   ]
  },
  {
   "cell_type": "code",
   "execution_count": 238,
   "metadata": {},
   "outputs": [],
   "source": [
    "in_class = len(features_classification)\n",
    "out_class = len(y_train_class.unique())"
   ]
  },
  {
   "cell_type": "code",
   "execution_count": 239,
   "metadata": {},
   "outputs": [],
   "source": [
    "def classification_model_builder(hp):\n",
    "    max_neurons = 50\n",
    "    model = keras.Sequential()\n",
    "    model.add(keras.Input(shape=(in_class,)))\n",
    "    \n",
    "    hp_units_1 = hp.Int('units_1', min_value=out_class, max_value=max_neurons, step=1)\n",
    "    hp_activation_1 = hp.Choice('activation_1', values=['relu', 'tanh', 'sigmoid', 'softmax'])\n",
    "    model.add(keras.layers.Dense(units=hp_units_1, activation=hp_activation_1, name=\"layer1\"))\n",
    "    \n",
    "    hp_units_2 = hp.Int('units_2', min_value=out_class, max_value=max_neurons, step=1)\n",
    "    hp_activation_2 = hp.Choice('activation_2', values=['relu', 'tanh', 'sigmoid', 'softmax'])\n",
    "    model.add(keras.layers.Dense(units=hp_units_2, activation=hp_activation_2, name=\"layer2\"))\n",
    "    \n",
    "    model.add(keras.layers.Dense(units=out_class, activation='softmax', name=\"output\"))\n",
    "    \n",
    "    hp_learning_rate = hp.Choice('learning_rate', values=[1e-1, 1e-2, 1e-3, 1e-4, 1e-5, 1e-6])\n",
    "    model.compile(\n",
    "        optimizer=keras.optimizers.SGD(learning_rate=hp_learning_rate),\n",
    "        loss='sparse_categorical_crossentropy',\n",
    "        metrics=['accuracy']\n",
    "    )\n",
    "    \n",
    "    return model"
   ]
  },
  {
   "attachments": {},
   "cell_type": "markdown",
   "metadata": {},
   "source": [
    "La funcion para construir el modelo practicamente igual que a la de regresión. Agrego la función de activación softmax ya que se usa mucho en problemas de clasificacion y modifico la funcion de perdida."
   ]
  },
  {
   "cell_type": "code",
   "execution_count": 20,
   "metadata": {},
   "outputs": [],
   "source": [
    "class_tuner = kt.RandomSearch(\n",
    "    classification_model_builder,\n",
    "    objective='val_accuracy',\n",
    "    max_trials=20\n",
    ")"
   ]
  },
  {
   "cell_type": "code",
   "execution_count": 22,
   "metadata": {
    "scrolled": true
   },
   "outputs": [
    {
     "name": "stdout",
     "output_type": "stream",
     "text": [
      "Trial 20 Complete [00h 00m 18s]\n",
      "val_accuracy: 0.5001837611198425\n",
      "\n",
      "Best val_accuracy So Far: 0.5922958254814148\n",
      "Total elapsed time: 00h 05m 27s\n",
      "INFO:tensorflow:Oracle triggered exit\n"
     ]
    }
   ],
   "source": [
    "class_history = class_tuner.search(x_train_class, y_train_class.to_numpy(), epochs=100, batch_size=700, validation_split=0.2)"
   ]
  },
  {
   "cell_type": "code",
   "execution_count": 23,
   "metadata": {},
   "outputs": [
    {
     "name": "stdout",
     "output_type": "stream",
     "text": [
      "Hiperparametros Optimos Encontrados\n",
      "  · Neuronas primera capa:  21\n",
      "  · Activavion primera capa:  tanh\n",
      "  · Neuronas segunda capa:  30\n",
      "  · Activavion segunda capa:  softmax\n",
      "  · Learning rate:  0.1\n"
     ]
    }
   ],
   "source": [
    "best_class_hps = class_tuner.get_best_hyperparameters()[0]\n",
    "print(\"Hiperparametros Optimos Encontrados\")\n",
    "print(\"  · Neuronas primera capa: \", best_class_hps.get('units_1'))\n",
    "print(\"  · Activavion primera capa: \", best_class_hps.get('activation_1'))\n",
    "print(\"  · Neuronas segunda capa: \", best_class_hps.get('units_2'))\n",
    "print(\"  · Activavion segunda capa: \", best_class_hps.get('activation_2'))\n",
    "print(\"  · Learning rate: \", best_class_hps.get('learning_rate'))"
   ]
  },
  {
   "attachments": {},
   "cell_type": "markdown",
   "metadata": {},
   "source": [
    "Una vez que obtenemos lo hiperparametros optimos, creamos una red con esos parametros."
   ]
  },
  {
   "cell_type": "code",
   "execution_count": 240,
   "metadata": {},
   "outputs": [],
   "source": [
    "class_model = keras.Sequential(\n",
    "    [\n",
    "        keras.Input(shape=(in_class,)),\n",
    "        keras.layers.Dense(units=21, activation='tanh', name=\"layer1\"),\n",
    "        keras.layers.Dense(units=30, activation='softmax', name=\"layer2\"),\n",
    "        keras.layers.Dense(units=out_class, activation='softmax', name=\"output\")\n",
    "    ]\n",
    ")"
   ]
  },
  {
   "cell_type": "code",
   "execution_count": 241,
   "metadata": {},
   "outputs": [
    {
     "name": "stdout",
     "output_type": "stream",
     "text": [
      "Model: \"sequential_3\"\n",
      "_________________________________________________________________\n",
      " Layer (type)                Output Shape              Param #   \n",
      "=================================================================\n",
      " layer1 (Dense)              (None, 21)                189       \n",
      "                                                                 \n",
      " layer2 (Dense)              (None, 30)                660       \n",
      "                                                                 \n",
      " output (Dense)              (None, 3)                 93        \n",
      "                                                                 \n",
      "=================================================================\n",
      "Total params: 942\n",
      "Trainable params: 942\n",
      "Non-trainable params: 0\n",
      "_________________________________________________________________\n"
     ]
    }
   ],
   "source": [
    "class_model.summary()"
   ]
  },
  {
   "cell_type": "code",
   "execution_count": 243,
   "metadata": {},
   "outputs": [],
   "source": [
    "class_model.compile(\n",
    "    optimizer=keras.optimizers.SGD(learning_rate=0.1),\n",
    "    loss='sparse_categorical_crossentropy',\n",
    "    metrics=['accuracy']\n",
    ")"
   ]
  },
  {
   "cell_type": "code",
   "execution_count": 244,
   "metadata": {
    "scrolled": true
   },
   "outputs": [
    {
     "name": "stdout",
     "output_type": "stream",
     "text": [
      "Epoch 1/100\n",
      "78/78 [==============================] - 2s 11ms/step - loss: 1.0495 - accuracy: 0.4951 - val_loss: 1.0382 - val_accuracy: 0.5003\n",
      "Epoch 2/100\n",
      "78/78 [==============================] - 0s 6ms/step - loss: 1.0376 - accuracy: 0.4997 - val_loss: 1.0366 - val_accuracy: 0.5003\n",
      "Epoch 3/100\n",
      "78/78 [==============================] - 0s 6ms/step - loss: 1.0360 - accuracy: 0.4997 - val_loss: 1.0350 - val_accuracy: 0.5003\n",
      "Epoch 4/100\n",
      "78/78 [==============================] - 0s 6ms/step - loss: 1.0344 - accuracy: 0.4997 - val_loss: 1.0334 - val_accuracy: 0.5003\n",
      "Epoch 5/100\n",
      "78/78 [==============================] - 0s 6ms/step - loss: 1.0326 - accuracy: 0.4997 - val_loss: 1.0316 - val_accuracy: 0.5003\n",
      "Epoch 6/100\n",
      "78/78 [==============================] - 0s 6ms/step - loss: 1.0306 - accuracy: 0.4997 - val_loss: 1.0295 - val_accuracy: 0.5003\n",
      "Epoch 7/100\n",
      "78/78 [==============================] - 0s 6ms/step - loss: 1.0282 - accuracy: 0.4997 - val_loss: 1.0271 - val_accuracy: 0.5003\n",
      "Epoch 8/100\n",
      "78/78 [==============================] - 0s 6ms/step - loss: 1.0255 - accuracy: 0.4997 - val_loss: 1.0242 - val_accuracy: 0.5003\n",
      "Epoch 9/100\n",
      "78/78 [==============================] - 0s 6ms/step - loss: 1.0221 - accuracy: 0.4997 - val_loss: 1.0206 - val_accuracy: 0.5003\n",
      "Epoch 10/100\n",
      "78/78 [==============================] - 0s 6ms/step - loss: 1.0179 - accuracy: 0.4997 - val_loss: 1.0160 - val_accuracy: 0.5003\n",
      "Epoch 11/100\n",
      "78/78 [==============================] - 0s 6ms/step - loss: 1.0124 - accuracy: 0.4997 - val_loss: 1.0099 - val_accuracy: 0.5003\n",
      "Epoch 12/100\n",
      "78/78 [==============================] - 0s 6ms/step - loss: 1.0049 - accuracy: 0.4997 - val_loss: 1.0015 - val_accuracy: 0.5003\n",
      "Epoch 13/100\n",
      "78/78 [==============================] - 0s 6ms/step - loss: 0.9947 - accuracy: 0.5001 - val_loss: 0.9903 - val_accuracy: 0.5015\n",
      "Epoch 14/100\n",
      "78/78 [==============================] - 0s 6ms/step - loss: 0.9815 - accuracy: 0.5038 - val_loss: 0.9766 - val_accuracy: 0.5101\n",
      "Epoch 15/100\n",
      "78/78 [==============================] - 0s 6ms/step - loss: 0.9668 - accuracy: 0.5178 - val_loss: 0.9628 - val_accuracy: 0.5194\n",
      "Epoch 16/100\n",
      "78/78 [==============================] - 0s 6ms/step - loss: 0.9534 - accuracy: 0.5257 - val_loss: 0.9513 - val_accuracy: 0.5230\n",
      "Epoch 17/100\n",
      "78/78 [==============================] - 0s 6ms/step - loss: 0.9429 - accuracy: 0.5295 - val_loss: 0.9427 - val_accuracy: 0.5248\n",
      "Epoch 18/100\n",
      "78/78 [==============================] - 0s 6ms/step - loss: 0.9349 - accuracy: 0.5318 - val_loss: 0.9361 - val_accuracy: 0.5237\n",
      "Epoch 19/100\n",
      "78/78 [==============================] - 0s 6ms/step - loss: 0.9287 - accuracy: 0.5330 - val_loss: 0.9307 - val_accuracy: 0.5263\n",
      "Epoch 20/100\n",
      "78/78 [==============================] - 0s 6ms/step - loss: 0.9237 - accuracy: 0.5347 - val_loss: 0.9265 - val_accuracy: 0.5279\n",
      "Epoch 21/100\n",
      "78/78 [==============================] - 0s 6ms/step - loss: 0.9196 - accuracy: 0.5369 - val_loss: 0.9230 - val_accuracy: 0.5319\n",
      "Epoch 22/100\n",
      "78/78 [==============================] - 0s 6ms/step - loss: 0.9163 - accuracy: 0.5393 - val_loss: 0.9204 - val_accuracy: 0.5345\n",
      "Epoch 23/100\n",
      "78/78 [==============================] - 0s 6ms/step - loss: 0.9136 - accuracy: 0.5427 - val_loss: 0.9181 - val_accuracy: 0.5354\n",
      "Epoch 24/100\n",
      "78/78 [==============================] - 0s 6ms/step - loss: 0.9114 - accuracy: 0.5441 - val_loss: 0.9162 - val_accuracy: 0.5375\n",
      "Epoch 25/100\n",
      "78/78 [==============================] - 0s 6ms/step - loss: 0.9095 - accuracy: 0.5445 - val_loss: 0.9146 - val_accuracy: 0.5416\n",
      "Epoch 26/100\n",
      "78/78 [==============================] - 0s 6ms/step - loss: 0.9079 - accuracy: 0.5460 - val_loss: 0.9134 - val_accuracy: 0.5422\n",
      "Epoch 27/100\n",
      "78/78 [==============================] - 0s 6ms/step - loss: 0.9065 - accuracy: 0.5472 - val_loss: 0.9122 - val_accuracy: 0.5428\n",
      "Epoch 28/100\n",
      "78/78 [==============================] - 0s 6ms/step - loss: 0.9053 - accuracy: 0.5473 - val_loss: 0.9112 - val_accuracy: 0.5436\n",
      "Epoch 29/100\n",
      "78/78 [==============================] - 0s 6ms/step - loss: 0.9042 - accuracy: 0.5485 - val_loss: 0.9104 - val_accuracy: 0.5436\n",
      "Epoch 30/100\n",
      "78/78 [==============================] - 0s 6ms/step - loss: 0.9032 - accuracy: 0.5484 - val_loss: 0.9096 - val_accuracy: 0.5440\n",
      "Epoch 31/100\n",
      "78/78 [==============================] - 0s 6ms/step - loss: 0.9024 - accuracy: 0.5489 - val_loss: 0.9087 - val_accuracy: 0.5459\n",
      "Epoch 32/100\n",
      "78/78 [==============================] - 0s 6ms/step - loss: 0.9015 - accuracy: 0.5490 - val_loss: 0.9081 - val_accuracy: 0.5445\n",
      "Epoch 33/100\n",
      "78/78 [==============================] - 0s 6ms/step - loss: 0.9007 - accuracy: 0.5490 - val_loss: 0.9073 - val_accuracy: 0.5486\n",
      "Epoch 34/100\n",
      "78/78 [==============================] - 1s 7ms/step - loss: 0.9001 - accuracy: 0.5494 - val_loss: 0.9067 - val_accuracy: 0.5468\n",
      "Epoch 35/100\n",
      "78/78 [==============================] - 0s 6ms/step - loss: 0.8994 - accuracy: 0.5497 - val_loss: 0.9060 - val_accuracy: 0.5477\n",
      "Epoch 36/100\n",
      "78/78 [==============================] - 0s 6ms/step - loss: 0.8988 - accuracy: 0.5503 - val_loss: 0.9055 - val_accuracy: 0.5487\n",
      "Epoch 37/100\n",
      "78/78 [==============================] - 0s 6ms/step - loss: 0.8982 - accuracy: 0.5508 - val_loss: 0.9050 - val_accuracy: 0.5485\n",
      "Epoch 38/100\n",
      "78/78 [==============================] - 0s 5ms/step - loss: 0.8977 - accuracy: 0.5506 - val_loss: 0.9043 - val_accuracy: 0.5500\n",
      "Epoch 39/100\n",
      "78/78 [==============================] - 0s 5ms/step - loss: 0.8971 - accuracy: 0.5508 - val_loss: 0.9040 - val_accuracy: 0.5489\n",
      "Epoch 40/100\n",
      "78/78 [==============================] - 0s 6ms/step - loss: 0.8965 - accuracy: 0.5514 - val_loss: 0.9036 - val_accuracy: 0.5474\n",
      "Epoch 41/100\n",
      "78/78 [==============================] - 0s 5ms/step - loss: 0.8960 - accuracy: 0.5524 - val_loss: 0.9027 - val_accuracy: 0.5505\n",
      "Epoch 42/100\n",
      "78/78 [==============================] - 0s 6ms/step - loss: 0.8956 - accuracy: 0.5527 - val_loss: 0.9024 - val_accuracy: 0.5488\n",
      "Epoch 43/100\n",
      "78/78 [==============================] - 0s 5ms/step - loss: 0.8951 - accuracy: 0.5522 - val_loss: 0.9017 - val_accuracy: 0.5516\n",
      "Epoch 44/100\n",
      "78/78 [==============================] - 0s 5ms/step - loss: 0.8946 - accuracy: 0.5538 - val_loss: 0.9013 - val_accuracy: 0.5521\n",
      "Epoch 45/100\n",
      "78/78 [==============================] - 0s 5ms/step - loss: 0.8941 - accuracy: 0.5527 - val_loss: 0.9009 - val_accuracy: 0.5508\n",
      "Epoch 46/100\n",
      "78/78 [==============================] - 0s 6ms/step - loss: 0.8936 - accuracy: 0.5543 - val_loss: 0.9003 - val_accuracy: 0.5516\n",
      "Epoch 47/100\n",
      "78/78 [==============================] - 0s 5ms/step - loss: 0.8931 - accuracy: 0.5535 - val_loss: 0.8996 - val_accuracy: 0.5531\n",
      "Epoch 48/100\n",
      "78/78 [==============================] - 0s 5ms/step - loss: 0.8927 - accuracy: 0.5547 - val_loss: 0.8993 - val_accuracy: 0.5523\n",
      "Epoch 49/100\n",
      "78/78 [==============================] - 0s 5ms/step - loss: 0.8922 - accuracy: 0.5540 - val_loss: 0.8986 - val_accuracy: 0.5536\n",
      "Epoch 50/100\n",
      "78/78 [==============================] - 0s 5ms/step - loss: 0.8918 - accuracy: 0.5548 - val_loss: 0.8981 - val_accuracy: 0.5519\n",
      "Epoch 51/100\n",
      "78/78 [==============================] - 0s 6ms/step - loss: 0.8913 - accuracy: 0.5544 - val_loss: 0.8976 - val_accuracy: 0.5541\n",
      "Epoch 52/100\n",
      "78/78 [==============================] - 0s 6ms/step - loss: 0.8908 - accuracy: 0.5558 - val_loss: 0.8971 - val_accuracy: 0.5541\n",
      "Epoch 53/100\n",
      "78/78 [==============================] - 0s 6ms/step - loss: 0.8904 - accuracy: 0.5552 - val_loss: 0.8965 - val_accuracy: 0.5554\n",
      "Epoch 54/100\n",
      "78/78 [==============================] - 0s 5ms/step - loss: 0.8899 - accuracy: 0.5555 - val_loss: 0.8960 - val_accuracy: 0.5552\n",
      "Epoch 55/100\n",
      "78/78 [==============================] - 0s 6ms/step - loss: 0.8894 - accuracy: 0.5561 - val_loss: 0.8957 - val_accuracy: 0.5536\n",
      "Epoch 56/100\n",
      "78/78 [==============================] - 0s 5ms/step - loss: 0.8889 - accuracy: 0.5570 - val_loss: 0.8951 - val_accuracy: 0.5533\n",
      "Epoch 57/100\n",
      "78/78 [==============================] - 0s 6ms/step - loss: 0.8884 - accuracy: 0.5572 - val_loss: 0.8946 - val_accuracy: 0.5558\n",
      "Epoch 58/100\n",
      "78/78 [==============================] - 0s 5ms/step - loss: 0.8879 - accuracy: 0.5565 - val_loss: 0.8939 - val_accuracy: 0.5558\n",
      "Epoch 59/100\n",
      "78/78 [==============================] - 0s 5ms/step - loss: 0.8873 - accuracy: 0.5567 - val_loss: 0.8933 - val_accuracy: 0.5570\n",
      "Epoch 60/100\n",
      "78/78 [==============================] - 0s 5ms/step - loss: 0.8869 - accuracy: 0.5572 - val_loss: 0.8927 - val_accuracy: 0.5547\n",
      "Epoch 61/100\n",
      "78/78 [==============================] - 0s 5ms/step - loss: 0.8863 - accuracy: 0.5572 - val_loss: 0.8921 - val_accuracy: 0.5547\n",
      "Epoch 62/100\n",
      "78/78 [==============================] - 0s 5ms/step - loss: 0.8857 - accuracy: 0.5581 - val_loss: 0.8915 - val_accuracy: 0.5542\n",
      "Epoch 63/100\n",
      "78/78 [==============================] - 0s 6ms/step - loss: 0.8851 - accuracy: 0.5591 - val_loss: 0.8908 - val_accuracy: 0.5551\n",
      "Epoch 64/100\n",
      "78/78 [==============================] - 0s 5ms/step - loss: 0.8846 - accuracy: 0.5582 - val_loss: 0.8899 - val_accuracy: 0.5578\n",
      "Epoch 65/100\n",
      "78/78 [==============================] - 0s 5ms/step - loss: 0.8839 - accuracy: 0.5594 - val_loss: 0.8893 - val_accuracy: 0.5560\n",
      "Epoch 66/100\n",
      "78/78 [==============================] - 0s 5ms/step - loss: 0.8832 - accuracy: 0.5600 - val_loss: 0.8886 - val_accuracy: 0.5564\n",
      "Epoch 67/100\n",
      "78/78 [==============================] - 0s 5ms/step - loss: 0.8824 - accuracy: 0.5604 - val_loss: 0.8878 - val_accuracy: 0.5571\n",
      "Epoch 68/100\n",
      "78/78 [==============================] - 0s 5ms/step - loss: 0.8817 - accuracy: 0.5604 - val_loss: 0.8870 - val_accuracy: 0.5582\n",
      "Epoch 69/100\n",
      "78/78 [==============================] - 0s 5ms/step - loss: 0.8810 - accuracy: 0.5608 - val_loss: 0.8862 - val_accuracy: 0.5557\n",
      "Epoch 70/100\n",
      "78/78 [==============================] - 0s 5ms/step - loss: 0.8802 - accuracy: 0.5607 - val_loss: 0.8854 - val_accuracy: 0.5575\n",
      "Epoch 71/100\n",
      "78/78 [==============================] - 0s 5ms/step - loss: 0.8794 - accuracy: 0.5623 - val_loss: 0.8846 - val_accuracy: 0.5578\n",
      "Epoch 72/100\n",
      "78/78 [==============================] - 0s 6ms/step - loss: 0.8786 - accuracy: 0.5624 - val_loss: 0.8836 - val_accuracy: 0.5589\n",
      "Epoch 73/100\n",
      "78/78 [==============================] - 0s 5ms/step - loss: 0.8778 - accuracy: 0.5625 - val_loss: 0.8828 - val_accuracy: 0.5602\n",
      "Epoch 74/100\n",
      "78/78 [==============================] - 0s 5ms/step - loss: 0.8770 - accuracy: 0.5634 - val_loss: 0.8817 - val_accuracy: 0.5599\n",
      "Epoch 75/100\n",
      "78/78 [==============================] - 0s 5ms/step - loss: 0.8761 - accuracy: 0.5640 - val_loss: 0.8810 - val_accuracy: 0.5605\n",
      "Epoch 76/100\n",
      "78/78 [==============================] - 0s 6ms/step - loss: 0.8753 - accuracy: 0.5649 - val_loss: 0.8800 - val_accuracy: 0.5631\n",
      "Epoch 77/100\n",
      "78/78 [==============================] - 0s 5ms/step - loss: 0.8745 - accuracy: 0.5662 - val_loss: 0.8791 - val_accuracy: 0.5620\n",
      "Epoch 78/100\n",
      "78/78 [==============================] - 0s 5ms/step - loss: 0.8736 - accuracy: 0.5666 - val_loss: 0.8786 - val_accuracy: 0.5644\n",
      "Epoch 79/100\n",
      "78/78 [==============================] - 0s 5ms/step - loss: 0.8729 - accuracy: 0.5676 - val_loss: 0.8774 - val_accuracy: 0.5638\n",
      "Epoch 80/100\n",
      "78/78 [==============================] - 0s 6ms/step - loss: 0.8720 - accuracy: 0.5685 - val_loss: 0.8769 - val_accuracy: 0.5650\n",
      "Epoch 81/100\n",
      "78/78 [==============================] - 0s 6ms/step - loss: 0.8713 - accuracy: 0.5693 - val_loss: 0.8757 - val_accuracy: 0.5662\n",
      "Epoch 82/100\n",
      "78/78 [==============================] - 0s 5ms/step - loss: 0.8704 - accuracy: 0.5697 - val_loss: 0.8751 - val_accuracy: 0.5679\n",
      "Epoch 83/100\n",
      "78/78 [==============================] - 0s 5ms/step - loss: 0.8696 - accuracy: 0.5712 - val_loss: 0.8742 - val_accuracy: 0.5670\n",
      "Epoch 84/100\n",
      "78/78 [==============================] - 0s 6ms/step - loss: 0.8688 - accuracy: 0.5728 - val_loss: 0.8733 - val_accuracy: 0.5699\n",
      "Epoch 85/100\n",
      "78/78 [==============================] - 0s 6ms/step - loss: 0.8679 - accuracy: 0.5740 - val_loss: 0.8727 - val_accuracy: 0.5678\n",
      "Epoch 86/100\n",
      "78/78 [==============================] - 0s 6ms/step - loss: 0.8671 - accuracy: 0.5743 - val_loss: 0.8717 - val_accuracy: 0.5712\n",
      "Epoch 87/100\n",
      "78/78 [==============================] - 0s 6ms/step - loss: 0.8663 - accuracy: 0.5759 - val_loss: 0.8708 - val_accuracy: 0.5737\n",
      "Epoch 88/100\n",
      "78/78 [==============================] - 0s 5ms/step - loss: 0.8654 - accuracy: 0.5771 - val_loss: 0.8701 - val_accuracy: 0.5741\n",
      "Epoch 89/100\n",
      "78/78 [==============================] - 0s 5ms/step - loss: 0.8646 - accuracy: 0.5785 - val_loss: 0.8694 - val_accuracy: 0.5738\n",
      "Epoch 90/100\n",
      "78/78 [==============================] - 0s 5ms/step - loss: 0.8637 - accuracy: 0.5785 - val_loss: 0.8691 - val_accuracy: 0.5755\n",
      "Epoch 91/100\n",
      "78/78 [==============================] - 0s 6ms/step - loss: 0.8630 - accuracy: 0.5795 - val_loss: 0.8677 - val_accuracy: 0.5769\n",
      "Epoch 92/100\n",
      "78/78 [==============================] - 0s 6ms/step - loss: 0.8621 - accuracy: 0.5818 - val_loss: 0.8667 - val_accuracy: 0.5796\n",
      "Epoch 93/100\n",
      "78/78 [==============================] - 0s 6ms/step - loss: 0.8613 - accuracy: 0.5820 - val_loss: 0.8656 - val_accuracy: 0.5803\n",
      "Epoch 94/100\n",
      "78/78 [==============================] - 0s 6ms/step - loss: 0.8605 - accuracy: 0.5824 - val_loss: 0.8650 - val_accuracy: 0.5803\n",
      "Epoch 95/100\n",
      "78/78 [==============================] - 0s 6ms/step - loss: 0.8596 - accuracy: 0.5836 - val_loss: 0.8640 - val_accuracy: 0.5806\n",
      "Epoch 96/100\n",
      "78/78 [==============================] - 0s 6ms/step - loss: 0.8587 - accuracy: 0.5843 - val_loss: 0.8637 - val_accuracy: 0.5822\n",
      "Epoch 97/100\n",
      "78/78 [==============================] - 0s 6ms/step - loss: 0.8579 - accuracy: 0.5847 - val_loss: 0.8627 - val_accuracy: 0.5831\n",
      "Epoch 98/100\n",
      "78/78 [==============================] - 0s 6ms/step - loss: 0.8572 - accuracy: 0.5859 - val_loss: 0.8615 - val_accuracy: 0.5859\n",
      "Epoch 99/100\n",
      "78/78 [==============================] - 0s 6ms/step - loss: 0.8563 - accuracy: 0.5870 - val_loss: 0.8608 - val_accuracy: 0.5870\n",
      "Epoch 100/100\n",
      "78/78 [==============================] - 0s 6ms/step - loss: 0.8554 - accuracy: 0.5884 - val_loss: 0.8606 - val_accuracy: 0.5835\n"
     ]
    },
    {
     "data": {
      "text/plain": [
       "<keras.callbacks.History at 0x22e794592b0>"
      ]
     },
     "execution_count": 244,
     "metadata": {},
     "output_type": "execute_result"
    }
   ],
   "source": [
    "class_model.fit(x_train_class, y_train_class.to_numpy(), epochs=100, batch_size=700, validation_split=0.2)"
   ]
  },
  {
   "cell_type": "code",
   "execution_count": 19,
   "metadata": {},
   "outputs": [
    {
     "name": "stdout",
     "output_type": "stream",
     "text": [
      "532/532 [==============================] - 0s 722us/step\n"
     ]
    }
   ],
   "source": [
    "y_pred_class = class_model.predict(x_test_class)"
   ]
  },
  {
   "cell_type": "code",
   "execution_count": 20,
   "metadata": {},
   "outputs": [],
   "source": [
    "y_pred_class = np.argmax(y_pred_class ,axis = 1)"
   ]
  },
  {
   "cell_type": "code",
   "execution_count": 22,
   "metadata": {},
   "outputs": [
    {
     "name": "stdout",
     "output_type": "stream",
     "text": [
      "  Accuracy : 0.594\n",
      "  Precision: 0.607\n",
      "     Recall: 0.539\n",
      "  f-measure: 0.557\n"
     ]
    }
   ],
   "source": [
    "print(\"  Accuracy : %.3f\" % accuracy_score(y_test_class, y_pred_class))\n",
    "print(\"  Precision: %.3f\" % precision_score(y_test_class, y_pred_class, average='macro'))\n",
    "print(\"     Recall: %.3f\" % recall_score(y_test_class, y_pred_class, average='macro'))\n",
    "print(\"  f-measure: %.3f\" % f1_score(y_test_class, y_pred_class, average='macro'))"
   ]
  },
  {
   "cell_type": "code",
   "execution_count": 29,
   "metadata": {},
   "outputs": [
    {
     "data": {
      "text/plain": [
       "<Figure size 2000x1000 with 0 Axes>"
      ]
     },
     "metadata": {},
     "output_type": "display_data"
    },
    {
     "data": {
      "image/png": "[encoded data removed]",
      "text/plain": [
       "<Figure size 1000x1000 with 2 Axes>"
      ]
     },
     "metadata": {},
     "output_type": "display_data"
    }
   ],
   "source": [
    "class_labels = [\"bajo\", \"medio\", \"alto\"]\n",
    "\n",
    "plt.figure(figsize=(20,10))\n",
    "cm = confusion_matrix(y_test_class, y_pred_class)\n",
    "disp = ConfusionMatrixDisplay(confusion_matrix=cm, display_labels=class_labels)\n",
    "fig, ax = plt.subplots(figsize=(10,10))\n",
    "#ax.title.set_text(legend)\n",
    "disp.plot(ax=ax)\n",
    "plt.show()"
   ]
  },
  {
   "attachments": {},
   "cell_type": "markdown",
   "metadata": {},
   "source": [
    "#### Conclusiones Clasificacion\n",
    "\n",
    "A diferencia de el modelo de regresion, no fue dificil hacer que el modelo prediga las clases.\n",
    "Sin embargo, incluso optimizando hiperparametros, la metricas obtenidas no son buenas. Los resultados obtenidos en el TP1 usando knn y arboles de decision fueron mas satisfactorios, y los modelos, mas simples."
   ]
  },
  {
   "cell_type": "markdown",
   "metadata": {},
   "source": [
    "## Conclusiones Redes Neuronales"
   ]
  },
  {
   "cell_type": "markdown",
   "metadata": {},
   "source": [
    "El uso de redes neuronales trajo implicó una complejidad mayor comparada con la de los modelos del TP1, y a pesar de eso los resultados obtenidos fueron peores.\n",
    "Esto en parte puede que se deba a un error de nuestra parte, pero no logramos encontrar una solucion."
   ]
  },
  {
   "attachments": {},
   "cell_type": "markdown",
   "metadata": {},
   "source": [
    "Principales referencias:\n",
    "* https://keras.io/api/\n",
    "* https://keras.io/keras_tuner/\n",
    "* https://www.tensorflow.org/tutorials/keras/keras_tuner"
   ]
  }
 ],
 "metadata": {
  "kernelspec": {
   "display_name": "Python 3",
   "language": "python",
   "name": "python3"
  },
  "language_info": {
   "codemirror_mode": {
    "name": "ipython",
    "version": 3
   },
   "file_extension": ".py",
   "mimetype": "text/x-python",
   "name": "python",
   "nbconvert_exporter": "python",
   "pygments_lexer": "ipython3",
   "version": "3.10.8 (tags/v3.10.8:aaaf517, Oct 11 2022, 16:50:30) [MSC v.1933 64 bit (AMD64)]"
  },
  "vscode": {
   "interpreter": {
    "hash": "bded0a91a6bc524f7b4e8375cb305a9c472b5738066b47c7f65137a84e59bd8a"
   }
  }
 },
 "nbformat": 4,
 "nbformat_minor": 2
}
