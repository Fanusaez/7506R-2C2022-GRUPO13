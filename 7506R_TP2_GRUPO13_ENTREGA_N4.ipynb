{
 "cells": [
  {
   "attachments": {},
   "cell_type": "markdown",
   "metadata": {},
   "source": [
    "# Conclusiones"
   ]
  },
  {
   "attachments": {},
   "cell_type": "markdown",
   "metadata": {},
   "source": [
    "Para la ampliacion del dataset original no vimos necesario la utilizacion de modelos de extraccion de informacion, simplemente utilizamos Regex para la obtencion de palabras claves que podrian aportar informacion importante al dataset y a los modelos desarrolados.\n",
    "Esto dio resultados positivos cuando al utilizar el dataset ampliado obtuvimos mejores metricas que utilizando el dataset original en XGboost.\n",
    "\n",
    "Para el aspecto de redes neuronales, fue bastante complejo el armado de las mismas y las metricas obtenidas no fueron las esperadas. Con mas simplicidad las metricas obtenidas en el TP1 fueron superiores en ambas regresion y clasificacion\n",
    "\n",
    "En los modelos de voting (clasificacion) y stacking (regresion) es donde obtuvimos los mejores resultados, superiores a las obtenidas en el TP1 y tambien en las del TP2.\n",
    "\n"
   ]
  }
 ],
 "metadata": {
  "kernelspec": {
   "display_name": "Python 3.9.7 ('base')",
   "language": "python",
   "name": "python3"
  },
  "language_info": {
   "name": "python",
   "version": "3.9.7"
  },
  "orig_nbformat": 4,
  "vscode": {
   "interpreter": {
    "hash": "58a64575c8cfdef51510e9edeb704e817dc2041b90101eeff0eafbccde98456f"
   }
  }
 },
 "nbformat": 4,
 "nbformat_minor": 2
}
