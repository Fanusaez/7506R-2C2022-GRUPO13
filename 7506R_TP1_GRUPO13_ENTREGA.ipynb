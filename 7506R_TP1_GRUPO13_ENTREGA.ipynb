{
  "cells": [
    {
      "cell_type": "markdown",
      "metadata": {
        "colab_type": "text",
        "id": "view-in-github"
      },
      "source": [
        "<a href=\"https://colab.research.google.com/github/Fanusaez/7506R-2C2022-GRUPO13/blob/sabado-1-10-2022/7506R_TP1_GRUPO13_ENTREGA.ipynb\" target=\"_parent\"><img src=\"https://colab.research.google.com/assets/colab-badge.svg\" alt=\"Open In Colab\"/></a>"
      ]
    },
    {
      "cell_type": "markdown",
      "metadata": {
        "id": "nJ_n4ngThDGU"
      },
      "source": [
        "# Trabajo Practico 1 : Propiedades en Venta\n",
        "## Grupo 13\n",
        "### Integrantes:\n",
        "- Ivan Manuel Pensado\n",
        "- Axel Tomas Higa\n",
        "- Edgardo Francisco Saez \n",
        "- Lautaro Barrionuevo\n",
        "- Nicolás Carreño"
      ]
    },
    {
      "cell_type": "markdown",
      "metadata": {
        "id": "hDb_EqqsmUQY"
      },
      "source": [
        "# Importe de librerias"
      ]
    },
    {
      "cell_type": "code",
      "execution_count": 64,
      "metadata": {
        "id": "8NDsT1MBmcDe"
      },
      "outputs": [],
      "source": [
        "import pandas as pd\n",
        "import numpy as np\n",
        "import matplotlib as plt\n",
        "import seaborn as sns\n",
        "\n",
        "from sklearn.experimental import enable_iterative_imputer\n",
        "from sklearn.impute import IterativeImputer\n",
        "from sklearn.linear_model import LinearRegression\n",
        "from sklearn.model_selection import train_test_split\n",
        "from sklearn import tree\n",
        "from sklearn.metrics import accuracy_score\n",
        "\n",
        "import scipy.stats as st\n",
        "\n",
        "from sklearn.neighbors import LocalOutlierFactor\n",
        "\n",
        "import matplotlib.pyplot as plt\n"
      ]
    },
    {
      "cell_type": "markdown",
      "metadata": {
        "id": "CHe-JuubHhFS"
      },
      "source": [
        "# Lectura de archivo"
      ]
    },
    {
      "cell_type": "code",
      "execution_count": 65,
      "metadata": {
        "colab": {
          "base_uri": "https://localhost:8080/"
        },
        "id": "Ie4lG6QEHhFT",
        "outputId": "84495801-45cb-4166-bafb-abb6ed32b15e"
      },
      "outputs": [],
      "source": [
        "ds_propiedades = pd.read_csv('properati_argentina_2021.csv')"
      ]
    },
    {
      "cell_type": "code",
      "execution_count": 66,
      "metadata": {
        "colab": {
          "base_uri": "https://localhost:8080/",
          "height": 357
        },
        "id": "tAjepP03HhFV",
        "outputId": "3fca6ced-0b6b-455a-d5d5-cfba3c77e2a6"
      },
      "outputs": [
        {
          "data": {
            "text/html": [
              "<div>\n",
              "<style scoped>\n",
              "    .dataframe tbody tr th:only-of-type {\n",
              "        vertical-align: middle;\n",
              "    }\n",
              "\n",
              "    .dataframe tbody tr th {\n",
              "        vertical-align: top;\n",
              "    }\n",
              "\n",
              "    .dataframe thead th {\n",
              "        text-align: right;\n",
              "    }\n",
              "</style>\n",
              "<table border=\"1\" class=\"dataframe\">\n",
              "  <thead>\n",
              "    <tr style=\"text-align: right;\">\n",
              "      <th></th>\n",
              "      <th>id</th>\n",
              "      <th>start_date</th>\n",
              "      <th>end_date</th>\n",
              "      <th>created_on</th>\n",
              "      <th>latitud</th>\n",
              "      <th>longitud</th>\n",
              "      <th>place_l2</th>\n",
              "      <th>place_l3</th>\n",
              "      <th>place_l4</th>\n",
              "      <th>place_l5</th>\n",
              "      <th>place_l6</th>\n",
              "      <th>operation</th>\n",
              "      <th>property_type</th>\n",
              "      <th>property_rooms</th>\n",
              "      <th>property_bedrooms</th>\n",
              "      <th>property_surface_total</th>\n",
              "      <th>property_surface_covered</th>\n",
              "      <th>property_price</th>\n",
              "      <th>property_currency</th>\n",
              "      <th>property_title</th>\n",
              "    </tr>\n",
              "  </thead>\n",
              "  <tbody>\n",
              "    <tr>\n",
              "      <th>0</th>\n",
              "      <td>XZq2dFGxBiboHY3Bo/tqlw==</td>\n",
              "      <td>2021-09-09</td>\n",
              "      <td>2022-01-27</td>\n",
              "      <td>2021-09-09</td>\n",
              "      <td>-38.957632</td>\n",
              "      <td>-68.105443</td>\n",
              "      <td>Neuquén</td>\n",
              "      <td>NaN</td>\n",
              "      <td>NaN</td>\n",
              "      <td>NaN</td>\n",
              "      <td>NaN</td>\n",
              "      <td>Venta</td>\n",
              "      <td>Casa</td>\n",
              "      <td>6.0</td>\n",
              "      <td>NaN</td>\n",
              "      <td>NaN</td>\n",
              "      <td>206.0</td>\n",
              "      <td>NaN</td>\n",
              "      <td>NaN</td>\n",
              "      <td>Casa - Capital</td>\n",
              "    </tr>\n",
              "    <tr>\n",
              "      <th>1</th>\n",
              "      <td>8afoK+yMH/rnnlYiktwgNA==</td>\n",
              "      <td>2021-09-09</td>\n",
              "      <td>2021-10-23</td>\n",
              "      <td>2021-09-09</td>\n",
              "      <td>-34.888878</td>\n",
              "      <td>-56.092368</td>\n",
              "      <td>Montevideo</td>\n",
              "      <td>NaN</td>\n",
              "      <td>NaN</td>\n",
              "      <td>NaN</td>\n",
              "      <td>NaN</td>\n",
              "      <td>Venta</td>\n",
              "      <td>Casa</td>\n",
              "      <td>4.0</td>\n",
              "      <td>3.0</td>\n",
              "      <td>193.0</td>\n",
              "      <td>193.0</td>\n",
              "      <td>390000.0</td>\n",
              "      <td>USD</td>\n",
              "      <td>Casa - Malvín</td>\n",
              "    </tr>\n",
              "    <tr>\n",
              "      <th>2</th>\n",
              "      <td>iVaG5rBB47dd1Ya4BMXREA==</td>\n",
              "      <td>2021-09-09</td>\n",
              "      <td>2022-03-09</td>\n",
              "      <td>2021-09-09</td>\n",
              "      <td>-32.488717</td>\n",
              "      <td>-58.257499</td>\n",
              "      <td>Entre Ríos</td>\n",
              "      <td>NaN</td>\n",
              "      <td>NaN</td>\n",
              "      <td>NaN</td>\n",
              "      <td>NaN</td>\n",
              "      <td>Venta</td>\n",
              "      <td>Casa</td>\n",
              "      <td>NaN</td>\n",
              "      <td>NaN</td>\n",
              "      <td>110.0</td>\n",
              "      <td>45.0</td>\n",
              "      <td>47000.0</td>\n",
              "      <td>USD</td>\n",
              "      <td>Casa - Uruguay</td>\n",
              "    </tr>\n",
              "    <tr>\n",
              "      <th>3</th>\n",
              "      <td>QE1QVMWKAHWkd0qT0FtPWA==</td>\n",
              "      <td>2021-09-09</td>\n",
              "      <td>2022-01-27</td>\n",
              "      <td>2021-09-09</td>\n",
              "      <td>-34.900165</td>\n",
              "      <td>-54.808453</td>\n",
              "      <td>Maldonado</td>\n",
              "      <td>NaN</td>\n",
              "      <td>NaN</td>\n",
              "      <td>NaN</td>\n",
              "      <td>NaN</td>\n",
              "      <td>Venta</td>\n",
              "      <td>Casa</td>\n",
              "      <td>NaN</td>\n",
              "      <td>3.0</td>\n",
              "      <td>NaN</td>\n",
              "      <td>180.0</td>\n",
              "      <td>400000.0</td>\n",
              "      <td>USD</td>\n",
              "      <td>Casa - El Chorro</td>\n",
              "    </tr>\n",
              "    <tr>\n",
              "      <th>4</th>\n",
              "      <td>tJ5lSk7IysG/71OGhacNZA==</td>\n",
              "      <td>2021-09-09</td>\n",
              "      <td>2022-01-27</td>\n",
              "      <td>2021-09-09</td>\n",
              "      <td>-38.954528</td>\n",
              "      <td>-68.041862</td>\n",
              "      <td>Neuquén</td>\n",
              "      <td>NaN</td>\n",
              "      <td>NaN</td>\n",
              "      <td>NaN</td>\n",
              "      <td>NaN</td>\n",
              "      <td>Venta</td>\n",
              "      <td>PH</td>\n",
              "      <td>3.0</td>\n",
              "      <td>2.0</td>\n",
              "      <td>NaN</td>\n",
              "      <td>98.0</td>\n",
              "      <td>102000.0</td>\n",
              "      <td>USD</td>\n",
              "      <td>PH - Villa Farrell</td>\n",
              "    </tr>\n",
              "  </tbody>\n",
              "</table>\n",
              "</div>"
            ],
            "text/plain": [
              "                         id  start_date    end_date  created_on    latitud  \\\n",
              "0  XZq2dFGxBiboHY3Bo/tqlw==  2021-09-09  2022-01-27  2021-09-09 -38.957632   \n",
              "1  8afoK+yMH/rnnlYiktwgNA==  2021-09-09  2021-10-23  2021-09-09 -34.888878   \n",
              "2  iVaG5rBB47dd1Ya4BMXREA==  2021-09-09  2022-03-09  2021-09-09 -32.488717   \n",
              "3  QE1QVMWKAHWkd0qT0FtPWA==  2021-09-09  2022-01-27  2021-09-09 -34.900165   \n",
              "4  tJ5lSk7IysG/71OGhacNZA==  2021-09-09  2022-01-27  2021-09-09 -38.954528   \n",
              "\n",
              "    longitud    place_l2 place_l3 place_l4 place_l5  place_l6 operation  \\\n",
              "0 -68.105443     Neuquén      NaN      NaN      NaN       NaN     Venta   \n",
              "1 -56.092368  Montevideo      NaN      NaN      NaN       NaN     Venta   \n",
              "2 -58.257499  Entre Ríos      NaN      NaN      NaN       NaN     Venta   \n",
              "3 -54.808453   Maldonado      NaN      NaN      NaN       NaN     Venta   \n",
              "4 -68.041862     Neuquén      NaN      NaN      NaN       NaN     Venta   \n",
              "\n",
              "  property_type  property_rooms  property_bedrooms  property_surface_total  \\\n",
              "0          Casa             6.0                NaN                     NaN   \n",
              "1          Casa             4.0                3.0                   193.0   \n",
              "2          Casa             NaN                NaN                   110.0   \n",
              "3          Casa             NaN                3.0                     NaN   \n",
              "4            PH             3.0                2.0                     NaN   \n",
              "\n",
              "   property_surface_covered  property_price property_currency  \\\n",
              "0                     206.0             NaN               NaN   \n",
              "1                     193.0        390000.0               USD   \n",
              "2                      45.0         47000.0               USD   \n",
              "3                     180.0        400000.0               USD   \n",
              "4                      98.0        102000.0               USD   \n",
              "\n",
              "       property_title  \n",
              "0      Casa - Capital  \n",
              "1       Casa - Malvín  \n",
              "2      Casa - Uruguay  \n",
              "3    Casa - El Chorro  \n",
              "4  PH - Villa Farrell  "
            ]
          },
          "execution_count": 66,
          "metadata": {},
          "output_type": "execute_result"
        }
      ],
      "source": [
        "ds_propiedades.head()"
      ]
    },
    {
      "cell_type": "code",
      "execution_count": null,
      "metadata": {
        "id": "_W8-l1jcHhFX"
      },
      "outputs": [],
      "source": []
    },
    {
      "cell_type": "markdown",
      "metadata": {
        "id": "PIatK8lnHhFZ"
      },
      "source": [
        "# Análisis Exploratorio y Preprocesamiento de Dato"
      ]
    },
    {
      "cell_type": "markdown",
      "metadata": {
        "id": "FwA7vVq6HhFa"
      },
      "source": [
        "***Filtrado inicial***"
      ]
    },
    {
      "cell_type": "markdown",
      "metadata": {
        "id": "Ox_DqaPWHhFb"
      },
      "source": [
        "Se deben filtrar únicamente los anuncios de propiedades de tipo vivienda ( Casa, PH y Departamento ) ubicados en Capital Federal cuyo tipo de operación sea venta y su precio se encuentre en dólares (USD)."
      ]
    },
    {
      "cell_type": "code",
      "execution_count": 67,
      "metadata": {
        "id": "wfKcoliuHhFc"
      },
      "outputs": [],
      "source": [
        "ds_prop_filtrado = ds_propiedades[ds_propiedades.place_l2.str.contains('Capital Federal', case=False, na = False)]\n",
        "ds_prop_filtrado = ds_prop_filtrado[ds_prop_filtrado.property_type.str.fullmatch('Departamento|Casa|ph', case = False, na = False)]\n",
        "ds_prop_filtrado = ds_prop_filtrado[ds_prop_filtrado.operation.str.contains('venta', case=False, na =  False)]\n",
        "ds_prop_filtrado = ds_prop_filtrado[ds_prop_filtrado.property_currency.str.contains('USD', case=False, na =  False)]  #Preguntar si el na va en true"
      ]
    },
    {
      "cell_type": "markdown",
      "metadata": {
        "id": "swyE7PDQHhFd"
      },
      "source": [
        "***Exploración inicial***"
      ]
    },
    {
      "cell_type": "markdown",
      "metadata": {
        "id": "9a11kj5PHhFe"
      },
      "source": [
        "Tipo de variable"
      ]
    },
    {
      "cell_type": "code",
      "execution_count": 68,
      "metadata": {
        "colab": {
          "base_uri": "https://localhost:8080/"
        },
        "id": "3UZhlXfxHhFe",
        "outputId": "ebeaed56-5fa6-40ba-f6cf-213c5e9ceb28"
      },
      "outputs": [
        {
          "data": {
            "text/plain": [
              "id                           object\n",
              "start_date                   object\n",
              "end_date                     object\n",
              "created_on                   object\n",
              "latitud                     float64\n",
              "longitud                    float64\n",
              "place_l2                     object\n",
              "place_l3                     object\n",
              "place_l4                     object\n",
              "place_l5                     object\n",
              "place_l6                    float64\n",
              "operation                    object\n",
              "property_type                object\n",
              "property_rooms              float64\n",
              "property_bedrooms           float64\n",
              "property_surface_total      float64\n",
              "property_surface_covered    float64\n",
              "property_price              float64\n",
              "property_currency            object\n",
              "property_title               object\n",
              "dtype: object"
            ]
          },
          "execution_count": 68,
          "metadata": {},
          "output_type": "execute_result"
        }
      ],
      "source": [
        "ds_prop_filtrado.dtypes"
      ]
    },
    {
      "cell_type": "markdown",
      "metadata": {
        "id": "oFlf3lWCHhFf"
      },
      "source": [
        "Variables Cuantitativas"
      ]
    },
    {
      "cell_type": "code",
      "execution_count": 69,
      "metadata": {
        "colab": {
          "base_uri": "https://localhost:8080/",
          "height": 269
        },
        "id": "sDwfJyJdHhFg",
        "outputId": "0ceb7400-b093-4859-8d2b-7aa9ea3686d6"
      },
      "outputs": [
        {
          "data": {
            "text/html": [
              "<div>\n",
              "<style scoped>\n",
              "    .dataframe tbody tr th:only-of-type {\n",
              "        vertical-align: middle;\n",
              "    }\n",
              "\n",
              "    .dataframe tbody tr th {\n",
              "        vertical-align: top;\n",
              "    }\n",
              "\n",
              "    .dataframe thead th {\n",
              "        text-align: right;\n",
              "    }\n",
              "</style>\n",
              "<table border=\"1\" class=\"dataframe\">\n",
              "  <thead>\n",
              "    <tr style=\"text-align: right;\">\n",
              "      <th></th>\n",
              "      <th>media</th>\n",
              "      <th>mediana</th>\n",
              "      <th>q1</th>\n",
              "      <th>q3</th>\n",
              "      <th>moda</th>\n",
              "    </tr>\n",
              "  </thead>\n",
              "  <tbody>\n",
              "    <tr>\n",
              "      <th>latitud</th>\n",
              "      <td>-34.591481</td>\n",
              "      <td>-34.59579</td>\n",
              "      <td>-34.615975</td>\n",
              "      <td>-34.577413</td>\n",
              "      <td>-34.541250</td>\n",
              "    </tr>\n",
              "    <tr>\n",
              "      <th>longitud</th>\n",
              "      <td>-58.449795</td>\n",
              "      <td>-58.43900</td>\n",
              "      <td>-58.466522</td>\n",
              "      <td>-58.408862</td>\n",
              "      <td>-58.472966</td>\n",
              "    </tr>\n",
              "    <tr>\n",
              "      <th>property_rooms</th>\n",
              "      <td>2.822799</td>\n",
              "      <td>3.00000</td>\n",
              "      <td>2.000000</td>\n",
              "      <td>4.000000</td>\n",
              "      <td>3.000000</td>\n",
              "    </tr>\n",
              "    <tr>\n",
              "      <th>property_bedrooms</th>\n",
              "      <td>2.014629</td>\n",
              "      <td>2.00000</td>\n",
              "      <td>1.000000</td>\n",
              "      <td>3.000000</td>\n",
              "      <td>1.000000</td>\n",
              "    </tr>\n",
              "    <tr>\n",
              "      <th>property_surface_total</th>\n",
              "      <td>109.092970</td>\n",
              "      <td>65.00000</td>\n",
              "      <td>45.000000</td>\n",
              "      <td>105.000000</td>\n",
              "      <td>50.000000</td>\n",
              "    </tr>\n",
              "    <tr>\n",
              "      <th>property_surface_covered</th>\n",
              "      <td>87.931932</td>\n",
              "      <td>58.00000</td>\n",
              "      <td>40.000000</td>\n",
              "      <td>88.000000</td>\n",
              "      <td>40.000000</td>\n",
              "    </tr>\n",
              "    <tr>\n",
              "      <th>property_price</th>\n",
              "      <td>226238.207185</td>\n",
              "      <td>143900.00000</td>\n",
              "      <td>95000.000000</td>\n",
              "      <td>237000.000000</td>\n",
              "      <td>110000.000000</td>\n",
              "    </tr>\n",
              "  </tbody>\n",
              "</table>\n",
              "</div>"
            ],
            "text/plain": [
              "                                  media       mediana            q1  \\\n",
              "latitud                      -34.591481     -34.59579    -34.615975   \n",
              "longitud                     -58.449795     -58.43900    -58.466522   \n",
              "property_rooms                 2.822799       3.00000      2.000000   \n",
              "property_bedrooms              2.014629       2.00000      1.000000   \n",
              "property_surface_total       109.092970      65.00000     45.000000   \n",
              "property_surface_covered      87.931932      58.00000     40.000000   \n",
              "property_price            226238.207185  143900.00000  95000.000000   \n",
              "\n",
              "                                     q3           moda  \n",
              "latitud                      -34.577413     -34.541250  \n",
              "longitud                     -58.408862     -58.472966  \n",
              "property_rooms                 4.000000       3.000000  \n",
              "property_bedrooms              3.000000       1.000000  \n",
              "property_surface_total       105.000000      50.000000  \n",
              "property_surface_covered      88.000000      40.000000  \n",
              "property_price            237000.000000  110000.000000  "
            ]
          },
          "execution_count": 69,
          "metadata": {},
          "output_type": "execute_result"
        }
      ],
      "source": [
        "cuantitativos = [\"latitud\", \"longitud\", \"property_rooms\", \"property_bedrooms\",\"property_surface_total\", \"property_surface_covered\", \"property_price\"]\n",
        "ds_cuantitativo = ds_prop_filtrado.loc[:,cuantitativos]\n",
        "ds_resumen_cuantitativo = pd.DataFrame()\n",
        "ds_resumen_cuantitativo[\"media\"] = ds_cuantitativo.mean()\n",
        "ds_resumen_cuantitativo[\"mediana\"] = ds_cuantitativo.median()\n",
        "ds_resumen_cuantitativo[\"q1\"] = ds_cuantitativo.quantile([.25]).iloc[0]\n",
        "ds_resumen_cuantitativo[\"q3\"] = ds_cuantitativo.quantile([.75]).iloc[0]\n",
        "ds_resumen_cuantitativo[\"moda\"] = ds_cuantitativo.mode().iloc[0]\n",
        "ds_resumen_cuantitativo"
      ]
    },
    {
      "cell_type": "markdown",
      "metadata": {
        "id": "0C1Ml2QQHhFg"
      },
      "source": [
        "Variables Cualitativas"
      ]
    },
    {
      "cell_type": "code",
      "execution_count": 70,
      "metadata": {
        "id": "fFewavZbHhFh"
      },
      "outputs": [],
      "source": [
        "cualitativos = [\"place_l2\", \"place_l3\", \"operation\", \"property_type\", \"property_currency\", \"property_title\"]\n",
        "ds_cualitativo = ds_prop_filtrado.loc[:,cualitativos]"
      ]
    },
    {
      "cell_type": "markdown",
      "metadata": {
        "id": "R0zwd8Z3HhFh"
      },
      "source": [
        "* Mostrar cantidad de valores posibles"
      ]
    },
    {
      "cell_type": "code",
      "execution_count": 71,
      "metadata": {
        "colab": {
          "base_uri": "https://localhost:8080/"
        },
        "id": "LtdBCgmdHhFi",
        "outputId": "cad49b05-2b47-49cd-a540-32c7fc3ac26b"
      },
      "outputs": [
        {
          "data": {
            "text/plain": [
              "place_l2                 1\n",
              "place_l3                57\n",
              "operation                1\n",
              "property_type            3\n",
              "property_currency        1\n",
              "property_title       55704\n",
              "dtype: int64"
            ]
          },
          "execution_count": 71,
          "metadata": {},
          "output_type": "execute_result"
        }
      ],
      "source": [
        "ds_cualitativo.nunique()"
      ]
    },
    {
      "cell_type": "markdown",
      "metadata": {
        "id": "KuOJRieDHhFi"
      },
      "source": [
        "* Mostrar frecuencias\n",
        "    * Obviamos las opciones de un solo tipo porque la frecuencia es de 100%"
      ]
    },
    {
      "cell_type": "code",
      "execution_count": 72,
      "metadata": {
        "colab": {
          "base_uri": "https://localhost:8080/"
        },
        "id": "-1wbr_5pHhFj",
        "outputId": "747496eb-2cc0-4f5e-850e-e451fc21da8c"
      },
      "outputs": [
        {
          "data": {
            "text/plain": [
              "Palermo                 15.248529\n",
              "Belgrano                 9.482906\n",
              "Caballito                7.639185\n",
              "Recoleta                 6.694944\n",
              "Villa Urquiza            4.980177\n",
              "Almagro                  4.349263\n",
              "Nuñez                    3.779095\n",
              "Villa Crespo             3.398627\n",
              "Flores                   3.314434\n",
              "Barrio Norte             3.170560\n",
              "Balvanera                2.720820\n",
              "Colegiales               2.079248\n",
              "Villa Devoto             2.047276\n",
              "Villa del Parque         1.949228\n",
              "Saavedra                 1.949228\n",
              "Puerto Madero            1.591142\n",
              "San Telmo                1.470714\n",
              "San Cristobal            1.385455\n",
              "San Nicolás              1.380126\n",
              "Retiro                   1.332168\n",
              "Barracas                 1.327905\n",
              "Boedo                    1.318314\n",
              "Floresta                 1.273553\n",
              "Monserrat                1.188294\n",
              "Parque Chacabuco         1.143533\n",
              "Villa Pueyrredón         1.077458\n",
              "Coghlan                  1.048683\n",
              "Villa Luro               0.774789\n",
              "Mataderos                0.766263\n",
              "Chacarita                0.742817\n",
              "Liniers                  0.711911\n",
              "Villa Ortuzar            0.705516\n",
              "Parque Patricios         0.681004\n",
              "Villa Lugano             0.652230\n",
              "Paternal                 0.603206\n",
              "Congreso                 0.570168\n",
              "Monte Castro             0.531802\n",
              "Constitución             0.482778\n",
              "Villa Santa Rita         0.466792\n",
              "Villa General Mitre      0.463595\n",
              "Once                     0.433754\n",
              "Parque Avellaneda        0.404979\n",
              "Parque Chas              0.397519\n",
              "Boca                     0.388993\n",
              "Versalles                0.335706\n",
              "Velez Sarsfield          0.257908\n",
              "Agronomía                0.250448\n",
              "Abasto                   0.246185\n",
              "Pompeya                  0.230199\n",
              "Villa Real               0.151334\n",
              "Tribunales               0.123625\n",
              "Parque Centenario        0.099113\n",
              "Centro / Microcentro     0.080996\n",
              "Villa Soldati            0.047958\n",
              "Villa Riachuelo          0.037301\n",
              "Las Cañitas              0.012789\n",
              "Catalinas                0.007460\n",
              "Name: place_l3, dtype: float64"
            ]
          },
          "execution_count": 72,
          "metadata": {},
          "output_type": "execute_result"
        }
      ],
      "source": [
        "ds_cualitativo.place_l3.value_counts(normalize=True)* 100"
      ]
    },
    {
      "cell_type": "code",
      "execution_count": 73,
      "metadata": {
        "colab": {
          "base_uri": "https://localhost:8080/"
        },
        "id": "KOLqs1gUHhFj",
        "outputId": "baeed89a-f32b-4ffe-f384-e82b626a8fca"
      },
      "outputs": [
        {
          "data": {
            "text/plain": [
              "Departamento    85.761122\n",
              "PH               9.831404\n",
              "Casa             4.407474\n",
              "Name: property_type, dtype: float64"
            ]
          },
          "execution_count": 73,
          "metadata": {},
          "output_type": "execute_result"
        }
      ],
      "source": [
        "ds_cualitativo.property_type.value_counts(normalize=True)* 100"
      ]
    },
    {
      "cell_type": "code",
      "execution_count": 74,
      "metadata": {
        "colab": {
          "base_uri": "https://localhost:8080/"
        },
        "id": "4nzftMxPHhFj",
        "outputId": "a2ca5473-695b-43b7-89cb-a356cbc20263"
      },
      "outputs": [
        {
          "data": {
            "text/plain": [
              "Departamento - Palermo                                                                                  1.557576\n",
              "Departamento - Recoleta                                                                                 1.404789\n",
              "Departamento - Belgrano                                                                                 1.180914\n",
              "Departamento - Caballito                                                                                0.993114\n",
              "Departamento - Almagro                                                                                  0.706639\n",
              "                                                                                                          ...   \n",
              "Gran 3 ambientes en pleno Villa del Parque                                                              0.001061\n",
              "Venta PH 3 Amb Con Patio Flores                                                                         0.001061\n",
              "Venta, PH, 3 Ambientes, PB, Quincho, Parrilla, Terraza, Paternal                                        0.001061\n",
              "Venta PH - 3 dormitorios y terraza en Colegiales                                                        0.001061\n",
              "VENTA MONOAMBIENTE APAISADO y DIVISIBLE AL CF C/ BALCÓN Vta Ata, PISO ALTO. BAJAS EXP. // APTO CRED.    0.001061\n",
              "Name: property_title, Length: 55704, dtype: float64"
            ]
          },
          "execution_count": 74,
          "metadata": {},
          "output_type": "execute_result"
        }
      ],
      "source": [
        "ds_cualitativo.property_title.value_counts(normalize=True)* 100"
      ]
    },
    {
      "cell_type": "markdown",
      "metadata": {
        "id": "XaoQbiNFHhFk"
      },
      "source": [
        "* Determinar variables irrelevantes en el análisis"
      ]
    },
    {
      "cell_type": "markdown",
      "metadata": {
        "id": "LSc4m4GLHhFl"
      },
      "source": [
        "Debido a que las caracteristicas cualitativas \"place_l2\", \"operation\", \"Property_currency\" solo poseen un valor posible, es irrelevante para el analisis de datos. Tambien la caracteristica de \"Property_title\" al ser una descripcion del vendedor no aporta mucha informacion analitica. Por ultimo, los datos que no aportan al analisis, son las fechas, de las columnas \"Start_date\", \"End_date\" y \"Created_on\" debido a que no se especifica que significa dichas fechas. "
      ]
    },
    {
      "cell_type": "code",
      "execution_count": 75,
      "metadata": {
        "id": "j--kj-_dHhFl"
      },
      "outputs": [],
      "source": [
        "columnas_a_eliminar = [\"id\",\"place_l5\",\"place_l6\"] # variables irrelevantes, podrian ser: property_title place_l5\tplace_l6 y (start_date created_on) son lo mismo\n",
        "ds_filtado_copia = ds_prop_filtrado.copy()\n",
        "ds_filtado_copia.drop(columns = columnas_a_eliminar, inplace = True)"
      ]
    },
    {
      "cell_type": "markdown",
      "metadata": {
        "id": "8Q1bi8AeHhFm"
      },
      "source": [
        "* Realizar un análisis gráfico de las distribuciones de las variables"
      ]
    },
    {
      "cell_type": "code",
      "execution_count": 76,
      "metadata": {
        "id": "-kq3uEBUHhFm"
      },
      "outputs": [],
      "source": [
        "\n",
        "#sns.pairplot(ds_filtado_copia)"
      ]
    },
    {
      "cell_type": "markdown",
      "metadata": {
        "id": "8MmcD2LgIHtK"
      },
      "source": [
        "###Correlaciones existentes entre las variables\n"
      ]
    },
    {
      "cell_type": "markdown",
      "metadata": {
        "id": "VV7W80rJKx-g"
      },
      "source": [
        "\n",
        "\n",
        "*   Analizar las correlaciones existentes entre las variables.\n",
        "\n"
      ]
    },
    {
      "cell_type": "code",
      "execution_count": 77,
      "metadata": {
        "colab": {
          "base_uri": "https://localhost:8080/",
          "height": 269
        },
        "id": "gunCpyE4ILYH",
        "outputId": "a07b7998-0d7b-4762-8b19-49658cc9c249"
      },
      "outputs": [
        {
          "data": {
            "text/html": [
              "<div>\n",
              "<style scoped>\n",
              "    .dataframe tbody tr th:only-of-type {\n",
              "        vertical-align: middle;\n",
              "    }\n",
              "\n",
              "    .dataframe tbody tr th {\n",
              "        vertical-align: top;\n",
              "    }\n",
              "\n",
              "    .dataframe thead th {\n",
              "        text-align: right;\n",
              "    }\n",
              "</style>\n",
              "<table border=\"1\" class=\"dataframe\">\n",
              "  <thead>\n",
              "    <tr style=\"text-align: right;\">\n",
              "      <th></th>\n",
              "      <th>latitud</th>\n",
              "      <th>longitud</th>\n",
              "      <th>place_l6</th>\n",
              "      <th>property_rooms</th>\n",
              "      <th>property_bedrooms</th>\n",
              "      <th>property_surface_total</th>\n",
              "      <th>property_surface_covered</th>\n",
              "      <th>property_price</th>\n",
              "    </tr>\n",
              "  </thead>\n",
              "  <tbody>\n",
              "    <tr>\n",
              "      <th>latitud</th>\n",
              "      <td>1.000000</td>\n",
              "      <td>-0.239235</td>\n",
              "      <td>NaN</td>\n",
              "      <td>0.005521</td>\n",
              "      <td>0.003162</td>\n",
              "      <td>0.025348</td>\n",
              "      <td>0.002352</td>\n",
              "      <td>0.016635</td>\n",
              "    </tr>\n",
              "    <tr>\n",
              "      <th>longitud</th>\n",
              "      <td>-0.239235</td>\n",
              "      <td>1.000000</td>\n",
              "      <td>NaN</td>\n",
              "      <td>-0.008324</td>\n",
              "      <td>-0.008556</td>\n",
              "      <td>-0.015056</td>\n",
              "      <td>-0.001155</td>\n",
              "      <td>0.023314</td>\n",
              "    </tr>\n",
              "    <tr>\n",
              "      <th>place_l6</th>\n",
              "      <td>NaN</td>\n",
              "      <td>NaN</td>\n",
              "      <td>NaN</td>\n",
              "      <td>NaN</td>\n",
              "      <td>NaN</td>\n",
              "      <td>NaN</td>\n",
              "      <td>NaN</td>\n",
              "      <td>NaN</td>\n",
              "    </tr>\n",
              "    <tr>\n",
              "      <th>property_rooms</th>\n",
              "      <td>0.005521</td>\n",
              "      <td>-0.008324</td>\n",
              "      <td>NaN</td>\n",
              "      <td>1.000000</td>\n",
              "      <td>0.871940</td>\n",
              "      <td>0.067211</td>\n",
              "      <td>0.076097</td>\n",
              "      <td>0.488934</td>\n",
              "    </tr>\n",
              "    <tr>\n",
              "      <th>property_bedrooms</th>\n",
              "      <td>0.003162</td>\n",
              "      <td>-0.008556</td>\n",
              "      <td>NaN</td>\n",
              "      <td>0.871940</td>\n",
              "      <td>1.000000</td>\n",
              "      <td>0.067702</td>\n",
              "      <td>0.075075</td>\n",
              "      <td>0.425386</td>\n",
              "    </tr>\n",
              "    <tr>\n",
              "      <th>property_surface_total</th>\n",
              "      <td>0.025348</td>\n",
              "      <td>-0.015056</td>\n",
              "      <td>NaN</td>\n",
              "      <td>0.067211</td>\n",
              "      <td>0.067702</td>\n",
              "      <td>1.000000</td>\n",
              "      <td>0.604311</td>\n",
              "      <td>0.085235</td>\n",
              "    </tr>\n",
              "    <tr>\n",
              "      <th>property_surface_covered</th>\n",
              "      <td>0.002352</td>\n",
              "      <td>-0.001155</td>\n",
              "      <td>NaN</td>\n",
              "      <td>0.076097</td>\n",
              "      <td>0.075075</td>\n",
              "      <td>0.604311</td>\n",
              "      <td>1.000000</td>\n",
              "      <td>0.056238</td>\n",
              "    </tr>\n",
              "    <tr>\n",
              "      <th>property_price</th>\n",
              "      <td>0.016635</td>\n",
              "      <td>0.023314</td>\n",
              "      <td>NaN</td>\n",
              "      <td>0.488934</td>\n",
              "      <td>0.425386</td>\n",
              "      <td>0.085235</td>\n",
              "      <td>0.056238</td>\n",
              "      <td>1.000000</td>\n",
              "    </tr>\n",
              "  </tbody>\n",
              "</table>\n",
              "</div>"
            ],
            "text/plain": [
              "                           latitud  longitud  place_l6  property_rooms  \\\n",
              "latitud                   1.000000 -0.239235       NaN        0.005521   \n",
              "longitud                 -0.239235  1.000000       NaN       -0.008324   \n",
              "place_l6                       NaN       NaN       NaN             NaN   \n",
              "property_rooms            0.005521 -0.008324       NaN        1.000000   \n",
              "property_bedrooms         0.003162 -0.008556       NaN        0.871940   \n",
              "property_surface_total    0.025348 -0.015056       NaN        0.067211   \n",
              "property_surface_covered  0.002352 -0.001155       NaN        0.076097   \n",
              "property_price            0.016635  0.023314       NaN        0.488934   \n",
              "\n",
              "                          property_bedrooms  property_surface_total  \\\n",
              "latitud                            0.003162                0.025348   \n",
              "longitud                          -0.008556               -0.015056   \n",
              "place_l6                                NaN                     NaN   \n",
              "property_rooms                     0.871940                0.067211   \n",
              "property_bedrooms                  1.000000                0.067702   \n",
              "property_surface_total             0.067702                1.000000   \n",
              "property_surface_covered           0.075075                0.604311   \n",
              "property_price                     0.425386                0.085235   \n",
              "\n",
              "                          property_surface_covered  property_price  \n",
              "latitud                                   0.002352        0.016635  \n",
              "longitud                                 -0.001155        0.023314  \n",
              "place_l6                                       NaN             NaN  \n",
              "property_rooms                            0.076097        0.488934  \n",
              "property_bedrooms                         0.075075        0.425386  \n",
              "property_surface_total                    0.604311        0.085235  \n",
              "property_surface_covered                  1.000000        0.056238  \n",
              "property_price                            0.056238        1.000000  "
            ]
          },
          "execution_count": 77,
          "metadata": {},
          "output_type": "execute_result"
        }
      ],
      "source": [
        "ds_prop_filtrado.corr()"
      ]
    },
    {
      "cell_type": "markdown",
      "metadata": {
        "id": "JdWFC6UHIpq-"
      },
      "source": [
        "Precio promedio de propiedad por Barrio"
      ]
    },
    {
      "cell_type": "code",
      "execution_count": 78,
      "metadata": {
        "colab": {
          "base_uri": "https://localhost:8080/",
          "height": 441
        },
        "id": "tVtOIRHHIqxY",
        "outputId": "726f7e06-0445-4b1c-ddbe-fa012b130619"
      },
      "outputs": [
        {
          "data": {
            "image/png": "[encoded data removed]",
            "text/plain": [
              "<Figure size 1440x360 with 1 Axes>"
            ]
          },
          "metadata": {
            "needs_background": "light"
          },
          "output_type": "display_data"
        }
      ],
      "source": [
        "ds_precio_prom = ds_prop_filtrado.groupby([\"place_l3\"])[\"property_price\"].mean().sort_values(ascending=False)\n",
        "grf_ds=ds_precio_prom.plot.bar(alpha=0.5 , title=\"Cantidad de propiedades por barrio\" , xlabel=\"barrio\" , ylabel=\"precio\", figsize=(20,5))"
      ]
    },
    {
      "cell_type": "markdown",
      "metadata": {
        "id": "cqm6g1KQI3_9"
      },
      "source": []
    },
    {
      "cell_type": "markdown",
      "metadata": {
        "id": "xrKhG34RHhFm"
      },
      "source": [
        "# DATOS FALTANTES"
      ]
    },
    {
      "cell_type": "markdown",
      "metadata": {
        "id": "OJC5Cc_8HhFn"
      },
      "source": [
        "Realizar análisis de datos faltantes a nivel de columna. Graficar para cada variable\n",
        "el porcentaje de datos faltantes con respecto al total del dataset"
      ]
    },
    {
      "cell_type": "code",
      "execution_count": 79,
      "metadata": {
        "colab": {
          "base_uri": "https://localhost:8080/"
        },
        "id": "5NJEdqGFHhFn",
        "outputId": "a84ce31d-e770-429a-f391-cb45271db69d"
      },
      "outputs": [
        {
          "name": "stdout",
          "output_type": "stream",
          "text": [
            "id                            0.000000\n",
            "start_date                    0.000000\n",
            "end_date                      0.000000\n",
            "created_on                    0.000000\n",
            "latitud                       3.957602\n",
            "longitud                      3.957602\n",
            "place_l2                      0.000000\n",
            "place_l3                      0.442445\n",
            "place_l4                     96.134707\n",
            "place_l5                    100.000000\n",
            "place_l6                    100.000000\n",
            "operation                     0.000000\n",
            "property_type                 0.000000\n",
            "property_rooms                1.107704\n",
            "property_bedrooms            11.657418\n",
            "property_surface_total        5.139577\n",
            "property_surface_covered      3.558658\n",
            "property_price                0.000000\n",
            "property_currency             0.000000\n",
            "property_title                0.000000\n",
            "dtype: float64\n"
          ]
        }
      ],
      "source": [
        "filas_totales=ds_prop_filtrado.shape[0]\n",
        "print(ds_prop_filtrado.isna().sum()/filas_totales*100)"
      ]
    },
    {
      "cell_type": "code",
      "execution_count": 80,
      "metadata": {
        "id": "ZBuVTdu-HhFn"
      },
      "outputs": [
        {
          "data": {
            "image/png": "[encoded data removed]",
            "text/plain": [
              "<Figure size 432x288 with 1 Axes>"
            ]
          },
          "metadata": {
            "needs_background": "light"
          },
          "output_type": "display_data"
        }
      ],
      "source": [
        "ds_porcentaje = ds_prop_filtrado.isna().sum()/filas_totales*100\n",
        "ds_porcentaje = ds_porcentaje.sort_values(ascending=False)\n",
        "grf_ds = ds_porcentaje.plot.bar(alpha=0.5 , title=\"Gráfico de barras del porcetaje de datos faltantes sobre total \" , xlabel=\"Columna\" , ylabel=\"Porcentaje\")"
      ]
    },
    {
      "cell_type": "markdown",
      "metadata": {},
      "source": [
        "Nos fijamos si hay algun valor sospechoso que sea negativo"
      ]
    },
    {
      "cell_type": "code",
      "execution_count": 81,
      "metadata": {},
      "outputs": [
        {
          "data": {
            "text/html": [
              "<div>\n",
              "<style scoped>\n",
              "    .dataframe tbody tr th:only-of-type {\n",
              "        vertical-align: middle;\n",
              "    }\n",
              "\n",
              "    .dataframe tbody tr th {\n",
              "        vertical-align: top;\n",
              "    }\n",
              "\n",
              "    .dataframe thead th {\n",
              "        text-align: right;\n",
              "    }\n",
              "</style>\n",
              "<table border=\"1\" class=\"dataframe\">\n",
              "  <thead>\n",
              "    <tr style=\"text-align: right;\">\n",
              "      <th></th>\n",
              "      <th>Menor que 0 ?</th>\n",
              "    </tr>\n",
              "  </thead>\n",
              "  <tbody>\n",
              "    <tr>\n",
              "      <th>property_price</th>\n",
              "      <td>False</td>\n",
              "    </tr>\n",
              "    <tr>\n",
              "      <th>property_surface_total</th>\n",
              "      <td>False</td>\n",
              "    </tr>\n",
              "    <tr>\n",
              "      <th>property_surface_covered</th>\n",
              "      <td>False</td>\n",
              "    </tr>\n",
              "    <tr>\n",
              "      <th>property_rooms</th>\n",
              "      <td>False</td>\n",
              "    </tr>\n",
              "    <tr>\n",
              "      <th>property_bedrooms</th>\n",
              "      <td>True</td>\n",
              "    </tr>\n",
              "  </tbody>\n",
              "</table>\n",
              "</div>"
            ],
            "text/plain": [
              "                          Menor que 0 ?\n",
              "property_price                    False\n",
              "property_surface_total            False\n",
              "property_surface_covered          False\n",
              "property_rooms                    False\n",
              "property_bedrooms                  True"
            ]
          },
          "execution_count": 81,
          "metadata": {},
          "output_type": "execute_result"
        }
      ],
      "source": [
        "columnas_con_numeros = ['property_price', 'property_surface_total', 'property_surface_covered', 'property_rooms', 'property_bedrooms']\n",
        "(ds_prop_filtrado[columnas_con_numeros] <= 0).any().to_frame('Menor que 0 ?')"
      ]
    },
    {
      "cell_type": "markdown",
      "metadata": {},
      "source": [
        "Property_bedrooms tiene numero negativo, asi que veo cuantos hay"
      ]
    },
    {
      "cell_type": "code",
      "execution_count": 82,
      "metadata": {},
      "outputs": [
        {
          "data": {
            "text/html": [
              "<div>\n",
              "<style scoped>\n",
              "    .dataframe tbody tr th:only-of-type {\n",
              "        vertical-align: middle;\n",
              "    }\n",
              "\n",
              "    .dataframe tbody tr th {\n",
              "        vertical-align: top;\n",
              "    }\n",
              "\n",
              "    .dataframe thead th {\n",
              "        text-align: right;\n",
              "    }\n",
              "</style>\n",
              "<table border=\"1\" class=\"dataframe\">\n",
              "  <thead>\n",
              "    <tr style=\"text-align: right;\">\n",
              "      <th></th>\n",
              "      <th>id</th>\n",
              "      <th>start_date</th>\n",
              "      <th>end_date</th>\n",
              "      <th>created_on</th>\n",
              "      <th>latitud</th>\n",
              "      <th>longitud</th>\n",
              "      <th>place_l2</th>\n",
              "      <th>place_l3</th>\n",
              "      <th>place_l4</th>\n",
              "      <th>place_l5</th>\n",
              "      <th>place_l6</th>\n",
              "      <th>operation</th>\n",
              "      <th>property_type</th>\n",
              "      <th>property_rooms</th>\n",
              "      <th>property_bedrooms</th>\n",
              "      <th>property_surface_total</th>\n",
              "      <th>property_surface_covered</th>\n",
              "      <th>property_price</th>\n",
              "      <th>property_currency</th>\n",
              "      <th>property_title</th>\n",
              "    </tr>\n",
              "  </thead>\n",
              "  <tbody>\n",
              "    <tr>\n",
              "      <th>406880</th>\n",
              "      <td>3WI+zCCMeb9TR5kOBm7rhg==</td>\n",
              "      <td>2021-01-07</td>\n",
              "      <td>2021-03-18</td>\n",
              "      <td>2021-01-07</td>\n",
              "      <td>-34.577595</td>\n",
              "      <td>-58.495185</td>\n",
              "      <td>Capital Federal</td>\n",
              "      <td>Villa Urquiza</td>\n",
              "      <td>NaN</td>\n",
              "      <td>NaN</td>\n",
              "      <td>NaN</td>\n",
              "      <td>Venta</td>\n",
              "      <td>Departamento</td>\n",
              "      <td>2.0</td>\n",
              "      <td>-1.0</td>\n",
              "      <td>61.0</td>\n",
              "      <td>43.0</td>\n",
              "      <td>125000.0</td>\n",
              "      <td>USD</td>\n",
              "      <td>Jardines de Roosevelt - Hermoso 3 ambientes co...</td>\n",
              "    </tr>\n",
              "  </tbody>\n",
              "</table>\n",
              "</div>"
            ],
            "text/plain": [
              "                              id  start_date    end_date  created_on  \\\n",
              "406880  3WI+zCCMeb9TR5kOBm7rhg==  2021-01-07  2021-03-18  2021-01-07   \n",
              "\n",
              "          latitud   longitud         place_l2       place_l3 place_l4  \\\n",
              "406880 -34.577595 -58.495185  Capital Federal  Villa Urquiza      NaN   \n",
              "\n",
              "       place_l5  place_l6 operation property_type  property_rooms  \\\n",
              "406880      NaN       NaN     Venta  Departamento             2.0   \n",
              "\n",
              "        property_bedrooms  property_surface_total  property_surface_covered  \\\n",
              "406880               -1.0                    61.0                      43.0   \n",
              "\n",
              "        property_price property_currency  \\\n",
              "406880        125000.0               USD   \n",
              "\n",
              "                                           property_title  \n",
              "406880  Jardines de Roosevelt - Hermoso 3 ambientes co...  "
            ]
          },
          "execution_count": 82,
          "metadata": {},
          "output_type": "execute_result"
        }
      ],
      "source": [
        "ds_prop_filtrado[ds_prop_filtrado['property_bedrooms'] < 1]"
      ]
    },
    {
      "cell_type": "markdown",
      "metadata": {},
      "source": [
        "Solo hay uno asi que se lo coloca en nan porque no condiciona el analisis pero si el dato es incorrecto"
      ]
    },
    {
      "cell_type": "code",
      "execution_count": 83,
      "metadata": {},
      "outputs": [
        {
          "data": {
            "text/html": [
              "<div>\n",
              "<style scoped>\n",
              "    .dataframe tbody tr th:only-of-type {\n",
              "        vertical-align: middle;\n",
              "    }\n",
              "\n",
              "    .dataframe tbody tr th {\n",
              "        vertical-align: top;\n",
              "    }\n",
              "\n",
              "    .dataframe thead th {\n",
              "        text-align: right;\n",
              "    }\n",
              "</style>\n",
              "<table border=\"1\" class=\"dataframe\">\n",
              "  <thead>\n",
              "    <tr style=\"text-align: right;\">\n",
              "      <th></th>\n",
              "      <th>id</th>\n",
              "      <th>start_date</th>\n",
              "      <th>end_date</th>\n",
              "      <th>created_on</th>\n",
              "      <th>latitud</th>\n",
              "      <th>longitud</th>\n",
              "      <th>place_l2</th>\n",
              "      <th>place_l3</th>\n",
              "      <th>place_l4</th>\n",
              "      <th>place_l5</th>\n",
              "      <th>place_l6</th>\n",
              "      <th>operation</th>\n",
              "      <th>property_type</th>\n",
              "      <th>property_rooms</th>\n",
              "      <th>property_bedrooms</th>\n",
              "      <th>property_surface_total</th>\n",
              "      <th>property_surface_covered</th>\n",
              "      <th>property_price</th>\n",
              "      <th>property_currency</th>\n",
              "      <th>property_title</th>\n",
              "    </tr>\n",
              "  </thead>\n",
              "  <tbody>\n",
              "    <tr>\n",
              "      <th>406880</th>\n",
              "      <td>3WI+zCCMeb9TR5kOBm7rhg==</td>\n",
              "      <td>2021-01-07</td>\n",
              "      <td>2021-03-18</td>\n",
              "      <td>2021-01-07</td>\n",
              "      <td>-34.577595</td>\n",
              "      <td>-58.495185</td>\n",
              "      <td>Capital Federal</td>\n",
              "      <td>Villa Urquiza</td>\n",
              "      <td>NaN</td>\n",
              "      <td>NaN</td>\n",
              "      <td>NaN</td>\n",
              "      <td>Venta</td>\n",
              "      <td>Departamento</td>\n",
              "      <td>2.0</td>\n",
              "      <td>NaN</td>\n",
              "      <td>61.0</td>\n",
              "      <td>43.0</td>\n",
              "      <td>125000.0</td>\n",
              "      <td>USD</td>\n",
              "      <td>Jardines de Roosevelt - Hermoso 3 ambientes co...</td>\n",
              "    </tr>\n",
              "  </tbody>\n",
              "</table>\n",
              "</div>"
            ],
            "text/plain": [
              "                              id  start_date    end_date  created_on  \\\n",
              "406880  3WI+zCCMeb9TR5kOBm7rhg==  2021-01-07  2021-03-18  2021-01-07   \n",
              "\n",
              "          latitud   longitud         place_l2       place_l3 place_l4  \\\n",
              "406880 -34.577595 -58.495185  Capital Federal  Villa Urquiza      NaN   \n",
              "\n",
              "       place_l5  place_l6 operation property_type  property_rooms  \\\n",
              "406880      NaN       NaN     Venta  Departamento             2.0   \n",
              "\n",
              "        property_bedrooms  property_surface_total  property_surface_covered  \\\n",
              "406880                NaN                    61.0                      43.0   \n",
              "\n",
              "        property_price property_currency  \\\n",
              "406880        125000.0               USD   \n",
              "\n",
              "                                           property_title  \n",
              "406880  Jardines de Roosevelt - Hermoso 3 ambientes co...  "
            ]
          },
          "execution_count": 83,
          "metadata": {},
          "output_type": "execute_result"
        }
      ],
      "source": [
        "ds_prop_filtrado.loc[ds_prop_filtrado['property_bedrooms'] < 1,'property_bedrooms'] = np.nan\n",
        "ds_prop_filtrado[ds_prop_filtrado['id'] == '3WI+zCCMeb9TR5kOBm7rhg==']"
      ]
    },
    {
      "cell_type": "markdown",
      "metadata": {},
      "source": [
        "Verificamos que no haya duplicados"
      ]
    },
    {
      "cell_type": "code",
      "execution_count": 84,
      "metadata": {},
      "outputs": [
        {
          "data": {
            "text/html": [
              "<div>\n",
              "<style scoped>\n",
              "    .dataframe tbody tr th:only-of-type {\n",
              "        vertical-align: middle;\n",
              "    }\n",
              "\n",
              "    .dataframe tbody tr th {\n",
              "        vertical-align: top;\n",
              "    }\n",
              "\n",
              "    .dataframe thead th {\n",
              "        text-align: right;\n",
              "    }\n",
              "</style>\n",
              "<table border=\"1\" class=\"dataframe\">\n",
              "  <thead>\n",
              "    <tr style=\"text-align: right;\">\n",
              "      <th></th>\n",
              "      <th>id</th>\n",
              "      <th>start_date</th>\n",
              "      <th>end_date</th>\n",
              "      <th>created_on</th>\n",
              "      <th>latitud</th>\n",
              "      <th>longitud</th>\n",
              "      <th>place_l2</th>\n",
              "      <th>place_l3</th>\n",
              "      <th>place_l4</th>\n",
              "      <th>place_l5</th>\n",
              "      <th>place_l6</th>\n",
              "      <th>operation</th>\n",
              "      <th>property_type</th>\n",
              "      <th>property_rooms</th>\n",
              "      <th>property_bedrooms</th>\n",
              "      <th>property_surface_total</th>\n",
              "      <th>property_surface_covered</th>\n",
              "      <th>property_price</th>\n",
              "      <th>property_currency</th>\n",
              "      <th>property_title</th>\n",
              "    </tr>\n",
              "  </thead>\n",
              "  <tbody>\n",
              "  </tbody>\n",
              "</table>\n",
              "</div>"
            ],
            "text/plain": [
              "Empty DataFrame\n",
              "Columns: [id, start_date, end_date, created_on, latitud, longitud, place_l2, place_l3, place_l4, place_l5, place_l6, operation, property_type, property_rooms, property_bedrooms, property_surface_total, property_surface_covered, property_price, property_currency, property_title]\n",
              "Index: []"
            ]
          },
          "execution_count": 84,
          "metadata": {},
          "output_type": "execute_result"
        }
      ],
      "source": [
        "ds_prop_filtrado[ds_prop_filtrado.duplicated(keep=False)]"
      ]
    },
    {
      "cell_type": "markdown",
      "metadata": {
        "id": "FwyFsVCbHhFn"
      },
      "source": [
        "Tomando en cuenta estos resultados, decidimos eliminar las columnas l4 , l5 y l6 debido a que el porcentaje de datos faltantes es total o casi total. En el caso de l5 y l6 son de 100 por ciento por lo cual no se podria completar y en el caso de l4 son las subdivisiones barriales de los cuales muchos no poseen."
      ]
    },
    {
      "cell_type": "code",
      "execution_count": 85,
      "metadata": {
        "id": "zgMkewFJHhFo"
      },
      "outputs": [],
      "source": [
        "columnas_a_eliminar = [\"place_l4\",\"place_l5\",\"place_l6\",\"id\"]\n",
        "ds_prop_filtrado.drop(columns = columnas_a_eliminar, inplace = True)"
      ]
    },
    {
      "cell_type": "markdown",
      "metadata": {
        "id": "L5B-wQLjHhFo"
      },
      "source": [
        "Realizar un análisis de datos faltantes a nivel de fila. Calcular el porcentaje de\n",
        "datos faltantes de cada registro. Realizar un gráfico que permita conocer la\n",
        "proporción de faltantes por fila en el dataset."
      ]
    },
    {
      "cell_type": "code",
      "execution_count": 86,
      "metadata": {
        "colab": {
          "base_uri": "https://localhost:8080/"
        },
        "id": "Bum32U2sHhFo",
        "outputId": "bdbdef9b-9add-4a7b-cf6d-d676c54785c6"
      },
      "outputs": [
        {
          "name": "stdout",
          "output_type": "stream",
          "text": [
            "Hay 21387 lineas que poseen uno o mas valores faltantes\n"
          ]
        }
      ],
      "source": [
        "filas_cantidad_nan = pd.DataFrame(ds_prop_filtrado).isna().sum(axis=1).to_frame(\"cantidad\")\n",
        "cantidad = len(filas_cantidad_nan[filas_cantidad_nan[\"cantidad\"] > 0])\n",
        "print(f\"Hay {cantidad} lineas que poseen uno o mas valores faltantes\")"
      ]
    },
    {
      "cell_type": "markdown",
      "metadata": {
        "id": "JlzULp9mHhFo"
      },
      "source": [
        "*Determinar, de ser posible, estrategias para reparar los valores faltantes.*"
      ]
    },
    {
      "cell_type": "markdown",
      "metadata": {
        "id": "PvH7yNozHhFq"
      },
      "source": [
        "Primero procedemos imputando los cualitativos, que en este caso solo es el place_l3.\n",
        "Utilizando un archivo csv proporcionado por el gobierno de la Ciudad Autonoma de Buenos Aires, el cual nos proporcionorá el nombre de la localidad usando latitud y longitud, mediante la utilizacion de Polygon.\n",
        "https://data.buenosaires.gob.ar/dataset/barrios"
      ]
    },
    {
      "cell_type": "code",
      "execution_count": 87,
      "metadata": {
        "id": "CX-mALSZHhFq"
      },
      "outputs": [
        {
          "name": "stderr",
          "output_type": "stream",
          "text": [
            "<ipython-input-87-8e3252eaebf9>:13: SettingWithCopyWarning: \n",
            "A value is trying to be set on a copy of a slice from a DataFrame\n",
            "\n",
            "See the caveats in the documentation: https://pandas.pydata.org/pandas-docs/stable/user_guide/indexing.html#returning-a-view-versus-a-copy\n",
            "  ds_prop_filtrado['place_l3'][index] = barrio_aux\n"
          ]
        }
      ],
      "source": [
        "ds_barrios = pd.read_csv('barrios.csv', header=0,sep=';')\n",
        "\n",
        "from shapely.geometry import MultiPolygon, Polygon, Point\n",
        "from shapely import wkt\n",
        "ds_barrios.WKT = ds_barrios.WKT\n",
        "\n",
        "for index, registro_prop in ds_prop_filtrado.iterrows():\n",
        "    if  type(registro_prop[\"place_l3\"]) is str:\n",
        "        continue\n",
        "    for index_, registro_barrio in ds_barrios.iterrows():\n",
        "        if wkt.loads(registro_barrio.WKT).covers(Point(registro_prop.longitud,registro_prop.latitud)):\n",
        "            barrio_aux = registro_barrio['BARRIO']\n",
        "            ds_prop_filtrado['place_l3'][index] = barrio_aux"
      ]
    },
    {
      "cell_type": "markdown",
      "metadata": {
        "id": "jprrt-LNHhFp"
      },
      "source": [
        "Luego imputaremos los datos cuantitativos faltantes utilizando el metodo MICE."
      ]
    },
    {
      "cell_type": "code",
      "execution_count": 88,
      "metadata": {
        "id": "Sx3ix4O2HhFp"
      },
      "outputs": [],
      "source": [
        "#creo que es distinto\n",
        "ds_prop_filtrado = ds_prop_filtrado[~ds_prop_filtrado[\"latitud\"].isna() & ~ds_prop_filtrado[\"place_l3\"].isna()]"
      ]
    },
    {
      "cell_type": "code",
      "execution_count": 89,
      "metadata": {
        "colab": {
          "base_uri": "https://localhost:8080/",
          "height": 362
        },
        "id": "7DDWqNcvHhFp",
        "outputId": "38fe27a3-d706-475c-8469-ca2b0ac08c89"
      },
      "outputs": [],
      "source": [
        "copia_pre_imputacion= ds_prop_filtrado.copy()\n",
        "mice = ds_prop_filtrado.copy()\n",
        "#mice= mice[~mice[\"latitud\"].isna() & ~mice[\"place_l3\"].isna()]\n",
        "columnas=['property_surface_total','property_surface_covered','property_rooms','property_price','property_bedrooms','latitud','longitud'] #,'property_surface_covered','property_bathrooms','property_rooms'\n",
        "df_eliminar_nans_op3=ds_prop_filtrado[columnas].copy()\n",
        "\n",
        "lr = LinearRegression()\n",
        "imp = IterativeImputer(estimator=lr,missing_values=np.nan, max_iter=20, verbose=0, random_state=0,imputation_order='roman',initial_strategy = \"mean\") #imputation_order='roman'\n",
        "df_eliminar_nans_op3_completo=imp.fit_transform(df_eliminar_nans_op3)\n",
        "mice['property_surface_total']= df_eliminar_nans_op3_completo[:,0]\n",
        "mice['property_surface_covered']=df_eliminar_nans_op3_completo[:, 1]\n",
        "mice['property_rooms']= df_eliminar_nans_op3_completo[:, 2]\n",
        "mice['property_price']= df_eliminar_nans_op3_completo[:, 3]\n",
        "mice['property_bedrooms'] = df_eliminar_nans_op3_completo[:,4]\n",
        "#mice['latitud'] = df_eliminar_nans_op3_completo[:,5]\n",
        "#mice['longitud'] = df_eliminar_nans_op3_completo[:,6]\n",
        "#mice['latitud'].drop()\n",
        "#mice['longitud'].drop()\n",
        "mice=mice.round()\n"
      ]
    },
    {
      "cell_type": "code",
      "execution_count": 90,
      "metadata": {
        "id": "ItyASmGxHhFp"
      },
      "outputs": [
        {
          "name": "stdout",
          "output_type": "stream",
          "text": [
            "start_date                  0.0\n",
            "end_date                    0.0\n",
            "created_on                  0.0\n",
            "latitud                     0.0\n",
            "longitud                    0.0\n",
            "place_l2                    0.0\n",
            "place_l3                    0.0\n",
            "operation                   0.0\n",
            "property_type               0.0\n",
            "property_rooms              0.0\n",
            "property_bedrooms           0.0\n",
            "property_surface_total      0.0\n",
            "property_surface_covered    0.0\n",
            "property_price              0.0\n",
            "property_currency           0.0\n",
            "property_title              0.0\n",
            "dtype: float64\n"
          ]
        }
      ],
      "source": [
        "filas_totales=mice.shape[0]\n",
        "print(mice.isna().sum()/filas_totales*100)"
      ]
    },
    {
      "cell_type": "code",
      "execution_count": 91,
      "metadata": {
        "id": "gKCmoLsxHhFq"
      },
      "outputs": [],
      "source": [
        "#Ver que es\n",
        "# ds_prop_filtrado.where(ds_prop_filtrado.place_l3.isna(), ds_barrios)\n",
        "\n",
        "#ds_prop_filtrado[\"place_l3\"].fillna(ds_barrios[ds_barrios[\"WKT\"].contains(Point((ds_prop_filtrado.longitud,ds_prop_filtrado.latitud))) == True].barrio)\n",
        "#ds_prop_filtrado[\"place_l3\"].isna().combine_first()"
      ]
    },
    {
      "cell_type": "code",
      "execution_count": 92,
      "metadata": {
        "id": "0BQHGzX1HhFr"
      },
      "outputs": [
        {
          "name": "stdout",
          "output_type": "stream",
          "text": [
            "start_date                  0.0\n",
            "end_date                    0.0\n",
            "created_on                  0.0\n",
            "latitud                     0.0\n",
            "longitud                    0.0\n",
            "place_l2                    0.0\n",
            "place_l3                    0.0\n",
            "operation                   0.0\n",
            "property_type               0.0\n",
            "property_rooms              0.0\n",
            "property_bedrooms           0.0\n",
            "property_surface_total      0.0\n",
            "property_surface_covered    0.0\n",
            "property_price              0.0\n",
            "property_currency           0.0\n",
            "property_title              0.0\n",
            "dtype: float64\n"
          ]
        }
      ],
      "source": [
        "filas_totales=mice.shape[0]\n",
        "print(mice.isna().sum()/filas_totales*100)"
      ]
    },
    {
      "cell_type": "markdown",
      "metadata": {
        "id": "dQSlz6-lHhFr"
      },
      "source": [
        "Luego logramos reducir el porcentaje de datos faltantes a 0.21\n",
        "Investigando, descubrimos que los registros que aun tienen dato faltante, es porque la latitud y longitud no coinciden con un punto ubicado en CABA."
      ]
    },
    {
      "cell_type": "markdown",
      "metadata": {
        "id": "2bhZ6VU0HhFr"
      },
      "source": [
        "En caso de realizar imputaciones comparar las distribuciones de cada atributo\n",
        "reparado con la distribución anterior a la imputación de los datos faltantes."
      ]
    },
    {
      "cell_type": "code",
      "execution_count": 93,
      "metadata": {
        "id": "QFvy6UdlHhFr"
      },
      "outputs": [
        {
          "data": {
            "text/html": [
              "<div>\n",
              "<style scoped>\n",
              "    .dataframe tbody tr th:only-of-type {\n",
              "        vertical-align: middle;\n",
              "    }\n",
              "\n",
              "    .dataframe tbody tr th {\n",
              "        vertical-align: top;\n",
              "    }\n",
              "\n",
              "    .dataframe thead th {\n",
              "        text-align: right;\n",
              "    }\n",
              "</style>\n",
              "<table border=\"1\" class=\"dataframe\">\n",
              "  <thead>\n",
              "    <tr style=\"text-align: right;\">\n",
              "      <th></th>\n",
              "      <th>start_date</th>\n",
              "      <th>end_date</th>\n",
              "      <th>created_on</th>\n",
              "      <th>latitud</th>\n",
              "      <th>longitud</th>\n",
              "      <th>place_l2</th>\n",
              "      <th>place_l3</th>\n",
              "      <th>operation</th>\n",
              "      <th>property_type</th>\n",
              "      <th>property_rooms</th>\n",
              "      <th>property_bedrooms</th>\n",
              "      <th>property_surface_total</th>\n",
              "      <th>property_surface_covered</th>\n",
              "      <th>property_price</th>\n",
              "      <th>property_currency</th>\n",
              "      <th>property_title</th>\n",
              "    </tr>\n",
              "  </thead>\n",
              "  <tbody>\n",
              "  </tbody>\n",
              "</table>\n",
              "</div>"
            ],
            "text/plain": [
              "Empty DataFrame\n",
              "Columns: [start_date, end_date, created_on, latitud, longitud, place_l2, place_l3, operation, property_type, property_rooms, property_bedrooms, property_surface_total, property_surface_covered, property_price, property_currency, property_title]\n",
              "Index: []"
            ]
          },
          "execution_count": 93,
          "metadata": {},
          "output_type": "execute_result"
        }
      ],
      "source": [
        "mice[mice[\"property_price\"]<0]"
      ]
    },
    {
      "cell_type": "markdown",
      "metadata": {
        "id": "WEt9s9xuHhFr"
      },
      "source": [
        "***Comparamos property price sin y con imputacion***"
      ]
    },
    {
      "cell_type": "code",
      "execution_count": 94,
      "metadata": {
        "id": "oZuOffwvHhFr"
      },
      "outputs": [
        {
          "data": {
            "text/plain": [
              "<AxesSubplot:ylabel='property_price'>"
            ]
          },
          "execution_count": 94,
          "metadata": {},
          "output_type": "execute_result"
        },
        {
          "data": {
            "image/png": "[encoded data removed]",
            "text/plain": [
              "<Figure size 1080x720 with 2 Axes>"
            ]
          },
          "metadata": {
            "needs_background": "light"
          },
          "output_type": "display_data"
        }
      ],
      "source": [
        "fig, axes = plt.subplots(nrows=1, ncols=2)\n",
        "fig.set_size_inches(15,10)\n",
        "sns.boxplot(y=\"property_price\", data=copia_pre_imputacion[copia_pre_imputacion[\"property_price\"]<500000], ax=axes[0])\n",
        "sns.boxplot(y=\"property_price\", data=mice[mice[\"property_price\"]<500000], ax=axes[1])"
      ]
    },
    {
      "cell_type": "markdown",
      "metadata": {},
      "source": [
        "***Comparamos property bedrooms***"
      ]
    },
    {
      "cell_type": "code",
      "execution_count": 95,
      "metadata": {},
      "outputs": [
        {
          "data": {
            "text/plain": [
              "<AxesSubplot:>"
            ]
          },
          "execution_count": 95,
          "metadata": {},
          "output_type": "execute_result"
        },
        {
          "data": {
            "image/png": "[encoded data removed]",
            "text/plain": [
              "<Figure size 1080x720 with 4 Axes>"
            ]
          },
          "metadata": {
            "needs_background": "light"
          },
          "output_type": "display_data"
        }
      ],
      "source": [
        "fig, axes = plt.subplots(nrows=2, ncols=2)\n",
        "fig.set_size_inches(15,10)\n",
        "sns.boxplot(y=\"property_bedrooms\", data=copia_pre_imputacion, ax=axes[0,0])\n",
        "sns.boxplot(y=\"property_bedrooms\", data=mice, ax=axes[0,1])\n",
        "copia_pre_imputacion[\"property_bedrooms\"].value_counts().plot.bar(ax=axes[1,0])\n",
        "mice[\"property_bedrooms\"].value_counts().plot.bar(ax=axes[1,1])"
      ]
    },
    {
      "cell_type": "markdown",
      "metadata": {},
      "source": [
        "El grafico nos muestra que la mayoria de los valores faltantes se complentan co una sola habitacion"
      ]
    },
    {
      "cell_type": "markdown",
      "metadata": {
        "id": "LMqqwz02HhFs"
      },
      "source": [
        "# analizar la existencia de valores atípicos\n"
      ]
    },
    {
      "cell_type": "code",
      "execution_count": 96,
      "metadata": {
        "id": "u1ahkefxHhFs"
      },
      "outputs": [],
      "source": [
        "#Calulo el vector de medias\n",
        "# \"\"\"\n",
        "# mice= mice[:300]\n",
        "# vmedias=np.mean(mice[['property_price','property_rooms']])\n",
        "\n",
        "# #Calculo la diferencia entre las observaciones y el vector de medias\n",
        "# x_dif = mice[['property_price','property_rooms']] - vmedias\n",
        "\n",
        "# #Calculo matriz de covarianza y su inversa\n",
        "# cov=mice[['property_price','property_rooms']].cov().values\n",
        "# inv_cov = np.linalg.inv(cov)\n",
        "\n",
        "# #Calculamos el cuadrado de la distancia de mahalanobis\n",
        "# mahal =np.dot( np.dot(x_dif, inv_cov) , x_dif.T)\n",
        "\n",
        "# mice['mahalanobis']=mahal.diagonal()\n",
        "# mice.head\n",
        "# \"\"\""
      ]
    },
    {
      "cell_type": "markdown",
      "metadata": {},
      "source": [
        "### Detectar valores atípicos en los datos en forma univariada"
      ]
    },
    {
      "cell_type": "code",
      "execution_count": 97,
      "metadata": {},
      "outputs": [],
      "source": [
        "ds_atipicos = mice.copy()\n",
        "columnas_a_eliminar = [\"start_date\", \"end_date\", \"created_on\", \"latitud\", \"longitud\", \"place_l2\", \"place_l3\", \"operation\", \"property_type\", \"property_currency\", \"property_title\"]\n",
        "ds_atipicos.drop(columns = columnas_a_eliminar, inplace=True)"
      ]
    },
    {
      "cell_type": "markdown",
      "metadata": {},
      "source": [
        "property_rooms"
      ]
    },
    {
      "cell_type": "code",
      "execution_count": 98,
      "metadata": {},
      "outputs": [],
      "source": [
        "#z-score Rooms con librería stats\n",
        "ds_atipicos['z_rooms']=st.zscore(ds_atipicos.property_rooms) #Agregamos columna con valores de z-score\n",
        "\n",
        "#z-score modificado Rooms con librería stats\n",
        "mediana_rooms = np.median(ds_atipicos.property_rooms)\n",
        "MAD=np.median(np.absolute(ds_atipicos.property_rooms - mediana_rooms)) #Mediana de los desvios absolutos\n",
        "ds_atipicos['zm_rooms']=(ds_atipicos.property_rooms - mediana_rooms)*0.6745/MAD"
      ]
    },
    {
      "cell_type": "markdown",
      "metadata": {},
      "source": [
        "Una vez realizado el calculo vemos aquellas muestras que no respetan la \"regla de oro\""
      ]
    },
    {
      "cell_type": "code",
      "execution_count": 99,
      "metadata": {},
      "outputs": [
        {
          "data": {
            "text/html": [
              "<div>\n",
              "<style scoped>\n",
              "    .dataframe tbody tr th:only-of-type {\n",
              "        vertical-align: middle;\n",
              "    }\n",
              "\n",
              "    .dataframe tbody tr th {\n",
              "        vertical-align: top;\n",
              "    }\n",
              "\n",
              "    .dataframe thead th {\n",
              "        text-align: right;\n",
              "    }\n",
              "</style>\n",
              "<table border=\"1\" class=\"dataframe\">\n",
              "  <thead>\n",
              "    <tr style=\"text-align: right;\">\n",
              "      <th></th>\n",
              "      <th>property_rooms</th>\n",
              "      <th>property_bedrooms</th>\n",
              "      <th>property_surface_total</th>\n",
              "      <th>property_surface_covered</th>\n",
              "      <th>property_price</th>\n",
              "      <th>z_rooms</th>\n",
              "      <th>zm_rooms</th>\n",
              "    </tr>\n",
              "  </thead>\n",
              "  <tbody>\n",
              "    <tr>\n",
              "      <th>58</th>\n",
              "      <td>10.0</td>\n",
              "      <td>10.0</td>\n",
              "      <td>394.0</td>\n",
              "      <td>244.0</td>\n",
              "      <td>500000.0</td>\n",
              "      <td>5.022605</td>\n",
              "      <td>4.7215</td>\n",
              "    </tr>\n",
              "    <tr>\n",
              "      <th>834</th>\n",
              "      <td>9.0</td>\n",
              "      <td>4.0</td>\n",
              "      <td>390.0</td>\n",
              "      <td>340.0</td>\n",
              "      <td>1200000.0</td>\n",
              "      <td>4.322217</td>\n",
              "      <td>4.0470</td>\n",
              "    </tr>\n",
              "    <tr>\n",
              "      <th>1040</th>\n",
              "      <td>8.0</td>\n",
              "      <td>6.0</td>\n",
              "      <td>201.0</td>\n",
              "      <td>201.0</td>\n",
              "      <td>345000.0</td>\n",
              "      <td>3.621829</td>\n",
              "      <td>3.3725</td>\n",
              "    </tr>\n",
              "    <tr>\n",
              "      <th>1108</th>\n",
              "      <td>8.0</td>\n",
              "      <td>6.0</td>\n",
              "      <td>201.0</td>\n",
              "      <td>201.0</td>\n",
              "      <td>345000.0</td>\n",
              "      <td>3.621829</td>\n",
              "      <td>3.3725</td>\n",
              "    </tr>\n",
              "    <tr>\n",
              "      <th>1140</th>\n",
              "      <td>16.0</td>\n",
              "      <td>11.0</td>\n",
              "      <td>10500.0</td>\n",
              "      <td>10500.0</td>\n",
              "      <td>9900000.0</td>\n",
              "      <td>9.224933</td>\n",
              "      <td>8.7685</td>\n",
              "    </tr>\n",
              "    <tr>\n",
              "      <th>...</th>\n",
              "      <td>...</td>\n",
              "      <td>...</td>\n",
              "      <td>...</td>\n",
              "      <td>...</td>\n",
              "      <td>...</td>\n",
              "      <td>...</td>\n",
              "      <td>...</td>\n",
              "    </tr>\n",
              "    <tr>\n",
              "      <th>459306</th>\n",
              "      <td>8.0</td>\n",
              "      <td>4.0</td>\n",
              "      <td>225.0</td>\n",
              "      <td>225.0</td>\n",
              "      <td>740000.0</td>\n",
              "      <td>3.621829</td>\n",
              "      <td>3.3725</td>\n",
              "    </tr>\n",
              "    <tr>\n",
              "      <th>459724</th>\n",
              "      <td>8.0</td>\n",
              "      <td>3.0</td>\n",
              "      <td>285.0</td>\n",
              "      <td>272.0</td>\n",
              "      <td>1250000.0</td>\n",
              "      <td>3.621829</td>\n",
              "      <td>3.3725</td>\n",
              "    </tr>\n",
              "    <tr>\n",
              "      <th>459755</th>\n",
              "      <td>8.0</td>\n",
              "      <td>5.0</td>\n",
              "      <td>431.0</td>\n",
              "      <td>415.0</td>\n",
              "      <td>2800000.0</td>\n",
              "      <td>3.621829</td>\n",
              "      <td>3.3725</td>\n",
              "    </tr>\n",
              "    <tr>\n",
              "      <th>459764</th>\n",
              "      <td>8.0</td>\n",
              "      <td>4.0</td>\n",
              "      <td>383.0</td>\n",
              "      <td>383.0</td>\n",
              "      <td>1700000.0</td>\n",
              "      <td>3.621829</td>\n",
              "      <td>3.3725</td>\n",
              "    </tr>\n",
              "    <tr>\n",
              "      <th>459922</th>\n",
              "      <td>10.0</td>\n",
              "      <td>9.0</td>\n",
              "      <td>145.0</td>\n",
              "      <td>145.0</td>\n",
              "      <td>300000.0</td>\n",
              "      <td>5.022605</td>\n",
              "      <td>4.7215</td>\n",
              "    </tr>\n",
              "  </tbody>\n",
              "</table>\n",
              "<p>762 rows × 7 columns</p>\n",
              "</div>"
            ],
            "text/plain": [
              "        property_rooms  property_bedrooms  property_surface_total  \\\n",
              "58                10.0               10.0                   394.0   \n",
              "834                9.0                4.0                   390.0   \n",
              "1040               8.0                6.0                   201.0   \n",
              "1108               8.0                6.0                   201.0   \n",
              "1140              16.0               11.0                 10500.0   \n",
              "...                ...                ...                     ...   \n",
              "459306             8.0                4.0                   225.0   \n",
              "459724             8.0                3.0                   285.0   \n",
              "459755             8.0                5.0                   431.0   \n",
              "459764             8.0                4.0                   383.0   \n",
              "459922            10.0                9.0                   145.0   \n",
              "\n",
              "        property_surface_covered  property_price   z_rooms  zm_rooms  \n",
              "58                         244.0        500000.0  5.022605    4.7215  \n",
              "834                        340.0       1200000.0  4.322217    4.0470  \n",
              "1040                       201.0        345000.0  3.621829    3.3725  \n",
              "1108                       201.0        345000.0  3.621829    3.3725  \n",
              "1140                     10500.0       9900000.0  9.224933    8.7685  \n",
              "...                          ...             ...       ...       ...  \n",
              "459306                     225.0        740000.0  3.621829    3.3725  \n",
              "459724                     272.0       1250000.0  3.621829    3.3725  \n",
              "459755                     415.0       2800000.0  3.621829    3.3725  \n",
              "459764                     383.0       1700000.0  3.621829    3.3725  \n",
              "459922                     145.0        300000.0  5.022605    4.7215  \n",
              "\n",
              "[762 rows x 7 columns]"
            ]
          },
          "execution_count": 99,
          "metadata": {},
          "output_type": "execute_result"
        }
      ],
      "source": [
        "ds_atipicos[ds_atipicos['z_rooms'] > 3 ]"
      ]
    },
    {
      "cell_type": "code",
      "execution_count": 100,
      "metadata": {},
      "outputs": [
        {
          "data": {
            "text/html": [
              "<div>\n",
              "<style scoped>\n",
              "    .dataframe tbody tr th:only-of-type {\n",
              "        vertical-align: middle;\n",
              "    }\n",
              "\n",
              "    .dataframe tbody tr th {\n",
              "        vertical-align: top;\n",
              "    }\n",
              "\n",
              "    .dataframe thead th {\n",
              "        text-align: right;\n",
              "    }\n",
              "</style>\n",
              "<table border=\"1\" class=\"dataframe\">\n",
              "  <thead>\n",
              "    <tr style=\"text-align: right;\">\n",
              "      <th></th>\n",
              "      <th>property_rooms</th>\n",
              "      <th>property_bedrooms</th>\n",
              "      <th>property_surface_total</th>\n",
              "      <th>property_surface_covered</th>\n",
              "      <th>property_price</th>\n",
              "      <th>z_rooms</th>\n",
              "      <th>zm_rooms</th>\n",
              "    </tr>\n",
              "  </thead>\n",
              "  <tbody>\n",
              "  </tbody>\n",
              "</table>\n",
              "</div>"
            ],
            "text/plain": [
              "Empty DataFrame\n",
              "Columns: [property_rooms, property_bedrooms, property_surface_total, property_surface_covered, property_price, z_rooms, zm_rooms]\n",
              "Index: []"
            ]
          },
          "execution_count": 100,
          "metadata": {},
          "output_type": "execute_result"
        }
      ],
      "source": [
        "ds_atipicos[ds_atipicos['z_rooms'] < -3 ]"
      ]
    },
    {
      "cell_type": "code",
      "execution_count": 101,
      "metadata": {},
      "outputs": [
        {
          "data": {
            "text/plain": [
              "<AxesSubplot:ylabel='property_rooms'>"
            ]
          },
          "execution_count": 101,
          "metadata": {},
          "output_type": "execute_result"
        },
        {
          "data": {
            "image/png": "[encoded data removed]",
            "text/plain": [
              "<Figure size 432x288 with 1 Axes>"
            ]
          },
          "metadata": {
            "needs_background": "light"
          },
          "output_type": "display_data"
        }
      ],
      "source": [
        "sns.boxplot(y=ds_atipicos.property_rooms)"
      ]
    },
    {
      "cell_type": "markdown",
      "metadata": {},
      "source": [
        "property_bedrooms"
      ]
    },
    {
      "cell_type": "code",
      "execution_count": 102,
      "metadata": {},
      "outputs": [],
      "source": [
        "#z-score\n",
        "ds_atipicos['z_bedrooms']=st.zscore(ds_atipicos.property_bedrooms)\n",
        "\n",
        "#z-score modificado\n",
        "mediana_bedrooms = np.median(ds_atipicos.property_bedrooms)\n",
        "MAD=np.median(np.absolute(ds_atipicos.property_bedrooms - mediana_bedrooms)) #Mediana de los desvios absolutos\n",
        "ds_atipicos['zm_bedrooms']=(ds_atipicos.property_bedrooms - mediana_bedrooms)*0.6745/MAD"
      ]
    },
    {
      "cell_type": "code",
      "execution_count": 103,
      "metadata": {},
      "outputs": [
        {
          "data": {
            "text/html": [
              "<div>\n",
              "<style scoped>\n",
              "    .dataframe tbody tr th:only-of-type {\n",
              "        vertical-align: middle;\n",
              "    }\n",
              "\n",
              "    .dataframe tbody tr th {\n",
              "        vertical-align: top;\n",
              "    }\n",
              "\n",
              "    .dataframe thead th {\n",
              "        text-align: right;\n",
              "    }\n",
              "</style>\n",
              "<table border=\"1\" class=\"dataframe\">\n",
              "  <thead>\n",
              "    <tr style=\"text-align: right;\">\n",
              "      <th></th>\n",
              "      <th>property_rooms</th>\n",
              "      <th>property_bedrooms</th>\n",
              "      <th>property_surface_total</th>\n",
              "      <th>property_surface_covered</th>\n",
              "      <th>property_price</th>\n",
              "      <th>z_rooms</th>\n",
              "      <th>zm_rooms</th>\n",
              "      <th>z_bedrooms</th>\n",
              "      <th>zm_bedrooms</th>\n",
              "    </tr>\n",
              "  </thead>\n",
              "  <tbody>\n",
              "    <tr>\n",
              "      <th>58</th>\n",
              "      <td>10.0</td>\n",
              "      <td>10.0</td>\n",
              "      <td>394.0</td>\n",
              "      <td>244.0</td>\n",
              "      <td>500000.0</td>\n",
              "      <td>5.022605</td>\n",
              "      <td>4.7215</td>\n",
              "      <td>7.275366</td>\n",
              "      <td>5.3960</td>\n",
              "    </tr>\n",
              "    <tr>\n",
              "      <th>1040</th>\n",
              "      <td>8.0</td>\n",
              "      <td>6.0</td>\n",
              "      <td>201.0</td>\n",
              "      <td>201.0</td>\n",
              "      <td>345000.0</td>\n",
              "      <td>3.621829</td>\n",
              "      <td>3.3725</td>\n",
              "      <td>3.679047</td>\n",
              "      <td>2.6980</td>\n",
              "    </tr>\n",
              "    <tr>\n",
              "      <th>1108</th>\n",
              "      <td>8.0</td>\n",
              "      <td>6.0</td>\n",
              "      <td>201.0</td>\n",
              "      <td>201.0</td>\n",
              "      <td>345000.0</td>\n",
              "      <td>3.621829</td>\n",
              "      <td>3.3725</td>\n",
              "      <td>3.679047</td>\n",
              "      <td>2.6980</td>\n",
              "    </tr>\n",
              "    <tr>\n",
              "      <th>1140</th>\n",
              "      <td>16.0</td>\n",
              "      <td>11.0</td>\n",
              "      <td>10500.0</td>\n",
              "      <td>10500.0</td>\n",
              "      <td>9900000.0</td>\n",
              "      <td>9.224933</td>\n",
              "      <td>8.7685</td>\n",
              "      <td>8.174446</td>\n",
              "      <td>6.0705</td>\n",
              "    </tr>\n",
              "    <tr>\n",
              "      <th>1349</th>\n",
              "      <td>8.0</td>\n",
              "      <td>6.0</td>\n",
              "      <td>201.0</td>\n",
              "      <td>201.0</td>\n",
              "      <td>345000.0</td>\n",
              "      <td>3.621829</td>\n",
              "      <td>3.3725</td>\n",
              "      <td>3.679047</td>\n",
              "      <td>2.6980</td>\n",
              "    </tr>\n",
              "    <tr>\n",
              "      <th>...</th>\n",
              "      <td>...</td>\n",
              "      <td>...</td>\n",
              "      <td>...</td>\n",
              "      <td>...</td>\n",
              "      <td>...</td>\n",
              "      <td>...</td>\n",
              "      <td>...</td>\n",
              "      <td>...</td>\n",
              "      <td>...</td>\n",
              "    </tr>\n",
              "    <tr>\n",
              "      <th>457366</th>\n",
              "      <td>7.0</td>\n",
              "      <td>6.0</td>\n",
              "      <td>280.0</td>\n",
              "      <td>230.0</td>\n",
              "      <td>426000.0</td>\n",
              "      <td>2.921441</td>\n",
              "      <td>2.6980</td>\n",
              "      <td>3.679047</td>\n",
              "      <td>2.6980</td>\n",
              "    </tr>\n",
              "    <tr>\n",
              "      <th>457782</th>\n",
              "      <td>10.0</td>\n",
              "      <td>6.0</td>\n",
              "      <td>520.0</td>\n",
              "      <td>500.0</td>\n",
              "      <td>3300000.0</td>\n",
              "      <td>5.022605</td>\n",
              "      <td>4.7215</td>\n",
              "      <td>3.679047</td>\n",
              "      <td>2.6980</td>\n",
              "    </tr>\n",
              "    <tr>\n",
              "      <th>458670</th>\n",
              "      <td>5.0</td>\n",
              "      <td>6.0</td>\n",
              "      <td>125.0</td>\n",
              "      <td>100.0</td>\n",
              "      <td>265000.0</td>\n",
              "      <td>1.520665</td>\n",
              "      <td>1.3490</td>\n",
              "      <td>3.679047</td>\n",
              "      <td>2.6980</td>\n",
              "    </tr>\n",
              "    <tr>\n",
              "      <th>458873</th>\n",
              "      <td>12.0</td>\n",
              "      <td>12.0</td>\n",
              "      <td>820.0</td>\n",
              "      <td>820.0</td>\n",
              "      <td>550000.0</td>\n",
              "      <td>6.423381</td>\n",
              "      <td>6.0705</td>\n",
              "      <td>9.073525</td>\n",
              "      <td>6.7450</td>\n",
              "    </tr>\n",
              "    <tr>\n",
              "      <th>459922</th>\n",
              "      <td>10.0</td>\n",
              "      <td>9.0</td>\n",
              "      <td>145.0</td>\n",
              "      <td>145.0</td>\n",
              "      <td>300000.0</td>\n",
              "      <td>5.022605</td>\n",
              "      <td>4.7215</td>\n",
              "      <td>6.376286</td>\n",
              "      <td>4.7215</td>\n",
              "    </tr>\n",
              "  </tbody>\n",
              "</table>\n",
              "<p>520 rows × 9 columns</p>\n",
              "</div>"
            ],
            "text/plain": [
              "        property_rooms  property_bedrooms  property_surface_total  \\\n",
              "58                10.0               10.0                   394.0   \n",
              "1040               8.0                6.0                   201.0   \n",
              "1108               8.0                6.0                   201.0   \n",
              "1140              16.0               11.0                 10500.0   \n",
              "1349               8.0                6.0                   201.0   \n",
              "...                ...                ...                     ...   \n",
              "457366             7.0                6.0                   280.0   \n",
              "457782            10.0                6.0                   520.0   \n",
              "458670             5.0                6.0                   125.0   \n",
              "458873            12.0               12.0                   820.0   \n",
              "459922            10.0                9.0                   145.0   \n",
              "\n",
              "        property_surface_covered  property_price   z_rooms  zm_rooms  \\\n",
              "58                         244.0        500000.0  5.022605    4.7215   \n",
              "1040                       201.0        345000.0  3.621829    3.3725   \n",
              "1108                       201.0        345000.0  3.621829    3.3725   \n",
              "1140                     10500.0       9900000.0  9.224933    8.7685   \n",
              "1349                       201.0        345000.0  3.621829    3.3725   \n",
              "...                          ...             ...       ...       ...   \n",
              "457366                     230.0        426000.0  2.921441    2.6980   \n",
              "457782                     500.0       3300000.0  5.022605    4.7215   \n",
              "458670                     100.0        265000.0  1.520665    1.3490   \n",
              "458873                     820.0        550000.0  6.423381    6.0705   \n",
              "459922                     145.0        300000.0  5.022605    4.7215   \n",
              "\n",
              "        z_bedrooms  zm_bedrooms  \n",
              "58        7.275366       5.3960  \n",
              "1040      3.679047       2.6980  \n",
              "1108      3.679047       2.6980  \n",
              "1140      8.174446       6.0705  \n",
              "1349      3.679047       2.6980  \n",
              "...            ...          ...  \n",
              "457366    3.679047       2.6980  \n",
              "457782    3.679047       2.6980  \n",
              "458670    3.679047       2.6980  \n",
              "458873    9.073525       6.7450  \n",
              "459922    6.376286       4.7215  \n",
              "\n",
              "[520 rows x 9 columns]"
            ]
          },
          "execution_count": 103,
          "metadata": {},
          "output_type": "execute_result"
        }
      ],
      "source": [
        "ds_atipicos[ds_atipicos['z_bedrooms'] > 3 ]"
      ]
    },
    {
      "cell_type": "code",
      "execution_count": 104,
      "metadata": {},
      "outputs": [
        {
          "data": {
            "text/html": [
              "<div>\n",
              "<style scoped>\n",
              "    .dataframe tbody tr th:only-of-type {\n",
              "        vertical-align: middle;\n",
              "    }\n",
              "\n",
              "    .dataframe tbody tr th {\n",
              "        vertical-align: top;\n",
              "    }\n",
              "\n",
              "    .dataframe thead th {\n",
              "        text-align: right;\n",
              "    }\n",
              "</style>\n",
              "<table border=\"1\" class=\"dataframe\">\n",
              "  <thead>\n",
              "    <tr style=\"text-align: right;\">\n",
              "      <th></th>\n",
              "      <th>property_rooms</th>\n",
              "      <th>property_bedrooms</th>\n",
              "      <th>property_surface_total</th>\n",
              "      <th>property_surface_covered</th>\n",
              "      <th>property_price</th>\n",
              "      <th>z_rooms</th>\n",
              "      <th>zm_rooms</th>\n",
              "      <th>z_bedrooms</th>\n",
              "      <th>zm_bedrooms</th>\n",
              "    </tr>\n",
              "  </thead>\n",
              "  <tbody>\n",
              "  </tbody>\n",
              "</table>\n",
              "</div>"
            ],
            "text/plain": [
              "Empty DataFrame\n",
              "Columns: [property_rooms, property_bedrooms, property_surface_total, property_surface_covered, property_price, z_rooms, zm_rooms, z_bedrooms, zm_bedrooms]\n",
              "Index: []"
            ]
          },
          "execution_count": 104,
          "metadata": {},
          "output_type": "execute_result"
        }
      ],
      "source": [
        "ds_atipicos[ds_atipicos['z_bedrooms'] < -3 ]"
      ]
    },
    {
      "cell_type": "code",
      "execution_count": 105,
      "metadata": {},
      "outputs": [
        {
          "data": {
            "text/plain": [
              "<AxesSubplot:ylabel='property_bedrooms'>"
            ]
          },
          "execution_count": 105,
          "metadata": {},
          "output_type": "execute_result"
        },
        {
          "data": {
            "image/png": "[encoded data removed]",
            "text/plain": [
              "<Figure size 432x288 with 1 Axes>"
            ]
          },
          "metadata": {
            "needs_background": "light"
          },
          "output_type": "display_data"
        }
      ],
      "source": [
        "sns.boxplot(y=ds_atipicos.property_bedrooms)"
      ]
    },
    {
      "cell_type": "markdown",
      "metadata": {},
      "source": [
        "property_surface_total"
      ]
    },
    {
      "cell_type": "code",
      "execution_count": 106,
      "metadata": {},
      "outputs": [
        {
          "data": {
            "text/html": [
              "<div>\n",
              "<style scoped>\n",
              "    .dataframe tbody tr th:only-of-type {\n",
              "        vertical-align: middle;\n",
              "    }\n",
              "\n",
              "    .dataframe tbody tr th {\n",
              "        vertical-align: top;\n",
              "    }\n",
              "\n",
              "    .dataframe thead th {\n",
              "        text-align: right;\n",
              "    }\n",
              "</style>\n",
              "<table border=\"1\" class=\"dataframe\">\n",
              "  <thead>\n",
              "    <tr style=\"text-align: right;\">\n",
              "      <th></th>\n",
              "      <th>property_rooms</th>\n",
              "      <th>property_bedrooms</th>\n",
              "      <th>property_surface_total</th>\n",
              "      <th>property_surface_covered</th>\n",
              "      <th>property_price</th>\n",
              "      <th>z_rooms</th>\n",
              "      <th>zm_rooms</th>\n",
              "      <th>z_bedrooms</th>\n",
              "      <th>zm_bedrooms</th>\n",
              "      <th>z_surface_total</th>\n",
              "    </tr>\n",
              "  </thead>\n",
              "  <tbody>\n",
              "    <tr>\n",
              "      <th>1140</th>\n",
              "      <td>16.0</td>\n",
              "      <td>11.0</td>\n",
              "      <td>10500.0</td>\n",
              "      <td>10500.0</td>\n",
              "      <td>9900000.0</td>\n",
              "      <td>9.224933</td>\n",
              "      <td>8.7685</td>\n",
              "      <td>8.174446</td>\n",
              "      <td>6.0705</td>\n",
              "      <td>9.132524</td>\n",
              "    </tr>\n",
              "    <tr>\n",
              "      <th>1932</th>\n",
              "      <td>13.0</td>\n",
              "      <td>10.0</td>\n",
              "      <td>186273.0</td>\n",
              "      <td>217000.0</td>\n",
              "      <td>250000.0</td>\n",
              "      <td>7.123769</td>\n",
              "      <td>6.7450</td>\n",
              "      <td>7.275366</td>\n",
              "      <td>5.3960</td>\n",
              "      <td>163.633791</td>\n",
              "    </tr>\n",
              "    <tr>\n",
              "      <th>33017</th>\n",
              "      <td>1.0</td>\n",
              "      <td>1.0</td>\n",
              "      <td>4428.0</td>\n",
              "      <td>31.0</td>\n",
              "      <td>58552.0</td>\n",
              "      <td>-1.280887</td>\n",
              "      <td>-1.3490</td>\n",
              "      <td>-0.816352</td>\n",
              "      <td>-0.6745</td>\n",
              "      <td>3.795347</td>\n",
              "    </tr>\n",
              "    <tr>\n",
              "      <th>34123</th>\n",
              "      <td>4.0</td>\n",
              "      <td>3.0</td>\n",
              "      <td>5000.0</td>\n",
              "      <td>109.0</td>\n",
              "      <td>418000.0</td>\n",
              "      <td>0.820277</td>\n",
              "      <td>0.6745</td>\n",
              "      <td>0.981808</td>\n",
              "      <td>0.6745</td>\n",
              "      <td>4.298124</td>\n",
              "    </tr>\n",
              "    <tr>\n",
              "      <th>35536</th>\n",
              "      <td>1.0</td>\n",
              "      <td>1.0</td>\n",
              "      <td>3660.0</td>\n",
              "      <td>33.0</td>\n",
              "      <td>98000.0</td>\n",
              "      <td>-1.280887</td>\n",
              "      <td>-1.3490</td>\n",
              "      <td>-0.816352</td>\n",
              "      <td>-0.6745</td>\n",
              "      <td>3.120289</td>\n",
              "    </tr>\n",
              "    <tr>\n",
              "      <th>72316</th>\n",
              "      <td>2.0</td>\n",
              "      <td>1.0</td>\n",
              "      <td>61130.0</td>\n",
              "      <td>53030.0</td>\n",
              "      <td>225000.0</td>\n",
              "      <td>-0.580499</td>\n",
              "      <td>-0.6745</td>\n",
              "      <td>-0.816352</td>\n",
              "      <td>-0.6745</td>\n",
              "      <td>53.635373</td>\n",
              "    </tr>\n",
              "    <tr>\n",
              "      <th>72521</th>\n",
              "      <td>2.0</td>\n",
              "      <td>1.0</td>\n",
              "      <td>33800.0</td>\n",
              "      <td>31670.0</td>\n",
              "      <td>66000.0</td>\n",
              "      <td>-0.580499</td>\n",
              "      <td>-0.6745</td>\n",
              "      <td>-0.816352</td>\n",
              "      <td>-0.6745</td>\n",
              "      <td>29.612800</td>\n",
              "    </tr>\n",
              "    <tr>\n",
              "      <th>84073</th>\n",
              "      <td>1.0</td>\n",
              "      <td>1.0</td>\n",
              "      <td>36000.0</td>\n",
              "      <td>30.0</td>\n",
              "      <td>90000.0</td>\n",
              "      <td>-1.280887</td>\n",
              "      <td>-1.3490</td>\n",
              "      <td>-0.816352</td>\n",
              "      <td>-0.6745</td>\n",
              "      <td>31.546560</td>\n",
              "    </tr>\n",
              "    <tr>\n",
              "      <th>94789</th>\n",
              "      <td>2.0</td>\n",
              "      <td>1.0</td>\n",
              "      <td>5312.0</td>\n",
              "      <td>4809.0</td>\n",
              "      <td>145000.0</td>\n",
              "      <td>-0.580499</td>\n",
              "      <td>-0.6745</td>\n",
              "      <td>-0.816352</td>\n",
              "      <td>-0.6745</td>\n",
              "      <td>4.572367</td>\n",
              "    </tr>\n",
              "    <tr>\n",
              "      <th>104177</th>\n",
              "      <td>1.0</td>\n",
              "      <td>1.0</td>\n",
              "      <td>3623.0</td>\n",
              "      <td>3615.0</td>\n",
              "      <td>110000.0</td>\n",
              "      <td>-1.280887</td>\n",
              "      <td>-1.3490</td>\n",
              "      <td>-0.816352</td>\n",
              "      <td>-0.6745</td>\n",
              "      <td>3.087766</td>\n",
              "    </tr>\n",
              "    <tr>\n",
              "      <th>106598</th>\n",
              "      <td>2.0</td>\n",
              "      <td>1.0</td>\n",
              "      <td>56740.0</td>\n",
              "      <td>52540.0</td>\n",
              "      <td>175000.0</td>\n",
              "      <td>-0.580499</td>\n",
              "      <td>-0.6745</td>\n",
              "      <td>-0.816352</td>\n",
              "      <td>-0.6745</td>\n",
              "      <td>49.776642</td>\n",
              "    </tr>\n",
              "    <tr>\n",
              "      <th>117835</th>\n",
              "      <td>2.0</td>\n",
              "      <td>1.0</td>\n",
              "      <td>43086.0</td>\n",
              "      <td>40038.0</td>\n",
              "      <td>114000.0</td>\n",
              "      <td>-0.580499</td>\n",
              "      <td>-0.6745</td>\n",
              "      <td>-0.816352</td>\n",
              "      <td>-0.6745</td>\n",
              "      <td>37.775025</td>\n",
              "    </tr>\n",
              "    <tr>\n",
              "      <th>118019</th>\n",
              "      <td>1.0</td>\n",
              "      <td>1.0</td>\n",
              "      <td>4100.0</td>\n",
              "      <td>38.0</td>\n",
              "      <td>67300.0</td>\n",
              "      <td>-1.280887</td>\n",
              "      <td>-1.3490</td>\n",
              "      <td>-0.816352</td>\n",
              "      <td>-0.6745</td>\n",
              "      <td>3.507041</td>\n",
              "    </tr>\n",
              "    <tr>\n",
              "      <th>126869</th>\n",
              "      <td>1.0</td>\n",
              "      <td>1.0</td>\n",
              "      <td>31000.0</td>\n",
              "      <td>26.0</td>\n",
              "      <td>51100.0</td>\n",
              "      <td>-1.280887</td>\n",
              "      <td>-1.3490</td>\n",
              "      <td>-0.816352</td>\n",
              "      <td>-0.6745</td>\n",
              "      <td>27.151651</td>\n",
              "    </tr>\n",
              "    <tr>\n",
              "      <th>129214</th>\n",
              "      <td>5.0</td>\n",
              "      <td>3.0</td>\n",
              "      <td>137000.0</td>\n",
              "      <td>135.0</td>\n",
              "      <td>390000.0</td>\n",
              "      <td>1.520665</td>\n",
              "      <td>1.3490</td>\n",
              "      <td>0.981808</td>\n",
              "      <td>0.6745</td>\n",
              "      <td>120.323721</td>\n",
              "    </tr>\n",
              "    <tr>\n",
              "      <th>149946</th>\n",
              "      <td>3.0</td>\n",
              "      <td>2.0</td>\n",
              "      <td>5736.0</td>\n",
              "      <td>57.0</td>\n",
              "      <td>169000.0</td>\n",
              "      <td>0.119889</td>\n",
              "      <td>0.0000</td>\n",
              "      <td>0.082728</td>\n",
              "      <td>0.0000</td>\n",
              "      <td>4.945055</td>\n",
              "    </tr>\n",
              "    <tr>\n",
              "      <th>219021</th>\n",
              "      <td>4.0</td>\n",
              "      <td>3.0</td>\n",
              "      <td>72060.0</td>\n",
              "      <td>90.0</td>\n",
              "      <td>210000.0</td>\n",
              "      <td>0.820277</td>\n",
              "      <td>0.6745</td>\n",
              "      <td>0.981808</td>\n",
              "      <td>0.6745</td>\n",
              "      <td>63.242644</td>\n",
              "    </tr>\n",
              "    <tr>\n",
              "      <th>233699</th>\n",
              "      <td>2.0</td>\n",
              "      <td>1.0</td>\n",
              "      <td>4224.0</td>\n",
              "      <td>4224.0</td>\n",
              "      <td>100000.0</td>\n",
              "      <td>-0.580499</td>\n",
              "      <td>-0.6745</td>\n",
              "      <td>-0.816352</td>\n",
              "      <td>-0.6745</td>\n",
              "      <td>3.616034</td>\n",
              "    </tr>\n",
              "    <tr>\n",
              "      <th>237392</th>\n",
              "      <td>4.0</td>\n",
              "      <td>3.0</td>\n",
              "      <td>20041.0</td>\n",
              "      <td>139.0</td>\n",
              "      <td>390000.0</td>\n",
              "      <td>0.820277</td>\n",
              "      <td>0.6745</td>\n",
              "      <td>0.981808</td>\n",
              "      <td>0.6745</td>\n",
              "      <td>17.518890</td>\n",
              "    </tr>\n",
              "    <tr>\n",
              "      <th>263945</th>\n",
              "      <td>3.0</td>\n",
              "      <td>2.0</td>\n",
              "      <td>9121.0</td>\n",
              "      <td>60.0</td>\n",
              "      <td>160000.0</td>\n",
              "      <td>0.119889</td>\n",
              "      <td>0.0000</td>\n",
              "      <td>0.082728</td>\n",
              "      <td>0.0000</td>\n",
              "      <td>7.920408</td>\n",
              "    </tr>\n",
              "    <tr>\n",
              "      <th>264624</th>\n",
              "      <td>5.0</td>\n",
              "      <td>4.0</td>\n",
              "      <td>14744.0</td>\n",
              "      <td>13717.0</td>\n",
              "      <td>330000.0</td>\n",
              "      <td>1.520665</td>\n",
              "      <td>1.3490</td>\n",
              "      <td>1.880888</td>\n",
              "      <td>1.3490</td>\n",
              "      <td>12.862923</td>\n",
              "    </tr>\n",
              "    <tr>\n",
              "      <th>272412</th>\n",
              "      <td>1.0</td>\n",
              "      <td>1.0</td>\n",
              "      <td>3660.0</td>\n",
              "      <td>33.0</td>\n",
              "      <td>98000.0</td>\n",
              "      <td>-1.280887</td>\n",
              "      <td>-1.3490</td>\n",
              "      <td>-0.816352</td>\n",
              "      <td>-0.6745</td>\n",
              "      <td>3.120289</td>\n",
              "    </tr>\n",
              "    <tr>\n",
              "      <th>275253</th>\n",
              "      <td>1.0</td>\n",
              "      <td>1.0</td>\n",
              "      <td>31000.0</td>\n",
              "      <td>26.0</td>\n",
              "      <td>51100.0</td>\n",
              "      <td>-1.280887</td>\n",
              "      <td>-1.3490</td>\n",
              "      <td>-0.816352</td>\n",
              "      <td>-0.6745</td>\n",
              "      <td>27.151651</td>\n",
              "    </tr>\n",
              "    <tr>\n",
              "      <th>293109</th>\n",
              "      <td>3.0</td>\n",
              "      <td>2.0</td>\n",
              "      <td>5239.0</td>\n",
              "      <td>3460.0</td>\n",
              "      <td>119000.0</td>\n",
              "      <td>0.119889</td>\n",
              "      <td>0.0000</td>\n",
              "      <td>0.082728</td>\n",
              "      <td>0.0000</td>\n",
              "      <td>4.508201</td>\n",
              "    </tr>\n",
              "    <tr>\n",
              "      <th>300394</th>\n",
              "      <td>1.0</td>\n",
              "      <td>1.0</td>\n",
              "      <td>31000.0</td>\n",
              "      <td>26.0</td>\n",
              "      <td>51100.0</td>\n",
              "      <td>-1.280887</td>\n",
              "      <td>-1.3490</td>\n",
              "      <td>-0.816352</td>\n",
              "      <td>-0.6745</td>\n",
              "      <td>27.151651</td>\n",
              "    </tr>\n",
              "    <tr>\n",
              "      <th>304492</th>\n",
              "      <td>1.0</td>\n",
              "      <td>1.0</td>\n",
              "      <td>31000.0</td>\n",
              "      <td>26.0</td>\n",
              "      <td>51100.0</td>\n",
              "      <td>-1.280887</td>\n",
              "      <td>-1.3490</td>\n",
              "      <td>-0.816352</td>\n",
              "      <td>-0.6745</td>\n",
              "      <td>27.151651</td>\n",
              "    </tr>\n",
              "    <tr>\n",
              "      <th>311702</th>\n",
              "      <td>2.0</td>\n",
              "      <td>1.0</td>\n",
              "      <td>3939.0</td>\n",
              "      <td>3939.0</td>\n",
              "      <td>64000.0</td>\n",
              "      <td>-0.580499</td>\n",
              "      <td>-0.6745</td>\n",
              "      <td>-0.816352</td>\n",
              "      <td>-0.6745</td>\n",
              "      <td>3.365525</td>\n",
              "    </tr>\n",
              "    <tr>\n",
              "      <th>313745</th>\n",
              "      <td>6.0</td>\n",
              "      <td>2.0</td>\n",
              "      <td>8988.0</td>\n",
              "      <td>7454.0</td>\n",
              "      <td>125000.0</td>\n",
              "      <td>2.221053</td>\n",
              "      <td>2.0235</td>\n",
              "      <td>0.082728</td>\n",
              "      <td>0.0000</td>\n",
              "      <td>7.803504</td>\n",
              "    </tr>\n",
              "    <tr>\n",
              "      <th>314541</th>\n",
              "      <td>1.0</td>\n",
              "      <td>1.0</td>\n",
              "      <td>5741.0</td>\n",
              "      <td>4276.0</td>\n",
              "      <td>85144.0</td>\n",
              "      <td>-1.280887</td>\n",
              "      <td>-1.3490</td>\n",
              "      <td>-0.816352</td>\n",
              "      <td>-0.6745</td>\n",
              "      <td>4.949450</td>\n",
              "    </tr>\n",
              "    <tr>\n",
              "      <th>324150</th>\n",
              "      <td>2.0</td>\n",
              "      <td>1.0</td>\n",
              "      <td>4053.0</td>\n",
              "      <td>38.0</td>\n",
              "      <td>99000.0</td>\n",
              "      <td>-0.580499</td>\n",
              "      <td>-0.6745</td>\n",
              "      <td>-0.816352</td>\n",
              "      <td>-0.6745</td>\n",
              "      <td>3.465729</td>\n",
              "    </tr>\n",
              "    <tr>\n",
              "      <th>324541</th>\n",
              "      <td>4.0</td>\n",
              "      <td>3.0</td>\n",
              "      <td>20041.0</td>\n",
              "      <td>139.0</td>\n",
              "      <td>390000.0</td>\n",
              "      <td>0.820277</td>\n",
              "      <td>0.6745</td>\n",
              "      <td>0.981808</td>\n",
              "      <td>0.6745</td>\n",
              "      <td>17.518890</td>\n",
              "    </tr>\n",
              "    <tr>\n",
              "      <th>352883</th>\n",
              "      <td>1.0</td>\n",
              "      <td>1.0</td>\n",
              "      <td>29064.0</td>\n",
              "      <td>29064.0</td>\n",
              "      <td>87400.0</td>\n",
              "      <td>-1.280887</td>\n",
              "      <td>-1.3490</td>\n",
              "      <td>-0.816352</td>\n",
              "      <td>-0.6745</td>\n",
              "      <td>25.449942</td>\n",
              "    </tr>\n",
              "    <tr>\n",
              "      <th>353009</th>\n",
              "      <td>1.0</td>\n",
              "      <td>1.0</td>\n",
              "      <td>31000.0</td>\n",
              "      <td>26.0</td>\n",
              "      <td>51100.0</td>\n",
              "      <td>-1.280887</td>\n",
              "      <td>-1.3490</td>\n",
              "      <td>-0.816352</td>\n",
              "      <td>-0.6745</td>\n",
              "      <td>27.151651</td>\n",
              "    </tr>\n",
              "    <tr>\n",
              "      <th>362741</th>\n",
              "      <td>1.0</td>\n",
              "      <td>1.0</td>\n",
              "      <td>31000.0</td>\n",
              "      <td>26.0</td>\n",
              "      <td>51100.0</td>\n",
              "      <td>-1.280887</td>\n",
              "      <td>-1.3490</td>\n",
              "      <td>-0.816352</td>\n",
              "      <td>-0.6745</td>\n",
              "      <td>27.151651</td>\n",
              "    </tr>\n",
              "    <tr>\n",
              "      <th>370917</th>\n",
              "      <td>4.0</td>\n",
              "      <td>3.0</td>\n",
              "      <td>42110.0</td>\n",
              "      <td>222.0</td>\n",
              "      <td>1910920.0</td>\n",
              "      <td>0.820277</td>\n",
              "      <td>0.6745</td>\n",
              "      <td>0.981808</td>\n",
              "      <td>0.6745</td>\n",
              "      <td>36.917139</td>\n",
              "    </tr>\n",
              "    <tr>\n",
              "      <th>370918</th>\n",
              "      <td>4.0</td>\n",
              "      <td>3.0</td>\n",
              "      <td>42110.0</td>\n",
              "      <td>307.0</td>\n",
              "      <td>1568760.0</td>\n",
              "      <td>0.820277</td>\n",
              "      <td>0.6745</td>\n",
              "      <td>0.981808</td>\n",
              "      <td>0.6745</td>\n",
              "      <td>36.917139</td>\n",
              "    </tr>\n",
              "    <tr>\n",
              "      <th>370919</th>\n",
              "      <td>5.0</td>\n",
              "      <td>4.0</td>\n",
              "      <td>42110.0</td>\n",
              "      <td>307.0</td>\n",
              "      <td>3044250.0</td>\n",
              "      <td>1.520665</td>\n",
              "      <td>1.3490</td>\n",
              "      <td>1.880888</td>\n",
              "      <td>1.3490</td>\n",
              "      <td>36.917139</td>\n",
              "    </tr>\n",
              "    <tr>\n",
              "      <th>370920</th>\n",
              "      <td>5.0</td>\n",
              "      <td>4.0</td>\n",
              "      <td>42110.0</td>\n",
              "      <td>307.0</td>\n",
              "      <td>2890500.0</td>\n",
              "      <td>1.520665</td>\n",
              "      <td>1.3490</td>\n",
              "      <td>1.880888</td>\n",
              "      <td>1.3490</td>\n",
              "      <td>36.917139</td>\n",
              "    </tr>\n",
              "    <tr>\n",
              "      <th>370921</th>\n",
              "      <td>5.0</td>\n",
              "      <td>4.0</td>\n",
              "      <td>42110.0</td>\n",
              "      <td>307.0</td>\n",
              "      <td>2890500.0</td>\n",
              "      <td>1.520665</td>\n",
              "      <td>1.3490</td>\n",
              "      <td>1.880888</td>\n",
              "      <td>1.3490</td>\n",
              "      <td>36.917139</td>\n",
              "    </tr>\n",
              "    <tr>\n",
              "      <th>370922</th>\n",
              "      <td>5.0</td>\n",
              "      <td>4.0</td>\n",
              "      <td>42110.0</td>\n",
              "      <td>307.0</td>\n",
              "      <td>2829000.0</td>\n",
              "      <td>1.520665</td>\n",
              "      <td>1.3490</td>\n",
              "      <td>1.880888</td>\n",
              "      <td>1.3490</td>\n",
              "      <td>36.917139</td>\n",
              "    </tr>\n",
              "    <tr>\n",
              "      <th>370932</th>\n",
              "      <td>4.0</td>\n",
              "      <td>3.0</td>\n",
              "      <td>42110.0</td>\n",
              "      <td>307.0</td>\n",
              "      <td>1691800.0</td>\n",
              "      <td>0.820277</td>\n",
              "      <td>0.6745</td>\n",
              "      <td>0.981808</td>\n",
              "      <td>0.6745</td>\n",
              "      <td>36.917139</td>\n",
              "    </tr>\n",
              "    <tr>\n",
              "      <th>372779</th>\n",
              "      <td>4.0</td>\n",
              "      <td>3.0</td>\n",
              "      <td>100068.0</td>\n",
              "      <td>100051.0</td>\n",
              "      <td>420000.0</td>\n",
              "      <td>0.820277</td>\n",
              "      <td>0.6745</td>\n",
              "      <td>0.981808</td>\n",
              "      <td>0.6745</td>\n",
              "      <td>87.861166</td>\n",
              "    </tr>\n",
              "    <tr>\n",
              "      <th>398069</th>\n",
              "      <td>2.0</td>\n",
              "      <td>1.0</td>\n",
              "      <td>6470.0</td>\n",
              "      <td>4664.0</td>\n",
              "      <td>149900.0</td>\n",
              "      <td>-0.580499</td>\n",
              "      <td>-0.6745</td>\n",
              "      <td>-0.816352</td>\n",
              "      <td>-0.6745</td>\n",
              "      <td>5.590228</td>\n",
              "    </tr>\n",
              "    <tr>\n",
              "      <th>400155</th>\n",
              "      <td>2.0</td>\n",
              "      <td>1.0</td>\n",
              "      <td>4632.0</td>\n",
              "      <td>42.0</td>\n",
              "      <td>129000.0</td>\n",
              "      <td>-0.580499</td>\n",
              "      <td>-0.6745</td>\n",
              "      <td>-0.816352</td>\n",
              "      <td>-0.6745</td>\n",
              "      <td>3.974659</td>\n",
              "    </tr>\n",
              "    <tr>\n",
              "      <th>405272</th>\n",
              "      <td>4.0</td>\n",
              "      <td>3.0</td>\n",
              "      <td>8306.0</td>\n",
              "      <td>7755.0</td>\n",
              "      <td>129000.0</td>\n",
              "      <td>0.820277</td>\n",
              "      <td>0.6745</td>\n",
              "      <td>0.981808</td>\n",
              "      <td>0.6745</td>\n",
              "      <td>7.204038</td>\n",
              "    </tr>\n",
              "    <tr>\n",
              "      <th>405324</th>\n",
              "      <td>4.0</td>\n",
              "      <td>3.0</td>\n",
              "      <td>123000.0</td>\n",
              "      <td>123000.0</td>\n",
              "      <td>165000.0</td>\n",
              "      <td>0.820277</td>\n",
              "      <td>0.6745</td>\n",
              "      <td>0.981808</td>\n",
              "      <td>0.6745</td>\n",
              "      <td>108.017976</td>\n",
              "    </tr>\n",
              "    <tr>\n",
              "      <th>442647</th>\n",
              "      <td>3.0</td>\n",
              "      <td>2.0</td>\n",
              "      <td>6836.0</td>\n",
              "      <td>64.0</td>\n",
              "      <td>240000.0</td>\n",
              "      <td>0.119889</td>\n",
              "      <td>0.0000</td>\n",
              "      <td>0.082728</td>\n",
              "      <td>0.0000</td>\n",
              "      <td>5.911935</td>\n",
              "    </tr>\n",
              "    <tr>\n",
              "      <th>449755</th>\n",
              "      <td>2.0</td>\n",
              "      <td>1.0</td>\n",
              "      <td>4112.0</td>\n",
              "      <td>46.0</td>\n",
              "      <td>99900.0</td>\n",
              "      <td>-0.580499</td>\n",
              "      <td>-0.6745</td>\n",
              "      <td>-0.816352</td>\n",
              "      <td>-0.6745</td>\n",
              "      <td>3.517588</td>\n",
              "    </tr>\n",
              "    <tr>\n",
              "      <th>459588</th>\n",
              "      <td>3.0</td>\n",
              "      <td>2.0</td>\n",
              "      <td>6609.0</td>\n",
              "      <td>60.0</td>\n",
              "      <td>210000.0</td>\n",
              "      <td>0.119889</td>\n",
              "      <td>0.0000</td>\n",
              "      <td>0.082728</td>\n",
              "      <td>0.0000</td>\n",
              "      <td>5.712406</td>\n",
              "    </tr>\n",
              "    <tr>\n",
              "      <th>459841</th>\n",
              "      <td>3.0</td>\n",
              "      <td>2.0</td>\n",
              "      <td>7153.0</td>\n",
              "      <td>7153.0</td>\n",
              "      <td>177807.0</td>\n",
              "      <td>0.119889</td>\n",
              "      <td>0.0000</td>\n",
              "      <td>0.082728</td>\n",
              "      <td>0.0000</td>\n",
              "      <td>6.190572</td>\n",
              "    </tr>\n",
              "    <tr>\n",
              "      <th>459842</th>\n",
              "      <td>3.0</td>\n",
              "      <td>2.0</td>\n",
              "      <td>8136.0</td>\n",
              "      <td>6472.0</td>\n",
              "      <td>203550.0</td>\n",
              "      <td>0.119889</td>\n",
              "      <td>0.0000</td>\n",
              "      <td>0.082728</td>\n",
              "      <td>0.0000</td>\n",
              "      <td>7.054611</td>\n",
              "    </tr>\n",
              "    <tr>\n",
              "      <th>459847</th>\n",
              "      <td>4.0</td>\n",
              "      <td>3.0</td>\n",
              "      <td>18096.0</td>\n",
              "      <td>8568.0</td>\n",
              "      <td>324558.0</td>\n",
              "      <td>0.820277</td>\n",
              "      <td>0.6745</td>\n",
              "      <td>0.981808</td>\n",
              "      <td>0.6745</td>\n",
              "      <td>15.809270</td>\n",
              "    </tr>\n",
              "    <tr>\n",
              "      <th>459849</th>\n",
              "      <td>3.0</td>\n",
              "      <td>2.0</td>\n",
              "      <td>7720.0</td>\n",
              "      <td>5970.0</td>\n",
              "      <td>167894.0</td>\n",
              "      <td>0.119889</td>\n",
              "      <td>0.0000</td>\n",
              "      <td>0.082728</td>\n",
              "      <td>0.0000</td>\n",
              "      <td>6.688955</td>\n",
              "    </tr>\n",
              "  </tbody>\n",
              "</table>\n",
              "</div>"
            ],
            "text/plain": [
              "        property_rooms  property_bedrooms  property_surface_total  \\\n",
              "1140              16.0               11.0                 10500.0   \n",
              "1932              13.0               10.0                186273.0   \n",
              "33017              1.0                1.0                  4428.0   \n",
              "34123              4.0                3.0                  5000.0   \n",
              "35536              1.0                1.0                  3660.0   \n",
              "72316              2.0                1.0                 61130.0   \n",
              "72521              2.0                1.0                 33800.0   \n",
              "84073              1.0                1.0                 36000.0   \n",
              "94789              2.0                1.0                  5312.0   \n",
              "104177             1.0                1.0                  3623.0   \n",
              "106598             2.0                1.0                 56740.0   \n",
              "117835             2.0                1.0                 43086.0   \n",
              "118019             1.0                1.0                  4100.0   \n",
              "126869             1.0                1.0                 31000.0   \n",
              "129214             5.0                3.0                137000.0   \n",
              "149946             3.0                2.0                  5736.0   \n",
              "219021             4.0                3.0                 72060.0   \n",
              "233699             2.0                1.0                  4224.0   \n",
              "237392             4.0                3.0                 20041.0   \n",
              "263945             3.0                2.0                  9121.0   \n",
              "264624             5.0                4.0                 14744.0   \n",
              "272412             1.0                1.0                  3660.0   \n",
              "275253             1.0                1.0                 31000.0   \n",
              "293109             3.0                2.0                  5239.0   \n",
              "300394             1.0                1.0                 31000.0   \n",
              "304492             1.0                1.0                 31000.0   \n",
              "311702             2.0                1.0                  3939.0   \n",
              "313745             6.0                2.0                  8988.0   \n",
              "314541             1.0                1.0                  5741.0   \n",
              "324150             2.0                1.0                  4053.0   \n",
              "324541             4.0                3.0                 20041.0   \n",
              "352883             1.0                1.0                 29064.0   \n",
              "353009             1.0                1.0                 31000.0   \n",
              "362741             1.0                1.0                 31000.0   \n",
              "370917             4.0                3.0                 42110.0   \n",
              "370918             4.0                3.0                 42110.0   \n",
              "370919             5.0                4.0                 42110.0   \n",
              "370920             5.0                4.0                 42110.0   \n",
              "370921             5.0                4.0                 42110.0   \n",
              "370922             5.0                4.0                 42110.0   \n",
              "370932             4.0                3.0                 42110.0   \n",
              "372779             4.0                3.0                100068.0   \n",
              "398069             2.0                1.0                  6470.0   \n",
              "400155             2.0                1.0                  4632.0   \n",
              "405272             4.0                3.0                  8306.0   \n",
              "405324             4.0                3.0                123000.0   \n",
              "442647             3.0                2.0                  6836.0   \n",
              "449755             2.0                1.0                  4112.0   \n",
              "459588             3.0                2.0                  6609.0   \n",
              "459841             3.0                2.0                  7153.0   \n",
              "459842             3.0                2.0                  8136.0   \n",
              "459847             4.0                3.0                 18096.0   \n",
              "459849             3.0                2.0                  7720.0   \n",
              "\n",
              "        property_surface_covered  property_price   z_rooms  zm_rooms  \\\n",
              "1140                     10500.0       9900000.0  9.224933    8.7685   \n",
              "1932                    217000.0        250000.0  7.123769    6.7450   \n",
              "33017                       31.0         58552.0 -1.280887   -1.3490   \n",
              "34123                      109.0        418000.0  0.820277    0.6745   \n",
              "35536                       33.0         98000.0 -1.280887   -1.3490   \n",
              "72316                    53030.0        225000.0 -0.580499   -0.6745   \n",
              "72521                    31670.0         66000.0 -0.580499   -0.6745   \n",
              "84073                       30.0         90000.0 -1.280887   -1.3490   \n",
              "94789                     4809.0        145000.0 -0.580499   -0.6745   \n",
              "104177                    3615.0        110000.0 -1.280887   -1.3490   \n",
              "106598                   52540.0        175000.0 -0.580499   -0.6745   \n",
              "117835                   40038.0        114000.0 -0.580499   -0.6745   \n",
              "118019                      38.0         67300.0 -1.280887   -1.3490   \n",
              "126869                      26.0         51100.0 -1.280887   -1.3490   \n",
              "129214                     135.0        390000.0  1.520665    1.3490   \n",
              "149946                      57.0        169000.0  0.119889    0.0000   \n",
              "219021                      90.0        210000.0  0.820277    0.6745   \n",
              "233699                    4224.0        100000.0 -0.580499   -0.6745   \n",
              "237392                     139.0        390000.0  0.820277    0.6745   \n",
              "263945                      60.0        160000.0  0.119889    0.0000   \n",
              "264624                   13717.0        330000.0  1.520665    1.3490   \n",
              "272412                      33.0         98000.0 -1.280887   -1.3490   \n",
              "275253                      26.0         51100.0 -1.280887   -1.3490   \n",
              "293109                    3460.0        119000.0  0.119889    0.0000   \n",
              "300394                      26.0         51100.0 -1.280887   -1.3490   \n",
              "304492                      26.0         51100.0 -1.280887   -1.3490   \n",
              "311702                    3939.0         64000.0 -0.580499   -0.6745   \n",
              "313745                    7454.0        125000.0  2.221053    2.0235   \n",
              "314541                    4276.0         85144.0 -1.280887   -1.3490   \n",
              "324150                      38.0         99000.0 -0.580499   -0.6745   \n",
              "324541                     139.0        390000.0  0.820277    0.6745   \n",
              "352883                   29064.0         87400.0 -1.280887   -1.3490   \n",
              "353009                      26.0         51100.0 -1.280887   -1.3490   \n",
              "362741                      26.0         51100.0 -1.280887   -1.3490   \n",
              "370917                     222.0       1910920.0  0.820277    0.6745   \n",
              "370918                     307.0       1568760.0  0.820277    0.6745   \n",
              "370919                     307.0       3044250.0  1.520665    1.3490   \n",
              "370920                     307.0       2890500.0  1.520665    1.3490   \n",
              "370921                     307.0       2890500.0  1.520665    1.3490   \n",
              "370922                     307.0       2829000.0  1.520665    1.3490   \n",
              "370932                     307.0       1691800.0  0.820277    0.6745   \n",
              "372779                  100051.0        420000.0  0.820277    0.6745   \n",
              "398069                    4664.0        149900.0 -0.580499   -0.6745   \n",
              "400155                      42.0        129000.0 -0.580499   -0.6745   \n",
              "405272                    7755.0        129000.0  0.820277    0.6745   \n",
              "405324                  123000.0        165000.0  0.820277    0.6745   \n",
              "442647                      64.0        240000.0  0.119889    0.0000   \n",
              "449755                      46.0         99900.0 -0.580499   -0.6745   \n",
              "459588                      60.0        210000.0  0.119889    0.0000   \n",
              "459841                    7153.0        177807.0  0.119889    0.0000   \n",
              "459842                    6472.0        203550.0  0.119889    0.0000   \n",
              "459847                    8568.0        324558.0  0.820277    0.6745   \n",
              "459849                    5970.0        167894.0  0.119889    0.0000   \n",
              "\n",
              "        z_bedrooms  zm_bedrooms  z_surface_total  \n",
              "1140      8.174446       6.0705         9.132524  \n",
              "1932      7.275366       5.3960       163.633791  \n",
              "33017    -0.816352      -0.6745         3.795347  \n",
              "34123     0.981808       0.6745         4.298124  \n",
              "35536    -0.816352      -0.6745         3.120289  \n",
              "72316    -0.816352      -0.6745        53.635373  \n",
              "72521    -0.816352      -0.6745        29.612800  \n",
              "84073    -0.816352      -0.6745        31.546560  \n",
              "94789    -0.816352      -0.6745         4.572367  \n",
              "104177   -0.816352      -0.6745         3.087766  \n",
              "106598   -0.816352      -0.6745        49.776642  \n",
              "117835   -0.816352      -0.6745        37.775025  \n",
              "118019   -0.816352      -0.6745         3.507041  \n",
              "126869   -0.816352      -0.6745        27.151651  \n",
              "129214    0.981808       0.6745       120.323721  \n",
              "149946    0.082728       0.0000         4.945055  \n",
              "219021    0.981808       0.6745        63.242644  \n",
              "233699   -0.816352      -0.6745         3.616034  \n",
              "237392    0.981808       0.6745        17.518890  \n",
              "263945    0.082728       0.0000         7.920408  \n",
              "264624    1.880888       1.3490        12.862923  \n",
              "272412   -0.816352      -0.6745         3.120289  \n",
              "275253   -0.816352      -0.6745        27.151651  \n",
              "293109    0.082728       0.0000         4.508201  \n",
              "300394   -0.816352      -0.6745        27.151651  \n",
              "304492   -0.816352      -0.6745        27.151651  \n",
              "311702   -0.816352      -0.6745         3.365525  \n",
              "313745    0.082728       0.0000         7.803504  \n",
              "314541   -0.816352      -0.6745         4.949450  \n",
              "324150   -0.816352      -0.6745         3.465729  \n",
              "324541    0.981808       0.6745        17.518890  \n",
              "352883   -0.816352      -0.6745        25.449942  \n",
              "353009   -0.816352      -0.6745        27.151651  \n",
              "362741   -0.816352      -0.6745        27.151651  \n",
              "370917    0.981808       0.6745        36.917139  \n",
              "370918    0.981808       0.6745        36.917139  \n",
              "370919    1.880888       1.3490        36.917139  \n",
              "370920    1.880888       1.3490        36.917139  \n",
              "370921    1.880888       1.3490        36.917139  \n",
              "370922    1.880888       1.3490        36.917139  \n",
              "370932    0.981808       0.6745        36.917139  \n",
              "372779    0.981808       0.6745        87.861166  \n",
              "398069   -0.816352      -0.6745         5.590228  \n",
              "400155   -0.816352      -0.6745         3.974659  \n",
              "405272    0.981808       0.6745         7.204038  \n",
              "405324    0.981808       0.6745       108.017976  \n",
              "442647    0.082728       0.0000         5.911935  \n",
              "449755   -0.816352      -0.6745         3.517588  \n",
              "459588    0.082728       0.0000         5.712406  \n",
              "459841    0.082728       0.0000         6.190572  \n",
              "459842    0.082728       0.0000         7.054611  \n",
              "459847    0.981808       0.6745        15.809270  \n",
              "459849    0.082728       0.0000         6.688955  "
            ]
          },
          "execution_count": 106,
          "metadata": {},
          "output_type": "execute_result"
        }
      ],
      "source": [
        "ds_atipicos['z_surface_total']=st.zscore(ds_atipicos.property_surface_total)\n",
        "ds_atipicos[ds_atipicos['z_surface_total'] > 3 ]"
      ]
    },
    {
      "cell_type": "code",
      "execution_count": 107,
      "metadata": {},
      "outputs": [
        {
          "data": {
            "text/plain": [
              "<AxesSubplot:ylabel='property_surface_total'>"
            ]
          },
          "execution_count": 107,
          "metadata": {},
          "output_type": "execute_result"
        },
        {
          "data": {
            "image/png": "[encoded data removed]",
            "text/plain": [
              "<Figure size 432x288 with 1 Axes>"
            ]
          },
          "metadata": {
            "needs_background": "light"
          },
          "output_type": "display_data"
        }
      ],
      "source": [
        "sns.boxplot(y=ds_atipicos.property_surface_total)"
      ]
    },
    {
      "cell_type": "markdown",
      "metadata": {},
      "source": [
        "property_surface_covered"
      ]
    },
    {
      "cell_type": "code",
      "execution_count": 108,
      "metadata": {},
      "outputs": [
        {
          "data": {
            "text/html": [
              "<div>\n",
              "<style scoped>\n",
              "    .dataframe tbody tr th:only-of-type {\n",
              "        vertical-align: middle;\n",
              "    }\n",
              "\n",
              "    .dataframe tbody tr th {\n",
              "        vertical-align: top;\n",
              "    }\n",
              "\n",
              "    .dataframe thead th {\n",
              "        text-align: right;\n",
              "    }\n",
              "</style>\n",
              "<table border=\"1\" class=\"dataframe\">\n",
              "  <thead>\n",
              "    <tr style=\"text-align: right;\">\n",
              "      <th></th>\n",
              "      <th>property_rooms</th>\n",
              "      <th>property_bedrooms</th>\n",
              "      <th>property_surface_total</th>\n",
              "      <th>property_surface_covered</th>\n",
              "      <th>property_price</th>\n",
              "      <th>z_rooms</th>\n",
              "      <th>zm_rooms</th>\n",
              "      <th>z_bedrooms</th>\n",
              "      <th>zm_bedrooms</th>\n",
              "      <th>z_surface_total</th>\n",
              "      <th>z_surface_covered</th>\n",
              "    </tr>\n",
              "  </thead>\n",
              "  <tbody>\n",
              "    <tr>\n",
              "      <th>1140</th>\n",
              "      <td>16.0</td>\n",
              "      <td>11.0</td>\n",
              "      <td>10500.0</td>\n",
              "      <td>10500.0</td>\n",
              "      <td>9900000.0</td>\n",
              "      <td>9.224933</td>\n",
              "      <td>8.7685</td>\n",
              "      <td>8.174446</td>\n",
              "      <td>6.0705</td>\n",
              "      <td>9.132524</td>\n",
              "      <td>10.476237</td>\n",
              "    </tr>\n",
              "    <tr>\n",
              "      <th>1932</th>\n",
              "      <td>13.0</td>\n",
              "      <td>10.0</td>\n",
              "      <td>186273.0</td>\n",
              "      <td>217000.0</td>\n",
              "      <td>250000.0</td>\n",
              "      <td>7.123769</td>\n",
              "      <td>6.7450</td>\n",
              "      <td>7.275366</td>\n",
              "      <td>5.3960</td>\n",
              "      <td>163.633791</td>\n",
              "      <td>218.235369</td>\n",
              "    </tr>\n",
              "    <tr>\n",
              "      <th>72316</th>\n",
              "      <td>2.0</td>\n",
              "      <td>1.0</td>\n",
              "      <td>61130.0</td>\n",
              "      <td>53030.0</td>\n",
              "      <td>225000.0</td>\n",
              "      <td>-0.580499</td>\n",
              "      <td>-0.6745</td>\n",
              "      <td>-0.816352</td>\n",
              "      <td>-0.6745</td>\n",
              "      <td>53.635373</td>\n",
              "      <td>53.265563</td>\n",
              "    </tr>\n",
              "    <tr>\n",
              "      <th>72521</th>\n",
              "      <td>2.0</td>\n",
              "      <td>1.0</td>\n",
              "      <td>33800.0</td>\n",
              "      <td>31670.0</td>\n",
              "      <td>66000.0</td>\n",
              "      <td>-0.580499</td>\n",
              "      <td>-0.6745</td>\n",
              "      <td>-0.816352</td>\n",
              "      <td>-0.6745</td>\n",
              "      <td>29.612800</td>\n",
              "      <td>31.775321</td>\n",
              "    </tr>\n",
              "    <tr>\n",
              "      <th>85725</th>\n",
              "      <td>5.0</td>\n",
              "      <td>4.0</td>\n",
              "      <td>3197.0</td>\n",
              "      <td>3367.0</td>\n",
              "      <td>12000000.0</td>\n",
              "      <td>1.520665</td>\n",
              "      <td>1.3490</td>\n",
              "      <td>1.880888</td>\n",
              "      <td>1.3490</td>\n",
              "      <td>2.713320</td>\n",
              "      <td>3.299743</td>\n",
              "    </tr>\n",
              "    <tr>\n",
              "      <th>94789</th>\n",
              "      <td>2.0</td>\n",
              "      <td>1.0</td>\n",
              "      <td>5312.0</td>\n",
              "      <td>4809.0</td>\n",
              "      <td>145000.0</td>\n",
              "      <td>-0.580499</td>\n",
              "      <td>-0.6745</td>\n",
              "      <td>-0.816352</td>\n",
              "      <td>-0.6745</td>\n",
              "      <td>4.572367</td>\n",
              "      <td>4.750536</td>\n",
              "    </tr>\n",
              "    <tr>\n",
              "      <th>104177</th>\n",
              "      <td>1.0</td>\n",
              "      <td>1.0</td>\n",
              "      <td>3623.0</td>\n",
              "      <td>3615.0</td>\n",
              "      <td>110000.0</td>\n",
              "      <td>-1.280887</td>\n",
              "      <td>-1.3490</td>\n",
              "      <td>-0.816352</td>\n",
              "      <td>-0.6745</td>\n",
              "      <td>3.087766</td>\n",
              "      <td>3.549256</td>\n",
              "    </tr>\n",
              "    <tr>\n",
              "      <th>106598</th>\n",
              "      <td>2.0</td>\n",
              "      <td>1.0</td>\n",
              "      <td>56740.0</td>\n",
              "      <td>52540.0</td>\n",
              "      <td>175000.0</td>\n",
              "      <td>-0.580499</td>\n",
              "      <td>-0.6745</td>\n",
              "      <td>-0.816352</td>\n",
              "      <td>-0.6745</td>\n",
              "      <td>49.776642</td>\n",
              "      <td>52.772575</td>\n",
              "    </tr>\n",
              "    <tr>\n",
              "      <th>117835</th>\n",
              "      <td>2.0</td>\n",
              "      <td>1.0</td>\n",
              "      <td>43086.0</td>\n",
              "      <td>40038.0</td>\n",
              "      <td>114000.0</td>\n",
              "      <td>-0.580499</td>\n",
              "      <td>-0.6745</td>\n",
              "      <td>-0.816352</td>\n",
              "      <td>-0.6745</td>\n",
              "      <td>37.775025</td>\n",
              "      <td>40.194345</td>\n",
              "    </tr>\n",
              "    <tr>\n",
              "      <th>187888</th>\n",
              "      <td>2.0</td>\n",
              "      <td>1.0</td>\n",
              "      <td>3425.0</td>\n",
              "      <td>3425.0</td>\n",
              "      <td>75000.0</td>\n",
              "      <td>-0.580499</td>\n",
              "      <td>-0.6745</td>\n",
              "      <td>-0.816352</td>\n",
              "      <td>-0.6745</td>\n",
              "      <td>2.913728</td>\n",
              "      <td>3.358097</td>\n",
              "    </tr>\n",
              "    <tr>\n",
              "      <th>199905</th>\n",
              "      <td>4.0</td>\n",
              "      <td>3.0</td>\n",
              "      <td>83.0</td>\n",
              "      <td>83000.0</td>\n",
              "      <td>155000.0</td>\n",
              "      <td>0.820277</td>\n",
              "      <td>0.6745</td>\n",
              "      <td>0.981808</td>\n",
              "      <td>0.6745</td>\n",
              "      <td>-0.023829</td>\n",
              "      <td>83.418305</td>\n",
              "    </tr>\n",
              "    <tr>\n",
              "      <th>233699</th>\n",
              "      <td>2.0</td>\n",
              "      <td>1.0</td>\n",
              "      <td>4224.0</td>\n",
              "      <td>4224.0</td>\n",
              "      <td>100000.0</td>\n",
              "      <td>-0.580499</td>\n",
              "      <td>-0.6745</td>\n",
              "      <td>-0.816352</td>\n",
              "      <td>-0.6745</td>\n",
              "      <td>3.616034</td>\n",
              "      <td>4.161969</td>\n",
              "    </tr>\n",
              "    <tr>\n",
              "      <th>264624</th>\n",
              "      <td>5.0</td>\n",
              "      <td>4.0</td>\n",
              "      <td>14744.0</td>\n",
              "      <td>13717.0</td>\n",
              "      <td>330000.0</td>\n",
              "      <td>1.520665</td>\n",
              "      <td>1.3490</td>\n",
              "      <td>1.880888</td>\n",
              "      <td>1.3490</td>\n",
              "      <td>12.862923</td>\n",
              "      <td>13.712852</td>\n",
              "    </tr>\n",
              "    <tr>\n",
              "      <th>293109</th>\n",
              "      <td>3.0</td>\n",
              "      <td>2.0</td>\n",
              "      <td>5239.0</td>\n",
              "      <td>3460.0</td>\n",
              "      <td>119000.0</td>\n",
              "      <td>0.119889</td>\n",
              "      <td>0.0000</td>\n",
              "      <td>0.082728</td>\n",
              "      <td>0.0000</td>\n",
              "      <td>4.508201</td>\n",
              "      <td>3.393310</td>\n",
              "    </tr>\n",
              "    <tr>\n",
              "      <th>311702</th>\n",
              "      <td>2.0</td>\n",
              "      <td>1.0</td>\n",
              "      <td>3939.0</td>\n",
              "      <td>3939.0</td>\n",
              "      <td>64000.0</td>\n",
              "      <td>-0.580499</td>\n",
              "      <td>-0.6745</td>\n",
              "      <td>-0.816352</td>\n",
              "      <td>-0.6745</td>\n",
              "      <td>3.365525</td>\n",
              "      <td>3.875231</td>\n",
              "    </tr>\n",
              "    <tr>\n",
              "      <th>313745</th>\n",
              "      <td>6.0</td>\n",
              "      <td>2.0</td>\n",
              "      <td>8988.0</td>\n",
              "      <td>7454.0</td>\n",
              "      <td>125000.0</td>\n",
              "      <td>2.221053</td>\n",
              "      <td>2.0235</td>\n",
              "      <td>0.082728</td>\n",
              "      <td>0.0000</td>\n",
              "      <td>7.803504</td>\n",
              "      <td>7.411664</td>\n",
              "    </tr>\n",
              "    <tr>\n",
              "      <th>314541</th>\n",
              "      <td>1.0</td>\n",
              "      <td>1.0</td>\n",
              "      <td>5741.0</td>\n",
              "      <td>4276.0</td>\n",
              "      <td>85144.0</td>\n",
              "      <td>-1.280887</td>\n",
              "      <td>-1.3490</td>\n",
              "      <td>-0.816352</td>\n",
              "      <td>-0.6745</td>\n",
              "      <td>4.949450</td>\n",
              "      <td>4.214286</td>\n",
              "    </tr>\n",
              "    <tr>\n",
              "      <th>352883</th>\n",
              "      <td>1.0</td>\n",
              "      <td>1.0</td>\n",
              "      <td>29064.0</td>\n",
              "      <td>29064.0</td>\n",
              "      <td>87400.0</td>\n",
              "      <td>-1.280887</td>\n",
              "      <td>-1.3490</td>\n",
              "      <td>-0.816352</td>\n",
              "      <td>-0.6745</td>\n",
              "      <td>25.449942</td>\n",
              "      <td>29.153431</td>\n",
              "    </tr>\n",
              "    <tr>\n",
              "      <th>354376</th>\n",
              "      <td>3.0</td>\n",
              "      <td>2.0</td>\n",
              "      <td>41.0</td>\n",
              "      <td>3837.0</td>\n",
              "      <td>83000.0</td>\n",
              "      <td>0.119889</td>\n",
              "      <td>0.0000</td>\n",
              "      <td>0.082728</td>\n",
              "      <td>0.0000</td>\n",
              "      <td>-0.060746</td>\n",
              "      <td>3.772609</td>\n",
              "    </tr>\n",
              "    <tr>\n",
              "      <th>372779</th>\n",
              "      <td>4.0</td>\n",
              "      <td>3.0</td>\n",
              "      <td>100068.0</td>\n",
              "      <td>100051.0</td>\n",
              "      <td>420000.0</td>\n",
              "      <td>0.820277</td>\n",
              "      <td>0.6745</td>\n",
              "      <td>0.981808</td>\n",
              "      <td>0.6745</td>\n",
              "      <td>87.861166</td>\n",
              "      <td>100.573273</td>\n",
              "    </tr>\n",
              "    <tr>\n",
              "      <th>398069</th>\n",
              "      <td>2.0</td>\n",
              "      <td>1.0</td>\n",
              "      <td>6470.0</td>\n",
              "      <td>4664.0</td>\n",
              "      <td>149900.0</td>\n",
              "      <td>-0.580499</td>\n",
              "      <td>-0.6745</td>\n",
              "      <td>-0.816352</td>\n",
              "      <td>-0.6745</td>\n",
              "      <td>5.590228</td>\n",
              "      <td>4.604652</td>\n",
              "    </tr>\n",
              "    <tr>\n",
              "      <th>405272</th>\n",
              "      <td>4.0</td>\n",
              "      <td>3.0</td>\n",
              "      <td>8306.0</td>\n",
              "      <td>7755.0</td>\n",
              "      <td>129000.0</td>\n",
              "      <td>0.820277</td>\n",
              "      <td>0.6745</td>\n",
              "      <td>0.981808</td>\n",
              "      <td>0.6745</td>\n",
              "      <td>7.204038</td>\n",
              "      <td>7.714499</td>\n",
              "    </tr>\n",
              "    <tr>\n",
              "      <th>405324</th>\n",
              "      <td>4.0</td>\n",
              "      <td>3.0</td>\n",
              "      <td>123000.0</td>\n",
              "      <td>123000.0</td>\n",
              "      <td>165000.0</td>\n",
              "      <td>0.820277</td>\n",
              "      <td>0.6745</td>\n",
              "      <td>0.981808</td>\n",
              "      <td>0.6745</td>\n",
              "      <td>108.017976</td>\n",
              "      <td>123.662205</td>\n",
              "    </tr>\n",
              "    <tr>\n",
              "      <th>459841</th>\n",
              "      <td>3.0</td>\n",
              "      <td>2.0</td>\n",
              "      <td>7153.0</td>\n",
              "      <td>7153.0</td>\n",
              "      <td>177807.0</td>\n",
              "      <td>0.119889</td>\n",
              "      <td>0.0000</td>\n",
              "      <td>0.082728</td>\n",
              "      <td>0.0000</td>\n",
              "      <td>6.190572</td>\n",
              "      <td>7.108828</td>\n",
              "    </tr>\n",
              "    <tr>\n",
              "      <th>459842</th>\n",
              "      <td>3.0</td>\n",
              "      <td>2.0</td>\n",
              "      <td>8136.0</td>\n",
              "      <td>6472.0</td>\n",
              "      <td>203550.0</td>\n",
              "      <td>0.119889</td>\n",
              "      <td>0.0000</td>\n",
              "      <td>0.082728</td>\n",
              "      <td>0.0000</td>\n",
              "      <td>7.054611</td>\n",
              "      <td>6.423676</td>\n",
              "    </tr>\n",
              "    <tr>\n",
              "      <th>459847</th>\n",
              "      <td>4.0</td>\n",
              "      <td>3.0</td>\n",
              "      <td>18096.0</td>\n",
              "      <td>8568.0</td>\n",
              "      <td>324558.0</td>\n",
              "      <td>0.820277</td>\n",
              "      <td>0.6745</td>\n",
              "      <td>0.981808</td>\n",
              "      <td>0.6745</td>\n",
              "      <td>15.809270</td>\n",
              "      <td>8.532456</td>\n",
              "    </tr>\n",
              "    <tr>\n",
              "      <th>459849</th>\n",
              "      <td>3.0</td>\n",
              "      <td>2.0</td>\n",
              "      <td>7720.0</td>\n",
              "      <td>5970.0</td>\n",
              "      <td>167894.0</td>\n",
              "      <td>0.119889</td>\n",
              "      <td>0.0000</td>\n",
              "      <td>0.082728</td>\n",
              "      <td>0.0000</td>\n",
              "      <td>6.688955</td>\n",
              "      <td>5.918615</td>\n",
              "    </tr>\n",
              "  </tbody>\n",
              "</table>\n",
              "</div>"
            ],
            "text/plain": [
              "        property_rooms  property_bedrooms  property_surface_total  \\\n",
              "1140              16.0               11.0                 10500.0   \n",
              "1932              13.0               10.0                186273.0   \n",
              "72316              2.0                1.0                 61130.0   \n",
              "72521              2.0                1.0                 33800.0   \n",
              "85725              5.0                4.0                  3197.0   \n",
              "94789              2.0                1.0                  5312.0   \n",
              "104177             1.0                1.0                  3623.0   \n",
              "106598             2.0                1.0                 56740.0   \n",
              "117835             2.0                1.0                 43086.0   \n",
              "187888             2.0                1.0                  3425.0   \n",
              "199905             4.0                3.0                    83.0   \n",
              "233699             2.0                1.0                  4224.0   \n",
              "264624             5.0                4.0                 14744.0   \n",
              "293109             3.0                2.0                  5239.0   \n",
              "311702             2.0                1.0                  3939.0   \n",
              "313745             6.0                2.0                  8988.0   \n",
              "314541             1.0                1.0                  5741.0   \n",
              "352883             1.0                1.0                 29064.0   \n",
              "354376             3.0                2.0                    41.0   \n",
              "372779             4.0                3.0                100068.0   \n",
              "398069             2.0                1.0                  6470.0   \n",
              "405272             4.0                3.0                  8306.0   \n",
              "405324             4.0                3.0                123000.0   \n",
              "459841             3.0                2.0                  7153.0   \n",
              "459842             3.0                2.0                  8136.0   \n",
              "459847             4.0                3.0                 18096.0   \n",
              "459849             3.0                2.0                  7720.0   \n",
              "\n",
              "        property_surface_covered  property_price   z_rooms  zm_rooms  \\\n",
              "1140                     10500.0       9900000.0  9.224933    8.7685   \n",
              "1932                    217000.0        250000.0  7.123769    6.7450   \n",
              "72316                    53030.0        225000.0 -0.580499   -0.6745   \n",
              "72521                    31670.0         66000.0 -0.580499   -0.6745   \n",
              "85725                     3367.0      12000000.0  1.520665    1.3490   \n",
              "94789                     4809.0        145000.0 -0.580499   -0.6745   \n",
              "104177                    3615.0        110000.0 -1.280887   -1.3490   \n",
              "106598                   52540.0        175000.0 -0.580499   -0.6745   \n",
              "117835                   40038.0        114000.0 -0.580499   -0.6745   \n",
              "187888                    3425.0         75000.0 -0.580499   -0.6745   \n",
              "199905                   83000.0        155000.0  0.820277    0.6745   \n",
              "233699                    4224.0        100000.0 -0.580499   -0.6745   \n",
              "264624                   13717.0        330000.0  1.520665    1.3490   \n",
              "293109                    3460.0        119000.0  0.119889    0.0000   \n",
              "311702                    3939.0         64000.0 -0.580499   -0.6745   \n",
              "313745                    7454.0        125000.0  2.221053    2.0235   \n",
              "314541                    4276.0         85144.0 -1.280887   -1.3490   \n",
              "352883                   29064.0         87400.0 -1.280887   -1.3490   \n",
              "354376                    3837.0         83000.0  0.119889    0.0000   \n",
              "372779                  100051.0        420000.0  0.820277    0.6745   \n",
              "398069                    4664.0        149900.0 -0.580499   -0.6745   \n",
              "405272                    7755.0        129000.0  0.820277    0.6745   \n",
              "405324                  123000.0        165000.0  0.820277    0.6745   \n",
              "459841                    7153.0        177807.0  0.119889    0.0000   \n",
              "459842                    6472.0        203550.0  0.119889    0.0000   \n",
              "459847                    8568.0        324558.0  0.820277    0.6745   \n",
              "459849                    5970.0        167894.0  0.119889    0.0000   \n",
              "\n",
              "        z_bedrooms  zm_bedrooms  z_surface_total  z_surface_covered  \n",
              "1140      8.174446       6.0705         9.132524          10.476237  \n",
              "1932      7.275366       5.3960       163.633791         218.235369  \n",
              "72316    -0.816352      -0.6745        53.635373          53.265563  \n",
              "72521    -0.816352      -0.6745        29.612800          31.775321  \n",
              "85725     1.880888       1.3490         2.713320           3.299743  \n",
              "94789    -0.816352      -0.6745         4.572367           4.750536  \n",
              "104177   -0.816352      -0.6745         3.087766           3.549256  \n",
              "106598   -0.816352      -0.6745        49.776642          52.772575  \n",
              "117835   -0.816352      -0.6745        37.775025          40.194345  \n",
              "187888   -0.816352      -0.6745         2.913728           3.358097  \n",
              "199905    0.981808       0.6745        -0.023829          83.418305  \n",
              "233699   -0.816352      -0.6745         3.616034           4.161969  \n",
              "264624    1.880888       1.3490        12.862923          13.712852  \n",
              "293109    0.082728       0.0000         4.508201           3.393310  \n",
              "311702   -0.816352      -0.6745         3.365525           3.875231  \n",
              "313745    0.082728       0.0000         7.803504           7.411664  \n",
              "314541   -0.816352      -0.6745         4.949450           4.214286  \n",
              "352883   -0.816352      -0.6745        25.449942          29.153431  \n",
              "354376    0.082728       0.0000        -0.060746           3.772609  \n",
              "372779    0.981808       0.6745        87.861166         100.573273  \n",
              "398069   -0.816352      -0.6745         5.590228           4.604652  \n",
              "405272    0.981808       0.6745         7.204038           7.714499  \n",
              "405324    0.981808       0.6745       108.017976         123.662205  \n",
              "459841    0.082728       0.0000         6.190572           7.108828  \n",
              "459842    0.082728       0.0000         7.054611           6.423676  \n",
              "459847    0.981808       0.6745        15.809270           8.532456  \n",
              "459849    0.082728       0.0000         6.688955           5.918615  "
            ]
          },
          "execution_count": 108,
          "metadata": {},
          "output_type": "execute_result"
        }
      ],
      "source": [
        "ds_atipicos['z_surface_covered']=st.zscore(ds_atipicos.property_surface_covered)\n",
        "ds_atipicos[ds_atipicos['z_surface_covered'] > 3 ]"
      ]
    },
    {
      "cell_type": "code",
      "execution_count": 109,
      "metadata": {},
      "outputs": [
        {
          "data": {
            "text/plain": [
              "<AxesSubplot:ylabel='property_surface_covered'>"
            ]
          },
          "execution_count": 109,
          "metadata": {},
          "output_type": "execute_result"
        },
        {
          "data": {
            "image/png": "[encoded data removed]",
            "text/plain": [
              "<Figure size 432x288 with 1 Axes>"
            ]
          },
          "metadata": {
            "needs_background": "light"
          },
          "output_type": "display_data"
        }
      ],
      "source": [
        "sns.boxplot(y=ds_atipicos.property_surface_covered)"
      ]
    },
    {
      "cell_type": "markdown",
      "metadata": {},
      "source": [
        "property_price"
      ]
    },
    {
      "cell_type": "code",
      "execution_count": 110,
      "metadata": {},
      "outputs": [],
      "source": [
        "#z-score\n",
        "ds_atipicos['z_price']=st.zscore(ds_atipicos.property_price)\n",
        "\n",
        "#z-score modificado\n",
        "mediana_price = np.median(ds_atipicos.property_price)\n",
        "MAD=np.median(np.absolute(ds_atipicos.property_price - mediana_price)) \n",
        "ds_atipicos['zm_price']=(ds_atipicos.property_price - mediana_price)*0.6745/MAD"
      ]
    },
    {
      "cell_type": "code",
      "execution_count": 111,
      "metadata": {},
      "outputs": [
        {
          "data": {
            "text/html": [
              "<div>\n",
              "<style scoped>\n",
              "    .dataframe tbody tr th:only-of-type {\n",
              "        vertical-align: middle;\n",
              "    }\n",
              "\n",
              "    .dataframe tbody tr th {\n",
              "        vertical-align: top;\n",
              "    }\n",
              "\n",
              "    .dataframe thead th {\n",
              "        text-align: right;\n",
              "    }\n",
              "</style>\n",
              "<table border=\"1\" class=\"dataframe\">\n",
              "  <thead>\n",
              "    <tr style=\"text-align: right;\">\n",
              "      <th></th>\n",
              "      <th>property_rooms</th>\n",
              "      <th>property_bedrooms</th>\n",
              "      <th>property_surface_total</th>\n",
              "      <th>property_surface_covered</th>\n",
              "      <th>property_price</th>\n",
              "      <th>z_rooms</th>\n",
              "      <th>zm_rooms</th>\n",
              "      <th>z_bedrooms</th>\n",
              "      <th>zm_bedrooms</th>\n",
              "      <th>z_surface_total</th>\n",
              "      <th>z_surface_covered</th>\n",
              "      <th>z_price</th>\n",
              "      <th>zm_price</th>\n",
              "    </tr>\n",
              "  </thead>\n",
              "  <tbody>\n",
              "    <tr>\n",
              "      <th>410</th>\n",
              "      <td>7.0</td>\n",
              "      <td>4.0</td>\n",
              "      <td>400.0</td>\n",
              "      <td>254.0</td>\n",
              "      <td>2700000.0</td>\n",
              "      <td>2.921441</td>\n",
              "      <td>2.6980</td>\n",
              "      <td>1.880888</td>\n",
              "      <td>1.3490</td>\n",
              "      <td>0.254808</td>\n",
              "      <td>0.167762</td>\n",
              "      <td>7.908245</td>\n",
              "      <td>30.269667</td>\n",
              "    </tr>\n",
              "    <tr>\n",
              "      <th>411</th>\n",
              "      <td>7.0</td>\n",
              "      <td>4.0</td>\n",
              "      <td>400.0</td>\n",
              "      <td>254.0</td>\n",
              "      <td>2700000.0</td>\n",
              "      <td>2.921441</td>\n",
              "      <td>2.6980</td>\n",
              "      <td>1.880888</td>\n",
              "      <td>1.3490</td>\n",
              "      <td>0.254808</td>\n",
              "      <td>0.167762</td>\n",
              "      <td>7.908245</td>\n",
              "      <td>30.269667</td>\n",
              "    </tr>\n",
              "    <tr>\n",
              "      <th>438</th>\n",
              "      <td>4.0</td>\n",
              "      <td>3.0</td>\n",
              "      <td>282.0</td>\n",
              "      <td>256.0</td>\n",
              "      <td>2250000.0</td>\n",
              "      <td>0.820277</td>\n",
              "      <td>0.6745</td>\n",
              "      <td>0.981808</td>\n",
              "      <td>0.6745</td>\n",
              "      <td>0.151088</td>\n",
              "      <td>0.169774</td>\n",
              "      <td>6.471458</td>\n",
              "      <td>24.944667</td>\n",
              "    </tr>\n",
              "    <tr>\n",
              "      <th>448</th>\n",
              "      <td>5.0</td>\n",
              "      <td>4.0</td>\n",
              "      <td>304.0</td>\n",
              "      <td>294.0</td>\n",
              "      <td>1200000.0</td>\n",
              "      <td>1.520665</td>\n",
              "      <td>1.3490</td>\n",
              "      <td>1.880888</td>\n",
              "      <td>1.3490</td>\n",
              "      <td>0.170426</td>\n",
              "      <td>0.208006</td>\n",
              "      <td>3.118953</td>\n",
              "      <td>12.519667</td>\n",
              "    </tr>\n",
              "    <tr>\n",
              "      <th>629</th>\n",
              "      <td>4.0</td>\n",
              "      <td>3.0</td>\n",
              "      <td>214.0</td>\n",
              "      <td>196.0</td>\n",
              "      <td>1200000.0</td>\n",
              "      <td>0.820277</td>\n",
              "      <td>0.6745</td>\n",
              "      <td>0.981808</td>\n",
              "      <td>0.6745</td>\n",
              "      <td>0.091317</td>\n",
              "      <td>0.109408</td>\n",
              "      <td>3.118953</td>\n",
              "      <td>12.519667</td>\n",
              "    </tr>\n",
              "    <tr>\n",
              "      <th>...</th>\n",
              "      <td>...</td>\n",
              "      <td>...</td>\n",
              "      <td>...</td>\n",
              "      <td>...</td>\n",
              "      <td>...</td>\n",
              "      <td>...</td>\n",
              "      <td>...</td>\n",
              "      <td>...</td>\n",
              "      <td>...</td>\n",
              "      <td>...</td>\n",
              "      <td>...</td>\n",
              "      <td>...</td>\n",
              "      <td>...</td>\n",
              "    </tr>\n",
              "    <tr>\n",
              "      <th>459724</th>\n",
              "      <td>8.0</td>\n",
              "      <td>3.0</td>\n",
              "      <td>285.0</td>\n",
              "      <td>272.0</td>\n",
              "      <td>1250000.0</td>\n",
              "      <td>3.621829</td>\n",
              "      <td>3.3725</td>\n",
              "      <td>0.981808</td>\n",
              "      <td>0.6745</td>\n",
              "      <td>0.153725</td>\n",
              "      <td>0.185872</td>\n",
              "      <td>3.278596</td>\n",
              "      <td>13.111333</td>\n",
              "    </tr>\n",
              "    <tr>\n",
              "      <th>459729</th>\n",
              "      <td>6.0</td>\n",
              "      <td>3.0</td>\n",
              "      <td>271.0</td>\n",
              "      <td>265.0</td>\n",
              "      <td>1250000.0</td>\n",
              "      <td>2.221053</td>\n",
              "      <td>2.0235</td>\n",
              "      <td>0.981808</td>\n",
              "      <td>0.6745</td>\n",
              "      <td>0.141419</td>\n",
              "      <td>0.178829</td>\n",
              "      <td>3.278596</td>\n",
              "      <td>13.111333</td>\n",
              "    </tr>\n",
              "    <tr>\n",
              "      <th>459755</th>\n",
              "      <td>8.0</td>\n",
              "      <td>5.0</td>\n",
              "      <td>431.0</td>\n",
              "      <td>415.0</td>\n",
              "      <td>2800000.0</td>\n",
              "      <td>3.621829</td>\n",
              "      <td>3.3725</td>\n",
              "      <td>2.779967</td>\n",
              "      <td>2.0235</td>\n",
              "      <td>0.282056</td>\n",
              "      <td>0.329744</td>\n",
              "      <td>8.227532</td>\n",
              "      <td>31.453000</td>\n",
              "    </tr>\n",
              "    <tr>\n",
              "      <th>459764</th>\n",
              "      <td>8.0</td>\n",
              "      <td>4.0</td>\n",
              "      <td>383.0</td>\n",
              "      <td>383.0</td>\n",
              "      <td>1700000.0</td>\n",
              "      <td>3.621829</td>\n",
              "      <td>3.3725</td>\n",
              "      <td>1.880888</td>\n",
              "      <td>1.3490</td>\n",
              "      <td>0.239865</td>\n",
              "      <td>0.297548</td>\n",
              "      <td>4.715384</td>\n",
              "      <td>18.436333</td>\n",
              "    </tr>\n",
              "    <tr>\n",
              "      <th>459997</th>\n",
              "      <td>4.0</td>\n",
              "      <td>2.0</td>\n",
              "      <td>315.0</td>\n",
              "      <td>180.0</td>\n",
              "      <td>2200000.0</td>\n",
              "      <td>0.820277</td>\n",
              "      <td>0.6745</td>\n",
              "      <td>0.082728</td>\n",
              "      <td>0.0000</td>\n",
              "      <td>0.180095</td>\n",
              "      <td>0.093311</td>\n",
              "      <td>6.311815</td>\n",
              "      <td>24.353000</td>\n",
              "    </tr>\n",
              "  </tbody>\n",
              "</table>\n",
              "<p>1564 rows × 13 columns</p>\n",
              "</div>"
            ],
            "text/plain": [
              "        property_rooms  property_bedrooms  property_surface_total  \\\n",
              "410                7.0                4.0                   400.0   \n",
              "411                7.0                4.0                   400.0   \n",
              "438                4.0                3.0                   282.0   \n",
              "448                5.0                4.0                   304.0   \n",
              "629                4.0                3.0                   214.0   \n",
              "...                ...                ...                     ...   \n",
              "459724             8.0                3.0                   285.0   \n",
              "459729             6.0                3.0                   271.0   \n",
              "459755             8.0                5.0                   431.0   \n",
              "459764             8.0                4.0                   383.0   \n",
              "459997             4.0                2.0                   315.0   \n",
              "\n",
              "        property_surface_covered  property_price   z_rooms  zm_rooms  \\\n",
              "410                        254.0       2700000.0  2.921441    2.6980   \n",
              "411                        254.0       2700000.0  2.921441    2.6980   \n",
              "438                        256.0       2250000.0  0.820277    0.6745   \n",
              "448                        294.0       1200000.0  1.520665    1.3490   \n",
              "629                        196.0       1200000.0  0.820277    0.6745   \n",
              "...                          ...             ...       ...       ...   \n",
              "459724                     272.0       1250000.0  3.621829    3.3725   \n",
              "459729                     265.0       1250000.0  2.221053    2.0235   \n",
              "459755                     415.0       2800000.0  3.621829    3.3725   \n",
              "459764                     383.0       1700000.0  3.621829    3.3725   \n",
              "459997                     180.0       2200000.0  0.820277    0.6745   \n",
              "\n",
              "        z_bedrooms  zm_bedrooms  z_surface_total  z_surface_covered   z_price  \\\n",
              "410       1.880888       1.3490         0.254808           0.167762  7.908245   \n",
              "411       1.880888       1.3490         0.254808           0.167762  7.908245   \n",
              "438       0.981808       0.6745         0.151088           0.169774  6.471458   \n",
              "448       1.880888       1.3490         0.170426           0.208006  3.118953   \n",
              "629       0.981808       0.6745         0.091317           0.109408  3.118953   \n",
              "...            ...          ...              ...                ...       ...   \n",
              "459724    0.981808       0.6745         0.153725           0.185872  3.278596   \n",
              "459729    0.981808       0.6745         0.141419           0.178829  3.278596   \n",
              "459755    2.779967       2.0235         0.282056           0.329744  8.227532   \n",
              "459764    1.880888       1.3490         0.239865           0.297548  4.715384   \n",
              "459997    0.082728       0.0000         0.180095           0.093311  6.311815   \n",
              "\n",
              "         zm_price  \n",
              "410     30.269667  \n",
              "411     30.269667  \n",
              "438     24.944667  \n",
              "448     12.519667  \n",
              "629     12.519667  \n",
              "...           ...  \n",
              "459724  13.111333  \n",
              "459729  13.111333  \n",
              "459755  31.453000  \n",
              "459764  18.436333  \n",
              "459997  24.353000  \n",
              "\n",
              "[1564 rows x 13 columns]"
            ]
          },
          "execution_count": 111,
          "metadata": {},
          "output_type": "execute_result"
        }
      ],
      "source": [
        "ds_atipicos[ds_atipicos['z_price'] > 3 ]"
      ]
    },
    {
      "cell_type": "code",
      "execution_count": 112,
      "metadata": {},
      "outputs": [
        {
          "data": {
            "text/plain": [
              "<AxesSubplot:ylabel='property_price'>"
            ]
          },
          "execution_count": 112,
          "metadata": {},
          "output_type": "execute_result"
        },
        {
          "data": {
            "image/png": "[encoded data removed]",
            "text/plain": [
              "<Figure size 432x288 with 1 Axes>"
            ]
          },
          "metadata": {
            "needs_background": "light"
          },
          "output_type": "display_data"
        }
      ],
      "source": [
        "sns.boxplot(y=ds_atipicos.property_price)"
      ]
    },
    {
      "cell_type": "markdown",
      "metadata": {},
      "source": [
        "### Detectar valores atípicos en los datos en forma multivariada"
      ]
    },
    {
      "cell_type": "markdown",
      "metadata": {},
      "source": [
        "#### Analizamos property_price y property_rooms"
      ]
    },
    {
      "cell_type": "code",
      "execution_count": 113,
      "metadata": {},
      "outputs": [
        {
          "name": "stderr",
          "output_type": "stream",
          "text": [
            "/home/fanu/.local/lib/python3.8/site-packages/seaborn/_decorators.py:36: FutureWarning: Pass the following variables as keyword args: x, y. From version 0.12, the only valid positional argument will be `data`, and passing other arguments without an explicit keyword will result in an error or misinterpretation.\n",
            "  warnings.warn(\n"
          ]
        },
        {
          "data": {
            "image/png": "[encoded data removed]",
            "text/plain": [
              "<Figure size 1080x1080 with 1 Axes>"
            ]
          },
          "metadata": {
            "needs_background": "light"
          },
          "output_type": "display_data"
        }
      ],
      "source": [
        "plt.figure(figsize=(15,15))\n",
        "sns.scatterplot(ds_atipicos['property_price'],ds_atipicos['property_rooms'])\n",
        "plt.title('Diagrama de Dispersión property_price vs property_rooms')\n",
        "plt.show()"
      ]
    },
    {
      "cell_type": "code",
      "execution_count": 163,
      "metadata": {},
      "outputs": [],
      "source": [
        "\n",
        "X=ds_atipicos[['property_price','property_rooms']].values\n",
        "\n",
        "#Creo el clasificador\n",
        "clf = LocalOutlierFactor(n_neighbors=5)\n",
        "\n",
        "#Genero prediccion\n",
        "y_pred = clf.fit_predict(X)\n",
        "\n",
        "#Guardo los scores\n",
        "ds_atipicos['scores_price_rooms']=clf.negative_outlier_factor_"
      ]
    },
    {
      "cell_type": "code",
      "execution_count": 164,
      "metadata": {},
      "outputs": [
        {
          "data": {
            "image/png": "[encoded data removed]",
            "text/plain": [
              "<Figure size 1080x1080 with 1 Axes>"
            ]
          },
          "metadata": {
            "needs_background": "light"
          },
          "output_type": "display_data"
        }
      ],
      "source": [
        "#Calculo radio para plotear score\n",
        "radius = (ds_atipicos.scores_price_rooms.max() - ds_atipicos.scores_price_rooms) / (ds_atipicos.scores_price_rooms.max() - ds_atipicos.scores_price_rooms.min())\n",
        "#Grafico LOF\n",
        "plt.figure(figsize=(15,15))\n",
        "plt.title(\"Local Outlier Factor (LOF)\")\n",
        "plt.scatter(ds_atipicos.property_price.values,ds_atipicos.property_rooms.values, edgecolor='grey', s=30, label='datos',facecolors='none')\n",
        "plt.scatter(ds_atipicos.property_price.values,ds_atipicos.property_rooms.values, s=1300 * radius, edgecolors='red',facecolors='none', label='Outlier scores')\n",
        "legend = plt.legend(loc='upper left')\n",
        "legend.legendHandles[0]._sizes = [10]\n",
        "legend.legendHandles[1]._sizes = [20]\n"
      ]
    },
    {
      "cell_type": "markdown",
      "metadata": {},
      "source": [
        "#### Analizamos property_rooms y property_bedrooms"
      ]
    },
    {
      "cell_type": "code",
      "execution_count": 116,
      "metadata": {},
      "outputs": [
        {
          "name": "stderr",
          "output_type": "stream",
          "text": [
            "/home/fanu/.local/lib/python3.8/site-packages/seaborn/_decorators.py:36: FutureWarning: Pass the following variables as keyword args: x, y. From version 0.12, the only valid positional argument will be `data`, and passing other arguments without an explicit keyword will result in an error or misinterpretation.\n",
            "  warnings.warn(\n"
          ]
        },
        {
          "data": {
            "image/png": "[encoded data removed]",
            "text/plain": [
              "<Figure size 1080x1080 with 1 Axes>"
            ]
          },
          "metadata": {
            "needs_background": "light"
          },
          "output_type": "display_data"
        }
      ],
      "source": [
        "plt.figure(figsize=(15,15))\n",
        "sns.scatterplot(ds_atipicos['property_bedrooms'],ds_atipicos['property_rooms'])\n",
        "plt.title('Diagrama de Dispersión property_bedrooms vs property_rooms')\n",
        "plt.show()"
      ]
    },
    {
      "cell_type": "code",
      "execution_count": 159,
      "metadata": {},
      "outputs": [],
      "source": [
        "X=ds_atipicos[['property_bedrooms','property_rooms']].values\n",
        "\n",
        "#Creo el clasificador\n",
        "clf = LocalOutlierFactor(n_neighbors=17)\n",
        "\n",
        "#Genero prediccion\n",
        "y_pred = clf.fit_predict(X)\n",
        "\n",
        "#Guardo los scores\n",
        "ds_atipicos['scores_bedrooms_rooms']=clf.negative_outlier_factor_"
      ]
    },
    {
      "cell_type": "code",
      "execution_count": 160,
      "metadata": {},
      "outputs": [
        {
          "data": {
            "image/png": "[encoded data removed]",
            "text/plain": [
              "<Figure size 1080x1080 with 1 Axes>"
            ]
          },
          "metadata": {
            "needs_background": "light"
          },
          "output_type": "display_data"
        }
      ],
      "source": [
        "#Calculo radio para plotear score\n",
        "radius = (ds_atipicos.scores_bedrooms_rooms.max() - ds_atipicos.scores_bedrooms_rooms) / (ds_atipicos.scores_bedrooms_rooms.max() - ds_atipicos.scores_bedrooms_rooms.min())\n",
        "#Grafico LOF\n",
        "plt.figure(figsize=(15,15))\n",
        "plt.title(\"Local Outlier Factor (LOF)\")\n",
        "plt.scatter(ds_atipicos.property_bedrooms.values,ds_atipicos.property_rooms.values, edgecolor='grey', s=10, label='datos',facecolors='none')\n",
        "plt.scatter(ds_atipicos.property_bedrooms.values,ds_atipicos.property_rooms.values, s=1300 * radius, edgecolors='red',facecolors='none', label='Outlier scores')\n",
        "legend = plt.legend(loc='upper left')\n",
        "legend.legendHandles[0]._sizes = [10]\n",
        "legend.legendHandles[1]._sizes = [20]\n"
      ]
    },
    {
      "cell_type": "markdown",
      "metadata": {},
      "source": [
        "#### Analizamos property_price y property_surface_covered"
      ]
    },
    {
      "cell_type": "code",
      "execution_count": 166,
      "metadata": {},
      "outputs": [
        {
          "name": "stderr",
          "output_type": "stream",
          "text": [
            "/home/fanu/.local/lib/python3.8/site-packages/seaborn/_decorators.py:36: FutureWarning: Pass the following variables as keyword args: x, y. From version 0.12, the only valid positional argument will be `data`, and passing other arguments without an explicit keyword will result in an error or misinterpretation.\n",
            "  warnings.warn(\n"
          ]
        },
        {
          "data": {
            "image/png": "[encoded data removed]",
            "text/plain": [
              "<Figure size 1080x1080 with 1 Axes>"
            ]
          },
          "metadata": {
            "needs_background": "light"
          },
          "output_type": "display_data"
        }
      ],
      "source": [
        "plt.figure(figsize=(15,15))\n",
        "sns.scatterplot(ds_atipicos['property_price'],ds_atipicos['property_surface_covered'])\n",
        "plt.title('Diagrama de Dispersión property_price vs property_surface_covered')\n",
        "plt.show()"
      ]
    },
    {
      "cell_type": "code",
      "execution_count": 167,
      "metadata": {},
      "outputs": [],
      "source": [
        "X=ds_atipicos[['property_price','property_surface_covered']].values\n",
        "\n",
        "#Creo el clasificador\n",
        "clf = LocalOutlierFactor(n_neighbors=17)\n",
        "\n",
        "#Genero prediccion\n",
        "y_pred = clf.fit_predict(X)\n",
        "\n",
        "#Guardo los scores\n",
        "ds_atipicos['scores_price_surface_covered']=clf.negative_outlier_factor_"
      ]
    },
    {
      "cell_type": "code",
      "execution_count": 168,
      "metadata": {},
      "outputs": [
        {
          "data": {
            "image/png": "[encoded data removed]",
            "text/plain": [
              "<Figure size 1080x1080 with 1 Axes>"
            ]
          },
          "metadata": {
            "needs_background": "light"
          },
          "output_type": "display_data"
        }
      ],
      "source": [
        "#Calculo radio para plotear score\n",
        "radius = (ds_atipicos.scores_price_surface_covered.max() - ds_atipicos.scores_price_surface_covered) / (ds_atipicos.scores_price_surface_covered.max() - ds_atipicos.scores_price_surface_covered.min())\n",
        "#Grafico LOF\n",
        "plt.figure(figsize=(15,15))\n",
        "plt.title(\"Local Outlier Factor (LOF)\")\n",
        "plt.scatter(ds_atipicos.property_price.values,ds_atipicos.property_surface_covered.values, edgecolor='grey', s=10, label='datos',facecolors='none')\n",
        "plt.scatter(ds_atipicos.property_price.values,ds_atipicos.property_surface_covered.values, s=1300 * radius, edgecolors='red',facecolors='none', label='Outlier scores')\n",
        "legend = plt.legend(loc='upper left')\n",
        "legend.legendHandles[0]._sizes = [10]\n",
        "legend.legendHandles[1]._sizes = [20]\n"
      ]
    },
    {
      "cell_type": "markdown",
      "metadata": {},
      "source": [
        "# Reduccion De La Dimensionalidad"
      ]
    },
    {
      "cell_type": "code",
      "execution_count": 118,
      "metadata": {},
      "outputs": [],
      "source": [
        "ds_prop_reducido = ds_prop_filtrado.copy()"
      ]
    },
    {
      "cell_type": "markdown",
      "metadata": {},
      "source": [
        "Analizamos nuevamente las correlaciones entre las variables para evaluear posibles canidatos para reducir la dimension del dataset. Se puede ver la fuerte correlación entre property_rooms y property_bedrroms, por lo cual se los puede considerar candidatos para la reducción"
      ]
    },
    {
      "cell_type": "code",
      "execution_count": 119,
      "metadata": {},
      "outputs": [
        {
          "data": {
            "text/html": [
              "<div>\n",
              "<style scoped>\n",
              "    .dataframe tbody tr th:only-of-type {\n",
              "        vertical-align: middle;\n",
              "    }\n",
              "\n",
              "    .dataframe tbody tr th {\n",
              "        vertical-align: top;\n",
              "    }\n",
              "\n",
              "    .dataframe thead th {\n",
              "        text-align: right;\n",
              "    }\n",
              "</style>\n",
              "<table border=\"1\" class=\"dataframe\">\n",
              "  <thead>\n",
              "    <tr style=\"text-align: right;\">\n",
              "      <th></th>\n",
              "      <th>latitud</th>\n",
              "      <th>longitud</th>\n",
              "      <th>property_rooms</th>\n",
              "      <th>property_bedrooms</th>\n",
              "      <th>property_surface_total</th>\n",
              "      <th>property_surface_covered</th>\n",
              "      <th>property_price</th>\n",
              "    </tr>\n",
              "  </thead>\n",
              "  <tbody>\n",
              "    <tr>\n",
              "      <th>latitud</th>\n",
              "      <td>1.000000</td>\n",
              "      <td>-0.139939</td>\n",
              "      <td>-0.031447</td>\n",
              "      <td>-0.033517</td>\n",
              "      <td>0.008638</td>\n",
              "      <td>0.002436</td>\n",
              "      <td>0.149106</td>\n",
              "    </tr>\n",
              "    <tr>\n",
              "      <th>longitud</th>\n",
              "      <td>-0.139939</td>\n",
              "      <td>1.000000</td>\n",
              "      <td>0.012049</td>\n",
              "      <td>0.018100</td>\n",
              "      <td>0.002089</td>\n",
              "      <td>0.003555</td>\n",
              "      <td>0.123191</td>\n",
              "    </tr>\n",
              "    <tr>\n",
              "      <th>property_rooms</th>\n",
              "      <td>-0.031447</td>\n",
              "      <td>0.012049</td>\n",
              "      <td>1.000000</td>\n",
              "      <td>0.874706</td>\n",
              "      <td>0.065112</td>\n",
              "      <td>0.074020</td>\n",
              "      <td>0.484116</td>\n",
              "    </tr>\n",
              "    <tr>\n",
              "      <th>property_bedrooms</th>\n",
              "      <td>-0.033517</td>\n",
              "      <td>0.018100</td>\n",
              "      <td>0.874706</td>\n",
              "      <td>1.000000</td>\n",
              "      <td>0.066981</td>\n",
              "      <td>0.072864</td>\n",
              "      <td>0.419518</td>\n",
              "    </tr>\n",
              "    <tr>\n",
              "      <th>property_surface_total</th>\n",
              "      <td>0.008638</td>\n",
              "      <td>0.002089</td>\n",
              "      <td>0.065112</td>\n",
              "      <td>0.066981</td>\n",
              "      <td>1.000000</td>\n",
              "      <td>0.617288</td>\n",
              "      <td>0.085618</td>\n",
              "    </tr>\n",
              "    <tr>\n",
              "      <th>property_surface_covered</th>\n",
              "      <td>0.002436</td>\n",
              "      <td>0.003555</td>\n",
              "      <td>0.074020</td>\n",
              "      <td>0.072864</td>\n",
              "      <td>0.617288</td>\n",
              "      <td>1.000000</td>\n",
              "      <td>0.054338</td>\n",
              "    </tr>\n",
              "    <tr>\n",
              "      <th>property_price</th>\n",
              "      <td>0.149106</td>\n",
              "      <td>0.123191</td>\n",
              "      <td>0.484116</td>\n",
              "      <td>0.419518</td>\n",
              "      <td>0.085618</td>\n",
              "      <td>0.054338</td>\n",
              "      <td>1.000000</td>\n",
              "    </tr>\n",
              "  </tbody>\n",
              "</table>\n",
              "</div>"
            ],
            "text/plain": [
              "                           latitud  longitud  property_rooms  \\\n",
              "latitud                   1.000000 -0.139939       -0.031447   \n",
              "longitud                 -0.139939  1.000000        0.012049   \n",
              "property_rooms           -0.031447  0.012049        1.000000   \n",
              "property_bedrooms        -0.033517  0.018100        0.874706   \n",
              "property_surface_total    0.008638  0.002089        0.065112   \n",
              "property_surface_covered  0.002436  0.003555        0.074020   \n",
              "property_price            0.149106  0.123191        0.484116   \n",
              "\n",
              "                          property_bedrooms  property_surface_total  \\\n",
              "latitud                           -0.033517                0.008638   \n",
              "longitud                           0.018100                0.002089   \n",
              "property_rooms                     0.874706                0.065112   \n",
              "property_bedrooms                  1.000000                0.066981   \n",
              "property_surface_total             0.066981                1.000000   \n",
              "property_surface_covered           0.072864                0.617288   \n",
              "property_price                     0.419518                0.085618   \n",
              "\n",
              "                          property_surface_covered  property_price  \n",
              "latitud                                   0.002436        0.149106  \n",
              "longitud                                  0.003555        0.123191  \n",
              "property_rooms                            0.074020        0.484116  \n",
              "property_bedrooms                         0.072864        0.419518  \n",
              "property_surface_total                    0.617288        0.085618  \n",
              "property_surface_covered                  1.000000        0.054338  \n",
              "property_price                            0.054338        1.000000  "
            ]
          },
          "execution_count": 119,
          "metadata": {},
          "output_type": "execute_result"
        }
      ],
      "source": [
        "ds_prop_filtrado.corr()"
      ]
    },
    {
      "cell_type": "markdown",
      "metadata": {},
      "source": [
        "Analizamos la importancia de los atributos"
      ]
    },
    {
      "cell_type": "code",
      "execution_count": 120,
      "metadata": {},
      "outputs": [
        {
          "name": "stdout",
          "output_type": "stream",
          "text": [
            "Accuracy: 0.1398380677919583\n"
          ]
        }
      ],
      "source": [
        "ds_prop_filtrado_arbol = ds_prop_filtrado.dropna()\n",
        "\n",
        "#One Hot Encoding para variables categoricas\n",
        "variables_reemplazadas = [\"place_l2\", \"place_l3\", \"operation\"]\n",
        "ds_prop_filtrado_arbol = pd.get_dummies(ds_prop_filtrado_arbol, columns=variables_reemplazadas, drop_first=True)\n",
        "\n",
        "#Creo dataset con los features que se van a usar para clasificar\n",
        "variables_eliminadas = ['property_price', 'property_title', \"property_type\", \"property_currency\", \"created_on\", \"start_date\", \"end_date\"]\n",
        "ds_prop_filtrado_x = ds_prop_filtrado_arbol.drop(variables_eliminadas, axis='columns', inplace=False)\n",
        "\n",
        "#Creo dataset con la variable target\n",
        "ds_prop_filtrado_y = ds_prop_filtrado_arbol['property_price'].copy()\n",
        "\n",
        "\n",
        "x_train, x_test, y_train, y_test = train_test_split(ds_prop_filtrado_x, \n",
        "                                                    ds_prop_filtrado_y, \n",
        "                                                    test_size=0.1, #proporción 90/10 \n",
        "                                                    random_state=2) #semilla\n",
        "\n",
        "tree_model = tree.DecisionTreeClassifier(criterion=\"entropy\",max_depth=20, min_samples_leaf=5)\n",
        "\n",
        "#Entrenamos el modelo\n",
        "model = tree_model.fit(X=x_train, y=y_train)\n",
        "y_pred = model.predict(x_test)\n",
        "\n",
        "#Calculamos las métricas en el conjunto de evaluación\n",
        "accuracy=accuracy_score(y_test, y_pred)\n",
        "print(\"Accuracy: \" + str(accuracy))\n",
        "\n",
        "\n",
        "\n"
      ]
    },
    {
      "cell_type": "code",
      "execution_count": 121,
      "metadata": {},
      "outputs": [
        {
          "data": {
            "text/plain": [
              "array([ 199000.,  105000.,  189000.,  185000., 2500000.,   97000.,\n",
              "        209000.,  215000.,   82000.,   99000.,  320000.,  121000.,\n",
              "        155000.,  110000.,  176717.,  159000.,  160000.,  390000.])"
            ]
          },
          "execution_count": 121,
          "metadata": {},
          "output_type": "execute_result"
        }
      ],
      "source": [
        "#Muestra valores reales\n",
        "y_test.values[:18]"
      ]
    },
    {
      "cell_type": "code",
      "execution_count": 122,
      "metadata": {},
      "outputs": [
        {
          "data": {
            "text/plain": [
              "array([ 230000.,  104000.,  148000.,   55000., 1830000.,   93000.,\n",
              "        290000.,  145000.,   79000.,   88000.,  134000.,  121000.,\n",
              "         87500.,   72500.,  126100.,  170000.,   85900.,  295000.])"
            ]
          },
          "execution_count": 122,
          "metadata": {},
          "output_type": "execute_result"
        }
      ],
      "source": [
        "#Muestra valores_predecidos\n",
        "y_pred[:18]"
      ]
    },
    {
      "cell_type": "code",
      "execution_count": 123,
      "metadata": {},
      "outputs": [
        {
          "data": {
            "text/plain": [
              "[('latitud', 0.2691557087771889),\n",
              " ('longitud', 0.24961096260270388),\n",
              " ('property_surface_covered', 0.24326741517061487),\n",
              " ('property_surface_total', 0.18300709136828797),\n",
              " ('property_rooms', 0.016338849615358145),\n",
              " ('property_bedrooms', 0.011684150806740935),\n",
              " ('place_l3_Puerto Madero', 0.006779628659811093),\n",
              " ('place_l3_Caballito', 0.0053270367566152985),\n",
              " ('place_l3_Palermo', 0.0018715024832232133),\n",
              " ('place_l3_Villa Urquiza', 0.0014301223568882904),\n",
              " ('place_l3_Belgrano', 0.0012644690192992287),\n",
              " ('place_l3_Recoleta', 0.0011537661627620851),\n",
              " ('place_l3_Villa Devoto', 0.0008971790175083797),\n",
              " ('place_l3_Almagro', 0.0008181981234322105),\n",
              " ('place_l3_Barracas', 0.0006281446136501363),\n",
              " ('place_l3_Nuñez', 0.0005840453109607115),\n",
              " ('place_l3_Flores', 0.0005138798278880335),\n",
              " ('place_l3_Villa Crespo', 0.00038783529578886),\n",
              " ('place_l3_Villa del Parque', 0.0003795643062265038),\n",
              " ('place_l3_Balvanera', 0.0003525722254194368),\n",
              " ('place_l3_Saavedra', 0.0003336498900074859),\n",
              " ('place_l3_Chacarita', 0.0003227465524616305),\n",
              " ('place_l3_Barrio Norte', 0.00031244816166927676),\n",
              " ('place_l3_Colegiales', 0.00030981184161735394),\n",
              " ('place_l3_San Nicolás', 0.00027469200438508815),\n",
              " ('place_l3_Parque Patricios', 0.0002716164028761121),\n",
              " ('place_l3_Villa Lugano', 0.00025305141987046263),\n",
              " ('place_l3_Monte Castro', 0.00023301743262384966),\n",
              " ('place_l3_Villa Pueyrredón', 0.00022879818713816033),\n",
              " ('place_l3_Floresta', 0.00017611170250018276),\n",
              " ('place_l3_Boedo', 0.00017174563085265446),\n",
              " ('place_l3_San Cristobal', 0.00016196101120292603),\n",
              " ('place_l3_Liniers', 0.00015300291134181677),\n",
              " ('place_l3_Villa Luro', 0.00015249073308169975),\n",
              " ('place_l3_Coghlan', 0.00014702149954685988),\n",
              " ('place_l3_San Telmo', 0.00014108646327499818),\n",
              " ('place_l3_Monserrat', 0.00013182309206115505),\n",
              " ('place_l3_Villa Ortuzar', 9.116466081252685e-05),\n",
              " ('place_l3_Villa Santa Rita', 7.91152633582386e-05),\n",
              " ('place_l3_Retiro', 7.793504044555387e-05),\n",
              " ('place_l3_Parque Chas', 7.408702812402525e-05),\n",
              " ('place_l3_Villa General Mitre', 6.862845743594635e-05),\n",
              " ('place_l3_Parque Avellaneda', 6.447913169523266e-05),\n",
              " ('place_l3_Paternal', 6.0347408494518685e-05),\n",
              " ('place_l3_Pompeya', 5.325532737874874e-05),\n",
              " ('place_l3_Villa Real', 4.976007320264941e-05),\n",
              " ('place_l3_Parque Chacabuco', 4.9046936848268726e-05),\n",
              " ('place_l3_Boca', 4.410824019382324e-05),\n",
              " ('place_l3_Versalles', 3.004478565008769e-05),\n",
              " ('place_l3_Mataderos', 2.1458406941720088e-05),\n",
              " ('place_l3_Velez Sarsfield', 9.371802538767488e-06),\n",
              " ('place_l3_Agronomía', 0.0),\n",
              " ('place_l3_Catalinas', 0.0),\n",
              " ('place_l3_Centro / Microcentro', 0.0),\n",
              " ('place_l3_Congreso', 0.0),\n",
              " ('place_l3_Constitución', 0.0),\n",
              " ('place_l3_Las Cañitas', 0.0),\n",
              " ('place_l3_Once', 0.0),\n",
              " ('place_l3_Parque Centenario', 0.0),\n",
              " ('place_l3_Tribunales', 0.0),\n",
              " ('place_l3_Villa Riachuelo', 0.0),\n",
              " ('place_l3_Villa Soldati', 0.0)]"
            ]
          },
          "execution_count": 123,
          "metadata": {},
          "output_type": "execute_result"
        }
      ],
      "source": [
        "#Importancia de los atributos de ayor a menor\n",
        "sorted(list(zip(ds_prop_filtrado_x.columns.to_list(), model.feature_importances_)), key=lambda x: -x[1])"
      ]
    },
    {
      "cell_type": "markdown",
      "metadata": {},
      "source": [
        "Analizamos la varianza de las variables"
      ]
    },
    {
      "cell_type": "code",
      "execution_count": 124,
      "metadata": {},
      "outputs": [
        {
          "name": "stderr",
          "output_type": "stream",
          "text": [
            "<ipython-input-124-0a2554f4eb1e>:1: FutureWarning: Dropping of nuisance columns in DataFrame reductions (with 'numeric_only=None') is deprecated; in a future version this will raise TypeError.  Select only valid columns before calling the reduction.\n",
            "  ds_prop_filtrado.var()\n"
          ]
        },
        {
          "data": {
            "text/plain": [
              "latitud                     6.973490e-04\n",
              "longitud                    1.457198e-03\n",
              "property_rooms              2.005721e+00\n",
              "property_bedrooms           1.259059e+00\n",
              "property_surface_total      9.582885e+05\n",
              "property_surface_covered    1.023783e+06\n",
              "property_price              9.809448e+10\n",
              "dtype: float64"
            ]
          },
          "execution_count": 124,
          "metadata": {},
          "output_type": "execute_result"
        }
      ],
      "source": [
        "ds_prop_filtrado.var()"
      ]
    },
    {
      "cell_type": "code",
      "execution_count": 125,
      "metadata": {},
      "outputs": [],
      "source": [
        "#Reducimos el dataset\n",
        "#variables_eliminadas = ['property_bedrooms', 'property_title', 'end_date', 'created_ond', 'start_date']\n",
        "#ds_prop_reducido = ds_prop_filtrado.drop(variables_eliminadas, axis='columns', inplace=False)"
      ]
    }
  ],
  "metadata": {
    "colab": {
      "include_colab_link": true,
      "provenance": []
    },
    "kernelspec": {
      "display_name": "Python 3.8.10 64-bit",
      "language": "python",
      "name": "python3"
    },
    "language_info": {
      "codemirror_mode": {
        "name": "ipython",
        "version": 3
      },
      "file_extension": ".py",
      "mimetype": "text/x-python",
      "name": "python",
      "nbconvert_exporter": "python",
      "pygments_lexer": "ipython3",
      "version": "3.8.10"
    },
    "vscode": {
      "interpreter": {
        "hash": "916dbcbb3f70747c44a77c7bcd40155683ae19c65e1c03b4aa3499c5328201f1"
      }
    }
  },
  "nbformat": 4,
  "nbformat_minor": 0
}
