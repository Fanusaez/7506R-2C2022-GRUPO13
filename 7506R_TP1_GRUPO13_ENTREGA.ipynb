{
  "nbformat": 4,
  "nbformat_minor": 0,
  "metadata": {
    "colab": {
      "provenance": [],
      "authorship_tag": "ABX9TyP4XONp9djBrbDvZTMY0IBe",
      "include_colab_link": true
    },
    "kernelspec": {
      "name": "python3",
      "display_name": "Python 3"
    },
    "language_info": {
      "name": "python"
    }
  },
  "cells": [
    {
      "cell_type": "markdown",
      "metadata": {
        "id": "view-in-github",
        "colab_type": "text"
      },
      "source": [
        "<a href=\"https://colab.research.google.com/github/Fanusaez/7506R-2C2022-GRUPO13/blob/main/7506R_TP1_GRUPO13_ENTREGA.ipynb\" target=\"_parent\"><img src=\"https://colab.research.google.com/assets/colab-badge.svg\" alt=\"Open In Colab\"/></a>"
      ]
    },
    {
      "cell_type": "markdown",
      "source": [
        "# Trabajo Practico 1 : Propiedades en Venta\n",
        "## Grupo 13\n",
        "### Integrantes:\n",
        "- Ivan Manuel Pensado\n",
        "- Axel Tomas Higa\n",
        "- Edgardo Francisco Saez \n",
        "- Lautaro Barrionuevo\n",
        "- Nicolás Carreño"
      ],
      "metadata": {
        "id": "nJ_n4ngThDGU"
      }
    },
    {
      "cell_type": "markdown",
      "source": [
        "# Importe de librerias"
      ],
      "metadata": {
        "id": "hDb_EqqsmUQY"
      }
    },
    {
      "cell_type": "code",
      "source": [
        "import pandas as pd\n",
        "import numpy as np\n",
        "\n",
        "import seaborn as sns\n",
        "from matplotlib import pyplot as plt"
      ],
      "metadata": {
        "id": "8NDsT1MBmcDe"
      },
      "execution_count": 52,
      "outputs": []
    },
    {
      "cell_type": "markdown",
      "source": [
        "# Análisis Exploratorio y Preprocesamiento de Datos"
      ],
      "metadata": {
        "id": "QM2Lexy1ip_-"
      }
    },
    {
      "cell_type": "markdown",
      "source": [
        "Cargamos dataset sobre el que vamos a trabajar"
      ],
      "metadata": {
        "id": "4Ygmy7n1m8ae"
      }
    },
    {
      "cell_type": "code",
      "source": [
        "from google.colab import drive\n",
        "drive.mount(\"/gdrive\")\n",
        "ds_properati = pd.read_csv('/gdrive/My Drive/properati_argentina_2021.csv') #Hay que tener una copia del dataset subida al drive"
      ],
      "metadata": {
        "colab": {
          "base_uri": "https://localhost:8080/"
        },
        "id": "EhZ0WR3BsRun",
        "outputId": "a67e5bcf-87ba-4ac2-fd62-d86e906f2faf"
      },
      "execution_count": 53,
      "outputs": [
        {
          "output_type": "stream",
          "name": "stdout",
          "text": [
            "Drive already mounted at /gdrive; to attempt to forcibly remount, call drive.mount(\"/gdrive\", force_remount=True).\n"
          ]
        }
      ]
    },
    {
      "cell_type": "code",
      "source": [
        "ds_properati = pd.read_csv('/gdrive/My Drive/properati_argentina_2021.csv')\n",
        "ds_trabajo = ds_properati.copy()\n"
      ],
      "metadata": {
        "id": "I8aGLdMXoeru"
      },
      "execution_count": 54,
      "outputs": []
    },
    {
      "cell_type": "markdown",
      "source": [
        "Cantidad de filas y columnas del dataset"
      ],
      "metadata": {
        "id": "aG6DzAccqgyc"
      }
    },
    {
      "cell_type": "code",
      "source": [
        "ds_trabajo.shape"
      ],
      "metadata": {
        "id": "6ITlFKevqa_G",
        "outputId": "cc169075-a530-422e-b7b8-b16dfe59f185",
        "colab": {
          "base_uri": "https://localhost:8080/"
        }
      },
      "execution_count": 55,
      "outputs": [
        {
          "output_type": "execute_result",
          "data": {
            "text/plain": [
              "(460154, 20)"
            ]
          },
          "metadata": {},
          "execution_count": 55
        }
      ]
    },
    {
      "cell_type": "markdown",
      "source": [
        "Columnas del dataset"
      ],
      "metadata": {
        "id": "USm6NSUMrMo7"
      }
    },
    {
      "cell_type": "code",
      "source": [
        "ds_trabajo.columns.to_list()"
      ],
      "metadata": {
        "id": "o9a0KD3yrPag",
        "outputId": "ba208299-20dc-44a3-e22e-cd39195b626c",
        "colab": {
          "base_uri": "https://localhost:8080/"
        }
      },
      "execution_count": 56,
      "outputs": [
        {
          "output_type": "execute_result",
          "data": {
            "text/plain": [
              "['id',\n",
              " 'start_date',\n",
              " 'end_date',\n",
              " 'created_on',\n",
              " 'latitud',\n",
              " 'longitud',\n",
              " 'place_l2',\n",
              " 'place_l3',\n",
              " 'place_l4',\n",
              " 'place_l5',\n",
              " 'place_l6',\n",
              " 'operation',\n",
              " 'property_type',\n",
              " 'property_rooms',\n",
              " 'property_bedrooms',\n",
              " 'property_surface_total',\n",
              " 'property_surface_covered',\n",
              " 'property_price',\n",
              " 'property_currency',\n",
              " 'property_title']"
            ]
          },
          "metadata": {},
          "execution_count": 56
        }
      ]
    },
    {
      "cell_type": "markdown",
      "source": [
        "Tipo de dato de cada columna"
      ],
      "metadata": {
        "id": "GV80bXijsDp1"
      }
    },
    {
      "cell_type": "code",
      "source": [
        "ds_trabajo.dtypes"
      ],
      "metadata": {
        "id": "DEpPJgrQsMR1",
        "outputId": "244bcaba-99b8-4026-c214-107804321cb5",
        "colab": {
          "base_uri": "https://localhost:8080/"
        }
      },
      "execution_count": 57,
      "outputs": [
        {
          "output_type": "execute_result",
          "data": {
            "text/plain": [
              "id                           object\n",
              "start_date                   object\n",
              "end_date                     object\n",
              "created_on                   object\n",
              "latitud                     float64\n",
              "longitud                    float64\n",
              "place_l2                     object\n",
              "place_l3                     object\n",
              "place_l4                     object\n",
              "place_l5                     object\n",
              "place_l6                    float64\n",
              "operation                    object\n",
              "property_type                object\n",
              "property_rooms              float64\n",
              "property_bedrooms           float64\n",
              "property_surface_total      float64\n",
              "property_surface_covered    float64\n",
              "property_price              float64\n",
              "property_currency            object\n",
              "property_title               object\n",
              "dtype: object"
            ]
          },
          "metadata": {},
          "execution_count": 57
        }
      ]
    },
    {
      "cell_type": "markdown",
      "source": [
        "Convierto las fechas en tipo de dato \"date\""
      ],
      "metadata": {
        "id": "Bcrn4v8T42j1"
      }
    },
    {
      "cell_type": "code",
      "source": [
        "ds_trabajo[\"start_date\"] = pd.to_datetime(ds_trabajo[\"start_date\"],errors='ignore', dayfirst = True)\n",
        "ds_trabajo[\"end_date\"] = pd.to_datetime(ds_trabajo[\"end_date\"],errors='coerce', dayfirst = True)"
      ],
      "metadata": {
        "id": "Ygs6gm3s4-N3"
      },
      "execution_count": 58,
      "outputs": []
    },
    {
      "cell_type": "markdown",
      "source": [
        "Porcentaje de NaN por columna"
      ],
      "metadata": {
        "id": "01sboYbdsIFF"
      }
    },
    {
      "cell_type": "code",
      "source": [
        "filas_totales=ds_trabajo.shape[0]\n",
        "print(ds_trabajo.isna().sum()/filas_totales*100)"
      ],
      "metadata": {
        "id": "DpVvlXyDstO4",
        "outputId": "03707aee-4ba0-4900-c4a7-8c0f39179a4e",
        "colab": {
          "base_uri": "https://localhost:8080/"
        }
      },
      "execution_count": 59,
      "outputs": [
        {
          "output_type": "stream",
          "name": "stdout",
          "text": [
            "id                            0.000000\n",
            "start_date                    0.000000\n",
            "end_date                      5.943010\n",
            "created_on                    0.000000\n",
            "latitud                       8.782712\n",
            "longitud                      8.782712\n",
            "place_l2                      0.000000\n",
            "place_l3                      4.887277\n",
            "place_l4                     69.788375\n",
            "place_l5                     99.471916\n",
            "place_l6                    100.000000\n",
            "operation                     0.000000\n",
            "property_type                 0.000000\n",
            "property_rooms               19.918549\n",
            "property_bedrooms            25.217862\n",
            "property_surface_total       13.547856\n",
            "property_surface_covered      7.005915\n",
            "property_price                3.911951\n",
            "property_currency             4.034302\n",
            "property_title                0.000000\n",
            "dtype: float64\n"
          ]
        }
      ]
    },
    {
      "cell_type": "code",
      "source": [
        "ds_trabajo.head()"
      ],
      "metadata": {
        "id": "zuU3mf9vwGay",
        "outputId": "855e5267-9a92-4843-80e8-ca8f2c17a3e6",
        "colab": {
          "base_uri": "https://localhost:8080/",
          "height": 357
        }
      },
      "execution_count": 60,
      "outputs": [
        {
          "output_type": "execute_result",
          "data": {
            "text/plain": [
              "                         id start_date   end_date  created_on    latitud  \\\n",
              "0  XZq2dFGxBiboHY3Bo/tqlw== 2021-09-09 2022-01-27  2021-09-09 -38.957632   \n",
              "1  8afoK+yMH/rnnlYiktwgNA== 2021-09-09 2021-10-23  2021-09-09 -34.888878   \n",
              "2  iVaG5rBB47dd1Ya4BMXREA== 2021-09-09 2022-03-09  2021-09-09 -32.488717   \n",
              "3  QE1QVMWKAHWkd0qT0FtPWA== 2021-09-09 2022-01-27  2021-09-09 -34.900165   \n",
              "4  tJ5lSk7IysG/71OGhacNZA== 2021-09-09 2022-01-27  2021-09-09 -38.954528   \n",
              "\n",
              "    longitud    place_l2 place_l3 place_l4 place_l5  place_l6 operation  \\\n",
              "0 -68.105443     Neuquén      NaN      NaN      NaN       NaN     Venta   \n",
              "1 -56.092368  Montevideo      NaN      NaN      NaN       NaN     Venta   \n",
              "2 -58.257499  Entre Ríos      NaN      NaN      NaN       NaN     Venta   \n",
              "3 -54.808453   Maldonado      NaN      NaN      NaN       NaN     Venta   \n",
              "4 -68.041862     Neuquén      NaN      NaN      NaN       NaN     Venta   \n",
              "\n",
              "  property_type  property_rooms  property_bedrooms  property_surface_total  \\\n",
              "0          Casa             6.0                NaN                     NaN   \n",
              "1          Casa             4.0                3.0                   193.0   \n",
              "2          Casa             NaN                NaN                   110.0   \n",
              "3          Casa             NaN                3.0                     NaN   \n",
              "4            PH             3.0                2.0                     NaN   \n",
              "\n",
              "   property_surface_covered  property_price property_currency  \\\n",
              "0                     206.0             NaN               NaN   \n",
              "1                     193.0        390000.0               USD   \n",
              "2                      45.0         47000.0               USD   \n",
              "3                     180.0        400000.0               USD   \n",
              "4                      98.0        102000.0               USD   \n",
              "\n",
              "       property_title  \n",
              "0      Casa - Capital  \n",
              "1       Casa - Malvín  \n",
              "2      Casa - Uruguay  \n",
              "3    Casa - El Chorro  \n",
              "4  PH - Villa Farrell  "
            ],
            "text/html": [
              "\n",
              "  <div id=\"df-594a1c05-5154-4a02-9679-622141cfd98a\">\n",
              "    <div class=\"colab-df-container\">\n",
              "      <div>\n",
              "<style scoped>\n",
              "    .dataframe tbody tr th:only-of-type {\n",
              "        vertical-align: middle;\n",
              "    }\n",
              "\n",
              "    .dataframe tbody tr th {\n",
              "        vertical-align: top;\n",
              "    }\n",
              "\n",
              "    .dataframe thead th {\n",
              "        text-align: right;\n",
              "    }\n",
              "</style>\n",
              "<table border=\"1\" class=\"dataframe\">\n",
              "  <thead>\n",
              "    <tr style=\"text-align: right;\">\n",
              "      <th></th>\n",
              "      <th>id</th>\n",
              "      <th>start_date</th>\n",
              "      <th>end_date</th>\n",
              "      <th>created_on</th>\n",
              "      <th>latitud</th>\n",
              "      <th>longitud</th>\n",
              "      <th>place_l2</th>\n",
              "      <th>place_l3</th>\n",
              "      <th>place_l4</th>\n",
              "      <th>place_l5</th>\n",
              "      <th>place_l6</th>\n",
              "      <th>operation</th>\n",
              "      <th>property_type</th>\n",
              "      <th>property_rooms</th>\n",
              "      <th>property_bedrooms</th>\n",
              "      <th>property_surface_total</th>\n",
              "      <th>property_surface_covered</th>\n",
              "      <th>property_price</th>\n",
              "      <th>property_currency</th>\n",
              "      <th>property_title</th>\n",
              "    </tr>\n",
              "  </thead>\n",
              "  <tbody>\n",
              "    <tr>\n",
              "      <th>0</th>\n",
              "      <td>XZq2dFGxBiboHY3Bo/tqlw==</td>\n",
              "      <td>2021-09-09</td>\n",
              "      <td>2022-01-27</td>\n",
              "      <td>2021-09-09</td>\n",
              "      <td>-38.957632</td>\n",
              "      <td>-68.105443</td>\n",
              "      <td>Neuquén</td>\n",
              "      <td>NaN</td>\n",
              "      <td>NaN</td>\n",
              "      <td>NaN</td>\n",
              "      <td>NaN</td>\n",
              "      <td>Venta</td>\n",
              "      <td>Casa</td>\n",
              "      <td>6.0</td>\n",
              "      <td>NaN</td>\n",
              "      <td>NaN</td>\n",
              "      <td>206.0</td>\n",
              "      <td>NaN</td>\n",
              "      <td>NaN</td>\n",
              "      <td>Casa - Capital</td>\n",
              "    </tr>\n",
              "    <tr>\n",
              "      <th>1</th>\n",
              "      <td>8afoK+yMH/rnnlYiktwgNA==</td>\n",
              "      <td>2021-09-09</td>\n",
              "      <td>2021-10-23</td>\n",
              "      <td>2021-09-09</td>\n",
              "      <td>-34.888878</td>\n",
              "      <td>-56.092368</td>\n",
              "      <td>Montevideo</td>\n",
              "      <td>NaN</td>\n",
              "      <td>NaN</td>\n",
              "      <td>NaN</td>\n",
              "      <td>NaN</td>\n",
              "      <td>Venta</td>\n",
              "      <td>Casa</td>\n",
              "      <td>4.0</td>\n",
              "      <td>3.0</td>\n",
              "      <td>193.0</td>\n",
              "      <td>193.0</td>\n",
              "      <td>390000.0</td>\n",
              "      <td>USD</td>\n",
              "      <td>Casa - Malvín</td>\n",
              "    </tr>\n",
              "    <tr>\n",
              "      <th>2</th>\n",
              "      <td>iVaG5rBB47dd1Ya4BMXREA==</td>\n",
              "      <td>2021-09-09</td>\n",
              "      <td>2022-03-09</td>\n",
              "      <td>2021-09-09</td>\n",
              "      <td>-32.488717</td>\n",
              "      <td>-58.257499</td>\n",
              "      <td>Entre Ríos</td>\n",
              "      <td>NaN</td>\n",
              "      <td>NaN</td>\n",
              "      <td>NaN</td>\n",
              "      <td>NaN</td>\n",
              "      <td>Venta</td>\n",
              "      <td>Casa</td>\n",
              "      <td>NaN</td>\n",
              "      <td>NaN</td>\n",
              "      <td>110.0</td>\n",
              "      <td>45.0</td>\n",
              "      <td>47000.0</td>\n",
              "      <td>USD</td>\n",
              "      <td>Casa - Uruguay</td>\n",
              "    </tr>\n",
              "    <tr>\n",
              "      <th>3</th>\n",
              "      <td>QE1QVMWKAHWkd0qT0FtPWA==</td>\n",
              "      <td>2021-09-09</td>\n",
              "      <td>2022-01-27</td>\n",
              "      <td>2021-09-09</td>\n",
              "      <td>-34.900165</td>\n",
              "      <td>-54.808453</td>\n",
              "      <td>Maldonado</td>\n",
              "      <td>NaN</td>\n",
              "      <td>NaN</td>\n",
              "      <td>NaN</td>\n",
              "      <td>NaN</td>\n",
              "      <td>Venta</td>\n",
              "      <td>Casa</td>\n",
              "      <td>NaN</td>\n",
              "      <td>3.0</td>\n",
              "      <td>NaN</td>\n",
              "      <td>180.0</td>\n",
              "      <td>400000.0</td>\n",
              "      <td>USD</td>\n",
              "      <td>Casa - El Chorro</td>\n",
              "    </tr>\n",
              "    <tr>\n",
              "      <th>4</th>\n",
              "      <td>tJ5lSk7IysG/71OGhacNZA==</td>\n",
              "      <td>2021-09-09</td>\n",
              "      <td>2022-01-27</td>\n",
              "      <td>2021-09-09</td>\n",
              "      <td>-38.954528</td>\n",
              "      <td>-68.041862</td>\n",
              "      <td>Neuquén</td>\n",
              "      <td>NaN</td>\n",
              "      <td>NaN</td>\n",
              "      <td>NaN</td>\n",
              "      <td>NaN</td>\n",
              "      <td>Venta</td>\n",
              "      <td>PH</td>\n",
              "      <td>3.0</td>\n",
              "      <td>2.0</td>\n",
              "      <td>NaN</td>\n",
              "      <td>98.0</td>\n",
              "      <td>102000.0</td>\n",
              "      <td>USD</td>\n",
              "      <td>PH - Villa Farrell</td>\n",
              "    </tr>\n",
              "  </tbody>\n",
              "</table>\n",
              "</div>\n",
              "      <button class=\"colab-df-convert\" onclick=\"convertToInteractive('df-594a1c05-5154-4a02-9679-622141cfd98a')\"\n",
              "              title=\"Convert this dataframe to an interactive table.\"\n",
              "              style=\"display:none;\">\n",
              "        \n",
              "  <svg xmlns=\"http://www.w3.org/2000/svg\" height=\"24px\"viewBox=\"0 0 24 24\"\n",
              "       width=\"24px\">\n",
              "    <path d=\"M0 0h24v24H0V0z\" fill=\"none\"/>\n",
              "    <path d=\"M18.56 5.44l.94 2.06.94-2.06 2.06-.94-2.06-.94-.94-2.06-.94 2.06-2.06.94zm-11 1L8.5 8.5l.94-2.06 2.06-.94-2.06-.94L8.5 2.5l-.94 2.06-2.06.94zm10 10l.94 2.06.94-2.06 2.06-.94-2.06-.94-.94-2.06-.94 2.06-2.06.94z\"/><path d=\"M17.41 7.96l-1.37-1.37c-.4-.4-.92-.59-1.43-.59-.52 0-1.04.2-1.43.59L10.3 9.45l-7.72 7.72c-.78.78-.78 2.05 0 2.83L4 21.41c.39.39.9.59 1.41.59.51 0 1.02-.2 1.41-.59l7.78-7.78 2.81-2.81c.8-.78.8-2.07 0-2.86zM5.41 20L4 18.59l7.72-7.72 1.47 1.35L5.41 20z\"/>\n",
              "  </svg>\n",
              "      </button>\n",
              "      \n",
              "  <style>\n",
              "    .colab-df-container {\n",
              "      display:flex;\n",
              "      flex-wrap:wrap;\n",
              "      gap: 12px;\n",
              "    }\n",
              "\n",
              "    .colab-df-convert {\n",
              "      background-color: #E8F0FE;\n",
              "      border: none;\n",
              "      border-radius: 50%;\n",
              "      cursor: pointer;\n",
              "      display: none;\n",
              "      fill: #1967D2;\n",
              "      height: 32px;\n",
              "      padding: 0 0 0 0;\n",
              "      width: 32px;\n",
              "    }\n",
              "\n",
              "    .colab-df-convert:hover {\n",
              "      background-color: #E2EBFA;\n",
              "      box-shadow: 0px 1px 2px rgba(60, 64, 67, 0.3), 0px 1px 3px 1px rgba(60, 64, 67, 0.15);\n",
              "      fill: #174EA6;\n",
              "    }\n",
              "\n",
              "    [theme=dark] .colab-df-convert {\n",
              "      background-color: #3B4455;\n",
              "      fill: #D2E3FC;\n",
              "    }\n",
              "\n",
              "    [theme=dark] .colab-df-convert:hover {\n",
              "      background-color: #434B5C;\n",
              "      box-shadow: 0px 1px 3px 1px rgba(0, 0, 0, 0.15);\n",
              "      filter: drop-shadow(0px 1px 2px rgba(0, 0, 0, 0.3));\n",
              "      fill: #FFFFFF;\n",
              "    }\n",
              "  </style>\n",
              "\n",
              "      <script>\n",
              "        const buttonEl =\n",
              "          document.querySelector('#df-594a1c05-5154-4a02-9679-622141cfd98a button.colab-df-convert');\n",
              "        buttonEl.style.display =\n",
              "          google.colab.kernel.accessAllowed ? 'block' : 'none';\n",
              "\n",
              "        async function convertToInteractive(key) {\n",
              "          const element = document.querySelector('#df-594a1c05-5154-4a02-9679-622141cfd98a');\n",
              "          const dataTable =\n",
              "            await google.colab.kernel.invokeFunction('convertToInteractive',\n",
              "                                                     [key], {});\n",
              "          if (!dataTable) return;\n",
              "\n",
              "          const docLinkHtml = 'Like what you see? Visit the ' +\n",
              "            '<a target=\"_blank\" href=https://colab.research.google.com/notebooks/data_table.ipynb>data table notebook</a>'\n",
              "            + ' to learn more about interactive tables.';\n",
              "          element.innerHTML = '';\n",
              "          dataTable['output_type'] = 'display_data';\n",
              "          await google.colab.output.renderOutput(dataTable, element);\n",
              "          const docLink = document.createElement('div');\n",
              "          docLink.innerHTML = docLinkHtml;\n",
              "          element.appendChild(docLink);\n",
              "        }\n",
              "      </script>\n",
              "    </div>\n",
              "  </div>\n",
              "  "
            ]
          },
          "metadata": {},
          "execution_count": 60
        }
      ]
    },
    {
      "cell_type": "markdown",
      "source": [
        "##Exploración Inicial"
      ],
      "metadata": {
        "id": "2cwSOZSxuwCc"
      }
    },
    {
      "cell_type": "markdown",
      "source": [
        "Filtro los datos y me quedo unicamente con anuncios de propiedades de tipo vivienda ( Casa, PH y Departamento ) ubicados en Capital Federal, cuyo tipo de operación sea venta y su precio se encuentre en (USD)."
      ],
      "metadata": {
        "id": "Cso0izJ66apH"
      }
    },
    {
      "cell_type": "code",
      "source": [
        "ds_exploracion = ds_trabajo[ds_trabajo.place_l2.str.contains('Capital Federal', case=False, na = True)]\n",
        "ds_exploracion = ds_exploracion[ds_exploracion.property_type.str.contains('Departamento|casa|ph', case=False, na =  True)]\n",
        "ds_exploracion = ds_exploracion[ds_exploracion.operation.str.contains('venta', case=False, na =  True)]\n",
        "ds_exploracion = ds_exploracion[ds_exploracion.property_currency.str.contains('USD', case=False, na =  True)]"
      ],
      "metadata": {
        "id": "5Cw7b-Wvu2sC"
      },
      "execution_count": 61,
      "outputs": []
    },
    {
      "cell_type": "markdown",
      "source": [
        "Elimino columnas innecesarias y miro cantidad de filas/columnas dataset"
      ],
      "metadata": {
        "id": "mQBqVmhk7RUv"
      }
    },
    {
      "cell_type": "code",
      "source": [
        "columnas_a_eliminar = [\"id\"] # variables irrelevantes, podrian ser: property_title place_l5\tplace_l6 y (start_date created_on) son lo mismo\n",
        "ds_exploracion.drop(columns = columnas_a_eliminar, inplace = True)\n",
        "ds_exploracion.shape"
      ],
      "metadata": {
        "id": "F81XsA1A7kS_",
        "outputId": "168b4108-f156-45cc-d1e6-a55cd25335ca",
        "colab": {
          "base_uri": "https://localhost:8080/"
        }
      },
      "execution_count": 62,
      "outputs": [
        {
          "output_type": "stream",
          "name": "stderr",
          "text": [
            "/usr/local/lib/python3.7/dist-packages/pandas/core/frame.py:4913: SettingWithCopyWarning: \n",
            "A value is trying to be set on a copy of a slice from a DataFrame\n",
            "\n",
            "See the caveats in the documentation: https://pandas.pydata.org/pandas-docs/stable/user_guide/indexing.html#returning-a-view-versus-a-copy\n",
            "  errors=errors,\n"
          ]
        },
        {
          "output_type": "execute_result",
          "data": {
            "text/plain": [
              "(95502, 19)"
            ]
          },
          "metadata": {},
          "execution_count": 62
        }
      ]
    },
    {
      "cell_type": "code",
      "source": [
        "ds_exploracion.head()"
      ],
      "metadata": {
        "id": "s1ut1KR1_WNl",
        "outputId": "46be4555-86c7-4e3d-8b60-a412bc665351",
        "colab": {
          "base_uri": "https://localhost:8080/",
          "height": 444
        }
      },
      "execution_count": 63,
      "outputs": [
        {
          "output_type": "execute_result",
          "data": {
            "text/plain": [
              "   start_date   end_date  created_on    latitud   longitud         place_l2  \\\n",
              "25 2021-09-09 2021-09-26  2021-09-09        NaN        NaN  Capital Federal   \n",
              "42 2021-09-09 2021-09-26  2021-09-09 -34.637319 -58.361124  Capital Federal   \n",
              "43 2021-09-09 2021-09-28  2021-09-09 -34.628647 -58.361871  Capital Federal   \n",
              "44 2021-09-09 2022-03-09  2021-09-09 -34.599506 -58.404138  Capital Federal   \n",
              "49 2021-09-09 2022-01-05  2021-09-09 -34.610027 -58.401934  Capital Federal   \n",
              "\n",
              "   place_l3 place_l4 place_l5  place_l6 operation property_type  \\\n",
              "25      NaN      NaN      NaN       NaN     Venta          Casa   \n",
              "42     Boca      NaN      NaN       NaN     Venta  Departamento   \n",
              "43     Boca      NaN      NaN       NaN     Venta  Departamento   \n",
              "44     Once      NaN      NaN       NaN     Venta  Departamento   \n",
              "49     Once      NaN      NaN       NaN     Venta  Departamento   \n",
              "\n",
              "    property_rooms  property_bedrooms  property_surface_total  \\\n",
              "25             4.0                3.0                   171.0   \n",
              "42             3.0                2.0                    58.0   \n",
              "43             4.0                3.0                    70.0   \n",
              "44             2.0                1.0                    43.0   \n",
              "49             4.0                2.0                     NaN   \n",
              "\n",
              "    property_surface_covered  property_price property_currency  \\\n",
              "25                     133.0        210000.0               USD   \n",
              "42                      55.0         82900.0               USD   \n",
              "43                      70.0         99000.0               USD   \n",
              "44                      43.0             NaN               NaN   \n",
              "49                     104.0        146000.0               USD   \n",
              "\n",
              "                                 property_title  \n",
              "25  VENTA CASA LLAVE EN MANO - COSTA ESMERALDA   \n",
              "42       VENTA TRES AMBIENTES LA BOCA PISO ALTO  \n",
              "43   Departamento - 4 Ambientes - Catalinas Sur  \n",
              "44                          Av Puyrredon al 924  \n",
              "49          Venta departamento 4 ambientes Once  "
            ],
            "text/html": [
              "\n",
              "  <div id=\"df-e66c6b2e-dba9-4108-bdaf-a97febb0f91c\">\n",
              "    <div class=\"colab-df-container\">\n",
              "      <div>\n",
              "<style scoped>\n",
              "    .dataframe tbody tr th:only-of-type {\n",
              "        vertical-align: middle;\n",
              "    }\n",
              "\n",
              "    .dataframe tbody tr th {\n",
              "        vertical-align: top;\n",
              "    }\n",
              "\n",
              "    .dataframe thead th {\n",
              "        text-align: right;\n",
              "    }\n",
              "</style>\n",
              "<table border=\"1\" class=\"dataframe\">\n",
              "  <thead>\n",
              "    <tr style=\"text-align: right;\">\n",
              "      <th></th>\n",
              "      <th>start_date</th>\n",
              "      <th>end_date</th>\n",
              "      <th>created_on</th>\n",
              "      <th>latitud</th>\n",
              "      <th>longitud</th>\n",
              "      <th>place_l2</th>\n",
              "      <th>place_l3</th>\n",
              "      <th>place_l4</th>\n",
              "      <th>place_l5</th>\n",
              "      <th>place_l6</th>\n",
              "      <th>operation</th>\n",
              "      <th>property_type</th>\n",
              "      <th>property_rooms</th>\n",
              "      <th>property_bedrooms</th>\n",
              "      <th>property_surface_total</th>\n",
              "      <th>property_surface_covered</th>\n",
              "      <th>property_price</th>\n",
              "      <th>property_currency</th>\n",
              "      <th>property_title</th>\n",
              "    </tr>\n",
              "  </thead>\n",
              "  <tbody>\n",
              "    <tr>\n",
              "      <th>25</th>\n",
              "      <td>2021-09-09</td>\n",
              "      <td>2021-09-26</td>\n",
              "      <td>2021-09-09</td>\n",
              "      <td>NaN</td>\n",
              "      <td>NaN</td>\n",
              "      <td>Capital Federal</td>\n",
              "      <td>NaN</td>\n",
              "      <td>NaN</td>\n",
              "      <td>NaN</td>\n",
              "      <td>NaN</td>\n",
              "      <td>Venta</td>\n",
              "      <td>Casa</td>\n",
              "      <td>4.0</td>\n",
              "      <td>3.0</td>\n",
              "      <td>171.0</td>\n",
              "      <td>133.0</td>\n",
              "      <td>210000.0</td>\n",
              "      <td>USD</td>\n",
              "      <td>VENTA CASA LLAVE EN MANO - COSTA ESMERALDA</td>\n",
              "    </tr>\n",
              "    <tr>\n",
              "      <th>42</th>\n",
              "      <td>2021-09-09</td>\n",
              "      <td>2021-09-26</td>\n",
              "      <td>2021-09-09</td>\n",
              "      <td>-34.637319</td>\n",
              "      <td>-58.361124</td>\n",
              "      <td>Capital Federal</td>\n",
              "      <td>Boca</td>\n",
              "      <td>NaN</td>\n",
              "      <td>NaN</td>\n",
              "      <td>NaN</td>\n",
              "      <td>Venta</td>\n",
              "      <td>Departamento</td>\n",
              "      <td>3.0</td>\n",
              "      <td>2.0</td>\n",
              "      <td>58.0</td>\n",
              "      <td>55.0</td>\n",
              "      <td>82900.0</td>\n",
              "      <td>USD</td>\n",
              "      <td>VENTA TRES AMBIENTES LA BOCA PISO ALTO</td>\n",
              "    </tr>\n",
              "    <tr>\n",
              "      <th>43</th>\n",
              "      <td>2021-09-09</td>\n",
              "      <td>2021-09-28</td>\n",
              "      <td>2021-09-09</td>\n",
              "      <td>-34.628647</td>\n",
              "      <td>-58.361871</td>\n",
              "      <td>Capital Federal</td>\n",
              "      <td>Boca</td>\n",
              "      <td>NaN</td>\n",
              "      <td>NaN</td>\n",
              "      <td>NaN</td>\n",
              "      <td>Venta</td>\n",
              "      <td>Departamento</td>\n",
              "      <td>4.0</td>\n",
              "      <td>3.0</td>\n",
              "      <td>70.0</td>\n",
              "      <td>70.0</td>\n",
              "      <td>99000.0</td>\n",
              "      <td>USD</td>\n",
              "      <td>Departamento - 4 Ambientes - Catalinas Sur</td>\n",
              "    </tr>\n",
              "    <tr>\n",
              "      <th>44</th>\n",
              "      <td>2021-09-09</td>\n",
              "      <td>2022-03-09</td>\n",
              "      <td>2021-09-09</td>\n",
              "      <td>-34.599506</td>\n",
              "      <td>-58.404138</td>\n",
              "      <td>Capital Federal</td>\n",
              "      <td>Once</td>\n",
              "      <td>NaN</td>\n",
              "      <td>NaN</td>\n",
              "      <td>NaN</td>\n",
              "      <td>Venta</td>\n",
              "      <td>Departamento</td>\n",
              "      <td>2.0</td>\n",
              "      <td>1.0</td>\n",
              "      <td>43.0</td>\n",
              "      <td>43.0</td>\n",
              "      <td>NaN</td>\n",
              "      <td>NaN</td>\n",
              "      <td>Av Puyrredon al 924</td>\n",
              "    </tr>\n",
              "    <tr>\n",
              "      <th>49</th>\n",
              "      <td>2021-09-09</td>\n",
              "      <td>2022-01-05</td>\n",
              "      <td>2021-09-09</td>\n",
              "      <td>-34.610027</td>\n",
              "      <td>-58.401934</td>\n",
              "      <td>Capital Federal</td>\n",
              "      <td>Once</td>\n",
              "      <td>NaN</td>\n",
              "      <td>NaN</td>\n",
              "      <td>NaN</td>\n",
              "      <td>Venta</td>\n",
              "      <td>Departamento</td>\n",
              "      <td>4.0</td>\n",
              "      <td>2.0</td>\n",
              "      <td>NaN</td>\n",
              "      <td>104.0</td>\n",
              "      <td>146000.0</td>\n",
              "      <td>USD</td>\n",
              "      <td>Venta departamento 4 ambientes Once</td>\n",
              "    </tr>\n",
              "  </tbody>\n",
              "</table>\n",
              "</div>\n",
              "      <button class=\"colab-df-convert\" onclick=\"convertToInteractive('df-e66c6b2e-dba9-4108-bdaf-a97febb0f91c')\"\n",
              "              title=\"Convert this dataframe to an interactive table.\"\n",
              "              style=\"display:none;\">\n",
              "        \n",
              "  <svg xmlns=\"http://www.w3.org/2000/svg\" height=\"24px\"viewBox=\"0 0 24 24\"\n",
              "       width=\"24px\">\n",
              "    <path d=\"M0 0h24v24H0V0z\" fill=\"none\"/>\n",
              "    <path d=\"M18.56 5.44l.94 2.06.94-2.06 2.06-.94-2.06-.94-.94-2.06-.94 2.06-2.06.94zm-11 1L8.5 8.5l.94-2.06 2.06-.94-2.06-.94L8.5 2.5l-.94 2.06-2.06.94zm10 10l.94 2.06.94-2.06 2.06-.94-2.06-.94-.94-2.06-.94 2.06-2.06.94z\"/><path d=\"M17.41 7.96l-1.37-1.37c-.4-.4-.92-.59-1.43-.59-.52 0-1.04.2-1.43.59L10.3 9.45l-7.72 7.72c-.78.78-.78 2.05 0 2.83L4 21.41c.39.39.9.59 1.41.59.51 0 1.02-.2 1.41-.59l7.78-7.78 2.81-2.81c.8-.78.8-2.07 0-2.86zM5.41 20L4 18.59l7.72-7.72 1.47 1.35L5.41 20z\"/>\n",
              "  </svg>\n",
              "      </button>\n",
              "      \n",
              "  <style>\n",
              "    .colab-df-container {\n",
              "      display:flex;\n",
              "      flex-wrap:wrap;\n",
              "      gap: 12px;\n",
              "    }\n",
              "\n",
              "    .colab-df-convert {\n",
              "      background-color: #E8F0FE;\n",
              "      border: none;\n",
              "      border-radius: 50%;\n",
              "      cursor: pointer;\n",
              "      display: none;\n",
              "      fill: #1967D2;\n",
              "      height: 32px;\n",
              "      padding: 0 0 0 0;\n",
              "      width: 32px;\n",
              "    }\n",
              "\n",
              "    .colab-df-convert:hover {\n",
              "      background-color: #E2EBFA;\n",
              "      box-shadow: 0px 1px 2px rgba(60, 64, 67, 0.3), 0px 1px 3px 1px rgba(60, 64, 67, 0.15);\n",
              "      fill: #174EA6;\n",
              "    }\n",
              "\n",
              "    [theme=dark] .colab-df-convert {\n",
              "      background-color: #3B4455;\n",
              "      fill: #D2E3FC;\n",
              "    }\n",
              "\n",
              "    [theme=dark] .colab-df-convert:hover {\n",
              "      background-color: #434B5C;\n",
              "      box-shadow: 0px 1px 3px 1px rgba(0, 0, 0, 0.15);\n",
              "      filter: drop-shadow(0px 1px 2px rgba(0, 0, 0, 0.3));\n",
              "      fill: #FFFFFF;\n",
              "    }\n",
              "  </style>\n",
              "\n",
              "      <script>\n",
              "        const buttonEl =\n",
              "          document.querySelector('#df-e66c6b2e-dba9-4108-bdaf-a97febb0f91c button.colab-df-convert');\n",
              "        buttonEl.style.display =\n",
              "          google.colab.kernel.accessAllowed ? 'block' : 'none';\n",
              "\n",
              "        async function convertToInteractive(key) {\n",
              "          const element = document.querySelector('#df-e66c6b2e-dba9-4108-bdaf-a97febb0f91c');\n",
              "          const dataTable =\n",
              "            await google.colab.kernel.invokeFunction('convertToInteractive',\n",
              "                                                     [key], {});\n",
              "          if (!dataTable) return;\n",
              "\n",
              "          const docLinkHtml = 'Like what you see? Visit the ' +\n",
              "            '<a target=\"_blank\" href=https://colab.research.google.com/notebooks/data_table.ipynb>data table notebook</a>'\n",
              "            + ' to learn more about interactive tables.';\n",
              "          element.innerHTML = '';\n",
              "          dataTable['output_type'] = 'display_data';\n",
              "          await google.colab.output.renderOutput(dataTable, element);\n",
              "          const docLink = document.createElement('div');\n",
              "          docLink.innerHTML = docLinkHtml;\n",
              "          element.appendChild(docLink);\n",
              "        }\n",
              "      </script>\n",
              "    </div>\n",
              "  </div>\n",
              "  "
            ]
          },
          "metadata": {},
          "execution_count": 63
        }
      ]
    },
    {
      "cell_type": "markdown",
      "source": [
        "###Medidas de resumen variables cuantitativas"
      ],
      "metadata": {
        "id": "7T6d3taC5AYD"
      }
    },
    {
      "cell_type": "code",
      "source": [
        "ds_cuantitativo = ds_exploracion.loc[:,[\"property_rooms\", \"property_bedrooms\",\"property_surface_total\", \"property_surface_covered\", \"property_price\"]]\n",
        "ds_resumen = pd.DataFrame()\n",
        "ds_resumen[\"media\"] = ds_cuantitativo.mean()\n",
        "ds_resumen[\"mediana\"] = ds_cuantitativo.median()\n",
        "ds_resumen[\"q1\"] = ds_cuantitativo.quantile([.25]).iloc[0]\n",
        "ds_resumen[\"q3\"] = ds_cuantitativo.quantile([.75]).iloc[0]\n",
        "ds_resumen[\"moda\"] = ds_cuantitativo.mode().iloc[0]\n",
        "ds_resumen"
      ],
      "metadata": {
        "colab": {
          "base_uri": "https://localhost:8080/",
          "height": 206
        },
        "id": "lnYF_QZWqsS5",
        "outputId": "2cf5d829-647b-44ae-8885-f4d5b5237393"
      },
      "execution_count": 64,
      "outputs": [
        {
          "output_type": "execute_result",
          "data": {
            "text/plain": [
              "                                  media   mediana       q1        q3      moda\n",
              "property_rooms                 2.829215       3.0      2.0       4.0       3.0\n",
              "property_bedrooms              2.020568       2.0      1.0       3.0       1.0\n",
              "property_surface_total       110.891314      65.0     45.0     105.0      50.0\n",
              "property_surface_covered      89.591999      58.0     40.0      89.0      40.0\n",
              "property_price            226098.404133  143000.0  95000.0  237000.0  110000.0"
            ],
            "text/html": [
              "\n",
              "  <div id=\"df-875c1629-0acb-4e3b-8794-f77eb124d43b\">\n",
              "    <div class=\"colab-df-container\">\n",
              "      <div>\n",
              "<style scoped>\n",
              "    .dataframe tbody tr th:only-of-type {\n",
              "        vertical-align: middle;\n",
              "    }\n",
              "\n",
              "    .dataframe tbody tr th {\n",
              "        vertical-align: top;\n",
              "    }\n",
              "\n",
              "    .dataframe thead th {\n",
              "        text-align: right;\n",
              "    }\n",
              "</style>\n",
              "<table border=\"1\" class=\"dataframe\">\n",
              "  <thead>\n",
              "    <tr style=\"text-align: right;\">\n",
              "      <th></th>\n",
              "      <th>media</th>\n",
              "      <th>mediana</th>\n",
              "      <th>q1</th>\n",
              "      <th>q3</th>\n",
              "      <th>moda</th>\n",
              "    </tr>\n",
              "  </thead>\n",
              "  <tbody>\n",
              "    <tr>\n",
              "      <th>property_rooms</th>\n",
              "      <td>2.829215</td>\n",
              "      <td>3.0</td>\n",
              "      <td>2.0</td>\n",
              "      <td>4.0</td>\n",
              "      <td>3.0</td>\n",
              "    </tr>\n",
              "    <tr>\n",
              "      <th>property_bedrooms</th>\n",
              "      <td>2.020568</td>\n",
              "      <td>2.0</td>\n",
              "      <td>1.0</td>\n",
              "      <td>3.0</td>\n",
              "      <td>1.0</td>\n",
              "    </tr>\n",
              "    <tr>\n",
              "      <th>property_surface_total</th>\n",
              "      <td>110.891314</td>\n",
              "      <td>65.0</td>\n",
              "      <td>45.0</td>\n",
              "      <td>105.0</td>\n",
              "      <td>50.0</td>\n",
              "    </tr>\n",
              "    <tr>\n",
              "      <th>property_surface_covered</th>\n",
              "      <td>89.591999</td>\n",
              "      <td>58.0</td>\n",
              "      <td>40.0</td>\n",
              "      <td>89.0</td>\n",
              "      <td>40.0</td>\n",
              "    </tr>\n",
              "    <tr>\n",
              "      <th>property_price</th>\n",
              "      <td>226098.404133</td>\n",
              "      <td>143000.0</td>\n",
              "      <td>95000.0</td>\n",
              "      <td>237000.0</td>\n",
              "      <td>110000.0</td>\n",
              "    </tr>\n",
              "  </tbody>\n",
              "</table>\n",
              "</div>\n",
              "      <button class=\"colab-df-convert\" onclick=\"convertToInteractive('df-875c1629-0acb-4e3b-8794-f77eb124d43b')\"\n",
              "              title=\"Convert this dataframe to an interactive table.\"\n",
              "              style=\"display:none;\">\n",
              "        \n",
              "  <svg xmlns=\"http://www.w3.org/2000/svg\" height=\"24px\"viewBox=\"0 0 24 24\"\n",
              "       width=\"24px\">\n",
              "    <path d=\"M0 0h24v24H0V0z\" fill=\"none\"/>\n",
              "    <path d=\"M18.56 5.44l.94 2.06.94-2.06 2.06-.94-2.06-.94-.94-2.06-.94 2.06-2.06.94zm-11 1L8.5 8.5l.94-2.06 2.06-.94-2.06-.94L8.5 2.5l-.94 2.06-2.06.94zm10 10l.94 2.06.94-2.06 2.06-.94-2.06-.94-.94-2.06-.94 2.06-2.06.94z\"/><path d=\"M17.41 7.96l-1.37-1.37c-.4-.4-.92-.59-1.43-.59-.52 0-1.04.2-1.43.59L10.3 9.45l-7.72 7.72c-.78.78-.78 2.05 0 2.83L4 21.41c.39.39.9.59 1.41.59.51 0 1.02-.2 1.41-.59l7.78-7.78 2.81-2.81c.8-.78.8-2.07 0-2.86zM5.41 20L4 18.59l7.72-7.72 1.47 1.35L5.41 20z\"/>\n",
              "  </svg>\n",
              "      </button>\n",
              "      \n",
              "  <style>\n",
              "    .colab-df-container {\n",
              "      display:flex;\n",
              "      flex-wrap:wrap;\n",
              "      gap: 12px;\n",
              "    }\n",
              "\n",
              "    .colab-df-convert {\n",
              "      background-color: #E8F0FE;\n",
              "      border: none;\n",
              "      border-radius: 50%;\n",
              "      cursor: pointer;\n",
              "      display: none;\n",
              "      fill: #1967D2;\n",
              "      height: 32px;\n",
              "      padding: 0 0 0 0;\n",
              "      width: 32px;\n",
              "    }\n",
              "\n",
              "    .colab-df-convert:hover {\n",
              "      background-color: #E2EBFA;\n",
              "      box-shadow: 0px 1px 2px rgba(60, 64, 67, 0.3), 0px 1px 3px 1px rgba(60, 64, 67, 0.15);\n",
              "      fill: #174EA6;\n",
              "    }\n",
              "\n",
              "    [theme=dark] .colab-df-convert {\n",
              "      background-color: #3B4455;\n",
              "      fill: #D2E3FC;\n",
              "    }\n",
              "\n",
              "    [theme=dark] .colab-df-convert:hover {\n",
              "      background-color: #434B5C;\n",
              "      box-shadow: 0px 1px 3px 1px rgba(0, 0, 0, 0.15);\n",
              "      filter: drop-shadow(0px 1px 2px rgba(0, 0, 0, 0.3));\n",
              "      fill: #FFFFFF;\n",
              "    }\n",
              "  </style>\n",
              "\n",
              "      <script>\n",
              "        const buttonEl =\n",
              "          document.querySelector('#df-875c1629-0acb-4e3b-8794-f77eb124d43b button.colab-df-convert');\n",
              "        buttonEl.style.display =\n",
              "          google.colab.kernel.accessAllowed ? 'block' : 'none';\n",
              "\n",
              "        async function convertToInteractive(key) {\n",
              "          const element = document.querySelector('#df-875c1629-0acb-4e3b-8794-f77eb124d43b');\n",
              "          const dataTable =\n",
              "            await google.colab.kernel.invokeFunction('convertToInteractive',\n",
              "                                                     [key], {});\n",
              "          if (!dataTable) return;\n",
              "\n",
              "          const docLinkHtml = 'Like what you see? Visit the ' +\n",
              "            '<a target=\"_blank\" href=https://colab.research.google.com/notebooks/data_table.ipynb>data table notebook</a>'\n",
              "            + ' to learn more about interactive tables.';\n",
              "          element.innerHTML = '';\n",
              "          dataTable['output_type'] = 'display_data';\n",
              "          await google.colab.output.renderOutput(dataTable, element);\n",
              "          const docLink = document.createElement('div');\n",
              "          docLink.innerHTML = docLinkHtml;\n",
              "          element.appendChild(docLink);\n",
              "        }\n",
              "      </script>\n",
              "    </div>\n",
              "  </div>\n",
              "  "
            ]
          },
          "metadata": {},
          "execution_count": 64
        }
      ]
    },
    {
      "cell_type": "markdown",
      "source": [
        "Cantidad de propiedades con un total de \"n\" habitaciones"
      ],
      "metadata": {
        "id": "BoYu_fFKsi3Z"
      }
    },
    {
      "cell_type": "code",
      "source": [
        "ds_bedrooms = ds_cuantitativo[\"property_bedrooms\"].value_counts()\n",
        "grf_ds=ds_bedrooms.plot.bar(alpha=0.5 , title=\"Cantidad de propiedades por barrio\" , xlabel=\"barrio\" , ylabel=\"cantidad\")"
      ],
      "metadata": {
        "colab": {
          "base_uri": "https://localhost:8080/",
          "height": 308
        },
        "id": "deQrog8HsvXu",
        "outputId": "1cc38c27-ead8-402d-df98-1a3013326755"
      },
      "execution_count": 65,
      "outputs": [
        {
          "output_type": "display_data",
          "data": {
            "text/plain": [
              "<Figure size 432x288 with 1 Axes>"
            ],
            "image/png": "[encoded data removed]"
          },
          "metadata": {
            "needs_background": "light"
          }
        }
      ]
    },
    {
      "cell_type": "markdown",
      "source": [
        "###Medidas de resumen variables cualitativas"
      ],
      "metadata": {
        "id": "6eg6T7ro-PKT"
      }
    },
    {
      "cell_type": "markdown",
      "source": [
        "Tipos y cantidades de propiedades"
      ],
      "metadata": {
        "id": "zvt3IBUe_DXq"
      }
    },
    {
      "cell_type": "code",
      "source": [
        "ds_cualitativo = ds_exploracion.copy()\n",
        "ds_cualitativo = ds_cualitativo.loc[:,[\"property_type\", \"start_date\", \"end_date\"]]\n",
        "ds_cualitativo.property_type.value_counts()"
      ],
      "metadata": {
        "id": "_S5bAv4G-UAN",
        "outputId": "6229d30f-f71a-41ed-8cdf-660640a5a3f1",
        "colab": {
          "base_uri": "https://localhost:8080/"
        }
      },
      "execution_count": 67,
      "outputs": [
        {
          "output_type": "execute_result",
          "data": {
            "text/plain": [
              "Departamento     81871\n",
              "PH                9332\n",
              "Casa              4292\n",
              "Casa de campo        7\n",
              "Name: property_type, dtype: int64"
            ]
          },
          "metadata": {},
          "execution_count": 67
        }
      ]
    },
    {
      "cell_type": "code",
      "source": [
        "sns.countplot(x=\"property_type\", data=ds_cualitativo)\n",
        "plt.show()"
      ],
      "metadata": {
        "id": "-Lobe7Ilte06",
        "outputId": "f6bbb649-beba-400c-9c89-a4d6a70d233c",
        "colab": {
          "base_uri": "https://localhost:8080/",
          "height": 280
        }
      },
      "execution_count": 68,
      "outputs": [
        {
          "output_type": "display_data",
          "data": {
            "text/plain": [
              "<Figure size 432x288 with 1 Axes>"
            ],
            "image/png": "[encoded data removed]"
          },
          "metadata": {
            "needs_background": "light"
          }
        }
      ]
    },
    {
      "cell_type": "markdown",
      "source": [
        "Cantidad de propiedades publicadas por mes # vale la pena esto?"
      ],
      "metadata": {
        "id": "nY5RvbJE_IGc"
      }
    },
    {
      "cell_type": "code",
      "source": [
        "ds_meses = ds_cualitativo.loc[:,[\"start_date\"]]\n",
        "ds_meses[\"month\"] = ds_meses[\"start_date\"].dt.month\n",
        "ds_meses = ds_meses[\"month\"].value_counts()\n",
        "ds_meses.sort_index(inplace=True)"
      ],
      "metadata": {
        "id": "7oizR_mp2WgE"
      },
      "execution_count": 69,
      "outputs": []
    },
    {
      "cell_type": "code",
      "source": [
        "grf_ds=ds_meses.plot.bar(alpha=0.5 , title=\"Cantidad de propiedades puestas en venta por mes\" , xlabel=\"month\" , ylabel=\"cantidad\")"
      ],
      "metadata": {
        "id": "p3osEtl3AJal",
        "outputId": "3afa2621-bed7-4e32-adb6-d11218212de6",
        "colab": {
          "base_uri": "https://localhost:8080/",
          "height": 298
        }
      },
      "execution_count": 70,
      "outputs": [
        {
          "output_type": "display_data",
          "data": {
            "text/plain": [
              "<Figure size 432x288 with 1 Axes>"
            ],
            "image/png": "[encoded data removed]"
          },
          "metadata": {
            "needs_background": "light"
          }
        }
      ]
    },
    {
      "cell_type": "markdown",
      "source": [
        "Cantidad de propiedades vendidas por mes"
      ],
      "metadata": {
        "id": "P-BUnR0kYU_n"
      }
    },
    {
      "cell_type": "code",
      "source": [
        "ds_meses = ds_cualitativo.loc[:,[\"end_date\"]]\n",
        "ds_meses[\"month\"] = ds_meses[\"end_date\"].dt.month\n",
        "ds_meses = ds_meses[\"month\"].value_counts()\n",
        "ds_meses.sort_index(inplace=True)"
      ],
      "metadata": {
        "id": "rzZvxMkxYo68"
      },
      "execution_count": 71,
      "outputs": []
    },
    {
      "cell_type": "code",
      "source": [
        "grf_ds=ds_meses.plot.bar(alpha=0.5 , title=\"Cantidad de propiedades vendidas por mes\" , xlabel=\"month\" , ylabel=\"cantidad\")"
      ],
      "metadata": {
        "colab": {
          "base_uri": "https://localhost:8080/",
          "height": 308
        },
        "id": "gF8tq5oOYsSB",
        "outputId": "2382498a-8b68-4f5f-e707-87be7d84b9bc"
      },
      "execution_count": 72,
      "outputs": [
        {
          "output_type": "display_data",
          "data": {
            "text/plain": [
              "<Figure size 432x288 with 1 Axes>"
            ],
            "image/png": "[encoded data removed]"
          },
          "metadata": {
            "needs_background": "light"
          }
        }
      ]
    },
    {
      "cell_type": "markdown",
      "source": [
        "Cantidad de propiedades por barrio en Capital Federal"
      ],
      "metadata": {
        "id": "SjL4LT70bo-C"
      }
    },
    {
      "cell_type": "code",
      "source": [
        "ds_zona_propiedad = ds_exploracion.copy()\n",
        "ds_zona_propiedad = ds_zona_propiedad[[\"place_l2\",\t\"place_l3\",\t\"place_l4\"]]"
      ],
      "metadata": {
        "id": "q4oYxKxwbpVV"
      },
      "execution_count": 73,
      "outputs": []
    },
    {
      "cell_type": "code",
      "source": [
        "ds_barrios = ds_zona_propiedad[\"place_l3\"].value_counts()\n",
        "ds_barrios_mas_sign = ds_barrios[0:15]\n",
        "ds_barrios_menos_sign = ds_barrios[15:]\n",
        "ds_barrios_menos_sign = ds_barrios_menos_sign.reset_index(name=\"cantidad\").rename(columns={\"index\" : \"barrio\"})\n",
        "ds_barrios_mas_sign[\"other\"] = ds_barrios_menos_sign[\"cantidad\"].sum()\n",
        "grf_ds = ds_barrios_mas_sign.plot.bar(alpha=0.5, title=\"Cantidad de propiedades por barrio\" , xlabel=\"barrio\" , ylabel=\"cantidad\")"
      ],
      "metadata": {
        "colab": {
          "base_uri": "https://localhost:8080/",
          "height": 363
        },
        "id": "lgqy3bhadNfW",
        "outputId": "b8aad909-c04b-4e7f-edf9-4a2887e4de4c"
      },
      "execution_count": 74,
      "outputs": [
        {
          "output_type": "display_data",
          "data": {
            "text/plain": [
              "<Figure size 432x288 with 1 Axes>"
            ],
            "image/png": "[encoded data removed]"
          },
          "metadata": {
            "needs_background": "light"
          }
        }
      ]
    },
    {
      "cell_type": "markdown",
      "source": [
        "Precio promedio de propiedades por barrio"
      ],
      "metadata": {
        "id": "eSwLm9CWr_SJ"
      }
    },
    {
      "cell_type": "markdown",
      "source": [
        "### Correlacione existente entre las variables"
      ],
      "metadata": {
        "id": "af0W8Krttq7V"
      }
    },
    {
      "cell_type": "markdown",
      "source": [
        "Precio promedio de propiedad por Barrio"
      ],
      "metadata": {
        "id": "mh7WJz6vkQGI"
      }
    },
    {
      "cell_type": "code",
      "source": [
        "ds_precio_prom = ds_exploracion.copy()\n",
        "ds_precio_prom = ds_precio_prom.groupby([\"place_l3\"])[\"property_price\"].mean().sort_values(ascending=False)\n",
        "grf_ds=ds_precio_prom.plot.bar(alpha=0.5 , title=\"Cantidad de propiedades por barrio\" , xlabel=\"barrio\" , ylabel=\"precio\", figsize=(20,5))"
      ],
      "metadata": {
        "colab": {
          "base_uri": "https://localhost:8080/",
          "height": 441
        },
        "id": "cuqdm86KkWVH",
        "outputId": "84bf5a08-9c04-4c3f-fa7e-52bbf4a82bd3"
      },
      "execution_count": 94,
      "outputs": [
        {
          "output_type": "display_data",
          "data": {
            "text/plain": [
              "<Figure size 1440x360 with 1 Axes>"
            ],
            "image/png": "[encoded data removed]"
          },
          "metadata": {
            "needs_background": "light"
          }
        }
      ]
    },
    {
      "cell_type": "markdown",
      "source": [
        "Precio promedio de propiedades por Dormitorio\n"
      ],
      "metadata": {
        "id": "CyDpoGtIw89r"
      }
    },
    {
      "cell_type": "code",
      "source": [
        "ds_precio_por_dorm = ds_exploracion.copy()\n",
        "ds_precio_por_dorm = ds_precio_por_dorm.groupby(\"property_bedrooms\")[\"property_price\"].mean()\n",
        "grf_ds=ds_precio_por_dorm.plot.bar(alpha=0.5 , title=\"Cantidad de propiedades por barrio\" , xlabel=\"Cantidad de Dormitorios\" , ylabel=\"precio\", figsize=(15,10))"
      ],
      "metadata": {
        "id": "OBaJHJOXxC8U",
        "outputId": "434d59a8-9dd4-4ac3-a85d-8f4d3c7aff9c",
        "colab": {
          "base_uri": "https://localhost:8080/",
          "height": 634
        }
      },
      "execution_count": 100,
      "outputs": [
        {
          "output_type": "display_data",
          "data": {
            "text/plain": [
              "<Figure size 1080x720 with 1 Axes>"
            ],
            "image/png": "[encoded data removed]"
          },
          "metadata": {
            "needs_background": "light"
          }
        }
      ]
    },
    {
      "cell_type": "markdown",
      "source": [
        "Precio promedio de propiedades por Habitacion"
      ],
      "metadata": {
        "id": "UbNmATFkza9b"
      }
    },
    {
      "cell_type": "code",
      "source": [
        "ds_precio_por_hab = ds_exploracion.copy()\n",
        "ds_precio_por_hab = ds_precio_por_hab.groupby(\"property_rooms\")[\"property_price\"].mean()\n",
        "grf_ds=ds_precio_por_dorm.plot.bar(alpha=0.5 , title=\"Cantidad de propiedades por barrio\" , xlabel=\"Cantidad de Habitaciones\" , ylabel=\"precio\", figsize=(15,10))"
      ],
      "metadata": {
        "id": "DK9IGcpvzlE6",
        "outputId": "00d19122-2f2a-4e0b-90e2-45eda1ed21c3",
        "colab": {
          "base_uri": "https://localhost:8080/",
          "height": 634
        }
      },
      "execution_count": 101,
      "outputs": [
        {
          "output_type": "display_data",
          "data": {
            "text/plain": [
              "<Figure size 1080x720 with 1 Axes>"
            ],
            "image/png": "[encoded data removed]"
          },
          "metadata": {
            "needs_background": "light"
          }
        }
      ]
    }
  ]
}