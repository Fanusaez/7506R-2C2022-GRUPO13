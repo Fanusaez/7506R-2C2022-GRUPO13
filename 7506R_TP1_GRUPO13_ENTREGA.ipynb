{
  "cells": [
    {
      "cell_type": "markdown",
      "metadata": {
        "id": "view-in-github",
        "colab_type": "text"
      },
      "source": [
        "<a href=\"https://colab.research.google.com/github/Fanusaez/7506R-2C2022-GRUPO13/blob/sabado-1-10-2022/7506R_TP1_GRUPO13_ENTREGA.ipynb\" target=\"_parent\"><img src=\"https://colab.research.google.com/assets/colab-badge.svg\" alt=\"Open In Colab\"/></a>"
      ]
    },
    {
      "cell_type": "markdown",
      "metadata": {
        "id": "nJ_n4ngThDGU"
      },
      "source": [
        "# Trabajo Practico 1 : Propiedades en Venta\n",
        "## Grupo 13\n",
        "### Integrantes:\n",
        "- Ivan Manuel Pensado\n",
        "- Axel Tomas Higa\n",
        "- Edgardo Francisco Saez \n",
        "- Lautaro Barrionuevo\n",
        "- Nicolás Carreño"
      ]
    },
    {
      "cell_type": "markdown",
      "metadata": {
        "id": "hDb_EqqsmUQY"
      },
      "source": [
        "# Importe de librerias"
      ]
    },
    {
      "cell_type": "code",
      "execution_count": null,
      "metadata": {
        "id": "8NDsT1MBmcDe"
      },
      "outputs": [],
      "source": [
        "import pandas as pd\n",
        "import numpy as np\n",
        "import matplotlib as plt\n",
        "import seaborn as sns\n",
        "\n",
        "from sklearn.experimental import enable_iterative_imputer\n",
        "from sklearn.impute import IterativeImputer\n",
        "from sklearn.linear_model import LinearRegression"
      ]
    },
    {
      "cell_type": "markdown",
      "metadata": {
        "id": "CHe-JuubHhFS"
      },
      "source": [
        "# Lectura de archivo"
      ]
    },
    {
      "cell_type": "code",
      "execution_count": null,
      "metadata": {
        "id": "Ie4lG6QEHhFT",
        "outputId": "84495801-45cb-4166-bafb-abb6ed32b15e",
        "colab": {
          "base_uri": "https://localhost:8080/"
        }
      },
      "outputs": [
        {
          "output_type": "stream",
          "name": "stdout",
          "text": [
            "Drive already mounted at /gdrive; to attempt to forcibly remount, call drive.mount(\"/gdrive\", force_remount=True).\n"
          ]
        }
      ],
      "source": [
        "ds_propiedades = pd.read_csv('properati_argentina_2021.csv')"
      ]
    },
    {
      "cell_type": "code",
      "execution_count": null,
      "metadata": {
        "id": "tAjepP03HhFV",
        "outputId": "3fca6ced-0b6b-455a-d5d5-cfba3c77e2a6",
        "colab": {
          "base_uri": "https://localhost:8080/",
          "height": 357
        }
      },
      "outputs": [
        {
          "output_type": "execute_result",
          "data": {
            "text/plain": [
              "                         id  start_date    end_date  created_on    latitud  \\\n",
              "0  XZq2dFGxBiboHY3Bo/tqlw==  2021-09-09  2022-01-27  2021-09-09 -38.957632   \n",
              "1  8afoK+yMH/rnnlYiktwgNA==  2021-09-09  2021-10-23  2021-09-09 -34.888878   \n",
              "2  iVaG5rBB47dd1Ya4BMXREA==  2021-09-09  2022-03-09  2021-09-09 -32.488717   \n",
              "3  QE1QVMWKAHWkd0qT0FtPWA==  2021-09-09  2022-01-27  2021-09-09 -34.900165   \n",
              "4  tJ5lSk7IysG/71OGhacNZA==  2021-09-09  2022-01-27  2021-09-09 -38.954528   \n",
              "\n",
              "    longitud    place_l2 place_l3 place_l4 place_l5  place_l6 operation  \\\n",
              "0 -68.105443     Neuquén      NaN      NaN      NaN       NaN     Venta   \n",
              "1 -56.092368  Montevideo      NaN      NaN      NaN       NaN     Venta   \n",
              "2 -58.257499  Entre Ríos      NaN      NaN      NaN       NaN     Venta   \n",
              "3 -54.808453   Maldonado      NaN      NaN      NaN       NaN     Venta   \n",
              "4 -68.041862     Neuquén      NaN      NaN      NaN       NaN     Venta   \n",
              "\n",
              "  property_type  property_rooms  property_bedrooms  property_surface_total  \\\n",
              "0          Casa             6.0                NaN                     NaN   \n",
              "1          Casa             4.0                3.0                   193.0   \n",
              "2          Casa             NaN                NaN                   110.0   \n",
              "3          Casa             NaN                3.0                     NaN   \n",
              "4            PH             3.0                2.0                     NaN   \n",
              "\n",
              "   property_surface_covered  property_price property_currency  \\\n",
              "0                     206.0             NaN               NaN   \n",
              "1                     193.0        390000.0               USD   \n",
              "2                      45.0         47000.0               USD   \n",
              "3                     180.0        400000.0               USD   \n",
              "4                      98.0        102000.0               USD   \n",
              "\n",
              "       property_title  \n",
              "0      Casa - Capital  \n",
              "1       Casa - Malvín  \n",
              "2      Casa - Uruguay  \n",
              "3    Casa - El Chorro  \n",
              "4  PH - Villa Farrell  "
            ],
            "text/html": [
              "\n",
              "  <div id=\"df-0cc68079-f0a5-4087-999a-a220437137dd\">\n",
              "    <div class=\"colab-df-container\">\n",
              "      <div>\n",
              "<style scoped>\n",
              "    .dataframe tbody tr th:only-of-type {\n",
              "        vertical-align: middle;\n",
              "    }\n",
              "\n",
              "    .dataframe tbody tr th {\n",
              "        vertical-align: top;\n",
              "    }\n",
              "\n",
              "    .dataframe thead th {\n",
              "        text-align: right;\n",
              "    }\n",
              "</style>\n",
              "<table border=\"1\" class=\"dataframe\">\n",
              "  <thead>\n",
              "    <tr style=\"text-align: right;\">\n",
              "      <th></th>\n",
              "      <th>id</th>\n",
              "      <th>start_date</th>\n",
              "      <th>end_date</th>\n",
              "      <th>created_on</th>\n",
              "      <th>latitud</th>\n",
              "      <th>longitud</th>\n",
              "      <th>place_l2</th>\n",
              "      <th>place_l3</th>\n",
              "      <th>place_l4</th>\n",
              "      <th>place_l5</th>\n",
              "      <th>place_l6</th>\n",
              "      <th>operation</th>\n",
              "      <th>property_type</th>\n",
              "      <th>property_rooms</th>\n",
              "      <th>property_bedrooms</th>\n",
              "      <th>property_surface_total</th>\n",
              "      <th>property_surface_covered</th>\n",
              "      <th>property_price</th>\n",
              "      <th>property_currency</th>\n",
              "      <th>property_title</th>\n",
              "    </tr>\n",
              "  </thead>\n",
              "  <tbody>\n",
              "    <tr>\n",
              "      <th>0</th>\n",
              "      <td>XZq2dFGxBiboHY3Bo/tqlw==</td>\n",
              "      <td>2021-09-09</td>\n",
              "      <td>2022-01-27</td>\n",
              "      <td>2021-09-09</td>\n",
              "      <td>-38.957632</td>\n",
              "      <td>-68.105443</td>\n",
              "      <td>Neuquén</td>\n",
              "      <td>NaN</td>\n",
              "      <td>NaN</td>\n",
              "      <td>NaN</td>\n",
              "      <td>NaN</td>\n",
              "      <td>Venta</td>\n",
              "      <td>Casa</td>\n",
              "      <td>6.0</td>\n",
              "      <td>NaN</td>\n",
              "      <td>NaN</td>\n",
              "      <td>206.0</td>\n",
              "      <td>NaN</td>\n",
              "      <td>NaN</td>\n",
              "      <td>Casa - Capital</td>\n",
              "    </tr>\n",
              "    <tr>\n",
              "      <th>1</th>\n",
              "      <td>8afoK+yMH/rnnlYiktwgNA==</td>\n",
              "      <td>2021-09-09</td>\n",
              "      <td>2021-10-23</td>\n",
              "      <td>2021-09-09</td>\n",
              "      <td>-34.888878</td>\n",
              "      <td>-56.092368</td>\n",
              "      <td>Montevideo</td>\n",
              "      <td>NaN</td>\n",
              "      <td>NaN</td>\n",
              "      <td>NaN</td>\n",
              "      <td>NaN</td>\n",
              "      <td>Venta</td>\n",
              "      <td>Casa</td>\n",
              "      <td>4.0</td>\n",
              "      <td>3.0</td>\n",
              "      <td>193.0</td>\n",
              "      <td>193.0</td>\n",
              "      <td>390000.0</td>\n",
              "      <td>USD</td>\n",
              "      <td>Casa - Malvín</td>\n",
              "    </tr>\n",
              "    <tr>\n",
              "      <th>2</th>\n",
              "      <td>iVaG5rBB47dd1Ya4BMXREA==</td>\n",
              "      <td>2021-09-09</td>\n",
              "      <td>2022-03-09</td>\n",
              "      <td>2021-09-09</td>\n",
              "      <td>-32.488717</td>\n",
              "      <td>-58.257499</td>\n",
              "      <td>Entre Ríos</td>\n",
              "      <td>NaN</td>\n",
              "      <td>NaN</td>\n",
              "      <td>NaN</td>\n",
              "      <td>NaN</td>\n",
              "      <td>Venta</td>\n",
              "      <td>Casa</td>\n",
              "      <td>NaN</td>\n",
              "      <td>NaN</td>\n",
              "      <td>110.0</td>\n",
              "      <td>45.0</td>\n",
              "      <td>47000.0</td>\n",
              "      <td>USD</td>\n",
              "      <td>Casa - Uruguay</td>\n",
              "    </tr>\n",
              "    <tr>\n",
              "      <th>3</th>\n",
              "      <td>QE1QVMWKAHWkd0qT0FtPWA==</td>\n",
              "      <td>2021-09-09</td>\n",
              "      <td>2022-01-27</td>\n",
              "      <td>2021-09-09</td>\n",
              "      <td>-34.900165</td>\n",
              "      <td>-54.808453</td>\n",
              "      <td>Maldonado</td>\n",
              "      <td>NaN</td>\n",
              "      <td>NaN</td>\n",
              "      <td>NaN</td>\n",
              "      <td>NaN</td>\n",
              "      <td>Venta</td>\n",
              "      <td>Casa</td>\n",
              "      <td>NaN</td>\n",
              "      <td>3.0</td>\n",
              "      <td>NaN</td>\n",
              "      <td>180.0</td>\n",
              "      <td>400000.0</td>\n",
              "      <td>USD</td>\n",
              "      <td>Casa - El Chorro</td>\n",
              "    </tr>\n",
              "    <tr>\n",
              "      <th>4</th>\n",
              "      <td>tJ5lSk7IysG/71OGhacNZA==</td>\n",
              "      <td>2021-09-09</td>\n",
              "      <td>2022-01-27</td>\n",
              "      <td>2021-09-09</td>\n",
              "      <td>-38.954528</td>\n",
              "      <td>-68.041862</td>\n",
              "      <td>Neuquén</td>\n",
              "      <td>NaN</td>\n",
              "      <td>NaN</td>\n",
              "      <td>NaN</td>\n",
              "      <td>NaN</td>\n",
              "      <td>Venta</td>\n",
              "      <td>PH</td>\n",
              "      <td>3.0</td>\n",
              "      <td>2.0</td>\n",
              "      <td>NaN</td>\n",
              "      <td>98.0</td>\n",
              "      <td>102000.0</td>\n",
              "      <td>USD</td>\n",
              "      <td>PH - Villa Farrell</td>\n",
              "    </tr>\n",
              "  </tbody>\n",
              "</table>\n",
              "</div>\n",
              "      <button class=\"colab-df-convert\" onclick=\"convertToInteractive('df-0cc68079-f0a5-4087-999a-a220437137dd')\"\n",
              "              title=\"Convert this dataframe to an interactive table.\"\n",
              "              style=\"display:none;\">\n",
              "        \n",
              "  <svg xmlns=\"http://www.w3.org/2000/svg\" height=\"24px\"viewBox=\"0 0 24 24\"\n",
              "       width=\"24px\">\n",
              "    <path d=\"M0 0h24v24H0V0z\" fill=\"none\"/>\n",
              "    <path d=\"M18.56 5.44l.94 2.06.94-2.06 2.06-.94-2.06-.94-.94-2.06-.94 2.06-2.06.94zm-11 1L8.5 8.5l.94-2.06 2.06-.94-2.06-.94L8.5 2.5l-.94 2.06-2.06.94zm10 10l.94 2.06.94-2.06 2.06-.94-2.06-.94-.94-2.06-.94 2.06-2.06.94z\"/><path d=\"M17.41 7.96l-1.37-1.37c-.4-.4-.92-.59-1.43-.59-.52 0-1.04.2-1.43.59L10.3 9.45l-7.72 7.72c-.78.78-.78 2.05 0 2.83L4 21.41c.39.39.9.59 1.41.59.51 0 1.02-.2 1.41-.59l7.78-7.78 2.81-2.81c.8-.78.8-2.07 0-2.86zM5.41 20L4 18.59l7.72-7.72 1.47 1.35L5.41 20z\"/>\n",
              "  </svg>\n",
              "      </button>\n",
              "      \n",
              "  <style>\n",
              "    .colab-df-container {\n",
              "      display:flex;\n",
              "      flex-wrap:wrap;\n",
              "      gap: 12px;\n",
              "    }\n",
              "\n",
              "    .colab-df-convert {\n",
              "      background-color: #E8F0FE;\n",
              "      border: none;\n",
              "      border-radius: 50%;\n",
              "      cursor: pointer;\n",
              "      display: none;\n",
              "      fill: #1967D2;\n",
              "      height: 32px;\n",
              "      padding: 0 0 0 0;\n",
              "      width: 32px;\n",
              "    }\n",
              "\n",
              "    .colab-df-convert:hover {\n",
              "      background-color: #E2EBFA;\n",
              "      box-shadow: 0px 1px 2px rgba(60, 64, 67, 0.3), 0px 1px 3px 1px rgba(60, 64, 67, 0.15);\n",
              "      fill: #174EA6;\n",
              "    }\n",
              "\n",
              "    [theme=dark] .colab-df-convert {\n",
              "      background-color: #3B4455;\n",
              "      fill: #D2E3FC;\n",
              "    }\n",
              "\n",
              "    [theme=dark] .colab-df-convert:hover {\n",
              "      background-color: #434B5C;\n",
              "      box-shadow: 0px 1px 3px 1px rgba(0, 0, 0, 0.15);\n",
              "      filter: drop-shadow(0px 1px 2px rgba(0, 0, 0, 0.3));\n",
              "      fill: #FFFFFF;\n",
              "    }\n",
              "  </style>\n",
              "\n",
              "      <script>\n",
              "        const buttonEl =\n",
              "          document.querySelector('#df-0cc68079-f0a5-4087-999a-a220437137dd button.colab-df-convert');\n",
              "        buttonEl.style.display =\n",
              "          google.colab.kernel.accessAllowed ? 'block' : 'none';\n",
              "\n",
              "        async function convertToInteractive(key) {\n",
              "          const element = document.querySelector('#df-0cc68079-f0a5-4087-999a-a220437137dd');\n",
              "          const dataTable =\n",
              "            await google.colab.kernel.invokeFunction('convertToInteractive',\n",
              "                                                     [key], {});\n",
              "          if (!dataTable) return;\n",
              "\n",
              "          const docLinkHtml = 'Like what you see? Visit the ' +\n",
              "            '<a target=\"_blank\" href=https://colab.research.google.com/notebooks/data_table.ipynb>data table notebook</a>'\n",
              "            + ' to learn more about interactive tables.';\n",
              "          element.innerHTML = '';\n",
              "          dataTable['output_type'] = 'display_data';\n",
              "          await google.colab.output.renderOutput(dataTable, element);\n",
              "          const docLink = document.createElement('div');\n",
              "          docLink.innerHTML = docLinkHtml;\n",
              "          element.appendChild(docLink);\n",
              "        }\n",
              "      </script>\n",
              "    </div>\n",
              "  </div>\n",
              "  "
            ]
          },
          "metadata": {},
          "execution_count": 63
        }
      ],
      "source": [
        "ds_propiedades.head()"
      ]
    },
    {
      "cell_type": "code",
      "execution_count": null,
      "metadata": {
        "id": "_W8-l1jcHhFX"
      },
      "outputs": [],
      "source": []
    },
    {
      "cell_type": "markdown",
      "metadata": {
        "id": "PIatK8lnHhFZ"
      },
      "source": [
        "# Análisis Exploratorio y Preprocesamiento de Dato"
      ]
    },
    {
      "cell_type": "markdown",
      "metadata": {
        "id": "FwA7vVq6HhFa"
      },
      "source": [
        "***Filtrado inicial***"
      ]
    },
    {
      "cell_type": "markdown",
      "metadata": {
        "id": "Ox_DqaPWHhFb"
      },
      "source": [
        "Se deben filtrar únicamente los anuncios de propiedades de tipo vivienda ( Casa, PH y Departamento ) ubicados en Capital Federal cuyo tipo de operación sea venta y su precio se encuentre en dólares (USD)."
      ]
    },
    {
      "cell_type": "code",
      "execution_count": null,
      "metadata": {
        "id": "wfKcoliuHhFc"
      },
      "outputs": [],
      "source": [
        "ds_prop_filtrado = ds_propiedades[ds_propiedades.place_l2.str.contains('Capital Federal', case=False, na = False)]\n",
        "ds_prop_filtrado = ds_prop_filtrado[ds_prop_filtrado.property_type.str.fullmatch('Departamento|Casa|ph', case = False, na = False)]\n",
        "ds_prop_filtrado = ds_prop_filtrado[ds_prop_filtrado.operation.str.contains('venta', case=False, na =  False)]\n",
        "ds_prop_filtrado = ds_prop_filtrado[ds_prop_filtrado.property_currency.str.contains('USD', case=False, na =  False)]  #Preguntar si el na va en true"
      ]
    },
    {
      "cell_type": "markdown",
      "metadata": {
        "id": "swyE7PDQHhFd"
      },
      "source": [
        "***Exploración inicial***"
      ]
    },
    {
      "cell_type": "markdown",
      "metadata": {
        "id": "9a11kj5PHhFe"
      },
      "source": [
        "Tipo de variable"
      ]
    },
    {
      "cell_type": "code",
      "execution_count": null,
      "metadata": {
        "id": "3UZhlXfxHhFe",
        "outputId": "ebeaed56-5fa6-40ba-f6cf-213c5e9ceb28",
        "colab": {
          "base_uri": "https://localhost:8080/"
        }
      },
      "outputs": [
        {
          "output_type": "execute_result",
          "data": {
            "text/plain": [
              "id                           object\n",
              "start_date                   object\n",
              "end_date                     object\n",
              "created_on                   object\n",
              "latitud                     float64\n",
              "longitud                    float64\n",
              "place_l2                     object\n",
              "place_l3                     object\n",
              "place_l4                     object\n",
              "place_l5                     object\n",
              "place_l6                    float64\n",
              "operation                    object\n",
              "property_type                object\n",
              "property_rooms              float64\n",
              "property_bedrooms           float64\n",
              "property_surface_total      float64\n",
              "property_surface_covered    float64\n",
              "property_price              float64\n",
              "property_currency            object\n",
              "property_title               object\n",
              "dtype: object"
            ]
          },
          "metadata": {},
          "execution_count": 65
        }
      ],
      "source": [
        "ds_prop_filtrado.dtypes"
      ]
    },
    {
      "cell_type": "markdown",
      "metadata": {
        "id": "oFlf3lWCHhFf"
      },
      "source": [
        "Variables Cuantitativas"
      ]
    },
    {
      "cell_type": "code",
      "execution_count": null,
      "metadata": {
        "id": "sDwfJyJdHhFg",
        "outputId": "0ceb7400-b093-4859-8d2b-7aa9ea3686d6",
        "colab": {
          "base_uri": "https://localhost:8080/",
          "height": 269
        }
      },
      "outputs": [
        {
          "output_type": "execute_result",
          "data": {
            "text/plain": [
              "                                  media       mediana            q1  \\\n",
              "latitud                      -34.591481     -34.59579    -34.615975   \n",
              "longitud                     -58.449795     -58.43900    -58.466522   \n",
              "property_rooms                 2.822799       3.00000      2.000000   \n",
              "property_bedrooms              2.014629       2.00000      1.000000   \n",
              "property_surface_total       109.092970      65.00000     45.000000   \n",
              "property_surface_covered      87.931932      58.00000     40.000000   \n",
              "property_price            226238.207185  143900.00000  95000.000000   \n",
              "\n",
              "                                     q3           moda  \n",
              "latitud                      -34.577413     -34.541250  \n",
              "longitud                     -58.408862     -58.472966  \n",
              "property_rooms                 4.000000       3.000000  \n",
              "property_bedrooms              3.000000       1.000000  \n",
              "property_surface_total       105.000000      50.000000  \n",
              "property_surface_covered      88.000000      40.000000  \n",
              "property_price            237000.000000  110000.000000  "
            ],
            "text/html": [
              "\n",
              "  <div id=\"df-b5cc2b00-fba7-435f-bd7a-13056afc0cde\">\n",
              "    <div class=\"colab-df-container\">\n",
              "      <div>\n",
              "<style scoped>\n",
              "    .dataframe tbody tr th:only-of-type {\n",
              "        vertical-align: middle;\n",
              "    }\n",
              "\n",
              "    .dataframe tbody tr th {\n",
              "        vertical-align: top;\n",
              "    }\n",
              "\n",
              "    .dataframe thead th {\n",
              "        text-align: right;\n",
              "    }\n",
              "</style>\n",
              "<table border=\"1\" class=\"dataframe\">\n",
              "  <thead>\n",
              "    <tr style=\"text-align: right;\">\n",
              "      <th></th>\n",
              "      <th>media</th>\n",
              "      <th>mediana</th>\n",
              "      <th>q1</th>\n",
              "      <th>q3</th>\n",
              "      <th>moda</th>\n",
              "    </tr>\n",
              "  </thead>\n",
              "  <tbody>\n",
              "    <tr>\n",
              "      <th>latitud</th>\n",
              "      <td>-34.591481</td>\n",
              "      <td>-34.59579</td>\n",
              "      <td>-34.615975</td>\n",
              "      <td>-34.577413</td>\n",
              "      <td>-34.541250</td>\n",
              "    </tr>\n",
              "    <tr>\n",
              "      <th>longitud</th>\n",
              "      <td>-58.449795</td>\n",
              "      <td>-58.43900</td>\n",
              "      <td>-58.466522</td>\n",
              "      <td>-58.408862</td>\n",
              "      <td>-58.472966</td>\n",
              "    </tr>\n",
              "    <tr>\n",
              "      <th>property_rooms</th>\n",
              "      <td>2.822799</td>\n",
              "      <td>3.00000</td>\n",
              "      <td>2.000000</td>\n",
              "      <td>4.000000</td>\n",
              "      <td>3.000000</td>\n",
              "    </tr>\n",
              "    <tr>\n",
              "      <th>property_bedrooms</th>\n",
              "      <td>2.014629</td>\n",
              "      <td>2.00000</td>\n",
              "      <td>1.000000</td>\n",
              "      <td>3.000000</td>\n",
              "      <td>1.000000</td>\n",
              "    </tr>\n",
              "    <tr>\n",
              "      <th>property_surface_total</th>\n",
              "      <td>109.092970</td>\n",
              "      <td>65.00000</td>\n",
              "      <td>45.000000</td>\n",
              "      <td>105.000000</td>\n",
              "      <td>50.000000</td>\n",
              "    </tr>\n",
              "    <tr>\n",
              "      <th>property_surface_covered</th>\n",
              "      <td>87.931932</td>\n",
              "      <td>58.00000</td>\n",
              "      <td>40.000000</td>\n",
              "      <td>88.000000</td>\n",
              "      <td>40.000000</td>\n",
              "    </tr>\n",
              "    <tr>\n",
              "      <th>property_price</th>\n",
              "      <td>226238.207185</td>\n",
              "      <td>143900.00000</td>\n",
              "      <td>95000.000000</td>\n",
              "      <td>237000.000000</td>\n",
              "      <td>110000.000000</td>\n",
              "    </tr>\n",
              "  </tbody>\n",
              "</table>\n",
              "</div>\n",
              "      <button class=\"colab-df-convert\" onclick=\"convertToInteractive('df-b5cc2b00-fba7-435f-bd7a-13056afc0cde')\"\n",
              "              title=\"Convert this dataframe to an interactive table.\"\n",
              "              style=\"display:none;\">\n",
              "        \n",
              "  <svg xmlns=\"http://www.w3.org/2000/svg\" height=\"24px\"viewBox=\"0 0 24 24\"\n",
              "       width=\"24px\">\n",
              "    <path d=\"M0 0h24v24H0V0z\" fill=\"none\"/>\n",
              "    <path d=\"M18.56 5.44l.94 2.06.94-2.06 2.06-.94-2.06-.94-.94-2.06-.94 2.06-2.06.94zm-11 1L8.5 8.5l.94-2.06 2.06-.94-2.06-.94L8.5 2.5l-.94 2.06-2.06.94zm10 10l.94 2.06.94-2.06 2.06-.94-2.06-.94-.94-2.06-.94 2.06-2.06.94z\"/><path d=\"M17.41 7.96l-1.37-1.37c-.4-.4-.92-.59-1.43-.59-.52 0-1.04.2-1.43.59L10.3 9.45l-7.72 7.72c-.78.78-.78 2.05 0 2.83L4 21.41c.39.39.9.59 1.41.59.51 0 1.02-.2 1.41-.59l7.78-7.78 2.81-2.81c.8-.78.8-2.07 0-2.86zM5.41 20L4 18.59l7.72-7.72 1.47 1.35L5.41 20z\"/>\n",
              "  </svg>\n",
              "      </button>\n",
              "      \n",
              "  <style>\n",
              "    .colab-df-container {\n",
              "      display:flex;\n",
              "      flex-wrap:wrap;\n",
              "      gap: 12px;\n",
              "    }\n",
              "\n",
              "    .colab-df-convert {\n",
              "      background-color: #E8F0FE;\n",
              "      border: none;\n",
              "      border-radius: 50%;\n",
              "      cursor: pointer;\n",
              "      display: none;\n",
              "      fill: #1967D2;\n",
              "      height: 32px;\n",
              "      padding: 0 0 0 0;\n",
              "      width: 32px;\n",
              "    }\n",
              "\n",
              "    .colab-df-convert:hover {\n",
              "      background-color: #E2EBFA;\n",
              "      box-shadow: 0px 1px 2px rgba(60, 64, 67, 0.3), 0px 1px 3px 1px rgba(60, 64, 67, 0.15);\n",
              "      fill: #174EA6;\n",
              "    }\n",
              "\n",
              "    [theme=dark] .colab-df-convert {\n",
              "      background-color: #3B4455;\n",
              "      fill: #D2E3FC;\n",
              "    }\n",
              "\n",
              "    [theme=dark] .colab-df-convert:hover {\n",
              "      background-color: #434B5C;\n",
              "      box-shadow: 0px 1px 3px 1px rgba(0, 0, 0, 0.15);\n",
              "      filter: drop-shadow(0px 1px 2px rgba(0, 0, 0, 0.3));\n",
              "      fill: #FFFFFF;\n",
              "    }\n",
              "  </style>\n",
              "\n",
              "      <script>\n",
              "        const buttonEl =\n",
              "          document.querySelector('#df-b5cc2b00-fba7-435f-bd7a-13056afc0cde button.colab-df-convert');\n",
              "        buttonEl.style.display =\n",
              "          google.colab.kernel.accessAllowed ? 'block' : 'none';\n",
              "\n",
              "        async function convertToInteractive(key) {\n",
              "          const element = document.querySelector('#df-b5cc2b00-fba7-435f-bd7a-13056afc0cde');\n",
              "          const dataTable =\n",
              "            await google.colab.kernel.invokeFunction('convertToInteractive',\n",
              "                                                     [key], {});\n",
              "          if (!dataTable) return;\n",
              "\n",
              "          const docLinkHtml = 'Like what you see? Visit the ' +\n",
              "            '<a target=\"_blank\" href=https://colab.research.google.com/notebooks/data_table.ipynb>data table notebook</a>'\n",
              "            + ' to learn more about interactive tables.';\n",
              "          element.innerHTML = '';\n",
              "          dataTable['output_type'] = 'display_data';\n",
              "          await google.colab.output.renderOutput(dataTable, element);\n",
              "          const docLink = document.createElement('div');\n",
              "          docLink.innerHTML = docLinkHtml;\n",
              "          element.appendChild(docLink);\n",
              "        }\n",
              "      </script>\n",
              "    </div>\n",
              "  </div>\n",
              "  "
            ]
          },
          "metadata": {},
          "execution_count": 66
        }
      ],
      "source": [
        "cuantitativos = [\"latitud\", \"longitud\", \"property_rooms\", \"property_bedrooms\",\"property_surface_total\", \"property_surface_covered\", \"property_price\"]\n",
        "ds_cuantitativo = ds_prop_filtrado.loc[:,cuantitativos]\n",
        "ds_resumen_cuantitativo = pd.DataFrame()\n",
        "ds_resumen_cuantitativo[\"media\"] = ds_cuantitativo.mean()\n",
        "ds_resumen_cuantitativo[\"mediana\"] = ds_cuantitativo.median()\n",
        "ds_resumen_cuantitativo[\"q1\"] = ds_cuantitativo.quantile([.25]).iloc[0]\n",
        "ds_resumen_cuantitativo[\"q3\"] = ds_cuantitativo.quantile([.75]).iloc[0]\n",
        "ds_resumen_cuantitativo[\"moda\"] = ds_cuantitativo.mode().iloc[0]\n",
        "ds_resumen_cuantitativo"
      ]
    },
    {
      "cell_type": "markdown",
      "metadata": {
        "id": "0C1Ml2QQHhFg"
      },
      "source": [
        "Variables Cualitativas"
      ]
    },
    {
      "cell_type": "code",
      "execution_count": null,
      "metadata": {
        "id": "fFewavZbHhFh"
      },
      "outputs": [],
      "source": [
        "cualitativos = [\"place_l2\", \"place_l3\", \"operation\", \"property_type\", \"property_currency\", \"property_title\"]\n",
        "ds_cualitativo = ds_prop_filtrado.loc[:,cualitativos]"
      ]
    },
    {
      "cell_type": "markdown",
      "metadata": {
        "id": "R0zwd8Z3HhFh"
      },
      "source": [
        "* Mostrar cantidad de valores posibles"
      ]
    },
    {
      "cell_type": "code",
      "execution_count": null,
      "metadata": {
        "id": "LtdBCgmdHhFi",
        "outputId": "cad49b05-2b47-49cd-a540-32c7fc3ac26b",
        "colab": {
          "base_uri": "https://localhost:8080/"
        }
      },
      "outputs": [
        {
          "output_type": "execute_result",
          "data": {
            "text/plain": [
              "place_l2                 1\n",
              "place_l3                57\n",
              "operation                1\n",
              "property_type            3\n",
              "property_currency        1\n",
              "property_title       55704\n",
              "dtype: int64"
            ]
          },
          "metadata": {},
          "execution_count": 68
        }
      ],
      "source": [
        "ds_cualitativo.nunique()"
      ]
    },
    {
      "cell_type": "markdown",
      "metadata": {
        "id": "KuOJRieDHhFi"
      },
      "source": [
        "* Mostrar frecuencias\n",
        "    * Obviamos las opciones de un solo tipo porque la frecuencia es de 100%"
      ]
    },
    {
      "cell_type": "code",
      "execution_count": null,
      "metadata": {
        "id": "-1wbr_5pHhFj",
        "outputId": "747496eb-2cc0-4f5e-850e-e451fc21da8c",
        "colab": {
          "base_uri": "https://localhost:8080/"
        }
      },
      "outputs": [
        {
          "output_type": "execute_result",
          "data": {
            "text/plain": [
              "Palermo                 15.248529\n",
              "Belgrano                 9.482906\n",
              "Caballito                7.639185\n",
              "Recoleta                 6.694944\n",
              "Villa Urquiza            4.980177\n",
              "Almagro                  4.349263\n",
              "Nuñez                    3.779095\n",
              "Villa Crespo             3.398627\n",
              "Flores                   3.314434\n",
              "Barrio Norte             3.170560\n",
              "Balvanera                2.720820\n",
              "Colegiales               2.079248\n",
              "Villa Devoto             2.047276\n",
              "Villa del Parque         1.949228\n",
              "Saavedra                 1.949228\n",
              "Puerto Madero            1.591142\n",
              "San Telmo                1.470714\n",
              "San Cristobal            1.385455\n",
              "San Nicolás              1.380126\n",
              "Retiro                   1.332168\n",
              "Barracas                 1.327905\n",
              "Boedo                    1.318314\n",
              "Floresta                 1.273553\n",
              "Monserrat                1.188294\n",
              "Parque Chacabuco         1.143533\n",
              "Villa Pueyrredón         1.077458\n",
              "Coghlan                  1.048683\n",
              "Villa Luro               0.774789\n",
              "Mataderos                0.766263\n",
              "Chacarita                0.742817\n",
              "Liniers                  0.711911\n",
              "Villa Ortuzar            0.705516\n",
              "Parque Patricios         0.681004\n",
              "Villa Lugano             0.652230\n",
              "Paternal                 0.603206\n",
              "Congreso                 0.570168\n",
              "Monte Castro             0.531802\n",
              "Constitución             0.482778\n",
              "Villa Santa Rita         0.466792\n",
              "Villa General Mitre      0.463595\n",
              "Once                     0.433754\n",
              "Parque Avellaneda        0.404979\n",
              "Parque Chas              0.397519\n",
              "Boca                     0.388993\n",
              "Versalles                0.335706\n",
              "Velez Sarsfield          0.257908\n",
              "Agronomía                0.250448\n",
              "Abasto                   0.246185\n",
              "Pompeya                  0.230199\n",
              "Villa Real               0.151334\n",
              "Tribunales               0.123625\n",
              "Parque Centenario        0.099113\n",
              "Centro / Microcentro     0.080996\n",
              "Villa Soldati            0.047958\n",
              "Villa Riachuelo          0.037301\n",
              "Las Cañitas              0.012789\n",
              "Catalinas                0.007460\n",
              "Name: place_l3, dtype: float64"
            ]
          },
          "metadata": {},
          "execution_count": 69
        }
      ],
      "source": [
        "ds_cualitativo.place_l3.value_counts(normalize=True)* 100"
      ]
    },
    {
      "cell_type": "code",
      "execution_count": null,
      "metadata": {
        "id": "KOLqs1gUHhFj",
        "outputId": "baeed89a-f32b-4ffe-f384-e82b626a8fca",
        "colab": {
          "base_uri": "https://localhost:8080/"
        }
      },
      "outputs": [
        {
          "output_type": "execute_result",
          "data": {
            "text/plain": [
              "Departamento    85.761122\n",
              "PH               9.831404\n",
              "Casa             4.407474\n",
              "Name: property_type, dtype: float64"
            ]
          },
          "metadata": {},
          "execution_count": 70
        }
      ],
      "source": [
        "ds_cualitativo.property_type.value_counts(normalize=True)* 100"
      ]
    },
    {
      "cell_type": "code",
      "execution_count": null,
      "metadata": {
        "id": "4nzftMxPHhFj",
        "outputId": "a2ca5473-695b-43b7-89cb-a356cbc20263",
        "colab": {
          "base_uri": "https://localhost:8080/"
        }
      },
      "outputs": [
        {
          "output_type": "execute_result",
          "data": {
            "text/plain": [
              "Departamento - Palermo                                                                                  1.557576\n",
              "Departamento - Recoleta                                                                                 1.404789\n",
              "Departamento - Belgrano                                                                                 1.180914\n",
              "Departamento - Caballito                                                                                0.993114\n",
              "Departamento - Almagro                                                                                  0.706639\n",
              "                                                                                                          ...   \n",
              "Gran 3 ambientes en pleno Villa del Parque                                                              0.001061\n",
              "Venta PH 3 Amb Con Patio Flores                                                                         0.001061\n",
              "Venta, PH, 3 Ambientes, PB, Quincho, Parrilla, Terraza, Paternal                                        0.001061\n",
              "Venta PH - 3 dormitorios y terraza en Colegiales                                                        0.001061\n",
              "VENTA MONOAMBIENTE APAISADO y DIVISIBLE AL CF C/ BALCÓN Vta Ata, PISO ALTO. BAJAS EXP. // APTO CRED.    0.001061\n",
              "Name: property_title, Length: 55704, dtype: float64"
            ]
          },
          "metadata": {},
          "execution_count": 71
        }
      ],
      "source": [
        "ds_cualitativo.property_title.value_counts(normalize=True)* 100"
      ]
    },
    {
      "cell_type": "markdown",
      "metadata": {
        "id": "XaoQbiNFHhFk"
      },
      "source": [
        "* Determinar variables irrelevantes en el análisis"
      ]
    },
    {
      "cell_type": "markdown",
      "metadata": {
        "id": "LSc4m4GLHhFl"
      },
      "source": [
        "Debido a que las caracteristicas cualitativas \"place_l2\", \"operation\", \"Property_currency\" solo poseen un valor posible, es irrelevante para el analisis de datos. Tambien la caracteristica de \"Property_title\" al ser una descripcion del vendedor no aporta mucha informacion analitica. Por ultimo, los datos que no aportan al analisis, son las fechas, de las columnas \"Start_date\", \"End_date\" y \"Created_on\" debido a que no se especifica que significa dichas fechas. "
      ]
    },
    {
      "cell_type": "code",
      "execution_count": null,
      "metadata": {
        "id": "j--kj-_dHhFl"
      },
      "outputs": [],
      "source": [
        "columnas_a_eliminar = [\"id\",\"place_l5\",\"place_l6\"] # variables irrelevantes, podrian ser: property_title place_l5\tplace_l6 y (start_date created_on) son lo mismo\n",
        "ds_filtado_copia = ds_prop_filtrado.copy()\n",
        "ds_filtado_copia.drop(columns = columnas_a_eliminar, inplace = True)"
      ]
    },
    {
      "cell_type": "markdown",
      "metadata": {
        "id": "8Q1bi8AeHhFm"
      },
      "source": [
        "* Realizar un análisis gráfico de las distribuciones de las variables"
      ]
    },
    {
      "cell_type": "code",
      "execution_count": null,
      "metadata": {
        "id": "-kq3uEBUHhFm"
      },
      "outputs": [],
      "source": [
        "\n",
        "sns.pairplot(ds_filtado_copia)"
      ]
    },
    {
      "cell_type": "markdown",
      "source": [
        "###Correlaciones existentes entre las variables\n"
      ],
      "metadata": {
        "id": "8MmcD2LgIHtK"
      }
    },
    {
      "cell_type": "markdown",
      "source": [
        "\n",
        "\n",
        "*   Analizar las correlaciones existentes entre las variables.\n",
        "\n"
      ],
      "metadata": {
        "id": "VV7W80rJKx-g"
      }
    },
    {
      "cell_type": "code",
      "source": [
        "ds_prop_filtrado.corr()"
      ],
      "metadata": {
        "id": "gunCpyE4ILYH",
        "outputId": "a07b7998-0d7b-4762-8b19-49658cc9c249",
        "colab": {
          "base_uri": "https://localhost:8080/",
          "height": 269
        }
      },
      "execution_count": null,
      "outputs": [
        {
          "output_type": "execute_result",
          "data": {
            "text/plain": [
              "                           latitud  longitud  property_rooms  \\\n",
              "latitud                   1.000000 -0.140067       -0.031599   \n",
              "longitud                 -0.140067  1.000000        0.012021   \n",
              "property_rooms           -0.031599  0.012021        1.000000   \n",
              "property_bedrooms        -0.033539  0.018148        0.874688   \n",
              "property_surface_total    0.008633  0.002094        0.065111   \n",
              "property_surface_covered  0.002433  0.003562        0.074021   \n",
              "property_price            0.149062  0.123224        0.484132   \n",
              "\n",
              "                          property_bedrooms  property_surface_total  \\\n",
              "latitud                           -0.033539                0.008633   \n",
              "longitud                           0.018148                0.002094   \n",
              "property_rooms                     0.874688                0.065111   \n",
              "property_bedrooms                  1.000000                0.066979   \n",
              "property_surface_total             0.066979                1.000000   \n",
              "property_surface_covered           0.072864                0.617288   \n",
              "property_price                     0.419511                0.085613   \n",
              "\n",
              "                          property_surface_covered  property_price  \n",
              "latitud                                   0.002433        0.149062  \n",
              "longitud                                  0.003562        0.123224  \n",
              "property_rooms                            0.074021        0.484132  \n",
              "property_bedrooms                         0.072864        0.419511  \n",
              "property_surface_total                    0.617288        0.085613  \n",
              "property_surface_covered                  1.000000        0.054334  \n",
              "property_price                            0.054334        1.000000  "
            ],
            "text/html": [
              "\n",
              "  <div id=\"df-95455955-72e6-4ad3-bbbc-a13dfde46e6d\">\n",
              "    <div class=\"colab-df-container\">\n",
              "      <div>\n",
              "<style scoped>\n",
              "    .dataframe tbody tr th:only-of-type {\n",
              "        vertical-align: middle;\n",
              "    }\n",
              "\n",
              "    .dataframe tbody tr th {\n",
              "        vertical-align: top;\n",
              "    }\n",
              "\n",
              "    .dataframe thead th {\n",
              "        text-align: right;\n",
              "    }\n",
              "</style>\n",
              "<table border=\"1\" class=\"dataframe\">\n",
              "  <thead>\n",
              "    <tr style=\"text-align: right;\">\n",
              "      <th></th>\n",
              "      <th>latitud</th>\n",
              "      <th>longitud</th>\n",
              "      <th>property_rooms</th>\n",
              "      <th>property_bedrooms</th>\n",
              "      <th>property_surface_total</th>\n",
              "      <th>property_surface_covered</th>\n",
              "      <th>property_price</th>\n",
              "    </tr>\n",
              "  </thead>\n",
              "  <tbody>\n",
              "    <tr>\n",
              "      <th>latitud</th>\n",
              "      <td>1.000000</td>\n",
              "      <td>-0.140067</td>\n",
              "      <td>-0.031599</td>\n",
              "      <td>-0.033539</td>\n",
              "      <td>0.008633</td>\n",
              "      <td>0.002433</td>\n",
              "      <td>0.149062</td>\n",
              "    </tr>\n",
              "    <tr>\n",
              "      <th>longitud</th>\n",
              "      <td>-0.140067</td>\n",
              "      <td>1.000000</td>\n",
              "      <td>0.012021</td>\n",
              "      <td>0.018148</td>\n",
              "      <td>0.002094</td>\n",
              "      <td>0.003562</td>\n",
              "      <td>0.123224</td>\n",
              "    </tr>\n",
              "    <tr>\n",
              "      <th>property_rooms</th>\n",
              "      <td>-0.031599</td>\n",
              "      <td>0.012021</td>\n",
              "      <td>1.000000</td>\n",
              "      <td>0.874688</td>\n",
              "      <td>0.065111</td>\n",
              "      <td>0.074021</td>\n",
              "      <td>0.484132</td>\n",
              "    </tr>\n",
              "    <tr>\n",
              "      <th>property_bedrooms</th>\n",
              "      <td>-0.033539</td>\n",
              "      <td>0.018148</td>\n",
              "      <td>0.874688</td>\n",
              "      <td>1.000000</td>\n",
              "      <td>0.066979</td>\n",
              "      <td>0.072864</td>\n",
              "      <td>0.419511</td>\n",
              "    </tr>\n",
              "    <tr>\n",
              "      <th>property_surface_total</th>\n",
              "      <td>0.008633</td>\n",
              "      <td>0.002094</td>\n",
              "      <td>0.065111</td>\n",
              "      <td>0.066979</td>\n",
              "      <td>1.000000</td>\n",
              "      <td>0.617288</td>\n",
              "      <td>0.085613</td>\n",
              "    </tr>\n",
              "    <tr>\n",
              "      <th>property_surface_covered</th>\n",
              "      <td>0.002433</td>\n",
              "      <td>0.003562</td>\n",
              "      <td>0.074021</td>\n",
              "      <td>0.072864</td>\n",
              "      <td>0.617288</td>\n",
              "      <td>1.000000</td>\n",
              "      <td>0.054334</td>\n",
              "    </tr>\n",
              "    <tr>\n",
              "      <th>property_price</th>\n",
              "      <td>0.149062</td>\n",
              "      <td>0.123224</td>\n",
              "      <td>0.484132</td>\n",
              "      <td>0.419511</td>\n",
              "      <td>0.085613</td>\n",
              "      <td>0.054334</td>\n",
              "      <td>1.000000</td>\n",
              "    </tr>\n",
              "  </tbody>\n",
              "</table>\n",
              "</div>\n",
              "      <button class=\"colab-df-convert\" onclick=\"convertToInteractive('df-95455955-72e6-4ad3-bbbc-a13dfde46e6d')\"\n",
              "              title=\"Convert this dataframe to an interactive table.\"\n",
              "              style=\"display:none;\">\n",
              "        \n",
              "  <svg xmlns=\"http://www.w3.org/2000/svg\" height=\"24px\"viewBox=\"0 0 24 24\"\n",
              "       width=\"24px\">\n",
              "    <path d=\"M0 0h24v24H0V0z\" fill=\"none\"/>\n",
              "    <path d=\"M18.56 5.44l.94 2.06.94-2.06 2.06-.94-2.06-.94-.94-2.06-.94 2.06-2.06.94zm-11 1L8.5 8.5l.94-2.06 2.06-.94-2.06-.94L8.5 2.5l-.94 2.06-2.06.94zm10 10l.94 2.06.94-2.06 2.06-.94-2.06-.94-.94-2.06-.94 2.06-2.06.94z\"/><path d=\"M17.41 7.96l-1.37-1.37c-.4-.4-.92-.59-1.43-.59-.52 0-1.04.2-1.43.59L10.3 9.45l-7.72 7.72c-.78.78-.78 2.05 0 2.83L4 21.41c.39.39.9.59 1.41.59.51 0 1.02-.2 1.41-.59l7.78-7.78 2.81-2.81c.8-.78.8-2.07 0-2.86zM5.41 20L4 18.59l7.72-7.72 1.47 1.35L5.41 20z\"/>\n",
              "  </svg>\n",
              "      </button>\n",
              "      \n",
              "  <style>\n",
              "    .colab-df-container {\n",
              "      display:flex;\n",
              "      flex-wrap:wrap;\n",
              "      gap: 12px;\n",
              "    }\n",
              "\n",
              "    .colab-df-convert {\n",
              "      background-color: #E8F0FE;\n",
              "      border: none;\n",
              "      border-radius: 50%;\n",
              "      cursor: pointer;\n",
              "      display: none;\n",
              "      fill: #1967D2;\n",
              "      height: 32px;\n",
              "      padding: 0 0 0 0;\n",
              "      width: 32px;\n",
              "    }\n",
              "\n",
              "    .colab-df-convert:hover {\n",
              "      background-color: #E2EBFA;\n",
              "      box-shadow: 0px 1px 2px rgba(60, 64, 67, 0.3), 0px 1px 3px 1px rgba(60, 64, 67, 0.15);\n",
              "      fill: #174EA6;\n",
              "    }\n",
              "\n",
              "    [theme=dark] .colab-df-convert {\n",
              "      background-color: #3B4455;\n",
              "      fill: #D2E3FC;\n",
              "    }\n",
              "\n",
              "    [theme=dark] .colab-df-convert:hover {\n",
              "      background-color: #434B5C;\n",
              "      box-shadow: 0px 1px 3px 1px rgba(0, 0, 0, 0.15);\n",
              "      filter: drop-shadow(0px 1px 2px rgba(0, 0, 0, 0.3));\n",
              "      fill: #FFFFFF;\n",
              "    }\n",
              "  </style>\n",
              "\n",
              "      <script>\n",
              "        const buttonEl =\n",
              "          document.querySelector('#df-95455955-72e6-4ad3-bbbc-a13dfde46e6d button.colab-df-convert');\n",
              "        buttonEl.style.display =\n",
              "          google.colab.kernel.accessAllowed ? 'block' : 'none';\n",
              "\n",
              "        async function convertToInteractive(key) {\n",
              "          const element = document.querySelector('#df-95455955-72e6-4ad3-bbbc-a13dfde46e6d');\n",
              "          const dataTable =\n",
              "            await google.colab.kernel.invokeFunction('convertToInteractive',\n",
              "                                                     [key], {});\n",
              "          if (!dataTable) return;\n",
              "\n",
              "          const docLinkHtml = 'Like what you see? Visit the ' +\n",
              "            '<a target=\"_blank\" href=https://colab.research.google.com/notebooks/data_table.ipynb>data table notebook</a>'\n",
              "            + ' to learn more about interactive tables.';\n",
              "          element.innerHTML = '';\n",
              "          dataTable['output_type'] = 'display_data';\n",
              "          await google.colab.output.renderOutput(dataTable, element);\n",
              "          const docLink = document.createElement('div');\n",
              "          docLink.innerHTML = docLinkHtml;\n",
              "          element.appendChild(docLink);\n",
              "        }\n",
              "      </script>\n",
              "    </div>\n",
              "  </div>\n",
              "  "
            ]
          },
          "metadata": {},
          "execution_count": 80
        }
      ]
    },
    {
      "cell_type": "markdown",
      "source": [
        "Precio promedio de propiedad por Barrio"
      ],
      "metadata": {
        "id": "JdWFC6UHIpq-"
      }
    },
    {
      "cell_type": "code",
      "source": [
        "ds_precio_prom = ds_prop_filtrado.groupby([\"place_l3\"])[\"property_price\"].mean().sort_values(ascending=False)\n",
        "grf_ds=ds_precio_prom.plot.bar(alpha=0.5 , title=\"Cantidad de propiedades por barrio\" , xlabel=\"barrio\" , ylabel=\"precio\", figsize=(20,5))"
      ],
      "metadata": {
        "id": "tVtOIRHHIqxY",
        "outputId": "726f7e06-0445-4b1c-ddbe-fa012b130619",
        "colab": {
          "base_uri": "https://localhost:8080/",
          "height": 441
        }
      },
      "execution_count": null,
      "outputs": [
        {
          "output_type": "display_data",
          "data": {
            "text/plain": [
              "<Figure size 1440x360 with 1 Axes>"
            ],
            "image/png": "[encoded data removed]"
          },
          "metadata": {
            "needs_background": "light"
          }
        }
      ]
    },
    {
      "cell_type": "markdown",
      "source": [],
      "metadata": {
        "id": "cqm6g1KQI3_9"
      }
    },
    {
      "cell_type": "markdown",
      "metadata": {
        "id": "xrKhG34RHhFm"
      },
      "source": [
        "# DATOS FALTANTES"
      ]
    },
    {
      "cell_type": "markdown",
      "metadata": {
        "id": "OJC5Cc_8HhFn"
      },
      "source": [
        "Realizar análisis de datos faltantes a nivel de columna. Graficar para cada variable\n",
        "el porcentaje de datos faltantes con respecto al total del dataset"
      ]
    },
    {
      "cell_type": "code",
      "execution_count": null,
      "metadata": {
        "id": "5NJEdqGFHhFn",
        "outputId": "a84ce31d-e770-429a-f391-cb45271db69d",
        "colab": {
          "base_uri": "https://localhost:8080/"
        }
      },
      "outputs": [
        {
          "output_type": "stream",
          "name": "stdout",
          "text": [
            "id                            0.000000\n",
            "start_date                    0.000000\n",
            "end_date                      0.000000\n",
            "created_on                    0.000000\n",
            "latitud                       3.957602\n",
            "longitud                      3.957602\n",
            "place_l2                      0.000000\n",
            "place_l3                      0.442445\n",
            "place_l4                     96.134707\n",
            "place_l5                    100.000000\n",
            "place_l6                    100.000000\n",
            "operation                     0.000000\n",
            "property_type                 0.000000\n",
            "property_rooms                1.107704\n",
            "property_bedrooms            11.657418\n",
            "property_surface_total        5.139577\n",
            "property_surface_covered      3.558658\n",
            "property_price                0.000000\n",
            "property_currency             0.000000\n",
            "property_title                0.000000\n",
            "dtype: float64\n"
          ]
        }
      ],
      "source": [
        "filas_totales=ds_prop_filtrado.shape[0]\n",
        "print(ds_prop_filtrado.isna().sum()/filas_totales*100)"
      ]
    },
    {
      "cell_type": "code",
      "execution_count": null,
      "metadata": {
        "id": "ZBuVTdu-HhFn"
      },
      "outputs": [],
      "source": [
        "#ds_prop_filtrado.isna().sum()/filas_totales*100 flata hacer el plot"
      ]
    },
    {
      "cell_type": "markdown",
      "metadata": {
        "id": "FwyFsVCbHhFn"
      },
      "source": [
        "Tomando en cuenta estos resultados, decidimos eliminar las columnas l4 , l5 y l6 debido a que el porcentaje de datos faltantes es total o casi total."
      ]
    },
    {
      "cell_type": "code",
      "execution_count": null,
      "metadata": {
        "id": "zgMkewFJHhFo"
      },
      "outputs": [],
      "source": [
        "columnas_a_eliminar = [\"place_l4\",\"place_l5\",\"place_l6\",\"id\"]\n",
        "ds_prop_filtrado.drop(columns = columnas_a_eliminar, inplace = True)"
      ]
    },
    {
      "cell_type": "markdown",
      "metadata": {
        "id": "L5B-wQLjHhFo"
      },
      "source": [
        "Realizar un análisis de datos faltantes a nivel de fila. Calcular el porcentaje de\n",
        "datos faltantes de cada registro. Realizar un gráfico que permita conocer la\n",
        "proporción de faltantes por fila en el dataset."
      ]
    },
    {
      "cell_type": "code",
      "execution_count": null,
      "metadata": {
        "id": "Bum32U2sHhFo",
        "outputId": "bdbdef9b-9add-4a7b-cf6d-d676c54785c6",
        "colab": {
          "base_uri": "https://localhost:8080/"
        }
      },
      "outputs": [
        {
          "output_type": "execute_result",
          "data": {
            "text/plain": [
              "25        3\n",
              "42        0\n",
              "43        0\n",
              "49        1\n",
              "51        1\n",
              "         ..\n",
              "460072    0\n",
              "460073    0\n",
              "460074    0\n",
              "460075    0\n",
              "460090    0\n",
              "Length: 94249, dtype: int64"
            ]
          },
          "metadata": {},
          "execution_count": 77
        }
      ],
      "source": [
        "pd.DataFrame(ds_prop_filtrado).isna().sum(axis=1)\n"
      ]
    },
    {
      "cell_type": "markdown",
      "metadata": {
        "id": "JlzULp9mHhFo"
      },
      "source": [
        "Determinar, de ser posible, estrategias para reparar los valores faltantes."
      ]
    },
    {
      "cell_type": "markdown",
      "metadata": {
        "id": "jprrt-LNHhFp"
      },
      "source": [
        "Primero imputaremos los datos cuantitativos faltantes utilizando el metodo MICE."
      ]
    },
    {
      "cell_type": "code",
      "execution_count": null,
      "metadata": {
        "id": "Sx3ix4O2HhFp"
      },
      "outputs": [],
      "source": [
        "ds_prop_filtrado = ds_prop_filtrado[~ds_prop_filtrado[\"latitud\"].isna() & ~ds_prop_filtrado[\"place_l3\"].isna()]"
      ]
    },
    {
      "cell_type": "code",
      "execution_count": null,
      "metadata": {
        "id": "7DDWqNcvHhFp",
        "outputId": "38fe27a3-d706-475c-8469-ca2b0ac08c89",
        "colab": {
          "base_uri": "https://localhost:8080/",
          "height": 362
        }
      },
      "outputs": [
        {
          "output_type": "error",
          "ename": "ValueError",
          "evalue": "ignored",
          "traceback": [
            "\u001b[0;31m---------------------------------------------------------------------------\u001b[0m",
            "\u001b[0;31mValueError\u001b[0m                                Traceback (most recent call last)",
            "\u001b[0;32m<ipython-input-79-75a637fb6284>\u001b[0m in \u001b[0;36m<module>\u001b[0;34m\u001b[0m\n\u001b[1;32m     15\u001b[0m \u001b[0;31m#mice['latitud'] = df_eliminar_nans_op3_completo[:,5]\u001b[0m\u001b[0;34m\u001b[0m\u001b[0;34m\u001b[0m\u001b[0;34m\u001b[0m\u001b[0m\n\u001b[1;32m     16\u001b[0m \u001b[0;31m#mice['longitud'] = df_eliminar_nans_op3_completo[:,6]\u001b[0m\u001b[0;34m\u001b[0m\u001b[0;34m\u001b[0m\u001b[0;34m\u001b[0m\u001b[0m\n\u001b[0;32m---> 17\u001b[0;31m \u001b[0mmice\u001b[0m\u001b[0;34m[\u001b[0m\u001b[0;34m'latitud'\u001b[0m\u001b[0;34m]\u001b[0m\u001b[0;34m.\u001b[0m\u001b[0mdrop\u001b[0m\u001b[0;34m(\u001b[0m\u001b[0;34m)\u001b[0m\u001b[0;34m\u001b[0m\u001b[0;34m\u001b[0m\u001b[0m\n\u001b[0m\u001b[1;32m     18\u001b[0m \u001b[0mmice\u001b[0m\u001b[0;34m[\u001b[0m\u001b[0;34m'longitud'\u001b[0m\u001b[0;34m]\u001b[0m\u001b[0;34m.\u001b[0m\u001b[0mdrop\u001b[0m\u001b[0;34m(\u001b[0m\u001b[0;34m)\u001b[0m\u001b[0;34m\u001b[0m\u001b[0;34m\u001b[0m\u001b[0m\n",
            "\u001b[0;32m/usr/local/lib/python3.7/dist-packages/pandas/util/_decorators.py\u001b[0m in \u001b[0;36mwrapper\u001b[0;34m(*args, **kwargs)\u001b[0m\n\u001b[1;32m    309\u001b[0m                     \u001b[0mstacklevel\u001b[0m\u001b[0;34m=\u001b[0m\u001b[0mstacklevel\u001b[0m\u001b[0;34m,\u001b[0m\u001b[0;34m\u001b[0m\u001b[0;34m\u001b[0m\u001b[0m\n\u001b[1;32m    310\u001b[0m                 )\n\u001b[0;32m--> 311\u001b[0;31m             \u001b[0;32mreturn\u001b[0m \u001b[0mfunc\u001b[0m\u001b[0;34m(\u001b[0m\u001b[0;34m*\u001b[0m\u001b[0margs\u001b[0m\u001b[0;34m,\u001b[0m \u001b[0;34m**\u001b[0m\u001b[0mkwargs\u001b[0m\u001b[0;34m)\u001b[0m\u001b[0;34m\u001b[0m\u001b[0;34m\u001b[0m\u001b[0m\n\u001b[0m\u001b[1;32m    312\u001b[0m \u001b[0;34m\u001b[0m\u001b[0m\n\u001b[1;32m    313\u001b[0m         \u001b[0;32mreturn\u001b[0m \u001b[0mwrapper\u001b[0m\u001b[0;34m\u001b[0m\u001b[0;34m\u001b[0m\u001b[0m\n",
            "\u001b[0;32m/usr/local/lib/python3.7/dist-packages/pandas/core/series.py\u001b[0m in \u001b[0;36mdrop\u001b[0;34m(self, labels, axis, index, columns, level, inplace, errors)\u001b[0m\n\u001b[1;32m   4684\u001b[0m             \u001b[0mlevel\u001b[0m\u001b[0;34m=\u001b[0m\u001b[0mlevel\u001b[0m\u001b[0;34m,\u001b[0m\u001b[0;34m\u001b[0m\u001b[0;34m\u001b[0m\u001b[0m\n\u001b[1;32m   4685\u001b[0m             \u001b[0minplace\u001b[0m\u001b[0;34m=\u001b[0m\u001b[0minplace\u001b[0m\u001b[0;34m,\u001b[0m\u001b[0;34m\u001b[0m\u001b[0;34m\u001b[0m\u001b[0m\n\u001b[0;32m-> 4686\u001b[0;31m             \u001b[0merrors\u001b[0m\u001b[0;34m=\u001b[0m\u001b[0merrors\u001b[0m\u001b[0;34m,\u001b[0m\u001b[0;34m\u001b[0m\u001b[0;34m\u001b[0m\u001b[0m\n\u001b[0m\u001b[1;32m   4687\u001b[0m         )\n\u001b[1;32m   4688\u001b[0m \u001b[0;34m\u001b[0m\u001b[0m\n",
            "\u001b[0;32m/usr/local/lib/python3.7/dist-packages/pandas/core/generic.py\u001b[0m in \u001b[0;36mdrop\u001b[0;34m(self, labels, axis, index, columns, level, inplace, errors)\u001b[0m\n\u001b[1;32m   4141\u001b[0m         \u001b[0;32melse\u001b[0m\u001b[0;34m:\u001b[0m\u001b[0;34m\u001b[0m\u001b[0;34m\u001b[0m\u001b[0m\n\u001b[1;32m   4142\u001b[0m             raise ValueError(\n\u001b[0;32m-> 4143\u001b[0;31m                 \u001b[0;34m\"Need to specify at least one of 'labels', 'index' or 'columns'\"\u001b[0m\u001b[0;34m\u001b[0m\u001b[0;34m\u001b[0m\u001b[0m\n\u001b[0m\u001b[1;32m   4144\u001b[0m             )\n\u001b[1;32m   4145\u001b[0m \u001b[0;34m\u001b[0m\u001b[0m\n",
            "\u001b[0;31mValueError\u001b[0m: Need to specify at least one of 'labels', 'index' or 'columns'"
          ]
        }
      ],
      "source": [
        "\n",
        "copia_pre_imputacion= ds_prop_filtrado.copy()\n",
        "mice = ds_prop_filtrado.copy()\n",
        "#mice= mice[~mice[\"latitud\"].isna() & ~mice[\"place_l3\"].isna()]\n",
        "columnas=['property_surface_total','property_surface_covered','property_rooms','property_price','property_bedrooms','latitud','longitud'] #,'property_surface_covered','property_bathrooms','property_rooms'\n",
        "df_eliminar_nans_op3=ds_prop_filtrado[columnas].copy()\n",
        "\n",
        "lr = LinearRegression()\n",
        "imp = IterativeImputer(estimator=lr,missing_values=np.nan, max_iter=20, verbose=0, random_state=0,imputation_order='roman',initial_strategy = \"mean\") #imputation_order='roman'\n",
        "df_eliminar_nans_op3_completo=imp.fit_transform(df_eliminar_nans_op3)\n",
        "mice['property_surface_total']= df_eliminar_nans_op3_completo[:,0]\n",
        "mice['property_surface_covered']=df_eliminar_nans_op3_completo[:, 1]\n",
        "mice['property_rooms']= df_eliminar_nans_op3_completo[:, 2]\n",
        "mice['property_price']= df_eliminar_nans_op3_completo[:, 3]\n",
        "mice['property_bedrooms'] = df_eliminar_nans_op3_completo[:,4]\n",
        "#mice['latitud'] = df_eliminar_nans_op3_completo[:,5]\n",
        "#mice['longitud'] = df_eliminar_nans_op3_completo[:,6]\n",
        "mice['latitud'].drop()\n",
        "mice['longitud'].drop()\n"
      ]
    },
    {
      "cell_type": "code",
      "execution_count": null,
      "metadata": {
        "id": "ItyASmGxHhFp"
      },
      "outputs": [],
      "source": [
        "filas_totales=mice.shape[0]\n",
        "print(mice.isna().sum()/filas_totales*100)"
      ]
    },
    {
      "cell_type": "markdown",
      "metadata": {
        "id": "PvH7yNozHhFq"
      },
      "source": [
        "Y luego procedemos imputando los cualitativos, que en este caso solo es el place_l3"
      ]
    },
    {
      "cell_type": "code",
      "execution_count": null,
      "metadata": {
        "id": "42geqiApHhFq"
      },
      "outputs": [],
      "source": [
        "ds_barrios = pd.read_csv('barrios.csv', header=0,sep=';')"
      ]
    },
    {
      "cell_type": "code",
      "execution_count": null,
      "metadata": {
        "id": "Ka-7TqaEHhFq"
      },
      "outputs": [],
      "source": [
        "from shapely.geometry import MultiPolygon, Polygon, Point\n",
        "from shapely import wkt\n",
        "ds_barrios.WKT = ds_barrios.WKT\n",
        "\n"
      ]
    },
    {
      "cell_type": "markdown",
      "metadata": {
        "id": "cm3UqJHeHhFq"
      },
      "source": [
        "Utilizaremos un archivo csv proporcionado por el gobierno de la Ciudad Autonoma de Buenos Aires, el cual nos proporcionorá el nombre de la localidad usando latitud y longitud, mediante la utilizacion de Polygon."
      ]
    },
    {
      "cell_type": "code",
      "execution_count": null,
      "metadata": {
        "id": "CX-mALSZHhFq"
      },
      "outputs": [],
      "source": [
        "for index, registro_prop in mice.iterrows():\n",
        "    if  type(registro_prop[\"place_l3\"]) is str:\n",
        "        continue\n",
        "    for index_, registro_barrio in ds_barrios.iterrows():\n",
        "        if wkt.loads(registro_barrio.WKT).covers(Point(registro_prop.longitud,registro_prop.latitud)):\n",
        "            barrio_aux = registro_barrio['BARRIO']\n",
        "            mice['place_l3'][index] = barrio_aux"
      ]
    },
    {
      "cell_type": "code",
      "execution_count": null,
      "metadata": {
        "id": "gKCmoLsxHhFq"
      },
      "outputs": [],
      "source": [
        "# ds_prop_filtrado.where(ds_prop_filtrado.place_l3.isna(), ds_barrios)\n",
        "\n",
        "#ds_prop_filtrado[\"place_l3\"].fillna(ds_barrios[ds_barrios[\"WKT\"].contains(Point((ds_prop_filtrado.longitud,ds_prop_filtrado.latitud))) == True].barrio)\n",
        "#ds_prop_filtrado[\"place_l3\"].isna().combine_first()"
      ]
    },
    {
      "cell_type": "code",
      "execution_count": null,
      "metadata": {
        "id": "0BQHGzX1HhFr"
      },
      "outputs": [],
      "source": [
        "filas_totales=mice.shape[0]\n",
        "print(mice.isna().sum()/filas_totales*100)"
      ]
    },
    {
      "cell_type": "markdown",
      "metadata": {
        "id": "dQSlz6-lHhFr"
      },
      "source": [
        "Luego logramos reducir el porcentaje de datos faltantes a 0.21\n",
        "Investigando, descubrimos que los registros que aun tienen dato faltante, es porque la latitud y longitud no coinciden con un punto ubicado en CABA."
      ]
    },
    {
      "cell_type": "markdown",
      "metadata": {
        "id": "2bhZ6VU0HhFr"
      },
      "source": [
        "En caso de realizar imputaciones comparar las distribuciones de cada atributo\n",
        "reparado con la distribución anterior a la imputación de los datos faltantes."
      ]
    },
    {
      "cell_type": "code",
      "execution_count": null,
      "metadata": {
        "id": "QFvy6UdlHhFr"
      },
      "outputs": [],
      "source": [
        "mice[mice[\"property_price\"]<0]"
      ]
    },
    {
      "cell_type": "markdown",
      "metadata": {
        "id": "WEt9s9xuHhFr"
      },
      "source": []
    },
    {
      "cell_type": "code",
      "execution_count": null,
      "metadata": {
        "id": "oZuOffwvHhFr"
      },
      "outputs": [],
      "source": [
        "grf=sns.boxplot(y=\"property_price\", data=copia_pre_imputacion[copia_pre_imputacion[\"property_price\"]<500000])\n"
      ]
    },
    {
      "cell_type": "markdown",
      "metadata": {
        "id": "LMqqwz02HhFs"
      },
      "source": [
        "# analizar la existencia de valores atípicos\n"
      ]
    },
    {
      "cell_type": "code",
      "execution_count": null,
      "metadata": {
        "id": "u1ahkefxHhFs"
      },
      "outputs": [],
      "source": [
        "#Calulo el vector de medias\n",
        "mice= mice[:300]\n",
        "vmedias=np.mean(mice[['property_price','property_rooms']])\n",
        "\n",
        "#Calculo la diferencia entre las observaciones y el vector de medias\n",
        "x_dif = mice[['property_price','property_rooms']] - vmedias\n",
        "\n",
        "#Calculo matriz de covarianza y su inversa\n",
        "cov=mice[['property_price','property_rooms']].cov().values\n",
        "inv_cov = np.linalg.inv(cov)\n",
        "\n",
        "#Calculamos el cuadrado de la distancia de mahalanobis\n",
        "mahal =np.dot( np.dot(x_dif, inv_cov) , x_dif.T)\n",
        "\n",
        "mice['mahalanobis']=mahal.diagonal()\n",
        "mice.head()"
      ]
    }
  ],
  "metadata": {
    "colab": {
      "provenance": [],
      "include_colab_link": true
    },
    "kernelspec": {
      "display_name": "Python 3.9.0 64-bit",
      "language": "python",
      "name": "python3"
    },
    "language_info": {
      "codemirror_mode": {
        "name": "ipython",
        "version": 3
      },
      "file_extension": ".py",
      "mimetype": "text/x-python",
      "name": "python",
      "nbconvert_exporter": "python",
      "pygments_lexer": "ipython3",
      "version": "3.9.0"
    },
    "vscode": {
      "interpreter": {
        "hash": "7aea222f8ece7c02793ce994166a9c748e28ecc29ff46a470329adffe1b6c251"
      }
    }
  },
  "nbformat": 4,
  "nbformat_minor": 0
}