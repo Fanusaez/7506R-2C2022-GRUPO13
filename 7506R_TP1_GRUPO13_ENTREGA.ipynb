{
  "cells": [
    {
      "cell_type": "markdown",
      "metadata": {
        "colab_type": "text",
        "id": "view-in-github"
      },
      "source": [
        "<a href=\"https://colab.research.google.com/github/Fanusaez/7506R-2C2022-GRUPO13/blob/sabado-1-10-2022/7506R_TP1_GRUPO13_ENTREGA.ipynb\" target=\"_parent\"><img src=\"https://colab.research.google.com/assets/colab-badge.svg\" alt=\"Open In Colab\"/></a>"
      ]
    },
    {
      "cell_type": "markdown",
      "metadata": {
        "id": "nJ_n4ngThDGU"
      },
      "source": [
        "# Trabajo Practico 1 : Propiedades en Venta\n",
        "## Grupo 13\n",
        "### Integrantes:\n",
        "- Ivan Manuel Pensado\n",
        "- Axel Tomas Higa\n",
        "- Edgardo Francisco Saez \n",
        "- Lautaro Barrionuevo\n",
        "- Nicolás Carreño"
      ]
    },
    {
      "cell_type": "markdown",
      "metadata": {
        "id": "hDb_EqqsmUQY"
      },
      "source": [
        "# Importe de librerias"
      ]
    },
    {
      "cell_type": "code",
      "execution_count": 244,
      "metadata": {
        "id": "8NDsT1MBmcDe"
      },
      "outputs": [],
      "source": [
        "import pandas as pd\n",
        "import numpy as np\n",
        "import matplotlib as plt\n",
        "import seaborn as sns\n",
        "\n",
        "from sklearn.experimental import enable_iterative_imputer\n",
        "from sklearn.impute import IterativeImputer\n",
        "from sklearn.linear_model import LinearRegression\n",
        "\n",
        "import scipy.stats as st\n",
        "\n",
        "from sklearn.neighbors import LocalOutlierFactor\n",
        "\n",
        "import matplotlib.pyplot as plt\n"
      ]
    },
    {
      "cell_type": "markdown",
      "metadata": {
        "id": "CHe-JuubHhFS"
      },
      "source": [
        "# Lectura de archivo"
      ]
    },
    {
      "cell_type": "code",
      "execution_count": 245,
      "metadata": {
        "colab": {
          "base_uri": "https://localhost:8080/"
        },
        "id": "Ie4lG6QEHhFT",
        "outputId": "84495801-45cb-4166-bafb-abb6ed32b15e"
      },
      "outputs": [],
      "source": [
        "ds_propiedades = pd.read_csv('properati_argentina_2021.csv')"
      ]
    },
    {
      "cell_type": "code",
      "execution_count": 246,
      "metadata": {
        "colab": {
          "base_uri": "https://localhost:8080/",
          "height": 357
        },
        "id": "tAjepP03HhFV",
        "outputId": "3fca6ced-0b6b-455a-d5d5-cfba3c77e2a6"
      },
      "outputs": [
        {
          "data": {
            "text/html": [
              "<div>\n",
              "<style scoped>\n",
              "    .dataframe tbody tr th:only-of-type {\n",
              "        vertical-align: middle;\n",
              "    }\n",
              "\n",
              "    .dataframe tbody tr th {\n",
              "        vertical-align: top;\n",
              "    }\n",
              "\n",
              "    .dataframe thead th {\n",
              "        text-align: right;\n",
              "    }\n",
              "</style>\n",
              "<table border=\"1\" class=\"dataframe\">\n",
              "  <thead>\n",
              "    <tr style=\"text-align: right;\">\n",
              "      <th></th>\n",
              "      <th>id</th>\n",
              "      <th>start_date</th>\n",
              "      <th>end_date</th>\n",
              "      <th>created_on</th>\n",
              "      <th>latitud</th>\n",
              "      <th>longitud</th>\n",
              "      <th>place_l2</th>\n",
              "      <th>place_l3</th>\n",
              "      <th>place_l4</th>\n",
              "      <th>place_l5</th>\n",
              "      <th>place_l6</th>\n",
              "      <th>operation</th>\n",
              "      <th>property_type</th>\n",
              "      <th>property_rooms</th>\n",
              "      <th>property_bedrooms</th>\n",
              "      <th>property_surface_total</th>\n",
              "      <th>property_surface_covered</th>\n",
              "      <th>property_price</th>\n",
              "      <th>property_currency</th>\n",
              "      <th>property_title</th>\n",
              "    </tr>\n",
              "  </thead>\n",
              "  <tbody>\n",
              "    <tr>\n",
              "      <th>0</th>\n",
              "      <td>XZq2dFGxBiboHY3Bo/tqlw==</td>\n",
              "      <td>2021-09-09</td>\n",
              "      <td>2022-01-27</td>\n",
              "      <td>2021-09-09</td>\n",
              "      <td>-38.957632</td>\n",
              "      <td>-68.105443</td>\n",
              "      <td>Neuquén</td>\n",
              "      <td>NaN</td>\n",
              "      <td>NaN</td>\n",
              "      <td>NaN</td>\n",
              "      <td>NaN</td>\n",
              "      <td>Venta</td>\n",
              "      <td>Casa</td>\n",
              "      <td>6.0</td>\n",
              "      <td>NaN</td>\n",
              "      <td>NaN</td>\n",
              "      <td>206.0</td>\n",
              "      <td>NaN</td>\n",
              "      <td>NaN</td>\n",
              "      <td>Casa - Capital</td>\n",
              "    </tr>\n",
              "    <tr>\n",
              "      <th>1</th>\n",
              "      <td>8afoK+yMH/rnnlYiktwgNA==</td>\n",
              "      <td>2021-09-09</td>\n",
              "      <td>2021-10-23</td>\n",
              "      <td>2021-09-09</td>\n",
              "      <td>-34.888878</td>\n",
              "      <td>-56.092368</td>\n",
              "      <td>Montevideo</td>\n",
              "      <td>NaN</td>\n",
              "      <td>NaN</td>\n",
              "      <td>NaN</td>\n",
              "      <td>NaN</td>\n",
              "      <td>Venta</td>\n",
              "      <td>Casa</td>\n",
              "      <td>4.0</td>\n",
              "      <td>3.0</td>\n",
              "      <td>193.0</td>\n",
              "      <td>193.0</td>\n",
              "      <td>390000.0</td>\n",
              "      <td>USD</td>\n",
              "      <td>Casa - Malvín</td>\n",
              "    </tr>\n",
              "    <tr>\n",
              "      <th>2</th>\n",
              "      <td>iVaG5rBB47dd1Ya4BMXREA==</td>\n",
              "      <td>2021-09-09</td>\n",
              "      <td>2022-03-09</td>\n",
              "      <td>2021-09-09</td>\n",
              "      <td>-32.488717</td>\n",
              "      <td>-58.257499</td>\n",
              "      <td>Entre Ríos</td>\n",
              "      <td>NaN</td>\n",
              "      <td>NaN</td>\n",
              "      <td>NaN</td>\n",
              "      <td>NaN</td>\n",
              "      <td>Venta</td>\n",
              "      <td>Casa</td>\n",
              "      <td>NaN</td>\n",
              "      <td>NaN</td>\n",
              "      <td>110.0</td>\n",
              "      <td>45.0</td>\n",
              "      <td>47000.0</td>\n",
              "      <td>USD</td>\n",
              "      <td>Casa - Uruguay</td>\n",
              "    </tr>\n",
              "    <tr>\n",
              "      <th>3</th>\n",
              "      <td>QE1QVMWKAHWkd0qT0FtPWA==</td>\n",
              "      <td>2021-09-09</td>\n",
              "      <td>2022-01-27</td>\n",
              "      <td>2021-09-09</td>\n",
              "      <td>-34.900165</td>\n",
              "      <td>-54.808453</td>\n",
              "      <td>Maldonado</td>\n",
              "      <td>NaN</td>\n",
              "      <td>NaN</td>\n",
              "      <td>NaN</td>\n",
              "      <td>NaN</td>\n",
              "      <td>Venta</td>\n",
              "      <td>Casa</td>\n",
              "      <td>NaN</td>\n",
              "      <td>3.0</td>\n",
              "      <td>NaN</td>\n",
              "      <td>180.0</td>\n",
              "      <td>400000.0</td>\n",
              "      <td>USD</td>\n",
              "      <td>Casa - El Chorro</td>\n",
              "    </tr>\n",
              "    <tr>\n",
              "      <th>4</th>\n",
              "      <td>tJ5lSk7IysG/71OGhacNZA==</td>\n",
              "      <td>2021-09-09</td>\n",
              "      <td>2022-01-27</td>\n",
              "      <td>2021-09-09</td>\n",
              "      <td>-38.954528</td>\n",
              "      <td>-68.041862</td>\n",
              "      <td>Neuquén</td>\n",
              "      <td>NaN</td>\n",
              "      <td>NaN</td>\n",
              "      <td>NaN</td>\n",
              "      <td>NaN</td>\n",
              "      <td>Venta</td>\n",
              "      <td>PH</td>\n",
              "      <td>3.0</td>\n",
              "      <td>2.0</td>\n",
              "      <td>NaN</td>\n",
              "      <td>98.0</td>\n",
              "      <td>102000.0</td>\n",
              "      <td>USD</td>\n",
              "      <td>PH - Villa Farrell</td>\n",
              "    </tr>\n",
              "  </tbody>\n",
              "</table>\n",
              "</div>"
            ],
            "text/plain": [
              "                         id  start_date    end_date  created_on    latitud  \\\n",
              "0  XZq2dFGxBiboHY3Bo/tqlw==  2021-09-09  2022-01-27  2021-09-09 -38.957632   \n",
              "1  8afoK+yMH/rnnlYiktwgNA==  2021-09-09  2021-10-23  2021-09-09 -34.888878   \n",
              "2  iVaG5rBB47dd1Ya4BMXREA==  2021-09-09  2022-03-09  2021-09-09 -32.488717   \n",
              "3  QE1QVMWKAHWkd0qT0FtPWA==  2021-09-09  2022-01-27  2021-09-09 -34.900165   \n",
              "4  tJ5lSk7IysG/71OGhacNZA==  2021-09-09  2022-01-27  2021-09-09 -38.954528   \n",
              "\n",
              "    longitud    place_l2 place_l3 place_l4 place_l5  place_l6 operation  \\\n",
              "0 -68.105443     Neuquén      NaN      NaN      NaN       NaN     Venta   \n",
              "1 -56.092368  Montevideo      NaN      NaN      NaN       NaN     Venta   \n",
              "2 -58.257499  Entre Ríos      NaN      NaN      NaN       NaN     Venta   \n",
              "3 -54.808453   Maldonado      NaN      NaN      NaN       NaN     Venta   \n",
              "4 -68.041862     Neuquén      NaN      NaN      NaN       NaN     Venta   \n",
              "\n",
              "  property_type  property_rooms  property_bedrooms  property_surface_total  \\\n",
              "0          Casa             6.0                NaN                     NaN   \n",
              "1          Casa             4.0                3.0                   193.0   \n",
              "2          Casa             NaN                NaN                   110.0   \n",
              "3          Casa             NaN                3.0                     NaN   \n",
              "4            PH             3.0                2.0                     NaN   \n",
              "\n",
              "   property_surface_covered  property_price property_currency  \\\n",
              "0                     206.0             NaN               NaN   \n",
              "1                     193.0        390000.0               USD   \n",
              "2                      45.0         47000.0               USD   \n",
              "3                     180.0        400000.0               USD   \n",
              "4                      98.0        102000.0               USD   \n",
              "\n",
              "       property_title  \n",
              "0      Casa - Capital  \n",
              "1       Casa - Malvín  \n",
              "2      Casa - Uruguay  \n",
              "3    Casa - El Chorro  \n",
              "4  PH - Villa Farrell  "
            ]
          },
          "execution_count": 246,
          "metadata": {},
          "output_type": "execute_result"
        }
      ],
      "source": [
        "ds_propiedades.head()"
      ]
    },
    {
      "cell_type": "code",
      "execution_count": null,
      "metadata": {
        "id": "_W8-l1jcHhFX"
      },
      "outputs": [],
      "source": []
    },
    {
      "cell_type": "markdown",
      "metadata": {
        "id": "PIatK8lnHhFZ"
      },
      "source": [
        "# Análisis Exploratorio y Preprocesamiento de Dato"
      ]
    },
    {
      "cell_type": "markdown",
      "metadata": {
        "id": "FwA7vVq6HhFa"
      },
      "source": [
        "***Filtrado inicial***"
      ]
    },
    {
      "cell_type": "markdown",
      "metadata": {
        "id": "Ox_DqaPWHhFb"
      },
      "source": [
        "Se deben filtrar únicamente los anuncios de propiedades de tipo vivienda ( Casa, PH y Departamento ) ubicados en Capital Federal cuyo tipo de operación sea venta y su precio se encuentre en dólares (USD)."
      ]
    },
    {
      "cell_type": "code",
      "execution_count": 247,
      "metadata": {
        "id": "wfKcoliuHhFc"
      },
      "outputs": [],
      "source": [
        "ds_prop_filtrado = ds_propiedades[ds_propiedades.place_l2.str.contains('Capital Federal', case=False, na = False)]\n",
        "ds_prop_filtrado = ds_prop_filtrado[ds_prop_filtrado.property_type.str.fullmatch('Departamento|Casa|ph', case = False, na = False)]\n",
        "ds_prop_filtrado = ds_prop_filtrado[ds_prop_filtrado.operation.str.contains('venta', case=False, na =  False)]\n",
        "ds_prop_filtrado = ds_prop_filtrado[ds_prop_filtrado.property_currency.str.contains('USD', case=False, na =  False)]  #Preguntar si el na va en true"
      ]
    },
    {
      "cell_type": "markdown",
      "metadata": {
        "id": "swyE7PDQHhFd"
      },
      "source": [
        "***Exploración inicial***"
      ]
    },
    {
      "cell_type": "markdown",
      "metadata": {
        "id": "9a11kj5PHhFe"
      },
      "source": [
        "Tipo de variable"
      ]
    },
    {
      "cell_type": "code",
      "execution_count": 248,
      "metadata": {
        "colab": {
          "base_uri": "https://localhost:8080/"
        },
        "id": "3UZhlXfxHhFe",
        "outputId": "ebeaed56-5fa6-40ba-f6cf-213c5e9ceb28"
      },
      "outputs": [
        {
          "data": {
            "text/plain": [
              "id                           object\n",
              "start_date                   object\n",
              "end_date                     object\n",
              "created_on                   object\n",
              "latitud                     float64\n",
              "longitud                    float64\n",
              "place_l2                     object\n",
              "place_l3                     object\n",
              "place_l4                     object\n",
              "place_l5                     object\n",
              "place_l6                    float64\n",
              "operation                    object\n",
              "property_type                object\n",
              "property_rooms              float64\n",
              "property_bedrooms           float64\n",
              "property_surface_total      float64\n",
              "property_surface_covered    float64\n",
              "property_price              float64\n",
              "property_currency            object\n",
              "property_title               object\n",
              "dtype: object"
            ]
          },
          "execution_count": 248,
          "metadata": {},
          "output_type": "execute_result"
        }
      ],
      "source": [
        "ds_prop_filtrado.dtypes"
      ]
    },
    {
      "cell_type": "markdown",
      "metadata": {
        "id": "oFlf3lWCHhFf"
      },
      "source": [
        "Variables Cuantitativas"
      ]
    },
    {
      "cell_type": "code",
      "execution_count": 249,
      "metadata": {
        "colab": {
          "base_uri": "https://localhost:8080/",
          "height": 269
        },
        "id": "sDwfJyJdHhFg",
        "outputId": "0ceb7400-b093-4859-8d2b-7aa9ea3686d6"
      },
      "outputs": [
        {
          "data": {
            "text/html": [
              "<div>\n",
              "<style scoped>\n",
              "    .dataframe tbody tr th:only-of-type {\n",
              "        vertical-align: middle;\n",
              "    }\n",
              "\n",
              "    .dataframe tbody tr th {\n",
              "        vertical-align: top;\n",
              "    }\n",
              "\n",
              "    .dataframe thead th {\n",
              "        text-align: right;\n",
              "    }\n",
              "</style>\n",
              "<table border=\"1\" class=\"dataframe\">\n",
              "  <thead>\n",
              "    <tr style=\"text-align: right;\">\n",
              "      <th></th>\n",
              "      <th>media</th>\n",
              "      <th>mediana</th>\n",
              "      <th>q1</th>\n",
              "      <th>q3</th>\n",
              "      <th>moda</th>\n",
              "    </tr>\n",
              "  </thead>\n",
              "  <tbody>\n",
              "    <tr>\n",
              "      <th>latitud</th>\n",
              "      <td>-34.591481</td>\n",
              "      <td>-34.59579</td>\n",
              "      <td>-34.615975</td>\n",
              "      <td>-34.577413</td>\n",
              "      <td>-34.541250</td>\n",
              "    </tr>\n",
              "    <tr>\n",
              "      <th>longitud</th>\n",
              "      <td>-58.449795</td>\n",
              "      <td>-58.43900</td>\n",
              "      <td>-58.466522</td>\n",
              "      <td>-58.408862</td>\n",
              "      <td>-58.472966</td>\n",
              "    </tr>\n",
              "    <tr>\n",
              "      <th>property_rooms</th>\n",
              "      <td>2.822799</td>\n",
              "      <td>3.00000</td>\n",
              "      <td>2.000000</td>\n",
              "      <td>4.000000</td>\n",
              "      <td>3.000000</td>\n",
              "    </tr>\n",
              "    <tr>\n",
              "      <th>property_bedrooms</th>\n",
              "      <td>2.014629</td>\n",
              "      <td>2.00000</td>\n",
              "      <td>1.000000</td>\n",
              "      <td>3.000000</td>\n",
              "      <td>1.000000</td>\n",
              "    </tr>\n",
              "    <tr>\n",
              "      <th>property_surface_total</th>\n",
              "      <td>109.092970</td>\n",
              "      <td>65.00000</td>\n",
              "      <td>45.000000</td>\n",
              "      <td>105.000000</td>\n",
              "      <td>50.000000</td>\n",
              "    </tr>\n",
              "    <tr>\n",
              "      <th>property_surface_covered</th>\n",
              "      <td>87.931932</td>\n",
              "      <td>58.00000</td>\n",
              "      <td>40.000000</td>\n",
              "      <td>88.000000</td>\n",
              "      <td>40.000000</td>\n",
              "    </tr>\n",
              "    <tr>\n",
              "      <th>property_price</th>\n",
              "      <td>226238.207185</td>\n",
              "      <td>143900.00000</td>\n",
              "      <td>95000.000000</td>\n",
              "      <td>237000.000000</td>\n",
              "      <td>110000.000000</td>\n",
              "    </tr>\n",
              "  </tbody>\n",
              "</table>\n",
              "</div>"
            ],
            "text/plain": [
              "                                  media       mediana            q1  \\\n",
              "latitud                      -34.591481     -34.59579    -34.615975   \n",
              "longitud                     -58.449795     -58.43900    -58.466522   \n",
              "property_rooms                 2.822799       3.00000      2.000000   \n",
              "property_bedrooms              2.014629       2.00000      1.000000   \n",
              "property_surface_total       109.092970      65.00000     45.000000   \n",
              "property_surface_covered      87.931932      58.00000     40.000000   \n",
              "property_price            226238.207185  143900.00000  95000.000000   \n",
              "\n",
              "                                     q3           moda  \n",
              "latitud                      -34.577413     -34.541250  \n",
              "longitud                     -58.408862     -58.472966  \n",
              "property_rooms                 4.000000       3.000000  \n",
              "property_bedrooms              3.000000       1.000000  \n",
              "property_surface_total       105.000000      50.000000  \n",
              "property_surface_covered      88.000000      40.000000  \n",
              "property_price            237000.000000  110000.000000  "
            ]
          },
          "execution_count": 249,
          "metadata": {},
          "output_type": "execute_result"
        }
      ],
      "source": [
        "cuantitativos = [\"latitud\", \"longitud\", \"property_rooms\", \"property_bedrooms\",\"property_surface_total\", \"property_surface_covered\", \"property_price\"]\n",
        "ds_cuantitativo = ds_prop_filtrado.loc[:,cuantitativos]\n",
        "ds_resumen_cuantitativo = pd.DataFrame()\n",
        "ds_resumen_cuantitativo[\"media\"] = ds_cuantitativo.mean()\n",
        "ds_resumen_cuantitativo[\"mediana\"] = ds_cuantitativo.median()\n",
        "ds_resumen_cuantitativo[\"q1\"] = ds_cuantitativo.quantile([.25]).iloc[0]\n",
        "ds_resumen_cuantitativo[\"q3\"] = ds_cuantitativo.quantile([.75]).iloc[0]\n",
        "ds_resumen_cuantitativo[\"moda\"] = ds_cuantitativo.mode().iloc[0]\n",
        "ds_resumen_cuantitativo"
      ]
    },
    {
      "cell_type": "markdown",
      "metadata": {
        "id": "0C1Ml2QQHhFg"
      },
      "source": [
        "Variables Cualitativas"
      ]
    },
    {
      "cell_type": "code",
      "execution_count": 250,
      "metadata": {
        "id": "fFewavZbHhFh"
      },
      "outputs": [],
      "source": [
        "cualitativos = [\"place_l2\", \"place_l3\", \"operation\", \"property_type\", \"property_currency\", \"property_title\"]\n",
        "ds_cualitativo = ds_prop_filtrado.loc[:,cualitativos]"
      ]
    },
    {
      "cell_type": "markdown",
      "metadata": {
        "id": "R0zwd8Z3HhFh"
      },
      "source": [
        "* Mostrar cantidad de valores posibles"
      ]
    },
    {
      "cell_type": "code",
      "execution_count": 251,
      "metadata": {
        "colab": {
          "base_uri": "https://localhost:8080/"
        },
        "id": "LtdBCgmdHhFi",
        "outputId": "cad49b05-2b47-49cd-a540-32c7fc3ac26b"
      },
      "outputs": [
        {
          "data": {
            "text/plain": [
              "place_l2                 1\n",
              "place_l3                57\n",
              "operation                1\n",
              "property_type            3\n",
              "property_currency        1\n",
              "property_title       55704\n",
              "dtype: int64"
            ]
          },
          "execution_count": 251,
          "metadata": {},
          "output_type": "execute_result"
        }
      ],
      "source": [
        "ds_cualitativo.nunique()"
      ]
    },
    {
      "cell_type": "markdown",
      "metadata": {
        "id": "KuOJRieDHhFi"
      },
      "source": [
        "* Mostrar frecuencias\n",
        "    * Obviamos las opciones de un solo tipo porque la frecuencia es de 100%"
      ]
    },
    {
      "cell_type": "code",
      "execution_count": 252,
      "metadata": {
        "colab": {
          "base_uri": "https://localhost:8080/"
        },
        "id": "-1wbr_5pHhFj",
        "outputId": "747496eb-2cc0-4f5e-850e-e451fc21da8c"
      },
      "outputs": [
        {
          "data": {
            "text/plain": [
              "Palermo                 15.248529\n",
              "Belgrano                 9.482906\n",
              "Caballito                7.639185\n",
              "Recoleta                 6.694944\n",
              "Villa Urquiza            4.980177\n",
              "Almagro                  4.349263\n",
              "Nuñez                    3.779095\n",
              "Villa Crespo             3.398627\n",
              "Flores                   3.314434\n",
              "Barrio Norte             3.170560\n",
              "Balvanera                2.720820\n",
              "Colegiales               2.079248\n",
              "Villa Devoto             2.047276\n",
              "Villa del Parque         1.949228\n",
              "Saavedra                 1.949228\n",
              "Puerto Madero            1.591142\n",
              "San Telmo                1.470714\n",
              "San Cristobal            1.385455\n",
              "San Nicolás              1.380126\n",
              "Retiro                   1.332168\n",
              "Barracas                 1.327905\n",
              "Boedo                    1.318314\n",
              "Floresta                 1.273553\n",
              "Monserrat                1.188294\n",
              "Parque Chacabuco         1.143533\n",
              "Villa Pueyrredón         1.077458\n",
              "Coghlan                  1.048683\n",
              "Villa Luro               0.774789\n",
              "Mataderos                0.766263\n",
              "Chacarita                0.742817\n",
              "Liniers                  0.711911\n",
              "Villa Ortuzar            0.705516\n",
              "Parque Patricios         0.681004\n",
              "Villa Lugano             0.652230\n",
              "Paternal                 0.603206\n",
              "Congreso                 0.570168\n",
              "Monte Castro             0.531802\n",
              "Constitución             0.482778\n",
              "Villa Santa Rita         0.466792\n",
              "Villa General Mitre      0.463595\n",
              "Once                     0.433754\n",
              "Parque Avellaneda        0.404979\n",
              "Parque Chas              0.397519\n",
              "Boca                     0.388993\n",
              "Versalles                0.335706\n",
              "Velez Sarsfield          0.257908\n",
              "Agronomía                0.250448\n",
              "Abasto                   0.246185\n",
              "Pompeya                  0.230199\n",
              "Villa Real               0.151334\n",
              "Tribunales               0.123625\n",
              "Parque Centenario        0.099113\n",
              "Centro / Microcentro     0.080996\n",
              "Villa Soldati            0.047958\n",
              "Villa Riachuelo          0.037301\n",
              "Las Cañitas              0.012789\n",
              "Catalinas                0.007460\n",
              "Name: place_l3, dtype: float64"
            ]
          },
          "execution_count": 252,
          "metadata": {},
          "output_type": "execute_result"
        }
      ],
      "source": [
        "ds_cualitativo.place_l3.value_counts(normalize=True)* 100"
      ]
    },
    {
      "cell_type": "code",
      "execution_count": 253,
      "metadata": {
        "colab": {
          "base_uri": "https://localhost:8080/"
        },
        "id": "KOLqs1gUHhFj",
        "outputId": "baeed89a-f32b-4ffe-f384-e82b626a8fca"
      },
      "outputs": [
        {
          "data": {
            "text/plain": [
              "Departamento    85.761122\n",
              "PH               9.831404\n",
              "Casa             4.407474\n",
              "Name: property_type, dtype: float64"
            ]
          },
          "execution_count": 253,
          "metadata": {},
          "output_type": "execute_result"
        }
      ],
      "source": [
        "ds_cualitativo.property_type.value_counts(normalize=True)* 100"
      ]
    },
    {
      "cell_type": "code",
      "execution_count": 254,
      "metadata": {
        "colab": {
          "base_uri": "https://localhost:8080/"
        },
        "id": "4nzftMxPHhFj",
        "outputId": "a2ca5473-695b-43b7-89cb-a356cbc20263"
      },
      "outputs": [
        {
          "data": {
            "text/plain": [
              "Departamento - Palermo                                                                                  1.557576\n",
              "Departamento - Recoleta                                                                                 1.404789\n",
              "Departamento - Belgrano                                                                                 1.180914\n",
              "Departamento - Caballito                                                                                0.993114\n",
              "Departamento - Almagro                                                                                  0.706639\n",
              "                                                                                                          ...   \n",
              "Gran 3 ambientes en pleno Villa del Parque                                                              0.001061\n",
              "Venta PH 3 Amb Con Patio Flores                                                                         0.001061\n",
              "Venta, PH, 3 Ambientes, PB, Quincho, Parrilla, Terraza, Paternal                                        0.001061\n",
              "Venta PH - 3 dormitorios y terraza en Colegiales                                                        0.001061\n",
              "VENTA MONOAMBIENTE APAISADO y DIVISIBLE AL CF C/ BALCÓN Vta Ata, PISO ALTO. BAJAS EXP. // APTO CRED.    0.001061\n",
              "Name: property_title, Length: 55704, dtype: float64"
            ]
          },
          "execution_count": 254,
          "metadata": {},
          "output_type": "execute_result"
        }
      ],
      "source": [
        "ds_cualitativo.property_title.value_counts(normalize=True)* 100"
      ]
    },
    {
      "cell_type": "markdown",
      "metadata": {
        "id": "XaoQbiNFHhFk"
      },
      "source": [
        "* Determinar variables irrelevantes en el análisis"
      ]
    },
    {
      "cell_type": "markdown",
      "metadata": {
        "id": "LSc4m4GLHhFl"
      },
      "source": [
        "Debido a que las caracteristicas cualitativas \"place_l2\", \"operation\", \"Property_currency\" solo poseen un valor posible, es irrelevante para el analisis de datos. Tambien la caracteristica de \"Property_title\" al ser una descripcion del vendedor no aporta mucha informacion analitica. Por ultimo, los datos que no aportan al analisis, son las fechas, de las columnas \"Start_date\", \"End_date\" y \"Created_on\" debido a que no se especifica que significa dichas fechas. "
      ]
    },
    {
      "cell_type": "code",
      "execution_count": 255,
      "metadata": {
        "id": "j--kj-_dHhFl"
      },
      "outputs": [],
      "source": [
        "columnas_a_eliminar = [\"id\",\"place_l5\",\"place_l6\"] # variables irrelevantes, podrian ser: property_title place_l5\tplace_l6 y (start_date created_on) son lo mismo\n",
        "ds_filtado_copia = ds_prop_filtrado.copy()\n",
        "ds_filtado_copia.drop(columns = columnas_a_eliminar, inplace = True)"
      ]
    },
    {
      "cell_type": "markdown",
      "metadata": {
        "id": "8Q1bi8AeHhFm"
      },
      "source": [
        "* Realizar un análisis gráfico de las distribuciones de las variables"
      ]
    },
    {
      "cell_type": "code",
      "execution_count": 256,
      "metadata": {
        "id": "-kq3uEBUHhFm"
      },
      "outputs": [],
      "source": [
        "\n",
        "#sns.pairplot(ds_filtado_copia)"
      ]
    },
    {
      "cell_type": "markdown",
      "metadata": {
        "id": "8MmcD2LgIHtK"
      },
      "source": [
        "###Correlaciones existentes entre las variables\n"
      ]
    },
    {
      "cell_type": "markdown",
      "metadata": {
        "id": "VV7W80rJKx-g"
      },
      "source": [
        "\n",
        "\n",
        "*   Analizar las correlaciones existentes entre las variables.\n",
        "\n"
      ]
    },
    {
      "cell_type": "code",
      "execution_count": 257,
      "metadata": {
        "colab": {
          "base_uri": "https://localhost:8080/",
          "height": 269
        },
        "id": "gunCpyE4ILYH",
        "outputId": "a07b7998-0d7b-4762-8b19-49658cc9c249"
      },
      "outputs": [
        {
          "data": {
            "text/html": [
              "<div>\n",
              "<style scoped>\n",
              "    .dataframe tbody tr th:only-of-type {\n",
              "        vertical-align: middle;\n",
              "    }\n",
              "\n",
              "    .dataframe tbody tr th {\n",
              "        vertical-align: top;\n",
              "    }\n",
              "\n",
              "    .dataframe thead th {\n",
              "        text-align: right;\n",
              "    }\n",
              "</style>\n",
              "<table border=\"1\" class=\"dataframe\">\n",
              "  <thead>\n",
              "    <tr style=\"text-align: right;\">\n",
              "      <th></th>\n",
              "      <th>latitud</th>\n",
              "      <th>longitud</th>\n",
              "      <th>place_l6</th>\n",
              "      <th>property_rooms</th>\n",
              "      <th>property_bedrooms</th>\n",
              "      <th>property_surface_total</th>\n",
              "      <th>property_surface_covered</th>\n",
              "      <th>property_price</th>\n",
              "    </tr>\n",
              "  </thead>\n",
              "  <tbody>\n",
              "    <tr>\n",
              "      <th>latitud</th>\n",
              "      <td>1.000000</td>\n",
              "      <td>-0.239235</td>\n",
              "      <td>NaN</td>\n",
              "      <td>0.005521</td>\n",
              "      <td>0.003162</td>\n",
              "      <td>0.025348</td>\n",
              "      <td>0.002352</td>\n",
              "      <td>0.016635</td>\n",
              "    </tr>\n",
              "    <tr>\n",
              "      <th>longitud</th>\n",
              "      <td>-0.239235</td>\n",
              "      <td>1.000000</td>\n",
              "      <td>NaN</td>\n",
              "      <td>-0.008324</td>\n",
              "      <td>-0.008556</td>\n",
              "      <td>-0.015056</td>\n",
              "      <td>-0.001155</td>\n",
              "      <td>0.023314</td>\n",
              "    </tr>\n",
              "    <tr>\n",
              "      <th>place_l6</th>\n",
              "      <td>NaN</td>\n",
              "      <td>NaN</td>\n",
              "      <td>NaN</td>\n",
              "      <td>NaN</td>\n",
              "      <td>NaN</td>\n",
              "      <td>NaN</td>\n",
              "      <td>NaN</td>\n",
              "      <td>NaN</td>\n",
              "    </tr>\n",
              "    <tr>\n",
              "      <th>property_rooms</th>\n",
              "      <td>0.005521</td>\n",
              "      <td>-0.008324</td>\n",
              "      <td>NaN</td>\n",
              "      <td>1.000000</td>\n",
              "      <td>0.871940</td>\n",
              "      <td>0.067211</td>\n",
              "      <td>0.076097</td>\n",
              "      <td>0.488934</td>\n",
              "    </tr>\n",
              "    <tr>\n",
              "      <th>property_bedrooms</th>\n",
              "      <td>0.003162</td>\n",
              "      <td>-0.008556</td>\n",
              "      <td>NaN</td>\n",
              "      <td>0.871940</td>\n",
              "      <td>1.000000</td>\n",
              "      <td>0.067702</td>\n",
              "      <td>0.075075</td>\n",
              "      <td>0.425386</td>\n",
              "    </tr>\n",
              "    <tr>\n",
              "      <th>property_surface_total</th>\n",
              "      <td>0.025348</td>\n",
              "      <td>-0.015056</td>\n",
              "      <td>NaN</td>\n",
              "      <td>0.067211</td>\n",
              "      <td>0.067702</td>\n",
              "      <td>1.000000</td>\n",
              "      <td>0.604311</td>\n",
              "      <td>0.085235</td>\n",
              "    </tr>\n",
              "    <tr>\n",
              "      <th>property_surface_covered</th>\n",
              "      <td>0.002352</td>\n",
              "      <td>-0.001155</td>\n",
              "      <td>NaN</td>\n",
              "      <td>0.076097</td>\n",
              "      <td>0.075075</td>\n",
              "      <td>0.604311</td>\n",
              "      <td>1.000000</td>\n",
              "      <td>0.056238</td>\n",
              "    </tr>\n",
              "    <tr>\n",
              "      <th>property_price</th>\n",
              "      <td>0.016635</td>\n",
              "      <td>0.023314</td>\n",
              "      <td>NaN</td>\n",
              "      <td>0.488934</td>\n",
              "      <td>0.425386</td>\n",
              "      <td>0.085235</td>\n",
              "      <td>0.056238</td>\n",
              "      <td>1.000000</td>\n",
              "    </tr>\n",
              "  </tbody>\n",
              "</table>\n",
              "</div>"
            ],
            "text/plain": [
              "                           latitud  longitud  place_l6  property_rooms  \\\n",
              "latitud                   1.000000 -0.239235       NaN        0.005521   \n",
              "longitud                 -0.239235  1.000000       NaN       -0.008324   \n",
              "place_l6                       NaN       NaN       NaN             NaN   \n",
              "property_rooms            0.005521 -0.008324       NaN        1.000000   \n",
              "property_bedrooms         0.003162 -0.008556       NaN        0.871940   \n",
              "property_surface_total    0.025348 -0.015056       NaN        0.067211   \n",
              "property_surface_covered  0.002352 -0.001155       NaN        0.076097   \n",
              "property_price            0.016635  0.023314       NaN        0.488934   \n",
              "\n",
              "                          property_bedrooms  property_surface_total  \\\n",
              "latitud                            0.003162                0.025348   \n",
              "longitud                          -0.008556               -0.015056   \n",
              "place_l6                                NaN                     NaN   \n",
              "property_rooms                     0.871940                0.067211   \n",
              "property_bedrooms                  1.000000                0.067702   \n",
              "property_surface_total             0.067702                1.000000   \n",
              "property_surface_covered           0.075075                0.604311   \n",
              "property_price                     0.425386                0.085235   \n",
              "\n",
              "                          property_surface_covered  property_price  \n",
              "latitud                                   0.002352        0.016635  \n",
              "longitud                                 -0.001155        0.023314  \n",
              "place_l6                                       NaN             NaN  \n",
              "property_rooms                            0.076097        0.488934  \n",
              "property_bedrooms                         0.075075        0.425386  \n",
              "property_surface_total                    0.604311        0.085235  \n",
              "property_surface_covered                  1.000000        0.056238  \n",
              "property_price                            0.056238        1.000000  "
            ]
          },
          "execution_count": 257,
          "metadata": {},
          "output_type": "execute_result"
        }
      ],
      "source": [
        "ds_prop_filtrado.corr()"
      ]
    },
    {
      "cell_type": "markdown",
      "metadata": {
        "id": "JdWFC6UHIpq-"
      },
      "source": [
        "Precio promedio de propiedad por Barrio"
      ]
    },
    {
      "cell_type": "code",
      "execution_count": 258,
      "metadata": {
        "colab": {
          "base_uri": "https://localhost:8080/",
          "height": 441
        },
        "id": "tVtOIRHHIqxY",
        "outputId": "726f7e06-0445-4b1c-ddbe-fa012b130619"
      },
      "outputs": [
        {
          "data": {
            "image/png": "[encoded data removed]",
            "text/plain": [
              "<Figure size 1440x360 with 1 Axes>"
            ]
          },
          "metadata": {
            "needs_background": "light"
          },
          "output_type": "display_data"
        }
      ],
      "source": [
        "ds_precio_prom = ds_prop_filtrado.groupby([\"place_l3\"])[\"property_price\"].mean().sort_values(ascending=False)\n",
        "grf_ds=ds_precio_prom.plot.bar(alpha=0.5 , title=\"Cantidad de propiedades por barrio\" , xlabel=\"barrio\" , ylabel=\"precio\", figsize=(20,5))"
      ]
    },
    {
      "cell_type": "markdown",
      "metadata": {
        "id": "cqm6g1KQI3_9"
      },
      "source": []
    },
    {
      "cell_type": "markdown",
      "metadata": {
        "id": "xrKhG34RHhFm"
      },
      "source": [
        "# DATOS FALTANTES"
      ]
    },
    {
      "cell_type": "markdown",
      "metadata": {
        "id": "OJC5Cc_8HhFn"
      },
      "source": [
        "Realizar análisis de datos faltantes a nivel de columna. Graficar para cada variable\n",
        "el porcentaje de datos faltantes con respecto al total del dataset"
      ]
    },
    {
      "cell_type": "code",
      "execution_count": 259,
      "metadata": {
        "colab": {
          "base_uri": "https://localhost:8080/"
        },
        "id": "5NJEdqGFHhFn",
        "outputId": "a84ce31d-e770-429a-f391-cb45271db69d"
      },
      "outputs": [
        {
          "name": "stdout",
          "output_type": "stream",
          "text": [
            "id                            0.000000\n",
            "start_date                    0.000000\n",
            "end_date                      0.000000\n",
            "created_on                    0.000000\n",
            "latitud                       3.957602\n",
            "longitud                      3.957602\n",
            "place_l2                      0.000000\n",
            "place_l3                      0.442445\n",
            "place_l4                     96.134707\n",
            "place_l5                    100.000000\n",
            "place_l6                    100.000000\n",
            "operation                     0.000000\n",
            "property_type                 0.000000\n",
            "property_rooms                1.107704\n",
            "property_bedrooms            11.657418\n",
            "property_surface_total        5.139577\n",
            "property_surface_covered      3.558658\n",
            "property_price                0.000000\n",
            "property_currency             0.000000\n",
            "property_title                0.000000\n",
            "dtype: float64\n"
          ]
        }
      ],
      "source": [
        "filas_totales=ds_prop_filtrado.shape[0]\n",
        "print(ds_prop_filtrado.isna().sum()/filas_totales*100)"
      ]
    },
    {
      "cell_type": "code",
      "execution_count": 260,
      "metadata": {
        "id": "ZBuVTdu-HhFn"
      },
      "outputs": [
        {
          "data": {
            "image/png": "[encoded data removed]",
            "text/plain": [
              "<Figure size 432x288 with 1 Axes>"
            ]
          },
          "metadata": {
            "needs_background": "light"
          },
          "output_type": "display_data"
        }
      ],
      "source": [
        "ds_porcentaje = ds_prop_filtrado.isna().sum()/filas_totales*100\n",
        "ds_porcentaje = ds_porcentaje.sort_values(ascending=False)\n",
        "grf_ds = ds_porcentaje.plot.bar(alpha=0.5 , title=\"Gráfico de barras del porcetaje de datos faltantes sobre total \" , xlabel=\"Columna\" , ylabel=\"Porcentaje\")"
      ]
    },
    {
      "cell_type": "markdown",
      "metadata": {
        "id": "FwyFsVCbHhFn"
      },
      "source": [
        "Tomando en cuenta estos resultados, decidimos eliminar las columnas l4 , l5 y l6 debido a que el porcentaje de datos faltantes es total o casi total."
      ]
    },
    {
      "cell_type": "code",
      "execution_count": 261,
      "metadata": {
        "id": "zgMkewFJHhFo"
      },
      "outputs": [],
      "source": [
        "columnas_a_eliminar = [\"place_l4\",\"place_l5\",\"place_l6\",\"id\"]\n",
        "ds_prop_filtrado.drop(columns = columnas_a_eliminar, inplace = True)"
      ]
    },
    {
      "cell_type": "markdown",
      "metadata": {
        "id": "L5B-wQLjHhFo"
      },
      "source": [
        "Realizar un análisis de datos faltantes a nivel de fila. Calcular el porcentaje de\n",
        "datos faltantes de cada registro. Realizar un gráfico que permita conocer la\n",
        "proporción de faltantes por fila en el dataset."
      ]
    },
    {
      "cell_type": "code",
      "execution_count": 262,
      "metadata": {
        "colab": {
          "base_uri": "https://localhost:8080/"
        },
        "id": "Bum32U2sHhFo",
        "outputId": "bdbdef9b-9add-4a7b-cf6d-d676c54785c6"
      },
      "outputs": [
        {
          "data": {
            "text/plain": [
              "25        3\n",
              "42        0\n",
              "43        0\n",
              "49        1\n",
              "51        1\n",
              "         ..\n",
              "460072    0\n",
              "460073    0\n",
              "460074    0\n",
              "460075    0\n",
              "460090    0\n",
              "Length: 94249, dtype: int64"
            ]
          },
          "execution_count": 262,
          "metadata": {},
          "output_type": "execute_result"
        }
      ],
      "source": [
        "pd.DataFrame(ds_prop_filtrado).isna().sum(axis=1)\n",
        "\n"
      ]
    },
    {
      "cell_type": "markdown",
      "metadata": {
        "id": "JlzULp9mHhFo"
      },
      "source": [
        "Determinar, de ser posible, estrategias para reparar los valores faltantes."
      ]
    },
    {
      "cell_type": "markdown",
      "metadata": {
        "id": "jprrt-LNHhFp"
      },
      "source": [
        "Primero imputaremos los datos cuantitativos faltantes utilizando el metodo MICE."
      ]
    },
    {
      "cell_type": "code",
      "execution_count": 263,
      "metadata": {
        "id": "Sx3ix4O2HhFp"
      },
      "outputs": [],
      "source": [
        "ds_prop_filtrado = ds_prop_filtrado[~ds_prop_filtrado[\"latitud\"].isna() & ~ds_prop_filtrado[\"place_l3\"].isna()]"
      ]
    },
    {
      "cell_type": "code",
      "execution_count": 264,
      "metadata": {
        "colab": {
          "base_uri": "https://localhost:8080/",
          "height": 362
        },
        "id": "7DDWqNcvHhFp",
        "outputId": "38fe27a3-d706-475c-8469-ca2b0ac08c89"
      },
      "outputs": [],
      "source": [
        "\n",
        "copia_pre_imputacion= ds_prop_filtrado.copy()\n",
        "mice = ds_prop_filtrado.copy()\n",
        "#mice= mice[~mice[\"latitud\"].isna() & ~mice[\"place_l3\"].isna()]\n",
        "columnas=['property_surface_total','property_surface_covered','property_rooms','property_price','property_bedrooms','latitud','longitud'] #,'property_surface_covered','property_bathrooms','property_rooms'\n",
        "df_eliminar_nans_op3=ds_prop_filtrado[columnas].copy()\n",
        "\n",
        "lr = LinearRegression()\n",
        "imp = IterativeImputer(estimator=lr,missing_values=np.nan, max_iter=20, verbose=0, random_state=0,imputation_order='roman',initial_strategy = \"mean\") #imputation_order='roman'\n",
        "df_eliminar_nans_op3_completo=imp.fit_transform(df_eliminar_nans_op3)\n",
        "mice['property_surface_total']= df_eliminar_nans_op3_completo[:,0]\n",
        "mice['property_surface_covered']=df_eliminar_nans_op3_completo[:, 1]\n",
        "mice['property_rooms']= df_eliminar_nans_op3_completo[:, 2]\n",
        "mice['property_price']= df_eliminar_nans_op3_completo[:, 3]\n",
        "mice['property_bedrooms'] = df_eliminar_nans_op3_completo[:,4]\n",
        "#mice['latitud'] = df_eliminar_nans_op3_completo[:,5]\n",
        "#mice['longitud'] = df_eliminar_nans_op3_completo[:,6]\n",
        "#mice['latitud'].drop()\n",
        "#mice['longitud'].drop()\n"
      ]
    },
    {
      "cell_type": "code",
      "execution_count": 265,
      "metadata": {
        "id": "ItyASmGxHhFp"
      },
      "outputs": [
        {
          "name": "stdout",
          "output_type": "stream",
          "text": [
            "start_date                  0.0\n",
            "end_date                    0.0\n",
            "created_on                  0.0\n",
            "latitud                     0.0\n",
            "longitud                    0.0\n",
            "place_l2                    0.0\n",
            "place_l3                    0.0\n",
            "operation                   0.0\n",
            "property_type               0.0\n",
            "property_rooms              0.0\n",
            "property_bedrooms           0.0\n",
            "property_surface_total      0.0\n",
            "property_surface_covered    0.0\n",
            "property_price              0.0\n",
            "property_currency           0.0\n",
            "property_title              0.0\n",
            "dtype: float64\n"
          ]
        }
      ],
      "source": [
        "filas_totales=mice.shape[0]\n",
        "print(mice.isna().sum()/filas_totales*100)"
      ]
    },
    {
      "cell_type": "markdown",
      "metadata": {
        "id": "PvH7yNozHhFq"
      },
      "source": [
        "Y luego procedemos imputando los cualitativos, que en este caso solo es el place_l3"
      ]
    },
    {
      "cell_type": "code",
      "execution_count": 266,
      "metadata": {
        "id": "42geqiApHhFq"
      },
      "outputs": [],
      "source": [
        "ds_barrios = pd.read_csv('barrios.csv', header=0,sep=';')"
      ]
    },
    {
      "cell_type": "code",
      "execution_count": 267,
      "metadata": {
        "id": "Ka-7TqaEHhFq"
      },
      "outputs": [],
      "source": [
        "from shapely.geometry import MultiPolygon, Polygon, Point\n",
        "from shapely import wkt\n",
        "ds_barrios.WKT = ds_barrios.WKT\n",
        "\n"
      ]
    },
    {
      "cell_type": "markdown",
      "metadata": {
        "id": "cm3UqJHeHhFq"
      },
      "source": [
        "Utilizaremos un archivo csv proporcionado por el gobierno de la Ciudad Autonoma de Buenos Aires, el cual nos proporcionorá el nombre de la localidad usando latitud y longitud, mediante la utilizacion de Polygon."
      ]
    },
    {
      "cell_type": "code",
      "execution_count": 268,
      "metadata": {
        "id": "CX-mALSZHhFq"
      },
      "outputs": [],
      "source": [
        "for index, registro_prop in mice.iterrows():\n",
        "    if  type(registro_prop[\"place_l3\"]) is str:\n",
        "        continue\n",
        "    for index_, registro_barrio in ds_barrios.iterrows():\n",
        "        if wkt.loads(registro_barrio.WKT).covers(Point(registro_prop.longitud,registro_prop.latitud)):\n",
        "            barrio_aux = registro_barrio['BARRIO']\n",
        "            mice['place_l3'][index] = barrio_aux"
      ]
    },
    {
      "cell_type": "code",
      "execution_count": 269,
      "metadata": {
        "id": "gKCmoLsxHhFq"
      },
      "outputs": [],
      "source": [
        "# ds_prop_filtrado.where(ds_prop_filtrado.place_l3.isna(), ds_barrios)\n",
        "\n",
        "#ds_prop_filtrado[\"place_l3\"].fillna(ds_barrios[ds_barrios[\"WKT\"].contains(Point((ds_prop_filtrado.longitud,ds_prop_filtrado.latitud))) == True].barrio)\n",
        "#ds_prop_filtrado[\"place_l3\"].isna().combine_first()"
      ]
    },
    {
      "cell_type": "code",
      "execution_count": 270,
      "metadata": {
        "id": "0BQHGzX1HhFr"
      },
      "outputs": [
        {
          "name": "stdout",
          "output_type": "stream",
          "text": [
            "start_date                  0.0\n",
            "end_date                    0.0\n",
            "created_on                  0.0\n",
            "latitud                     0.0\n",
            "longitud                    0.0\n",
            "place_l2                    0.0\n",
            "place_l3                    0.0\n",
            "operation                   0.0\n",
            "property_type               0.0\n",
            "property_rooms              0.0\n",
            "property_bedrooms           0.0\n",
            "property_surface_total      0.0\n",
            "property_surface_covered    0.0\n",
            "property_price              0.0\n",
            "property_currency           0.0\n",
            "property_title              0.0\n",
            "dtype: float64\n"
          ]
        }
      ],
      "source": [
        "filas_totales=mice.shape[0]\n",
        "print(mice.isna().sum()/filas_totales*100)"
      ]
    },
    {
      "cell_type": "markdown",
      "metadata": {
        "id": "dQSlz6-lHhFr"
      },
      "source": [
        "Luego logramos reducir el porcentaje de datos faltantes a 0.21\n",
        "Investigando, descubrimos que los registros que aun tienen dato faltante, es porque la latitud y longitud no coinciden con un punto ubicado en CABA."
      ]
    },
    {
      "cell_type": "markdown",
      "metadata": {
        "id": "2bhZ6VU0HhFr"
      },
      "source": [
        "En caso de realizar imputaciones comparar las distribuciones de cada atributo\n",
        "reparado con la distribución anterior a la imputación de los datos faltantes."
      ]
    },
    {
      "cell_type": "code",
      "execution_count": 271,
      "metadata": {
        "id": "QFvy6UdlHhFr"
      },
      "outputs": [
        {
          "data": {
            "text/html": [
              "<div>\n",
              "<style scoped>\n",
              "    .dataframe tbody tr th:only-of-type {\n",
              "        vertical-align: middle;\n",
              "    }\n",
              "\n",
              "    .dataframe tbody tr th {\n",
              "        vertical-align: top;\n",
              "    }\n",
              "\n",
              "    .dataframe thead th {\n",
              "        text-align: right;\n",
              "    }\n",
              "</style>\n",
              "<table border=\"1\" class=\"dataframe\">\n",
              "  <thead>\n",
              "    <tr style=\"text-align: right;\">\n",
              "      <th></th>\n",
              "      <th>start_date</th>\n",
              "      <th>end_date</th>\n",
              "      <th>created_on</th>\n",
              "      <th>latitud</th>\n",
              "      <th>longitud</th>\n",
              "      <th>place_l2</th>\n",
              "      <th>place_l3</th>\n",
              "      <th>operation</th>\n",
              "      <th>property_type</th>\n",
              "      <th>property_rooms</th>\n",
              "      <th>property_bedrooms</th>\n",
              "      <th>property_surface_total</th>\n",
              "      <th>property_surface_covered</th>\n",
              "      <th>property_price</th>\n",
              "      <th>property_currency</th>\n",
              "      <th>property_title</th>\n",
              "    </tr>\n",
              "  </thead>\n",
              "  <tbody>\n",
              "  </tbody>\n",
              "</table>\n",
              "</div>"
            ],
            "text/plain": [
              "Empty DataFrame\n",
              "Columns: [start_date, end_date, created_on, latitud, longitud, place_l2, place_l3, operation, property_type, property_rooms, property_bedrooms, property_surface_total, property_surface_covered, property_price, property_currency, property_title]\n",
              "Index: []"
            ]
          },
          "execution_count": 271,
          "metadata": {},
          "output_type": "execute_result"
        }
      ],
      "source": [
        "mice[mice[\"property_price\"]<0]"
      ]
    },
    {
      "cell_type": "markdown",
      "metadata": {
        "id": "WEt9s9xuHhFr"
      },
      "source": []
    },
    {
      "cell_type": "code",
      "execution_count": 272,
      "metadata": {
        "id": "oZuOffwvHhFr"
      },
      "outputs": [
        {
          "data": {
            "image/png": "[encoded data removed]",
            "text/plain": [
              "<Figure size 432x288 with 1 Axes>"
            ]
          },
          "metadata": {
            "needs_background": "light"
          },
          "output_type": "display_data"
        }
      ],
      "source": [
        "grf=sns.boxplot(y=\"property_price\", data=copia_pre_imputacion[copia_pre_imputacion[\"property_price\"]<500000])\n"
      ]
    },
    {
      "cell_type": "markdown",
      "metadata": {
        "id": "LMqqwz02HhFs"
      },
      "source": [
        "# analizar la existencia de valores atípicos\n"
      ]
    },
    {
      "cell_type": "code",
      "execution_count": 273,
      "metadata": {
        "id": "u1ahkefxHhFs"
      },
      "outputs": [
        {
          "data": {
            "text/plain": [
              "\"\\nmice= mice[:300]\\nvmedias=np.mean(mice[['property_price','property_rooms']])\\n\\n#Calculo la diferencia entre las observaciones y el vector de medias\\nx_dif = mice[['property_price','property_rooms']] - vmedias\\n\\n#Calculo matriz de covarianza y su inversa\\ncov=mice[['property_price','property_rooms']].cov().values\\ninv_cov = np.linalg.inv(cov)\\n\\n#Calculamos el cuadrado de la distancia de mahalanobis\\nmahal =np.dot( np.dot(x_dif, inv_cov) , x_dif.T)\\n\\nmice['mahalanobis']=mahal.diagonal()\\nmice.head\\n\""
            ]
          },
          "execution_count": 273,
          "metadata": {},
          "output_type": "execute_result"
        }
      ],
      "source": [
        "#Calulo el vector de medias\n",
        "\"\"\"\n",
        "mice= mice[:300]\n",
        "vmedias=np.mean(mice[['property_price','property_rooms']])\n",
        "\n",
        "#Calculo la diferencia entre las observaciones y el vector de medias\n",
        "x_dif = mice[['property_price','property_rooms']] - vmedias\n",
        "\n",
        "#Calculo matriz de covarianza y su inversa\n",
        "cov=mice[['property_price','property_rooms']].cov().values\n",
        "inv_cov = np.linalg.inv(cov)\n",
        "\n",
        "#Calculamos el cuadrado de la distancia de mahalanobis\n",
        "mahal =np.dot( np.dot(x_dif, inv_cov) , x_dif.T)\n",
        "\n",
        "mice['mahalanobis']=mahal.diagonal()\n",
        "mice.head\n",
        "\"\"\""
      ]
    },
    {
      "cell_type": "markdown",
      "metadata": {},
      "source": [
        "### Detectar valores atípicos en los datos en forma univariada"
      ]
    },
    {
      "cell_type": "code",
      "execution_count": 274,
      "metadata": {},
      "outputs": [],
      "source": [
        "ds_atipicos = mice.copy()\n",
        "columnas_a_eliminar = [\"start_date\", \"end_date\", \"created_on\", \"latitud\", \"longitud\", \"place_l2\", \"place_l3\", \"operation\", \"property_type\", \"property_currency\", \"property_title\"]\n",
        "ds_atipicos.drop(columns = columnas_a_eliminar, inplace=True)"
      ]
    },
    {
      "cell_type": "markdown",
      "metadata": {},
      "source": [
        "property_rooms"
      ]
    },
    {
      "cell_type": "code",
      "execution_count": 275,
      "metadata": {},
      "outputs": [
        {
          "ename": "NameError",
          "evalue": "name 'df' is not defined",
          "output_type": "error",
          "traceback": [
            "\u001b[0;31m---------------------------------------------------------------------------\u001b[0m",
            "\u001b[0;31mNameError\u001b[0m                                 Traceback (most recent call last)",
            "\u001b[0;32m<ipython-input-275-e38e3595eebb>\u001b[0m in \u001b[0;36m<module>\u001b[0;34m\u001b[0m\n\u001b[1;32m      5\u001b[0m \u001b[0mmediana_rooms\u001b[0m \u001b[0;34m=\u001b[0m \u001b[0mnp\u001b[0m\u001b[0;34m.\u001b[0m\u001b[0mmedian\u001b[0m\u001b[0;34m(\u001b[0m\u001b[0mds_atipicos\u001b[0m\u001b[0;34m.\u001b[0m\u001b[0mproperty_rooms\u001b[0m\u001b[0;34m)\u001b[0m\u001b[0;34m\u001b[0m\u001b[0;34m\u001b[0m\u001b[0m\n\u001b[1;32m      6\u001b[0m \u001b[0mMAD\u001b[0m\u001b[0;34m=\u001b[0m\u001b[0mnp\u001b[0m\u001b[0;34m.\u001b[0m\u001b[0mmedian\u001b[0m\u001b[0;34m(\u001b[0m\u001b[0mnp\u001b[0m\u001b[0;34m.\u001b[0m\u001b[0mabsolute\u001b[0m\u001b[0;34m(\u001b[0m\u001b[0mds_atipicos\u001b[0m\u001b[0;34m.\u001b[0m\u001b[0mproperty_rooms\u001b[0m \u001b[0;34m-\u001b[0m \u001b[0mmediana_rooms\u001b[0m\u001b[0;34m)\u001b[0m\u001b[0;34m)\u001b[0m \u001b[0;31m#Mediana de los desvios absolutos\u001b[0m\u001b[0;34m\u001b[0m\u001b[0;34m\u001b[0m\u001b[0m\n\u001b[0;32m----> 7\u001b[0;31m \u001b[0mdf\u001b[0m\u001b[0;34m[\u001b[0m\u001b[0;34m'zm_rooms'\u001b[0m\u001b[0;34m]\u001b[0m\u001b[0;34m=\u001b[0m\u001b[0;34m(\u001b[0m\u001b[0mds_atipicos\u001b[0m\u001b[0;34m.\u001b[0m\u001b[0mproperty_rooms\u001b[0m \u001b[0;34m-\u001b[0m \u001b[0mmediana_rooms\u001b[0m\u001b[0;34m)\u001b[0m\u001b[0;34m*\u001b[0m\u001b[0;36m0.6745\u001b[0m\u001b[0;34m/\u001b[0m\u001b[0mMAD\u001b[0m\u001b[0;34m\u001b[0m\u001b[0;34m\u001b[0m\u001b[0m\n\u001b[0m",
            "\u001b[0;31mNameError\u001b[0m: name 'df' is not defined"
          ]
        }
      ],
      "source": [
        "#z-score Rooms con librería stats\n",
        "ds_atipicos['z_rooms']=st.zscore(ds_atipicos.property_rooms) #Agregamos columna con valores de z-score\n",
        "\n",
        "#z-score modificado Rooms con librería stats\n",
        "mediana_rooms = np.median(ds_atipicos.property_rooms)\n",
        "MAD=np.median(np.absolute(ds_atipicos.property_rooms - mediana_rooms)) #Mediana de los desvios absolutos\n",
        "df['zm_rooms']=(ds_atipicos.property_rooms - mediana_rooms)*0.6745/MAD"
      ]
    },
    {
      "cell_type": "markdown",
      "metadata": {},
      "source": [
        "Una vez realizado el calculo vemos aquellas muestras que no respetan la \"regla de oro\""
      ]
    },
    {
      "cell_type": "code",
      "execution_count": null,
      "metadata": {},
      "outputs": [],
      "source": [
        "ds_atipicos[ds_atipicos['z_rooms'] > 3 ]"
      ]
    },
    {
      "cell_type": "code",
      "execution_count": null,
      "metadata": {},
      "outputs": [
        {
          "data": {
            "text/html": [
              "<div>\n",
              "<style scoped>\n",
              "    .dataframe tbody tr th:only-of-type {\n",
              "        vertical-align: middle;\n",
              "    }\n",
              "\n",
              "    .dataframe tbody tr th {\n",
              "        vertical-align: top;\n",
              "    }\n",
              "\n",
              "    .dataframe thead th {\n",
              "        text-align: right;\n",
              "    }\n",
              "</style>\n",
              "<table border=\"1\" class=\"dataframe\">\n",
              "  <thead>\n",
              "    <tr style=\"text-align: right;\">\n",
              "      <th></th>\n",
              "      <th>property_rooms</th>\n",
              "      <th>property_bedrooms</th>\n",
              "      <th>property_surface_total</th>\n",
              "      <th>property_surface_covered</th>\n",
              "      <th>property_price</th>\n",
              "      <th>z_rooms</th>\n",
              "    </tr>\n",
              "  </thead>\n",
              "  <tbody>\n",
              "  </tbody>\n",
              "</table>\n",
              "</div>"
            ],
            "text/plain": [
              "Empty DataFrame\n",
              "Columns: [property_rooms, property_bedrooms, property_surface_total, property_surface_covered, property_price, z_rooms]\n",
              "Index: []"
            ]
          },
          "execution_count": 216,
          "metadata": {},
          "output_type": "execute_result"
        }
      ],
      "source": [
        "ds_atipicos[ds_atipicos['z_rooms'] < -3 ]"
      ]
    },
    {
      "cell_type": "code",
      "execution_count": null,
      "metadata": {},
      "outputs": [
        {
          "data": {
            "text/plain": [
              "<AxesSubplot:ylabel='property_rooms'>"
            ]
          },
          "execution_count": 217,
          "metadata": {},
          "output_type": "execute_result"
        },
        {
          "data": {
            "image/png": "[encoded data removed]",
            "text/plain": [
              "<Figure size 432x288 with 1 Axes>"
            ]
          },
          "metadata": {
            "needs_background": "light"
          },
          "output_type": "display_data"
        }
      ],
      "source": [
        "sns.boxplot(y=ds_atipicos.property_rooms)"
      ]
    },
    {
      "cell_type": "markdown",
      "metadata": {},
      "source": [
        "property_bedrooms"
      ]
    },
    {
      "cell_type": "code",
      "execution_count": null,
      "metadata": {},
      "outputs": [
        {
          "data": {
            "text/html": [
              "<div>\n",
              "<style scoped>\n",
              "    .dataframe tbody tr th:only-of-type {\n",
              "        vertical-align: middle;\n",
              "    }\n",
              "\n",
              "    .dataframe tbody tr th {\n",
              "        vertical-align: top;\n",
              "    }\n",
              "\n",
              "    .dataframe thead th {\n",
              "        text-align: right;\n",
              "    }\n",
              "</style>\n",
              "<table border=\"1\" class=\"dataframe\">\n",
              "  <thead>\n",
              "    <tr style=\"text-align: right;\">\n",
              "      <th></th>\n",
              "      <th>property_rooms</th>\n",
              "      <th>property_bedrooms</th>\n",
              "      <th>property_surface_total</th>\n",
              "      <th>property_surface_covered</th>\n",
              "      <th>property_price</th>\n",
              "      <th>z_rooms</th>\n",
              "      <th>z_bedrooms</th>\n",
              "    </tr>\n",
              "  </thead>\n",
              "  <tbody>\n",
              "    <tr>\n",
              "      <th>58</th>\n",
              "      <td>10.000000</td>\n",
              "      <td>10.000000</td>\n",
              "      <td>394.0</td>\n",
              "      <td>244.0</td>\n",
              "      <td>500000.0</td>\n",
              "      <td>5.021059</td>\n",
              "      <td>7.018923</td>\n",
              "    </tr>\n",
              "    <tr>\n",
              "      <th>1040</th>\n",
              "      <td>8.000000</td>\n",
              "      <td>6.000000</td>\n",
              "      <td>201.0</td>\n",
              "      <td>201.0</td>\n",
              "      <td>345000.0</td>\n",
              "      <td>3.620828</td>\n",
              "      <td>3.569981</td>\n",
              "    </tr>\n",
              "    <tr>\n",
              "      <th>1108</th>\n",
              "      <td>8.000000</td>\n",
              "      <td>6.000000</td>\n",
              "      <td>201.0</td>\n",
              "      <td>201.0</td>\n",
              "      <td>345000.0</td>\n",
              "      <td>3.620828</td>\n",
              "      <td>3.569981</td>\n",
              "    </tr>\n",
              "    <tr>\n",
              "      <th>1140</th>\n",
              "      <td>16.073463</td>\n",
              "      <td>11.233571</td>\n",
              "      <td>10500.0</td>\n",
              "      <td>10500.0</td>\n",
              "      <td>9900000.0</td>\n",
              "      <td>9.273181</td>\n",
              "      <td>8.082551</td>\n",
              "    </tr>\n",
              "    <tr>\n",
              "      <th>1349</th>\n",
              "      <td>8.000000</td>\n",
              "      <td>6.000000</td>\n",
              "      <td>201.0</td>\n",
              "      <td>201.0</td>\n",
              "      <td>345000.0</td>\n",
              "      <td>3.620828</td>\n",
              "      <td>3.569981</td>\n",
              "    </tr>\n",
              "    <tr>\n",
              "      <th>...</th>\n",
              "      <td>...</td>\n",
              "      <td>...</td>\n",
              "      <td>...</td>\n",
              "      <td>...</td>\n",
              "      <td>...</td>\n",
              "      <td>...</td>\n",
              "      <td>...</td>\n",
              "    </tr>\n",
              "    <tr>\n",
              "      <th>457366</th>\n",
              "      <td>7.000000</td>\n",
              "      <td>6.000000</td>\n",
              "      <td>280.0</td>\n",
              "      <td>230.0</td>\n",
              "      <td>426000.0</td>\n",
              "      <td>2.920713</td>\n",
              "      <td>3.569981</td>\n",
              "    </tr>\n",
              "    <tr>\n",
              "      <th>457782</th>\n",
              "      <td>10.000000</td>\n",
              "      <td>6.000000</td>\n",
              "      <td>520.0</td>\n",
              "      <td>500.0</td>\n",
              "      <td>3300000.0</td>\n",
              "      <td>5.021059</td>\n",
              "      <td>3.569981</td>\n",
              "    </tr>\n",
              "    <tr>\n",
              "      <th>458670</th>\n",
              "      <td>5.000000</td>\n",
              "      <td>6.000000</td>\n",
              "      <td>125.0</td>\n",
              "      <td>100.0</td>\n",
              "      <td>265000.0</td>\n",
              "      <td>1.520483</td>\n",
              "      <td>3.569981</td>\n",
              "    </tr>\n",
              "    <tr>\n",
              "      <th>458873</th>\n",
              "      <td>12.000000</td>\n",
              "      <td>12.000000</td>\n",
              "      <td>820.0</td>\n",
              "      <td>820.0</td>\n",
              "      <td>550000.0</td>\n",
              "      <td>6.421289</td>\n",
              "      <td>8.743394</td>\n",
              "    </tr>\n",
              "    <tr>\n",
              "      <th>459922</th>\n",
              "      <td>10.000000</td>\n",
              "      <td>9.000000</td>\n",
              "      <td>145.0</td>\n",
              "      <td>145.0</td>\n",
              "      <td>300000.0</td>\n",
              "      <td>5.021059</td>\n",
              "      <td>6.156687</td>\n",
              "    </tr>\n",
              "  </tbody>\n",
              "</table>\n",
              "<p>520 rows × 7 columns</p>\n",
              "</div>"
            ],
            "text/plain": [
              "        property_rooms  property_bedrooms  property_surface_total  \\\n",
              "58           10.000000          10.000000                   394.0   \n",
              "1040          8.000000           6.000000                   201.0   \n",
              "1108          8.000000           6.000000                   201.0   \n",
              "1140         16.073463          11.233571                 10500.0   \n",
              "1349          8.000000           6.000000                   201.0   \n",
              "...                ...                ...                     ...   \n",
              "457366        7.000000           6.000000                   280.0   \n",
              "457782       10.000000           6.000000                   520.0   \n",
              "458670        5.000000           6.000000                   125.0   \n",
              "458873       12.000000          12.000000                   820.0   \n",
              "459922       10.000000           9.000000                   145.0   \n",
              "\n",
              "        property_surface_covered  property_price   z_rooms  z_bedrooms  \n",
              "58                         244.0        500000.0  5.021059    7.018923  \n",
              "1040                       201.0        345000.0  3.620828    3.569981  \n",
              "1108                       201.0        345000.0  3.620828    3.569981  \n",
              "1140                     10500.0       9900000.0  9.273181    8.082551  \n",
              "1349                       201.0        345000.0  3.620828    3.569981  \n",
              "...                          ...             ...       ...         ...  \n",
              "457366                     230.0        426000.0  2.920713    3.569981  \n",
              "457782                     500.0       3300000.0  5.021059    3.569981  \n",
              "458670                     100.0        265000.0  1.520483    3.569981  \n",
              "458873                     820.0        550000.0  6.421289    8.743394  \n",
              "459922                     145.0        300000.0  5.021059    6.156687  \n",
              "\n",
              "[520 rows x 7 columns]"
            ]
          },
          "execution_count": 218,
          "metadata": {},
          "output_type": "execute_result"
        }
      ],
      "source": [
        "#z-score\n",
        "ds_atipicos['z_bedrooms']=st.zscore(ds_atipicos.property_bedrooms)\n",
        "\n",
        "#z-score modificado\n",
        "mediana_bedrooms = np.median(ds_atipicos.property_bedrooms)\n",
        "MAD=np.median(np.absolute(ds_atipicos.property_bedrooms - mediana_bedrooms)) #Mediana de los desvios absolutos\n",
        "df['zm_bedrooms']=(ds_atipicos.property_bedrooms - mediana_bedrooms)*0.6745/MAD"
      ]
    },
    {
      "cell_type": "code",
      "execution_count": null,
      "metadata": {},
      "outputs": [],
      "source": [
        "ds_atipicos[ds_atipicos['z_bedrooms'] > 3 ]"
      ]
    },
    {
      "cell_type": "code",
      "execution_count": null,
      "metadata": {},
      "outputs": [
        {
          "data": {
            "text/html": [
              "<div>\n",
              "<style scoped>\n",
              "    .dataframe tbody tr th:only-of-type {\n",
              "        vertical-align: middle;\n",
              "    }\n",
              "\n",
              "    .dataframe tbody tr th {\n",
              "        vertical-align: top;\n",
              "    }\n",
              "\n",
              "    .dataframe thead th {\n",
              "        text-align: right;\n",
              "    }\n",
              "</style>\n",
              "<table border=\"1\" class=\"dataframe\">\n",
              "  <thead>\n",
              "    <tr style=\"text-align: right;\">\n",
              "      <th></th>\n",
              "      <th>property_rooms</th>\n",
              "      <th>property_bedrooms</th>\n",
              "      <th>property_surface_total</th>\n",
              "      <th>property_surface_covered</th>\n",
              "      <th>property_price</th>\n",
              "      <th>z_rooms</th>\n",
              "      <th>z_bedrooms</th>\n",
              "    </tr>\n",
              "  </thead>\n",
              "  <tbody>\n",
              "  </tbody>\n",
              "</table>\n",
              "</div>"
            ],
            "text/plain": [
              "Empty DataFrame\n",
              "Columns: [property_rooms, property_bedrooms, property_surface_total, property_surface_covered, property_price, z_rooms, z_bedrooms]\n",
              "Index: []"
            ]
          },
          "execution_count": 219,
          "metadata": {},
          "output_type": "execute_result"
        }
      ],
      "source": [
        "ds_atipicos[ds_atipicos['z_bedrooms'] < -3 ]"
      ]
    },
    {
      "cell_type": "code",
      "execution_count": null,
      "metadata": {},
      "outputs": [
        {
          "data": {
            "text/plain": [
              "<AxesSubplot:ylabel='property_bedrooms'>"
            ]
          },
          "execution_count": 220,
          "metadata": {},
          "output_type": "execute_result"
        },
        {
          "data": {
            "image/png": "[encoded data removed]",
            "text/plain": [
              "<Figure size 432x288 with 1 Axes>"
            ]
          },
          "metadata": {
            "needs_background": "light"
          },
          "output_type": "display_data"
        }
      ],
      "source": [
        "sns.boxplot(y=ds_atipicos.property_bedrooms)"
      ]
    },
    {
      "cell_type": "markdown",
      "metadata": {},
      "source": [
        "property_surface_total"
      ]
    },
    {
      "cell_type": "code",
      "execution_count": null,
      "metadata": {},
      "outputs": [
        {
          "data": {
            "text/html": [
              "<div>\n",
              "<style scoped>\n",
              "    .dataframe tbody tr th:only-of-type {\n",
              "        vertical-align: middle;\n",
              "    }\n",
              "\n",
              "    .dataframe tbody tr th {\n",
              "        vertical-align: top;\n",
              "    }\n",
              "\n",
              "    .dataframe thead th {\n",
              "        text-align: right;\n",
              "    }\n",
              "</style>\n",
              "<table border=\"1\" class=\"dataframe\">\n",
              "  <thead>\n",
              "    <tr style=\"text-align: right;\">\n",
              "      <th></th>\n",
              "      <th>property_rooms</th>\n",
              "      <th>property_bedrooms</th>\n",
              "      <th>property_surface_total</th>\n",
              "      <th>property_surface_covered</th>\n",
              "      <th>property_price</th>\n",
              "      <th>z_rooms</th>\n",
              "      <th>z_bedrooms</th>\n",
              "      <th>z_surface_total</th>\n",
              "    </tr>\n",
              "  </thead>\n",
              "  <tbody>\n",
              "    <tr>\n",
              "      <th>1140</th>\n",
              "      <td>16.073463</td>\n",
              "      <td>11.233571</td>\n",
              "      <td>10500.000000</td>\n",
              "      <td>10500.000000</td>\n",
              "      <td>9900000.0</td>\n",
              "      <td>9.273181</td>\n",
              "      <td>8.082551</td>\n",
              "      <td>9.129933</td>\n",
              "    </tr>\n",
              "    <tr>\n",
              "      <th>1932</th>\n",
              "      <td>13.205532</td>\n",
              "      <td>10.425275</td>\n",
              "      <td>186272.687314</td>\n",
              "      <td>217000.000000</td>\n",
              "      <td>250000.0</td>\n",
              "      <td>7.265300</td>\n",
              "      <td>7.385610</td>\n",
              "      <td>163.587488</td>\n",
              "    </tr>\n",
              "    <tr>\n",
              "      <th>33017</th>\n",
              "      <td>1.000000</td>\n",
              "      <td>1.000000</td>\n",
              "      <td>4428.000000</td>\n",
              "      <td>31.000000</td>\n",
              "      <td>58552.0</td>\n",
              "      <td>-1.279977</td>\n",
              "      <td>-0.741196</td>\n",
              "      <td>3.794256</td>\n",
              "    </tr>\n",
              "    <tr>\n",
              "      <th>34123</th>\n",
              "      <td>4.000000</td>\n",
              "      <td>3.000000</td>\n",
              "      <td>5000.000000</td>\n",
              "      <td>109.000000</td>\n",
              "      <td>418000.0</td>\n",
              "      <td>0.820368</td>\n",
              "      <td>0.983275</td>\n",
              "      <td>4.296892</td>\n",
              "    </tr>\n",
              "    <tr>\n",
              "      <th>35536</th>\n",
              "      <td>1.000000</td>\n",
              "      <td>0.539935</td>\n",
              "      <td>3660.000000</td>\n",
              "      <td>33.000000</td>\n",
              "      <td>98000.0</td>\n",
              "      <td>-1.279977</td>\n",
              "      <td>-1.137881</td>\n",
              "      <td>3.119388</td>\n",
              "    </tr>\n",
              "    <tr>\n",
              "      <th>72316</th>\n",
              "      <td>2.000000</td>\n",
              "      <td>1.000000</td>\n",
              "      <td>61130.000000</td>\n",
              "      <td>53030.000000</td>\n",
              "      <td>225000.0</td>\n",
              "      <td>-0.579862</td>\n",
              "      <td>-0.741196</td>\n",
              "      <td>53.620269</td>\n",
              "    </tr>\n",
              "    <tr>\n",
              "      <th>72521</th>\n",
              "      <td>2.000000</td>\n",
              "      <td>1.000000</td>\n",
              "      <td>33800.000000</td>\n",
              "      <td>31670.000000</td>\n",
              "      <td>66000.0</td>\n",
              "      <td>-0.579862</td>\n",
              "      <td>-0.741196</td>\n",
              "      <td>29.604451</td>\n",
              "    </tr>\n",
              "    <tr>\n",
              "      <th>84073</th>\n",
              "      <td>1.000000</td>\n",
              "      <td>0.737459</td>\n",
              "      <td>36000.000000</td>\n",
              "      <td>30.000000</td>\n",
              "      <td>90000.0</td>\n",
              "      <td>-1.279977</td>\n",
              "      <td>-0.967568</td>\n",
              "      <td>31.537667</td>\n",
              "    </tr>\n",
              "    <tr>\n",
              "      <th>94789</th>\n",
              "      <td>2.000000</td>\n",
              "      <td>1.000000</td>\n",
              "      <td>5312.000000</td>\n",
              "      <td>4809.000000</td>\n",
              "      <td>145000.0</td>\n",
              "      <td>-0.579862</td>\n",
              "      <td>-0.741196</td>\n",
              "      <td>4.571057</td>\n",
              "    </tr>\n",
              "    <tr>\n",
              "      <th>104177</th>\n",
              "      <td>1.000000</td>\n",
              "      <td>1.000000</td>\n",
              "      <td>3623.000000</td>\n",
              "      <td>3615.000000</td>\n",
              "      <td>110000.0</td>\n",
              "      <td>-1.279977</td>\n",
              "      <td>-0.741196</td>\n",
              "      <td>3.086874</td>\n",
              "    </tr>\n",
              "    <tr>\n",
              "      <th>106598</th>\n",
              "      <td>2.000000</td>\n",
              "      <td>1.000000</td>\n",
              "      <td>56740.000000</td>\n",
              "      <td>52540.000000</td>\n",
              "      <td>175000.0</td>\n",
              "      <td>-0.579862</td>\n",
              "      <td>-0.741196</td>\n",
              "      <td>49.762624</td>\n",
              "    </tr>\n",
              "    <tr>\n",
              "      <th>117835</th>\n",
              "      <td>2.000000</td>\n",
              "      <td>1.000000</td>\n",
              "      <td>43086.000000</td>\n",
              "      <td>40038.000000</td>\n",
              "      <td>114000.0</td>\n",
              "      <td>-0.579862</td>\n",
              "      <td>-0.741196</td>\n",
              "      <td>37.764381</td>\n",
              "    </tr>\n",
              "    <tr>\n",
              "      <th>118019</th>\n",
              "      <td>1.000000</td>\n",
              "      <td>1.000000</td>\n",
              "      <td>4100.000000</td>\n",
              "      <td>38.000000</td>\n",
              "      <td>67300.0</td>\n",
              "      <td>-1.279977</td>\n",
              "      <td>-0.741196</td>\n",
              "      <td>3.506031</td>\n",
              "    </tr>\n",
              "    <tr>\n",
              "      <th>126869</th>\n",
              "      <td>1.000000</td>\n",
              "      <td>0.711298</td>\n",
              "      <td>31000.000000</td>\n",
              "      <td>26.000000</td>\n",
              "      <td>51100.0</td>\n",
              "      <td>-1.279977</td>\n",
              "      <td>-0.990125</td>\n",
              "      <td>27.143993</td>\n",
              "    </tr>\n",
              "    <tr>\n",
              "      <th>129214</th>\n",
              "      <td>5.000000</td>\n",
              "      <td>3.000000</td>\n",
              "      <td>137000.000000</td>\n",
              "      <td>135.000000</td>\n",
              "      <td>390000.0</td>\n",
              "      <td>1.520483</td>\n",
              "      <td>0.983275</td>\n",
              "      <td>120.289869</td>\n",
              "    </tr>\n",
              "    <tr>\n",
              "      <th>149946</th>\n",
              "      <td>3.000000</td>\n",
              "      <td>2.000000</td>\n",
              "      <td>5736.000000</td>\n",
              "      <td>57.000000</td>\n",
              "      <td>169000.0</td>\n",
              "      <td>0.120253</td>\n",
              "      <td>0.121039</td>\n",
              "      <td>4.943641</td>\n",
              "    </tr>\n",
              "    <tr>\n",
              "      <th>219021</th>\n",
              "      <td>4.000000</td>\n",
              "      <td>3.000000</td>\n",
              "      <td>72060.000000</td>\n",
              "      <td>90.000000</td>\n",
              "      <td>210000.0</td>\n",
              "      <td>0.820368</td>\n",
              "      <td>0.983275</td>\n",
              "      <td>63.224839</td>\n",
              "    </tr>\n",
              "    <tr>\n",
              "      <th>233699</th>\n",
              "      <td>2.000000</td>\n",
              "      <td>1.000000</td>\n",
              "      <td>4224.000000</td>\n",
              "      <td>4224.000000</td>\n",
              "      <td>100000.0</td>\n",
              "      <td>-0.579862</td>\n",
              "      <td>-0.741196</td>\n",
              "      <td>3.614994</td>\n",
              "    </tr>\n",
              "    <tr>\n",
              "      <th>237392</th>\n",
              "      <td>4.000000</td>\n",
              "      <td>3.000000</td>\n",
              "      <td>20041.000000</td>\n",
              "      <td>139.000000</td>\n",
              "      <td>390000.0</td>\n",
              "      <td>0.820368</td>\n",
              "      <td>0.983275</td>\n",
              "      <td>17.513940</td>\n",
              "    </tr>\n",
              "    <tr>\n",
              "      <th>263945</th>\n",
              "      <td>3.000000</td>\n",
              "      <td>2.000000</td>\n",
              "      <td>9121.000000</td>\n",
              "      <td>60.000000</td>\n",
              "      <td>160000.0</td>\n",
              "      <td>0.120253</td>\n",
              "      <td>0.121039</td>\n",
              "      <td>7.918158</td>\n",
              "    </tr>\n",
              "    <tr>\n",
              "      <th>264624</th>\n",
              "      <td>5.000000</td>\n",
              "      <td>4.000000</td>\n",
              "      <td>14744.000000</td>\n",
              "      <td>13717.000000</td>\n",
              "      <td>330000.0</td>\n",
              "      <td>1.520483</td>\n",
              "      <td>1.845510</td>\n",
              "      <td>12.859283</td>\n",
              "    </tr>\n",
              "    <tr>\n",
              "      <th>272412</th>\n",
              "      <td>1.000000</td>\n",
              "      <td>0.539935</td>\n",
              "      <td>3660.000000</td>\n",
              "      <td>33.000000</td>\n",
              "      <td>98000.0</td>\n",
              "      <td>-1.279977</td>\n",
              "      <td>-1.137881</td>\n",
              "      <td>3.119388</td>\n",
              "    </tr>\n",
              "    <tr>\n",
              "      <th>275253</th>\n",
              "      <td>1.000000</td>\n",
              "      <td>0.711298</td>\n",
              "      <td>31000.000000</td>\n",
              "      <td>26.000000</td>\n",
              "      <td>51100.0</td>\n",
              "      <td>-1.279977</td>\n",
              "      <td>-0.990125</td>\n",
              "      <td>27.143993</td>\n",
              "    </tr>\n",
              "    <tr>\n",
              "      <th>293109</th>\n",
              "      <td>3.000000</td>\n",
              "      <td>2.000000</td>\n",
              "      <td>5239.000000</td>\n",
              "      <td>3460.419584</td>\n",
              "      <td>119000.0</td>\n",
              "      <td>0.120253</td>\n",
              "      <td>0.121039</td>\n",
              "      <td>4.506910</td>\n",
              "    </tr>\n",
              "    <tr>\n",
              "      <th>300394</th>\n",
              "      <td>1.000000</td>\n",
              "      <td>0.711298</td>\n",
              "      <td>31000.000000</td>\n",
              "      <td>26.000000</td>\n",
              "      <td>51100.0</td>\n",
              "      <td>-1.279977</td>\n",
              "      <td>-0.990125</td>\n",
              "      <td>27.143993</td>\n",
              "    </tr>\n",
              "    <tr>\n",
              "      <th>304492</th>\n",
              "      <td>1.000000</td>\n",
              "      <td>0.711298</td>\n",
              "      <td>31000.000000</td>\n",
              "      <td>26.000000</td>\n",
              "      <td>51100.0</td>\n",
              "      <td>-1.279977</td>\n",
              "      <td>-0.990125</td>\n",
              "      <td>27.143993</td>\n",
              "    </tr>\n",
              "    <tr>\n",
              "      <th>311702</th>\n",
              "      <td>2.000000</td>\n",
              "      <td>1.000000</td>\n",
              "      <td>3939.000000</td>\n",
              "      <td>3939.000000</td>\n",
              "      <td>64000.0</td>\n",
              "      <td>-0.579862</td>\n",
              "      <td>-0.741196</td>\n",
              "      <td>3.364554</td>\n",
              "    </tr>\n",
              "    <tr>\n",
              "      <th>313745</th>\n",
              "      <td>6.000000</td>\n",
              "      <td>2.000000</td>\n",
              "      <td>8988.000000</td>\n",
              "      <td>7454.000000</td>\n",
              "      <td>125000.0</td>\n",
              "      <td>2.220598</td>\n",
              "      <td>0.121039</td>\n",
              "      <td>7.801286</td>\n",
              "    </tr>\n",
              "    <tr>\n",
              "      <th>314541</th>\n",
              "      <td>1.000000</td>\n",
              "      <td>0.540174</td>\n",
              "      <td>5741.000000</td>\n",
              "      <td>4276.000000</td>\n",
              "      <td>85144.0</td>\n",
              "      <td>-1.279977</td>\n",
              "      <td>-1.137674</td>\n",
              "      <td>4.948034</td>\n",
              "    </tr>\n",
              "    <tr>\n",
              "      <th>324150</th>\n",
              "      <td>2.000000</td>\n",
              "      <td>1.000000</td>\n",
              "      <td>4053.000000</td>\n",
              "      <td>38.000000</td>\n",
              "      <td>99000.0</td>\n",
              "      <td>-0.579862</td>\n",
              "      <td>-0.741196</td>\n",
              "      <td>3.464730</td>\n",
              "    </tr>\n",
              "    <tr>\n",
              "      <th>324541</th>\n",
              "      <td>4.000000</td>\n",
              "      <td>3.000000</td>\n",
              "      <td>20041.000000</td>\n",
              "      <td>139.000000</td>\n",
              "      <td>390000.0</td>\n",
              "      <td>0.820368</td>\n",
              "      <td>0.983275</td>\n",
              "      <td>17.513940</td>\n",
              "    </tr>\n",
              "    <tr>\n",
              "      <th>352883</th>\n",
              "      <td>1.000000</td>\n",
              "      <td>0.659667</td>\n",
              "      <td>29064.000000</td>\n",
              "      <td>29064.000000</td>\n",
              "      <td>87400.0</td>\n",
              "      <td>-1.279977</td>\n",
              "      <td>-1.034644</td>\n",
              "      <td>25.442763</td>\n",
              "    </tr>\n",
              "    <tr>\n",
              "      <th>353009</th>\n",
              "      <td>1.000000</td>\n",
              "      <td>0.711298</td>\n",
              "      <td>31000.000000</td>\n",
              "      <td>26.000000</td>\n",
              "      <td>51100.0</td>\n",
              "      <td>-1.279977</td>\n",
              "      <td>-0.990125</td>\n",
              "      <td>27.143993</td>\n",
              "    </tr>\n",
              "    <tr>\n",
              "      <th>362741</th>\n",
              "      <td>1.000000</td>\n",
              "      <td>0.711298</td>\n",
              "      <td>31000.000000</td>\n",
              "      <td>26.000000</td>\n",
              "      <td>51100.0</td>\n",
              "      <td>-1.279977</td>\n",
              "      <td>-0.990125</td>\n",
              "      <td>27.143993</td>\n",
              "    </tr>\n",
              "    <tr>\n",
              "      <th>370917</th>\n",
              "      <td>4.000000</td>\n",
              "      <td>3.000000</td>\n",
              "      <td>42110.000000</td>\n",
              "      <td>222.000000</td>\n",
              "      <td>1910920.0</td>\n",
              "      <td>0.820368</td>\n",
              "      <td>0.983275</td>\n",
              "      <td>36.906736</td>\n",
              "    </tr>\n",
              "    <tr>\n",
              "      <th>370918</th>\n",
              "      <td>4.000000</td>\n",
              "      <td>3.000000</td>\n",
              "      <td>42110.000000</td>\n",
              "      <td>307.000000</td>\n",
              "      <td>1568760.0</td>\n",
              "      <td>0.820368</td>\n",
              "      <td>0.983275</td>\n",
              "      <td>36.906736</td>\n",
              "    </tr>\n",
              "    <tr>\n",
              "      <th>370919</th>\n",
              "      <td>5.000000</td>\n",
              "      <td>4.000000</td>\n",
              "      <td>42110.000000</td>\n",
              "      <td>307.000000</td>\n",
              "      <td>3044250.0</td>\n",
              "      <td>1.520483</td>\n",
              "      <td>1.845510</td>\n",
              "      <td>36.906736</td>\n",
              "    </tr>\n",
              "    <tr>\n",
              "      <th>370920</th>\n",
              "      <td>5.000000</td>\n",
              "      <td>4.000000</td>\n",
              "      <td>42110.000000</td>\n",
              "      <td>307.000000</td>\n",
              "      <td>2890500.0</td>\n",
              "      <td>1.520483</td>\n",
              "      <td>1.845510</td>\n",
              "      <td>36.906736</td>\n",
              "    </tr>\n",
              "    <tr>\n",
              "      <th>370921</th>\n",
              "      <td>5.000000</td>\n",
              "      <td>4.000000</td>\n",
              "      <td>42110.000000</td>\n",
              "      <td>307.000000</td>\n",
              "      <td>2890500.0</td>\n",
              "      <td>1.520483</td>\n",
              "      <td>1.845510</td>\n",
              "      <td>36.906736</td>\n",
              "    </tr>\n",
              "    <tr>\n",
              "      <th>370922</th>\n",
              "      <td>5.000000</td>\n",
              "      <td>4.000000</td>\n",
              "      <td>42110.000000</td>\n",
              "      <td>307.000000</td>\n",
              "      <td>2829000.0</td>\n",
              "      <td>1.520483</td>\n",
              "      <td>1.845510</td>\n",
              "      <td>36.906736</td>\n",
              "    </tr>\n",
              "    <tr>\n",
              "      <th>370932</th>\n",
              "      <td>4.000000</td>\n",
              "      <td>3.000000</td>\n",
              "      <td>42110.000000</td>\n",
              "      <td>307.000000</td>\n",
              "      <td>1691800.0</td>\n",
              "      <td>0.820368</td>\n",
              "      <td>0.983275</td>\n",
              "      <td>36.906736</td>\n",
              "    </tr>\n",
              "    <tr>\n",
              "      <th>372779</th>\n",
              "      <td>4.000000</td>\n",
              "      <td>3.000000</td>\n",
              "      <td>100068.000000</td>\n",
              "      <td>100051.000000</td>\n",
              "      <td>420000.0</td>\n",
              "      <td>0.820368</td>\n",
              "      <td>0.983275</td>\n",
              "      <td>87.836440</td>\n",
              "    </tr>\n",
              "    <tr>\n",
              "      <th>398069</th>\n",
              "      <td>2.000000</td>\n",
              "      <td>1.000000</td>\n",
              "      <td>6470.000000</td>\n",
              "      <td>4664.000000</td>\n",
              "      <td>149900.0</td>\n",
              "      <td>-0.579862</td>\n",
              "      <td>-0.741196</td>\n",
              "      <td>5.588632</td>\n",
              "    </tr>\n",
              "    <tr>\n",
              "      <th>400155</th>\n",
              "      <td>2.000000</td>\n",
              "      <td>1.000000</td>\n",
              "      <td>4632.000000</td>\n",
              "      <td>42.000000</td>\n",
              "      <td>129000.0</td>\n",
              "      <td>-0.579862</td>\n",
              "      <td>-0.741196</td>\n",
              "      <td>3.973518</td>\n",
              "    </tr>\n",
              "    <tr>\n",
              "      <th>405272</th>\n",
              "      <td>4.000000</td>\n",
              "      <td>3.000000</td>\n",
              "      <td>8306.000000</td>\n",
              "      <td>7755.000000</td>\n",
              "      <td>129000.0</td>\n",
              "      <td>0.820368</td>\n",
              "      <td>0.983275</td>\n",
              "      <td>7.201989</td>\n",
              "    </tr>\n",
              "    <tr>\n",
              "      <th>405324</th>\n",
              "      <td>4.000000</td>\n",
              "      <td>3.000000</td>\n",
              "      <td>123000.000000</td>\n",
              "      <td>123000.000000</td>\n",
              "      <td>165000.0</td>\n",
              "      <td>0.820368</td>\n",
              "      <td>0.983275</td>\n",
              "      <td>107.987583</td>\n",
              "    </tr>\n",
              "    <tr>\n",
              "      <th>442647</th>\n",
              "      <td>3.000000</td>\n",
              "      <td>2.000000</td>\n",
              "      <td>6836.000000</td>\n",
              "      <td>64.000000</td>\n",
              "      <td>240000.0</td>\n",
              "      <td>0.120253</td>\n",
              "      <td>0.121039</td>\n",
              "      <td>5.910249</td>\n",
              "    </tr>\n",
              "    <tr>\n",
              "      <th>449755</th>\n",
              "      <td>2.000000</td>\n",
              "      <td>1.000000</td>\n",
              "      <td>4112.000000</td>\n",
              "      <td>46.000000</td>\n",
              "      <td>99900.0</td>\n",
              "      <td>-0.579862</td>\n",
              "      <td>-0.741196</td>\n",
              "      <td>3.516576</td>\n",
              "    </tr>\n",
              "    <tr>\n",
              "      <th>459588</th>\n",
              "      <td>3.000000</td>\n",
              "      <td>2.000000</td>\n",
              "      <td>6609.000000</td>\n",
              "      <td>60.000000</td>\n",
              "      <td>210000.0</td>\n",
              "      <td>0.120253</td>\n",
              "      <td>0.121039</td>\n",
              "      <td>5.710776</td>\n",
              "    </tr>\n",
              "    <tr>\n",
              "      <th>459841</th>\n",
              "      <td>3.000000</td>\n",
              "      <td>2.000000</td>\n",
              "      <td>7153.000000</td>\n",
              "      <td>7153.000000</td>\n",
              "      <td>177807.0</td>\n",
              "      <td>0.120253</td>\n",
              "      <td>0.121039</td>\n",
              "      <td>6.188808</td>\n",
              "    </tr>\n",
              "    <tr>\n",
              "      <th>459842</th>\n",
              "      <td>3.000000</td>\n",
              "      <td>2.000000</td>\n",
              "      <td>8136.000000</td>\n",
              "      <td>6472.000000</td>\n",
              "      <td>203550.0</td>\n",
              "      <td>0.120253</td>\n",
              "      <td>0.121039</td>\n",
              "      <td>7.052604</td>\n",
              "    </tr>\n",
              "    <tr>\n",
              "      <th>459847</th>\n",
              "      <td>4.000000</td>\n",
              "      <td>3.000000</td>\n",
              "      <td>18096.000000</td>\n",
              "      <td>8568.000000</td>\n",
              "      <td>324558.0</td>\n",
              "      <td>0.820368</td>\n",
              "      <td>0.983275</td>\n",
              "      <td>15.804801</td>\n",
              "    </tr>\n",
              "    <tr>\n",
              "      <th>459849</th>\n",
              "      <td>3.000000</td>\n",
              "      <td>2.000000</td>\n",
              "      <td>7720.000000</td>\n",
              "      <td>5970.000000</td>\n",
              "      <td>167894.0</td>\n",
              "      <td>0.120253</td>\n",
              "      <td>0.121039</td>\n",
              "      <td>6.687050</td>\n",
              "    </tr>\n",
              "  </tbody>\n",
              "</table>\n",
              "</div>"
            ],
            "text/plain": [
              "        property_rooms  property_bedrooms  property_surface_total  \\\n",
              "1140         16.073463          11.233571            10500.000000   \n",
              "1932         13.205532          10.425275           186272.687314   \n",
              "33017         1.000000           1.000000             4428.000000   \n",
              "34123         4.000000           3.000000             5000.000000   \n",
              "35536         1.000000           0.539935             3660.000000   \n",
              "72316         2.000000           1.000000            61130.000000   \n",
              "72521         2.000000           1.000000            33800.000000   \n",
              "84073         1.000000           0.737459            36000.000000   \n",
              "94789         2.000000           1.000000             5312.000000   \n",
              "104177        1.000000           1.000000             3623.000000   \n",
              "106598        2.000000           1.000000            56740.000000   \n",
              "117835        2.000000           1.000000            43086.000000   \n",
              "118019        1.000000           1.000000             4100.000000   \n",
              "126869        1.000000           0.711298            31000.000000   \n",
              "129214        5.000000           3.000000           137000.000000   \n",
              "149946        3.000000           2.000000             5736.000000   \n",
              "219021        4.000000           3.000000            72060.000000   \n",
              "233699        2.000000           1.000000             4224.000000   \n",
              "237392        4.000000           3.000000            20041.000000   \n",
              "263945        3.000000           2.000000             9121.000000   \n",
              "264624        5.000000           4.000000            14744.000000   \n",
              "272412        1.000000           0.539935             3660.000000   \n",
              "275253        1.000000           0.711298            31000.000000   \n",
              "293109        3.000000           2.000000             5239.000000   \n",
              "300394        1.000000           0.711298            31000.000000   \n",
              "304492        1.000000           0.711298            31000.000000   \n",
              "311702        2.000000           1.000000             3939.000000   \n",
              "313745        6.000000           2.000000             8988.000000   \n",
              "314541        1.000000           0.540174             5741.000000   \n",
              "324150        2.000000           1.000000             4053.000000   \n",
              "324541        4.000000           3.000000            20041.000000   \n",
              "352883        1.000000           0.659667            29064.000000   \n",
              "353009        1.000000           0.711298            31000.000000   \n",
              "362741        1.000000           0.711298            31000.000000   \n",
              "370917        4.000000           3.000000            42110.000000   \n",
              "370918        4.000000           3.000000            42110.000000   \n",
              "370919        5.000000           4.000000            42110.000000   \n",
              "370920        5.000000           4.000000            42110.000000   \n",
              "370921        5.000000           4.000000            42110.000000   \n",
              "370922        5.000000           4.000000            42110.000000   \n",
              "370932        4.000000           3.000000            42110.000000   \n",
              "372779        4.000000           3.000000           100068.000000   \n",
              "398069        2.000000           1.000000             6470.000000   \n",
              "400155        2.000000           1.000000             4632.000000   \n",
              "405272        4.000000           3.000000             8306.000000   \n",
              "405324        4.000000           3.000000           123000.000000   \n",
              "442647        3.000000           2.000000             6836.000000   \n",
              "449755        2.000000           1.000000             4112.000000   \n",
              "459588        3.000000           2.000000             6609.000000   \n",
              "459841        3.000000           2.000000             7153.000000   \n",
              "459842        3.000000           2.000000             8136.000000   \n",
              "459847        4.000000           3.000000            18096.000000   \n",
              "459849        3.000000           2.000000             7720.000000   \n",
              "\n",
              "        property_surface_covered  property_price   z_rooms  z_bedrooms  \\\n",
              "1140                10500.000000       9900000.0  9.273181    8.082551   \n",
              "1932               217000.000000        250000.0  7.265300    7.385610   \n",
              "33017                  31.000000         58552.0 -1.279977   -0.741196   \n",
              "34123                 109.000000        418000.0  0.820368    0.983275   \n",
              "35536                  33.000000         98000.0 -1.279977   -1.137881   \n",
              "72316               53030.000000        225000.0 -0.579862   -0.741196   \n",
              "72521               31670.000000         66000.0 -0.579862   -0.741196   \n",
              "84073                  30.000000         90000.0 -1.279977   -0.967568   \n",
              "94789                4809.000000        145000.0 -0.579862   -0.741196   \n",
              "104177               3615.000000        110000.0 -1.279977   -0.741196   \n",
              "106598              52540.000000        175000.0 -0.579862   -0.741196   \n",
              "117835              40038.000000        114000.0 -0.579862   -0.741196   \n",
              "118019                 38.000000         67300.0 -1.279977   -0.741196   \n",
              "126869                 26.000000         51100.0 -1.279977   -0.990125   \n",
              "129214                135.000000        390000.0  1.520483    0.983275   \n",
              "149946                 57.000000        169000.0  0.120253    0.121039   \n",
              "219021                 90.000000        210000.0  0.820368    0.983275   \n",
              "233699               4224.000000        100000.0 -0.579862   -0.741196   \n",
              "237392                139.000000        390000.0  0.820368    0.983275   \n",
              "263945                 60.000000        160000.0  0.120253    0.121039   \n",
              "264624              13717.000000        330000.0  1.520483    1.845510   \n",
              "272412                 33.000000         98000.0 -1.279977   -1.137881   \n",
              "275253                 26.000000         51100.0 -1.279977   -0.990125   \n",
              "293109               3460.419584        119000.0  0.120253    0.121039   \n",
              "300394                 26.000000         51100.0 -1.279977   -0.990125   \n",
              "304492                 26.000000         51100.0 -1.279977   -0.990125   \n",
              "311702               3939.000000         64000.0 -0.579862   -0.741196   \n",
              "313745               7454.000000        125000.0  2.220598    0.121039   \n",
              "314541               4276.000000         85144.0 -1.279977   -1.137674   \n",
              "324150                 38.000000         99000.0 -0.579862   -0.741196   \n",
              "324541                139.000000        390000.0  0.820368    0.983275   \n",
              "352883              29064.000000         87400.0 -1.279977   -1.034644   \n",
              "353009                 26.000000         51100.0 -1.279977   -0.990125   \n",
              "362741                 26.000000         51100.0 -1.279977   -0.990125   \n",
              "370917                222.000000       1910920.0  0.820368    0.983275   \n",
              "370918                307.000000       1568760.0  0.820368    0.983275   \n",
              "370919                307.000000       3044250.0  1.520483    1.845510   \n",
              "370920                307.000000       2890500.0  1.520483    1.845510   \n",
              "370921                307.000000       2890500.0  1.520483    1.845510   \n",
              "370922                307.000000       2829000.0  1.520483    1.845510   \n",
              "370932                307.000000       1691800.0  0.820368    0.983275   \n",
              "372779             100051.000000        420000.0  0.820368    0.983275   \n",
              "398069               4664.000000        149900.0 -0.579862   -0.741196   \n",
              "400155                 42.000000        129000.0 -0.579862   -0.741196   \n",
              "405272               7755.000000        129000.0  0.820368    0.983275   \n",
              "405324             123000.000000        165000.0  0.820368    0.983275   \n",
              "442647                 64.000000        240000.0  0.120253    0.121039   \n",
              "449755                 46.000000         99900.0 -0.579862   -0.741196   \n",
              "459588                 60.000000        210000.0  0.120253    0.121039   \n",
              "459841               7153.000000        177807.0  0.120253    0.121039   \n",
              "459842               6472.000000        203550.0  0.120253    0.121039   \n",
              "459847               8568.000000        324558.0  0.820368    0.983275   \n",
              "459849               5970.000000        167894.0  0.120253    0.121039   \n",
              "\n",
              "        z_surface_total  \n",
              "1140           9.129933  \n",
              "1932         163.587488  \n",
              "33017          3.794256  \n",
              "34123          4.296892  \n",
              "35536          3.119388  \n",
              "72316         53.620269  \n",
              "72521         29.604451  \n",
              "84073         31.537667  \n",
              "94789          4.571057  \n",
              "104177         3.086874  \n",
              "106598        49.762624  \n",
              "117835        37.764381  \n",
              "118019         3.506031  \n",
              "126869        27.143993  \n",
              "129214       120.289869  \n",
              "149946         4.943641  \n",
              "219021        63.224839  \n",
              "233699         3.614994  \n",
              "237392        17.513940  \n",
              "263945         7.918158  \n",
              "264624        12.859283  \n",
              "272412         3.119388  \n",
              "275253        27.143993  \n",
              "293109         4.506910  \n",
              "300394        27.143993  \n",
              "304492        27.143993  \n",
              "311702         3.364554  \n",
              "313745         7.801286  \n",
              "314541         4.948034  \n",
              "324150         3.464730  \n",
              "324541        17.513940  \n",
              "352883        25.442763  \n",
              "353009        27.143993  \n",
              "362741        27.143993  \n",
              "370917        36.906736  \n",
              "370918        36.906736  \n",
              "370919        36.906736  \n",
              "370920        36.906736  \n",
              "370921        36.906736  \n",
              "370922        36.906736  \n",
              "370932        36.906736  \n",
              "372779        87.836440  \n",
              "398069         5.588632  \n",
              "400155         3.973518  \n",
              "405272         7.201989  \n",
              "405324       107.987583  \n",
              "442647         5.910249  \n",
              "449755         3.516576  \n",
              "459588         5.710776  \n",
              "459841         6.188808  \n",
              "459842         7.052604  \n",
              "459847        15.804801  \n",
              "459849         6.687050  "
            ]
          },
          "execution_count": 221,
          "metadata": {},
          "output_type": "execute_result"
        }
      ],
      "source": [
        "ds_atipicos['z_surface_total']=st.zscore(ds_atipicos.property_surface_total)\n",
        "ds_atipicos[ds_atipicos['z_surface_total'] > 3 ]"
      ]
    },
    {
      "cell_type": "code",
      "execution_count": null,
      "metadata": {},
      "outputs": [
        {
          "data": {
            "text/plain": [
              "<AxesSubplot:ylabel='property_surface_total'>"
            ]
          },
          "execution_count": 222,
          "metadata": {},
          "output_type": "execute_result"
        },
        {
          "data": {
            "image/png": "[encoded data removed]",
            "text/plain": [
              "<Figure size 432x288 with 1 Axes>"
            ]
          },
          "metadata": {
            "needs_background": "light"
          },
          "output_type": "display_data"
        }
      ],
      "source": [
        "sns.boxplot(y=ds_atipicos.property_surface_total)"
      ]
    },
    {
      "cell_type": "markdown",
      "metadata": {},
      "source": [
        "property_surface_covered"
      ]
    },
    {
      "cell_type": "code",
      "execution_count": null,
      "metadata": {},
      "outputs": [
        {
          "data": {
            "text/html": [
              "<div>\n",
              "<style scoped>\n",
              "    .dataframe tbody tr th:only-of-type {\n",
              "        vertical-align: middle;\n",
              "    }\n",
              "\n",
              "    .dataframe tbody tr th {\n",
              "        vertical-align: top;\n",
              "    }\n",
              "\n",
              "    .dataframe thead th {\n",
              "        text-align: right;\n",
              "    }\n",
              "</style>\n",
              "<table border=\"1\" class=\"dataframe\">\n",
              "  <thead>\n",
              "    <tr style=\"text-align: right;\">\n",
              "      <th></th>\n",
              "      <th>property_rooms</th>\n",
              "      <th>property_bedrooms</th>\n",
              "      <th>property_surface_total</th>\n",
              "      <th>property_surface_covered</th>\n",
              "      <th>property_price</th>\n",
              "      <th>z_rooms</th>\n",
              "      <th>z_bedrooms</th>\n",
              "      <th>z_surface_total</th>\n",
              "      <th>z_surface_covered</th>\n",
              "    </tr>\n",
              "  </thead>\n",
              "  <tbody>\n",
              "    <tr>\n",
              "      <th>1140</th>\n",
              "      <td>16.073463</td>\n",
              "      <td>11.233571</td>\n",
              "      <td>10500.000000</td>\n",
              "      <td>10500.000000</td>\n",
              "      <td>9900000.0</td>\n",
              "      <td>9.273181</td>\n",
              "      <td>8.082551</td>\n",
              "      <td>9.129933</td>\n",
              "      <td>10.473264</td>\n",
              "    </tr>\n",
              "    <tr>\n",
              "      <th>1932</th>\n",
              "      <td>13.205532</td>\n",
              "      <td>10.425275</td>\n",
              "      <td>186272.687314</td>\n",
              "      <td>217000.000000</td>\n",
              "      <td>250000.0</td>\n",
              "      <td>7.265300</td>\n",
              "      <td>7.385610</td>\n",
              "      <td>163.587488</td>\n",
              "      <td>218.173839</td>\n",
              "    </tr>\n",
              "    <tr>\n",
              "      <th>72316</th>\n",
              "      <td>2.000000</td>\n",
              "      <td>1.000000</td>\n",
              "      <td>61130.000000</td>\n",
              "      <td>53030.000000</td>\n",
              "      <td>225000.0</td>\n",
              "      <td>-0.579862</td>\n",
              "      <td>-0.741196</td>\n",
              "      <td>53.620269</td>\n",
              "      <td>53.250530</td>\n",
              "    </tr>\n",
              "    <tr>\n",
              "      <th>72521</th>\n",
              "      <td>2.000000</td>\n",
              "      <td>1.000000</td>\n",
              "      <td>33800.000000</td>\n",
              "      <td>31670.000000</td>\n",
              "      <td>66000.0</td>\n",
              "      <td>-0.579862</td>\n",
              "      <td>-0.741196</td>\n",
              "      <td>29.604451</td>\n",
              "      <td>31.766345</td>\n",
              "    </tr>\n",
              "    <tr>\n",
              "      <th>85725</th>\n",
              "      <td>5.000000</td>\n",
              "      <td>4.000000</td>\n",
              "      <td>3197.000000</td>\n",
              "      <td>3367.000000</td>\n",
              "      <td>12000000.0</td>\n",
              "      <td>1.520483</td>\n",
              "      <td>1.845510</td>\n",
              "      <td>2.712533</td>\n",
              "      <td>3.298793</td>\n",
              "    </tr>\n",
              "    <tr>\n",
              "      <th>94789</th>\n",
              "      <td>2.000000</td>\n",
              "      <td>1.000000</td>\n",
              "      <td>5312.000000</td>\n",
              "      <td>4809.000000</td>\n",
              "      <td>145000.0</td>\n",
              "      <td>-0.579862</td>\n",
              "      <td>-0.741196</td>\n",
              "      <td>4.571057</td>\n",
              "      <td>4.749177</td>\n",
              "    </tr>\n",
              "    <tr>\n",
              "      <th>104177</th>\n",
              "      <td>1.000000</td>\n",
              "      <td>1.000000</td>\n",
              "      <td>3623.000000</td>\n",
              "      <td>3615.000000</td>\n",
              "      <td>110000.0</td>\n",
              "      <td>-1.279977</td>\n",
              "      <td>-0.741196</td>\n",
              "      <td>3.086874</td>\n",
              "      <td>3.548235</td>\n",
              "    </tr>\n",
              "    <tr>\n",
              "      <th>106598</th>\n",
              "      <td>2.000000</td>\n",
              "      <td>1.000000</td>\n",
              "      <td>56740.000000</td>\n",
              "      <td>52540.000000</td>\n",
              "      <td>175000.0</td>\n",
              "      <td>-0.579862</td>\n",
              "      <td>-0.741196</td>\n",
              "      <td>49.762624</td>\n",
              "      <td>52.757681</td>\n",
              "    </tr>\n",
              "    <tr>\n",
              "      <th>117835</th>\n",
              "      <td>2.000000</td>\n",
              "      <td>1.000000</td>\n",
              "      <td>43086.000000</td>\n",
              "      <td>40038.000000</td>\n",
              "      <td>114000.0</td>\n",
              "      <td>-0.579862</td>\n",
              "      <td>-0.741196</td>\n",
              "      <td>37.764381</td>\n",
              "      <td>40.182996</td>\n",
              "    </tr>\n",
              "    <tr>\n",
              "      <th>187888</th>\n",
              "      <td>2.000000</td>\n",
              "      <td>1.000000</td>\n",
              "      <td>3425.000000</td>\n",
              "      <td>3425.000000</td>\n",
              "      <td>75000.0</td>\n",
              "      <td>-0.579862</td>\n",
              "      <td>-0.741196</td>\n",
              "      <td>2.912885</td>\n",
              "      <td>3.357131</td>\n",
              "    </tr>\n",
              "    <tr>\n",
              "      <th>199905</th>\n",
              "      <td>4.000000</td>\n",
              "      <td>2.633707</td>\n",
              "      <td>83.000000</td>\n",
              "      <td>83000.000000</td>\n",
              "      <td>155000.0</td>\n",
              "      <td>0.820368</td>\n",
              "      <td>0.667444</td>\n",
              "      <td>-0.023846</td>\n",
              "      <td>83.394774</td>\n",
              "    </tr>\n",
              "    <tr>\n",
              "      <th>233699</th>\n",
              "      <td>2.000000</td>\n",
              "      <td>1.000000</td>\n",
              "      <td>4224.000000</td>\n",
              "      <td>4224.000000</td>\n",
              "      <td>100000.0</td>\n",
              "      <td>-0.579862</td>\n",
              "      <td>-0.741196</td>\n",
              "      <td>3.614994</td>\n",
              "      <td>4.160776</td>\n",
              "    </tr>\n",
              "    <tr>\n",
              "      <th>264624</th>\n",
              "      <td>5.000000</td>\n",
              "      <td>4.000000</td>\n",
              "      <td>14744.000000</td>\n",
              "      <td>13717.000000</td>\n",
              "      <td>330000.0</td>\n",
              "      <td>1.520483</td>\n",
              "      <td>1.845510</td>\n",
              "      <td>12.859283</td>\n",
              "      <td>13.708968</td>\n",
              "    </tr>\n",
              "    <tr>\n",
              "      <th>293109</th>\n",
              "      <td>3.000000</td>\n",
              "      <td>2.000000</td>\n",
              "      <td>5239.000000</td>\n",
              "      <td>3460.419584</td>\n",
              "      <td>119000.0</td>\n",
              "      <td>0.120253</td>\n",
              "      <td>0.121039</td>\n",
              "      <td>4.506910</td>\n",
              "      <td>3.392756</td>\n",
              "    </tr>\n",
              "    <tr>\n",
              "      <th>311702</th>\n",
              "      <td>2.000000</td>\n",
              "      <td>1.000000</td>\n",
              "      <td>3939.000000</td>\n",
              "      <td>3939.000000</td>\n",
              "      <td>64000.0</td>\n",
              "      <td>-0.579862</td>\n",
              "      <td>-0.741196</td>\n",
              "      <td>3.364554</td>\n",
              "      <td>3.874119</td>\n",
              "    </tr>\n",
              "    <tr>\n",
              "      <th>313745</th>\n",
              "      <td>6.000000</td>\n",
              "      <td>2.000000</td>\n",
              "      <td>8988.000000</td>\n",
              "      <td>7454.000000</td>\n",
              "      <td>125000.0</td>\n",
              "      <td>2.220598</td>\n",
              "      <td>0.121039</td>\n",
              "      <td>7.801286</td>\n",
              "      <td>7.409555</td>\n",
              "    </tr>\n",
              "    <tr>\n",
              "      <th>314541</th>\n",
              "      <td>1.000000</td>\n",
              "      <td>0.540174</td>\n",
              "      <td>5741.000000</td>\n",
              "      <td>4276.000000</td>\n",
              "      <td>85144.0</td>\n",
              "      <td>-1.279977</td>\n",
              "      <td>-1.137674</td>\n",
              "      <td>4.948034</td>\n",
              "      <td>4.213078</td>\n",
              "    </tr>\n",
              "    <tr>\n",
              "      <th>352883</th>\n",
              "      <td>1.000000</td>\n",
              "      <td>0.659667</td>\n",
              "      <td>29064.000000</td>\n",
              "      <td>29064.000000</td>\n",
              "      <td>87400.0</td>\n",
              "      <td>-1.279977</td>\n",
              "      <td>-1.034644</td>\n",
              "      <td>25.442763</td>\n",
              "      <td>29.145194</td>\n",
              "    </tr>\n",
              "    <tr>\n",
              "      <th>354376</th>\n",
              "      <td>3.000000</td>\n",
              "      <td>2.000000</td>\n",
              "      <td>41.000000</td>\n",
              "      <td>3837.000000</td>\n",
              "      <td>83000.0</td>\n",
              "      <td>0.120253</td>\n",
              "      <td>0.121039</td>\n",
              "      <td>-0.060753</td>\n",
              "      <td>3.771526</td>\n",
              "    </tr>\n",
              "    <tr>\n",
              "      <th>372779</th>\n",
              "      <td>4.000000</td>\n",
              "      <td>3.000000</td>\n",
              "      <td>100068.000000</td>\n",
              "      <td>100051.000000</td>\n",
              "      <td>420000.0</td>\n",
              "      <td>0.820368</td>\n",
              "      <td>0.983275</td>\n",
              "      <td>87.836440</td>\n",
              "      <td>100.544907</td>\n",
              "    </tr>\n",
              "    <tr>\n",
              "      <th>398069</th>\n",
              "      <td>2.000000</td>\n",
              "      <td>1.000000</td>\n",
              "      <td>6470.000000</td>\n",
              "      <td>4664.000000</td>\n",
              "      <td>149900.0</td>\n",
              "      <td>-0.579862</td>\n",
              "      <td>-0.741196</td>\n",
              "      <td>5.588632</td>\n",
              "      <td>4.603334</td>\n",
              "    </tr>\n",
              "    <tr>\n",
              "      <th>405272</th>\n",
              "      <td>4.000000</td>\n",
              "      <td>3.000000</td>\n",
              "      <td>8306.000000</td>\n",
              "      <td>7755.000000</td>\n",
              "      <td>129000.0</td>\n",
              "      <td>0.820368</td>\n",
              "      <td>0.983275</td>\n",
              "      <td>7.201989</td>\n",
              "      <td>7.712305</td>\n",
              "    </tr>\n",
              "    <tr>\n",
              "      <th>405324</th>\n",
              "      <td>4.000000</td>\n",
              "      <td>3.000000</td>\n",
              "      <td>123000.000000</td>\n",
              "      <td>123000.000000</td>\n",
              "      <td>165000.0</td>\n",
              "      <td>0.820368</td>\n",
              "      <td>0.983275</td>\n",
              "      <td>107.987583</td>\n",
              "      <td>123.627330</td>\n",
              "    </tr>\n",
              "    <tr>\n",
              "      <th>459841</th>\n",
              "      <td>3.000000</td>\n",
              "      <td>2.000000</td>\n",
              "      <td>7153.000000</td>\n",
              "      <td>7153.000000</td>\n",
              "      <td>177807.0</td>\n",
              "      <td>0.120253</td>\n",
              "      <td>0.121039</td>\n",
              "      <td>6.188808</td>\n",
              "      <td>7.106805</td>\n",
              "    </tr>\n",
              "    <tr>\n",
              "      <th>459842</th>\n",
              "      <td>3.000000</td>\n",
              "      <td>2.000000</td>\n",
              "      <td>8136.000000</td>\n",
              "      <td>6472.000000</td>\n",
              "      <td>203550.0</td>\n",
              "      <td>0.120253</td>\n",
              "      <td>0.121039</td>\n",
              "      <td>7.052604</td>\n",
              "      <td>6.421846</td>\n",
              "    </tr>\n",
              "    <tr>\n",
              "      <th>459847</th>\n",
              "      <td>4.000000</td>\n",
              "      <td>3.000000</td>\n",
              "      <td>18096.000000</td>\n",
              "      <td>8568.000000</td>\n",
              "      <td>324558.0</td>\n",
              "      <td>0.820368</td>\n",
              "      <td>0.983275</td>\n",
              "      <td>15.804801</td>\n",
              "      <td>8.530032</td>\n",
              "    </tr>\n",
              "    <tr>\n",
              "      <th>459849</th>\n",
              "      <td>3.000000</td>\n",
              "      <td>2.000000</td>\n",
              "      <td>7720.000000</td>\n",
              "      <td>5970.000000</td>\n",
              "      <td>167894.0</td>\n",
              "      <td>0.120253</td>\n",
              "      <td>0.121039</td>\n",
              "      <td>6.687050</td>\n",
              "      <td>5.916927</td>\n",
              "    </tr>\n",
              "  </tbody>\n",
              "</table>\n",
              "</div>"
            ],
            "text/plain": [
              "        property_rooms  property_bedrooms  property_surface_total  \\\n",
              "1140         16.073463          11.233571            10500.000000   \n",
              "1932         13.205532          10.425275           186272.687314   \n",
              "72316         2.000000           1.000000            61130.000000   \n",
              "72521         2.000000           1.000000            33800.000000   \n",
              "85725         5.000000           4.000000             3197.000000   \n",
              "94789         2.000000           1.000000             5312.000000   \n",
              "104177        1.000000           1.000000             3623.000000   \n",
              "106598        2.000000           1.000000            56740.000000   \n",
              "117835        2.000000           1.000000            43086.000000   \n",
              "187888        2.000000           1.000000             3425.000000   \n",
              "199905        4.000000           2.633707               83.000000   \n",
              "233699        2.000000           1.000000             4224.000000   \n",
              "264624        5.000000           4.000000            14744.000000   \n",
              "293109        3.000000           2.000000             5239.000000   \n",
              "311702        2.000000           1.000000             3939.000000   \n",
              "313745        6.000000           2.000000             8988.000000   \n",
              "314541        1.000000           0.540174             5741.000000   \n",
              "352883        1.000000           0.659667            29064.000000   \n",
              "354376        3.000000           2.000000               41.000000   \n",
              "372779        4.000000           3.000000           100068.000000   \n",
              "398069        2.000000           1.000000             6470.000000   \n",
              "405272        4.000000           3.000000             8306.000000   \n",
              "405324        4.000000           3.000000           123000.000000   \n",
              "459841        3.000000           2.000000             7153.000000   \n",
              "459842        3.000000           2.000000             8136.000000   \n",
              "459847        4.000000           3.000000            18096.000000   \n",
              "459849        3.000000           2.000000             7720.000000   \n",
              "\n",
              "        property_surface_covered  property_price   z_rooms  z_bedrooms  \\\n",
              "1140                10500.000000       9900000.0  9.273181    8.082551   \n",
              "1932               217000.000000        250000.0  7.265300    7.385610   \n",
              "72316               53030.000000        225000.0 -0.579862   -0.741196   \n",
              "72521               31670.000000         66000.0 -0.579862   -0.741196   \n",
              "85725                3367.000000      12000000.0  1.520483    1.845510   \n",
              "94789                4809.000000        145000.0 -0.579862   -0.741196   \n",
              "104177               3615.000000        110000.0 -1.279977   -0.741196   \n",
              "106598              52540.000000        175000.0 -0.579862   -0.741196   \n",
              "117835              40038.000000        114000.0 -0.579862   -0.741196   \n",
              "187888               3425.000000         75000.0 -0.579862   -0.741196   \n",
              "199905              83000.000000        155000.0  0.820368    0.667444   \n",
              "233699               4224.000000        100000.0 -0.579862   -0.741196   \n",
              "264624              13717.000000        330000.0  1.520483    1.845510   \n",
              "293109               3460.419584        119000.0  0.120253    0.121039   \n",
              "311702               3939.000000         64000.0 -0.579862   -0.741196   \n",
              "313745               7454.000000        125000.0  2.220598    0.121039   \n",
              "314541               4276.000000         85144.0 -1.279977   -1.137674   \n",
              "352883              29064.000000         87400.0 -1.279977   -1.034644   \n",
              "354376               3837.000000         83000.0  0.120253    0.121039   \n",
              "372779             100051.000000        420000.0  0.820368    0.983275   \n",
              "398069               4664.000000        149900.0 -0.579862   -0.741196   \n",
              "405272               7755.000000        129000.0  0.820368    0.983275   \n",
              "405324             123000.000000        165000.0  0.820368    0.983275   \n",
              "459841               7153.000000        177807.0  0.120253    0.121039   \n",
              "459842               6472.000000        203550.0  0.120253    0.121039   \n",
              "459847               8568.000000        324558.0  0.820368    0.983275   \n",
              "459849               5970.000000        167894.0  0.120253    0.121039   \n",
              "\n",
              "        z_surface_total  z_surface_covered  \n",
              "1140           9.129933          10.473264  \n",
              "1932         163.587488         218.173839  \n",
              "72316         53.620269          53.250530  \n",
              "72521         29.604451          31.766345  \n",
              "85725          2.712533           3.298793  \n",
              "94789          4.571057           4.749177  \n",
              "104177         3.086874           3.548235  \n",
              "106598        49.762624          52.757681  \n",
              "117835        37.764381          40.182996  \n",
              "187888         2.912885           3.357131  \n",
              "199905        -0.023846          83.394774  \n",
              "233699         3.614994           4.160776  \n",
              "264624        12.859283          13.708968  \n",
              "293109         4.506910           3.392756  \n",
              "311702         3.364554           3.874119  \n",
              "313745         7.801286           7.409555  \n",
              "314541         4.948034           4.213078  \n",
              "352883        25.442763          29.145194  \n",
              "354376        -0.060753           3.771526  \n",
              "372779        87.836440         100.544907  \n",
              "398069         5.588632           4.603334  \n",
              "405272         7.201989           7.712305  \n",
              "405324       107.987583         123.627330  \n",
              "459841         6.188808           7.106805  \n",
              "459842         7.052604           6.421846  \n",
              "459847        15.804801           8.530032  \n",
              "459849         6.687050           5.916927  "
            ]
          },
          "execution_count": 223,
          "metadata": {},
          "output_type": "execute_result"
        }
      ],
      "source": [
        "ds_atipicos['z_surface_covered']=st.zscore(ds_atipicos.property_surface_covered)\n",
        "ds_atipicos[ds_atipicos['z_surface_covered'] > 3 ]"
      ]
    },
    {
      "cell_type": "code",
      "execution_count": null,
      "metadata": {},
      "outputs": [
        {
          "data": {
            "text/plain": [
              "<AxesSubplot:ylabel='property_surface_covered'>"
            ]
          },
          "execution_count": 224,
          "metadata": {},
          "output_type": "execute_result"
        },
        {
          "data": {
            "image/png": "[encoded data removed]",
            "text/plain": [
              "<Figure size 432x288 with 1 Axes>"
            ]
          },
          "metadata": {
            "needs_background": "light"
          },
          "output_type": "display_data"
        }
      ],
      "source": [
        "sns.boxplot(y=ds_atipicos.property_surface_covered)"
      ]
    },
    {
      "cell_type": "markdown",
      "metadata": {},
      "source": [
        "property_price"
      ]
    },
    {
      "cell_type": "code",
      "execution_count": null,
      "metadata": {},
      "outputs": [
        {
          "data": {
            "text/html": [
              "<div>\n",
              "<style scoped>\n",
              "    .dataframe tbody tr th:only-of-type {\n",
              "        vertical-align: middle;\n",
              "    }\n",
              "\n",
              "    .dataframe tbody tr th {\n",
              "        vertical-align: top;\n",
              "    }\n",
              "\n",
              "    .dataframe thead th {\n",
              "        text-align: right;\n",
              "    }\n",
              "</style>\n",
              "<table border=\"1\" class=\"dataframe\">\n",
              "  <thead>\n",
              "    <tr style=\"text-align: right;\">\n",
              "      <th></th>\n",
              "      <th>property_rooms</th>\n",
              "      <th>property_bedrooms</th>\n",
              "      <th>property_surface_total</th>\n",
              "      <th>property_surface_covered</th>\n",
              "      <th>property_price</th>\n",
              "      <th>z_rooms</th>\n",
              "      <th>z_bedrooms</th>\n",
              "      <th>z_surface_total</th>\n",
              "      <th>z_surface_covered</th>\n",
              "      <th>z_price</th>\n",
              "    </tr>\n",
              "  </thead>\n",
              "  <tbody>\n",
              "    <tr>\n",
              "      <th>410</th>\n",
              "      <td>6.501154</td>\n",
              "      <td>4.0</td>\n",
              "      <td>400.0</td>\n",
              "      <td>253.630938</td>\n",
              "      <td>2700000.0</td>\n",
              "      <td>2.571464</td>\n",
              "      <td>1.845510</td>\n",
              "      <td>0.254712</td>\n",
              "      <td>0.167324</td>\n",
              "      <td>7.906365</td>\n",
              "    </tr>\n",
              "    <tr>\n",
              "      <th>411</th>\n",
              "      <td>6.501154</td>\n",
              "      <td>4.0</td>\n",
              "      <td>400.0</td>\n",
              "      <td>253.630938</td>\n",
              "      <td>2700000.0</td>\n",
              "      <td>2.571464</td>\n",
              "      <td>1.845510</td>\n",
              "      <td>0.254712</td>\n",
              "      <td>0.167324</td>\n",
              "      <td>7.906365</td>\n",
              "    </tr>\n",
              "    <tr>\n",
              "      <th>438</th>\n",
              "      <td>4.000000</td>\n",
              "      <td>3.0</td>\n",
              "      <td>282.0</td>\n",
              "      <td>256.000000</td>\n",
              "      <td>2250000.0</td>\n",
              "      <td>0.820368</td>\n",
              "      <td>0.983275</td>\n",
              "      <td>0.151022</td>\n",
              "      <td>0.169706</td>\n",
              "      <td>6.469897</td>\n",
              "    </tr>\n",
              "    <tr>\n",
              "      <th>448</th>\n",
              "      <td>5.000000</td>\n",
              "      <td>4.0</td>\n",
              "      <td>304.0</td>\n",
              "      <td>294.000000</td>\n",
              "      <td>1200000.0</td>\n",
              "      <td>1.520483</td>\n",
              "      <td>1.845510</td>\n",
              "      <td>0.170354</td>\n",
              "      <td>0.207927</td>\n",
              "      <td>3.118138</td>\n",
              "    </tr>\n",
              "    <tr>\n",
              "      <th>629</th>\n",
              "      <td>4.000000</td>\n",
              "      <td>3.0</td>\n",
              "      <td>214.0</td>\n",
              "      <td>196.000000</td>\n",
              "      <td>1200000.0</td>\n",
              "      <td>0.820368</td>\n",
              "      <td>0.983275</td>\n",
              "      <td>0.091268</td>\n",
              "      <td>0.109358</td>\n",
              "      <td>3.118138</td>\n",
              "    </tr>\n",
              "    <tr>\n",
              "      <th>...</th>\n",
              "      <td>...</td>\n",
              "      <td>...</td>\n",
              "      <td>...</td>\n",
              "      <td>...</td>\n",
              "      <td>...</td>\n",
              "      <td>...</td>\n",
              "      <td>...</td>\n",
              "      <td>...</td>\n",
              "      <td>...</td>\n",
              "      <td>...</td>\n",
              "    </tr>\n",
              "    <tr>\n",
              "      <th>459724</th>\n",
              "      <td>8.000000</td>\n",
              "      <td>3.0</td>\n",
              "      <td>285.0</td>\n",
              "      <td>272.000000</td>\n",
              "      <td>1250000.0</td>\n",
              "      <td>3.620828</td>\n",
              "      <td>0.983275</td>\n",
              "      <td>0.153658</td>\n",
              "      <td>0.185799</td>\n",
              "      <td>3.277746</td>\n",
              "    </tr>\n",
              "    <tr>\n",
              "      <th>459729</th>\n",
              "      <td>6.000000</td>\n",
              "      <td>3.0</td>\n",
              "      <td>271.0</td>\n",
              "      <td>265.000000</td>\n",
              "      <td>1250000.0</td>\n",
              "      <td>2.220598</td>\n",
              "      <td>0.983275</td>\n",
              "      <td>0.141356</td>\n",
              "      <td>0.178759</td>\n",
              "      <td>3.277746</td>\n",
              "    </tr>\n",
              "    <tr>\n",
              "      <th>459755</th>\n",
              "      <td>8.000000</td>\n",
              "      <td>5.0</td>\n",
              "      <td>431.0</td>\n",
              "      <td>415.000000</td>\n",
              "      <td>2800000.0</td>\n",
              "      <td>3.620828</td>\n",
              "      <td>2.707746</td>\n",
              "      <td>0.281953</td>\n",
              "      <td>0.329631</td>\n",
              "      <td>8.225580</td>\n",
              "    </tr>\n",
              "    <tr>\n",
              "      <th>459764</th>\n",
              "      <td>8.000000</td>\n",
              "      <td>4.0</td>\n",
              "      <td>383.0</td>\n",
              "      <td>383.000000</td>\n",
              "      <td>1700000.0</td>\n",
              "      <td>3.620828</td>\n",
              "      <td>1.845510</td>\n",
              "      <td>0.239774</td>\n",
              "      <td>0.297445</td>\n",
              "      <td>4.714214</td>\n",
              "    </tr>\n",
              "    <tr>\n",
              "      <th>459997</th>\n",
              "      <td>4.000000</td>\n",
              "      <td>2.0</td>\n",
              "      <td>315.0</td>\n",
              "      <td>180.000000</td>\n",
              "      <td>2200000.0</td>\n",
              "      <td>0.820368</td>\n",
              "      <td>0.121039</td>\n",
              "      <td>0.180020</td>\n",
              "      <td>0.093264</td>\n",
              "      <td>6.310289</td>\n",
              "    </tr>\n",
              "  </tbody>\n",
              "</table>\n",
              "<p>1564 rows × 10 columns</p>\n",
              "</div>"
            ],
            "text/plain": [
              "        property_rooms  property_bedrooms  property_surface_total  \\\n",
              "410           6.501154                4.0                   400.0   \n",
              "411           6.501154                4.0                   400.0   \n",
              "438           4.000000                3.0                   282.0   \n",
              "448           5.000000                4.0                   304.0   \n",
              "629           4.000000                3.0                   214.0   \n",
              "...                ...                ...                     ...   \n",
              "459724        8.000000                3.0                   285.0   \n",
              "459729        6.000000                3.0                   271.0   \n",
              "459755        8.000000                5.0                   431.0   \n",
              "459764        8.000000                4.0                   383.0   \n",
              "459997        4.000000                2.0                   315.0   \n",
              "\n",
              "        property_surface_covered  property_price   z_rooms  z_bedrooms  \\\n",
              "410                   253.630938       2700000.0  2.571464    1.845510   \n",
              "411                   253.630938       2700000.0  2.571464    1.845510   \n",
              "438                   256.000000       2250000.0  0.820368    0.983275   \n",
              "448                   294.000000       1200000.0  1.520483    1.845510   \n",
              "629                   196.000000       1200000.0  0.820368    0.983275   \n",
              "...                          ...             ...       ...         ...   \n",
              "459724                272.000000       1250000.0  3.620828    0.983275   \n",
              "459729                265.000000       1250000.0  2.220598    0.983275   \n",
              "459755                415.000000       2800000.0  3.620828    2.707746   \n",
              "459764                383.000000       1700000.0  3.620828    1.845510   \n",
              "459997                180.000000       2200000.0  0.820368    0.121039   \n",
              "\n",
              "        z_surface_total  z_surface_covered   z_price  \n",
              "410            0.254712           0.167324  7.906365  \n",
              "411            0.254712           0.167324  7.906365  \n",
              "438            0.151022           0.169706  6.469897  \n",
              "448            0.170354           0.207927  3.118138  \n",
              "629            0.091268           0.109358  3.118138  \n",
              "...                 ...                ...       ...  \n",
              "459724         0.153658           0.185799  3.277746  \n",
              "459729         0.141356           0.178759  3.277746  \n",
              "459755         0.281953           0.329631  8.225580  \n",
              "459764         0.239774           0.297445  4.714214  \n",
              "459997         0.180020           0.093264  6.310289  \n",
              "\n",
              "[1564 rows x 10 columns]"
            ]
          },
          "execution_count": 225,
          "metadata": {},
          "output_type": "execute_result"
        }
      ],
      "source": [
        "#z-score\n",
        "ds_atipicos['z_price']=st.zscore(ds_atipicos.property_price)\n",
        "\n",
        "#z-score modificado\n",
        "mediana_price = np.median(ds_atipicos.property_price)\n",
        "MAD=np.median(np.absolute(ds_atipicos.property_price - mediana_price)) \n",
        "df['zm_price']=(ds_atipicos.property_price - mediana_price)*0.6745/MAD"
      ]
    },
    {
      "cell_type": "code",
      "execution_count": null,
      "metadata": {},
      "outputs": [],
      "source": [
        "ds_atipicos[ds_atipicos['z_price'] > 3 ]"
      ]
    },
    {
      "cell_type": "code",
      "execution_count": null,
      "metadata": {},
      "outputs": [
        {
          "data": {
            "text/plain": [
              "<AxesSubplot:ylabel='property_price'>"
            ]
          },
          "execution_count": 226,
          "metadata": {},
          "output_type": "execute_result"
        },
        {
          "data": {
            "image/png": "[encoded data removed]",
            "text/plain": [
              "<Figure size 432x288 with 1 Axes>"
            ]
          },
          "metadata": {
            "needs_background": "light"
          },
          "output_type": "display_data"
        }
      ],
      "source": [
        "sns.boxplot(y=ds_atipicos.property_price)"
      ]
    },
    {
      "cell_type": "markdown",
      "metadata": {},
      "source": [
        "### Detectar valores atípicos en los datos en forma multivariada"
      ]
    },
    {
      "cell_type": "markdown",
      "metadata": {},
      "source": [
        "Analizamos property_price y property_rooms"
      ]
    },
    {
      "cell_type": "code",
      "execution_count": null,
      "metadata": {},
      "outputs": [
        {
          "name": "stderr",
          "output_type": "stream",
          "text": [
            "/home/fanu/.local/lib/python3.8/site-packages/seaborn/_decorators.py:36: FutureWarning: Pass the following variables as keyword args: x, y. From version 0.12, the only valid positional argument will be `data`, and passing other arguments without an explicit keyword will result in an error or misinterpretation.\n",
            "  warnings.warn(\n"
          ]
        },
        {
          "data": {
            "image/png": "[encoded data removed]",
            "text/plain": [
              "<Figure size 1080x1080 with 1 Axes>"
            ]
          },
          "metadata": {
            "needs_background": "light"
          },
          "output_type": "display_data"
        }
      ],
      "source": [
        "plt.figure(figsize=(15,15))\n",
        "sns.scatterplot(ds_atipicos['property_price'],ds_atipicos['property_rooms'])\n",
        "plt.title('Diagrama de Dispersión property_price vs property_rooms')\n",
        "plt.show()"
      ]
    },
    {
      "cell_type": "code",
      "execution_count": null,
      "metadata": {},
      "outputs": [],
      "source": [
        "\n",
        "X=ds_atipicos[['property_price','property_rooms']].values\n",
        "\n",
        "#Creo el clasificador\n",
        "clf = LocalOutlierFactor(n_neighbors=20)\n",
        "\n",
        "#Genero prediccion\n",
        "y_pred = clf.fit_predict(X)\n",
        "\n",
        "#Guardo los scores\n",
        "ds_atipicos['scores_rooms']=clf.negative_outlier_factor_"
      ]
    },
    {
      "cell_type": "code",
      "execution_count": null,
      "metadata": {},
      "outputs": [
        {
          "data": {
            "image/png": "[encoded data removed]",
            "text/plain": [
              "<Figure size 1080x1080 with 1 Axes>"
            ]
          },
          "metadata": {
            "needs_background": "light"
          },
          "output_type": "display_data"
        }
      ],
      "source": [
        "#Calculo radio para plotear score\n",
        "radius = (ds_atipicos.scores_rooms.max() - ds_atipicos.scores_rooms) / (ds_atipicos.scores_rooms.max() - ds_atipicos.scores_rooms.min())\n",
        "#Grafico LOF\n",
        "plt.figure(figsize=(15,15))\n",
        "plt.title(\"Local Outlier Factor (LOF)\")\n",
        "plt.scatter(ds_atipicos.property_price.values,ds_atipicos.property_rooms.values, edgecolor='grey', s=30, label='datos',facecolors='none')\n",
        "plt.scatter(ds_atipicos.property_price.values,ds_atipicos.property_rooms.values, s=1300 * radius, edgecolors='red',facecolors='none', label='Outlier scores')\n",
        "legend = plt.legend(loc='upper left')\n",
        "legend.legendHandles[0]._sizes = [10]\n",
        "legend.legendHandles[1]._sizes = [20]\n"
      ]
    }
  ],
  "metadata": {
    "colab": {
      "include_colab_link": true,
      "provenance": []
    },
    "kernelspec": {
      "display_name": "Python 3.6.9 64-bit",
      "language": "python",
      "name": "python3"
    },
    "language_info": {
      "codemirror_mode": {
        "name": "ipython",
        "version": 3
      },
      "file_extension": ".py",
      "mimetype": "text/x-python",
      "name": "python",
      "nbconvert_exporter": "python",
      "pygments_lexer": "ipython3",
      "version": "3.6.9"
    },
    "vscode": {
      "interpreter": {
        "hash": "31f2aee4e71d21fbe5cf8b01ff0e069b9275f58929596ceb00d14d90e3e16cd6"
      }
    }
  },
  "nbformat": 4,
  "nbformat_minor": 0
}
