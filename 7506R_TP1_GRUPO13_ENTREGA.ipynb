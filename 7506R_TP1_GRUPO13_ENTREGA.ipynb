{
  "nbformat": 4,
  "nbformat_minor": 0,
  "metadata": {
    "colab": {
      "provenance": [],
      "authorship_tag": "ABX9TyOh4CqVZoYdP8kroTXu9bG1",
      "include_colab_link": true
    },
    "kernelspec": {
      "name": "python3",
      "display_name": "Python 3"
    },
    "language_info": {
      "name": "python"
    }
  },
  "cells": [
    {
      "cell_type": "markdown",
      "metadata": {
        "id": "view-in-github",
        "colab_type": "text"
      },
      "source": [
        "<a href=\"https://colab.research.google.com/github/Fanusaez/7506R-2C2022-GRUPO13/blob/main/7506R_TP1_GRUPO13_ENTREGA.ipynb\" target=\"_parent\"><img src=\"https://colab.research.google.com/assets/colab-badge.svg\" alt=\"Open In Colab\"/></a>"
      ]
    },
    {
      "cell_type": "markdown",
      "source": [
        "# Trabajo Practico 1 : Propiedades en Venta\n",
        "## Grupo 13\n",
        "### Integrantes:\n",
        "- Ivan Manuel Pensado\n",
        "- Axel Tomas Higa\n",
        "- Edgardo Francisco Saez \n",
        "- Lautaro Barrionuevo\n",
        "- Nicolás Carreño"
      ],
      "metadata": {
        "id": "nJ_n4ngThDGU"
      }
    },
    {
      "cell_type": "markdown",
      "source": [
        "# Importe de librerias"
      ],
      "metadata": {
        "id": "hDb_EqqsmUQY"
      }
    },
    {
      "cell_type": "code",
      "source": [
        "import pandas as pd\n",
        "import numpy as np"
      ],
      "metadata": {
        "id": "8NDsT1MBmcDe"
      },
      "execution_count": 10,
      "outputs": []
    },
    {
      "cell_type": "markdown",
      "source": [
        "# Análisis Exploratorio y Preprocesamiento de Datos"
      ],
      "metadata": {
        "id": "QM2Lexy1ip_-"
      }
    },
    {
      "cell_type": "markdown",
      "source": [
        "Cargamos dataset sobre el que vamos a trabajar"
      ],
      "metadata": {
        "id": "4Ygmy7n1m8ae"
      }
    },
    {
      "cell_type": "code",
      "source": [
        "from google.colab import drive\n",
        "drive.mount(\"/gdrive\")\n",
        "ds_properati = pd.read_csv('/gdrive/My Drive/properati_argentina_2021.csv') #Hay que tener una copia del dataset subida al drive"
      ],
      "metadata": {
        "id": "EhZ0WR3BsRun",
        "outputId": "3e9ba92d-df54-4581-99ff-bc0b88f053af",
        "colab": {
          "base_uri": "https://localhost:8080/"
        }
      },
      "execution_count": 11,
      "outputs": [
        {
          "output_type": "stream",
          "name": "stdout",
          "text": [
            "Drive already mounted at /gdrive; to attempt to forcibly remount, call drive.mount(\"/gdrive\", force_remount=True).\n"
          ]
        }
      ]
    },
    {
      "cell_type": "code",
      "source": [
        "ds_properati = pd.read_csv('/gdrive/My Drive/properati_argentina_2021.csv')\n",
        "ds_trabajo = ds_properati.copy()\n"
      ],
      "metadata": {
        "id": "I8aGLdMXoeru"
      },
      "execution_count": 12,
      "outputs": []
    },
    {
      "cell_type": "markdown",
      "source": [
        "Cantidad de filas y columnas del dataset"
      ],
      "metadata": {
        "id": "aG6DzAccqgyc"
      }
    },
    {
      "cell_type": "code",
      "source": [
        "ds_trabajo.shape"
      ],
      "metadata": {
        "id": "6ITlFKevqa_G",
        "outputId": "5c9fc4e9-36e5-4b44-9a4d-0f1a7ac9f261",
        "colab": {
          "base_uri": "https://localhost:8080/"
        }
      },
      "execution_count": 13,
      "outputs": [
        {
          "output_type": "execute_result",
          "data": {
            "text/plain": [
              "(460154, 20)"
            ]
          },
          "metadata": {},
          "execution_count": 13
        }
      ]
    },
    {
      "cell_type": "markdown",
      "source": [
        "Columnas del dataset"
      ],
      "metadata": {
        "id": "USm6NSUMrMo7"
      }
    },
    {
      "cell_type": "code",
      "source": [
        "ds_trabajo.columns.to_list()"
      ],
      "metadata": {
        "id": "o9a0KD3yrPag",
        "outputId": "21df8466-27d3-4e65-c411-97fe37716e24",
        "colab": {
          "base_uri": "https://localhost:8080/"
        }
      },
      "execution_count": 14,
      "outputs": [
        {
          "output_type": "execute_result",
          "data": {
            "text/plain": [
              "['id',\n",
              " 'start_date',\n",
              " 'end_date',\n",
              " 'created_on',\n",
              " 'latitud',\n",
              " 'longitud',\n",
              " 'place_l2',\n",
              " 'place_l3',\n",
              " 'place_l4',\n",
              " 'place_l5',\n",
              " 'place_l6',\n",
              " 'operation',\n",
              " 'property_type',\n",
              " 'property_rooms',\n",
              " 'property_bedrooms',\n",
              " 'property_surface_total',\n",
              " 'property_surface_covered',\n",
              " 'property_price',\n",
              " 'property_currency',\n",
              " 'property_title']"
            ]
          },
          "metadata": {},
          "execution_count": 14
        }
      ]
    },
    {
      "cell_type": "markdown",
      "source": [
        "Tipo de dato de cada columna"
      ],
      "metadata": {
        "id": "GV80bXijsDp1"
      }
    },
    {
      "cell_type": "code",
      "source": [
        "ds_trabajo.dtypes"
      ],
      "metadata": {
        "id": "DEpPJgrQsMR1",
        "outputId": "8fc7b373-f27a-4dab-9d77-1a2a8fee97dc",
        "colab": {
          "base_uri": "https://localhost:8080/"
        }
      },
      "execution_count": 15,
      "outputs": [
        {
          "output_type": "execute_result",
          "data": {
            "text/plain": [
              "id                           object\n",
              "start_date                   object\n",
              "end_date                     object\n",
              "created_on                   object\n",
              "latitud                     float64\n",
              "longitud                    float64\n",
              "place_l2                     object\n",
              "place_l3                     object\n",
              "place_l4                     object\n",
              "place_l5                     object\n",
              "place_l6                    float64\n",
              "operation                    object\n",
              "property_type                object\n",
              "property_rooms              float64\n",
              "property_bedrooms           float64\n",
              "property_surface_total      float64\n",
              "property_surface_covered    float64\n",
              "property_price              float64\n",
              "property_currency            object\n",
              "property_title               object\n",
              "dtype: object"
            ]
          },
          "metadata": {},
          "execution_count": 15
        }
      ]
    },
    {
      "cell_type": "markdown",
      "source": [
        "Porcentaje de NaN por columna"
      ],
      "metadata": {
        "id": "01sboYbdsIFF"
      }
    },
    {
      "cell_type": "code",
      "source": [
        "filas_totales=ds_trabajo.shape[0]\n",
        "print(ds_trabajo.isna().sum()/filas_totales*100)"
      ],
      "metadata": {
        "id": "DpVvlXyDstO4",
        "outputId": "63b78693-b6d5-4a24-8f61-80a44309b889",
        "colab": {
          "base_uri": "https://localhost:8080/"
        }
      },
      "execution_count": 16,
      "outputs": [
        {
          "output_type": "stream",
          "name": "stdout",
          "text": [
            "id                            0.000000\n",
            "start_date                    0.000000\n",
            "end_date                      0.000000\n",
            "created_on                    0.000000\n",
            "latitud                       8.782712\n",
            "longitud                      8.782712\n",
            "place_l2                      0.000000\n",
            "place_l3                      4.887277\n",
            "place_l4                     69.788375\n",
            "place_l5                     99.471916\n",
            "place_l6                    100.000000\n",
            "operation                     0.000000\n",
            "property_type                 0.000000\n",
            "property_rooms               19.918549\n",
            "property_bedrooms            25.217862\n",
            "property_surface_total       13.547856\n",
            "property_surface_covered      7.005915\n",
            "property_price                3.911951\n",
            "property_currency             4.034302\n",
            "property_title                0.000000\n",
            "dtype: float64\n"
          ]
        }
      ]
    },
    {
      "cell_type": "code",
      "source": [
        "ds_trabajo.head()"
      ],
      "metadata": {
        "id": "zuU3mf9vwGay",
        "outputId": "60dda8fa-2b98-495d-eb6a-09df06e60790",
        "colab": {
          "base_uri": "https://localhost:8080/",
          "height": 357
        }
      },
      "execution_count": 17,
      "outputs": [
        {
          "output_type": "execute_result",
          "data": {
            "text/plain": [
              "                         id  start_date    end_date  created_on    latitud  \\\n",
              "0  XZq2dFGxBiboHY3Bo/tqlw==  2021-09-09  2022-01-27  2021-09-09 -38.957632   \n",
              "1  8afoK+yMH/rnnlYiktwgNA==  2021-09-09  2021-10-23  2021-09-09 -34.888878   \n",
              "2  iVaG5rBB47dd1Ya4BMXREA==  2021-09-09  2022-03-09  2021-09-09 -32.488717   \n",
              "3  QE1QVMWKAHWkd0qT0FtPWA==  2021-09-09  2022-01-27  2021-09-09 -34.900165   \n",
              "4  tJ5lSk7IysG/71OGhacNZA==  2021-09-09  2022-01-27  2021-09-09 -38.954528   \n",
              "\n",
              "    longitud    place_l2 place_l3 place_l4 place_l5  place_l6 operation  \\\n",
              "0 -68.105443     Neuquén      NaN      NaN      NaN       NaN     Venta   \n",
              "1 -56.092368  Montevideo      NaN      NaN      NaN       NaN     Venta   \n",
              "2 -58.257499  Entre Ríos      NaN      NaN      NaN       NaN     Venta   \n",
              "3 -54.808453   Maldonado      NaN      NaN      NaN       NaN     Venta   \n",
              "4 -68.041862     Neuquén      NaN      NaN      NaN       NaN     Venta   \n",
              "\n",
              "  property_type  property_rooms  property_bedrooms  property_surface_total  \\\n",
              "0          Casa             6.0                NaN                     NaN   \n",
              "1          Casa             4.0                3.0                   193.0   \n",
              "2          Casa             NaN                NaN                   110.0   \n",
              "3          Casa             NaN                3.0                     NaN   \n",
              "4            PH             3.0                2.0                     NaN   \n",
              "\n",
              "   property_surface_covered  property_price property_currency  \\\n",
              "0                     206.0             NaN               NaN   \n",
              "1                     193.0        390000.0               USD   \n",
              "2                      45.0         47000.0               USD   \n",
              "3                     180.0        400000.0               USD   \n",
              "4                      98.0        102000.0               USD   \n",
              "\n",
              "       property_title  \n",
              "0      Casa - Capital  \n",
              "1       Casa - Malvín  \n",
              "2      Casa - Uruguay  \n",
              "3    Casa - El Chorro  \n",
              "4  PH - Villa Farrell  "
            ],
            "text/html": [
              "\n",
              "  <div id=\"df-04743891-4c72-4b1b-aa28-99fea838c1ab\">\n",
              "    <div class=\"colab-df-container\">\n",
              "      <div>\n",
              "<style scoped>\n",
              "    .dataframe tbody tr th:only-of-type {\n",
              "        vertical-align: middle;\n",
              "    }\n",
              "\n",
              "    .dataframe tbody tr th {\n",
              "        vertical-align: top;\n",
              "    }\n",
              "\n",
              "    .dataframe thead th {\n",
              "        text-align: right;\n",
              "    }\n",
              "</style>\n",
              "<table border=\"1\" class=\"dataframe\">\n",
              "  <thead>\n",
              "    <tr style=\"text-align: right;\">\n",
              "      <th></th>\n",
              "      <th>id</th>\n",
              "      <th>start_date</th>\n",
              "      <th>end_date</th>\n",
              "      <th>created_on</th>\n",
              "      <th>latitud</th>\n",
              "      <th>longitud</th>\n",
              "      <th>place_l2</th>\n",
              "      <th>place_l3</th>\n",
              "      <th>place_l4</th>\n",
              "      <th>place_l5</th>\n",
              "      <th>place_l6</th>\n",
              "      <th>operation</th>\n",
              "      <th>property_type</th>\n",
              "      <th>property_rooms</th>\n",
              "      <th>property_bedrooms</th>\n",
              "      <th>property_surface_total</th>\n",
              "      <th>property_surface_covered</th>\n",
              "      <th>property_price</th>\n",
              "      <th>property_currency</th>\n",
              "      <th>property_title</th>\n",
              "    </tr>\n",
              "  </thead>\n",
              "  <tbody>\n",
              "    <tr>\n",
              "      <th>0</th>\n",
              "      <td>XZq2dFGxBiboHY3Bo/tqlw==</td>\n",
              "      <td>2021-09-09</td>\n",
              "      <td>2022-01-27</td>\n",
              "      <td>2021-09-09</td>\n",
              "      <td>-38.957632</td>\n",
              "      <td>-68.105443</td>\n",
              "      <td>Neuquén</td>\n",
              "      <td>NaN</td>\n",
              "      <td>NaN</td>\n",
              "      <td>NaN</td>\n",
              "      <td>NaN</td>\n",
              "      <td>Venta</td>\n",
              "      <td>Casa</td>\n",
              "      <td>6.0</td>\n",
              "      <td>NaN</td>\n",
              "      <td>NaN</td>\n",
              "      <td>206.0</td>\n",
              "      <td>NaN</td>\n",
              "      <td>NaN</td>\n",
              "      <td>Casa - Capital</td>\n",
              "    </tr>\n",
              "    <tr>\n",
              "      <th>1</th>\n",
              "      <td>8afoK+yMH/rnnlYiktwgNA==</td>\n",
              "      <td>2021-09-09</td>\n",
              "      <td>2021-10-23</td>\n",
              "      <td>2021-09-09</td>\n",
              "      <td>-34.888878</td>\n",
              "      <td>-56.092368</td>\n",
              "      <td>Montevideo</td>\n",
              "      <td>NaN</td>\n",
              "      <td>NaN</td>\n",
              "      <td>NaN</td>\n",
              "      <td>NaN</td>\n",
              "      <td>Venta</td>\n",
              "      <td>Casa</td>\n",
              "      <td>4.0</td>\n",
              "      <td>3.0</td>\n",
              "      <td>193.0</td>\n",
              "      <td>193.0</td>\n",
              "      <td>390000.0</td>\n",
              "      <td>USD</td>\n",
              "      <td>Casa - Malvín</td>\n",
              "    </tr>\n",
              "    <tr>\n",
              "      <th>2</th>\n",
              "      <td>iVaG5rBB47dd1Ya4BMXREA==</td>\n",
              "      <td>2021-09-09</td>\n",
              "      <td>2022-03-09</td>\n",
              "      <td>2021-09-09</td>\n",
              "      <td>-32.488717</td>\n",
              "      <td>-58.257499</td>\n",
              "      <td>Entre Ríos</td>\n",
              "      <td>NaN</td>\n",
              "      <td>NaN</td>\n",
              "      <td>NaN</td>\n",
              "      <td>NaN</td>\n",
              "      <td>Venta</td>\n",
              "      <td>Casa</td>\n",
              "      <td>NaN</td>\n",
              "      <td>NaN</td>\n",
              "      <td>110.0</td>\n",
              "      <td>45.0</td>\n",
              "      <td>47000.0</td>\n",
              "      <td>USD</td>\n",
              "      <td>Casa - Uruguay</td>\n",
              "    </tr>\n",
              "    <tr>\n",
              "      <th>3</th>\n",
              "      <td>QE1QVMWKAHWkd0qT0FtPWA==</td>\n",
              "      <td>2021-09-09</td>\n",
              "      <td>2022-01-27</td>\n",
              "      <td>2021-09-09</td>\n",
              "      <td>-34.900165</td>\n",
              "      <td>-54.808453</td>\n",
              "      <td>Maldonado</td>\n",
              "      <td>NaN</td>\n",
              "      <td>NaN</td>\n",
              "      <td>NaN</td>\n",
              "      <td>NaN</td>\n",
              "      <td>Venta</td>\n",
              "      <td>Casa</td>\n",
              "      <td>NaN</td>\n",
              "      <td>3.0</td>\n",
              "      <td>NaN</td>\n",
              "      <td>180.0</td>\n",
              "      <td>400000.0</td>\n",
              "      <td>USD</td>\n",
              "      <td>Casa - El Chorro</td>\n",
              "    </tr>\n",
              "    <tr>\n",
              "      <th>4</th>\n",
              "      <td>tJ5lSk7IysG/71OGhacNZA==</td>\n",
              "      <td>2021-09-09</td>\n",
              "      <td>2022-01-27</td>\n",
              "      <td>2021-09-09</td>\n",
              "      <td>-38.954528</td>\n",
              "      <td>-68.041862</td>\n",
              "      <td>Neuquén</td>\n",
              "      <td>NaN</td>\n",
              "      <td>NaN</td>\n",
              "      <td>NaN</td>\n",
              "      <td>NaN</td>\n",
              "      <td>Venta</td>\n",
              "      <td>PH</td>\n",
              "      <td>3.0</td>\n",
              "      <td>2.0</td>\n",
              "      <td>NaN</td>\n",
              "      <td>98.0</td>\n",
              "      <td>102000.0</td>\n",
              "      <td>USD</td>\n",
              "      <td>PH - Villa Farrell</td>\n",
              "    </tr>\n",
              "  </tbody>\n",
              "</table>\n",
              "</div>\n",
              "      <button class=\"colab-df-convert\" onclick=\"convertToInteractive('df-04743891-4c72-4b1b-aa28-99fea838c1ab')\"\n",
              "              title=\"Convert this dataframe to an interactive table.\"\n",
              "              style=\"display:none;\">\n",
              "        \n",
              "  <svg xmlns=\"http://www.w3.org/2000/svg\" height=\"24px\"viewBox=\"0 0 24 24\"\n",
              "       width=\"24px\">\n",
              "    <path d=\"M0 0h24v24H0V0z\" fill=\"none\"/>\n",
              "    <path d=\"M18.56 5.44l.94 2.06.94-2.06 2.06-.94-2.06-.94-.94-2.06-.94 2.06-2.06.94zm-11 1L8.5 8.5l.94-2.06 2.06-.94-2.06-.94L8.5 2.5l-.94 2.06-2.06.94zm10 10l.94 2.06.94-2.06 2.06-.94-2.06-.94-.94-2.06-.94 2.06-2.06.94z\"/><path d=\"M17.41 7.96l-1.37-1.37c-.4-.4-.92-.59-1.43-.59-.52 0-1.04.2-1.43.59L10.3 9.45l-7.72 7.72c-.78.78-.78 2.05 0 2.83L4 21.41c.39.39.9.59 1.41.59.51 0 1.02-.2 1.41-.59l7.78-7.78 2.81-2.81c.8-.78.8-2.07 0-2.86zM5.41 20L4 18.59l7.72-7.72 1.47 1.35L5.41 20z\"/>\n",
              "  </svg>\n",
              "      </button>\n",
              "      \n",
              "  <style>\n",
              "    .colab-df-container {\n",
              "      display:flex;\n",
              "      flex-wrap:wrap;\n",
              "      gap: 12px;\n",
              "    }\n",
              "\n",
              "    .colab-df-convert {\n",
              "      background-color: #E8F0FE;\n",
              "      border: none;\n",
              "      border-radius: 50%;\n",
              "      cursor: pointer;\n",
              "      display: none;\n",
              "      fill: #1967D2;\n",
              "      height: 32px;\n",
              "      padding: 0 0 0 0;\n",
              "      width: 32px;\n",
              "    }\n",
              "\n",
              "    .colab-df-convert:hover {\n",
              "      background-color: #E2EBFA;\n",
              "      box-shadow: 0px 1px 2px rgba(60, 64, 67, 0.3), 0px 1px 3px 1px rgba(60, 64, 67, 0.15);\n",
              "      fill: #174EA6;\n",
              "    }\n",
              "\n",
              "    [theme=dark] .colab-df-convert {\n",
              "      background-color: #3B4455;\n",
              "      fill: #D2E3FC;\n",
              "    }\n",
              "\n",
              "    [theme=dark] .colab-df-convert:hover {\n",
              "      background-color: #434B5C;\n",
              "      box-shadow: 0px 1px 3px 1px rgba(0, 0, 0, 0.15);\n",
              "      filter: drop-shadow(0px 1px 2px rgba(0, 0, 0, 0.3));\n",
              "      fill: #FFFFFF;\n",
              "    }\n",
              "  </style>\n",
              "\n",
              "      <script>\n",
              "        const buttonEl =\n",
              "          document.querySelector('#df-04743891-4c72-4b1b-aa28-99fea838c1ab button.colab-df-convert');\n",
              "        buttonEl.style.display =\n",
              "          google.colab.kernel.accessAllowed ? 'block' : 'none';\n",
              "\n",
              "        async function convertToInteractive(key) {\n",
              "          const element = document.querySelector('#df-04743891-4c72-4b1b-aa28-99fea838c1ab');\n",
              "          const dataTable =\n",
              "            await google.colab.kernel.invokeFunction('convertToInteractive',\n",
              "                                                     [key], {});\n",
              "          if (!dataTable) return;\n",
              "\n",
              "          const docLinkHtml = 'Like what you see? Visit the ' +\n",
              "            '<a target=\"_blank\" href=https://colab.research.google.com/notebooks/data_table.ipynb>data table notebook</a>'\n",
              "            + ' to learn more about interactive tables.';\n",
              "          element.innerHTML = '';\n",
              "          dataTable['output_type'] = 'display_data';\n",
              "          await google.colab.output.renderOutput(dataTable, element);\n",
              "          const docLink = document.createElement('div');\n",
              "          docLink.innerHTML = docLinkHtml;\n",
              "          element.appendChild(docLink);\n",
              "        }\n",
              "      </script>\n",
              "    </div>\n",
              "  </div>\n",
              "  "
            ]
          },
          "metadata": {},
          "execution_count": 17
        }
      ]
    },
    {
      "cell_type": "markdown",
      "source": [
        "##Exploración Inicial"
      ],
      "metadata": {
        "id": "2cwSOZSxuwCc"
      }
    },
    {
      "cell_type": "markdown",
      "source": [
        "Filtro los datos y me quedo unicamente con anuncios de propiedades de tipo vivienda ( Casa, PH y Departamento ) ubicados en Capital Federal, cuyo tipo de operación sea venta y su precio se encuentre en (USD)."
      ],
      "metadata": {
        "id": "Cso0izJ66apH"
      }
    },
    {
      "cell_type": "code",
      "source": [
        "ds_exploracion = ds_trabajo[ds_trabajo.place_l2.str.contains('Capital Federal', case=False, na = True)]\n",
        "ds_exploracion = ds_exploracion[ds_exploracion.property_type.str.contains('Departamento|casa|ph', case=False, na =  True)]\n",
        "ds_exploracion = ds_exploracion[ds_exploracion.operation.str.contains('venta', case=False, na =  True)]\n",
        "ds_exploracion = ds_exploracion[ds_exploracion.property_currency.str.contains('USD', case=False, na =  True)]"
      ],
      "metadata": {
        "id": "5Cw7b-Wvu2sC"
      },
      "execution_count": 18,
      "outputs": []
    },
    {
      "cell_type": "markdown",
      "source": [
        "Elimino columnas innecesarias y miro cantidad de filas/columnas dataset"
      ],
      "metadata": {
        "id": "mQBqVmhk7RUv"
      }
    },
    {
      "cell_type": "code",
      "source": [
        "columnas_a_eliminar = [\"id\"]\n",
        "ds_exploracion.drop(columns = columnas_a_eliminar, inplace = True)\n",
        "ds_exploracion.shape"
      ],
      "metadata": {
        "id": "F81XsA1A7kS_",
        "outputId": "7e6af1d3-6d94-4d93-e24e-b720b9e98fb2",
        "colab": {
          "base_uri": "https://localhost:8080/"
        }
      },
      "execution_count": 19,
      "outputs": [
        {
          "output_type": "stream",
          "name": "stderr",
          "text": [
            "/usr/local/lib/python3.7/dist-packages/pandas/core/frame.py:4913: SettingWithCopyWarning: \n",
            "A value is trying to be set on a copy of a slice from a DataFrame\n",
            "\n",
            "See the caveats in the documentation: https://pandas.pydata.org/pandas-docs/stable/user_guide/indexing.html#returning-a-view-versus-a-copy\n",
            "  errors=errors,\n"
          ]
        },
        {
          "output_type": "execute_result",
          "data": {
            "text/plain": [
              "(95502, 19)"
            ]
          },
          "metadata": {},
          "execution_count": 19
        }
      ]
    },
    {
      "cell_type": "code",
      "source": [
        "ds_exploracion[\"property_price\"].describe()"
      ],
      "metadata": {
        "id": "lnYF_QZWqsS5",
        "outputId": "edb3ceb9-56e6-47d8-b323-356bf1f15e7e",
        "colab": {
          "base_uri": "https://localhost:8080/"
        }
      },
      "execution_count": 20,
      "outputs": [
        {
          "output_type": "execute_result",
          "data": {
            "text/plain": [
              "count    9.431300e+04\n",
              "mean     2.260984e+05\n",
              "std      3.185460e+05\n",
              "min      0.000000e+00\n",
              "25%      9.500000e+04\n",
              "50%      1.430000e+05\n",
              "75%      2.370000e+05\n",
              "max      2.140000e+07\n",
              "Name: property_price, dtype: float64"
            ]
          },
          "metadata": {},
          "execution_count": 20
        }
      ]
    }
  ]
}