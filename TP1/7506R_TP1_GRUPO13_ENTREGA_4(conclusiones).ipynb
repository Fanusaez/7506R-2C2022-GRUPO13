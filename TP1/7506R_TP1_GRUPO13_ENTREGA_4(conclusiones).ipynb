{
 "cells": [
  {
   "cell_type": "markdown",
   "metadata": {},
   "source": [
    "# Conslusiones"
   ]
  },
  {
   "cell_type": "markdown",
   "metadata": {},
   "source": [
    "Tras revisar el analisis realizado durante el Trabajo Practico a las viviendas de la Ciudad Autonoma de Buenos Aires, logramos identificar patrones que se corresponden a la realidad segun nuestro criterio."
   ]
  },
  {
   "cell_type": "markdown",
   "metadata": {},
   "source": [
    "En la exploracion inicial, notamos fallas en la carga de los datos, como pueden ser viviendas que al ser buscadas con su latitud y longitud figuraban en otra provincia. \n",
    "En cuanto a los datos faltantes, encontramos que la mayoria de los registros no poseian barrio por lo que concluimos que el dataset estaba incompleto, tambien nos encontramos con un gran numero de outliers.\n",
    "Nuestra conclusion respecto a esto fue que el dataset utilizado no fue fiable en su totalidad."
   ]
  },
  {
   "cell_type": "markdown",
   "metadata": {},
   "source": [
    "También creemos que el dataset no contiene suficiente información. Tanto las métricas de regresión y clasificación tienen un margen de mejora. Sin importar que tanto se intente optimizar los hiperparametros de modelos, se llega a un limite. El algoritmo ajusta lo mejor que puede, sin embargo las métricas tienen un margen para mejorar. Información acerca de las propiedades. como si hay pileta, gimnasio, y muchas otras variables que afectan el precio de una propiedad, no son tenidas en cuenta por los modelos a la hora de ajustar. Con más información de este tipo, el modelo sería más preciso "
   ]
  },
  {
   "cell_type": "markdown",
   "metadata": {},
   "source": [
    "Con este trabajo, también vimos la importancia de realizar un buen preprocesamiento de datos, y como este puede afectar la performance de los modelos. A medida que fuimos profundizando el analisis, vimos como las metricas de todos los modelos iban mejorando. Esto nos demostró como las decisiones sobre el tratamiento de valores atípicos o valores faltantes pueden impactar el resto del trabajo, y como hay que darle un tratamiento adecuado a cada caso."
   ]
  },
  {
   "cell_type": "markdown",
   "metadata": {},
   "source": [
    "Viendo el resultado de las clasificaciones, notamos que las variables de mayor importancia en el precio por metro cuadrado de las viviendas es la latitud y longitud, lo que nos da a entender que el factor mas importante del precio por metro cuadrado es la ubicacion. Cosa que coincide con la realidad\n",
    "\n",
    "Tambien al generar el target precio por metro cuadrado y viendo la posicion de las viviendas, se ve como las partes este y norte de la ciudad son las que contienen las viviendas de mayor costo sobre dimension, cuyas zonas recaen en Puerto Madero, Belgrano y Palermo, entre otras."
   ]
  },
  {
   "cell_type": "markdown",
   "metadata": {},
   "source": [
    "Los departamentos suelen ser mas caros por metros cuadrados que las propiedades de tipo casa y PH, lo que pensamos que es porque los departamentos suelen tener un mismo precio pero en un espacio mucho mas reducido, estando ubicados en zonas demayor cotizacion "
   ]
  },
  {
   "cell_type": "markdown",
   "metadata": {},
   "source": [
    "Comparando los resultados entre la clasificacion y la regresion, KNN nos resulto muy util para una prediccion del costo/dimension, pero en cuanto al costo total, el modelo no fue optimo. Esto se debe a que mirar los \"n\" vecinos para predecir un costo total es muy dificil ya que podrian ser distintas en tamaño, cantidad de baños, etc. En cambio observar al vecino cuando el factor principal es la ubicacion es mas consistente. "
   ]
  },
  {
   "cell_type": "markdown",
   "metadata": {},
   "source": [
    "Como conclusion final podemos decir que esta informacion podria ser util para una persona estudiando los mercados de compra y venta de propiedades"
   ]
  }
 ],
 "metadata": {
  "kernelspec": {
   "display_name": "Python 3.10.8 64-bit (microsoft store)",
   "language": "python",
   "name": "python3"
  },
  "language_info": {
   "name": "python",
   "version": "3.10.8"
  },
  "orig_nbformat": 4,
  "vscode": {
   "interpreter": {
    "hash": "bded0a91a6bc524f7b4e8375cb305a9c472b5738066b47c7f65137a84e59bd8a"
   }
  }
 },
 "nbformat": 4,
 "nbformat_minor": 2
}
