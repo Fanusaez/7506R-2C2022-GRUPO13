{
 "cells": [
  {
   "cell_type": "markdown",
   "metadata": {},
   "source": [
    "### Importe de librerias"
   ]
  },
  {
   "cell_type": "code",
   "execution_count": 2,
   "metadata": {},
   "outputs": [],
   "source": [
    "import pandas as pd\n",
    "import numpy as np\n",
    "\n",
    "import matplotlib.pyplot as plt\n",
    "import seaborn as sns\n",
    "import nltk \n",
    "import string\n",
    "from nltk.corpus import stopwords\n",
    "import collections\n",
    "from sklearn.preprocessing import StandardScaler\n",
    "\n",
    "from sklearn.metrics import mean_absolute_error, mean_squared_error\n",
    "\n",
    "import tensorflow as tf\n",
    "from tensorflow import keras\n",
    "import keras_tuner as kt\n",
    "np.random.seed(1)\n",
    "tf.random.set_seed(1)\n",
    "from keras.utils.vis_utils import plot_model\n",
    "#import visualkeras\n",
    "\n",
    "import matplotlib.pyplot as plt\n",
    "import os\n",
    "\n",
    "from sklearn.metrics import f1_score,  recall_score, precision_score, accuracy_score"
   ]
  },
  {
   "cell_type": "markdown",
   "metadata": {},
   "source": [
    "# Redes Neuronales"
   ]
  },
  {
   "cell_type": "markdown",
   "metadata": {},
   "source": [
    "Datasets a utilizar"
   ]
  },
  {
   "cell_type": "code",
   "execution_count": 3,
   "metadata": {},
   "outputs": [],
   "source": [
    "#datasets normales\n",
    "ds_train = pd.read_csv('properati_argentina_train.csv')\n",
    "ds_test = pd.read_csv('properati_argentina_test.csv')"
   ]
  },
  {
   "cell_type": "markdown",
   "metadata": {},
   "source": [
    "### Ingenieria de caracteristicas para datasets compelto"
   ]
  },
  {
   "cell_type": "code",
   "execution_count": 4,
   "metadata": {},
   "outputs": [
    {
     "data": {
      "text/html": [
       "<div>\n",
       "<style scoped>\n",
       "    .dataframe tbody tr th:only-of-type {\n",
       "        vertical-align: middle;\n",
       "    }\n",
       "\n",
       "    .dataframe tbody tr th {\n",
       "        vertical-align: top;\n",
       "    }\n",
       "\n",
       "    .dataframe thead th {\n",
       "        text-align: right;\n",
       "    }\n",
       "</style>\n",
       "<table border=\"1\" class=\"dataframe\">\n",
       "  <thead>\n",
       "    <tr style=\"text-align: right;\">\n",
       "      <th></th>\n",
       "      <th>Unnamed: 0</th>\n",
       "      <th>latitud</th>\n",
       "      <th>longitud</th>\n",
       "      <th>property_type</th>\n",
       "      <th>property_rooms</th>\n",
       "      <th>property_bedrooms</th>\n",
       "      <th>property_surface_total</th>\n",
       "      <th>property_surface_covered</th>\n",
       "      <th>property_price</th>\n",
       "      <th>precioxm2_relativo_q</th>\n",
       "    </tr>\n",
       "  </thead>\n",
       "  <tbody>\n",
       "    <tr>\n",
       "      <th>0</th>\n",
       "      <td>0</td>\n",
       "      <td>-34.601807</td>\n",
       "      <td>-58.469965</td>\n",
       "      <td>Departamento</td>\n",
       "      <td>2.0</td>\n",
       "      <td>1.0</td>\n",
       "      <td>53.0</td>\n",
       "      <td>49.0</td>\n",
       "      <td>80000.0</td>\n",
       "      <td>bajo</td>\n",
       "    </tr>\n",
       "    <tr>\n",
       "      <th>1</th>\n",
       "      <td>1</td>\n",
       "      <td>-34.580088</td>\n",
       "      <td>-58.424965</td>\n",
       "      <td>Departamento</td>\n",
       "      <td>2.0</td>\n",
       "      <td>1.0</td>\n",
       "      <td>35.0</td>\n",
       "      <td>35.0</td>\n",
       "      <td>79900.0</td>\n",
       "      <td>medio</td>\n",
       "    </tr>\n",
       "    <tr>\n",
       "      <th>2</th>\n",
       "      <td>2</td>\n",
       "      <td>-34.551481</td>\n",
       "      <td>-58.452358</td>\n",
       "      <td>Departamento</td>\n",
       "      <td>1.0</td>\n",
       "      <td>1.0</td>\n",
       "      <td>25.0</td>\n",
       "      <td>20.0</td>\n",
       "      <td>69000.0</td>\n",
       "      <td>medio</td>\n",
       "    </tr>\n",
       "    <tr>\n",
       "      <th>3</th>\n",
       "      <td>3</td>\n",
       "      <td>-34.632290</td>\n",
       "      <td>-58.464844</td>\n",
       "      <td>Departamento</td>\n",
       "      <td>5.0</td>\n",
       "      <td>3.0</td>\n",
       "      <td>75.0</td>\n",
       "      <td>75.0</td>\n",
       "      <td>150000.0</td>\n",
       "      <td>medio</td>\n",
       "    </tr>\n",
       "    <tr>\n",
       "      <th>4</th>\n",
       "      <td>4</td>\n",
       "      <td>-34.549279</td>\n",
       "      <td>-58.463074</td>\n",
       "      <td>Departamento</td>\n",
       "      <td>2.0</td>\n",
       "      <td>1.0</td>\n",
       "      <td>46.0</td>\n",
       "      <td>34.0</td>\n",
       "      <td>85000.0</td>\n",
       "      <td>bajo</td>\n",
       "    </tr>\n",
       "  </tbody>\n",
       "</table>\n",
       "</div>"
      ],
      "text/plain": [
       "   Unnamed: 0    latitud   longitud property_type  property_rooms  \\\n",
       "0           0 -34.601807 -58.469965  Departamento             2.0   \n",
       "1           1 -34.580088 -58.424965  Departamento             2.0   \n",
       "2           2 -34.551481 -58.452358  Departamento             1.0   \n",
       "3           3 -34.632290 -58.464844  Departamento             5.0   \n",
       "4           4 -34.549279 -58.463074  Departamento             2.0   \n",
       "\n",
       "   property_bedrooms  property_surface_total  property_surface_covered  \\\n",
       "0                1.0                    53.0                      49.0   \n",
       "1                1.0                    35.0                      35.0   \n",
       "2                1.0                    25.0                      20.0   \n",
       "3                3.0                    75.0                      75.0   \n",
       "4                1.0                    46.0                      34.0   \n",
       "\n",
       "   property_price precioxm2_relativo_q  \n",
       "0         80000.0                 bajo  \n",
       "1         79900.0                medio  \n",
       "2         69000.0                medio  \n",
       "3        150000.0                medio  \n",
       "4         85000.0                 bajo  "
      ]
     },
     "execution_count": 4,
     "metadata": {},
     "output_type": "execute_result"
    }
   ],
   "source": [
    "ds_train.head()\n",
    "\n",
    "#preguntar si precio_xm2 deberia estar (viene del TP1)"
   ]
  },
  {
   "cell_type": "code",
   "execution_count": 5,
   "metadata": {},
   "outputs": [],
   "source": [
    "#dropeamos Unamed:0\n",
    "ds_train.drop(columns=[\"Unnamed: 0\"], inplace=True)\n",
    "ds_test.drop(columns=[\"Unnamed: 0\"], inplace=True)\n",
    "\n",
    "#cambio nombre de columna precioxm2_relativo_q\n",
    "ds_train.rename(columns={'precioxm2_relativo_q':'tipo_precio'}, inplace=True)\n",
    "ds_test.rename(columns={'precioxm2_relativo_q':'tipo_precio'}, inplace=True)"
   ]
  },
  {
   "cell_type": "markdown",
   "metadata": {},
   "source": [
    "Aplicamos dummies a la variable property_type y precioxm2_relativo_q"
   ]
  },
  {
   "cell_type": "code",
   "execution_count": 6,
   "metadata": {},
   "outputs": [],
   "source": [
    "ds_train = pd.get_dummies(ds_train, columns=[\"property_type\"], drop_first=True)\n",
    "\n",
    "ds_test =  pd.get_dummies(ds_test, columns=[\"property_type\"], drop_first=True)"
   ]
  },
  {
   "cell_type": "markdown",
   "metadata": {},
   "source": [
    "Normalizamos las variables con valores numericos"
   ]
  },
  {
   "cell_type": "code",
   "execution_count": 7,
   "metadata": {},
   "outputs": [],
   "source": [
    "\n",
    "columnas_elegidas = ['property_rooms', 'property_bedrooms', 'property_surface_total', \"property_surface_covered\"]\n",
    "sc = StandardScaler()\n",
    "\n",
    "#estandarizo variables cuantitativas en train\n",
    "x = ds_train.loc[:, columnas_elegidas].values\n",
    "x = sc.fit_transform(x)\n",
    "ds_train[columnas_elegidas] = x \n",
    "\n",
    "#estandarizo variables cuantitativas en test\n",
    "y = ds_test.loc[:, columnas_elegidas].values\n",
    "y = sc.transform(y)\n",
    "ds_test[columnas_elegidas] = y\n"
   ]
  },
  {
   "cell_type": "code",
   "execution_count": 8,
   "metadata": {},
   "outputs": [
    {
     "data": {
      "text/html": [
       "<div>\n",
       "<style scoped>\n",
       "    .dataframe tbody tr th:only-of-type {\n",
       "        vertical-align: middle;\n",
       "    }\n",
       "\n",
       "    .dataframe tbody tr th {\n",
       "        vertical-align: top;\n",
       "    }\n",
       "\n",
       "    .dataframe thead th {\n",
       "        text-align: right;\n",
       "    }\n",
       "</style>\n",
       "<table border=\"1\" class=\"dataframe\">\n",
       "  <thead>\n",
       "    <tr style=\"text-align: right;\">\n",
       "      <th></th>\n",
       "      <th>latitud</th>\n",
       "      <th>longitud</th>\n",
       "      <th>property_rooms</th>\n",
       "      <th>property_bedrooms</th>\n",
       "      <th>property_surface_total</th>\n",
       "      <th>property_surface_covered</th>\n",
       "      <th>property_price</th>\n",
       "      <th>tipo_precio</th>\n",
       "      <th>property_type_Departamento</th>\n",
       "      <th>property_type_PH</th>\n",
       "    </tr>\n",
       "  </thead>\n",
       "  <tbody>\n",
       "    <tr>\n",
       "      <th>0</th>\n",
       "      <td>-34.601807</td>\n",
       "      <td>-58.469965</td>\n",
       "      <td>-0.573441</td>\n",
       "      <td>-0.904594</td>\n",
       "      <td>-0.356237</td>\n",
       "      <td>-0.417925</td>\n",
       "      <td>80000.0</td>\n",
       "      <td>bajo</td>\n",
       "      <td>1</td>\n",
       "      <td>0</td>\n",
       "    </tr>\n",
       "    <tr>\n",
       "      <th>1</th>\n",
       "      <td>-34.580088</td>\n",
       "      <td>-58.424965</td>\n",
       "      <td>-0.573441</td>\n",
       "      <td>-0.904594</td>\n",
       "      <td>-0.609345</td>\n",
       "      <td>-0.762050</td>\n",
       "      <td>79900.0</td>\n",
       "      <td>medio</td>\n",
       "      <td>1</td>\n",
       "      <td>0</td>\n",
       "    </tr>\n",
       "    <tr>\n",
       "      <th>2</th>\n",
       "      <td>-34.551481</td>\n",
       "      <td>-58.452358</td>\n",
       "      <td>-1.454585</td>\n",
       "      <td>-0.904594</td>\n",
       "      <td>-0.749961</td>\n",
       "      <td>-1.130756</td>\n",
       "      <td>69000.0</td>\n",
       "      <td>medio</td>\n",
       "      <td>1</td>\n",
       "      <td>0</td>\n",
       "    </tr>\n",
       "    <tr>\n",
       "      <th>3</th>\n",
       "      <td>-34.632290</td>\n",
       "      <td>-58.464844</td>\n",
       "      <td>2.069988</td>\n",
       "      <td>1.417020</td>\n",
       "      <td>-0.046882</td>\n",
       "      <td>0.221165</td>\n",
       "      <td>150000.0</td>\n",
       "      <td>medio</td>\n",
       "      <td>1</td>\n",
       "      <td>0</td>\n",
       "    </tr>\n",
       "    <tr>\n",
       "      <th>4</th>\n",
       "      <td>-34.549279</td>\n",
       "      <td>-58.463074</td>\n",
       "      <td>-0.573441</td>\n",
       "      <td>-0.904594</td>\n",
       "      <td>-0.454668</td>\n",
       "      <td>-0.786631</td>\n",
       "      <td>85000.0</td>\n",
       "      <td>bajo</td>\n",
       "      <td>1</td>\n",
       "      <td>0</td>\n",
       "    </tr>\n",
       "  </tbody>\n",
       "</table>\n",
       "</div>"
      ],
      "text/plain": [
       "     latitud   longitud  property_rooms  property_bedrooms  \\\n",
       "0 -34.601807 -58.469965       -0.573441          -0.904594   \n",
       "1 -34.580088 -58.424965       -0.573441          -0.904594   \n",
       "2 -34.551481 -58.452358       -1.454585          -0.904594   \n",
       "3 -34.632290 -58.464844        2.069988           1.417020   \n",
       "4 -34.549279 -58.463074       -0.573441          -0.904594   \n",
       "\n",
       "   property_surface_total  property_surface_covered  property_price  \\\n",
       "0               -0.356237                 -0.417925         80000.0   \n",
       "1               -0.609345                 -0.762050         79900.0   \n",
       "2               -0.749961                 -1.130756         69000.0   \n",
       "3               -0.046882                  0.221165        150000.0   \n",
       "4               -0.454668                 -0.786631         85000.0   \n",
       "\n",
       "  tipo_precio  property_type_Departamento  property_type_PH  \n",
       "0        bajo                           1                 0  \n",
       "1       medio                           1                 0  \n",
       "2       medio                           1                 0  \n",
       "3       medio                           1                 0  \n",
       "4        bajo                           1                 0  "
      ]
     },
     "execution_count": 8,
     "metadata": {},
     "output_type": "execute_result"
    }
   ],
   "source": [
    "ds_train.head()"
   ]
  },
  {
   "cell_type": "code",
   "execution_count": 9,
   "metadata": {},
   "outputs": [
    {
     "data": {
      "text/html": [
       "<div>\n",
       "<style scoped>\n",
       "    .dataframe tbody tr th:only-of-type {\n",
       "        vertical-align: middle;\n",
       "    }\n",
       "\n",
       "    .dataframe tbody tr th {\n",
       "        vertical-align: top;\n",
       "    }\n",
       "\n",
       "    .dataframe thead th {\n",
       "        text-align: right;\n",
       "    }\n",
       "</style>\n",
       "<table border=\"1\" class=\"dataframe\">\n",
       "  <thead>\n",
       "    <tr style=\"text-align: right;\">\n",
       "      <th></th>\n",
       "      <th>latitud</th>\n",
       "      <th>longitud</th>\n",
       "      <th>property_rooms</th>\n",
       "      <th>property_bedrooms</th>\n",
       "      <th>property_surface_total</th>\n",
       "      <th>property_surface_covered</th>\n",
       "      <th>property_price</th>\n",
       "      <th>tipo_precio</th>\n",
       "      <th>property_type_Departamento</th>\n",
       "      <th>property_type_PH</th>\n",
       "    </tr>\n",
       "  </thead>\n",
       "  <tbody>\n",
       "    <tr>\n",
       "      <th>0</th>\n",
       "      <td>-34.598679</td>\n",
       "      <td>-58.499717</td>\n",
       "      <td>-1.454585</td>\n",
       "      <td>-0.904594</td>\n",
       "      <td>-0.567160</td>\n",
       "      <td>-0.934113</td>\n",
       "      <td>85000.0</td>\n",
       "      <td>medio</td>\n",
       "      <td>1</td>\n",
       "      <td>0</td>\n",
       "    </tr>\n",
       "    <tr>\n",
       "      <th>1</th>\n",
       "      <td>-34.574987</td>\n",
       "      <td>-58.420611</td>\n",
       "      <td>-0.573441</td>\n",
       "      <td>-0.904594</td>\n",
       "      <td>1.007737</td>\n",
       "      <td>0.098263</td>\n",
       "      <td>520000.0</td>\n",
       "      <td>alto</td>\n",
       "      <td>1</td>\n",
       "      <td>0</td>\n",
       "    </tr>\n",
       "    <tr>\n",
       "      <th>2</th>\n",
       "      <td>-34.586527</td>\n",
       "      <td>-58.398279</td>\n",
       "      <td>-0.573441</td>\n",
       "      <td>-0.904594</td>\n",
       "      <td>-0.496852</td>\n",
       "      <td>-0.614568</td>\n",
       "      <td>87000.0</td>\n",
       "      <td>medio</td>\n",
       "      <td>1</td>\n",
       "      <td>0</td>\n",
       "    </tr>\n",
       "    <tr>\n",
       "      <th>3</th>\n",
       "      <td>-34.577647</td>\n",
       "      <td>-58.406064</td>\n",
       "      <td>1.188845</td>\n",
       "      <td>1.417020</td>\n",
       "      <td>0.726505</td>\n",
       "      <td>1.278121</td>\n",
       "      <td>690000.0</td>\n",
       "      <td>alto</td>\n",
       "      <td>1</td>\n",
       "      <td>0</td>\n",
       "    </tr>\n",
       "    <tr>\n",
       "      <th>4</th>\n",
       "      <td>-34.560998</td>\n",
       "      <td>-58.464248</td>\n",
       "      <td>-1.454585</td>\n",
       "      <td>-0.904594</td>\n",
       "      <td>-0.637468</td>\n",
       "      <td>-0.909533</td>\n",
       "      <td>95000.0</td>\n",
       "      <td>alto</td>\n",
       "      <td>1</td>\n",
       "      <td>0</td>\n",
       "    </tr>\n",
       "  </tbody>\n",
       "</table>\n",
       "</div>"
      ],
      "text/plain": [
       "     latitud   longitud  property_rooms  property_bedrooms  \\\n",
       "0 -34.598679 -58.499717       -1.454585          -0.904594   \n",
       "1 -34.574987 -58.420611       -0.573441          -0.904594   \n",
       "2 -34.586527 -58.398279       -0.573441          -0.904594   \n",
       "3 -34.577647 -58.406064        1.188845           1.417020   \n",
       "4 -34.560998 -58.464248       -1.454585          -0.904594   \n",
       "\n",
       "   property_surface_total  property_surface_covered  property_price  \\\n",
       "0               -0.567160                 -0.934113         85000.0   \n",
       "1                1.007737                  0.098263        520000.0   \n",
       "2               -0.496852                 -0.614568         87000.0   \n",
       "3                0.726505                  1.278121        690000.0   \n",
       "4               -0.637468                 -0.909533         95000.0   \n",
       "\n",
       "  tipo_precio  property_type_Departamento  property_type_PH  \n",
       "0       medio                           1                 0  \n",
       "1        alto                           1                 0  \n",
       "2       medio                           1                 0  \n",
       "3        alto                           1                 0  \n",
       "4        alto                           1                 0  "
      ]
     },
     "execution_count": 9,
     "metadata": {},
     "output_type": "execute_result"
    }
   ],
   "source": [
    "ds_test.head()"
   ]
  },
  {
   "cell_type": "markdown",
   "metadata": {},
   "source": [
    "## Regresion"
   ]
  },
  {
   "cell_type": "markdown",
   "metadata": {},
   "source": [
    "Funcion para graficar"
   ]
  },
  {
   "cell_type": "code",
   "execution_count": 1,
   "metadata": {},
   "outputs": [],
   "source": [
    "def plot_regression(modelo,x,y,title=\"\",xlabel=\"x\",ylabel=\"y\"):\n",
    "    plt.figure()\n",
    "    \n",
    "    plt.plot(x,y,\"o\",label=\"Valores verdaderos\")\n",
    "    plt.plot(x,modelo.predict(x),\"x\",label=\"Valores estimados\")\n",
    "    \n",
    "    plt.xlabel(xlabel)\n",
    "    plt.ylabel(ylabel)\n",
    "    plt.title(title)\n",
    "    plt.legend()\n",
    "    plt.show()"
   ]
  },
  {
   "cell_type": "markdown",
   "metadata": {},
   "source": [
    "### Utilizamos la variable property_rooms"
   ]
  },
  {
   "cell_type": "markdown",
   "metadata": {},
   "source": [
    "Separamos en variables predictoras y variables target"
   ]
  },
  {
   "cell_type": "code",
   "execution_count": 77,
   "metadata": {},
   "outputs": [],
   "source": [
    "features_normal = ['property_rooms']\n",
    "target = [\"property_price\"]"
   ]
  },
  {
   "cell_type": "code",
   "execution_count": 78,
   "metadata": {},
   "outputs": [],
   "source": [
    "\n",
    "#train\n",
    "x_train =ds_train[features_normal]\n",
    "y_train = ds_train[target]\n",
    "\n",
    "#test\n",
    "x_test= ds_test[features_normal]\n",
    "y_test= ds_test[target]\n"
   ]
  },
  {
   "cell_type": "markdown",
   "metadata": {},
   "source": [
    "Creamos el modelo"
   ]
  },
  {
   "cell_type": "code",
   "execution_count": 79,
   "metadata": {},
   "outputs": [],
   "source": [
    "# Creo un modelo Red Neuronal\n",
    "d_in=1\n",
    "d_out=1\n",
    "\n",
    "modelo = keras.Sequential([\n",
    "    # input_shape solo en la primer capa\n",
    "    # Capa con 2 salidas, activación relu\n",
    "    keras.layers.Dense(2,input_shape=(d_in,), activation=\"relu\"),\n",
    "    # Capa con 2 salidas, activación tanh\n",
    "    keras.layers.Dense(50, activation=\"relu\" ),\n",
    "    keras.layers.Dense(d_out, )])"
   ]
  },
  {
   "cell_type": "code",
   "execution_count": 80,
   "metadata": {},
   "outputs": [
    {
     "name": "stdout",
     "output_type": "stream",
     "text": [
      "Model: \"sequential_2\"\n",
      "_________________________________________________________________\n",
      " Layer (type)                Output Shape              Param #   \n",
      "=================================================================\n",
      " dense_6 (Dense)             (None, 2)                 4         \n",
      "                                                                 \n",
      " dense_7 (Dense)             (None, 50)                150       \n",
      "                                                                 \n",
      " dense_8 (Dense)             (None, 1)                 51        \n",
      "                                                                 \n",
      "=================================================================\n",
      "Total params: 205\n",
      "Trainable params: 205\n",
      "Non-trainable params: 0\n",
      "_________________________________________________________________\n"
     ]
    }
   ],
   "source": [
    "modelo.summary()"
   ]
  },
  {
   "cell_type": "code",
   "execution_count": 81,
   "metadata": {},
   "outputs": [],
   "source": [
    "modelo.compile(\n",
    "  optimizer=keras.optimizers.SGD(learning_rate=0.005), \n",
    "  loss='mse', \n",
    "  # metricas para ir calculando en cada iteracion o batch \n",
    "  metrics=[tf.keras.metrics.RootMeanSquaredError()], \n",
    ")"
   ]
  },
  {
   "cell_type": "markdown",
   "metadata": {},
   "source": [
    "Entrenamos el modelo"
   ]
  },
  {
   "cell_type": "code",
   "execution_count": 82,
   "metadata": {},
   "outputs": [
    {
     "ename": "KeyboardInterrupt",
     "evalue": "",
     "output_type": "error",
     "traceback": [
      "\u001b[1;31m---------------------------------------------------------------------------\u001b[0m",
      "\u001b[1;31mKeyboardInterrupt\u001b[0m                         Traceback (most recent call last)",
      "\u001b[1;32mC:\\Users\\EQUIPO~1\\AppData\\Local\\Temp/ipykernel_5952/2613751877.py\u001b[0m in \u001b[0;36m<module>\u001b[1;34m\u001b[0m\n\u001b[1;32m----> 1\u001b[1;33m \u001b[0mmodelo\u001b[0m\u001b[1;33m.\u001b[0m\u001b[0mfit\u001b[0m\u001b[1;33m(\u001b[0m\u001b[0mx_train\u001b[0m\u001b[1;33m,\u001b[0m \u001b[0my_train\u001b[0m\u001b[1;33m,\u001b[0m \u001b[0mepochs\u001b[0m\u001b[1;33m=\u001b[0m\u001b[1;36m100\u001b[0m\u001b[1;33m,\u001b[0m \u001b[0mbatch_size\u001b[0m\u001b[1;33m=\u001b[0m\u001b[1;36m16\u001b[0m\u001b[1;33m,\u001b[0m \u001b[0mverbose\u001b[0m\u001b[1;33m=\u001b[0m\u001b[1;32mFalse\u001b[0m\u001b[1;33m)\u001b[0m\u001b[1;33m\u001b[0m\u001b[1;33m\u001b[0m\u001b[0m\n\u001b[0m",
      "\u001b[1;32mc:\\Users\\Equipo de fabrica\\anaconda3\\lib\\site-packages\\keras\\utils\\traceback_utils.py\u001b[0m in \u001b[0;36merror_handler\u001b[1;34m(*args, **kwargs)\u001b[0m\n\u001b[0;32m     63\u001b[0m         \u001b[0mfiltered_tb\u001b[0m \u001b[1;33m=\u001b[0m \u001b[1;32mNone\u001b[0m\u001b[1;33m\u001b[0m\u001b[1;33m\u001b[0m\u001b[0m\n\u001b[0;32m     64\u001b[0m         \u001b[1;32mtry\u001b[0m\u001b[1;33m:\u001b[0m\u001b[1;33m\u001b[0m\u001b[1;33m\u001b[0m\u001b[0m\n\u001b[1;32m---> 65\u001b[1;33m             \u001b[1;32mreturn\u001b[0m \u001b[0mfn\u001b[0m\u001b[1;33m(\u001b[0m\u001b[1;33m*\u001b[0m\u001b[0margs\u001b[0m\u001b[1;33m,\u001b[0m \u001b[1;33m**\u001b[0m\u001b[0mkwargs\u001b[0m\u001b[1;33m)\u001b[0m\u001b[1;33m\u001b[0m\u001b[1;33m\u001b[0m\u001b[0m\n\u001b[0m\u001b[0;32m     66\u001b[0m         \u001b[1;32mexcept\u001b[0m \u001b[0mException\u001b[0m \u001b[1;32mas\u001b[0m \u001b[0me\u001b[0m\u001b[1;33m:\u001b[0m\u001b[1;33m\u001b[0m\u001b[1;33m\u001b[0m\u001b[0m\n\u001b[0;32m     67\u001b[0m             \u001b[0mfiltered_tb\u001b[0m \u001b[1;33m=\u001b[0m \u001b[0m_process_traceback_frames\u001b[0m\u001b[1;33m(\u001b[0m\u001b[0me\u001b[0m\u001b[1;33m.\u001b[0m\u001b[0m__traceback__\u001b[0m\u001b[1;33m)\u001b[0m\u001b[1;33m\u001b[0m\u001b[1;33m\u001b[0m\u001b[0m\n",
      "\u001b[1;32mc:\\Users\\Equipo de fabrica\\anaconda3\\lib\\site-packages\\keras\\engine\\training.py\u001b[0m in \u001b[0;36mfit\u001b[1;34m(self, x, y, batch_size, epochs, verbose, callbacks, validation_split, validation_data, shuffle, class_weight, sample_weight, initial_epoch, steps_per_epoch, validation_steps, validation_batch_size, validation_freq, max_queue_size, workers, use_multiprocessing)\u001b[0m\n\u001b[0;32m   1648\u001b[0m                         ):\n\u001b[0;32m   1649\u001b[0m                             \u001b[0mcallbacks\u001b[0m\u001b[1;33m.\u001b[0m\u001b[0mon_train_batch_begin\u001b[0m\u001b[1;33m(\u001b[0m\u001b[0mstep\u001b[0m\u001b[1;33m)\u001b[0m\u001b[1;33m\u001b[0m\u001b[1;33m\u001b[0m\u001b[0m\n\u001b[1;32m-> 1650\u001b[1;33m                             \u001b[0mtmp_logs\u001b[0m \u001b[1;33m=\u001b[0m \u001b[0mself\u001b[0m\u001b[1;33m.\u001b[0m\u001b[0mtrain_function\u001b[0m\u001b[1;33m(\u001b[0m\u001b[0miterator\u001b[0m\u001b[1;33m)\u001b[0m\u001b[1;33m\u001b[0m\u001b[1;33m\u001b[0m\u001b[0m\n\u001b[0m\u001b[0;32m   1651\u001b[0m                             \u001b[1;32mif\u001b[0m \u001b[0mdata_handler\u001b[0m\u001b[1;33m.\u001b[0m\u001b[0mshould_sync\u001b[0m\u001b[1;33m:\u001b[0m\u001b[1;33m\u001b[0m\u001b[1;33m\u001b[0m\u001b[0m\n\u001b[0;32m   1652\u001b[0m                                 \u001b[0mcontext\u001b[0m\u001b[1;33m.\u001b[0m\u001b[0masync_wait\u001b[0m\u001b[1;33m(\u001b[0m\u001b[1;33m)\u001b[0m\u001b[1;33m\u001b[0m\u001b[1;33m\u001b[0m\u001b[0m\n",
      "\u001b[1;32mc:\\Users\\Equipo de fabrica\\anaconda3\\lib\\site-packages\\tensorflow\\python\\util\\traceback_utils.py\u001b[0m in \u001b[0;36merror_handler\u001b[1;34m(*args, **kwargs)\u001b[0m\n\u001b[0;32m    148\u001b[0m     \u001b[0mfiltered_tb\u001b[0m \u001b[1;33m=\u001b[0m \u001b[1;32mNone\u001b[0m\u001b[1;33m\u001b[0m\u001b[1;33m\u001b[0m\u001b[0m\n\u001b[0;32m    149\u001b[0m     \u001b[1;32mtry\u001b[0m\u001b[1;33m:\u001b[0m\u001b[1;33m\u001b[0m\u001b[1;33m\u001b[0m\u001b[0m\n\u001b[1;32m--> 150\u001b[1;33m       \u001b[1;32mreturn\u001b[0m \u001b[0mfn\u001b[0m\u001b[1;33m(\u001b[0m\u001b[1;33m*\u001b[0m\u001b[0margs\u001b[0m\u001b[1;33m,\u001b[0m \u001b[1;33m**\u001b[0m\u001b[0mkwargs\u001b[0m\u001b[1;33m)\u001b[0m\u001b[1;33m\u001b[0m\u001b[1;33m\u001b[0m\u001b[0m\n\u001b[0m\u001b[0;32m    151\u001b[0m     \u001b[1;32mexcept\u001b[0m \u001b[0mException\u001b[0m \u001b[1;32mas\u001b[0m \u001b[0me\u001b[0m\u001b[1;33m:\u001b[0m\u001b[1;33m\u001b[0m\u001b[1;33m\u001b[0m\u001b[0m\n\u001b[0;32m    152\u001b[0m       \u001b[0mfiltered_tb\u001b[0m \u001b[1;33m=\u001b[0m \u001b[0m_process_traceback_frames\u001b[0m\u001b[1;33m(\u001b[0m\u001b[0me\u001b[0m\u001b[1;33m.\u001b[0m\u001b[0m__traceback__\u001b[0m\u001b[1;33m)\u001b[0m\u001b[1;33m\u001b[0m\u001b[1;33m\u001b[0m\u001b[0m\n",
      "\u001b[1;32mc:\\Users\\Equipo de fabrica\\anaconda3\\lib\\site-packages\\tensorflow\\python\\eager\\polymorphic_function\\polymorphic_function.py\u001b[0m in \u001b[0;36m__call__\u001b[1;34m(self, *args, **kwds)\u001b[0m\n\u001b[0;32m    878\u001b[0m \u001b[1;33m\u001b[0m\u001b[0m\n\u001b[0;32m    879\u001b[0m       \u001b[1;32mwith\u001b[0m \u001b[0mOptionalXlaContext\u001b[0m\u001b[1;33m(\u001b[0m\u001b[0mself\u001b[0m\u001b[1;33m.\u001b[0m\u001b[0m_jit_compile\u001b[0m\u001b[1;33m)\u001b[0m\u001b[1;33m:\u001b[0m\u001b[1;33m\u001b[0m\u001b[1;33m\u001b[0m\u001b[0m\n\u001b[1;32m--> 880\u001b[1;33m         \u001b[0mresult\u001b[0m \u001b[1;33m=\u001b[0m \u001b[0mself\u001b[0m\u001b[1;33m.\u001b[0m\u001b[0m_call\u001b[0m\u001b[1;33m(\u001b[0m\u001b[1;33m*\u001b[0m\u001b[0margs\u001b[0m\u001b[1;33m,\u001b[0m \u001b[1;33m**\u001b[0m\u001b[0mkwds\u001b[0m\u001b[1;33m)\u001b[0m\u001b[1;33m\u001b[0m\u001b[1;33m\u001b[0m\u001b[0m\n\u001b[0m\u001b[0;32m    881\u001b[0m \u001b[1;33m\u001b[0m\u001b[0m\n\u001b[0;32m    882\u001b[0m       \u001b[0mnew_tracing_count\u001b[0m \u001b[1;33m=\u001b[0m \u001b[0mself\u001b[0m\u001b[1;33m.\u001b[0m\u001b[0mexperimental_get_tracing_count\u001b[0m\u001b[1;33m(\u001b[0m\u001b[1;33m)\u001b[0m\u001b[1;33m\u001b[0m\u001b[1;33m\u001b[0m\u001b[0m\n",
      "\u001b[1;32mc:\\Users\\Equipo de fabrica\\anaconda3\\lib\\site-packages\\tensorflow\\python\\eager\\polymorphic_function\\polymorphic_function.py\u001b[0m in \u001b[0;36m_call\u001b[1;34m(self, *args, **kwds)\u001b[0m\n\u001b[0;32m    910\u001b[0m       \u001b[1;31m# In this case we have created variables on the first call, so we run the\u001b[0m\u001b[1;33m\u001b[0m\u001b[1;33m\u001b[0m\u001b[0m\n\u001b[0;32m    911\u001b[0m       \u001b[1;31m# defunned version which is guaranteed to never create variables.\u001b[0m\u001b[1;33m\u001b[0m\u001b[1;33m\u001b[0m\u001b[0m\n\u001b[1;32m--> 912\u001b[1;33m       \u001b[1;32mreturn\u001b[0m \u001b[0mself\u001b[0m\u001b[1;33m.\u001b[0m\u001b[0m_no_variable_creation_fn\u001b[0m\u001b[1;33m(\u001b[0m\u001b[1;33m*\u001b[0m\u001b[0margs\u001b[0m\u001b[1;33m,\u001b[0m \u001b[1;33m**\u001b[0m\u001b[0mkwds\u001b[0m\u001b[1;33m)\u001b[0m  \u001b[1;31m# pylint: disable=not-callable\u001b[0m\u001b[1;33m\u001b[0m\u001b[1;33m\u001b[0m\u001b[0m\n\u001b[0m\u001b[0;32m    913\u001b[0m     \u001b[1;32melif\u001b[0m \u001b[0mself\u001b[0m\u001b[1;33m.\u001b[0m\u001b[0m_variable_creation_fn\u001b[0m \u001b[1;32mis\u001b[0m \u001b[1;32mnot\u001b[0m \u001b[1;32mNone\u001b[0m\u001b[1;33m:\u001b[0m\u001b[1;33m\u001b[0m\u001b[1;33m\u001b[0m\u001b[0m\n\u001b[0;32m    914\u001b[0m       \u001b[1;31m# Release the lock early so that multiple threads can perform the call\u001b[0m\u001b[1;33m\u001b[0m\u001b[1;33m\u001b[0m\u001b[0m\n",
      "\u001b[1;32mc:\\Users\\Equipo de fabrica\\anaconda3\\lib\\site-packages\\tensorflow\\python\\eager\\polymorphic_function\\tracing_compiler.py\u001b[0m in \u001b[0;36m__call__\u001b[1;34m(self, *args, **kwargs)\u001b[0m\n\u001b[0;32m    132\u001b[0m       (concrete_function,\n\u001b[0;32m    133\u001b[0m        filtered_flat_args) = self._maybe_define_function(args, kwargs)\n\u001b[1;32m--> 134\u001b[1;33m     return concrete_function._call_flat(\n\u001b[0m\u001b[0;32m    135\u001b[0m         filtered_flat_args, captured_inputs=concrete_function.captured_inputs)  # pylint: disable=protected-access\n\u001b[0;32m    136\u001b[0m \u001b[1;33m\u001b[0m\u001b[0m\n",
      "\u001b[1;32mc:\\Users\\Equipo de fabrica\\anaconda3\\lib\\site-packages\\tensorflow\\python\\eager\\polymorphic_function\\monomorphic_function.py\u001b[0m in \u001b[0;36m_call_flat\u001b[1;34m(self, args, captured_inputs, cancellation_manager)\u001b[0m\n\u001b[0;32m   1743\u001b[0m         and executing_eagerly):\n\u001b[0;32m   1744\u001b[0m       \u001b[1;31m# No tape is watching; skip to running the function.\u001b[0m\u001b[1;33m\u001b[0m\u001b[1;33m\u001b[0m\u001b[0m\n\u001b[1;32m-> 1745\u001b[1;33m       return self._build_call_outputs(self._inference_function.call(\n\u001b[0m\u001b[0;32m   1746\u001b[0m           ctx, args, cancellation_manager=cancellation_manager))\n\u001b[0;32m   1747\u001b[0m     forward_backward = self._select_forward_and_backward_functions(\n",
      "\u001b[1;32mc:\\Users\\Equipo de fabrica\\anaconda3\\lib\\site-packages\\tensorflow\\python\\eager\\polymorphic_function\\monomorphic_function.py\u001b[0m in \u001b[0;36mcall\u001b[1;34m(self, ctx, args, cancellation_manager)\u001b[0m\n\u001b[0;32m    376\u001b[0m       \u001b[1;32mwith\u001b[0m \u001b[0m_InterpolateFunctionError\u001b[0m\u001b[1;33m(\u001b[0m\u001b[0mself\u001b[0m\u001b[1;33m)\u001b[0m\u001b[1;33m:\u001b[0m\u001b[1;33m\u001b[0m\u001b[1;33m\u001b[0m\u001b[0m\n\u001b[0;32m    377\u001b[0m         \u001b[1;32mif\u001b[0m \u001b[0mcancellation_manager\u001b[0m \u001b[1;32mis\u001b[0m \u001b[1;32mNone\u001b[0m\u001b[1;33m:\u001b[0m\u001b[1;33m\u001b[0m\u001b[1;33m\u001b[0m\u001b[0m\n\u001b[1;32m--> 378\u001b[1;33m           outputs = execute.execute(\n\u001b[0m\u001b[0;32m    379\u001b[0m               \u001b[0mstr\u001b[0m\u001b[1;33m(\u001b[0m\u001b[0mself\u001b[0m\u001b[1;33m.\u001b[0m\u001b[0msignature\u001b[0m\u001b[1;33m.\u001b[0m\u001b[0mname\u001b[0m\u001b[1;33m)\u001b[0m\u001b[1;33m,\u001b[0m\u001b[1;33m\u001b[0m\u001b[1;33m\u001b[0m\u001b[0m\n\u001b[0;32m    380\u001b[0m               \u001b[0mnum_outputs\u001b[0m\u001b[1;33m=\u001b[0m\u001b[0mself\u001b[0m\u001b[1;33m.\u001b[0m\u001b[0m_num_outputs\u001b[0m\u001b[1;33m,\u001b[0m\u001b[1;33m\u001b[0m\u001b[1;33m\u001b[0m\u001b[0m\n",
      "\u001b[1;32mc:\\Users\\Equipo de fabrica\\anaconda3\\lib\\site-packages\\tensorflow\\python\\eager\\execute.py\u001b[0m in \u001b[0;36mquick_execute\u001b[1;34m(op_name, num_outputs, inputs, attrs, ctx, name)\u001b[0m\n\u001b[0;32m     50\u001b[0m   \u001b[1;32mtry\u001b[0m\u001b[1;33m:\u001b[0m\u001b[1;33m\u001b[0m\u001b[1;33m\u001b[0m\u001b[0m\n\u001b[0;32m     51\u001b[0m     \u001b[0mctx\u001b[0m\u001b[1;33m.\u001b[0m\u001b[0mensure_initialized\u001b[0m\u001b[1;33m(\u001b[0m\u001b[1;33m)\u001b[0m\u001b[1;33m\u001b[0m\u001b[1;33m\u001b[0m\u001b[0m\n\u001b[1;32m---> 52\u001b[1;33m     tensors = pywrap_tfe.TFE_Py_Execute(ctx._handle, device_name, op_name,\n\u001b[0m\u001b[0;32m     53\u001b[0m                                         inputs, attrs, num_outputs)\n\u001b[0;32m     54\u001b[0m   \u001b[1;32mexcept\u001b[0m \u001b[0mcore\u001b[0m\u001b[1;33m.\u001b[0m\u001b[0m_NotOkStatusException\u001b[0m \u001b[1;32mas\u001b[0m \u001b[0me\u001b[0m\u001b[1;33m:\u001b[0m\u001b[1;33m\u001b[0m\u001b[1;33m\u001b[0m\u001b[0m\n",
      "\u001b[1;31mKeyboardInterrupt\u001b[0m: "
     ]
    }
   ],
   "source": [
    "modelo.fit(x_train, y_train, epochs=100, batch_size=16, verbose=False)"
   ]
  },
  {
   "cell_type": "code",
   "execution_count": null,
   "metadata": {},
   "outputs": [
    {
     "name": "stdout",
     "output_type": "stream",
     "text": [
      "1867/1867 [==============================] - 2s 778us/step\n"
     ]
    },
    {
     "data": {
      "image/png": "[encoded data removed]",
      "text/plain": [
       "<Figure size 432x288 with 1 Axes>"
      ]
     },
     "metadata": {},
     "output_type": "display_data"
    }
   ],
   "source": [
    "plot_regression(modelo, x_train, y_train, title=f\"Modelo Final\",xlabel=\"property_rooms\", ylabel=\"property_price\")"
   ]
  },
  {
   "cell_type": "markdown",
   "metadata": {},
   "source": [
    "### Utilizamos la variable Latidud"
   ]
  },
  {
   "cell_type": "code",
   "execution_count": 132,
   "metadata": {},
   "outputs": [],
   "source": [
    "features_normal = [\"latitud\"]\n",
    "target = [\"property_price\"]"
   ]
  },
  {
   "cell_type": "markdown",
   "metadata": {},
   "source": [
    "Separamos por variable predictora y target"
   ]
  },
  {
   "cell_type": "code",
   "execution_count": 133,
   "metadata": {},
   "outputs": [],
   "source": [
    "#train\n",
    "x_train =ds_train[features_normal]\n",
    "y_train = ds_train[target]\n",
    "\n",
    "#test\n",
    "x_test= ds_test[features_normal]\n",
    "y_test= ds_test[target]"
   ]
  },
  {
   "cell_type": "markdown",
   "metadata": {},
   "source": [
    "Creamos el modelo"
   ]
  },
  {
   "cell_type": "code",
   "execution_count": 110,
   "metadata": {},
   "outputs": [],
   "source": [
    "\"\"\"\n",
    "# Creo un modelo Red Neuronal\n",
    "d_in=1\n",
    "d_out=1\n",
    "\n",
    "modelo = keras.Sequential([\n",
    "    # input_shape solo en la primer capa\n",
    "    # Capa con 2 salidas, activación relu\n",
    "    keras.layers.Dense(5,input_shape=(d_in,), activation=\"relu\"),\n",
    "    # Capa con 2 salidas, activación tanh\n",
    "    keras.layers.Dense(5, activation=\"tanh\" ),\n",
    "    keras.layers.Dense(d_out, )])\n",
    "\"\"\""
   ]
  },
  {
   "cell_type": "markdown",
   "metadata": {},
   "source": [
    "Elegimos la metrica"
   ]
  },
  {
   "cell_type": "markdown",
   "metadata": {},
   "source": [
    "### Keras tuner busqueda de hiperparametros"
   ]
  },
  {
   "cell_type": "code",
   "execution_count": 138,
   "metadata": {},
   "outputs": [],
   "source": [
    "def compilar_modelo(modelo, hp_lr):\n",
    "  modelo.compile(\n",
    "    optimizer=keras.optimizers.SGD(learning_rate=hp_lr), \n",
    "    loss='mse', \n",
    "    # metricas para ir calculando en cada iteracion o batch \n",
    "    metrics=[tf.keras.metrics.RootMeanSquaredError()], \n",
    "  )"
   ]
  },
  {
   "cell_type": "code",
   "execution_count": 139,
   "metadata": {},
   "outputs": [],
   "source": [
    "def build_model(hp):\n",
    "  model = keras.Sequential()\n",
    "  model.add(keras.layers.Dense(\n",
    "      hp.Choice('units', [8, 16, 32]),\n",
    "      activation='relu'))\n",
    "  model.add(keras.layers.Dense(1, activation='relu'))\n",
    "  hp_learning_rate = hp.Choice('learning_rate', values=[1e-1,1e-2, 1e-3, 1e-4, 1e-5])\n",
    "  compilar_modelo(model, hp_learning_rate)\n",
    "  return model"
   ]
  },
  {
   "cell_type": "code",
   "execution_count": 140,
   "metadata": {},
   "outputs": [],
   "source": [
    "tuner = kt.RandomSearch(\n",
    "    build_model,\n",
    "    objective='val_loss',\n",
    "    max_trials=5)"
   ]
  },
  {
   "cell_type": "code",
   "execution_count": 141,
   "metadata": {},
   "outputs": [
    {
     "name": "stdout",
     "output_type": "stream",
     "text": [
      "Trial 5 Complete [00h 00m 16s]\n",
      "val_loss: 50939453440.0\n",
      "\n",
      "Best val_loss So Far: 41014673408.0\n",
      "Total elapsed time: 00h 01m 21s\n",
      "INFO:tensorflow:Oracle triggered exit\n",
      "\n",
      "The hyperparameter search is complete. The optimal number of units in the first densely-connected\n",
      "layer is 8 and the optimal learning rate for the optimizer\n",
      "is 1e-05.\n",
      "\n"
     ]
    }
   ],
   "source": [
    "tuner.search(x_train, y_train, epochs=5, validation_data=(x_train, y_train))\n",
    "#best_model = tuner.get_best_models()[0]\n",
    "best_hps=tuner.get_best_hyperparameters(num_trials=1)[0]\n",
    "\n",
    "print(f\"\"\"\n",
    "The hyperparameter search is complete. The optimal number of units in the first densely-connected\n",
    "layer is {best_hps.get('units')} and the optimal learning rate for the optimizer\n",
    "is {best_hps.get('learning_rate')}.\n",
    "\"\"\")"
   ]
  },
  {
   "cell_type": "code",
   "execution_count": 142,
   "metadata": {},
   "outputs": [
    {
     "name": "stdout",
     "output_type": "stream",
     "text": [
      "Epoch 1/50\n",
      "1494/1494 [==============================] - 2s 1ms/step - loss: 49983156224.0000 - root_mean_squared_error: 223569.1250 - val_loss: 49142562816.0000 - val_root_mean_squared_error: 221681.2188\n",
      "Epoch 2/50\n",
      "1494/1494 [==============================] - 2s 1ms/step - loss: 48201093120.0000 - root_mean_squared_error: 219547.4688 - val_loss: 47403610112.0000 - val_root_mean_squared_error: 217723.7031\n",
      "Epoch 3/50\n",
      "1494/1494 [==============================] - 2s 1ms/step - loss: 46510379008.0000 - root_mean_squared_error: 215662.6562 - val_loss: 45765545984.0000 - val_root_mean_squared_error: 213928.8281\n",
      "Epoch 4/50\n",
      "1494/1494 [==============================] - 2s 1ms/step - loss: 44917702656.0000 - root_mean_squared_error: 211937.9688 - val_loss: 44222763008.0000 - val_root_mean_squared_error: 210292.0938\n",
      "Epoch 5/50\n",
      "1494/1494 [==============================] - 2s 1ms/step - loss: 43417526272.0000 - root_mean_squared_error: 208368.7344 - val_loss: 42769358848.0000 - val_root_mean_squared_error: 206807.5469\n",
      "Epoch 6/50\n",
      "1494/1494 [==============================] - 2s 1ms/step - loss: 42004230144.0000 - root_mean_squared_error: 204949.3281 - val_loss: 41400340480.0000 - val_root_mean_squared_error: 203470.7344\n",
      "Epoch 7/50\n",
      "1494/1494 [==============================] - 2s 1ms/step - loss: 40672919552.0000 - root_mean_squared_error: 201675.2812 - val_loss: 40110759936.0000 - val_root_mean_squared_error: 200276.7031\n",
      "Epoch 8/50\n",
      "1494/1494 [==============================] - 2s 1ms/step - loss: 39418908672.0000 - root_mean_squared_error: 198541.9531 - val_loss: 38896144384.0000 - val_root_mean_squared_error: 197221.0469\n",
      "Epoch 9/50\n",
      "1494/1494 [==============================] - 2s 1ms/step - loss: 38237581312.0000 - root_mean_squared_error: 195544.3281 - val_loss: 37752123392.0000 - val_root_mean_squared_error: 194299.0625\n",
      "Epoch 10/50\n",
      "1494/1494 [==============================] - 2s 1ms/step - loss: 37124935680.0000 - root_mean_squared_error: 192678.3281 - val_loss: 36674203648.0000 - val_root_mean_squared_error: 191505.0938\n",
      "Epoch 11/50\n",
      "1494/1494 [==============================] - 2s 1ms/step - loss: 36076449792.0000 - root_mean_squared_error: 189938.0156 - val_loss: 35659010048.0000 - val_root_mean_squared_error: 188835.9375\n",
      "Epoch 12/50\n",
      "1494/1494 [==============================] - 2s 1ms/step - loss: 35088920576.0000 - root_mean_squared_error: 187320.3750 - val_loss: 34702848000.0000 - val_root_mean_squared_error: 186287.0000\n",
      "Epoch 13/50\n",
      "1494/1494 [==============================] - 2s 1ms/step - loss: 34158798848.0000 - root_mean_squared_error: 184820.9844 - val_loss: 33802143744.0000 - val_root_mean_squared_error: 183853.5938\n",
      "Epoch 14/50\n",
      "1494/1494 [==============================] - 2s 1ms/step - loss: 33282590720.0000 - root_mean_squared_error: 182435.1719 - val_loss: 32953843712.0000 - val_root_mean_squared_error: 181531.9375\n",
      "Epoch 15/50\n",
      "1494/1494 [==============================] - 2s 1ms/step - loss: 32457291776.0000 - root_mean_squared_error: 180159.0781 - val_loss: 32154777600.0000 - val_root_mean_squared_error: 179317.5312\n",
      "Epoch 16/50\n",
      "1494/1494 [==============================] - 2s 1ms/step - loss: 31679852544.0000 - root_mean_squared_error: 177988.3438 - val_loss: 31402248192.0000 - val_root_mean_squared_error: 177206.7969\n",
      "Epoch 17/50\n",
      "1494/1494 [==============================] - 2s 1ms/step - loss: 30947547136.0000 - root_mean_squared_error: 175919.1562 - val_loss: 30693314560.0000 - val_root_mean_squared_error: 175195.0781\n",
      "Epoch 18/50\n",
      "1494/1494 [==============================] - 2s 1ms/step - loss: 30257688576.0000 - root_mean_squared_error: 173947.3750 - val_loss: 30025521152.0000 - val_root_mean_squared_error: 173278.7344\n",
      "Epoch 19/50\n",
      "1494/1494 [==============================] - 2s 1ms/step - loss: 29607845888.0000 - root_mean_squared_error: 172069.3125 - val_loss: 29396625408.0000 - val_root_mean_squared_error: 171454.4375\n",
      "Epoch 20/50\n",
      "1494/1494 [==============================] - 2s 1ms/step - loss: 28995792896.0000 - root_mean_squared_error: 170281.5156 - val_loss: 28804288512.0000 - val_root_mean_squared_error: 169718.2656\n",
      "Epoch 21/50\n",
      "1494/1494 [==============================] - 2s 1ms/step - loss: 28419172352.0000 - root_mean_squared_error: 168579.8750 - val_loss: 28246228992.0000 - val_root_mean_squared_error: 168066.1406\n",
      "Epoch 22/50\n",
      "1494/1494 [==============================] - 2s 1ms/step - loss: 27876048896.0000 - root_mean_squared_error: 166961.2188 - val_loss: 27720605696.0000 - val_root_mean_squared_error: 166495.0625\n",
      "Epoch 23/50\n",
      "1494/1494 [==============================] - 2s 1ms/step - loss: 27364290560.0000 - root_mean_squared_error: 165421.5469 - val_loss: 27225489408.0000 - val_root_mean_squared_error: 165001.4844\n",
      "Epoch 24/50\n",
      "1494/1494 [==============================] - 2s 1ms/step - loss: 26882252800.0000 - root_mean_squared_error: 163958.0781 - val_loss: 26759096320.0000 - val_root_mean_squared_error: 163582.0781\n",
      "Epoch 25/50\n",
      "1494/1494 [==============================] - 2s 1ms/step - loss: 26428186624.0000 - root_mean_squared_error: 162567.4844 - val_loss: 26319960064.0000 - val_root_mean_squared_error: 162234.2812\n",
      "Epoch 26/50\n",
      "1494/1494 [==============================] - 2s 1ms/step - loss: 26000584704.0000 - root_mean_squared_error: 161246.9688 - val_loss: 25906169856.0000 - val_root_mean_squared_error: 160953.9375\n",
      "Epoch 27/50\n",
      "1494/1494 [==============================] - 2s 1ms/step - loss: 25597593600.0000 - root_mean_squared_error: 159992.4844 - val_loss: 25516408832.0000 - val_root_mean_squared_error: 159738.5625\n",
      "Epoch 28/50\n",
      "1494/1494 [==============================] - 2s 1ms/step - loss: 25217994752.0000 - root_mean_squared_error: 158801.7500 - val_loss: 25149382656.0000 - val_root_mean_squared_error: 158585.5625\n",
      "Epoch 29/50\n",
      "1494/1494 [==============================] - 2s 1ms/step - loss: 24860469248.0000 - root_mean_squared_error: 157672.0312 - val_loss: 24803627008.0000 - val_root_mean_squared_error: 157491.6719\n",
      "Epoch 30/50\n",
      "1494/1494 [==============================] - 2s 1ms/step - loss: 24523677696.0000 - root_mean_squared_error: 156600.3750 - val_loss: 24478040064.0000 - val_root_mean_squared_error: 156454.5938\n",
      "Epoch 31/50\n",
      "1494/1494 [==============================] - 2s 1ms/step - loss: 24206469120.0000 - root_mean_squared_error: 155584.2812 - val_loss: 24171294720.0000 - val_root_mean_squared_error: 155471.2031\n",
      "Epoch 32/50\n",
      "1494/1494 [==============================] - 2s 1ms/step - loss: 23907594240.0000 - root_mean_squared_error: 154620.8125 - val_loss: 23882379264.0000 - val_root_mean_squared_error: 154539.2500\n",
      "Epoch 33/50\n",
      "1494/1494 [==============================] - 2s 1ms/step - loss: 23626084352.0000 - root_mean_squared_error: 153707.7812 - val_loss: 23610212352.0000 - val_root_mean_squared_error: 153656.1562\n",
      "Epoch 34/50\n",
      "1494/1494 [==============================] - 2s 1ms/step - loss: 23360823296.0000 - root_mean_squared_error: 152842.4844 - val_loss: 23353868288.0000 - val_root_mean_squared_error: 152819.7188\n",
      "Epoch 35/50\n",
      "1494/1494 [==============================] - 2s 1ms/step - loss: 23110989824.0000 - root_mean_squared_error: 152022.9844 - val_loss: 23112470528.0000 - val_root_mean_squared_error: 152027.8594\n",
      "Epoch 36/50\n",
      "1494/1494 [==============================] - 2s 1ms/step - loss: 22875668480.0000 - root_mean_squared_error: 151247.0469 - val_loss: 22885148672.0000 - val_root_mean_squared_error: 151278.3750\n",
      "Epoch 37/50\n",
      "1494/1494 [==============================] - 2s 1ms/step - loss: 22654031872.0000 - root_mean_squared_error: 150512.5625 - val_loss: 22670942208.0000 - val_root_mean_squared_error: 150568.7344\n",
      "Epoch 38/50\n",
      "1494/1494 [==============================] - 2s 1ms/step - loss: 22445185024.0000 - root_mean_squared_error: 149817.1719 - val_loss: 22469253120.0000 - val_root_mean_squared_error: 149897.4688\n",
      "Epoch 39/50\n",
      "1494/1494 [==============================] - 2s 1ms/step - loss: 22248511488.0000 - root_mean_squared_error: 149159.3438 - val_loss: 22279331840.0000 - val_root_mean_squared_error: 149262.6250\n",
      "Epoch 40/50\n",
      "1494/1494 [==============================] - 2s 1ms/step - loss: 22063280128.0000 - root_mean_squared_error: 148537.1406 - val_loss: 22100463616.0000 - val_root_mean_squared_error: 148662.2500\n",
      "Epoch 41/50\n",
      "1494/1494 [==============================] - 2s 1ms/step - loss: 21888761856.0000 - root_mean_squared_error: 147948.5156 - val_loss: 21931976704.0000 - val_root_mean_squared_error: 148094.4844\n",
      "Epoch 42/50\n",
      "1494/1494 [==============================] - 2s 1ms/step - loss: 21724391424.0000 - root_mean_squared_error: 147391.9688 - val_loss: 21773301760.0000 - val_root_mean_squared_error: 147557.7969\n",
      "Epoch 43/50\n",
      "1494/1494 [==============================] - 2s 1ms/step - loss: 21569587200.0000 - root_mean_squared_error: 146865.8750 - val_loss: 21623844864.0000 - val_root_mean_squared_error: 147050.4844\n",
      "Epoch 44/50\n",
      "1494/1494 [==============================] - 2s 1ms/step - loss: 21423724544.0000 - root_mean_squared_error: 146368.4531 - val_loss: 21483055104.0000 - val_root_mean_squared_error: 146570.9844\n",
      "Epoch 45/50\n",
      "1494/1494 [==============================] - 2s 1ms/step - loss: 21286283264.0000 - root_mean_squared_error: 145898.1875 - val_loss: 21350410240.0000 - val_root_mean_squared_error: 146117.7969\n",
      "Epoch 46/50\n",
      "1494/1494 [==============================] - 2s 1ms/step - loss: 21156773888.0000 - root_mean_squared_error: 145453.6875 - val_loss: 21225490432.0000 - val_root_mean_squared_error: 145689.7031\n",
      "Epoch 47/50\n",
      "1494/1494 [==============================] - 2s 1ms/step - loss: 21034838016.0000 - root_mean_squared_error: 145033.9219 - val_loss: 21107838976.0000 - val_root_mean_squared_error: 145285.3750\n",
      "Epoch 48/50\n",
      "1494/1494 [==============================] - 2s 1ms/step - loss: 20919943168.0000 - root_mean_squared_error: 144637.2812 - val_loss: 20997074944.0000 - val_root_mean_squared_error: 144903.6719\n",
      "Epoch 49/50\n",
      "1494/1494 [==============================] - 2s 1ms/step - loss: 20811741184.0000 - root_mean_squared_error: 144262.7500 - val_loss: 20892727296.0000 - val_root_mean_squared_error: 144543.1719\n",
      "Epoch 50/50\n",
      "1494/1494 [==============================] - 2s 1ms/step - loss: 20709789696.0000 - root_mean_squared_error: 143908.9688 - val_loss: 20794486784.0000 - val_root_mean_squared_error: 144202.9375\n"
     ]
    }
   ],
   "source": [
    "#best_model.fit(x_train, y_train, epochs=100, batch_size=16, verbose=False)\n",
    "\n",
    "# Build the model with the optimal hyperparameters and train it on the data for 50 epochs\n",
    "best_model = tuner.hypermodel.build(best_hps)\n",
    "history = best_model.fit(x_train, y_train, epochs=50, validation_split=0.2)"
   ]
  },
  {
   "cell_type": "code",
   "execution_count": 143,
   "metadata": {},
   "outputs": [
    {
     "name": "stdout",
     "output_type": "stream",
     "text": [
      "Best epoch: 1\n"
     ]
    }
   ],
   "source": [
    "val_acc_per_epoch = history.history['root_mean_squared_error']\n",
    "best_epoch = val_acc_per_epoch.index(max(val_acc_per_epoch)) + 1\n",
    "print('Best epoch: %d' % (best_epoch,))"
   ]
  },
  {
   "cell_type": "markdown",
   "metadata": {},
   "source": [
    "sacado de:\n",
    "- https://github.com/karndeepsingh/keras_tuner_implementation/blob/main/HYPER_OPTIMIZATION_OF_DEEP_LEARNING_MODELS_USING_KERAS_TUNER_.ipynb\n",
    "- https://keras.io/keras_tuner/"
   ]
  },
  {
   "cell_type": "markdown",
   "metadata": {},
   "source": [
    "### Entrenamos el mejor modelo y lo graficamos"
   ]
  },
  {
   "cell_type": "code",
   "execution_count": 144,
   "metadata": {},
   "outputs": [
    {
     "name": "stdout",
     "output_type": "stream",
     "text": [
      "1867/1867 [==============================] - 1s 661us/step\n"
     ]
    },
    {
     "data": {
      "image/png": "[encoded data removed]",
      "text/plain": [
       "<Figure size 432x288 with 1 Axes>"
      ]
     },
     "metadata": {
      "needs_background": "light"
     },
     "output_type": "display_data"
    }
   ],
   "source": [
    "plot_regression(best_model, x_train, y_train, title=f\"Modelo Final\",xlabel=\"\", ylabel=\"property_price\")"
   ]
  },
  {
   "cell_type": "code",
   "execution_count": 145,
   "metadata": {},
   "outputs": [
    {
     "name": "stdout",
     "output_type": "stream",
     "text": [
      "508/508 [==============================] - 0s 778us/step - loss: 21232347136.0000 - root_mean_squared_error: 145713.2344\n",
      "[test loss, test accuracy]: [21232347136.0, 145713.234375]\n"
     ]
    }
   ],
   "source": [
    "eval_result = best_model.evaluate(x_test, y_test)\n",
    "print(\"[test loss, test accuracy]:\", eval_result)"
   ]
  },
  {
   "cell_type": "markdown",
   "metadata": {},
   "source": [
    "### Resultados del modelo"
   ]
  },
  {
   "cell_type": "code",
   "execution_count": 146,
   "metadata": {},
   "outputs": [
    {
     "name": "stdout",
     "output_type": "stream",
     "text": [
      "508/508 [==============================] - 0s 661us/step\n",
      "Error absoluto medio 86869.8317016564\n",
      "Error cuadrático medio 21232346865.92734\n",
      "Raiz del error cuadrático medio 145713.2350403605\n"
     ]
    }
   ],
   "source": [
    "y_pred = best_model.predict(x_test)\n",
    "\n",
    "mae=mean_absolute_error(y_test,y_pred)\n",
    "mse=mean_squared_error(y_test,y_pred)\n",
    "rmse=mean_squared_error(y_test, y_pred, squared=False) \n",
    "\n",
    "print(f\"Error absoluto medio {mae}\")\n",
    "print(f\"Error cuadrático medio {mse}\")\n",
    "print(f\"Raiz del error cuadrático medio {rmse}\")\n"
   ]
  },
  {
   "cell_type": "markdown",
   "metadata": {},
   "source": [
    "## Clasificacion"
   ]
  },
  {
   "cell_type": "markdown",
   "metadata": {},
   "source": [
    "Dataset iniciales"
   ]
  },
  {
   "cell_type": "code",
   "execution_count": 147,
   "metadata": {},
   "outputs": [
    {
     "data": {
      "text/html": [
       "<div>\n",
       "<style scoped>\n",
       "    .dataframe tbody tr th:only-of-type {\n",
       "        vertical-align: middle;\n",
       "    }\n",
       "\n",
       "    .dataframe tbody tr th {\n",
       "        vertical-align: top;\n",
       "    }\n",
       "\n",
       "    .dataframe thead th {\n",
       "        text-align: right;\n",
       "    }\n",
       "</style>\n",
       "<table border=\"1\" class=\"dataframe\">\n",
       "  <thead>\n",
       "    <tr style=\"text-align: right;\">\n",
       "      <th></th>\n",
       "      <th>latitud</th>\n",
       "      <th>longitud</th>\n",
       "      <th>property_rooms</th>\n",
       "      <th>property_bedrooms</th>\n",
       "      <th>property_surface_total</th>\n",
       "      <th>property_surface_covered</th>\n",
       "      <th>property_price</th>\n",
       "      <th>tipo_precio</th>\n",
       "      <th>property_type_Departamento</th>\n",
       "      <th>property_type_PH</th>\n",
       "    </tr>\n",
       "  </thead>\n",
       "  <tbody>\n",
       "    <tr>\n",
       "      <th>0</th>\n",
       "      <td>-34.601807</td>\n",
       "      <td>-58.469965</td>\n",
       "      <td>-0.573441</td>\n",
       "      <td>-0.904594</td>\n",
       "      <td>-0.356237</td>\n",
       "      <td>-0.417925</td>\n",
       "      <td>80000.0</td>\n",
       "      <td>bajo</td>\n",
       "      <td>1</td>\n",
       "      <td>0</td>\n",
       "    </tr>\n",
       "    <tr>\n",
       "      <th>1</th>\n",
       "      <td>-34.580088</td>\n",
       "      <td>-58.424965</td>\n",
       "      <td>-0.573441</td>\n",
       "      <td>-0.904594</td>\n",
       "      <td>-0.609345</td>\n",
       "      <td>-0.762050</td>\n",
       "      <td>79900.0</td>\n",
       "      <td>medio</td>\n",
       "      <td>1</td>\n",
       "      <td>0</td>\n",
       "    </tr>\n",
       "    <tr>\n",
       "      <th>2</th>\n",
       "      <td>-34.551481</td>\n",
       "      <td>-58.452358</td>\n",
       "      <td>-1.454585</td>\n",
       "      <td>-0.904594</td>\n",
       "      <td>-0.749961</td>\n",
       "      <td>-1.130756</td>\n",
       "      <td>69000.0</td>\n",
       "      <td>medio</td>\n",
       "      <td>1</td>\n",
       "      <td>0</td>\n",
       "    </tr>\n",
       "    <tr>\n",
       "      <th>3</th>\n",
       "      <td>-34.632290</td>\n",
       "      <td>-58.464844</td>\n",
       "      <td>2.069988</td>\n",
       "      <td>1.417020</td>\n",
       "      <td>-0.046882</td>\n",
       "      <td>0.221165</td>\n",
       "      <td>150000.0</td>\n",
       "      <td>medio</td>\n",
       "      <td>1</td>\n",
       "      <td>0</td>\n",
       "    </tr>\n",
       "    <tr>\n",
       "      <th>4</th>\n",
       "      <td>-34.549279</td>\n",
       "      <td>-58.463074</td>\n",
       "      <td>-0.573441</td>\n",
       "      <td>-0.904594</td>\n",
       "      <td>-0.454668</td>\n",
       "      <td>-0.786631</td>\n",
       "      <td>85000.0</td>\n",
       "      <td>bajo</td>\n",
       "      <td>1</td>\n",
       "      <td>0</td>\n",
       "    </tr>\n",
       "  </tbody>\n",
       "</table>\n",
       "</div>"
      ],
      "text/plain": [
       "     latitud   longitud  property_rooms  property_bedrooms  \\\n",
       "0 -34.601807 -58.469965       -0.573441          -0.904594   \n",
       "1 -34.580088 -58.424965       -0.573441          -0.904594   \n",
       "2 -34.551481 -58.452358       -1.454585          -0.904594   \n",
       "3 -34.632290 -58.464844        2.069988           1.417020   \n",
       "4 -34.549279 -58.463074       -0.573441          -0.904594   \n",
       "\n",
       "   property_surface_total  property_surface_covered  property_price  \\\n",
       "0               -0.356237                 -0.417925         80000.0   \n",
       "1               -0.609345                 -0.762050         79900.0   \n",
       "2               -0.749961                 -1.130756         69000.0   \n",
       "3               -0.046882                  0.221165        150000.0   \n",
       "4               -0.454668                 -0.786631         85000.0   \n",
       "\n",
       "  tipo_precio  property_type_Departamento  property_type_PH  \n",
       "0        bajo                           1                 0  \n",
       "1       medio                           1                 0  \n",
       "2       medio                           1                 0  \n",
       "3       medio                           1                 0  \n",
       "4        bajo                           1                 0  "
      ]
     },
     "execution_count": 147,
     "metadata": {},
     "output_type": "execute_result"
    }
   ],
   "source": [
    "ds_train.head()"
   ]
  },
  {
   "cell_type": "code",
   "execution_count": 148,
   "metadata": {},
   "outputs": [
    {
     "data": {
      "text/html": [
       "<div>\n",
       "<style scoped>\n",
       "    .dataframe tbody tr th:only-of-type {\n",
       "        vertical-align: middle;\n",
       "    }\n",
       "\n",
       "    .dataframe tbody tr th {\n",
       "        vertical-align: top;\n",
       "    }\n",
       "\n",
       "    .dataframe thead th {\n",
       "        text-align: right;\n",
       "    }\n",
       "</style>\n",
       "<table border=\"1\" class=\"dataframe\">\n",
       "  <thead>\n",
       "    <tr style=\"text-align: right;\">\n",
       "      <th></th>\n",
       "      <th>latitud</th>\n",
       "      <th>longitud</th>\n",
       "      <th>property_rooms</th>\n",
       "      <th>property_bedrooms</th>\n",
       "      <th>property_surface_total</th>\n",
       "      <th>property_surface_covered</th>\n",
       "      <th>property_price</th>\n",
       "      <th>tipo_precio</th>\n",
       "      <th>property_type_Departamento</th>\n",
       "      <th>property_type_PH</th>\n",
       "    </tr>\n",
       "  </thead>\n",
       "  <tbody>\n",
       "    <tr>\n",
       "      <th>0</th>\n",
       "      <td>-34.598679</td>\n",
       "      <td>-58.499717</td>\n",
       "      <td>-1.454585</td>\n",
       "      <td>-0.904594</td>\n",
       "      <td>-0.567160</td>\n",
       "      <td>-0.934113</td>\n",
       "      <td>85000.0</td>\n",
       "      <td>medio</td>\n",
       "      <td>1</td>\n",
       "      <td>0</td>\n",
       "    </tr>\n",
       "    <tr>\n",
       "      <th>1</th>\n",
       "      <td>-34.574987</td>\n",
       "      <td>-58.420611</td>\n",
       "      <td>-0.573441</td>\n",
       "      <td>-0.904594</td>\n",
       "      <td>1.007737</td>\n",
       "      <td>0.098263</td>\n",
       "      <td>520000.0</td>\n",
       "      <td>alto</td>\n",
       "      <td>1</td>\n",
       "      <td>0</td>\n",
       "    </tr>\n",
       "    <tr>\n",
       "      <th>2</th>\n",
       "      <td>-34.586527</td>\n",
       "      <td>-58.398279</td>\n",
       "      <td>-0.573441</td>\n",
       "      <td>-0.904594</td>\n",
       "      <td>-0.496852</td>\n",
       "      <td>-0.614568</td>\n",
       "      <td>87000.0</td>\n",
       "      <td>medio</td>\n",
       "      <td>1</td>\n",
       "      <td>0</td>\n",
       "    </tr>\n",
       "    <tr>\n",
       "      <th>3</th>\n",
       "      <td>-34.577647</td>\n",
       "      <td>-58.406064</td>\n",
       "      <td>1.188845</td>\n",
       "      <td>1.417020</td>\n",
       "      <td>0.726505</td>\n",
       "      <td>1.278121</td>\n",
       "      <td>690000.0</td>\n",
       "      <td>alto</td>\n",
       "      <td>1</td>\n",
       "      <td>0</td>\n",
       "    </tr>\n",
       "    <tr>\n",
       "      <th>4</th>\n",
       "      <td>-34.560998</td>\n",
       "      <td>-58.464248</td>\n",
       "      <td>-1.454585</td>\n",
       "      <td>-0.904594</td>\n",
       "      <td>-0.637468</td>\n",
       "      <td>-0.909533</td>\n",
       "      <td>95000.0</td>\n",
       "      <td>alto</td>\n",
       "      <td>1</td>\n",
       "      <td>0</td>\n",
       "    </tr>\n",
       "  </tbody>\n",
       "</table>\n",
       "</div>"
      ],
      "text/plain": [
       "     latitud   longitud  property_rooms  property_bedrooms  \\\n",
       "0 -34.598679 -58.499717       -1.454585          -0.904594   \n",
       "1 -34.574987 -58.420611       -0.573441          -0.904594   \n",
       "2 -34.586527 -58.398279       -0.573441          -0.904594   \n",
       "3 -34.577647 -58.406064        1.188845           1.417020   \n",
       "4 -34.560998 -58.464248       -1.454585          -0.904594   \n",
       "\n",
       "   property_surface_total  property_surface_covered  property_price  \\\n",
       "0               -0.567160                 -0.934113         85000.0   \n",
       "1                1.007737                  0.098263        520000.0   \n",
       "2               -0.496852                 -0.614568         87000.0   \n",
       "3                0.726505                  1.278121        690000.0   \n",
       "4               -0.637468                 -0.909533         95000.0   \n",
       "\n",
       "  tipo_precio  property_type_Departamento  property_type_PH  \n",
       "0       medio                           1                 0  \n",
       "1        alto                           1                 0  \n",
       "2       medio                           1                 0  \n",
       "3        alto                           1                 0  \n",
       "4        alto                           1                 0  "
      ]
     },
     "execution_count": 148,
     "metadata": {},
     "output_type": "execute_result"
    }
   ],
   "source": [
    "ds_test.head()"
   ]
  },
  {
   "cell_type": "markdown",
   "metadata": {},
   "source": [
    "Declaro variables predictoras, de target y a eliminar"
   ]
  },
  {
   "cell_type": "code",
   "execution_count": 149,
   "metadata": {},
   "outputs": [],
   "source": [
    "#Eliminamos columnas que esten relaionadas con el precio\n",
    "columnas_a_eliminar = [\"property_price\", \"property_bedrooms\", \"property_surface_total\", \"property_surface_covered\", \"property_price\", \"property_type_Departamento\", \"property_type_PH\"]\n",
    "\n",
    "#target\n",
    "target = [\"tipo_precio\"]\n",
    "\n",
    "#columnas_predictoras \n",
    "columnas_predictoras = [\"latitud\", \"longitud\", \"property_rooms\"]\n"
   ]
  },
  {
   "cell_type": "markdown",
   "metadata": {},
   "source": [
    "Preparo los dataset para entrenamiento y testeo"
   ]
  },
  {
   "cell_type": "code",
   "execution_count": 150,
   "metadata": {},
   "outputs": [],
   "source": [
    "ds_train_clas = ds_train.drop(columns=columnas_a_eliminar)\n",
    "ds_test_clas = ds_test.drop(columns=columnas_a_eliminar)\n",
    "\n",
    "#train\n",
    "x_train = ds_train_clas.drop(columns=target)\n",
    "y_train = ds_train_clas[target]\n",
    "\n",
    "#test\n",
    "x_test = ds_test_clas.drop(columns=target)\n",
    "y_test = ds_test_clas[target]"
   ]
  },
  {
   "cell_type": "markdown",
   "metadata": {},
   "source": [
    "Remplazo tipo_precio por numeros\n",
    "\n",
    "- bajo = 0\n",
    "- medio = 1\n",
    "- alto = 2"
   ]
  },
  {
   "cell_type": "code",
   "execution_count": 151,
   "metadata": {},
   "outputs": [
    {
     "name": "stderr",
     "output_type": "stream",
     "text": [
      "C:\\Users\\EQUIPO~1\\AppData\\Local\\Temp/ipykernel_6464/1025328752.py:1: SettingWithCopyWarning: \n",
      "A value is trying to be set on a copy of a slice from a DataFrame.\n",
      "Try using .loc[row_indexer,col_indexer] = value instead\n",
      "\n",
      "See the caveats in the documentation: https://pandas.pydata.org/pandas-docs/stable/user_guide/indexing.html#returning-a-view-versus-a-copy\n",
      "  y_train[\"tipo_precio\"] = y_train[\"tipo_precio\"].replace({\"bajo\": 0, \"medio\": 1, \"alto\" : 2})\n",
      "C:\\Users\\EQUIPO~1\\AppData\\Local\\Temp/ipykernel_6464/1025328752.py:2: SettingWithCopyWarning: \n",
      "A value is trying to be set on a copy of a slice from a DataFrame.\n",
      "Try using .loc[row_indexer,col_indexer] = value instead\n",
      "\n",
      "See the caveats in the documentation: https://pandas.pydata.org/pandas-docs/stable/user_guide/indexing.html#returning-a-view-versus-a-copy\n",
      "  y_test[\"tipo_precio\"] = y_test[\"tipo_precio\"].replace({\"bajo\": 0, \"medio\": 1, \"alto\" : 2})\n"
     ]
    }
   ],
   "source": [
    "y_train[\"tipo_precio\"] = y_train[\"tipo_precio\"].replace({\"bajo\": 0, \"medio\": 1, \"alto\" : 2})\n",
    "y_test[\"tipo_precio\"] = y_test[\"tipo_precio\"].replace({\"bajo\": 0, \"medio\": 1, \"alto\" : 2})"
   ]
  },
  {
   "cell_type": "code",
   "execution_count": 152,
   "metadata": {},
   "outputs": [
    {
     "data": {
      "text/html": [
       "<div>\n",
       "<style scoped>\n",
       "    .dataframe tbody tr th:only-of-type {\n",
       "        vertical-align: middle;\n",
       "    }\n",
       "\n",
       "    .dataframe tbody tr th {\n",
       "        vertical-align: top;\n",
       "    }\n",
       "\n",
       "    .dataframe thead th {\n",
       "        text-align: right;\n",
       "    }\n",
       "</style>\n",
       "<table border=\"1\" class=\"dataframe\">\n",
       "  <thead>\n",
       "    <tr style=\"text-align: right;\">\n",
       "      <th></th>\n",
       "      <th>tipo_precio</th>\n",
       "    </tr>\n",
       "  </thead>\n",
       "  <tbody>\n",
       "    <tr>\n",
       "      <th>0</th>\n",
       "      <td>0</td>\n",
       "    </tr>\n",
       "    <tr>\n",
       "      <th>1</th>\n",
       "      <td>1</td>\n",
       "    </tr>\n",
       "    <tr>\n",
       "      <th>2</th>\n",
       "      <td>1</td>\n",
       "    </tr>\n",
       "    <tr>\n",
       "      <th>3</th>\n",
       "      <td>1</td>\n",
       "    </tr>\n",
       "    <tr>\n",
       "      <th>4</th>\n",
       "      <td>0</td>\n",
       "    </tr>\n",
       "  </tbody>\n",
       "</table>\n",
       "</div>"
      ],
      "text/plain": [
       "   tipo_precio\n",
       "0            0\n",
       "1            1\n",
       "2            1\n",
       "3            1\n",
       "4            0"
      ]
     },
     "execution_count": 152,
     "metadata": {},
     "output_type": "execute_result"
    }
   ],
   "source": [
    "y_train.head()"
   ]
  },
  {
   "cell_type": "code",
   "execution_count": 153,
   "metadata": {},
   "outputs": [
    {
     "data": {
      "text/html": [
       "<div>\n",
       "<style scoped>\n",
       "    .dataframe tbody tr th:only-of-type {\n",
       "        vertical-align: middle;\n",
       "    }\n",
       "\n",
       "    .dataframe tbody tr th {\n",
       "        vertical-align: top;\n",
       "    }\n",
       "\n",
       "    .dataframe thead th {\n",
       "        text-align: right;\n",
       "    }\n",
       "</style>\n",
       "<table border=\"1\" class=\"dataframe\">\n",
       "  <thead>\n",
       "    <tr style=\"text-align: right;\">\n",
       "      <th></th>\n",
       "      <th>tipo_precio</th>\n",
       "    </tr>\n",
       "  </thead>\n",
       "  <tbody>\n",
       "    <tr>\n",
       "      <th>0</th>\n",
       "      <td>1</td>\n",
       "    </tr>\n",
       "    <tr>\n",
       "      <th>1</th>\n",
       "      <td>2</td>\n",
       "    </tr>\n",
       "    <tr>\n",
       "      <th>2</th>\n",
       "      <td>1</td>\n",
       "    </tr>\n",
       "    <tr>\n",
       "      <th>3</th>\n",
       "      <td>2</td>\n",
       "    </tr>\n",
       "    <tr>\n",
       "      <th>4</th>\n",
       "      <td>2</td>\n",
       "    </tr>\n",
       "  </tbody>\n",
       "</table>\n",
       "</div>"
      ],
      "text/plain": [
       "   tipo_precio\n",
       "0            1\n",
       "1            2\n",
       "2            1\n",
       "3            2\n",
       "4            2"
      ]
     },
     "execution_count": 153,
     "metadata": {},
     "output_type": "execute_result"
    }
   ],
   "source": [
    "y_test.head()"
   ]
  },
  {
   "cell_type": "markdown",
   "metadata": {},
   "source": [
    "### Creacion y entrenamiento del modelo"
   ]
  },
  {
   "cell_type": "code",
   "execution_count": 154,
   "metadata": {},
   "outputs": [
    {
     "name": "stdout",
     "output_type": "stream",
     "text": [
      "Model: \"sequential_2\"\n",
      "_________________________________________________________________\n",
      " Layer (type)                Output Shape              Param #   \n",
      "=================================================================\n",
      " dense_4 (Dense)             (None, 3)                 12        \n",
      "                                                                 \n",
      " dense_5 (Dense)             (None, 3)                 12        \n",
      "                                                                 \n",
      " dense_6 (Dense)             (None, 3)                 12        \n",
      "                                                                 \n",
      "=================================================================\n",
      "Total params: 36\n",
      "Trainable params: 36\n",
      "Non-trainable params: 0\n",
      "_________________________________________________________________\n"
     ]
    }
   ],
   "source": [
    "# calcula la cantidad de clases\n",
    "cant_clases=len(np.unique(y_train))\n",
    "\n",
    "d_in=len(columnas_predictoras)\n",
    "\n",
    "modelo = keras.Sequential([\n",
    "    # input_shape solo en la primer capa\n",
    "    # Capa con 3 salidas, activación relu\n",
    "    keras.layers.Dense(3,input_shape=(d_in,), activation='relu',kernel_initializer='uniform'),\n",
    "    keras.layers.Dense(3,input_shape=(d_in,), activation='relu',kernel_initializer='uniform'),\n",
    "    keras.layers.Dense(cant_clases, activation='softmax')])\n",
    "\n",
    "modelo.summary()"
   ]
  },
  {
   "cell_type": "code",
   "execution_count": 155,
   "metadata": {},
   "outputs": [
    {
     "ename": "ValueError",
     "evalue": "in user code:\n\n    File \"c:\\Users\\Equipo de fabrica\\anaconda3\\lib\\site-packages\\keras\\engine\\training.py\", line 1249, in train_function  *\n        return step_function(self, iterator)\n    File \"c:\\Users\\Equipo de fabrica\\anaconda3\\lib\\site-packages\\keras\\engine\\training.py\", line 1233, in step_function  **\n        outputs = model.distribute_strategy.run(run_step, args=(data,))\n    File \"c:\\Users\\Equipo de fabrica\\anaconda3\\lib\\site-packages\\keras\\engine\\training.py\", line 1222, in run_step  **\n        outputs = model.train_step(data)\n    File \"c:\\Users\\Equipo de fabrica\\anaconda3\\lib\\site-packages\\keras\\engine\\training.py\", line 1024, in train_step\n        loss = self.compute_loss(x, y, y_pred, sample_weight)\n    File \"c:\\Users\\Equipo de fabrica\\anaconda3\\lib\\site-packages\\keras\\engine\\training.py\", line 1082, in compute_loss\n        return self.compiled_loss(\n    File \"c:\\Users\\Equipo de fabrica\\anaconda3\\lib\\site-packages\\keras\\engine\\compile_utils.py\", line 265, in __call__\n        loss_value = loss_obj(y_t, y_p, sample_weight=sw)\n    File \"c:\\Users\\Equipo de fabrica\\anaconda3\\lib\\site-packages\\keras\\losses.py\", line 152, in __call__\n        losses = call_fn(y_true, y_pred)\n    File \"c:\\Users\\Equipo de fabrica\\anaconda3\\lib\\site-packages\\keras\\losses.py\", line 284, in call  **\n        return ag_fn(y_true, y_pred, **self._fn_kwargs)\n    File \"c:\\Users\\Equipo de fabrica\\anaconda3\\lib\\site-packages\\keras\\losses.py\", line 2004, in categorical_crossentropy\n        return backend.categorical_crossentropy(\n    File \"c:\\Users\\Equipo de fabrica\\anaconda3\\lib\\site-packages\\keras\\backend.py\", line 5532, in categorical_crossentropy\n        target.shape.assert_is_compatible_with(output.shape)\n\n    ValueError: Shapes (None, 1) and (None, 3) are incompatible\n",
     "output_type": "error",
     "traceback": [
      "\u001b[1;31m---------------------------------------------------------------------------\u001b[0m",
      "\u001b[1;31mValueError\u001b[0m                                Traceback (most recent call last)",
      "\u001b[1;32mC:\\Users\\EQUIPO~1\\AppData\\Local\\Temp/ipykernel_6464/4215486401.py\u001b[0m in \u001b[0;36m<module>\u001b[1;34m\u001b[0m\n\u001b[0;32m      8\u001b[0m \u001b[0mcant_epochs\u001b[0m\u001b[1;33m=\u001b[0m\u001b[1;36m100\u001b[0m\u001b[1;33m\u001b[0m\u001b[1;33m\u001b[0m\u001b[0m\n\u001b[0;32m      9\u001b[0m \u001b[1;33m\u001b[0m\u001b[0m\n\u001b[1;32m---> 10\u001b[1;33m \u001b[0mhistoria_modelo\u001b[0m\u001b[1;33m=\u001b[0m\u001b[0mmodelo\u001b[0m\u001b[1;33m.\u001b[0m\u001b[0mfit\u001b[0m\u001b[1;33m(\u001b[0m\u001b[0mx_train\u001b[0m\u001b[1;33m,\u001b[0m\u001b[0my_train\u001b[0m\u001b[1;33m,\u001b[0m\u001b[0mepochs\u001b[0m\u001b[1;33m=\u001b[0m\u001b[0mcant_epochs\u001b[0m\u001b[1;33m,\u001b[0m\u001b[0mbatch_size\u001b[0m\u001b[1;33m=\u001b[0m\u001b[1;36m16\u001b[0m\u001b[1;33m,\u001b[0m\u001b[0mverbose\u001b[0m\u001b[1;33m=\u001b[0m\u001b[1;32mFalse\u001b[0m\u001b[1;33m)\u001b[0m\u001b[1;33m\u001b[0m\u001b[1;33m\u001b[0m\u001b[0m\n\u001b[0m",
      "\u001b[1;32mc:\\Users\\Equipo de fabrica\\anaconda3\\lib\\site-packages\\keras\\utils\\traceback_utils.py\u001b[0m in \u001b[0;36merror_handler\u001b[1;34m(*args, **kwargs)\u001b[0m\n\u001b[0;32m     68\u001b[0m             \u001b[1;31m# To get the full stack trace, call:\u001b[0m\u001b[1;33m\u001b[0m\u001b[1;33m\u001b[0m\u001b[0m\n\u001b[0;32m     69\u001b[0m             \u001b[1;31m# `tf.debugging.disable_traceback_filtering()`\u001b[0m\u001b[1;33m\u001b[0m\u001b[1;33m\u001b[0m\u001b[0m\n\u001b[1;32m---> 70\u001b[1;33m             \u001b[1;32mraise\u001b[0m \u001b[0me\u001b[0m\u001b[1;33m.\u001b[0m\u001b[0mwith_traceback\u001b[0m\u001b[1;33m(\u001b[0m\u001b[0mfiltered_tb\u001b[0m\u001b[1;33m)\u001b[0m \u001b[1;32mfrom\u001b[0m \u001b[1;32mNone\u001b[0m\u001b[1;33m\u001b[0m\u001b[1;33m\u001b[0m\u001b[0m\n\u001b[0m\u001b[0;32m     71\u001b[0m         \u001b[1;32mfinally\u001b[0m\u001b[1;33m:\u001b[0m\u001b[1;33m\u001b[0m\u001b[1;33m\u001b[0m\u001b[0m\n\u001b[0;32m     72\u001b[0m             \u001b[1;32mdel\u001b[0m \u001b[0mfiltered_tb\u001b[0m\u001b[1;33m\u001b[0m\u001b[1;33m\u001b[0m\u001b[0m\n",
      "\u001b[1;32mc:\\Users\\Equipo de fabrica\\anaconda3\\lib\\site-packages\\keras\\engine\\training.py\u001b[0m in \u001b[0;36mtf__train_function\u001b[1;34m(iterator)\u001b[0m\n\u001b[0;32m     13\u001b[0m                 \u001b[1;32mtry\u001b[0m\u001b[1;33m:\u001b[0m\u001b[1;33m\u001b[0m\u001b[1;33m\u001b[0m\u001b[0m\n\u001b[0;32m     14\u001b[0m                     \u001b[0mdo_return\u001b[0m \u001b[1;33m=\u001b[0m \u001b[1;32mTrue\u001b[0m\u001b[1;33m\u001b[0m\u001b[1;33m\u001b[0m\u001b[0m\n\u001b[1;32m---> 15\u001b[1;33m                     \u001b[0mretval_\u001b[0m \u001b[1;33m=\u001b[0m \u001b[0mag__\u001b[0m\u001b[1;33m.\u001b[0m\u001b[0mconverted_call\u001b[0m\u001b[1;33m(\u001b[0m\u001b[0mag__\u001b[0m\u001b[1;33m.\u001b[0m\u001b[0mld\u001b[0m\u001b[1;33m(\u001b[0m\u001b[0mstep_function\u001b[0m\u001b[1;33m)\u001b[0m\u001b[1;33m,\u001b[0m \u001b[1;33m(\u001b[0m\u001b[0mag__\u001b[0m\u001b[1;33m.\u001b[0m\u001b[0mld\u001b[0m\u001b[1;33m(\u001b[0m\u001b[0mself\u001b[0m\u001b[1;33m)\u001b[0m\u001b[1;33m,\u001b[0m \u001b[0mag__\u001b[0m\u001b[1;33m.\u001b[0m\u001b[0mld\u001b[0m\u001b[1;33m(\u001b[0m\u001b[0miterator\u001b[0m\u001b[1;33m)\u001b[0m\u001b[1;33m)\u001b[0m\u001b[1;33m,\u001b[0m \u001b[1;32mNone\u001b[0m\u001b[1;33m,\u001b[0m \u001b[0mfscope\u001b[0m\u001b[1;33m)\u001b[0m\u001b[1;33m\u001b[0m\u001b[1;33m\u001b[0m\u001b[0m\n\u001b[0m\u001b[0;32m     16\u001b[0m                 \u001b[1;32mexcept\u001b[0m\u001b[1;33m:\u001b[0m\u001b[1;33m\u001b[0m\u001b[1;33m\u001b[0m\u001b[0m\n\u001b[0;32m     17\u001b[0m                     \u001b[0mdo_return\u001b[0m \u001b[1;33m=\u001b[0m \u001b[1;32mFalse\u001b[0m\u001b[1;33m\u001b[0m\u001b[1;33m\u001b[0m\u001b[0m\n",
      "\u001b[1;31mValueError\u001b[0m: in user code:\n\n    File \"c:\\Users\\Equipo de fabrica\\anaconda3\\lib\\site-packages\\keras\\engine\\training.py\", line 1249, in train_function  *\n        return step_function(self, iterator)\n    File \"c:\\Users\\Equipo de fabrica\\anaconda3\\lib\\site-packages\\keras\\engine\\training.py\", line 1233, in step_function  **\n        outputs = model.distribute_strategy.run(run_step, args=(data,))\n    File \"c:\\Users\\Equipo de fabrica\\anaconda3\\lib\\site-packages\\keras\\engine\\training.py\", line 1222, in run_step  **\n        outputs = model.train_step(data)\n    File \"c:\\Users\\Equipo de fabrica\\anaconda3\\lib\\site-packages\\keras\\engine\\training.py\", line 1024, in train_step\n        loss = self.compute_loss(x, y, y_pred, sample_weight)\n    File \"c:\\Users\\Equipo de fabrica\\anaconda3\\lib\\site-packages\\keras\\engine\\training.py\", line 1082, in compute_loss\n        return self.compiled_loss(\n    File \"c:\\Users\\Equipo de fabrica\\anaconda3\\lib\\site-packages\\keras\\engine\\compile_utils.py\", line 265, in __call__\n        loss_value = loss_obj(y_t, y_p, sample_weight=sw)\n    File \"c:\\Users\\Equipo de fabrica\\anaconda3\\lib\\site-packages\\keras\\losses.py\", line 152, in __call__\n        losses = call_fn(y_true, y_pred)\n    File \"c:\\Users\\Equipo de fabrica\\anaconda3\\lib\\site-packages\\keras\\losses.py\", line 284, in call  **\n        return ag_fn(y_true, y_pred, **self._fn_kwargs)\n    File \"c:\\Users\\Equipo de fabrica\\anaconda3\\lib\\site-packages\\keras\\losses.py\", line 2004, in categorical_crossentropy\n        return backend.categorical_crossentropy(\n    File \"c:\\Users\\Equipo de fabrica\\anaconda3\\lib\\site-packages\\keras\\backend.py\", line 5532, in categorical_crossentropy\n        target.shape.assert_is_compatible_with(output.shape)\n\n    ValueError: Shapes (None, 1) and (None, 3) are incompatible\n"
     ]
    }
   ],
   "source": [
    "modelo.compile(\n",
    "  optimizer=keras.optimizers.SGD(learning_rate=0.001), \n",
    "  loss='categorical_crossentropy', \n",
    "  # metricas para ir calculando en cada iteracion o batch \n",
    "  metrics=['AUC'], \n",
    ")\n",
    "\n",
    "cant_epochs=100\n",
    "\n",
    "historia_modelo=modelo.fit(x_train,y_train,epochs=cant_epochs,batch_size=16,verbose=False)"
   ]
  },
  {
   "cell_type": "code",
   "execution_count": null,
   "metadata": {},
   "outputs": [
    {
     "name": "stdout",
     "output_type": "stream",
     "text": [
      "508/508 [==============================] - 0s 921us/step\n",
      "  Accuracy : 0.25\n"
     ]
    },
    {
     "ename": "ValueError",
     "evalue": "Target is multiclass but average='binary'. Please choose another average setting, one of [None, 'micro', 'macro', 'weighted'].",
     "output_type": "error",
     "traceback": [
      "\u001b[1;31m---------------------------------------------------------------------------\u001b[0m",
      "\u001b[1;31mValueError\u001b[0m                                Traceback (most recent call last)",
      "\u001b[1;32mC:\\Users\\EQUIPO~1\\AppData\\Local\\Temp/ipykernel_5952/3768099448.py\u001b[0m in \u001b[0;36m<module>\u001b[1;34m\u001b[0m\n\u001b[0;32m      4\u001b[0m \u001b[1;33m\u001b[0m\u001b[0m\n\u001b[0;32m      5\u001b[0m \u001b[0mprint\u001b[0m\u001b[1;33m(\u001b[0m\u001b[1;34m\"  Accuracy : %.2f\"\u001b[0m \u001b[1;33m%\u001b[0m \u001b[0maccuracy_score\u001b[0m\u001b[1;33m(\u001b[0m\u001b[0my_test\u001b[0m\u001b[1;33m,\u001b[0m \u001b[0my_pred\u001b[0m\u001b[1;33m)\u001b[0m \u001b[1;33m)\u001b[0m\u001b[1;33m\u001b[0m\u001b[1;33m\u001b[0m\u001b[0m\n\u001b[1;32m----> 6\u001b[1;33m \u001b[0mprint\u001b[0m\u001b[1;33m(\u001b[0m\u001b[1;34m\"  Precision: %.2f\"\u001b[0m \u001b[1;33m%\u001b[0m \u001b[0mprecision_score\u001b[0m\u001b[1;33m(\u001b[0m\u001b[0my_test\u001b[0m\u001b[1;33m,\u001b[0m \u001b[0my_pred\u001b[0m\u001b[1;33m)\u001b[0m \u001b[1;33m)\u001b[0m\u001b[1;33m\u001b[0m\u001b[1;33m\u001b[0m\u001b[0m\n\u001b[0m\u001b[0;32m      7\u001b[0m \u001b[1;31m#print(\"     Recall: %.2f\" % recall_score(y_test, y_pred ))\u001b[0m\u001b[1;33m\u001b[0m\u001b[1;33m\u001b[0m\u001b[0m\n\u001b[0;32m      8\u001b[0m \u001b[1;31m#print(\"  f-measure: %.2f\" % f1_score(y_test, y_pred))\u001b[0m\u001b[1;33m\u001b[0m\u001b[1;33m\u001b[0m\u001b[0m\n",
      "\u001b[1;32mc:\\Users\\Equipo de fabrica\\anaconda3\\lib\\site-packages\\sklearn\\utils\\validation.py\u001b[0m in \u001b[0;36minner_f\u001b[1;34m(*args, **kwargs)\u001b[0m\n\u001b[0;32m     61\u001b[0m             \u001b[0mextra_args\u001b[0m \u001b[1;33m=\u001b[0m \u001b[0mlen\u001b[0m\u001b[1;33m(\u001b[0m\u001b[0margs\u001b[0m\u001b[1;33m)\u001b[0m \u001b[1;33m-\u001b[0m \u001b[0mlen\u001b[0m\u001b[1;33m(\u001b[0m\u001b[0mall_args\u001b[0m\u001b[1;33m)\u001b[0m\u001b[1;33m\u001b[0m\u001b[1;33m\u001b[0m\u001b[0m\n\u001b[0;32m     62\u001b[0m             \u001b[1;32mif\u001b[0m \u001b[0mextra_args\u001b[0m \u001b[1;33m<=\u001b[0m \u001b[1;36m0\u001b[0m\u001b[1;33m:\u001b[0m\u001b[1;33m\u001b[0m\u001b[1;33m\u001b[0m\u001b[0m\n\u001b[1;32m---> 63\u001b[1;33m                 \u001b[1;32mreturn\u001b[0m \u001b[0mf\u001b[0m\u001b[1;33m(\u001b[0m\u001b[1;33m*\u001b[0m\u001b[0margs\u001b[0m\u001b[1;33m,\u001b[0m \u001b[1;33m**\u001b[0m\u001b[0mkwargs\u001b[0m\u001b[1;33m)\u001b[0m\u001b[1;33m\u001b[0m\u001b[1;33m\u001b[0m\u001b[0m\n\u001b[0m\u001b[0;32m     64\u001b[0m \u001b[1;33m\u001b[0m\u001b[0m\n\u001b[0;32m     65\u001b[0m             \u001b[1;31m# extra_args > 0\u001b[0m\u001b[1;33m\u001b[0m\u001b[1;33m\u001b[0m\u001b[0m\n",
      "\u001b[1;32mc:\\Users\\Equipo de fabrica\\anaconda3\\lib\\site-packages\\sklearn\\metrics\\_classification.py\u001b[0m in \u001b[0;36mprecision_score\u001b[1;34m(y_true, y_pred, labels, pos_label, average, sample_weight, zero_division)\u001b[0m\n\u001b[0;32m   1654\u001b[0m \u001b[1;33m\u001b[0m\u001b[0m\n\u001b[0;32m   1655\u001b[0m     \"\"\"\n\u001b[1;32m-> 1656\u001b[1;33m     p, _, _, _ = precision_recall_fscore_support(y_true, y_pred,\n\u001b[0m\u001b[0;32m   1657\u001b[0m                                                  \u001b[0mlabels\u001b[0m\u001b[1;33m=\u001b[0m\u001b[0mlabels\u001b[0m\u001b[1;33m,\u001b[0m\u001b[1;33m\u001b[0m\u001b[1;33m\u001b[0m\u001b[0m\n\u001b[0;32m   1658\u001b[0m                                                  \u001b[0mpos_label\u001b[0m\u001b[1;33m=\u001b[0m\u001b[0mpos_label\u001b[0m\u001b[1;33m,\u001b[0m\u001b[1;33m\u001b[0m\u001b[1;33m\u001b[0m\u001b[0m\n",
      "\u001b[1;32mc:\\Users\\Equipo de fabrica\\anaconda3\\lib\\site-packages\\sklearn\\utils\\validation.py\u001b[0m in \u001b[0;36minner_f\u001b[1;34m(*args, **kwargs)\u001b[0m\n\u001b[0;32m     61\u001b[0m             \u001b[0mextra_args\u001b[0m \u001b[1;33m=\u001b[0m \u001b[0mlen\u001b[0m\u001b[1;33m(\u001b[0m\u001b[0margs\u001b[0m\u001b[1;33m)\u001b[0m \u001b[1;33m-\u001b[0m \u001b[0mlen\u001b[0m\u001b[1;33m(\u001b[0m\u001b[0mall_args\u001b[0m\u001b[1;33m)\u001b[0m\u001b[1;33m\u001b[0m\u001b[1;33m\u001b[0m\u001b[0m\n\u001b[0;32m     62\u001b[0m             \u001b[1;32mif\u001b[0m \u001b[0mextra_args\u001b[0m \u001b[1;33m<=\u001b[0m \u001b[1;36m0\u001b[0m\u001b[1;33m:\u001b[0m\u001b[1;33m\u001b[0m\u001b[1;33m\u001b[0m\u001b[0m\n\u001b[1;32m---> 63\u001b[1;33m                 \u001b[1;32mreturn\u001b[0m \u001b[0mf\u001b[0m\u001b[1;33m(\u001b[0m\u001b[1;33m*\u001b[0m\u001b[0margs\u001b[0m\u001b[1;33m,\u001b[0m \u001b[1;33m**\u001b[0m\u001b[0mkwargs\u001b[0m\u001b[1;33m)\u001b[0m\u001b[1;33m\u001b[0m\u001b[1;33m\u001b[0m\u001b[0m\n\u001b[0m\u001b[0;32m     64\u001b[0m \u001b[1;33m\u001b[0m\u001b[0m\n\u001b[0;32m     65\u001b[0m             \u001b[1;31m# extra_args > 0\u001b[0m\u001b[1;33m\u001b[0m\u001b[1;33m\u001b[0m\u001b[0m\n",
      "\u001b[1;32mc:\\Users\\Equipo de fabrica\\anaconda3\\lib\\site-packages\\sklearn\\metrics\\_classification.py\u001b[0m in \u001b[0;36mprecision_recall_fscore_support\u001b[1;34m(y_true, y_pred, beta, labels, pos_label, average, warn_for, sample_weight, zero_division)\u001b[0m\n\u001b[0;32m   1462\u001b[0m     \u001b[1;32mif\u001b[0m \u001b[0mbeta\u001b[0m \u001b[1;33m<\u001b[0m \u001b[1;36m0\u001b[0m\u001b[1;33m:\u001b[0m\u001b[1;33m\u001b[0m\u001b[1;33m\u001b[0m\u001b[0m\n\u001b[0;32m   1463\u001b[0m         \u001b[1;32mraise\u001b[0m \u001b[0mValueError\u001b[0m\u001b[1;33m(\u001b[0m\u001b[1;34m\"beta should be >=0 in the F-beta score\"\u001b[0m\u001b[1;33m)\u001b[0m\u001b[1;33m\u001b[0m\u001b[1;33m\u001b[0m\u001b[0m\n\u001b[1;32m-> 1464\u001b[1;33m     labels = _check_set_wise_labels(y_true, y_pred, average, labels,\n\u001b[0m\u001b[0;32m   1465\u001b[0m                                     pos_label)\n\u001b[0;32m   1466\u001b[0m \u001b[1;33m\u001b[0m\u001b[0m\n",
      "\u001b[1;32mc:\\Users\\Equipo de fabrica\\anaconda3\\lib\\site-packages\\sklearn\\metrics\\_classification.py\u001b[0m in \u001b[0;36m_check_set_wise_labels\u001b[1;34m(y_true, y_pred, average, labels, pos_label)\u001b[0m\n\u001b[0;32m   1292\u001b[0m             \u001b[1;32mif\u001b[0m \u001b[0my_type\u001b[0m \u001b[1;33m==\u001b[0m \u001b[1;34m'multiclass'\u001b[0m\u001b[1;33m:\u001b[0m\u001b[1;33m\u001b[0m\u001b[1;33m\u001b[0m\u001b[0m\n\u001b[0;32m   1293\u001b[0m                 \u001b[0maverage_options\u001b[0m\u001b[1;33m.\u001b[0m\u001b[0mremove\u001b[0m\u001b[1;33m(\u001b[0m\u001b[1;34m'samples'\u001b[0m\u001b[1;33m)\u001b[0m\u001b[1;33m\u001b[0m\u001b[1;33m\u001b[0m\u001b[0m\n\u001b[1;32m-> 1294\u001b[1;33m             raise ValueError(\"Target is %s but average='binary'. Please \"\n\u001b[0m\u001b[0;32m   1295\u001b[0m                              \u001b[1;34m\"choose another average setting, one of %r.\"\u001b[0m\u001b[1;33m\u001b[0m\u001b[1;33m\u001b[0m\u001b[0m\n\u001b[0;32m   1296\u001b[0m                              % (y_type, average_options))\n",
      "\u001b[1;31mValueError\u001b[0m: Target is multiclass but average='binary'. Please choose another average setting, one of [None, 'micro', 'macro', 'weighted']."
     ]
    }
   ],
   "source": [
    "y_pred = modelo.predict(x_test)\n",
    "\n",
    "y_pred = np.argmax(y_pred,axis = 1) \n",
    "\n",
    "print(\"  Accuracy : %.2f\" % accuracy_score(y_test, y_pred) )\n",
    "print(\"  Precision: %.2f\" % precision_score(y_test, y_pred) )\n",
    "#print(\"     Recall: %.2f\" % recall_score(y_test, y_pred ))\n",
    "#print(\"  f-measure: %.2f\" % f1_score(y_test, y_pred))"
   ]
  }
 ],
 "metadata": {
  "kernelspec": {
   "display_name": "Python 3.9.7 ('base')",
   "language": "python",
   "name": "python3"
  },
  "language_info": {
   "codemirror_mode": {
    "name": "ipython",
    "version": 3
   },
   "file_extension": ".py",
   "mimetype": "text/x-python",
   "name": "python",
   "nbconvert_exporter": "python",
   "pygments_lexer": "ipython3",
   "version": "3.9.7"
  },
  "orig_nbformat": 4,
  "vscode": {
   "interpreter": {
    "hash": "58a64575c8cfdef51510e9edeb704e817dc2041b90101eeff0eafbccde98456f"
   }
  }
 },
 "nbformat": 4,
 "nbformat_minor": 2
}
