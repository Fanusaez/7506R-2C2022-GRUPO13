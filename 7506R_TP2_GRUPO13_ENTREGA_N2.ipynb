{
 "cells": [
  {
   "cell_type": "markdown",
   "metadata": {},
   "source": [
    "### Importe de librerias"
   ]
  },
  {
   "cell_type": "code",
   "execution_count": 1,
   "metadata": {},
   "outputs": [
    {
     "name": "stderr",
     "output_type": "stream",
     "text": [
      "2022-12-05 13:33:54.614722: I tensorflow/core/platform/cpu_feature_guard.cc:193] This TensorFlow binary is optimized with oneAPI Deep Neural Network Library (oneDNN) to use the following CPU instructions in performance-critical operations:  AVX2 FMA\n",
      "To enable them in other operations, rebuild TensorFlow with the appropriate compiler flags.\n"
     ]
    }
   ],
   "source": [
    "import pandas as pd\n",
    "import numpy as np\n",
    "\n",
    "import matplotlib.pyplot as plt\n",
    "import seaborn as sns\n",
    "\n",
    "from sklearn.preprocessing import StandardScaler\n",
    "from sklearn.metrics import mean_absolute_error, mean_squared_error\n",
    "from sklearn.metrics import f1_score,  recall_score, precision_score, accuracy_score\n",
    "\n",
    "import tensorflow as tf\n",
    "from tensorflow import keras\n",
    "import keras_tuner as kt\n",
    "from keras.utils.vis_utils import plot_model\n",
    "\n",
    "np.random.seed(1)\n",
    "tf.random.set_seed(1)"
   ]
  },
  {
   "cell_type": "markdown",
   "metadata": {},
   "source": [
    "# Redes Neuronales"
   ]
  },
  {
   "cell_type": "markdown",
   "metadata": {},
   "source": [
    "Datasets a utilizar"
   ]
  },
  {
   "cell_type": "code",
   "execution_count": 2,
   "metadata": {},
   "outputs": [],
   "source": [
    "#datasets normales\n",
    "ds_train = pd.read_csv('properati_argentina_train.csv')\n",
    "ds_test = pd.read_csv('properati_argentina_test.csv')"
   ]
  },
  {
   "cell_type": "markdown",
   "metadata": {},
   "source": [
    "### Ingenieria de caracteristicas para datasets compelto"
   ]
  },
  {
   "cell_type": "code",
   "execution_count": 3,
   "metadata": {},
   "outputs": [
    {
     "data": {
      "text/html": [
       "<div>\n",
       "<style scoped>\n",
       "    .dataframe tbody tr th:only-of-type {\n",
       "        vertical-align: middle;\n",
       "    }\n",
       "\n",
       "    .dataframe tbody tr th {\n",
       "        vertical-align: top;\n",
       "    }\n",
       "\n",
       "    .dataframe thead th {\n",
       "        text-align: right;\n",
       "    }\n",
       "</style>\n",
       "<table border=\"1\" class=\"dataframe\">\n",
       "  <thead>\n",
       "    <tr style=\"text-align: right;\">\n",
       "      <th></th>\n",
       "      <th>Unnamed: 0</th>\n",
       "      <th>id</th>\n",
       "      <th>latitud</th>\n",
       "      <th>longitud</th>\n",
       "      <th>property_type</th>\n",
       "      <th>property_rooms</th>\n",
       "      <th>property_bedrooms</th>\n",
       "      <th>property_surface_total</th>\n",
       "      <th>property_surface_covered</th>\n",
       "      <th>property_price</th>\n",
       "      <th>precioxm2_relativo_q</th>\n",
       "    </tr>\n",
       "  </thead>\n",
       "  <tbody>\n",
       "    <tr>\n",
       "      <th>0</th>\n",
       "      <td>0</td>\n",
       "      <td>CLj2GNCsBreAzTKFXCaLIQ==</td>\n",
       "      <td>-34.601807</td>\n",
       "      <td>-58.469965</td>\n",
       "      <td>Departamento</td>\n",
       "      <td>2.0</td>\n",
       "      <td>1.0</td>\n",
       "      <td>53.0</td>\n",
       "      <td>49.0</td>\n",
       "      <td>80000.0</td>\n",
       "      <td>bajo</td>\n",
       "    </tr>\n",
       "    <tr>\n",
       "      <th>1</th>\n",
       "      <td>1</td>\n",
       "      <td>TvqKIPzzT1urYfVhh8tC7w==</td>\n",
       "      <td>-34.580088</td>\n",
       "      <td>-58.424965</td>\n",
       "      <td>Departamento</td>\n",
       "      <td>2.0</td>\n",
       "      <td>1.0</td>\n",
       "      <td>35.0</td>\n",
       "      <td>35.0</td>\n",
       "      <td>79900.0</td>\n",
       "      <td>medio</td>\n",
       "    </tr>\n",
       "    <tr>\n",
       "      <th>2</th>\n",
       "      <td>2</td>\n",
       "      <td>QRs3RUjw1RS5/WRne8ApbA==</td>\n",
       "      <td>-34.551481</td>\n",
       "      <td>-58.452358</td>\n",
       "      <td>Departamento</td>\n",
       "      <td>1.0</td>\n",
       "      <td>1.0</td>\n",
       "      <td>25.0</td>\n",
       "      <td>20.0</td>\n",
       "      <td>69000.0</td>\n",
       "      <td>medio</td>\n",
       "    </tr>\n",
       "    <tr>\n",
       "      <th>3</th>\n",
       "      <td>3</td>\n",
       "      <td>ju90QBsV36i7DCOOWCJpaA==</td>\n",
       "      <td>-34.632290</td>\n",
       "      <td>-58.464844</td>\n",
       "      <td>Departamento</td>\n",
       "      <td>5.0</td>\n",
       "      <td>3.0</td>\n",
       "      <td>75.0</td>\n",
       "      <td>75.0</td>\n",
       "      <td>150000.0</td>\n",
       "      <td>medio</td>\n",
       "    </tr>\n",
       "    <tr>\n",
       "      <th>4</th>\n",
       "      <td>4</td>\n",
       "      <td>uxD4SK3jtGbmxfIlN03UMQ==</td>\n",
       "      <td>-34.549279</td>\n",
       "      <td>-58.463074</td>\n",
       "      <td>Departamento</td>\n",
       "      <td>2.0</td>\n",
       "      <td>1.0</td>\n",
       "      <td>46.0</td>\n",
       "      <td>34.0</td>\n",
       "      <td>85000.0</td>\n",
       "      <td>bajo</td>\n",
       "    </tr>\n",
       "  </tbody>\n",
       "</table>\n",
       "</div>"
      ],
      "text/plain": [
       "   Unnamed: 0                        id    latitud   longitud property_type  \\\n",
       "0           0  CLj2GNCsBreAzTKFXCaLIQ== -34.601807 -58.469965  Departamento   \n",
       "1           1  TvqKIPzzT1urYfVhh8tC7w== -34.580088 -58.424965  Departamento   \n",
       "2           2  QRs3RUjw1RS5/WRne8ApbA== -34.551481 -58.452358  Departamento   \n",
       "3           3  ju90QBsV36i7DCOOWCJpaA== -34.632290 -58.464844  Departamento   \n",
       "4           4  uxD4SK3jtGbmxfIlN03UMQ== -34.549279 -58.463074  Departamento   \n",
       "\n",
       "   property_rooms  property_bedrooms  property_surface_total  \\\n",
       "0             2.0                1.0                    53.0   \n",
       "1             2.0                1.0                    35.0   \n",
       "2             1.0                1.0                    25.0   \n",
       "3             5.0                3.0                    75.0   \n",
       "4             2.0                1.0                    46.0   \n",
       "\n",
       "   property_surface_covered  property_price precioxm2_relativo_q  \n",
       "0                      49.0         80000.0                 bajo  \n",
       "1                      35.0         79900.0                medio  \n",
       "2                      20.0         69000.0                medio  \n",
       "3                      75.0        150000.0                medio  \n",
       "4                      34.0         85000.0                 bajo  "
      ]
     },
     "execution_count": 3,
     "metadata": {},
     "output_type": "execute_result"
    }
   ],
   "source": [
    "ds_train.head()"
   ]
  },
  {
   "cell_type": "code",
   "execution_count": 4,
   "metadata": {},
   "outputs": [],
   "source": [
    "#dropeamos Unamed:0\n",
    "ds_train.drop(columns=[\"Unnamed: 0\"], inplace=True)\n",
    "ds_test.drop(columns=[\"Unnamed: 0\"], inplace=True)\n",
    "\n",
    "#cambio nombre de columna precioxm2_relativo_q\n",
    "ds_train.rename(columns={'precioxm2_relativo_q':'tipo_precio'}, inplace=True)\n",
    "ds_test.rename(columns={'precioxm2_relativo_q':'tipo_precio'}, inplace=True)"
   ]
  },
  {
   "cell_type": "markdown",
   "metadata": {},
   "source": [
    "Aplicamos dummies a la variable property_type"
   ]
  },
  {
   "cell_type": "code",
   "execution_count": 5,
   "metadata": {},
   "outputs": [],
   "source": [
    "ds_train = pd.get_dummies(ds_train, columns=[\"property_type\"], drop_first=True)\n",
    "\n",
    "ds_test =  pd.get_dummies(ds_test, columns=[\"property_type\"], drop_first=True)"
   ]
  },
  {
   "cell_type": "code",
   "execution_count": 6,
   "metadata": {},
   "outputs": [
    {
     "data": {
      "text/plain": [
       "array(['bajo', 'medio', 'alto'], dtype=object)"
      ]
     },
     "execution_count": 6,
     "metadata": {},
     "output_type": "execute_result"
    }
   ],
   "source": [
    "ds_train['tipo_precio'].unique()"
   ]
  },
  {
   "cell_type": "markdown",
   "metadata": {},
   "source": [
    "Tengo que pasar estas clases a numeros para que funcionen con clasificacion. Hago un label encoder"
   ]
  },
  {
   "cell_type": "code",
   "execution_count": 7,
   "metadata": {},
   "outputs": [],
   "source": [
    "tipo_precio_replace = {'bajo':0, 'medio':1, 'alto':2}\n",
    "\n",
    "ds_train.loc[:, 'tipo_precio'].replace(tipo_precio_replace, inplace=True)\n",
    "ds_test.loc[:, 'tipo_precio'].replace(tipo_precio_replace, inplace=True)"
   ]
  },
  {
   "cell_type": "code",
   "execution_count": 8,
   "metadata": {},
   "outputs": [
    {
     "data": {
      "text/html": [
       "<div>\n",
       "<style scoped>\n",
       "    .dataframe tbody tr th:only-of-type {\n",
       "        vertical-align: middle;\n",
       "    }\n",
       "\n",
       "    .dataframe tbody tr th {\n",
       "        vertical-align: top;\n",
       "    }\n",
       "\n",
       "    .dataframe thead th {\n",
       "        text-align: right;\n",
       "    }\n",
       "</style>\n",
       "<table border=\"1\" class=\"dataframe\">\n",
       "  <thead>\n",
       "    <tr style=\"text-align: right;\">\n",
       "      <th></th>\n",
       "      <th>id</th>\n",
       "      <th>latitud</th>\n",
       "      <th>longitud</th>\n",
       "      <th>property_rooms</th>\n",
       "      <th>property_bedrooms</th>\n",
       "      <th>property_surface_total</th>\n",
       "      <th>property_surface_covered</th>\n",
       "      <th>property_price</th>\n",
       "      <th>tipo_precio</th>\n",
       "      <th>property_type_Departamento</th>\n",
       "      <th>property_type_PH</th>\n",
       "    </tr>\n",
       "  </thead>\n",
       "  <tbody>\n",
       "    <tr>\n",
       "      <th>0</th>\n",
       "      <td>CLj2GNCsBreAzTKFXCaLIQ==</td>\n",
       "      <td>-34.601807</td>\n",
       "      <td>-58.469965</td>\n",
       "      <td>2.0</td>\n",
       "      <td>1.0</td>\n",
       "      <td>53.0</td>\n",
       "      <td>49.0</td>\n",
       "      <td>80000.0</td>\n",
       "      <td>0</td>\n",
       "      <td>1</td>\n",
       "      <td>0</td>\n",
       "    </tr>\n",
       "    <tr>\n",
       "      <th>1</th>\n",
       "      <td>TvqKIPzzT1urYfVhh8tC7w==</td>\n",
       "      <td>-34.580088</td>\n",
       "      <td>-58.424965</td>\n",
       "      <td>2.0</td>\n",
       "      <td>1.0</td>\n",
       "      <td>35.0</td>\n",
       "      <td>35.0</td>\n",
       "      <td>79900.0</td>\n",
       "      <td>1</td>\n",
       "      <td>1</td>\n",
       "      <td>0</td>\n",
       "    </tr>\n",
       "    <tr>\n",
       "      <th>2</th>\n",
       "      <td>QRs3RUjw1RS5/WRne8ApbA==</td>\n",
       "      <td>-34.551481</td>\n",
       "      <td>-58.452358</td>\n",
       "      <td>1.0</td>\n",
       "      <td>1.0</td>\n",
       "      <td>25.0</td>\n",
       "      <td>20.0</td>\n",
       "      <td>69000.0</td>\n",
       "      <td>1</td>\n",
       "      <td>1</td>\n",
       "      <td>0</td>\n",
       "    </tr>\n",
       "    <tr>\n",
       "      <th>3</th>\n",
       "      <td>ju90QBsV36i7DCOOWCJpaA==</td>\n",
       "      <td>-34.632290</td>\n",
       "      <td>-58.464844</td>\n",
       "      <td>5.0</td>\n",
       "      <td>3.0</td>\n",
       "      <td>75.0</td>\n",
       "      <td>75.0</td>\n",
       "      <td>150000.0</td>\n",
       "      <td>1</td>\n",
       "      <td>1</td>\n",
       "      <td>0</td>\n",
       "    </tr>\n",
       "    <tr>\n",
       "      <th>4</th>\n",
       "      <td>uxD4SK3jtGbmxfIlN03UMQ==</td>\n",
       "      <td>-34.549279</td>\n",
       "      <td>-58.463074</td>\n",
       "      <td>2.0</td>\n",
       "      <td>1.0</td>\n",
       "      <td>46.0</td>\n",
       "      <td>34.0</td>\n",
       "      <td>85000.0</td>\n",
       "      <td>0</td>\n",
       "      <td>1</td>\n",
       "      <td>0</td>\n",
       "    </tr>\n",
       "  </tbody>\n",
       "</table>\n",
       "</div>"
      ],
      "text/plain": [
       "                         id    latitud   longitud  property_rooms  \\\n",
       "0  CLj2GNCsBreAzTKFXCaLIQ== -34.601807 -58.469965             2.0   \n",
       "1  TvqKIPzzT1urYfVhh8tC7w== -34.580088 -58.424965             2.0   \n",
       "2  QRs3RUjw1RS5/WRne8ApbA== -34.551481 -58.452358             1.0   \n",
       "3  ju90QBsV36i7DCOOWCJpaA== -34.632290 -58.464844             5.0   \n",
       "4  uxD4SK3jtGbmxfIlN03UMQ== -34.549279 -58.463074             2.0   \n",
       "\n",
       "   property_bedrooms  property_surface_total  property_surface_covered  \\\n",
       "0                1.0                    53.0                      49.0   \n",
       "1                1.0                    35.0                      35.0   \n",
       "2                1.0                    25.0                      20.0   \n",
       "3                3.0                    75.0                      75.0   \n",
       "4                1.0                    46.0                      34.0   \n",
       "\n",
       "   property_price  tipo_precio  property_type_Departamento  property_type_PH  \n",
       "0         80000.0            0                           1                 0  \n",
       "1         79900.0            1                           1                 0  \n",
       "2         69000.0            1                           1                 0  \n",
       "3        150000.0            1                           1                 0  \n",
       "4         85000.0            0                           1                 0  "
      ]
     },
     "execution_count": 8,
     "metadata": {},
     "output_type": "execute_result"
    }
   ],
   "source": [
    "ds_train.head()"
   ]
  },
  {
   "cell_type": "code",
   "execution_count": 9,
   "metadata": {},
   "outputs": [
    {
     "name": "stdout",
     "output_type": "stream",
     "text": [
      "<class 'pandas.core.frame.DataFrame'>\n",
      "RangeIndex: 68012 entries, 0 to 68011\n",
      "Data columns (total 11 columns):\n",
      " #   Column                      Non-Null Count  Dtype  \n",
      "---  ------                      --------------  -----  \n",
      " 0   id                          68012 non-null  object \n",
      " 1   latitud                     68012 non-null  float64\n",
      " 2   longitud                    68012 non-null  float64\n",
      " 3   property_rooms              68012 non-null  float64\n",
      " 4   property_bedrooms           68012 non-null  float64\n",
      " 5   property_surface_total      68012 non-null  float64\n",
      " 6   property_surface_covered    68012 non-null  float64\n",
      " 7   property_price              68012 non-null  float64\n",
      " 8   tipo_precio                 68012 non-null  int64  \n",
      " 9   property_type_Departamento  68012 non-null  uint8  \n",
      " 10  property_type_PH            68012 non-null  uint8  \n",
      "dtypes: float64(7), int64(1), object(1), uint8(2)\n",
      "memory usage: 4.8+ MB\n"
     ]
    }
   ],
   "source": [
    "ds_train.info()"
   ]
  },
  {
   "cell_type": "markdown",
   "metadata": {},
   "source": [
    "## Regresion"
   ]
  },
  {
   "cell_type": "markdown",
   "metadata": {},
   "source": [
    "Funcion para graficar"
   ]
  },
  {
   "cell_type": "code",
   "execution_count": 10,
   "metadata": {},
   "outputs": [],
   "source": [
    "features_regression = ['longitud', 'latitud', 'property_surface_total']\n",
    "target_regression = ['property_price']\n",
    "\n",
    "x_train_regress = ds_train.loc[:, features_regression]\n",
    "x_test_regress = ds_test.loc[:, features_regression]\n",
    "y_train_regress = ds_train.loc[:, target_regression]\n",
    "y_test_regress = ds_test.loc[:, target_regression]"
   ]
  },
  {
   "cell_type": "code",
   "execution_count": 12,
   "metadata": {},
   "outputs": [
    {
     "data": {
      "text/html": [
       "<style>#sk-container-id-1 {color: black;background-color: white;}#sk-container-id-1 pre{padding: 0;}#sk-container-id-1 div.sk-toggleable {background-color: white;}#sk-container-id-1 label.sk-toggleable__label {cursor: pointer;display: block;width: 100%;margin-bottom: 0;padding: 0.3em;box-sizing: border-box;text-align: center;}#sk-container-id-1 label.sk-toggleable__label-arrow:before {content: \"▸\";float: left;margin-right: 0.25em;color: #696969;}#sk-container-id-1 label.sk-toggleable__label-arrow:hover:before {color: black;}#sk-container-id-1 div.sk-estimator:hover label.sk-toggleable__label-arrow:before {color: black;}#sk-container-id-1 div.sk-toggleable__content {max-height: 0;max-width: 0;overflow: hidden;text-align: left;background-color: #f0f8ff;}#sk-container-id-1 div.sk-toggleable__content pre {margin: 0.2em;color: black;border-radius: 0.25em;background-color: #f0f8ff;}#sk-container-id-1 input.sk-toggleable__control:checked~div.sk-toggleable__content {max-height: 200px;max-width: 100%;overflow: auto;}#sk-container-id-1 input.sk-toggleable__control:checked~label.sk-toggleable__label-arrow:before {content: \"▾\";}#sk-container-id-1 div.sk-estimator input.sk-toggleable__control:checked~label.sk-toggleable__label {background-color: #d4ebff;}#sk-container-id-1 div.sk-label input.sk-toggleable__control:checked~label.sk-toggleable__label {background-color: #d4ebff;}#sk-container-id-1 input.sk-hidden--visually {border: 0;clip: rect(1px 1px 1px 1px);clip: rect(1px, 1px, 1px, 1px);height: 1px;margin: -1px;overflow: hidden;padding: 0;position: absolute;width: 1px;}#sk-container-id-1 div.sk-estimator {font-family: monospace;background-color: #f0f8ff;border: 1px dotted black;border-radius: 0.25em;box-sizing: border-box;margin-bottom: 0.5em;}#sk-container-id-1 div.sk-estimator:hover {background-color: #d4ebff;}#sk-container-id-1 div.sk-parallel-item::after {content: \"\";width: 100%;border-bottom: 1px solid gray;flex-grow: 1;}#sk-container-id-1 div.sk-label:hover label.sk-toggleable__label {background-color: #d4ebff;}#sk-container-id-1 div.sk-serial::before {content: \"\";position: absolute;border-left: 1px solid gray;box-sizing: border-box;top: 0;bottom: 0;left: 50%;z-index: 0;}#sk-container-id-1 div.sk-serial {display: flex;flex-direction: column;align-items: center;background-color: white;padding-right: 0.2em;padding-left: 0.2em;position: relative;}#sk-container-id-1 div.sk-item {position: relative;z-index: 1;}#sk-container-id-1 div.sk-parallel {display: flex;align-items: stretch;justify-content: center;background-color: white;position: relative;}#sk-container-id-1 div.sk-item::before, #sk-container-id-1 div.sk-parallel-item::before {content: \"\";position: absolute;border-left: 1px solid gray;box-sizing: border-box;top: 0;bottom: 0;left: 50%;z-index: -1;}#sk-container-id-1 div.sk-parallel-item {display: flex;flex-direction: column;z-index: 1;position: relative;background-color: white;}#sk-container-id-1 div.sk-parallel-item:first-child::after {align-self: flex-end;width: 50%;}#sk-container-id-1 div.sk-parallel-item:last-child::after {align-self: flex-start;width: 50%;}#sk-container-id-1 div.sk-parallel-item:only-child::after {width: 0;}#sk-container-id-1 div.sk-dashed-wrapped {border: 1px dashed gray;margin: 0 0.4em 0.5em 0.4em;box-sizing: border-box;padding-bottom: 0.4em;background-color: white;}#sk-container-id-1 div.sk-label label {font-family: monospace;font-weight: bold;display: inline-block;line-height: 1.2em;}#sk-container-id-1 div.sk-label-container {text-align: center;}#sk-container-id-1 div.sk-container {/* jupyter's `normalize.less` sets `[hidden] { display: none; }` but bootstrap.min.css set `[hidden] { display: none !important; }` so we also need the `!important` here to be able to override the default hidden behavior on the sphinx rendered scikit-learn.org. See: https://github.com/scikit-learn/scikit-learn/issues/21755 */display: inline-block !important;position: relative;}#sk-container-id-1 div.sk-text-repr-fallback {display: none;}</style><div id=\"sk-container-id-1\" class=\"sk-top-container\"><div class=\"sk-text-repr-fallback\"><pre>StandardScaler()</pre><b>In a Jupyter environment, please rerun this cell to show the HTML representation or trust the notebook. <br />On GitHub, the HTML representation is unable to render, please try loading this page with nbviewer.org.</b></div><div class=\"sk-container\" hidden><div class=\"sk-item\"><div class=\"sk-estimator sk-toggleable\"><input class=\"sk-toggleable__control sk-hidden--visually\" id=\"sk-estimator-id-1\" type=\"checkbox\" checked><label for=\"sk-estimator-id-1\" class=\"sk-toggleable__label sk-toggleable__label-arrow\">StandardScaler</label><div class=\"sk-toggleable__content\"><pre>StandardScaler()</pre></div></div></div></div></div>"
      ],
      "text/plain": [
       "StandardScaler()"
      ]
     },
     "execution_count": 12,
     "metadata": {},
     "output_type": "execute_result"
    }
   ],
   "source": [
    "sscaler = StandardScaler()\n",
    "sscaler.fit(x_train_regress)"
   ]
  },
  {
   "cell_type": "code",
   "execution_count": 13,
   "metadata": {},
   "outputs": [],
   "source": [
    "x_train_regress = sscaler.transform(x_train_regress)\n",
    "x_test_regress = sscaler.transform(x_test_regress)"
   ]
  },
  {
   "cell_type": "markdown",
   "metadata": {},
   "source": [
    "#### Modelo de regresion"
   ]
  },
  {
   "cell_type": "code",
   "execution_count": 14,
   "metadata": {},
   "outputs": [],
   "source": [
    "in_regress = len(features_regression)\n",
    "out_regress = len(target_regression)"
   ]
  },
  {
   "cell_type": "code",
   "execution_count": 26,
   "metadata": {},
   "outputs": [],
   "source": [
    "def regression_model_builder(hp):\n",
    "    max_neurons = 50\n",
    "    model = keras.Sequential()\n",
    "    model.add(keras.Input(shape=(in_regress,)))\n",
    "    \n",
    "    hp_units_1 = hp.Int('units_1', min_value=1, max_value=max_neurons, step=1)\n",
    "    hp_activation_1 = hp.Choice('activation_1', values=['tanh', 'sigmoid'])\n",
    "    model.add(keras.layers.Dense(units=hp_units_1, activation=hp_activation_1, name=\"layer1\"))\n",
    "    \n",
    "    hp_units_2 = hp.Int('units_2', min_value=1, max_value=max_neurons, step=1)\n",
    "    hp_activation_2 = hp.Choice('activation_2', values=['relu', 'tanh', 'sigmoid'])\n",
    "    model.add(keras.layers.Dense(units=hp_units_2, activation=hp_activation_2, name=\"layer2\"))\n",
    "    \n",
    "    model.add(keras.layers.Dense(units=out_regress, name=\"output\"))\n",
    "    \n",
    "    hp_learning_rate = hp.Choice('learning_rate', values=[1e-1, 1e-2, 1e-3, 1e-4, 1e-5, 1e-6])\n",
    "    model.compile(\n",
    "        optimizer=keras.optimizers.SGD(learning_rate=hp_learning_rate),\n",
    "        loss=keras.losses.MeanSquaredError(),\n",
    "        metrics=[keras.metrics.RootMeanSquaredError()]\n",
    "    )\n",
    "    \n",
    "    return model"
   ]
  },
  {
   "cell_type": "code",
   "execution_count": 27,
   "metadata": {},
   "outputs": [],
   "source": [
    "regress_tuner = kt.RandomSearch(\n",
    "    regression_model_builder,\n",
    "    objective='val_loss',\n",
    "    max_trials=20\n",
    ")"
   ]
  },
  {
   "cell_type": "code",
   "execution_count": 28,
   "metadata": {
    "scrolled": true
   },
   "outputs": [
    {
     "name": "stdout",
     "output_type": "stream",
     "text": [
      "Trial 20 Complete [00h 00m 14s]\n",
      "val_loss: 7561308672.0\n",
      "\n",
      "Best val_loss So Far: 7561308672.0\n",
      "Total elapsed time: 00h 05m 06s\n",
      "INFO:tensorflow:Oracle triggered exit\n"
     ]
    }
   ],
   "source": [
    "regress_history = regress_tuner.search(x_train_regress, y_train_regress.to_numpy(), epochs=100, batch_size=700, validation_split=0.2)"
   ]
  },
  {
   "cell_type": "code",
   "execution_count": 31,
   "metadata": {},
   "outputs": [
    {
     "name": "stdout",
     "output_type": "stream",
     "text": [
      "Hiperparametros Optimos Encontrados\n",
      "  · Neuronas primera capa:  15\n",
      "  · Activavion primera capa:  tanh\n",
      "  · Neuronas segunda capa:  8\n",
      "  · Activavion segunda capa:  relu\n",
      "  · Learning rate:  1e-06\n"
     ]
    }
   ],
   "source": [
    "best_regress_hps = regress_tuner.get_best_hyperparameters()[0]\n",
    "print(\"Hiperparametros Optimos Encontrados\")\n",
    "print(\"  · Neuronas primera capa: \", best_regress_hps.get('units_1'))\n",
    "print(\"  · Activavion primera capa: \", best_regress_hps.get('activation_1'))\n",
    "print(\"  · Neuronas segunda capa: \", best_regress_hps.get('units_2'))\n",
    "print(\"  · Activavion segunda capa: \", best_regress_hps.get('activation_2'))\n",
    "print(\"  · Learning rate: \", best_regress_hps.get('learning_rate'))"
   ]
  },
  {
   "cell_type": "code",
   "execution_count": 33,
   "metadata": {},
   "outputs": [],
   "source": [
    "regress_model = keras.Sequential(\n",
    "    [\n",
    "        keras.Input(shape=(in_regress,)),\n",
    "        keras.layers.Dense(units=15, activation='tanh', name=\"layer1\"),\n",
    "        keras.layers.Dense(units=8, activation='relu', name=\"layer2\"),\n",
    "        keras.layers.Dense(units=out_regress, name=\"output\")\n",
    "    ]\n",
    ")"
   ]
  },
  {
   "cell_type": "code",
   "execution_count": 34,
   "metadata": {},
   "outputs": [
    {
     "name": "stdout",
     "output_type": "stream",
     "text": [
      "Model: \"sequential_1\"\n",
      "_________________________________________________________________\n",
      " Layer (type)                Output Shape              Param #   \n",
      "=================================================================\n",
      " layer1 (Dense)              (None, 15)                60        \n",
      "                                                                 \n",
      " layer2 (Dense)              (None, 8)                 128       \n",
      "                                                                 \n",
      " output (Dense)              (None, 1)                 9         \n",
      "                                                                 \n",
      "=================================================================\n",
      "Total params: 197\n",
      "Trainable params: 197\n",
      "Non-trainable params: 0\n",
      "_________________________________________________________________\n"
     ]
    }
   ],
   "source": [
    "regress_model.summary()"
   ]
  },
  {
   "cell_type": "code",
   "execution_count": 35,
   "metadata": {},
   "outputs": [],
   "source": [
    "regress_model.compile(\n",
    "    optimizer=keras.optimizers.SGD(learning_rate=1e-6),\n",
    "    loss=keras.losses.MeanSquaredError(),\n",
    "    metrics=[keras.metrics.RootMeanSquaredError()]\n",
    ")"
   ]
  },
  {
   "cell_type": "code",
   "execution_count": 36,
   "metadata": {},
   "outputs": [
    {
     "name": "stdout",
     "output_type": "stream",
     "text": [
      "Epoch 1/100\n",
      "78/78 [==============================] - 1s 3ms/step - loss: 24982226944.0000 - root_mean_squared_error: 158057.6719 - val_loss: 14978891776.0000 - val_root_mean_squared_error: 122388.2812\n",
      "Epoch 2/100\n",
      "78/78 [==============================] - 0s 2ms/step - loss: 12666977280.0000 - root_mean_squared_error: 112547.6641 - val_loss: 10306050048.0000 - val_root_mean_squared_error: 101518.7188\n",
      "Epoch 3/100\n",
      "78/78 [==============================] - 0s 2ms/step - loss: 10245641216.0000 - root_mean_squared_error: 101220.7578 - val_loss: 11015341056.0000 - val_root_mean_squared_error: 104953.9922\n",
      "Epoch 4/100\n",
      "78/78 [==============================] - 0s 2ms/step - loss: 8606545920.0000 - root_mean_squared_error: 92771.4688 - val_loss: 8850996224.0000 - val_root_mean_squared_error: 94079.7344\n",
      "Epoch 5/100\n",
      "78/78 [==============================] - 0s 2ms/step - loss: 8431304704.0000 - root_mean_squared_error: 91822.1328 - val_loss: 8115366400.0000 - val_root_mean_squared_error: 90085.3203\n",
      "Epoch 6/100\n",
      "78/78 [==============================] - 0s 2ms/step - loss: 8655452160.0000 - root_mean_squared_error: 93034.6797 - val_loss: 8320810496.0000 - val_root_mean_squared_error: 91218.4766\n",
      "Epoch 7/100\n",
      "78/78 [==============================] - 0s 2ms/step - loss: 8052491776.0000 - root_mean_squared_error: 89735.6797 - val_loss: 9503428608.0000 - val_root_mean_squared_error: 97485.5312\n",
      "Epoch 8/100\n",
      "78/78 [==============================] - 0s 2ms/step - loss: 8885906432.0000 - root_mean_squared_error: 94265.0859 - val_loss: 9158173696.0000 - val_root_mean_squared_error: 95698.3438\n",
      "Epoch 9/100\n",
      "78/78 [==============================] - 0s 2ms/step - loss: 8135208448.0000 - root_mean_squared_error: 90195.3906 - val_loss: 8389189120.0000 - val_root_mean_squared_error: 91592.5156\n",
      "Epoch 10/100\n",
      "78/78 [==============================] - 0s 2ms/step - loss: 8040242176.0000 - root_mean_squared_error: 89667.3984 - val_loss: 7479847424.0000 - val_root_mean_squared_error: 86486.1094\n",
      "Epoch 11/100\n",
      "78/78 [==============================] - 0s 2ms/step - loss: 8049420800.0000 - root_mean_squared_error: 89718.5625 - val_loss: 9625645056.0000 - val_root_mean_squared_error: 98110.3750\n",
      "Epoch 12/100\n",
      "78/78 [==============================] - 0s 2ms/step - loss: 7786827264.0000 - root_mean_squared_error: 88243.0000 - val_loss: 7560880128.0000 - val_root_mean_squared_error: 86953.3203\n",
      "Epoch 13/100\n",
      "78/78 [==============================] - 0s 2ms/step - loss: 7771534848.0000 - root_mean_squared_error: 88156.3125 - val_loss: 9422271488.0000 - val_root_mean_squared_error: 97068.3750\n",
      "Epoch 14/100\n",
      "78/78 [==============================] - 0s 2ms/step - loss: 7954317312.0000 - root_mean_squared_error: 89186.9766 - val_loss: 8008043008.0000 - val_root_mean_squared_error: 89487.6719\n",
      "Epoch 15/100\n",
      "78/78 [==============================] - 0s 2ms/step - loss: 9338267648.0000 - root_mean_squared_error: 96634.7109 - val_loss: 18304405504.0000 - val_root_mean_squared_error: 135293.7812\n",
      "Epoch 16/100\n",
      "78/78 [==============================] - 0s 2ms/step - loss: 10189039616.0000 - root_mean_squared_error: 100940.7734 - val_loss: 9289925632.0000 - val_root_mean_squared_error: 96384.2578\n",
      "Epoch 17/100\n",
      "78/78 [==============================] - 0s 2ms/step - loss: 9052200960.0000 - root_mean_squared_error: 95143.0547 - val_loss: 8883020800.0000 - val_root_mean_squared_error: 94249.7812\n",
      "Epoch 18/100\n",
      "78/78 [==============================] - 0s 2ms/step - loss: 8538797056.0000 - root_mean_squared_error: 92405.6094 - val_loss: 8842603520.0000 - val_root_mean_squared_error: 94035.1172\n",
      "Epoch 19/100\n",
      "78/78 [==============================] - 0s 2ms/step - loss: 9778534400.0000 - root_mean_squared_error: 98886.4688 - val_loss: 8607756288.0000 - val_root_mean_squared_error: 92777.9922\n",
      "Epoch 20/100\n",
      "78/78 [==============================] - 0s 2ms/step - loss: 8772143104.0000 - root_mean_squared_error: 93659.7188 - val_loss: 7488052736.0000 - val_root_mean_squared_error: 86533.5391\n",
      "Epoch 21/100\n",
      "78/78 [==============================] - 0s 2ms/step - loss: 8429541376.0000 - root_mean_squared_error: 91812.5312 - val_loss: 8738728960.0000 - val_root_mean_squared_error: 93481.1719\n",
      "Epoch 22/100\n",
      "78/78 [==============================] - 0s 2ms/step - loss: 7559960576.0000 - root_mean_squared_error: 86948.0312 - val_loss: 7395958784.0000 - val_root_mean_squared_error: 85999.7578\n",
      "Epoch 23/100\n",
      "78/78 [==============================] - 0s 2ms/step - loss: 7662435840.0000 - root_mean_squared_error: 87535.3438 - val_loss: 7303046144.0000 - val_root_mean_squared_error: 85457.8594\n",
      "Epoch 24/100\n",
      "78/78 [==============================] - 0s 2ms/step - loss: 7834455040.0000 - root_mean_squared_error: 88512.4531 - val_loss: 10227715072.0000 - val_root_mean_squared_error: 101132.1641\n",
      "Epoch 25/100\n",
      "78/78 [==============================] - 0s 2ms/step - loss: 7885296640.0000 - root_mean_squared_error: 88799.1953 - val_loss: 8791945216.0000 - val_root_mean_squared_error: 93765.3750\n",
      "Epoch 26/100\n",
      "78/78 [==============================] - 0s 2ms/step - loss: 8203981312.0000 - root_mean_squared_error: 90575.8281 - val_loss: 7620050944.0000 - val_root_mean_squared_error: 87292.9062\n",
      "Epoch 27/100\n",
      "78/78 [==============================] - 0s 2ms/step - loss: 8231259648.0000 - root_mean_squared_error: 90726.2891 - val_loss: 7716336128.0000 - val_root_mean_squared_error: 87842.6797\n",
      "Epoch 28/100\n",
      "78/78 [==============================] - 0s 1ms/step - loss: 7967355904.0000 - root_mean_squared_error: 89260.0469 - val_loss: 7425818112.0000 - val_root_mean_squared_error: 86173.1875\n",
      "Epoch 29/100\n",
      "78/78 [==============================] - 0s 2ms/step - loss: 7776135168.0000 - root_mean_squared_error: 88182.3984 - val_loss: 7278653440.0000 - val_root_mean_squared_error: 85315.0234\n",
      "Epoch 30/100\n",
      "78/78 [==============================] - 0s 2ms/step - loss: 7718299648.0000 - root_mean_squared_error: 87853.8516 - val_loss: 7568271360.0000 - val_root_mean_squared_error: 86995.8125\n",
      "Epoch 31/100\n",
      "78/78 [==============================] - 0s 2ms/step - loss: 7616155648.0000 - root_mean_squared_error: 87270.5859 - val_loss: 7795999232.0000 - val_root_mean_squared_error: 88294.9531\n",
      "Epoch 32/100\n",
      "78/78 [==============================] - 0s 2ms/step - loss: 7211786752.0000 - root_mean_squared_error: 84922.2422 - val_loss: 7488441344.0000 - val_root_mean_squared_error: 86535.7812\n",
      "Epoch 33/100\n",
      "78/78 [==============================] - 0s 2ms/step - loss: 7344414720.0000 - root_mean_squared_error: 85699.5625 - val_loss: 7550918656.0000 - val_root_mean_squared_error: 86896.0234\n",
      "Epoch 34/100\n",
      "78/78 [==============================] - 0s 2ms/step - loss: 7652972544.0000 - root_mean_squared_error: 87481.2734 - val_loss: 7636172288.0000 - val_root_mean_squared_error: 87385.1953\n",
      "Epoch 35/100\n",
      "78/78 [==============================] - 0s 1ms/step - loss: 7483721728.0000 - root_mean_squared_error: 86508.5078 - val_loss: 7487748096.0000 - val_root_mean_squared_error: 86531.7734\n",
      "Epoch 36/100\n",
      "78/78 [==============================] - 0s 2ms/step - loss: 7265966592.0000 - root_mean_squared_error: 85240.6328 - val_loss: 6909353984.0000 - val_root_mean_squared_error: 83122.5234\n",
      "Epoch 37/100\n",
      "78/78 [==============================] - 0s 2ms/step - loss: 7134965248.0000 - root_mean_squared_error: 84468.7266 - val_loss: 7053103104.0000 - val_root_mean_squared_error: 83982.7578\n",
      "Epoch 38/100\n",
      "78/78 [==============================] - 0s 1ms/step - loss: 7072858112.0000 - root_mean_squared_error: 84100.2812 - val_loss: 7719847424.0000 - val_root_mean_squared_error: 87862.6641\n",
      "Epoch 39/100\n",
      "78/78 [==============================] - 0s 1ms/step - loss: 7271757312.0000 - root_mean_squared_error: 85274.6016 - val_loss: 7515777536.0000 - val_root_mean_squared_error: 86693.5859\n",
      "Epoch 40/100\n",
      "78/78 [==============================] - 0s 2ms/step - loss: 7106600960.0000 - root_mean_squared_error: 84300.6562 - val_loss: 7065643008.0000 - val_root_mean_squared_error: 84057.3828\n",
      "Epoch 41/100\n",
      "78/78 [==============================] - 0s 2ms/step - loss: 7340372992.0000 - root_mean_squared_error: 85675.9766 - val_loss: 7507716608.0000 - val_root_mean_squared_error: 86647.0781\n",
      "Epoch 42/100\n"
     ]
    },
    {
     "name": "stdout",
     "output_type": "stream",
     "text": [
      "78/78 [==============================] - 0s 2ms/step - loss: 7205652480.0000 - root_mean_squared_error: 84886.1172 - val_loss: 7624559104.0000 - val_root_mean_squared_error: 87318.7188\n",
      "Epoch 43/100\n",
      "78/78 [==============================] - 0s 2ms/step - loss: 7395918848.0000 - root_mean_squared_error: 85999.5312 - val_loss: 7220108800.0000 - val_root_mean_squared_error: 84971.2266\n",
      "Epoch 44/100\n",
      "78/78 [==============================] - 0s 2ms/step - loss: 7301633024.0000 - root_mean_squared_error: 85449.5938 - val_loss: 7847989760.0000 - val_root_mean_squared_error: 88588.8828\n",
      "Epoch 45/100\n",
      "78/78 [==============================] - 0s 2ms/step - loss: 7137904640.0000 - root_mean_squared_error: 84486.1172 - val_loss: 7217951744.0000 - val_root_mean_squared_error: 84958.5312\n",
      "Epoch 46/100\n",
      "78/78 [==============================] - 0s 2ms/step - loss: 7404760064.0000 - root_mean_squared_error: 86050.9141 - val_loss: 7986834432.0000 - val_root_mean_squared_error: 89369.0938\n",
      "Epoch 47/100\n",
      "78/78 [==============================] - 0s 2ms/step - loss: 8095186432.0000 - root_mean_squared_error: 89973.2578 - val_loss: 8000336896.0000 - val_root_mean_squared_error: 89444.6016\n",
      "Epoch 48/100\n",
      "78/78 [==============================] - 0s 2ms/step - loss: 9147675648.0000 - root_mean_squared_error: 95643.4844 - val_loss: 8401140736.0000 - val_root_mean_squared_error: 91657.7422\n",
      "Epoch 49/100\n",
      "78/78 [==============================] - 0s 2ms/step - loss: 7383130624.0000 - root_mean_squared_error: 85925.1484 - val_loss: 7630278144.0000 - val_root_mean_squared_error: 87351.4609\n",
      "Epoch 50/100\n",
      "78/78 [==============================] - 0s 1ms/step - loss: 7218498048.0000 - root_mean_squared_error: 84961.7422 - val_loss: 7479577600.0000 - val_root_mean_squared_error: 86484.5547\n",
      "Epoch 51/100\n",
      "78/78 [==============================] - 0s 1ms/step - loss: 7508638208.0000 - root_mean_squared_error: 86652.3984 - val_loss: 7283393536.0000 - val_root_mean_squared_error: 85342.7969\n",
      "Epoch 52/100\n",
      "78/78 [==============================] - 0s 2ms/step - loss: 7191699968.0000 - root_mean_squared_error: 84803.8906 - val_loss: 7904872960.0000 - val_root_mean_squared_error: 88909.3516\n",
      "Epoch 53/100\n",
      "78/78 [==============================] - 0s 2ms/step - loss: 7313356288.0000 - root_mean_squared_error: 85518.1641 - val_loss: 7691582464.0000 - val_root_mean_squared_error: 87701.6641\n",
      "Epoch 54/100\n",
      "78/78 [==============================] - 0s 2ms/step - loss: 8948896768.0000 - root_mean_squared_error: 94598.6094 - val_loss: 12792226816.0000 - val_root_mean_squared_error: 113102.7266\n",
      "Epoch 55/100\n",
      "78/78 [==============================] - 0s 2ms/step - loss: 9419410432.0000 - root_mean_squared_error: 97053.6484 - val_loss: 8413343232.0000 - val_root_mean_squared_error: 91724.2812\n",
      "Epoch 56/100\n",
      "78/78 [==============================] - 0s 2ms/step - loss: 9474390016.0000 - root_mean_squared_error: 97336.4766 - val_loss: 14517376000.0000 - val_root_mean_squared_error: 120488.0703\n",
      "Epoch 57/100\n",
      "78/78 [==============================] - 0s 2ms/step - loss: 9055563776.0000 - root_mean_squared_error: 95160.7266 - val_loss: 9728271360.0000 - val_root_mean_squared_error: 98632.0000\n",
      "Epoch 58/100\n",
      "78/78 [==============================] - 0s 2ms/step - loss: 8865460224.0000 - root_mean_squared_error: 94156.5703 - val_loss: 8032762880.0000 - val_root_mean_squared_error: 89625.6797\n",
      "Epoch 59/100\n",
      "78/78 [==============================] - 0s 2ms/step - loss: 8054132224.0000 - root_mean_squared_error: 89744.8203 - val_loss: 8528734208.0000 - val_root_mean_squared_error: 92351.1484\n",
      "Epoch 60/100\n",
      "78/78 [==============================] - 0s 2ms/step - loss: 7651547648.0000 - root_mean_squared_error: 87473.1250 - val_loss: 7533084160.0000 - val_root_mean_squared_error: 86793.3438\n",
      "Epoch 61/100\n",
      "78/78 [==============================] - 0s 2ms/step - loss: 7482994688.0000 - root_mean_squared_error: 86504.3047 - val_loss: 7551007232.0000 - val_root_mean_squared_error: 86896.5312\n",
      "Epoch 62/100\n",
      "78/78 [==============================] - 0s 2ms/step - loss: 7400976384.0000 - root_mean_squared_error: 86028.9297 - val_loss: 7471694848.0000 - val_root_mean_squared_error: 86438.9688\n",
      "Epoch 63/100\n",
      "78/78 [==============================] - 0s 2ms/step - loss: 7603062272.0000 - root_mean_squared_error: 87195.5391 - val_loss: 7686939136.0000 - val_root_mean_squared_error: 87675.1875\n",
      "Epoch 64/100\n",
      "78/78 [==============================] - 0s 2ms/step - loss: 7787526656.0000 - root_mean_squared_error: 88246.9609 - val_loss: 7638492160.0000 - val_root_mean_squared_error: 87398.4688\n",
      "Epoch 65/100\n",
      "78/78 [==============================] - 0s 2ms/step - loss: 8078546432.0000 - root_mean_squared_error: 89880.7344 - val_loss: 7887733760.0000 - val_root_mean_squared_error: 88812.9141\n",
      "Epoch 66/100\n",
      "78/78 [==============================] - 0s 2ms/step - loss: 7458837504.0000 - root_mean_squared_error: 86364.5625 - val_loss: 7526033408.0000 - val_root_mean_squared_error: 86752.7109\n",
      "Epoch 67/100\n",
      "78/78 [==============================] - 0s 2ms/step - loss: 7789896192.0000 - root_mean_squared_error: 88260.3906 - val_loss: 8343789568.0000 - val_root_mean_squared_error: 91344.3438\n",
      "Epoch 68/100\n",
      "78/78 [==============================] - 0s 1ms/step - loss: 8197947904.0000 - root_mean_squared_error: 90542.5234 - val_loss: 7864817152.0000 - val_root_mean_squared_error: 88683.8047\n",
      "Epoch 69/100\n",
      "78/78 [==============================] - 0s 2ms/step - loss: 7810352128.0000 - root_mean_squared_error: 88376.1953 - val_loss: 7617961984.0000 - val_root_mean_squared_error: 87280.9375\n",
      "Epoch 70/100\n",
      "78/78 [==============================] - 0s 2ms/step - loss: 7756057600.0000 - root_mean_squared_error: 88068.4844 - val_loss: 8404473344.0000 - val_root_mean_squared_error: 91675.9141\n",
      "Epoch 71/100\n",
      "78/78 [==============================] - 0s 2ms/step - loss: 7585443328.0000 - root_mean_squared_error: 87094.4531 - val_loss: 8706387968.0000 - val_root_mean_squared_error: 93308.0312\n",
      "Epoch 72/100\n",
      "78/78 [==============================] - 0s 2ms/step - loss: 8019669504.0000 - root_mean_squared_error: 89552.6094 - val_loss: 7899416576.0000 - val_root_mean_squared_error: 88878.6641\n",
      "Epoch 73/100\n",
      "78/78 [==============================] - 0s 2ms/step - loss: 7806559744.0000 - root_mean_squared_error: 88354.7344 - val_loss: 7797013504.0000 - val_root_mean_squared_error: 88300.7031\n",
      "Epoch 74/100\n",
      "78/78 [==============================] - 0s 2ms/step - loss: 7573166592.0000 - root_mean_squared_error: 87023.9453 - val_loss: 7749644800.0000 - val_root_mean_squared_error: 88032.0703\n",
      "Epoch 75/100\n",
      "78/78 [==============================] - 0s 2ms/step - loss: 7445078016.0000 - root_mean_squared_error: 86284.8672 - val_loss: 7556796928.0000 - val_root_mean_squared_error: 86929.8359\n",
      "Epoch 76/100\n",
      "78/78 [==============================] - 0s 1ms/step - loss: 7513132032.0000 - root_mean_squared_error: 86678.3281 - val_loss: 7904713216.0000 - val_root_mean_squared_error: 88908.4531\n",
      "Epoch 77/100\n",
      "78/78 [==============================] - 0s 1ms/step - loss: 7503294976.0000 - root_mean_squared_error: 86621.5625 - val_loss: 7662127104.0000 - val_root_mean_squared_error: 87533.5781\n",
      "Epoch 78/100\n",
      "78/78 [==============================] - 0s 2ms/step - loss: 7416706048.0000 - root_mean_squared_error: 86120.2969 - val_loss: 7624957440.0000 - val_root_mean_squared_error: 87321.0000\n",
      "Epoch 79/100\n",
      "78/78 [==============================] - 0s 2ms/step - loss: 7590522880.0000 - root_mean_squared_error: 87123.6094 - val_loss: 7536148992.0000 - val_root_mean_squared_error: 86810.9922\n",
      "Epoch 80/100\n",
      "78/78 [==============================] - 0s 2ms/step - loss: 7638138880.0000 - root_mean_squared_error: 87396.4453 - val_loss: 7751208448.0000 - val_root_mean_squared_error: 88040.9453\n",
      "Epoch 81/100\n",
      "78/78 [==============================] - 0s 2ms/step - loss: 7624919040.0000 - root_mean_squared_error: 87320.7891 - val_loss: 7793177600.0000 - val_root_mean_squared_error: 88278.9766\n",
      "Epoch 82/100\n",
      "78/78 [==============================] - 0s 2ms/step - loss: 7986653696.0000 - root_mean_squared_error: 89368.0781 - val_loss: 7821404672.0000 - val_root_mean_squared_error: 88438.7031\n",
      "Epoch 83/100\n"
     ]
    },
    {
     "name": "stdout",
     "output_type": "stream",
     "text": [
      "78/78 [==============================] - 0s 2ms/step - loss: 8093328896.0000 - root_mean_squared_error: 89962.9297 - val_loss: 7829528064.0000 - val_root_mean_squared_error: 88484.6172\n",
      "Epoch 84/100\n",
      "78/78 [==============================] - 0s 2ms/step - loss: 7625553408.0000 - root_mean_squared_error: 87324.4141 - val_loss: 7659168256.0000 - val_root_mean_squared_error: 87516.6719\n",
      "Epoch 85/100\n",
      "78/78 [==============================] - 0s 1ms/step - loss: 7725963264.0000 - root_mean_squared_error: 87897.4609 - val_loss: 8998870016.0000 - val_root_mean_squared_error: 94862.3750\n",
      "Epoch 86/100\n",
      "78/78 [==============================] - 0s 2ms/step - loss: 7924033536.0000 - root_mean_squared_error: 89017.0391 - val_loss: 7566609920.0000 - val_root_mean_squared_error: 86986.2656\n",
      "Epoch 87/100\n",
      "78/78 [==============================] - 0s 2ms/step - loss: 7385850880.0000 - root_mean_squared_error: 85940.9766 - val_loss: 7798422016.0000 - val_root_mean_squared_error: 88308.6719\n",
      "Epoch 88/100\n",
      "78/78 [==============================] - 0s 2ms/step - loss: 7480137728.0000 - root_mean_squared_error: 86487.7891 - val_loss: 8459852800.0000 - val_root_mean_squared_error: 91977.4609\n",
      "Epoch 89/100\n",
      "78/78 [==============================] - 0s 1ms/step - loss: 7649300480.0000 - root_mean_squared_error: 87460.2812 - val_loss: 7632242688.0000 - val_root_mean_squared_error: 87362.7109\n",
      "Epoch 90/100\n",
      "78/78 [==============================] - 0s 2ms/step - loss: 7290149888.0000 - root_mean_squared_error: 85382.3750 - val_loss: 7336418816.0000 - val_root_mean_squared_error: 85652.8984\n",
      "Epoch 91/100\n",
      "78/78 [==============================] - 0s 1ms/step - loss: 7326195200.0000 - root_mean_squared_error: 85593.1953 - val_loss: 7563290112.0000 - val_root_mean_squared_error: 86967.1797\n",
      "Epoch 92/100\n",
      "78/78 [==============================] - 0s 2ms/step - loss: 7172288000.0000 - root_mean_squared_error: 84689.3594 - val_loss: 7442569216.0000 - val_root_mean_squared_error: 86270.3281\n",
      "Epoch 93/100\n",
      "78/78 [==============================] - 0s 2ms/step - loss: 7168716288.0000 - root_mean_squared_error: 84668.2656 - val_loss: 7234479104.0000 - val_root_mean_squared_error: 85055.7422\n",
      "Epoch 94/100\n",
      "78/78 [==============================] - 0s 1ms/step - loss: 7456975360.0000 - root_mean_squared_error: 86353.7812 - val_loss: 7659841536.0000 - val_root_mean_squared_error: 87520.5234\n",
      "Epoch 95/100\n",
      "78/78 [==============================] - 0s 1ms/step - loss: 7397552640.0000 - root_mean_squared_error: 86009.0234 - val_loss: 7321421824.0000 - val_root_mean_squared_error: 85565.3047\n",
      "Epoch 96/100\n",
      "78/78 [==============================] - 0s 1ms/step - loss: 7545740288.0000 - root_mean_squared_error: 86866.2188 - val_loss: 7427847680.0000 - val_root_mean_squared_error: 86184.9609\n",
      "Epoch 97/100\n",
      "78/78 [==============================] - 0s 2ms/step - loss: 7436386304.0000 - root_mean_squared_error: 86234.4844 - val_loss: 7551629312.0000 - val_root_mean_squared_error: 86900.1094\n",
      "Epoch 98/100\n",
      "78/78 [==============================] - 0s 1ms/step - loss: 7557078528.0000 - root_mean_squared_error: 86931.4609 - val_loss: 8042564608.0000 - val_root_mean_squared_error: 89680.3438\n",
      "Epoch 99/100\n",
      "78/78 [==============================] - 0s 2ms/step - loss: 7754601984.0000 - root_mean_squared_error: 88060.2188 - val_loss: 7773229056.0000 - val_root_mean_squared_error: 88165.9141\n",
      "Epoch 100/100\n",
      "78/78 [==============================] - 0s 2ms/step - loss: 7573792768.0000 - root_mean_squared_error: 87027.5391 - val_loss: 7534059008.0000 - val_root_mean_squared_error: 86798.9609\n"
     ]
    },
    {
     "data": {
      "text/plain": [
       "<keras.callbacks.History at 0x7f035eb89c00>"
      ]
     },
     "execution_count": 36,
     "metadata": {},
     "output_type": "execute_result"
    }
   ],
   "source": [
    "regress_model.fit(x_train_regress, y_train_regress.to_numpy(), epochs=100, batch_size=700, validation_split=0.2)"
   ]
  },
  {
   "cell_type": "code",
   "execution_count": 37,
   "metadata": {},
   "outputs": [
    {
     "name": "stdout",
     "output_type": "stream",
     "text": [
      "532/532 [==============================] - 0s 723us/step\n"
     ]
    }
   ],
   "source": [
    "y_pred_regress = regress_model.predict(x_test_regress)"
   ]
  },
  {
   "cell_type": "code",
   "execution_count": 38,
   "metadata": {},
   "outputs": [
    {
     "name": "stdout",
     "output_type": "stream",
     "text": [
      "La raiz del error cuadratico medio del test es: 81,477.49\n"
     ]
    }
   ],
   "source": [
    "regress_rmse = mean_squared_error(\n",
    "        y_true  = y_test_regress,\n",
    "        y_pred  = y_pred_regress,\n",
    "        squared = False\n",
    "       )\n",
    "\n",
    "print(f\"La raiz del error cuadratico medio del test es: {regress_rmse:,.2f}\")"
   ]
  },
  {
   "cell_type": "markdown",
   "metadata": {},
   "source": [
    "Pareciera que la red se aprendio el promedio y siempre predice eso."
   ]
  },
  {
   "cell_type": "code",
   "execution_count": 42,
   "metadata": {},
   "outputs": [
    {
     "data": {
      "image/png": "[encoded data removed]",
      "text/plain": [
       "<Figure size 640x480 with 1 Axes>"
      ]
     },
     "metadata": {},
     "output_type": "display_data"
    }
   ],
   "source": [
    "plt.grid(True)\n",
    "sns.kdeplot(data=y_test_regress, label='Real data')\n",
    "sns.kdeplot(data=y_pred_regress, label='Predictions')\n",
    "plt.title(\"Distribucion del precio de las propiedades\")\n",
    "plt.legend()\n",
    "plt.show()\n",
    "# me salen los 2 graficos con el mismo color"
   ]
  },
  {
   "cell_type": "markdown",
   "metadata": {},
   "source": [
    "Referencias:\n",
    "- https://github.com/karndeepsingh/keras_tuner_implementation/blob/main/HYPER_OPTIMIZATION_OF_DEEP_LEARNING_MODELS_USING_KERAS_TUNER_.ipynb\n",
    "- https://keras.io/keras_tuner/\n",
    "- https://www.tensorflow.org/tutorials/keras/keras_tuner"
   ]
  },
  {
   "cell_type": "markdown",
   "metadata": {},
   "source": [
    "## Clasificacion"
   ]
  },
  {
   "cell_type": "code",
   "execution_count": 9,
   "metadata": {},
   "outputs": [
    {
     "data": {
      "text/plain": [
       "Index(['id', 'latitud', 'longitud', 'property_rooms', 'property_bedrooms',\n",
       "       'property_surface_total', 'property_surface_covered', 'property_price',\n",
       "       'tipo_precio', 'property_type_Departamento', 'property_type_PH'],\n",
       "      dtype='object')"
      ]
     },
     "execution_count": 9,
     "metadata": {},
     "output_type": "execute_result"
    }
   ],
   "source": [
    "ds_train.columns"
   ]
  },
  {
   "cell_type": "code",
   "execution_count": 36,
   "metadata": {},
   "outputs": [],
   "source": [
    "features_classification = ['longitud', 'latitud', 'property_rooms', 'property_bedrooms',\n",
    "                           'property_surface_total', 'property_surface_covered',\n",
    "                           'property_type_Departamento', 'property_type_PH']\n",
    "target_classification = 'tipo_precio'\n",
    "\n",
    "x_train_class = ds_train.loc[:, features_classification]\n",
    "x_test_class = ds_test.loc[:, features_classification]\n",
    "y_train_class = ds_train.loc[:, target_classification]\n",
    "y_test_class = ds_test.loc[:, target_classification]"
   ]
  },
  {
   "cell_type": "code",
   "execution_count": 37,
   "metadata": {},
   "outputs": [
    {
     "data": {
      "text/html": [
       "<style>#sk-container-id-3 {color: black;background-color: white;}#sk-container-id-3 pre{padding: 0;}#sk-container-id-3 div.sk-toggleable {background-color: white;}#sk-container-id-3 label.sk-toggleable__label {cursor: pointer;display: block;width: 100%;margin-bottom: 0;padding: 0.3em;box-sizing: border-box;text-align: center;}#sk-container-id-3 label.sk-toggleable__label-arrow:before {content: \"▸\";float: left;margin-right: 0.25em;color: #696969;}#sk-container-id-3 label.sk-toggleable__label-arrow:hover:before {color: black;}#sk-container-id-3 div.sk-estimator:hover label.sk-toggleable__label-arrow:before {color: black;}#sk-container-id-3 div.sk-toggleable__content {max-height: 0;max-width: 0;overflow: hidden;text-align: left;background-color: #f0f8ff;}#sk-container-id-3 div.sk-toggleable__content pre {margin: 0.2em;color: black;border-radius: 0.25em;background-color: #f0f8ff;}#sk-container-id-3 input.sk-toggleable__control:checked~div.sk-toggleable__content {max-height: 200px;max-width: 100%;overflow: auto;}#sk-container-id-3 input.sk-toggleable__control:checked~label.sk-toggleable__label-arrow:before {content: \"▾\";}#sk-container-id-3 div.sk-estimator input.sk-toggleable__control:checked~label.sk-toggleable__label {background-color: #d4ebff;}#sk-container-id-3 div.sk-label input.sk-toggleable__control:checked~label.sk-toggleable__label {background-color: #d4ebff;}#sk-container-id-3 input.sk-hidden--visually {border: 0;clip: rect(1px 1px 1px 1px);clip: rect(1px, 1px, 1px, 1px);height: 1px;margin: -1px;overflow: hidden;padding: 0;position: absolute;width: 1px;}#sk-container-id-3 div.sk-estimator {font-family: monospace;background-color: #f0f8ff;border: 1px dotted black;border-radius: 0.25em;box-sizing: border-box;margin-bottom: 0.5em;}#sk-container-id-3 div.sk-estimator:hover {background-color: #d4ebff;}#sk-container-id-3 div.sk-parallel-item::after {content: \"\";width: 100%;border-bottom: 1px solid gray;flex-grow: 1;}#sk-container-id-3 div.sk-label:hover label.sk-toggleable__label {background-color: #d4ebff;}#sk-container-id-3 div.sk-serial::before {content: \"\";position: absolute;border-left: 1px solid gray;box-sizing: border-box;top: 0;bottom: 0;left: 50%;z-index: 0;}#sk-container-id-3 div.sk-serial {display: flex;flex-direction: column;align-items: center;background-color: white;padding-right: 0.2em;padding-left: 0.2em;position: relative;}#sk-container-id-3 div.sk-item {position: relative;z-index: 1;}#sk-container-id-3 div.sk-parallel {display: flex;align-items: stretch;justify-content: center;background-color: white;position: relative;}#sk-container-id-3 div.sk-item::before, #sk-container-id-3 div.sk-parallel-item::before {content: \"\";position: absolute;border-left: 1px solid gray;box-sizing: border-box;top: 0;bottom: 0;left: 50%;z-index: -1;}#sk-container-id-3 div.sk-parallel-item {display: flex;flex-direction: column;z-index: 1;position: relative;background-color: white;}#sk-container-id-3 div.sk-parallel-item:first-child::after {align-self: flex-end;width: 50%;}#sk-container-id-3 div.sk-parallel-item:last-child::after {align-self: flex-start;width: 50%;}#sk-container-id-3 div.sk-parallel-item:only-child::after {width: 0;}#sk-container-id-3 div.sk-dashed-wrapped {border: 1px dashed gray;margin: 0 0.4em 0.5em 0.4em;box-sizing: border-box;padding-bottom: 0.4em;background-color: white;}#sk-container-id-3 div.sk-label label {font-family: monospace;font-weight: bold;display: inline-block;line-height: 1.2em;}#sk-container-id-3 div.sk-label-container {text-align: center;}#sk-container-id-3 div.sk-container {/* jupyter's `normalize.less` sets `[hidden] { display: none; }` but bootstrap.min.css set `[hidden] { display: none !important; }` so we also need the `!important` here to be able to override the default hidden behavior on the sphinx rendered scikit-learn.org. See: https://github.com/scikit-learn/scikit-learn/issues/21755 */display: inline-block !important;position: relative;}#sk-container-id-3 div.sk-text-repr-fallback {display: none;}</style><div id=\"sk-container-id-3\" class=\"sk-top-container\"><div class=\"sk-text-repr-fallback\"><pre>StandardScaler()</pre><b>In a Jupyter environment, please rerun this cell to show the HTML representation or trust the notebook. <br />On GitHub, the HTML representation is unable to render, please try loading this page with nbviewer.org.</b></div><div class=\"sk-container\" hidden><div class=\"sk-item\"><div class=\"sk-estimator sk-toggleable\"><input class=\"sk-toggleable__control sk-hidden--visually\" id=\"sk-estimator-id-3\" type=\"checkbox\" checked><label for=\"sk-estimator-id-3\" class=\"sk-toggleable__label sk-toggleable__label-arrow\">StandardScaler</label><div class=\"sk-toggleable__content\"><pre>StandardScaler()</pre></div></div></div></div></div>"
      ],
      "text/plain": [
       "StandardScaler()"
      ]
     },
     "execution_count": 37,
     "metadata": {},
     "output_type": "execute_result"
    }
   ],
   "source": [
    "numeric_features = ['longitud', 'latitud', 'property_rooms', 'property_bedrooms',\n",
    "                    'property_surface_total', 'property_surface_covered']\n",
    "\n",
    "sscaler = StandardScaler()\n",
    "sscaler.fit(x_train_class.loc[:, numeric_features])"
   ]
  },
  {
   "cell_type": "code",
   "execution_count": 38,
   "metadata": {},
   "outputs": [],
   "source": [
    "x_train_class.loc[:, numeric_features] = sscaler.transform(x_train_class.loc[:, numeric_features])\n",
    "x_test_class.loc[:, numeric_features] = sscaler.transform(x_test_class.loc[:, numeric_features])"
   ]
  },
  {
   "cell_type": "markdown",
   "metadata": {},
   "source": [
    "#### Modelo de clasificacion"
   ]
  },
  {
   "cell_type": "code",
   "execution_count": 39,
   "metadata": {},
   "outputs": [],
   "source": [
    "d_in = len(features_classification)\n",
    "d_out = len(y_train_class.unique())"
   ]
  },
  {
   "cell_type": "code",
   "execution_count": 46,
   "metadata": {},
   "outputs": [],
   "source": [
    "def classification_model_builder(hp):\n",
    "    max_neurons = 50\n",
    "    model = keras.Sequential()\n",
    "    model.add(keras.Input(shape=(d_in,)))\n",
    "    \n",
    "    hp_units_1 = hp.Int('units_1', min_value=d_out, max_value=max_neurons, step=1)\n",
    "    hp_activation_1 = hp.Choice('activation_1', values=['relu', 'tanh', 'sigmoid', 'softmax'])\n",
    "    model.add(keras.layers.Dense(units=hp_units_1, activation=hp_activation_1, name=\"layer1\"))\n",
    "    \n",
    "    hp_units_2 = hp.Int('units_2', min_value=d_out, max_value=max_neurons, step=1)\n",
    "    hp_activation_2 = hp.Choice('activation_2', values=['relu', 'tanh', 'sigmoid', 'softmax'])\n",
    "    model.add(keras.layers.Dense(units=hp_units_2, activation=hp_activation_2, name=\"layer2\"))\n",
    "    \n",
    "    model.add(keras.layers.Dense(units=d_out, activation='softmax', name=\"output\"))\n",
    "    \n",
    "    hp_learning_rate = hp.Choice('learning_rate', values=[1e-1, 1e-2, 1e-3, 1e-4, 1e-5, 1e-6])\n",
    "    model.compile(\n",
    "        optimizer=keras.optimizers.SGD(learning_rate=hp_learning_rate),\n",
    "        loss='sparse_categorical_crossentropy',\n",
    "        metrics=['accuracy']\n",
    "    )\n",
    "    \n",
    "    return model"
   ]
  },
  {
   "cell_type": "code",
   "execution_count": 48,
   "metadata": {},
   "outputs": [],
   "source": [
    "class_tuner = kt.RandomSearch(\n",
    "    classification_model_builder,\n",
    "    objective='val_accuracy',\n",
    "    max_trials=20\n",
    ")"
   ]
  },
  {
   "cell_type": "code",
   "execution_count": 49,
   "metadata": {},
   "outputs": [
    {
     "name": "stdout",
     "output_type": "stream",
     "text": [
      "Trial 20 Complete [00h 01m 58s]\n",
      "val_accuracy: 0.5939866304397583\n",
      "\n",
      "Best val_accuracy So Far: 0.6162611246109009\n",
      "Total elapsed time: 00h 37m 33s\n",
      "INFO:tensorflow:Oracle triggered exit\n"
     ]
    }
   ],
   "source": [
    "class_history = class_tuner.search(x_train_class, y_train_class.to_numpy(), epochs=50, validation_split=0.2)"
   ]
  },
  {
   "cell_type": "code",
   "execution_count": 50,
   "metadata": {},
   "outputs": [
    {
     "name": "stdout",
     "output_type": "stream",
     "text": [
      "Hiperparametros Optimos Encontrados\n",
      "  · Neuronas primera capa:  24\n",
      "  · Activavion primera capa:  relu\n",
      "  · Neuronas segunda capa:  46\n",
      "  · Activavion segunda capa:  relu\n",
      "  · Learning rate:  0.01\n"
     ]
    }
   ],
   "source": [
    "best_class_hps = class_tuner.get_best_hyperparameters()[0]\n",
    "print(\"Hiperparametros Optimos Encontrados\")\n",
    "print(\"  · Neuronas primera capa: \", best_class_hps.get('units_1'))\n",
    "print(\"  · Activavion primera capa: \", best_class_hps.get('activation_1'))\n",
    "print(\"  · Neuronas segunda capa: \", best_class_hps.get('units_2'))\n",
    "print(\"  · Activavion segunda capa: \", best_class_hps.get('activation_2'))\n",
    "print(\"  · Learning rate: \", best_class_hps.get('learning_rate'))"
   ]
  },
  {
   "cell_type": "code",
   "execution_count": 51,
   "metadata": {},
   "outputs": [],
   "source": [
    "class_model = class_tuner.get_best_models()[0]"
   ]
  },
  {
   "cell_type": "code",
   "execution_count": 63,
   "metadata": {},
   "outputs": [
    {
     "name": "stdout",
     "output_type": "stream",
     "text": [
      "532/532 [==============================] - 0s 686us/step\n"
     ]
    }
   ],
   "source": [
    "y_pred_class = class_model.predict(x_test_class)"
   ]
  },
  {
   "cell_type": "code",
   "execution_count": 66,
   "metadata": {},
   "outputs": [],
   "source": [
    "y_pred_class = np.argmax(y_pred_class ,axis = 1)"
   ]
  },
  {
   "cell_type": "code",
   "execution_count": 78,
   "metadata": {},
   "outputs": [
    {
     "name": "stdout",
     "output_type": "stream",
     "text": [
      "  Accuracy : 0.61\n"
     ]
    }
   ],
   "source": [
    "print(\"  Accuracy : %.2f\" % accuracy_score(y_test_class.to_numpy(), y_pred_class))"
   ]
  }
 ],
 "metadata": {
  "kernelspec": {
   "display_name": "Python 3 (ipykernel)",
   "language": "python",
   "name": "python3"
  },
  "language_info": {
   "codemirror_mode": {
    "name": "ipython",
    "version": 3
   },
   "file_extension": ".py",
   "mimetype": "text/x-python",
   "name": "python",
   "nbconvert_exporter": "python",
   "pygments_lexer": "ipython3",
   "version": "3.10.8"
  },
  "vscode": {
   "interpreter": {
    "hash": "58a64575c8cfdef51510e9edeb704e817dc2041b90101eeff0eafbccde98456f"
   }
  }
 },
 "nbformat": 4,
 "nbformat_minor": 2
}
