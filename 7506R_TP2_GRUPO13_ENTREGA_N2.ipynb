{
 "cells": [
  {
   "cell_type": "markdown",
   "metadata": {},
   "source": [
    "### Importe de librerias"
   ]
  },
  {
   "cell_type": "code",
   "execution_count": 33,
   "metadata": {},
   "outputs": [],
   "source": [
    "import pandas as pd\n",
    "import numpy as np\n",
    "\n",
    "import matplotlib.pyplot as plt\n",
    "import seaborn as sns\n",
    "\n",
    "from sklearn.preprocessing import StandardScaler\n",
    "from sklearn.metrics import mean_absolute_error, mean_squared_error\n",
    "from sklearn.metrics import f1_score,  recall_score, precision_score, accuracy_score\n",
    "from sklearn.metrics import confusion_matrix, classification_report, ConfusionMatrixDisplay\n",
    "\n",
    "import tensorflow as tf\n",
    "from tensorflow import keras\n",
    "import keras_tuner as kt\n",
    "from keras.utils.vis_utils import plot_model\n",
    "from matplotlib import pyplot as plt\n",
    "\n",
    "np.random.seed(1)\n",
    "tf.random.set_seed(1)"
   ]
  },
  {
   "cell_type": "markdown",
   "metadata": {},
   "source": [
    "# Redes Neuronales"
   ]
  },
  {
   "cell_type": "markdown",
   "metadata": {},
   "source": [
    "Datasets a utilizar"
   ]
  },
  {
   "cell_type": "code",
   "execution_count": 2,
   "metadata": {},
   "outputs": [],
   "source": [
    "#datasets normales\n",
    "ds_train = pd.read_csv('properati_argentina_train.csv')\n",
    "ds_test = pd.read_csv('properati_argentina_test.csv')"
   ]
  },
  {
   "cell_type": "markdown",
   "metadata": {},
   "source": [
    "### Ingenieria de caracteristicas para datasets compelto"
   ]
  },
  {
   "cell_type": "code",
   "execution_count": 3,
   "metadata": {},
   "outputs": [
    {
     "data": {
      "text/html": [
       "<div>\n",
       "<style scoped>\n",
       "    .dataframe tbody tr th:only-of-type {\n",
       "        vertical-align: middle;\n",
       "    }\n",
       "\n",
       "    .dataframe tbody tr th {\n",
       "        vertical-align: top;\n",
       "    }\n",
       "\n",
       "    .dataframe thead th {\n",
       "        text-align: right;\n",
       "    }\n",
       "</style>\n",
       "<table border=\"1\" class=\"dataframe\">\n",
       "  <thead>\n",
       "    <tr style=\"text-align: right;\">\n",
       "      <th></th>\n",
       "      <th>Unnamed: 0</th>\n",
       "      <th>id</th>\n",
       "      <th>latitud</th>\n",
       "      <th>longitud</th>\n",
       "      <th>property_type</th>\n",
       "      <th>property_rooms</th>\n",
       "      <th>property_bedrooms</th>\n",
       "      <th>property_surface_total</th>\n",
       "      <th>property_surface_covered</th>\n",
       "      <th>property_price</th>\n",
       "      <th>precioxm2_relativo_q</th>\n",
       "    </tr>\n",
       "  </thead>\n",
       "  <tbody>\n",
       "    <tr>\n",
       "      <th>0</th>\n",
       "      <td>0</td>\n",
       "      <td>CLj2GNCsBreAzTKFXCaLIQ==</td>\n",
       "      <td>-34.601807</td>\n",
       "      <td>-58.469965</td>\n",
       "      <td>Departamento</td>\n",
       "      <td>2.0</td>\n",
       "      <td>1.0</td>\n",
       "      <td>53.0</td>\n",
       "      <td>49.0</td>\n",
       "      <td>80000.0</td>\n",
       "      <td>bajo</td>\n",
       "    </tr>\n",
       "    <tr>\n",
       "      <th>1</th>\n",
       "      <td>1</td>\n",
       "      <td>TvqKIPzzT1urYfVhh8tC7w==</td>\n",
       "      <td>-34.580088</td>\n",
       "      <td>-58.424965</td>\n",
       "      <td>Departamento</td>\n",
       "      <td>2.0</td>\n",
       "      <td>1.0</td>\n",
       "      <td>35.0</td>\n",
       "      <td>35.0</td>\n",
       "      <td>79900.0</td>\n",
       "      <td>medio</td>\n",
       "    </tr>\n",
       "    <tr>\n",
       "      <th>2</th>\n",
       "      <td>2</td>\n",
       "      <td>QRs3RUjw1RS5/WRne8ApbA==</td>\n",
       "      <td>-34.551481</td>\n",
       "      <td>-58.452358</td>\n",
       "      <td>Departamento</td>\n",
       "      <td>1.0</td>\n",
       "      <td>1.0</td>\n",
       "      <td>25.0</td>\n",
       "      <td>20.0</td>\n",
       "      <td>69000.0</td>\n",
       "      <td>medio</td>\n",
       "    </tr>\n",
       "    <tr>\n",
       "      <th>3</th>\n",
       "      <td>3</td>\n",
       "      <td>ju90QBsV36i7DCOOWCJpaA==</td>\n",
       "      <td>-34.632290</td>\n",
       "      <td>-58.464844</td>\n",
       "      <td>Departamento</td>\n",
       "      <td>5.0</td>\n",
       "      <td>3.0</td>\n",
       "      <td>75.0</td>\n",
       "      <td>75.0</td>\n",
       "      <td>150000.0</td>\n",
       "      <td>medio</td>\n",
       "    </tr>\n",
       "    <tr>\n",
       "      <th>4</th>\n",
       "      <td>4</td>\n",
       "      <td>uxD4SK3jtGbmxfIlN03UMQ==</td>\n",
       "      <td>-34.549279</td>\n",
       "      <td>-58.463074</td>\n",
       "      <td>Departamento</td>\n",
       "      <td>2.0</td>\n",
       "      <td>1.0</td>\n",
       "      <td>46.0</td>\n",
       "      <td>34.0</td>\n",
       "      <td>85000.0</td>\n",
       "      <td>bajo</td>\n",
       "    </tr>\n",
       "  </tbody>\n",
       "</table>\n",
       "</div>"
      ],
      "text/plain": [
       "   Unnamed: 0                        id    latitud   longitud property_type  \\\n",
       "0           0  CLj2GNCsBreAzTKFXCaLIQ== -34.601807 -58.469965  Departamento   \n",
       "1           1  TvqKIPzzT1urYfVhh8tC7w== -34.580088 -58.424965  Departamento   \n",
       "2           2  QRs3RUjw1RS5/WRne8ApbA== -34.551481 -58.452358  Departamento   \n",
       "3           3  ju90QBsV36i7DCOOWCJpaA== -34.632290 -58.464844  Departamento   \n",
       "4           4  uxD4SK3jtGbmxfIlN03UMQ== -34.549279 -58.463074  Departamento   \n",
       "\n",
       "   property_rooms  property_bedrooms  property_surface_total  \\\n",
       "0             2.0                1.0                    53.0   \n",
       "1             2.0                1.0                    35.0   \n",
       "2             1.0                1.0                    25.0   \n",
       "3             5.0                3.0                    75.0   \n",
       "4             2.0                1.0                    46.0   \n",
       "\n",
       "   property_surface_covered  property_price precioxm2_relativo_q  \n",
       "0                      49.0         80000.0                 bajo  \n",
       "1                      35.0         79900.0                medio  \n",
       "2                      20.0         69000.0                medio  \n",
       "3                      75.0        150000.0                medio  \n",
       "4                      34.0         85000.0                 bajo  "
      ]
     },
     "execution_count": 3,
     "metadata": {},
     "output_type": "execute_result"
    }
   ],
   "source": [
    "ds_train.head()"
   ]
  },
  {
   "cell_type": "code",
   "execution_count": 4,
   "metadata": {},
   "outputs": [],
   "source": [
    "#dropeamos Unamed:0\n",
    "ds_train.drop(columns=[\"Unnamed: 0\"], inplace=True)\n",
    "ds_test.drop(columns=[\"Unnamed: 0\"], inplace=True)\n",
    "\n",
    "#cambio nombre de columna precioxm2_relativo_q\n",
    "ds_train.rename(columns={'precioxm2_relativo_q':'tipo_precio'}, inplace=True)\n",
    "ds_test.rename(columns={'precioxm2_relativo_q':'tipo_precio'}, inplace=True)"
   ]
  },
  {
   "cell_type": "markdown",
   "metadata": {},
   "source": [
    "Aplicamos dummies a la variable property_type"
   ]
  },
  {
   "cell_type": "code",
   "execution_count": 5,
   "metadata": {},
   "outputs": [],
   "source": [
    "ds_train = pd.get_dummies(ds_train, columns=[\"property_type\"], drop_first=True)\n",
    "\n",
    "ds_test =  pd.get_dummies(ds_test, columns=[\"property_type\"], drop_first=True)"
   ]
  },
  {
   "cell_type": "code",
   "execution_count": 6,
   "metadata": {},
   "outputs": [
    {
     "data": {
      "text/plain": [
       "array(['bajo', 'medio', 'alto'], dtype=object)"
      ]
     },
     "execution_count": 6,
     "metadata": {},
     "output_type": "execute_result"
    }
   ],
   "source": [
    "ds_train['tipo_precio'].unique()"
   ]
  },
  {
   "cell_type": "markdown",
   "metadata": {},
   "source": [
    "Tengo que pasar estas clases a numeros para que funcionen con clasificacion. Hago un label encoder"
   ]
  },
  {
   "cell_type": "code",
   "execution_count": 7,
   "metadata": {},
   "outputs": [],
   "source": [
    "tipo_precio_replace = {'bajo':0, 'medio':1, 'alto':2}\n",
    "\n",
    "ds_train.loc[:, 'tipo_precio'].replace(tipo_precio_replace, inplace=True)\n",
    "ds_test.loc[:, 'tipo_precio'].replace(tipo_precio_replace, inplace=True)"
   ]
  },
  {
   "cell_type": "code",
   "execution_count": 8,
   "metadata": {},
   "outputs": [
    {
     "data": {
      "text/html": [
       "<div>\n",
       "<style scoped>\n",
       "    .dataframe tbody tr th:only-of-type {\n",
       "        vertical-align: middle;\n",
       "    }\n",
       "\n",
       "    .dataframe tbody tr th {\n",
       "        vertical-align: top;\n",
       "    }\n",
       "\n",
       "    .dataframe thead th {\n",
       "        text-align: right;\n",
       "    }\n",
       "</style>\n",
       "<table border=\"1\" class=\"dataframe\">\n",
       "  <thead>\n",
       "    <tr style=\"text-align: right;\">\n",
       "      <th></th>\n",
       "      <th>id</th>\n",
       "      <th>latitud</th>\n",
       "      <th>longitud</th>\n",
       "      <th>property_rooms</th>\n",
       "      <th>property_bedrooms</th>\n",
       "      <th>property_surface_total</th>\n",
       "      <th>property_surface_covered</th>\n",
       "      <th>property_price</th>\n",
       "      <th>tipo_precio</th>\n",
       "      <th>property_type_Departamento</th>\n",
       "      <th>property_type_PH</th>\n",
       "    </tr>\n",
       "  </thead>\n",
       "  <tbody>\n",
       "    <tr>\n",
       "      <th>0</th>\n",
       "      <td>CLj2GNCsBreAzTKFXCaLIQ==</td>\n",
       "      <td>-34.601807</td>\n",
       "      <td>-58.469965</td>\n",
       "      <td>2.0</td>\n",
       "      <td>1.0</td>\n",
       "      <td>53.0</td>\n",
       "      <td>49.0</td>\n",
       "      <td>80000.0</td>\n",
       "      <td>0</td>\n",
       "      <td>1</td>\n",
       "      <td>0</td>\n",
       "    </tr>\n",
       "    <tr>\n",
       "      <th>1</th>\n",
       "      <td>TvqKIPzzT1urYfVhh8tC7w==</td>\n",
       "      <td>-34.580088</td>\n",
       "      <td>-58.424965</td>\n",
       "      <td>2.0</td>\n",
       "      <td>1.0</td>\n",
       "      <td>35.0</td>\n",
       "      <td>35.0</td>\n",
       "      <td>79900.0</td>\n",
       "      <td>1</td>\n",
       "      <td>1</td>\n",
       "      <td>0</td>\n",
       "    </tr>\n",
       "    <tr>\n",
       "      <th>2</th>\n",
       "      <td>QRs3RUjw1RS5/WRne8ApbA==</td>\n",
       "      <td>-34.551481</td>\n",
       "      <td>-58.452358</td>\n",
       "      <td>1.0</td>\n",
       "      <td>1.0</td>\n",
       "      <td>25.0</td>\n",
       "      <td>20.0</td>\n",
       "      <td>69000.0</td>\n",
       "      <td>1</td>\n",
       "      <td>1</td>\n",
       "      <td>0</td>\n",
       "    </tr>\n",
       "    <tr>\n",
       "      <th>3</th>\n",
       "      <td>ju90QBsV36i7DCOOWCJpaA==</td>\n",
       "      <td>-34.632290</td>\n",
       "      <td>-58.464844</td>\n",
       "      <td>5.0</td>\n",
       "      <td>3.0</td>\n",
       "      <td>75.0</td>\n",
       "      <td>75.0</td>\n",
       "      <td>150000.0</td>\n",
       "      <td>1</td>\n",
       "      <td>1</td>\n",
       "      <td>0</td>\n",
       "    </tr>\n",
       "    <tr>\n",
       "      <th>4</th>\n",
       "      <td>uxD4SK3jtGbmxfIlN03UMQ==</td>\n",
       "      <td>-34.549279</td>\n",
       "      <td>-58.463074</td>\n",
       "      <td>2.0</td>\n",
       "      <td>1.0</td>\n",
       "      <td>46.0</td>\n",
       "      <td>34.0</td>\n",
       "      <td>85000.0</td>\n",
       "      <td>0</td>\n",
       "      <td>1</td>\n",
       "      <td>0</td>\n",
       "    </tr>\n",
       "  </tbody>\n",
       "</table>\n",
       "</div>"
      ],
      "text/plain": [
       "                         id    latitud   longitud  property_rooms  \\\n",
       "0  CLj2GNCsBreAzTKFXCaLIQ== -34.601807 -58.469965             2.0   \n",
       "1  TvqKIPzzT1urYfVhh8tC7w== -34.580088 -58.424965             2.0   \n",
       "2  QRs3RUjw1RS5/WRne8ApbA== -34.551481 -58.452358             1.0   \n",
       "3  ju90QBsV36i7DCOOWCJpaA== -34.632290 -58.464844             5.0   \n",
       "4  uxD4SK3jtGbmxfIlN03UMQ== -34.549279 -58.463074             2.0   \n",
       "\n",
       "   property_bedrooms  property_surface_total  property_surface_covered  \\\n",
       "0                1.0                    53.0                      49.0   \n",
       "1                1.0                    35.0                      35.0   \n",
       "2                1.0                    25.0                      20.0   \n",
       "3                3.0                    75.0                      75.0   \n",
       "4                1.0                    46.0                      34.0   \n",
       "\n",
       "   property_price  tipo_precio  property_type_Departamento  property_type_PH  \n",
       "0         80000.0            0                           1                 0  \n",
       "1         79900.0            1                           1                 0  \n",
       "2         69000.0            1                           1                 0  \n",
       "3        150000.0            1                           1                 0  \n",
       "4         85000.0            0                           1                 0  "
      ]
     },
     "execution_count": 8,
     "metadata": {},
     "output_type": "execute_result"
    }
   ],
   "source": [
    "ds_train.head()"
   ]
  },
  {
   "cell_type": "code",
   "execution_count": 9,
   "metadata": {},
   "outputs": [
    {
     "name": "stdout",
     "output_type": "stream",
     "text": [
      "<class 'pandas.core.frame.DataFrame'>\n",
      "RangeIndex: 68012 entries, 0 to 68011\n",
      "Data columns (total 11 columns):\n",
      " #   Column                      Non-Null Count  Dtype  \n",
      "---  ------                      --------------  -----  \n",
      " 0   id                          68012 non-null  object \n",
      " 1   latitud                     68012 non-null  float64\n",
      " 2   longitud                    68012 non-null  float64\n",
      " 3   property_rooms              68012 non-null  float64\n",
      " 4   property_bedrooms           68012 non-null  float64\n",
      " 5   property_surface_total      68012 non-null  float64\n",
      " 6   property_surface_covered    68012 non-null  float64\n",
      " 7   property_price              68012 non-null  float64\n",
      " 8   tipo_precio                 68012 non-null  int64  \n",
      " 9   property_type_Departamento  68012 non-null  uint8  \n",
      " 10  property_type_PH            68012 non-null  uint8  \n",
      "dtypes: float64(7), int64(1), object(1), uint8(2)\n",
      "memory usage: 4.8+ MB\n"
     ]
    }
   ],
   "source": [
    "ds_train.info()"
   ]
  },
  {
   "cell_type": "markdown",
   "metadata": {},
   "source": [
    "## Regresion"
   ]
  },
  {
   "cell_type": "markdown",
   "metadata": {},
   "source": [
    "Funcion para graficar"
   ]
  },
  {
   "cell_type": "code",
   "execution_count": 10,
   "metadata": {},
   "outputs": [],
   "source": [
    "features_regression = ['longitud', 'latitud', 'property_surface_total']\n",
    "target_regression = ['property_price']\n",
    "\n",
    "x_train_regress = ds_train.loc[:, features_regression]\n",
    "x_test_regress = ds_test.loc[:, features_regression]\n",
    "y_train_regress = ds_train.loc[:, target_regression]\n",
    "y_test_regress = ds_test.loc[:, target_regression]"
   ]
  },
  {
   "cell_type": "code",
   "execution_count": 11,
   "metadata": {},
   "outputs": [
    {
     "data": {
      "text/plain": [
       "StandardScaler()"
      ]
     },
     "execution_count": 11,
     "metadata": {},
     "output_type": "execute_result"
    }
   ],
   "source": [
    "sscaler = StandardScaler()\n",
    "sscaler.fit(x_train_regress)"
   ]
  },
  {
   "cell_type": "code",
   "execution_count": 12,
   "metadata": {},
   "outputs": [],
   "source": [
    "x_train_regress = sscaler.transform(x_train_regress)\n",
    "x_test_regress = sscaler.transform(x_test_regress)"
   ]
  },
  {
   "cell_type": "markdown",
   "metadata": {},
   "source": [
    "#### Modelo de regresion"
   ]
  },
  {
   "cell_type": "code",
   "execution_count": 13,
   "metadata": {},
   "outputs": [],
   "source": [
    "in_regress = len(features_regression)\n",
    "out_regress = len(target_regression)"
   ]
  },
  {
   "cell_type": "code",
   "execution_count": 26,
   "metadata": {},
   "outputs": [],
   "source": [
    "def regression_model_builder(hp):\n",
    "    max_neurons = 50\n",
    "    model = keras.Sequential()\n",
    "    model.add(keras.Input(shape=(in_regress,)))\n",
    "    \n",
    "    hp_units_1 = hp.Int('units_1', min_value=1, max_value=max_neurons, step=1)\n",
    "    hp_activation_1 = hp.Choice('activation_1', values=['tanh', 'sigmoid'])\n",
    "    model.add(keras.layers.Dense(units=hp_units_1, activation=hp_activation_1, name=\"layer1\"))\n",
    "    \n",
    "    hp_units_2 = hp.Int('units_2', min_value=1, max_value=max_neurons, step=1)\n",
    "    hp_activation_2 = hp.Choice('activation_2', values=['relu', 'tanh', 'sigmoid'])\n",
    "    model.add(keras.layers.Dense(units=hp_units_2, activation=hp_activation_2, name=\"layer2\"))\n",
    "    \n",
    "    model.add(keras.layers.Dense(units=out_regress, name=\"output\"))\n",
    "    \n",
    "    hp_learning_rate = hp.Choice('learning_rate', values=[1e-1, 1e-2, 1e-3, 1e-4, 1e-5, 1e-6])\n",
    "    model.compile(\n",
    "        optimizer=keras.optimizers.SGD(learning_rate=hp_learning_rate),\n",
    "        loss=keras.losses.MeanSquaredError(),\n",
    "        metrics=[keras.metrics.RootMeanSquaredError()]\n",
    "    )\n",
    "    \n",
    "    return model"
   ]
  },
  {
   "cell_type": "code",
   "execution_count": 27,
   "metadata": {},
   "outputs": [],
   "source": [
    "regress_tuner = kt.RandomSearch(\n",
    "    regression_model_builder,\n",
    "    objective='val_loss',\n",
    "    max_trials=20\n",
    ")"
   ]
  },
  {
   "cell_type": "code",
   "execution_count": 28,
   "metadata": {
    "scrolled": true
   },
   "outputs": [
    {
     "name": "stdout",
     "output_type": "stream",
     "text": [
      "Trial 20 Complete [00h 00m 14s]\n",
      "val_loss: 7561308672.0\n",
      "\n",
      "Best val_loss So Far: 7561308672.0\n",
      "Total elapsed time: 00h 05m 06s\n",
      "INFO:tensorflow:Oracle triggered exit\n"
     ]
    }
   ],
   "source": [
    "regress_history = regress_tuner.search(x_train_regress, y_train_regress.to_numpy(), epochs=100, batch_size=700, validation_split=0.2)"
   ]
  },
  {
   "cell_type": "code",
   "execution_count": 31,
   "metadata": {},
   "outputs": [
    {
     "name": "stdout",
     "output_type": "stream",
     "text": [
      "Hiperparametros Optimos Encontrados\n",
      "  · Neuronas primera capa:  15\n",
      "  · Activavion primera capa:  tanh\n",
      "  · Neuronas segunda capa:  8\n",
      "  · Activavion segunda capa:  relu\n",
      "  · Learning rate:  1e-06\n"
     ]
    }
   ],
   "source": [
    "best_regress_hps = regress_tuner.get_best_hyperparameters()[0]\n",
    "print(\"Hiperparametros Optimos Encontrados\")\n",
    "print(\"  · Neuronas primera capa: \", best_regress_hps.get('units_1'))\n",
    "print(\"  · Activavion primera capa: \", best_regress_hps.get('activation_1'))\n",
    "print(\"  · Neuronas segunda capa: \", best_regress_hps.get('units_2'))\n",
    "print(\"  · Activavion segunda capa: \", best_regress_hps.get('activation_2'))\n",
    "print(\"  · Learning rate: \", best_regress_hps.get('learning_rate'))"
   ]
  },
  {
   "cell_type": "code",
   "execution_count": 14,
   "metadata": {},
   "outputs": [],
   "source": [
    "regress_model = keras.Sequential(\n",
    "    [\n",
    "        keras.Input(shape=(in_regress,)),\n",
    "        keras.layers.Dense(units=15, activation='tanh', name=\"layer1\"),\n",
    "        keras.layers.Dense(units=8, activation='relu', name=\"layer2\"),\n",
    "        keras.layers.Dense(units=out_regress, name=\"output\")\n",
    "    ]\n",
    ")"
   ]
  },
  {
   "cell_type": "code",
   "execution_count": 15,
   "metadata": {},
   "outputs": [
    {
     "name": "stdout",
     "output_type": "stream",
     "text": [
      "Model: \"sequential\"\n",
      "_________________________________________________________________\n",
      " Layer (type)                Output Shape              Param #   \n",
      "=================================================================\n",
      " layer1 (Dense)              (None, 15)                60        \n",
      "                                                                 \n",
      " layer2 (Dense)              (None, 8)                 128       \n",
      "                                                                 \n",
      " output (Dense)              (None, 1)                 9         \n",
      "                                                                 \n",
      "=================================================================\n",
      "Total params: 197\n",
      "Trainable params: 197\n",
      "Non-trainable params: 0\n",
      "_________________________________________________________________\n"
     ]
    }
   ],
   "source": [
    "regress_model.summary()"
   ]
  },
  {
   "cell_type": "code",
   "execution_count": 16,
   "metadata": {},
   "outputs": [],
   "source": [
    "regress_model.compile(\n",
    "    optimizer=keras.optimizers.SGD(learning_rate=1e-6),\n",
    "    loss=keras.losses.MeanSquaredError(),\n",
    "    metrics=[keras.metrics.RootMeanSquaredError()]\n",
    ")"
   ]
  },
  {
   "cell_type": "code",
   "execution_count": 17,
   "metadata": {},
   "outputs": [
    {
     "name": "stdout",
     "output_type": "stream",
     "text": [
      "Epoch 1/100\n",
      "78/78 [==============================] - 1s 4ms/step - loss: 19518799872.0000 - root_mean_squared_error: 139709.7031 - val_loss: 9362804736.0000 - val_root_mean_squared_error: 96761.5859\n",
      "Epoch 2/100\n",
      "78/78 [==============================] - 0s 2ms/step - loss: 8515332096.0000 - root_mean_squared_error: 92278.5547 - val_loss: 8480037376.0000 - val_root_mean_squared_error: 92087.1250\n",
      "Epoch 3/100\n",
      "78/78 [==============================] - 0s 2ms/step - loss: 8005599232.0000 - root_mean_squared_error: 89474.0156 - val_loss: 8446329856.0000 - val_root_mean_squared_error: 91903.9219\n",
      "Epoch 4/100\n",
      "78/78 [==============================] - 0s 2ms/step - loss: 7614404096.0000 - root_mean_squared_error: 87260.5547 - val_loss: 7852894208.0000 - val_root_mean_squared_error: 88616.5625\n",
      "Epoch 5/100\n",
      "78/78 [==============================] - 0s 2ms/step - loss: 7785158144.0000 - root_mean_squared_error: 88233.5469 - val_loss: 7900255744.0000 - val_root_mean_squared_error: 88883.3828\n",
      "Epoch 6/100\n",
      "78/78 [==============================] - 0s 2ms/step - loss: 7823594496.0000 - root_mean_squared_error: 88451.0859 - val_loss: 8052333568.0000 - val_root_mean_squared_error: 89734.7969\n",
      "Epoch 7/100\n",
      "78/78 [==============================] - 0s 2ms/step - loss: 7386909184.0000 - root_mean_squared_error: 85947.1328 - val_loss: 7612968448.0000 - val_root_mean_squared_error: 87252.3281\n",
      "Epoch 8/100\n",
      "78/78 [==============================] - 0s 2ms/step - loss: 7260371968.0000 - root_mean_squared_error: 85207.8125 - val_loss: 8007158272.0000 - val_root_mean_squared_error: 89482.7266\n",
      "Epoch 9/100\n",
      "78/78 [==============================] - 0s 2ms/step - loss: 7187453952.0000 - root_mean_squared_error: 84778.8516 - val_loss: 7253153792.0000 - val_root_mean_squared_error: 85165.4531\n",
      "Epoch 10/100\n",
      "78/78 [==============================] - 0s 2ms/step - loss: 7316617728.0000 - root_mean_squared_error: 85537.2266 - val_loss: 7742736896.0000 - val_root_mean_squared_error: 87992.8203\n",
      "Epoch 11/100\n",
      "78/78 [==============================] - 0s 2ms/step - loss: 7426816000.0000 - root_mean_squared_error: 86178.9766 - val_loss: 7421086720.0000 - val_root_mean_squared_error: 86145.7266\n",
      "Epoch 12/100\n",
      "78/78 [==============================] - 0s 2ms/step - loss: 7701264896.0000 - root_mean_squared_error: 87756.8516 - val_loss: 7415321088.0000 - val_root_mean_squared_error: 86112.2578\n",
      "Epoch 13/100\n",
      "78/78 [==============================] - 0s 2ms/step - loss: 7263472128.0000 - root_mean_squared_error: 85226.0078 - val_loss: 7494336000.0000 - val_root_mean_squared_error: 86569.8359\n",
      "Epoch 14/100\n",
      "78/78 [==============================] - 0s 2ms/step - loss: 7451759616.0000 - root_mean_squared_error: 86323.5781 - val_loss: 7862129664.0000 - val_root_mean_squared_error: 88668.6484\n",
      "Epoch 15/100\n",
      "78/78 [==============================] - 0s 2ms/step - loss: 7301748224.0000 - root_mean_squared_error: 85450.2656 - val_loss: 7040507392.0000 - val_root_mean_squared_error: 83907.7344\n",
      "Epoch 16/100\n",
      "78/78 [==============================] - 0s 2ms/step - loss: 7026938880.0000 - root_mean_squared_error: 83826.8359 - val_loss: 7157522944.0000 - val_root_mean_squared_error: 84602.1484\n",
      "Epoch 17/100\n",
      "78/78 [==============================] - 0s 2ms/step - loss: 7245057536.0000 - root_mean_squared_error: 85117.9062 - val_loss: 7212019712.0000 - val_root_mean_squared_error: 84923.6094\n",
      "Epoch 18/100\n",
      "78/78 [==============================] - 0s 2ms/step - loss: 7047661056.0000 - root_mean_squared_error: 83950.3516 - val_loss: 7566327296.0000 - val_root_mean_squared_error: 86984.6406\n",
      "Epoch 19/100\n",
      "78/78 [==============================] - 0s 2ms/step - loss: 7128637952.0000 - root_mean_squared_error: 84431.2578 - val_loss: 7420143616.0000 - val_root_mean_squared_error: 86140.2578\n",
      "Epoch 20/100\n",
      "78/78 [==============================] - 0s 2ms/step - loss: 7022192640.0000 - root_mean_squared_error: 83798.5234 - val_loss: 7704688128.0000 - val_root_mean_squared_error: 87776.3516\n",
      "Epoch 21/100\n",
      "78/78 [==============================] - 0s 2ms/step - loss: 7147598336.0000 - root_mean_squared_error: 84543.4688 - val_loss: 7538918912.0000 - val_root_mean_squared_error: 86826.9531\n",
      "Epoch 22/100\n",
      "78/78 [==============================] - 0s 2ms/step - loss: 7082096640.0000 - root_mean_squared_error: 84155.1953 - val_loss: 7866816512.0000 - val_root_mean_squared_error: 88695.0781\n",
      "Epoch 23/100\n",
      "78/78 [==============================] - 0s 2ms/step - loss: 7369317888.0000 - root_mean_squared_error: 85844.7344 - val_loss: 8623582208.0000 - val_root_mean_squared_error: 92863.2422\n",
      "Epoch 24/100\n",
      "78/78 [==============================] - 0s 2ms/step - loss: 7515041280.0000 - root_mean_squared_error: 86689.3359 - val_loss: 8079563264.0000 - val_root_mean_squared_error: 89886.3906\n",
      "Epoch 25/100\n",
      "78/78 [==============================] - 0s 2ms/step - loss: 7422159872.0000 - root_mean_squared_error: 86151.9609 - val_loss: 7544550400.0000 - val_root_mean_squared_error: 86859.3750\n",
      "Epoch 26/100\n",
      "78/78 [==============================] - 0s 2ms/step - loss: 7265537536.0000 - root_mean_squared_error: 85238.1250 - val_loss: 8024185856.0000 - val_root_mean_squared_error: 89577.8203\n",
      "Epoch 27/100\n",
      "78/78 [==============================] - 0s 2ms/step - loss: 8047729152.0000 - root_mean_squared_error: 89709.1328 - val_loss: 8123975168.0000 - val_root_mean_squared_error: 90133.0938\n",
      "Epoch 28/100\n",
      "78/78 [==============================] - 0s 2ms/step - loss: 7824803840.0000 - root_mean_squared_error: 88457.9219 - val_loss: 7592706048.0000 - val_root_mean_squared_error: 87136.1328\n",
      "Epoch 29/100\n",
      "78/78 [==============================] - 0s 2ms/step - loss: 7692050432.0000 - root_mean_squared_error: 87704.3359 - val_loss: 7938414080.0000 - val_root_mean_squared_error: 89097.7812\n",
      "Epoch 30/100\n",
      "78/78 [==============================] - 0s 2ms/step - loss: 7560211968.0000 - root_mean_squared_error: 86949.4766 - val_loss: 7474054656.0000 - val_root_mean_squared_error: 86452.6172\n",
      "Epoch 31/100\n",
      "78/78 [==============================] - 0s 2ms/step - loss: 7954172416.0000 - root_mean_squared_error: 89186.1641 - val_loss: 7654038016.0000 - val_root_mean_squared_error: 87487.3594\n",
      "Epoch 32/100\n",
      "78/78 [==============================] - 0s 2ms/step - loss: 7601503232.0000 - root_mean_squared_error: 87186.6016 - val_loss: 7338854912.0000 - val_root_mean_squared_error: 85667.1172\n",
      "Epoch 33/100\n",
      "78/78 [==============================] - 0s 2ms/step - loss: 7454273536.0000 - root_mean_squared_error: 86338.1328 - val_loss: 7409379328.0000 - val_root_mean_squared_error: 86077.7500\n",
      "Epoch 34/100\n",
      "78/78 [==============================] - 0s 2ms/step - loss: 7763374592.0000 - root_mean_squared_error: 88110.0156 - val_loss: 8546631680.0000 - val_root_mean_squared_error: 92447.9922\n",
      "Epoch 35/100\n",
      "78/78 [==============================] - 0s 2ms/step - loss: 7592587264.0000 - root_mean_squared_error: 87135.4531 - val_loss: 7534342144.0000 - val_root_mean_squared_error: 86800.5859\n",
      "Epoch 36/100\n",
      "78/78 [==============================] - 0s 2ms/step - loss: 7266539008.0000 - root_mean_squared_error: 85244.0000 - val_loss: 7623013376.0000 - val_root_mean_squared_error: 87309.8672\n",
      "Epoch 37/100\n",
      "78/78 [==============================] - 0s 2ms/step - loss: 7490481152.0000 - root_mean_squared_error: 86547.5625 - val_loss: 7361926144.0000 - val_root_mean_squared_error: 85801.6641\n",
      "Epoch 38/100\n",
      "78/78 [==============================] - 0s 2ms/step - loss: 7286141952.0000 - root_mean_squared_error: 85358.8984 - val_loss: 7625610752.0000 - val_root_mean_squared_error: 87324.7422\n",
      "Epoch 39/100\n",
      "78/78 [==============================] - 0s 2ms/step - loss: 7478703616.0000 - root_mean_squared_error: 86479.5000 - val_loss: 7538348032.0000 - val_root_mean_squared_error: 86823.6641\n",
      "Epoch 40/100\n",
      "78/78 [==============================] - 0s 2ms/step - loss: 7571031040.0000 - root_mean_squared_error: 87011.6719 - val_loss: 7439372288.0000 - val_root_mean_squared_error: 86251.7969\n",
      "Epoch 41/100\n",
      "78/78 [==============================] - 0s 2ms/step - loss: 8081345024.0000 - root_mean_squared_error: 89896.3047 - val_loss: 7726225408.0000 - val_root_mean_squared_error: 87898.9531\n",
      "Epoch 42/100\n",
      "78/78 [==============================] - 0s 2ms/step - loss: 7647354880.0000 - root_mean_squared_error: 87449.1562 - val_loss: 7833297408.0000 - val_root_mean_squared_error: 88505.9141\n",
      "Epoch 43/100\n",
      "78/78 [==============================] - 0s 2ms/step - loss: 8427184128.0000 - root_mean_squared_error: 91799.6953 - val_loss: 7635904512.0000 - val_root_mean_squared_error: 87383.6641\n",
      "Epoch 44/100\n",
      "78/78 [==============================] - 0s 2ms/step - loss: 9008727040.0000 - root_mean_squared_error: 94914.3125 - val_loss: 9305150464.0000 - val_root_mean_squared_error: 96463.2109\n",
      "Epoch 45/100\n",
      "78/78 [==============================] - 0s 2ms/step - loss: 8602323968.0000 - root_mean_squared_error: 92748.7109 - val_loss: 10512241664.0000 - val_root_mean_squared_error: 102529.2266\n",
      "Epoch 46/100\n",
      "78/78 [==============================] - 0s 2ms/step - loss: 8771556352.0000 - root_mean_squared_error: 93656.5859 - val_loss: 8833955840.0000 - val_root_mean_squared_error: 93989.1250\n",
      "Epoch 47/100\n",
      "78/78 [==============================] - 0s 2ms/step - loss: 8362507264.0000 - root_mean_squared_error: 91446.7422 - val_loss: 7714376704.0000 - val_root_mean_squared_error: 87831.5234\n",
      "Epoch 48/100\n",
      "78/78 [==============================] - 0s 2ms/step - loss: 7379806208.0000 - root_mean_squared_error: 85905.7969 - val_loss: 7867869184.0000 - val_root_mean_squared_error: 88701.0078\n",
      "Epoch 49/100\n",
      "78/78 [==============================] - 0s 2ms/step - loss: 8039321600.0000 - root_mean_squared_error: 89662.2656 - val_loss: 7580595200.0000 - val_root_mean_squared_error: 87066.6172\n",
      "Epoch 50/100\n",
      "78/78 [==============================] - 0s 2ms/step - loss: 7580274688.0000 - root_mean_squared_error: 87064.7734 - val_loss: 7539369984.0000 - val_root_mean_squared_error: 86829.5469\n",
      "Epoch 51/100\n",
      "78/78 [==============================] - 0s 2ms/step - loss: 7613284864.0000 - root_mean_squared_error: 87254.1406 - val_loss: 8152571392.0000 - val_root_mean_squared_error: 90291.5938\n",
      "Epoch 52/100\n",
      "78/78 [==============================] - 0s 2ms/step - loss: 7425810432.0000 - root_mean_squared_error: 86173.1406 - val_loss: 8063558144.0000 - val_root_mean_squared_error: 89797.3203\n",
      "Epoch 53/100\n",
      "78/78 [==============================] - 0s 2ms/step - loss: 7356987392.0000 - root_mean_squared_error: 85772.8828 - val_loss: 7745827840.0000 - val_root_mean_squared_error: 88010.3828\n",
      "Epoch 54/100\n",
      "78/78 [==============================] - 0s 2ms/step - loss: 7249923584.0000 - root_mean_squared_error: 85146.4844 - val_loss: 6923659264.0000 - val_root_mean_squared_error: 83208.5312\n",
      "Epoch 55/100\n",
      "78/78 [==============================] - 0s 2ms/step - loss: 6971876352.0000 - root_mean_squared_error: 83497.7656 - val_loss: 7716598784.0000 - val_root_mean_squared_error: 87844.1719\n",
      "Epoch 56/100\n",
      "78/78 [==============================] - 0s 2ms/step - loss: 7117688320.0000 - root_mean_squared_error: 84366.3906 - val_loss: 9373787136.0000 - val_root_mean_squared_error: 96818.3203\n",
      "Epoch 57/100\n",
      "78/78 [==============================] - 0s 2ms/step - loss: 7593593344.0000 - root_mean_squared_error: 87141.2266 - val_loss: 7906096640.0000 - val_root_mean_squared_error: 88916.2344\n",
      "Epoch 58/100\n",
      "78/78 [==============================] - 0s 2ms/step - loss: 7585550336.0000 - root_mean_squared_error: 87095.0625 - val_loss: 7489066496.0000 - val_root_mean_squared_error: 86539.3906\n",
      "Epoch 59/100\n",
      "78/78 [==============================] - 0s 2ms/step - loss: 7136250368.0000 - root_mean_squared_error: 84476.3281 - val_loss: 9189754880.0000 - val_root_mean_squared_error: 95863.2109\n",
      "Epoch 60/100\n",
      "78/78 [==============================] - 0s 2ms/step - loss: 7450596864.0000 - root_mean_squared_error: 86316.8438 - val_loss: 7317086208.0000 - val_root_mean_squared_error: 85539.9688\n",
      "Epoch 61/100\n",
      "78/78 [==============================] - 0s 2ms/step - loss: 8162563072.0000 - root_mean_squared_error: 90346.9062 - val_loss: 8386489344.0000 - val_root_mean_squared_error: 91577.7812\n",
      "Epoch 62/100\n",
      "78/78 [==============================] - 0s 2ms/step - loss: 7230965760.0000 - root_mean_squared_error: 85035.0859 - val_loss: 7283580928.0000 - val_root_mean_squared_error: 85343.8984\n",
      "Epoch 63/100\n",
      "78/78 [==============================] - 0s 2ms/step - loss: 7452986368.0000 - root_mean_squared_error: 86330.6797 - val_loss: 7229457920.0000 - val_root_mean_squared_error: 85026.2188\n",
      "Epoch 64/100\n",
      "78/78 [==============================] - 0s 2ms/step - loss: 7373542912.0000 - root_mean_squared_error: 85869.3359 - val_loss: 7521230336.0000 - val_root_mean_squared_error: 86725.0234\n",
      "Epoch 65/100\n",
      "78/78 [==============================] - 0s 2ms/step - loss: 7910384128.0000 - root_mean_squared_error: 88940.3438 - val_loss: 7432524288.0000 - val_root_mean_squared_error: 86212.0859\n",
      "Epoch 66/100\n",
      "78/78 [==============================] - 0s 2ms/step - loss: 7108218880.0000 - root_mean_squared_error: 84310.2500 - val_loss: 7146949120.0000 - val_root_mean_squared_error: 84539.6328\n",
      "Epoch 67/100\n",
      "78/78 [==============================] - 0s 2ms/step - loss: 7099056640.0000 - root_mean_squared_error: 84255.8984 - val_loss: 7238161920.0000 - val_root_mean_squared_error: 85077.3906\n",
      "Epoch 68/100\n",
      "78/78 [==============================] - 0s 2ms/step - loss: 7471230976.0000 - root_mean_squared_error: 86436.2812 - val_loss: 7495493120.0000 - val_root_mean_squared_error: 86576.5156\n",
      "Epoch 69/100\n",
      "78/78 [==============================] - 0s 2ms/step - loss: 7374198784.0000 - root_mean_squared_error: 85873.1562 - val_loss: 7195029504.0000 - val_root_mean_squared_error: 84823.5234\n",
      "Epoch 70/100\n",
      "78/78 [==============================] - 0s 2ms/step - loss: 6969641984.0000 - root_mean_squared_error: 83484.3828 - val_loss: 7471409152.0000 - val_root_mean_squared_error: 86437.3125\n",
      "Epoch 71/100\n",
      "78/78 [==============================] - 0s 2ms/step - loss: 6890542080.0000 - root_mean_squared_error: 83009.2891 - val_loss: 7914115072.0000 - val_root_mean_squared_error: 88961.3125\n",
      "Epoch 72/100\n",
      "78/78 [==============================] - 0s 2ms/step - loss: 7151189504.0000 - root_mean_squared_error: 84564.7031 - val_loss: 6907932160.0000 - val_root_mean_squared_error: 83113.9688\n",
      "Epoch 73/100\n",
      "78/78 [==============================] - 0s 2ms/step - loss: 6908411392.0000 - root_mean_squared_error: 83116.8516 - val_loss: 7069455360.0000 - val_root_mean_squared_error: 84080.0547\n",
      "Epoch 74/100\n",
      "78/78 [==============================] - 0s 2ms/step - loss: 7002960384.0000 - root_mean_squared_error: 83683.6953 - val_loss: 7026301440.0000 - val_root_mean_squared_error: 83823.0391\n",
      "Epoch 75/100\n",
      "78/78 [==============================] - 0s 2ms/step - loss: 6993909248.0000 - root_mean_squared_error: 83629.5938 - val_loss: 7080681984.0000 - val_root_mean_squared_error: 84146.7891\n",
      "Epoch 76/100\n",
      "78/78 [==============================] - 0s 2ms/step - loss: 6879014400.0000 - root_mean_squared_error: 82939.8203 - val_loss: 6835847168.0000 - val_root_mean_squared_error: 82679.1797\n",
      "Epoch 77/100\n",
      "78/78 [==============================] - 0s 2ms/step - loss: 6764486144.0000 - root_mean_squared_error: 82246.5000 - val_loss: 7710298112.0000 - val_root_mean_squared_error: 87808.3047\n",
      "Epoch 78/100\n",
      "78/78 [==============================] - 0s 2ms/step - loss: 7055652352.0000 - root_mean_squared_error: 83997.9297 - val_loss: 7016719360.0000 - val_root_mean_squared_error: 83765.8594\n",
      "Epoch 79/100\n",
      "78/78 [==============================] - 0s 2ms/step - loss: 6792224768.0000 - root_mean_squared_error: 82414.9531 - val_loss: 7763144704.0000 - val_root_mean_squared_error: 88108.7109\n",
      "Epoch 80/100\n",
      "78/78 [==============================] - 0s 2ms/step - loss: 7002117632.0000 - root_mean_squared_error: 83678.6562 - val_loss: 7382828544.0000 - val_root_mean_squared_error: 85923.3906\n",
      "Epoch 81/100\n",
      "78/78 [==============================] - 0s 2ms/step - loss: 6670721536.0000 - root_mean_squared_error: 81674.4844 - val_loss: 7022154752.0000 - val_root_mean_squared_error: 83798.2969\n",
      "Epoch 82/100\n",
      "78/78 [==============================] - 0s 2ms/step - loss: 6826688512.0000 - root_mean_squared_error: 82623.7734 - val_loss: 6919128576.0000 - val_root_mean_squared_error: 83181.2969\n",
      "Epoch 83/100\n",
      "78/78 [==============================] - 0s 2ms/step - loss: 6714803712.0000 - root_mean_squared_error: 81943.9062 - val_loss: 6718735360.0000 - val_root_mean_squared_error: 81967.8906\n",
      "Epoch 84/100\n",
      "78/78 [==============================] - 0s 2ms/step - loss: 6678207488.0000 - root_mean_squared_error: 81720.2969 - val_loss: 6903564800.0000 - val_root_mean_squared_error: 83087.6953\n",
      "Epoch 85/100\n",
      "78/78 [==============================] - 0s 2ms/step - loss: 6835533824.0000 - root_mean_squared_error: 82677.2891 - val_loss: 6821825536.0000 - val_root_mean_squared_error: 82594.3438\n",
      "Epoch 86/100\n",
      "78/78 [==============================] - 0s 2ms/step - loss: 6669640192.0000 - root_mean_squared_error: 81667.8672 - val_loss: 6706849280.0000 - val_root_mean_squared_error: 81895.3594\n",
      "Epoch 87/100\n",
      "78/78 [==============================] - 0s 2ms/step - loss: 6804298240.0000 - root_mean_squared_error: 82488.1719 - val_loss: 6837668352.0000 - val_root_mean_squared_error: 82690.1953\n",
      "Epoch 88/100\n",
      "78/78 [==============================] - 0s 2ms/step - loss: 6697678336.0000 - root_mean_squared_error: 81839.3438 - val_loss: 7629657600.0000 - val_root_mean_squared_error: 87347.9141\n",
      "Epoch 89/100\n",
      "78/78 [==============================] - 0s 2ms/step - loss: 6632420864.0000 - root_mean_squared_error: 81439.6797 - val_loss: 6887126016.0000 - val_root_mean_squared_error: 82988.7109\n",
      "Epoch 90/100\n",
      "78/78 [==============================] - 0s 2ms/step - loss: 6632483840.0000 - root_mean_squared_error: 81440.0625 - val_loss: 7870641152.0000 - val_root_mean_squared_error: 88716.6328\n",
      "Epoch 91/100\n",
      "78/78 [==============================] - 0s 2ms/step - loss: 6955338240.0000 - root_mean_squared_error: 83398.6719 - val_loss: 6974855680.0000 - val_root_mean_squared_error: 83515.6016\n",
      "Epoch 92/100\n",
      "78/78 [==============================] - 0s 2ms/step - loss: 6808775168.0000 - root_mean_squared_error: 82515.3047 - val_loss: 6857400832.0000 - val_root_mean_squared_error: 82809.4219\n",
      "Epoch 93/100\n",
      "78/78 [==============================] - 0s 2ms/step - loss: 6841527296.0000 - root_mean_squared_error: 82713.5234 - val_loss: 7141014016.0000 - val_root_mean_squared_error: 84504.5234\n",
      "Epoch 94/100\n",
      "78/78 [==============================] - 0s 2ms/step - loss: 6798171648.0000 - root_mean_squared_error: 82451.0234 - val_loss: 6766313984.0000 - val_root_mean_squared_error: 82257.6094\n",
      "Epoch 95/100\n",
      "78/78 [==============================] - 0s 2ms/step - loss: 6685315072.0000 - root_mean_squared_error: 81763.7812 - val_loss: 7076720640.0000 - val_root_mean_squared_error: 84123.2500\n",
      "Epoch 96/100\n",
      "78/78 [==============================] - 0s 2ms/step - loss: 6715790848.0000 - root_mean_squared_error: 81949.9297 - val_loss: 6769403392.0000 - val_root_mean_squared_error: 82276.3828\n",
      "Epoch 97/100\n",
      "78/78 [==============================] - 0s 2ms/step - loss: 6675694592.0000 - root_mean_squared_error: 81704.9219 - val_loss: 7226413056.0000 - val_root_mean_squared_error: 85008.3125\n",
      "Epoch 98/100\n",
      "78/78 [==============================] - 0s 2ms/step - loss: 6967314432.0000 - root_mean_squared_error: 83470.4375 - val_loss: 7484902912.0000 - val_root_mean_squared_error: 86515.3359\n",
      "Epoch 99/100\n",
      "78/78 [==============================] - 0s 2ms/step - loss: 7578117632.0000 - root_mean_squared_error: 87052.3828 - val_loss: 7495108608.0000 - val_root_mean_squared_error: 86574.2969\n",
      "Epoch 100/100\n",
      "78/78 [==============================] - 0s 2ms/step - loss: 7426160128.0000 - root_mean_squared_error: 86175.1719 - val_loss: 7727737856.0000 - val_root_mean_squared_error: 87907.5547\n"
     ]
    },
    {
     "data": {
      "text/plain": [
       "<keras.callbacks.History at 0x1c583f70f70>"
      ]
     },
     "execution_count": 17,
     "metadata": {},
     "output_type": "execute_result"
    }
   ],
   "source": [
    "regress_model.fit(x_train_regress, y_train_regress.to_numpy(), epochs=100, batch_size=700, validation_split=0.2)"
   ]
  },
  {
   "cell_type": "code",
   "execution_count": 18,
   "metadata": {},
   "outputs": [
    {
     "name": "stdout",
     "output_type": "stream",
     "text": [
      "532/532 [==============================] - 1s 868us/step\n"
     ]
    }
   ],
   "source": [
    "y_pred_regress = regress_model.predict(x_test_regress)"
   ]
  },
  {
   "cell_type": "code",
   "execution_count": 19,
   "metadata": {},
   "outputs": [
    {
     "name": "stdout",
     "output_type": "stream",
     "text": [
      "La raiz del error cuadratico medio del test es: 82,059.13\n"
     ]
    }
   ],
   "source": [
    "regress_rmse = mean_squared_error(\n",
    "        y_true  = y_test_regress,\n",
    "        y_pred  = y_pred_regress,\n",
    "        squared = False\n",
    "       )\n",
    "\n",
    "print(f\"La raiz del error cuadratico medio del test es: {regress_rmse:,.2f}\")"
   ]
  },
  {
   "cell_type": "markdown",
   "metadata": {},
   "source": [
    "###---"
   ]
  },
  {
   "cell_type": "code",
   "execution_count": 39,
   "metadata": {},
   "outputs": [
    {
     "data": {
      "image/png": "[encoded data removed]",
      "text/plain": [
       "<Figure size 432x288 with 1 Axes>"
      ]
     },
     "metadata": {
      "needs_background": "light"
     },
     "output_type": "display_data"
    }
   ],
   "source": [
    "fig, ax = plt.subplots()\n",
    "sns.kdeplot(data=y_test_regress.squeeze(), ax=ax, color='red', fill=True, label='Real data')\n",
    "sns.kdeplot(data=y_pred_regress.squeeze(), ax=ax, color='green', fill=True, label='Predictions')\n",
    "ax.legend(bbox_to_anchor=(1.02, 1.02), loc='upper left')\n",
    "plt.title(\"Distribucion del precio de las propiedades\")\n",
    "plt.tight_layout()\n",
    "plt.show()"
   ]
  },
  {
   "cell_type": "markdown",
   "metadata": {},
   "source": [
    "## Clasificacion"
   ]
  },
  {
   "cell_type": "code",
   "execution_count": 10,
   "metadata": {},
   "outputs": [
    {
     "data": {
      "text/plain": [
       "Index(['id', 'latitud', 'longitud', 'property_rooms', 'property_bedrooms',\n",
       "       'property_surface_total', 'property_surface_covered', 'property_price',\n",
       "       'tipo_precio', 'property_type_Departamento', 'property_type_PH'],\n",
       "      dtype='object')"
      ]
     },
     "execution_count": 10,
     "metadata": {},
     "output_type": "execute_result"
    }
   ],
   "source": [
    "ds_train.columns"
   ]
  },
  {
   "cell_type": "code",
   "execution_count": 11,
   "metadata": {},
   "outputs": [],
   "source": [
    "features_classification = ['longitud', 'latitud', 'property_rooms', 'property_bedrooms',\n",
    "                           'property_surface_total', 'property_surface_covered',\n",
    "                           'property_type_Departamento', 'property_type_PH']\n",
    "target_classification = 'tipo_precio'\n",
    "\n",
    "x_train_class = ds_train.loc[:, features_classification]\n",
    "x_test_class = ds_test.loc[:, features_classification]\n",
    "y_train_class = ds_train.loc[:, target_classification]\n",
    "y_test_class = ds_test.loc[:, target_classification]"
   ]
  },
  {
   "cell_type": "code",
   "execution_count": 12,
   "metadata": {},
   "outputs": [
    {
     "data": {
      "text/html": [
       "<style>#sk-container-id-1 {color: black;background-color: white;}#sk-container-id-1 pre{padding: 0;}#sk-container-id-1 div.sk-toggleable {background-color: white;}#sk-container-id-1 label.sk-toggleable__label {cursor: pointer;display: block;width: 100%;margin-bottom: 0;padding: 0.3em;box-sizing: border-box;text-align: center;}#sk-container-id-1 label.sk-toggleable__label-arrow:before {content: \"▸\";float: left;margin-right: 0.25em;color: #696969;}#sk-container-id-1 label.sk-toggleable__label-arrow:hover:before {color: black;}#sk-container-id-1 div.sk-estimator:hover label.sk-toggleable__label-arrow:before {color: black;}#sk-container-id-1 div.sk-toggleable__content {max-height: 0;max-width: 0;overflow: hidden;text-align: left;background-color: #f0f8ff;}#sk-container-id-1 div.sk-toggleable__content pre {margin: 0.2em;color: black;border-radius: 0.25em;background-color: #f0f8ff;}#sk-container-id-1 input.sk-toggleable__control:checked~div.sk-toggleable__content {max-height: 200px;max-width: 100%;overflow: auto;}#sk-container-id-1 input.sk-toggleable__control:checked~label.sk-toggleable__label-arrow:before {content: \"▾\";}#sk-container-id-1 div.sk-estimator input.sk-toggleable__control:checked~label.sk-toggleable__label {background-color: #d4ebff;}#sk-container-id-1 div.sk-label input.sk-toggleable__control:checked~label.sk-toggleable__label {background-color: #d4ebff;}#sk-container-id-1 input.sk-hidden--visually {border: 0;clip: rect(1px 1px 1px 1px);clip: rect(1px, 1px, 1px, 1px);height: 1px;margin: -1px;overflow: hidden;padding: 0;position: absolute;width: 1px;}#sk-container-id-1 div.sk-estimator {font-family: monospace;background-color: #f0f8ff;border: 1px dotted black;border-radius: 0.25em;box-sizing: border-box;margin-bottom: 0.5em;}#sk-container-id-1 div.sk-estimator:hover {background-color: #d4ebff;}#sk-container-id-1 div.sk-parallel-item::after {content: \"\";width: 100%;border-bottom: 1px solid gray;flex-grow: 1;}#sk-container-id-1 div.sk-label:hover label.sk-toggleable__label {background-color: #d4ebff;}#sk-container-id-1 div.sk-serial::before {content: \"\";position: absolute;border-left: 1px solid gray;box-sizing: border-box;top: 0;bottom: 0;left: 50%;z-index: 0;}#sk-container-id-1 div.sk-serial {display: flex;flex-direction: column;align-items: center;background-color: white;padding-right: 0.2em;padding-left: 0.2em;position: relative;}#sk-container-id-1 div.sk-item {position: relative;z-index: 1;}#sk-container-id-1 div.sk-parallel {display: flex;align-items: stretch;justify-content: center;background-color: white;position: relative;}#sk-container-id-1 div.sk-item::before, #sk-container-id-1 div.sk-parallel-item::before {content: \"\";position: absolute;border-left: 1px solid gray;box-sizing: border-box;top: 0;bottom: 0;left: 50%;z-index: -1;}#sk-container-id-1 div.sk-parallel-item {display: flex;flex-direction: column;z-index: 1;position: relative;background-color: white;}#sk-container-id-1 div.sk-parallel-item:first-child::after {align-self: flex-end;width: 50%;}#sk-container-id-1 div.sk-parallel-item:last-child::after {align-self: flex-start;width: 50%;}#sk-container-id-1 div.sk-parallel-item:only-child::after {width: 0;}#sk-container-id-1 div.sk-dashed-wrapped {border: 1px dashed gray;margin: 0 0.4em 0.5em 0.4em;box-sizing: border-box;padding-bottom: 0.4em;background-color: white;}#sk-container-id-1 div.sk-label label {font-family: monospace;font-weight: bold;display: inline-block;line-height: 1.2em;}#sk-container-id-1 div.sk-label-container {text-align: center;}#sk-container-id-1 div.sk-container {/* jupyter's `normalize.less` sets `[hidden] { display: none; }` but bootstrap.min.css set `[hidden] { display: none !important; }` so we also need the `!important` here to be able to override the default hidden behavior on the sphinx rendered scikit-learn.org. See: https://github.com/scikit-learn/scikit-learn/issues/21755 */display: inline-block !important;position: relative;}#sk-container-id-1 div.sk-text-repr-fallback {display: none;}</style><div id=\"sk-container-id-1\" class=\"sk-top-container\"><div class=\"sk-text-repr-fallback\"><pre>StandardScaler()</pre><b>In a Jupyter environment, please rerun this cell to show the HTML representation or trust the notebook. <br />On GitHub, the HTML representation is unable to render, please try loading this page with nbviewer.org.</b></div><div class=\"sk-container\" hidden><div class=\"sk-item\"><div class=\"sk-estimator sk-toggleable\"><input class=\"sk-toggleable__control sk-hidden--visually\" id=\"sk-estimator-id-1\" type=\"checkbox\" checked><label for=\"sk-estimator-id-1\" class=\"sk-toggleable__label sk-toggleable__label-arrow\">StandardScaler</label><div class=\"sk-toggleable__content\"><pre>StandardScaler()</pre></div></div></div></div></div>"
      ],
      "text/plain": [
       "StandardScaler()"
      ]
     },
     "execution_count": 12,
     "metadata": {},
     "output_type": "execute_result"
    }
   ],
   "source": [
    "numeric_features = ['longitud', 'latitud', 'property_rooms', 'property_bedrooms',\n",
    "                    'property_surface_total', 'property_surface_covered']\n",
    "\n",
    "sscaler = StandardScaler()\n",
    "sscaler.fit(x_train_class.loc[:, numeric_features])"
   ]
  },
  {
   "cell_type": "code",
   "execution_count": 13,
   "metadata": {},
   "outputs": [],
   "source": [
    "x_train_class.loc[:, numeric_features] = sscaler.transform(x_train_class.loc[:, numeric_features])\n",
    "x_test_class.loc[:, numeric_features] = sscaler.transform(x_test_class.loc[:, numeric_features])"
   ]
  },
  {
   "cell_type": "markdown",
   "metadata": {},
   "source": [
    "#### Modelo de clasificacion"
   ]
  },
  {
   "cell_type": "code",
   "execution_count": 14,
   "metadata": {},
   "outputs": [],
   "source": [
    "in_class = len(features_classification)\n",
    "out_class = len(y_train_class.unique())"
   ]
  },
  {
   "cell_type": "code",
   "execution_count": 18,
   "metadata": {},
   "outputs": [],
   "source": [
    "def classification_model_builder(hp):\n",
    "    max_neurons = 50\n",
    "    model = keras.Sequential()\n",
    "    model.add(keras.Input(shape=(in_class,)))\n",
    "    \n",
    "    hp_units_1 = hp.Int('units_1', min_value=out_class, max_value=max_neurons, step=1)\n",
    "    hp_activation_1 = hp.Choice('activation_1', values=['relu', 'tanh', 'sigmoid', 'softmax'])\n",
    "    model.add(keras.layers.Dense(units=hp_units_1, activation=hp_activation_1, name=\"layer1\"))\n",
    "    \n",
    "    hp_units_2 = hp.Int('units_2', min_value=out_class, max_value=max_neurons, step=1)\n",
    "    hp_activation_2 = hp.Choice('activation_2', values=['relu', 'tanh', 'sigmoid', 'softmax'])\n",
    "    model.add(keras.layers.Dense(units=hp_units_2, activation=hp_activation_2, name=\"layer2\"))\n",
    "    \n",
    "    model.add(keras.layers.Dense(units=out_class, activation='softmax', name=\"output\"))\n",
    "    \n",
    "    hp_learning_rate = hp.Choice('learning_rate', values=[1e-1, 1e-2, 1e-3, 1e-4, 1e-5, 1e-6])\n",
    "    model.compile(\n",
    "        optimizer=keras.optimizers.SGD(learning_rate=hp_learning_rate),\n",
    "        loss='sparse_categorical_crossentropy',\n",
    "        metrics=['accuracy']\n",
    "    )\n",
    "    \n",
    "    return model"
   ]
  },
  {
   "cell_type": "code",
   "execution_count": 20,
   "metadata": {},
   "outputs": [],
   "source": [
    "class_tuner = kt.RandomSearch(\n",
    "    classification_model_builder,\n",
    "    objective='val_accuracy',\n",
    "    max_trials=20\n",
    ")"
   ]
  },
  {
   "cell_type": "code",
   "execution_count": 22,
   "metadata": {
    "scrolled": true
   },
   "outputs": [
    {
     "name": "stdout",
     "output_type": "stream",
     "text": [
      "Trial 20 Complete [00h 00m 18s]\n",
      "val_accuracy: 0.5001837611198425\n",
      "\n",
      "Best val_accuracy So Far: 0.5922958254814148\n",
      "Total elapsed time: 00h 05m 27s\n",
      "INFO:tensorflow:Oracle triggered exit\n"
     ]
    }
   ],
   "source": [
    "class_history = class_tuner.search(x_train_class, y_train_class.to_numpy(), epochs=100, batch_size=700, validation_split=0.2)"
   ]
  },
  {
   "cell_type": "code",
   "execution_count": 23,
   "metadata": {},
   "outputs": [
    {
     "name": "stdout",
     "output_type": "stream",
     "text": [
      "Hiperparametros Optimos Encontrados\n",
      "  · Neuronas primera capa:  21\n",
      "  · Activavion primera capa:  tanh\n",
      "  · Neuronas segunda capa:  30\n",
      "  · Activavion segunda capa:  softmax\n",
      "  · Learning rate:  0.1\n"
     ]
    }
   ],
   "source": [
    "best_class_hps = class_tuner.get_best_hyperparameters()[0]\n",
    "print(\"Hiperparametros Optimos Encontrados\")\n",
    "print(\"  · Neuronas primera capa: \", best_class_hps.get('units_1'))\n",
    "print(\"  · Activavion primera capa: \", best_class_hps.get('activation_1'))\n",
    "print(\"  · Neuronas segunda capa: \", best_class_hps.get('units_2'))\n",
    "print(\"  · Activavion segunda capa: \", best_class_hps.get('activation_2'))\n",
    "print(\"  · Learning rate: \", best_class_hps.get('learning_rate'))"
   ]
  },
  {
   "cell_type": "code",
   "execution_count": 24,
   "metadata": {},
   "outputs": [],
   "source": [
    "class_model = keras.Sequential(\n",
    "    [\n",
    "        keras.Input(shape=(in_class,)),\n",
    "        keras.layers.Dense(units=21, activation='tanh', name=\"layer1\"),\n",
    "        keras.layers.Dense(units=30, activation='softmax', name=\"layer2\"),\n",
    "        keras.layers.Dense(units=out_class, activation='softmax', name=\"output\")\n",
    "    ]\n",
    ")"
   ]
  },
  {
   "cell_type": "code",
   "execution_count": 25,
   "metadata": {},
   "outputs": [
    {
     "name": "stdout",
     "output_type": "stream",
     "text": [
      "Model: \"sequential_1\"\n",
      "_________________________________________________________________\n",
      " Layer (type)                Output Shape              Param #   \n",
      "=================================================================\n",
      " layer1 (Dense)              (None, 21)                189       \n",
      "                                                                 \n",
      " layer2 (Dense)              (None, 30)                660       \n",
      "                                                                 \n",
      " output (Dense)              (None, 3)                 93        \n",
      "                                                                 \n",
      "=================================================================\n",
      "Total params: 942\n",
      "Trainable params: 942\n",
      "Non-trainable params: 0\n",
      "_________________________________________________________________\n"
     ]
    }
   ],
   "source": [
    "class_model.summary()"
   ]
  },
  {
   "cell_type": "code",
   "execution_count": 26,
   "metadata": {},
   "outputs": [],
   "source": [
    "class_model.compile(\n",
    "    optimizer=keras.optimizers.SGD(learning_rate=0.1),\n",
    "    loss='sparse_categorical_crossentropy',\n",
    "    metrics=['accuracy']\n",
    ")"
   ]
  },
  {
   "cell_type": "code",
   "execution_count": 27,
   "metadata": {},
   "outputs": [
    {
     "name": "stdout",
     "output_type": "stream",
     "text": [
      "Epoch 1/100\n",
      "78/78 [==============================] - 1s 3ms/step - loss: 1.0537 - accuracy: 0.4891 - val_loss: 1.0411 - val_accuracy: 0.5003\n",
      "Epoch 2/100\n",
      "78/78 [==============================] - 0s 2ms/step - loss: 1.0403 - accuracy: 0.4997 - val_loss: 1.0389 - val_accuracy: 0.5003\n",
      "Epoch 3/100\n",
      "78/78 [==============================] - 0s 2ms/step - loss: 1.0382 - accuracy: 0.4997 - val_loss: 1.0369 - val_accuracy: 0.5003\n",
      "Epoch 4/100\n",
      "78/78 [==============================] - 0s 2ms/step - loss: 1.0361 - accuracy: 0.4997 - val_loss: 1.0348 - val_accuracy: 0.5003\n",
      "Epoch 5/100\n",
      "78/78 [==============================] - 0s 2ms/step - loss: 1.0338 - accuracy: 0.4997 - val_loss: 1.0325 - val_accuracy: 0.5003\n",
      "Epoch 6/100\n",
      "78/78 [==============================] - 0s 2ms/step - loss: 1.0313 - accuracy: 0.4997 - val_loss: 1.0300 - val_accuracy: 0.5003\n",
      "Epoch 7/100\n",
      "78/78 [==============================] - 0s 2ms/step - loss: 1.0286 - accuracy: 0.4997 - val_loss: 1.0271 - val_accuracy: 0.5003\n",
      "Epoch 8/100\n",
      "78/78 [==============================] - 0s 2ms/step - loss: 1.0253 - accuracy: 0.4997 - val_loss: 1.0237 - val_accuracy: 0.5003\n",
      "Epoch 9/100\n",
      "78/78 [==============================] - 0s 2ms/step - loss: 1.0213 - accuracy: 0.4997 - val_loss: 1.0194 - val_accuracy: 0.5003\n",
      "Epoch 10/100\n",
      "78/78 [==============================] - 0s 2ms/step - loss: 1.0163 - accuracy: 0.4997 - val_loss: 1.0139 - val_accuracy: 0.5003\n",
      "Epoch 11/100\n",
      "78/78 [==============================] - 0s 2ms/step - loss: 1.0096 - accuracy: 0.4997 - val_loss: 1.0064 - val_accuracy: 0.5003\n",
      "Epoch 12/100\n",
      "78/78 [==============================] - 0s 2ms/step - loss: 1.0003 - accuracy: 0.5011 - val_loss: 0.9959 - val_accuracy: 0.5032\n",
      "Epoch 13/100\n",
      "78/78 [==============================] - 0s 2ms/step - loss: 0.9880 - accuracy: 0.5085 - val_loss: 0.9831 - val_accuracy: 0.5114\n",
      "Epoch 14/100\n",
      "78/78 [==============================] - 0s 2ms/step - loss: 0.9748 - accuracy: 0.5144 - val_loss: 0.9711 - val_accuracy: 0.5138\n",
      "Epoch 15/100\n",
      "78/78 [==============================] - 0s 2ms/step - loss: 0.9636 - accuracy: 0.5158 - val_loss: 0.9618 - val_accuracy: 0.5124\n",
      "Epoch 16/100\n",
      "78/78 [==============================] - 0s 2ms/step - loss: 0.9551 - accuracy: 0.5130 - val_loss: 0.9547 - val_accuracy: 0.5081\n",
      "Epoch 17/100\n",
      "78/78 [==============================] - 0s 2ms/step - loss: 0.9487 - accuracy: 0.5121 - val_loss: 0.9493 - val_accuracy: 0.5096\n",
      "Epoch 18/100\n",
      "78/78 [==============================] - 0s 2ms/step - loss: 0.9437 - accuracy: 0.5113 - val_loss: 0.9452 - val_accuracy: 0.5078\n",
      "Epoch 19/100\n",
      "78/78 [==============================] - 0s 2ms/step - loss: 0.9400 - accuracy: 0.5111 - val_loss: 0.9418 - val_accuracy: 0.5081\n",
      "Epoch 20/100\n",
      "78/78 [==============================] - 0s 2ms/step - loss: 0.9369 - accuracy: 0.5097 - val_loss: 0.9392 - val_accuracy: 0.5072\n",
      "Epoch 21/100\n",
      "78/78 [==============================] - 0s 2ms/step - loss: 0.9343 - accuracy: 0.5094 - val_loss: 0.9368 - val_accuracy: 0.5069\n",
      "Epoch 22/100\n",
      "78/78 [==============================] - 0s 2ms/step - loss: 0.9321 - accuracy: 0.5082 - val_loss: 0.9348 - val_accuracy: 0.5069\n",
      "Epoch 23/100\n",
      "78/78 [==============================] - 0s 2ms/step - loss: 0.9300 - accuracy: 0.5078 - val_loss: 0.9328 - val_accuracy: 0.5069\n",
      "Epoch 24/100\n",
      "78/78 [==============================] - 0s 2ms/step - loss: 0.9282 - accuracy: 0.5077 - val_loss: 0.9310 - val_accuracy: 0.5071\n",
      "Epoch 25/100\n",
      "78/78 [==============================] - 0s 2ms/step - loss: 0.9263 - accuracy: 0.5077 - val_loss: 0.9293 - val_accuracy: 0.5067\n",
      "Epoch 26/100\n",
      "78/78 [==============================] - 0s 2ms/step - loss: 0.9245 - accuracy: 0.5083 - val_loss: 0.9276 - val_accuracy: 0.5106\n",
      "Epoch 27/100\n",
      "78/78 [==============================] - 0s 2ms/step - loss: 0.9228 - accuracy: 0.5136 - val_loss: 0.9259 - val_accuracy: 0.5160\n",
      "Epoch 28/100\n",
      "78/78 [==============================] - 0s 2ms/step - loss: 0.9210 - accuracy: 0.5208 - val_loss: 0.9243 - val_accuracy: 0.5194\n",
      "Epoch 29/100\n",
      "78/78 [==============================] - 0s 2ms/step - loss: 0.9194 - accuracy: 0.5240 - val_loss: 0.9227 - val_accuracy: 0.5217\n",
      "Epoch 30/100\n",
      "78/78 [==============================] - 0s 2ms/step - loss: 0.9177 - accuracy: 0.5271 - val_loss: 0.9211 - val_accuracy: 0.5219\n",
      "Epoch 31/100\n",
      "78/78 [==============================] - 0s 2ms/step - loss: 0.9161 - accuracy: 0.5272 - val_loss: 0.9195 - val_accuracy: 0.5239\n",
      "Epoch 32/100\n",
      "78/78 [==============================] - 0s 2ms/step - loss: 0.9144 - accuracy: 0.5281 - val_loss: 0.9179 - val_accuracy: 0.5256\n",
      "Epoch 33/100\n",
      "78/78 [==============================] - 0s 2ms/step - loss: 0.9127 - accuracy: 0.5310 - val_loss: 0.9164 - val_accuracy: 0.5275\n",
      "Epoch 34/100\n",
      "78/78 [==============================] - 0s 2ms/step - loss: 0.9110 - accuracy: 0.5331 - val_loss: 0.9148 - val_accuracy: 0.5291\n",
      "Epoch 35/100\n",
      "78/78 [==============================] - 0s 2ms/step - loss: 0.9093 - accuracy: 0.5361 - val_loss: 0.9132 - val_accuracy: 0.5328\n",
      "Epoch 36/100\n",
      "78/78 [==============================] - 0s 2ms/step - loss: 0.9077 - accuracy: 0.5389 - val_loss: 0.9118 - val_accuracy: 0.5330\n",
      "Epoch 37/100\n",
      "78/78 [==============================] - 0s 2ms/step - loss: 0.9061 - accuracy: 0.5410 - val_loss: 0.9104 - val_accuracy: 0.5342\n",
      "Epoch 38/100\n",
      "78/78 [==============================] - 0s 2ms/step - loss: 0.9046 - accuracy: 0.5418 - val_loss: 0.9090 - val_accuracy: 0.5328\n",
      "Epoch 39/100\n",
      "78/78 [==============================] - 0s 2ms/step - loss: 0.9031 - accuracy: 0.5435 - val_loss: 0.9078 - val_accuracy: 0.5352\n",
      "Epoch 40/100\n",
      "78/78 [==============================] - 0s 2ms/step - loss: 0.9018 - accuracy: 0.5449 - val_loss: 0.9068 - val_accuracy: 0.5357\n",
      "Epoch 41/100\n",
      "78/78 [==============================] - 0s 2ms/step - loss: 0.9006 - accuracy: 0.5446 - val_loss: 0.9056 - val_accuracy: 0.5379\n",
      "Epoch 42/100\n",
      "78/78 [==============================] - 0s 2ms/step - loss: 0.8995 - accuracy: 0.5457 - val_loss: 0.9047 - val_accuracy: 0.5408\n",
      "Epoch 43/100\n",
      "78/78 [==============================] - 0s 2ms/step - loss: 0.8984 - accuracy: 0.5462 - val_loss: 0.9037 - val_accuracy: 0.5416\n",
      "Epoch 44/100\n",
      "78/78 [==============================] - 0s 2ms/step - loss: 0.8975 - accuracy: 0.5479 - val_loss: 0.9030 - val_accuracy: 0.5416\n",
      "Epoch 45/100\n",
      "78/78 [==============================] - 0s 2ms/step - loss: 0.8965 - accuracy: 0.5493 - val_loss: 0.9022 - val_accuracy: 0.5413\n",
      "Epoch 46/100\n",
      "78/78 [==============================] - 0s 2ms/step - loss: 0.8956 - accuracy: 0.5499 - val_loss: 0.9014 - val_accuracy: 0.5433\n",
      "Epoch 47/100\n",
      "78/78 [==============================] - 0s 2ms/step - loss: 0.8948 - accuracy: 0.5493 - val_loss: 0.9005 - val_accuracy: 0.5452\n",
      "Epoch 48/100\n",
      "78/78 [==============================] - 0s 2ms/step - loss: 0.8940 - accuracy: 0.5511 - val_loss: 0.8998 - val_accuracy: 0.5452\n",
      "Epoch 49/100\n",
      "78/78 [==============================] - 0s 2ms/step - loss: 0.8932 - accuracy: 0.5517 - val_loss: 0.8989 - val_accuracy: 0.5477\n",
      "Epoch 50/100\n",
      "78/78 [==============================] - 0s 2ms/step - loss: 0.8923 - accuracy: 0.5530 - val_loss: 0.8980 - val_accuracy: 0.5476\n",
      "Epoch 51/100\n",
      "78/78 [==============================] - 0s 2ms/step - loss: 0.8915 - accuracy: 0.5534 - val_loss: 0.8971 - val_accuracy: 0.5491\n",
      "Epoch 52/100\n",
      "78/78 [==============================] - 0s 2ms/step - loss: 0.8906 - accuracy: 0.5542 - val_loss: 0.8962 - val_accuracy: 0.5487\n",
      "Epoch 53/100\n",
      "78/78 [==============================] - 0s 2ms/step - loss: 0.8897 - accuracy: 0.5544 - val_loss: 0.8952 - val_accuracy: 0.5502\n",
      "Epoch 54/100\n",
      "78/78 [==============================] - 0s 2ms/step - loss: 0.8887 - accuracy: 0.5553 - val_loss: 0.8942 - val_accuracy: 0.5517\n",
      "Epoch 55/100\n",
      "78/78 [==============================] - 0s 2ms/step - loss: 0.8878 - accuracy: 0.5566 - val_loss: 0.8931 - val_accuracy: 0.5505\n",
      "Epoch 56/100\n",
      "78/78 [==============================] - 0s 2ms/step - loss: 0.8868 - accuracy: 0.5572 - val_loss: 0.8920 - val_accuracy: 0.5521\n",
      "Epoch 57/100\n",
      "78/78 [==============================] - 0s 2ms/step - loss: 0.8858 - accuracy: 0.5579 - val_loss: 0.8910 - val_accuracy: 0.5526\n",
      "Epoch 58/100\n",
      "78/78 [==============================] - 0s 2ms/step - loss: 0.8847 - accuracy: 0.5586 - val_loss: 0.8897 - val_accuracy: 0.5547\n"
     ]
    },
    {
     "name": "stdout",
     "output_type": "stream",
     "text": [
      "Epoch 59/100\n",
      "78/78 [==============================] - 0s 2ms/step - loss: 0.8836 - accuracy: 0.5602 - val_loss: 0.8885 - val_accuracy: 0.5575\n",
      "Epoch 60/100\n",
      "78/78 [==============================] - 0s 2ms/step - loss: 0.8825 - accuracy: 0.5624 - val_loss: 0.8872 - val_accuracy: 0.5582\n",
      "Epoch 61/100\n",
      "78/78 [==============================] - 0s 2ms/step - loss: 0.8814 - accuracy: 0.5625 - val_loss: 0.8860 - val_accuracy: 0.5581\n",
      "Epoch 62/100\n",
      "78/78 [==============================] - 0s 2ms/step - loss: 0.8802 - accuracy: 0.5641 - val_loss: 0.8847 - val_accuracy: 0.5587\n",
      "Epoch 63/100\n",
      "78/78 [==============================] - 0s 2ms/step - loss: 0.8791 - accuracy: 0.5655 - val_loss: 0.8834 - val_accuracy: 0.5598\n",
      "Epoch 64/100\n",
      "78/78 [==============================] - 0s 2ms/step - loss: 0.8780 - accuracy: 0.5650 - val_loss: 0.8820 - val_accuracy: 0.5630\n",
      "Epoch 65/100\n",
      "78/78 [==============================] - 0s 2ms/step - loss: 0.8768 - accuracy: 0.5669 - val_loss: 0.8808 - val_accuracy: 0.5626\n",
      "Epoch 66/100\n",
      "78/78 [==============================] - 0s 2ms/step - loss: 0.8756 - accuracy: 0.5677 - val_loss: 0.8795 - val_accuracy: 0.5627\n",
      "Epoch 67/100\n",
      "78/78 [==============================] - 0s 2ms/step - loss: 0.8744 - accuracy: 0.5687 - val_loss: 0.8782 - val_accuracy: 0.5677\n",
      "Epoch 68/100\n",
      "78/78 [==============================] - 0s 2ms/step - loss: 0.8732 - accuracy: 0.5696 - val_loss: 0.8769 - val_accuracy: 0.5670\n",
      "Epoch 69/100\n",
      "78/78 [==============================] - 0s 2ms/step - loss: 0.8720 - accuracy: 0.5705 - val_loss: 0.8756 - val_accuracy: 0.5695\n",
      "Epoch 70/100\n",
      "78/78 [==============================] - 0s 2ms/step - loss: 0.8708 - accuracy: 0.5721 - val_loss: 0.8744 - val_accuracy: 0.5708\n",
      "Epoch 71/100\n",
      "78/78 [==============================] - 0s 2ms/step - loss: 0.8695 - accuracy: 0.5729 - val_loss: 0.8731 - val_accuracy: 0.5706\n",
      "Epoch 72/100\n",
      "78/78 [==============================] - 0s 2ms/step - loss: 0.8681 - accuracy: 0.5747 - val_loss: 0.8718 - val_accuracy: 0.5741\n",
      "Epoch 73/100\n",
      "78/78 [==============================] - 0s 2ms/step - loss: 0.8669 - accuracy: 0.5758 - val_loss: 0.8704 - val_accuracy: 0.5743\n",
      "Epoch 74/100\n",
      "78/78 [==============================] - 0s 2ms/step - loss: 0.8656 - accuracy: 0.5778 - val_loss: 0.8690 - val_accuracy: 0.5771\n",
      "Epoch 75/100\n",
      "78/78 [==============================] - 0s 2ms/step - loss: 0.8642 - accuracy: 0.5782 - val_loss: 0.8678 - val_accuracy: 0.5780\n",
      "Epoch 76/100\n",
      "78/78 [==============================] - 0s 2ms/step - loss: 0.8629 - accuracy: 0.5801 - val_loss: 0.8664 - val_accuracy: 0.5790\n",
      "Epoch 77/100\n",
      "78/78 [==============================] - 0s 2ms/step - loss: 0.8616 - accuracy: 0.5822 - val_loss: 0.8652 - val_accuracy: 0.5814\n",
      "Epoch 78/100\n",
      "78/78 [==============================] - 0s 2ms/step - loss: 0.8604 - accuracy: 0.5831 - val_loss: 0.8642 - val_accuracy: 0.5812\n",
      "Epoch 79/100\n",
      "78/78 [==============================] - 0s 2ms/step - loss: 0.8592 - accuracy: 0.5849 - val_loss: 0.8628 - val_accuracy: 0.5842\n",
      "Epoch 80/100\n",
      "78/78 [==============================] - 0s 2ms/step - loss: 0.8579 - accuracy: 0.5865 - val_loss: 0.8620 - val_accuracy: 0.5843\n",
      "Epoch 81/100\n",
      "78/78 [==============================] - 0s 2ms/step - loss: 0.8569 - accuracy: 0.5866 - val_loss: 0.8606 - val_accuracy: 0.5869\n",
      "Epoch 82/100\n",
      "78/78 [==============================] - 0s 2ms/step - loss: 0.8558 - accuracy: 0.5882 - val_loss: 0.8598 - val_accuracy: 0.5878\n",
      "Epoch 83/100\n",
      "78/78 [==============================] - 0s 2ms/step - loss: 0.8547 - accuracy: 0.5893 - val_loss: 0.8588 - val_accuracy: 0.5896\n",
      "Epoch 84/100\n",
      "78/78 [==============================] - 0s 2ms/step - loss: 0.8538 - accuracy: 0.5909 - val_loss: 0.8577 - val_accuracy: 0.5910\n",
      "Epoch 85/100\n",
      "78/78 [==============================] - 0s 2ms/step - loss: 0.8528 - accuracy: 0.5909 - val_loss: 0.8570 - val_accuracy: 0.5917\n",
      "Epoch 86/100\n",
      "78/78 [==============================] - 0s 2ms/step - loss: 0.8519 - accuracy: 0.5922 - val_loss: 0.8561 - val_accuracy: 0.5930\n",
      "Epoch 87/100\n",
      "78/78 [==============================] - 0s 2ms/step - loss: 0.8511 - accuracy: 0.5930 - val_loss: 0.8552 - val_accuracy: 0.5945\n",
      "Epoch 88/100\n",
      "78/78 [==============================] - 0s 2ms/step - loss: 0.8502 - accuracy: 0.5944 - val_loss: 0.8550 - val_accuracy: 0.5954\n",
      "Epoch 89/100\n",
      "78/78 [==============================] - 0s 2ms/step - loss: 0.8495 - accuracy: 0.5948 - val_loss: 0.8541 - val_accuracy: 0.5951\n",
      "Epoch 90/100\n",
      "78/78 [==============================] - 0s 2ms/step - loss: 0.8487 - accuracy: 0.5949 - val_loss: 0.8538 - val_accuracy: 0.5927\n",
      "Epoch 91/100\n",
      "78/78 [==============================] - 0s 2ms/step - loss: 0.8480 - accuracy: 0.5960 - val_loss: 0.8529 - val_accuracy: 0.5938\n",
      "Epoch 92/100\n",
      "78/78 [==============================] - 0s 2ms/step - loss: 0.8474 - accuracy: 0.5966 - val_loss: 0.8522 - val_accuracy: 0.5956\n",
      "Epoch 93/100\n",
      "78/78 [==============================] - 0s 2ms/step - loss: 0.8468 - accuracy: 0.5963 - val_loss: 0.8513 - val_accuracy: 0.5954\n",
      "Epoch 94/100\n",
      "78/78 [==============================] - 0s 2ms/step - loss: 0.8461 - accuracy: 0.5971 - val_loss: 0.8509 - val_accuracy: 0.5964\n",
      "Epoch 95/100\n",
      "78/78 [==============================] - 0s 2ms/step - loss: 0.8455 - accuracy: 0.5980 - val_loss: 0.8501 - val_accuracy: 0.5952\n",
      "Epoch 96/100\n",
      "78/78 [==============================] - 0s 2ms/step - loss: 0.8450 - accuracy: 0.5983 - val_loss: 0.8506 - val_accuracy: 0.5959\n",
      "Epoch 97/100\n",
      "78/78 [==============================] - 0s 2ms/step - loss: 0.8444 - accuracy: 0.5974 - val_loss: 0.8496 - val_accuracy: 0.5942\n",
      "Epoch 98/100\n",
      "78/78 [==============================] - 0s 2ms/step - loss: 0.8440 - accuracy: 0.5979 - val_loss: 0.8485 - val_accuracy: 0.5961\n",
      "Epoch 99/100\n",
      "78/78 [==============================] - 0s 2ms/step - loss: 0.8434 - accuracy: 0.5987 - val_loss: 0.8482 - val_accuracy: 0.5963\n",
      "Epoch 100/100\n",
      "78/78 [==============================] - 0s 2ms/step - loss: 0.8427 - accuracy: 0.5991 - val_loss: 0.8484 - val_accuracy: 0.5964\n"
     ]
    },
    {
     "data": {
      "text/plain": [
       "<keras.callbacks.History at 0x7fe49032cf10>"
      ]
     },
     "execution_count": 27,
     "metadata": {},
     "output_type": "execute_result"
    }
   ],
   "source": [
    "class_model.fit(x_train_class, y_train_class.to_numpy(), epochs=100, batch_size=700, validation_split=0.2)"
   ]
  },
  {
   "cell_type": "code",
   "execution_count": 28,
   "metadata": {},
   "outputs": [
    {
     "name": "stdout",
     "output_type": "stream",
     "text": [
      "532/532 [==============================] - 0s 708us/step\n"
     ]
    }
   ],
   "source": [
    "y_pred_class = class_model.predict(x_test_class)"
   ]
  },
  {
   "cell_type": "code",
   "execution_count": 29,
   "metadata": {},
   "outputs": [],
   "source": [
    "y_pred_class = np.argmax(y_pred_class ,axis = 1)"
   ]
  },
  {
   "cell_type": "code",
   "execution_count": 30,
   "metadata": {},
   "outputs": [
    {
     "name": "stdout",
     "output_type": "stream",
     "text": [
      "  Accuracy : 0.60\n"
     ]
    }
   ],
   "source": [
    "print(\"  Accuracy : %.2f\" % accuracy_score(y_test_class.to_numpy(), y_pred_class))"
   ]
  },
  {
   "cell_type": "markdown",
   "metadata": {},
   "source": [
    "TODO: otras metricas, mejorar matriz de confusion"
   ]
  },
  {
   "cell_type": "code",
   "execution_count": 36,
   "metadata": {},
   "outputs": [
    {
     "data": {
      "text/plain": [
       "<Figure size 2000x1000 with 0 Axes>"
      ]
     },
     "metadata": {},
     "output_type": "display_data"
    },
    {
     "data": {
      "image/png": "[encoded data removed]",
      "text/plain": [
       "<Figure size 1000x1000 with 2 Axes>"
      ]
     },
     "metadata": {},
     "output_type": "display_data"
    }
   ],
   "source": [
    "class_labels = [\"bajo\", \"medio\", \"alto\"]\n",
    "\n",
    "plt.figure(figsize=(20,10))\n",
    "cm = confusion_matrix(y_test_class.to_numpy(), y_pred_class)\n",
    "disp = ConfusionMatrixDisplay(confusion_matrix=cm)\n",
    "fig, ax = plt.subplots(figsize=(10,10))\n",
    "#ax.title.set_text(legend)\n",
    "disp.plot(ax=ax)\n",
    "plt.show()"
   ]
  },
  {
   "cell_type": "code",
   "execution_count": null,
   "metadata": {},
   "outputs": [],
   "source": []
  }
 ],
 "metadata": {
  "kernelspec": {
   "display_name": "Python 3 (ipykernel)",
   "language": "python",
   "name": "python3"
  },
  "language_info": {
   "codemirror_mode": {
    "name": "ipython",
    "version": 3
   },
   "file_extension": ".py",
   "mimetype": "text/x-python",
   "name": "python",
   "nbconvert_exporter": "python",
   "pygments_lexer": "ipython3",
   "version": "3.10.8"
  },
  "vscode": {
   "interpreter": {
    "hash": "58a64575c8cfdef51510e9edeb704e817dc2041b90101eeff0eafbccde98456f"
   }
  }
 },
 "nbformat": 4,
 "nbformat_minor": 2
}
